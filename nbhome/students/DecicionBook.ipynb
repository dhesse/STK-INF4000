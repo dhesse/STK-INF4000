{
 "cells": [
  {
   "cell_type": "code",
   "execution_count": 1,
   "metadata": {
    "collapsed": false,
    "deletable": true,
    "editable": true
   },
   "outputs": [
    {
     "data": {
      "text/plain": [
       "<pyspark.context.SparkContext at 0x7fabc2522410>"
      ]
     },
     "execution_count": 1,
     "metadata": {},
     "output_type": "execute_result"
    }
   ],
   "source": [
    "sc"
   ]
  },
  {
   "cell_type": "code",
   "execution_count": 2,
   "metadata": {
    "collapsed": false,
    "deletable": true,
    "editable": true
   },
   "outputs": [],
   "source": [
    "raw_data = sc.textFile('/home/simon/School/STK-INF4000/Project/Data/merged_data.csv')"
   ]
  },
  {
   "cell_type": "code",
   "execution_count": 3,
   "metadata": {
    "collapsed": false,
    "deletable": true,
    "editable": true
   },
   "outputs": [
    {
     "data": {
      "text/plain": [
       "[u'Start station', u'Start time', u'End station', u'End time']"
      ]
     },
     "execution_count": 3,
     "metadata": {},
     "output_type": "execute_result"
    }
   ],
   "source": [
    "fields = raw_data.filter(lambda line: line.startswith(',S')).take(1)[0].split(',')[1:]\n",
    "fields"
   ]
  },
  {
   "cell_type": "code",
   "execution_count": 4,
   "metadata": {
    "collapsed": false,
    "deletable": true,
    "editable": true
   },
   "outputs": [],
   "source": [
    "from datetime import datetime\n",
    "\n",
    "def ymd_hm(datestr):\n",
    "    try:\n",
    "        return datetime.strptime(datestr, '%Y-%m-%d %H:%M:%S')\n",
    "    except ValueError:\n",
    "        return None"
   ]
  },
  {
   "cell_type": "code",
   "execution_count": 5,
   "metadata": {
    "collapsed": false,
    "deletable": true,
    "editable": true
   },
   "outputs": [
    {
     "data": {
      "text/plain": [
       "[(227, datetime.datetime(2016, 4, 1, 7, 15, 4)),\n",
       " (267, datetime.datetime(2016, 4, 1, 7, 22, 36)),\n",
       " (302, datetime.datetime(2016, 4, 1, 9, 3, 43)),\n",
       " (202, datetime.datetime(2016, 4, 1, 9, 53, 28)),\n",
       " (202, datetime.datetime(2016, 4, 1, 9, 54, 38)),\n",
       " (210, datetime.datetime(2016, 4, 1, 12, 48, 47)),\n",
       " (243, datetime.datetime(2016, 4, 1, 13, 7, 6)),\n",
       " (243, datetime.datetime(2016, 4, 1, 13, 7, 37)),\n",
       " (181, datetime.datetime(2016, 4, 1, 13, 10, 20)),\n",
       " (160, datetime.datetime(2016, 4, 1, 13, 47, 37))]"
      ]
     },
     "execution_count": 5,
     "metadata": {},
     "output_type": "execute_result"
    }
   ],
   "source": [
    "(raw_data.filter(lambda line: not line.startswith(',S'))\n",
    " .map(lambda x: x.split(',')[1:])\n",
    " .map(lambda (startstation, starttime, endstation, endtime) : (int(float(startstation)), ymd_hm(starttime[:-6])))).take(10)"
   ]
  },
  {
   "cell_type": "code",
   "execution_count": 6,
   "metadata": {
    "collapsed": false,
    "deletable": true,
    "editable": true
   },
   "outputs": [],
   "source": [
    "dates = (raw_data.filter(lambda line: not line.startswith(',S'))\n",
    " .map(lambda x: x.split(',')[1:])\n",
    " .map(lambda (startstation, starttime, endstation, endtime) : ymd_hm(starttime[:-6])))"
   ]
  },
  {
   "cell_type": "code",
   "execution_count": 7,
   "metadata": {
    "collapsed": false,
    "deletable": true,
    "editable": true
   },
   "outputs": [
    {
     "data": {
      "text/plain": [
       "[datetime.datetime(2016, 4, 1, 7, 15, 4),\n",
       " datetime.datetime(2016, 4, 1, 7, 22, 36),\n",
       " datetime.datetime(2016, 4, 1, 9, 3, 43),\n",
       " datetime.datetime(2016, 4, 1, 9, 53, 28),\n",
       " datetime.datetime(2016, 4, 1, 9, 54, 38),\n",
       " datetime.datetime(2016, 4, 1, 12, 48, 47),\n",
       " datetime.datetime(2016, 4, 1, 13, 7, 6),\n",
       " datetime.datetime(2016, 4, 1, 13, 7, 37),\n",
       " datetime.datetime(2016, 4, 1, 13, 10, 20),\n",
       " datetime.datetime(2016, 4, 1, 13, 47, 37),\n",
       " datetime.datetime(2016, 4, 1, 14, 18, 3),\n",
       " datetime.datetime(2016, 4, 1, 14, 41, 36),\n",
       " datetime.datetime(2016, 4, 1, 14, 41, 43),\n",
       " datetime.datetime(2016, 4, 1, 14, 41, 53),\n",
       " datetime.datetime(2016, 4, 1, 14, 50, 14)]"
      ]
     },
     "execution_count": 7,
     "metadata": {},
     "output_type": "execute_result"
    }
   ],
   "source": [
    "dates.take(15)"
   ]
  },
  {
   "cell_type": "code",
   "execution_count": 8,
   "metadata": {
    "collapsed": true,
    "deletable": true,
    "editable": true
   },
   "outputs": [],
   "source": [
    "from operator import add"
   ]
  },
  {
   "cell_type": "code",
   "execution_count": 9,
   "metadata": {
    "collapsed": true,
    "deletable": true,
    "editable": true
   },
   "outputs": [],
   "source": [
    "whole_hours = dates.map(lambda x: datetime(x.year, x.month, x.day, x.hour))"
   ]
  },
  {
   "cell_type": "code",
   "execution_count": 10,
   "metadata": {
    "collapsed": false,
    "deletable": true,
    "editable": true
   },
   "outputs": [
    {
     "data": {
      "text/plain": [
       "[datetime.datetime(2016, 4, 1, 7, 0),\n",
       " datetime.datetime(2016, 4, 1, 7, 0),\n",
       " datetime.datetime(2016, 4, 1, 9, 0),\n",
       " datetime.datetime(2016, 4, 1, 9, 0),\n",
       " datetime.datetime(2016, 4, 1, 9, 0)]"
      ]
     },
     "execution_count": 10,
     "metadata": {},
     "output_type": "execute_result"
    }
   ],
   "source": [
    "whole_hours.take(5)"
   ]
  },
  {
   "cell_type": "code",
   "execution_count": 11,
   "metadata": {
    "collapsed": true,
    "deletable": true,
    "editable": true
   },
   "outputs": [],
   "source": [
    "hourly_counts = whole_hours.map(lambda x: (x, 1)).reduceByKey(add)"
   ]
  },
  {
   "cell_type": "code",
   "execution_count": 12,
   "metadata": {
    "collapsed": false,
    "deletable": true,
    "editable": true
   },
   "outputs": [
    {
     "data": {
      "text/plain": [
       "[(datetime.datetime(2016, 8, 7, 15, 0), 582),\n",
       " (datetime.datetime(2016, 7, 15, 6, 0), 201),\n",
       " (datetime.datetime(2016, 9, 18, 10, 0), 297),\n",
       " (datetime.datetime(2016, 4, 28, 18, 0), 663),\n",
       " (datetime.datetime(2016, 11, 12, 20, 0), 90)]"
      ]
     },
     "execution_count": 12,
     "metadata": {},
     "output_type": "execute_result"
    }
   ],
   "source": [
    "hourly_counts.take(5)"
   ]
  },
  {
   "cell_type": "code",
   "execution_count": 13,
   "metadata": {
    "collapsed": false,
    "deletable": true,
    "editable": true
   },
   "outputs": [],
   "source": [
    "min_date, max_date = whole_hours.min(), whole_hours.max()"
   ]
  },
  {
   "cell_type": "code",
   "execution_count": 14,
   "metadata": {
    "collapsed": false,
    "deletable": true,
    "editable": true
   },
   "outputs": [
    {
     "data": {
      "text/plain": [
       "(datetime.datetime(2016, 4, 1, 7, 0), datetime.datetime(2016, 12, 5, 23, 0))"
      ]
     },
     "execution_count": 14,
     "metadata": {},
     "output_type": "execute_result"
    }
   ],
   "source": [
    "min_date, max_date"
   ]
  },
  {
   "cell_type": "code",
   "execution_count": 15,
   "metadata": {
    "collapsed": false,
    "deletable": true,
    "editable": true
   },
   "outputs": [],
   "source": [
    "from datetime import timedelta \n",
    "\n",
    "hours = [min_date]\n",
    "while hours[-1] < max_date:\n",
    "    hours.append(hours[-1] + timedelta(hours=1))"
   ]
  },
  {
   "cell_type": "code",
   "execution_count": 16,
   "metadata": {
    "collapsed": true,
    "deletable": true,
    "editable": true
   },
   "outputs": [],
   "source": [
    "all_hours = sc.parallelize(((d, 0) for d in hours))"
   ]
  },
  {
   "cell_type": "code",
   "execution_count": 17,
   "metadata": {
    "collapsed": false,
    "deletable": true,
    "editable": true
   },
   "outputs": [
    {
     "data": {
      "text/plain": [
       "[(datetime.datetime(2016, 4, 1, 7, 0), 0),\n",
       " (datetime.datetime(2016, 4, 1, 8, 0), 0),\n",
       " (datetime.datetime(2016, 4, 1, 9, 0), 0),\n",
       " (datetime.datetime(2016, 4, 1, 10, 0), 0),\n",
       " (datetime.datetime(2016, 4, 1, 11, 0), 0)]"
      ]
     },
     "execution_count": 17,
     "metadata": {},
     "output_type": "execute_result"
    }
   ],
   "source": [
    "all_hours.take(5)"
   ]
  },
  {
   "cell_type": "code",
   "execution_count": 18,
   "metadata": {
    "collapsed": true,
    "deletable": true,
    "editable": true
   },
   "outputs": [],
   "source": [
    "full_counts = all_hours.leftOuterJoin(hourly_counts)"
   ]
  },
  {
   "cell_type": "code",
   "execution_count": 19,
   "metadata": {
    "collapsed": false,
    "deletable": true,
    "editable": true
   },
   "outputs": [],
   "source": [
    "full_counts = all_hours.leftOuterJoin(hourly_counts)"
   ]
  },
  {
   "cell_type": "code",
   "execution_count": 20,
   "metadata": {
    "collapsed": true,
    "deletable": true,
    "editable": true
   },
   "outputs": [],
   "source": [
    "full_counts = all_hours.leftOuterJoin(hourly_counts).map(lambda (k, v): (k, max(v))).cache()"
   ]
  },
  {
   "cell_type": "code",
   "execution_count": 21,
   "metadata": {
    "collapsed": false,
    "deletable": true,
    "editable": true
   },
   "outputs": [
    {
     "data": {
      "text/plain": [
       "[(datetime.datetime(2016, 6, 28, 11, 0), 472),\n",
       " (datetime.datetime(2016, 11, 5, 4, 0), 0),\n",
       " (datetime.datetime(2016, 12, 3, 19, 0), 157),\n",
       " (datetime.datetime(2016, 8, 29, 11, 0), 468),\n",
       " (datetime.datetime(2016, 9, 9, 14, 0), 801)]"
      ]
     },
     "execution_count": 21,
     "metadata": {},
     "output_type": "execute_result"
    }
   ],
   "source": [
    "full_counts.take(5)"
   ]
  },
  {
   "cell_type": "code",
   "execution_count": 22,
   "metadata": {
    "collapsed": true,
    "deletable": true,
    "editable": true
   },
   "outputs": [],
   "source": [
    "lags = (timedelta(hours=1), timedelta(days=1), timedelta(days=7), timedelta(days=28))"
   ]
  },
  {
   "cell_type": "code",
   "execution_count": 23,
   "metadata": {
    "collapsed": true,
    "deletable": true,
    "editable": true
   },
   "outputs": [],
   "source": [
    "data = full_counts.map(lambda (d, c): (d, (c,)))"
   ]
  },
  {
   "cell_type": "code",
   "execution_count": 24,
   "metadata": {
    "collapsed": true,
    "deletable": true,
    "editable": true
   },
   "outputs": [],
   "source": [
    "for lag in lags:\n",
    "    data = (data\n",
    "           .join(full_counts.map(lambda (d, c): (d + lag, c)))\n",
    "           .map(lambda (d, (t, v)): (d, t + (v,))))"
   ]
  },
  {
   "cell_type": "code",
   "execution_count": 25,
   "metadata": {
    "collapsed": false,
    "deletable": true,
    "editable": true
   },
   "outputs": [
    {
     "data": {
      "text/plain": [
       "[(datetime.datetime(2016, 7, 22, 19, 0), (790, 855, 309, 694, 675)),\n",
       " (datetime.datetime(2016, 5, 7, 8, 0), (132, 78, 634, 101, 53)),\n",
       " (datetime.datetime(2016, 10, 22, 14, 0), (437, 395, 526, 448, 772)),\n",
       " (datetime.datetime(2016, 11, 29, 21, 0), (191, 228, 169, 188, 191)),\n",
       " (datetime.datetime(2016, 9, 6, 15, 0), (1085, 775, 1176, 1074, 552))]"
      ]
     },
     "execution_count": 25,
     "metadata": {},
     "output_type": "execute_result"
    }
   ],
   "source": [
    "data.take(5)"
   ]
  },
  {
   "cell_type": "code",
   "execution_count": 26,
   "metadata": {
    "collapsed": true,
    "deletable": true,
    "editable": true
   },
   "outputs": [],
   "source": [
    "from pyspark.ml.linalg import Vectors"
   ]
  },
  {
   "cell_type": "code",
   "execution_count": 27,
   "metadata": {
    "collapsed": false,
    "deletable": true,
    "editable": true
   },
   "outputs": [],
   "source": [
    "from pyspark.sql import Row\n",
    "\n",
    "X = spark.createDataFrame(data.map(lambda (d, v): Row(date=d,\n",
    "                                                      features=Vectors.dense(v[1:]),\n",
    "                                                      label=v[0])))"
   ]
  },
  {
   "cell_type": "code",
   "execution_count": 28,
   "metadata": {
    "collapsed": false,
    "deletable": true,
    "editable": true
   },
   "outputs": [
    {
     "name": "stdout",
     "output_type": "stream",
     "text": [
      "+--------------------+--------------------+-----+\n",
      "|                date|            features|label|\n",
      "+--------------------+--------------------+-----+\n",
      "|2016-07-22 19:00:...|[855.0,309.0,694....|  790|\n",
      "|2016-05-07 08:00:...|[78.0,634.0,101.0...|  132|\n",
      "|2016-10-22 14:00:...|[395.0,526.0,448....|  437|\n",
      "|2016-11-29 21:00:...|[228.0,169.0,188....|  191|\n",
      "|2016-09-06 15:00:...|[775.0,1176.0,107...| 1085|\n",
      "+--------------------+--------------------+-----+\n",
      "only showing top 5 rows\n",
      "\n"
     ]
    }
   ],
   "source": [
    "X.show(5)"
   ]
  },
  {
   "cell_type": "code",
   "execution_count": 29,
   "metadata": {
    "collapsed": true,
    "deletable": true,
    "editable": true
   },
   "outputs": [],
   "source": [
    "from pyspark.ml.regression import DecisionTreeRegressor"
   ]
  },
  {
   "cell_type": "code",
   "execution_count": 49,
   "metadata": {
    "collapsed": true,
    "deletable": true,
    "editable": true
   },
   "outputs": [],
   "source": [
    "split_point = datetime(2016, 8, 31)\n",
    "Xtr = X.filter(X.date < split_point)\n",
    "Xte = X.filter(X.date >= split_point)"
   ]
  },
  {
   "cell_type": "code",
   "execution_count": 50,
   "metadata": {
    "collapsed": true,
    "deletable": true,
    "editable": true
   },
   "outputs": [],
   "source": [
    "depths = range(2, 20, 2)"
   ]
  },
  {
   "cell_type": "code",
   "execution_count": 51,
   "metadata": {
    "collapsed": false,
    "deletable": true,
    "editable": true
   },
   "outputs": [],
   "source": [
    "models = [DecisionTreeRegressor(maxDepth=d).fit(Xtr) for d in depths]"
   ]
  },
  {
   "cell_type": "code",
   "execution_count": 52,
   "metadata": {
    "collapsed": true,
    "deletable": true,
    "editable": true
   },
   "outputs": [],
   "source": [
    "p = models[5].transform(Xte)"
   ]
  },
  {
   "cell_type": "code",
   "execution_count": 53,
   "metadata": {
    "collapsed": false,
    "deletable": true,
    "editable": true
   },
   "outputs": [
    {
     "name": "stdout",
     "output_type": "stream",
     "text": [
      "+--------------------+--------------------+-----+----------+\n",
      "|                date|            features|label|prediction|\n",
      "+--------------------+--------------------+-----+----------+\n",
      "|2016-10-22 14:00:...|[395.0,526.0,448....|  437|    501.75|\n",
      "|2016-11-29 21:00:...|[228.0,169.0,188....|  191|     229.0|\n",
      "|2016-09-06 15:00:...|[775.0,1176.0,107...| 1085|    978.75|\n",
      "|2016-11-30 15:00:...|[259.0,331.0,422....|  405|     348.5|\n",
      "|2016-11-14 07:00:...|[103.0,38.0,0.0,5...|  274|     144.0|\n",
      "+--------------------+--------------------+-----+----------+\n",
      "only showing top 5 rows\n",
      "\n"
     ]
    }
   ],
   "source": [
    "p.show(5)"
   ]
  },
  {
   "cell_type": "code",
   "execution_count": 54,
   "metadata": {
    "collapsed": true,
    "deletable": true,
    "editable": true
   },
   "outputs": [],
   "source": [
    "import pyspark.sql.functions as fn"
   ]
  },
  {
   "cell_type": "code",
   "execution_count": 55,
   "metadata": {
    "collapsed": true,
    "deletable": true,
    "editable": true
   },
   "outputs": [],
   "source": [
    "def get_mse(RDD):\n",
    "    mse_df = RDD.agg(fn.mean((RDD.label - RDD.prediction)**2).alias('mse'))\n",
    "    return mse_df.collect()[0].mse"
   ]
  },
  {
   "cell_type": "code",
   "execution_count": 56,
   "metadata": {
    "collapsed": true,
    "deletable": true,
    "editable": true
   },
   "outputs": [],
   "source": [
    "mses = [get_mse(model.transform(Xte)) for model in models]"
   ]
  },
  {
   "cell_type": "code",
   "execution_count": 57,
   "metadata": {
    "collapsed": true,
    "deletable": true,
    "editable": true
   },
   "outputs": [],
   "source": [
    "import matplotlib.pyplot as plt\n",
    "%matplotlib inline"
   ]
  },
  {
   "cell_type": "code",
   "execution_count": 58,
   "metadata": {
    "collapsed": false,
    "deletable": true,
    "editable": true
   },
   "outputs": [
    {
     "data": {
      "text/plain": [
       "[<matplotlib.lines.Line2D at 0x7fab852bde90>]"
      ]
     },
     "execution_count": 58,
     "metadata": {},
     "output_type": "execute_result"
    },
    {
     "data": {
      "image/png": "[encoded data removed]",
      "text/plain": [
       "<matplotlib.figure.Figure at 0x7fab85210e50>"
      ]
     },
     "metadata": {},
     "output_type": "display_data"
    }
   ],
   "source": [
    "plt.plot(depths, mses)"
   ]
  },
  {
   "cell_type": "code",
   "execution_count": 59,
   "metadata": {
    "collapsed": false,
    "deletable": true,
    "editable": true
   },
   "outputs": [
    {
     "data": {
      "text/plain": [
       "[<matplotlib.lines.Line2D at 0x7fab85362c10>]"
      ]
     },
     "execution_count": 59,
     "metadata": {},
     "output_type": "execute_result"
    },
    {
     "data": {
      "image/png": "[encoded data removed]",
      "text/plain": [
       "<matplotlib.figure.Figure at 0x7fab85341b90>"
      ]
     },
     "metadata": {},
     "output_type": "display_data"
    }
   ],
   "source": [
    "# Plot Mses on the right scale\n",
    "n_test_cases = Xte.count()\n",
    "mses_on_right_scale = [get_mse(model.transform(Xte))/n_test_cases for model in models]\n",
    "plt.plot(depths, mses_on_right_scale)"
   ]
  },
  {
   "cell_type": "code",
   "execution_count": 60,
   "metadata": {
    "collapsed": false,
    "deletable": true,
    "editable": true
   },
   "outputs": [
    {
     "data": {
      "text/plain": [
       "[<matplotlib.lines.Line2D at 0x7fab8581dd50>]"
      ]
     },
     "execution_count": 60,
     "metadata": {},
     "output_type": "execute_result"
    },
    {
     "data": {
      "image/png": "[encoded data removed]",
      "text/plain": [
       "<matplotlib.figure.Figure at 0x7fab85406f50>"
      ]
     },
     "metadata": {},
     "output_type": "display_data"
    }
   ],
   "source": [
    "import numpy as np\n",
    "# Plot rootMses on the right scale\n",
    "mses_on_right_scale = [np.sqrt(get_mse(model.transform(Xte))/n_test_cases) for model in models]\n",
    "plt.plot(depths, mses_on_right_scale)"
   ]
  },
  {
   "cell_type": "code",
   "execution_count": 69,
   "metadata": {
    "collapsed": false,
    "deletable": true,
    "editable": true
   },
   "outputs": [
    {
     "name": "stdout",
     "output_type": "stream",
     "text": [
      "15070.3942873\n",
      "6.47353706497\n",
      "2.54431465526\n"
     ]
    }
   ],
   "source": [
    "best_model = models[depths.index(6)]\n",
    "# MSE, total\n",
    "print get_mse(best_model.transform(Xte))\n",
    "# MSE\n",
    "print get_mse(best_model.transform(Xte))/n_test_cases\n",
    "# rMSE\n",
    "print np.sqrt(get_mse(best_model.transform((Xte)))/n_test_cases)\n"
   ]
  },
  {
   "cell_type": "code",
   "execution_count": 62,
   "metadata": {
    "collapsed": true,
    "deletable": true,
    "editable": true
   },
   "outputs": [],
   "source": [
    "df = best_model.transform(Xte).toPandas()"
   ]
  },
  {
   "cell_type": "code",
   "execution_count": 63,
   "metadata": {
    "collapsed": true,
    "deletable": true,
    "editable": true
   },
   "outputs": [],
   "source": [
    "df = df.set_index('date').sort_index()"
   ]
  },
  {
   "cell_type": "code",
   "execution_count": 64,
   "metadata": {
    "collapsed": false,
    "deletable": true,
    "editable": true
   },
   "outputs": [
    {
     "data": {
      "text/plain": [
       "<matplotlib.axes._subplots.AxesSubplot at 0x7fab8505ca10>"
      ]
     },
     "execution_count": 64,
     "metadata": {},
     "output_type": "execute_result"
    },
    {
     "data": {
      "image/png": "[encoded data removed]",
      "text/plain": [
       "<matplotlib.figure.Figure at 0x7fab85084b10>"
      ]
     },
     "metadata": {},
     "output_type": "display_data"
    }
   ],
   "source": [
    "df.label.plot()"
   ]
  },
  {
   "cell_type": "code",
   "execution_count": 65,
   "metadata": {
    "collapsed": false,
    "deletable": true,
    "editable": true
   },
   "outputs": [
    {
     "data": {
      "text/plain": [
       "<matplotlib.axes._subplots.AxesSubplot at 0x7fab84b28e90>"
      ]
     },
     "execution_count": 65,
     "metadata": {},
     "output_type": "execute_result"
    },
    {
     "data": {
      "image/png": "[encoded data removed]",
      "text/plain": [
       "<matplotlib.figure.Figure at 0x7fab85b6bd90>"
      ]
     },
     "metadata": {},
     "output_type": "display_data"
    }
   ],
   "source": [
    "df.prediction.plot()"
   ]
  },
  {
   "cell_type": "code",
   "execution_count": 66,
   "metadata": {
    "collapsed": false,
    "deletable": true,
    "editable": true
   },
   "outputs": [
    {
     "data": {
      "text/plain": [
       "<matplotlib.axes._subplots.AxesSubplot at 0x7fab84af3190>"
      ]
     },
     "execution_count": 66,
     "metadata": {},
     "output_type": "execute_result"
    },
    {
     "data": {
      "image/png": "[encoded data removed]",
      "text/plain": [
       "<matplotlib.figure.Figure at 0x7fab84afc990>"
      ]
     },
     "metadata": {},
     "output_type": "display_data"
    }
   ],
   "source": [
    "df.label.plot()\n",
    "df.prediction.plot()"
   ]
  }
 ],
 "metadata": {
  "kernelspec": {
   "display_name": "Python 2",
   "language": "python",
   "name": "python2"
  },
  "language_info": {
   "codemirror_mode": {
    "name": "ipython",
    "version": 2
   },
   "file_extension": ".py",
   "mimetype": "text/x-python",
   "name": "python",
   "nbconvert_exporter": "python",
   "pygments_lexer": "ipython2",
   "version": "2.7.10"
  }
 },
 "nbformat": 4,
 "nbformat_minor": 2
}
