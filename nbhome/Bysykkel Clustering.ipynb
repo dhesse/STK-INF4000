{
 "cells": [
  {
   "cell_type": "code",
   "execution_count": 1,
   "metadata": {
    "collapsed": true
   },
   "outputs": [],
   "source": [
    "import pandas"
   ]
  },
  {
   "cell_type": "code",
   "execution_count": 99,
   "metadata": {
    "collapsed": false
   },
   "outputs": [],
   "source": [
    "data = (pandas.read_csv('data/oslobike/trips-2016.7.1-2016.7.31.csv.zip')\n",
    "        .append(pandas.read_csv('data/oslobike/trips-2016.8.1-2016.8.31.csv.zip'))\n",
    "        .append(pandas.read_csv('data/oslobike/trips-2016.9.1-2016.9.30.csv.zip'))\n",
    "        .append(pandas.read_csv('data/oslobike/trips-2016.10.1-2016.10.31.csv.zip'))\n",
    "        .append(pandas.read_csv('data/oslobike/trips-2016.11.1-2016.11.30.csv.zip'))\n",
    "        .append(pandas.read_csv('data/oslobike/trips-2016.6.1-2016.6.30.csv.zip'))\n",
    "        .append(pandas.read_csv('data/oslobike/trips-2016.5.1-2016.5.31.csv.zip')))"
   ]
  },
  {
   "cell_type": "code",
   "execution_count": 63,
   "metadata": {
    "collapsed": true
   },
   "outputs": [],
   "source": [
    "from dateutil import parser"
   ]
  },
  {
   "cell_type": "code",
   "execution_count": 66,
   "metadata": {
    "collapsed": false
   },
   "outputs": [
    {
     "data": {
      "text/html": [
       "<div>\n",
       "<table border=\"1\" class=\"dataframe\">\n",
       "  <thead>\n",
       "    <tr style=\"text-align: right;\">\n",
       "      <th></th>\n",
       "      <th>Start station</th>\n",
       "      <th>Start time</th>\n",
       "      <th>End station</th>\n",
       "      <th>End time</th>\n",
       "    </tr>\n",
       "  </thead>\n",
       "  <tbody>\n",
       "    <tr>\n",
       "      <th>0</th>\n",
       "      <td>176.0</td>\n",
       "      <td>2016-07-01 06:00:02 +0200</td>\n",
       "      <td>157.0</td>\n",
       "      <td>2016-07-01 06:10:07 +0200</td>\n",
       "    </tr>\n",
       "    <tr>\n",
       "      <th>1</th>\n",
       "      <td>264.0</td>\n",
       "      <td>2016-07-01 06:00:04 +0200</td>\n",
       "      <td>279.0</td>\n",
       "      <td>2016-07-01 06:09:18 +0200</td>\n",
       "    </tr>\n",
       "    <tr>\n",
       "      <th>2</th>\n",
       "      <td>248.0</td>\n",
       "      <td>2016-07-01 06:00:04 +0200</td>\n",
       "      <td>253.0</td>\n",
       "      <td>2016-07-01 06:09:10 +0200</td>\n",
       "    </tr>\n",
       "    <tr>\n",
       "      <th>3</th>\n",
       "      <td>200.0</td>\n",
       "      <td>2016-07-01 06:00:17 +0200</td>\n",
       "      <td>279.0</td>\n",
       "      <td>2016-07-01 06:13:39 +0200</td>\n",
       "    </tr>\n",
       "    <tr>\n",
       "      <th>4</th>\n",
       "      <td>206.0</td>\n",
       "      <td>2016-07-01 06:00:23 +0200</td>\n",
       "      <td>298.0</td>\n",
       "      <td>2016-07-01 06:07:43 +0200</td>\n",
       "    </tr>\n",
       "  </tbody>\n",
       "</table>\n",
       "</div>"
      ],
      "text/plain": [
       "   Start station                 Start time  End station  \\\n",
       "0          176.0  2016-07-01 06:00:02 +0200        157.0   \n",
       "1          264.0  2016-07-01 06:00:04 +0200        279.0   \n",
       "2          248.0  2016-07-01 06:00:04 +0200        253.0   \n",
       "3          200.0  2016-07-01 06:00:17 +0200        279.0   \n",
       "4          206.0  2016-07-01 06:00:23 +0200        298.0   \n",
       "\n",
       "                    End time  \n",
       "0  2016-07-01 06:10:07 +0200  \n",
       "1  2016-07-01 06:09:18 +0200  \n",
       "2  2016-07-01 06:09:10 +0200  \n",
       "3  2016-07-01 06:13:39 +0200  \n",
       "4  2016-07-01 06:07:43 +0200  "
      ]
     },
     "execution_count": 66,
     "metadata": {},
     "output_type": "execute_result"
    }
   ],
   "source": [
    "data.head()"
   ]
  },
  {
   "cell_type": "code",
   "execution_count": 107,
   "metadata": {
    "collapsed": true
   },
   "outputs": [],
   "source": [
    "from datetime import datetime"
   ]
  },
  {
   "cell_type": "code",
   "execution_count": 113,
   "metadata": {
    "collapsed": false
   },
   "outputs": [],
   "source": [
    "data['timestamp'] = data['Start time'].apply(lambda x: datetime.strptime(x[:-6], '%Y-%m-%d %H:%M:%S'))"
   ]
  },
  {
   "cell_type": "code",
   "execution_count": 114,
   "metadata": {
    "collapsed": false
   },
   "outputs": [
    {
     "data": {
      "text/plain": [
       "0   2016-07-01 06:00:02\n",
       "1   2016-07-01 06:00:04\n",
       "2   2016-07-01 06:00:04\n",
       "3   2016-07-01 06:00:17\n",
       "4   2016-07-01 06:00:23\n",
       "Name: timestamp, dtype: datetime64[ns]"
      ]
     },
     "execution_count": 114,
     "metadata": {},
     "output_type": "execute_result"
    }
   ],
   "source": [
    "data['timestamp'].head()"
   ]
  },
  {
   "cell_type": "code",
   "execution_count": 115,
   "metadata": {
    "collapsed": true
   },
   "outputs": [],
   "source": [
    "data['count'] = 1"
   ]
  },
  {
   "cell_type": "code",
   "execution_count": 116,
   "metadata": {
    "collapsed": true
   },
   "outputs": [],
   "source": [
    "d = data[['timestamp', 'count']].set_index('timestamp')"
   ]
  },
  {
   "cell_type": "code",
   "execution_count": 117,
   "metadata": {
    "collapsed": false
   },
   "outputs": [],
   "source": [
    "per_hour = d.resample('1h').sum().reset_index().fillna(0)"
   ]
  },
  {
   "cell_type": "code",
   "execution_count": 118,
   "metadata": {
    "collapsed": false
   },
   "outputs": [],
   "source": [
    "per_hour['hour'] = per_hour['timestamp'].apply(lambda x: x.hour)"
   ]
  },
  {
   "cell_type": "code",
   "execution_count": 119,
   "metadata": {
    "collapsed": true
   },
   "outputs": [],
   "source": [
    "per_hour['date'] = per_hour['timestamp'].apply(lambda x: x.date())"
   ]
  },
  {
   "cell_type": "code",
   "execution_count": 120,
   "metadata": {
    "collapsed": false
   },
   "outputs": [],
   "source": [
    "pivoted = per_hour.pivot_table(index='date', values='count', columns='hour').fillna(0)"
   ]
  },
  {
   "cell_type": "code",
   "execution_count": 121,
   "metadata": {
    "collapsed": false
   },
   "outputs": [],
   "source": [
    "from sklearn.cluster import KMeans"
   ]
  },
  {
   "cell_type": "code",
   "execution_count": 122,
   "metadata": {
    "collapsed": true
   },
   "outputs": [],
   "source": [
    "ks = range(2, 20)"
   ]
  },
  {
   "cell_type": "code",
   "execution_count": 133,
   "metadata": {
    "collapsed": true
   },
   "outputs": [],
   "source": [
    "models = [KMeans(k).fit(pivoted) for k in ks]"
   ]
  },
  {
   "cell_type": "code",
   "execution_count": 134,
   "metadata": {
    "collapsed": false
   },
   "outputs": [],
   "source": [
    "scores = [-m.score(pivoted) for m in models]"
   ]
  },
  {
   "cell_type": "code",
   "execution_count": 135,
   "metadata": {
    "collapsed": false
   },
   "outputs": [
    {
     "data": {
      "text/plain": [
       "[<matplotlib.lines.Line2D at 0x11cfe0110>]"
      ]
     },
     "execution_count": 135,
     "metadata": {},
     "output_type": "execute_result"
    },
    {
     "data": {
      "image/png": "[encoded data removed]",
      "text/plain": [
       "<matplotlib.figure.Figure at 0x1136f63d0>"
      ]
     },
     "metadata": {},
     "output_type": "display_data"
    }
   ],
   "source": [
    "plt.plot(ks, scores)"
   ]
  },
  {
   "cell_type": "code",
   "execution_count": 136,
   "metadata": {
    "collapsed": false
   },
   "outputs": [
    {
     "data": {
      "text/plain": [
       "(214,)"
      ]
     },
     "execution_count": 136,
     "metadata": {},
     "output_type": "execute_result"
    }
   ],
   "source": [
    "models[0].labels_.shape"
   ]
  },
  {
   "cell_type": "code",
   "execution_count": 132,
   "metadata": {
    "collapsed": false
   },
   "outputs": [
    {
     "data": {
      "text/plain": [
       "(214, 24)"
      ]
     },
     "execution_count": 132,
     "metadata": {},
     "output_type": "execute_result"
    }
   ],
   "source": [
    "pivoted.shape"
   ]
  },
  {
   "cell_type": "code",
   "execution_count": 137,
   "metadata": {
    "collapsed": false
   },
   "outputs": [],
   "source": [
    "dl = pandas.DataFrame({'date': pivoted.index.values, 'label': models[ks.index(5)].labels_})"
   ]
  },
  {
   "cell_type": "code",
   "execution_count": 138,
   "metadata": {
    "collapsed": true
   },
   "outputs": [],
   "source": [
    "from calendar import day_abbr, month_abbr"
   ]
  },
  {
   "cell_type": "code",
   "execution_count": 140,
   "metadata": {
    "collapsed": false
   },
   "outputs": [],
   "source": [
    "dl['weekday'] = dl.date.apply(lambda x: day_abbr[x.weekday()])"
   ]
  },
  {
   "cell_type": "code",
   "execution_count": 141,
   "metadata": {
    "collapsed": true
   },
   "outputs": [],
   "source": [
    "dl['month'] = dl.date.apply(lambda x: month_abbr[x.month])"
   ]
  },
  {
   "cell_type": "code",
   "execution_count": 154,
   "metadata": {
    "collapsed": false
   },
   "outputs": [],
   "source": [
    "s = dl.groupby(['label', 'weekday']).size()#.reset_index()#.pivot_table(index='label', values='0', columns='weekday')"
   ]
  },
  {
   "cell_type": "code",
   "execution_count": 156,
   "metadata": {
    "collapsed": true
   },
   "outputs": [],
   "source": [
    "s.name = 'count'"
   ]
  },
  {
   "cell_type": "code",
   "execution_count": 158,
   "metadata": {
    "collapsed": false
   },
   "outputs": [],
   "source": [
    "s = s.reset_index()"
   ]
  },
  {
   "cell_type": "code",
   "execution_count": 161,
   "metadata": {
    "collapsed": false
   },
   "outputs": [
    {
     "data": {
      "text/plain": [
       "<matplotlib.axes._subplots.AxesSubplot at 0x11d117710>"
      ]
     },
     "execution_count": 161,
     "metadata": {},
     "output_type": "execute_result"
    },
    {
     "data": {
      "image/png": "[encoded data removed]",
      "text/plain": [
       "<matplotlib.figure.Figure at 0x11d053f50>"
      ]
     },
     "metadata": {},
     "output_type": "display_data"
    }
   ],
   "source": [
    "s.pivot_table(index='label', columns='weekday', values='count').plot.bar()"
   ]
  },
  {
   "cell_type": "code",
   "execution_count": 162,
   "metadata": {
    "collapsed": true
   },
   "outputs": [],
   "source": [
    "m = dl.groupby(['label', 'month']).size()"
   ]
  },
  {
   "cell_type": "code",
   "execution_count": 163,
   "metadata": {
    "collapsed": true
   },
   "outputs": [],
   "source": [
    "m.name = 'count'"
   ]
  },
  {
   "cell_type": "code",
   "execution_count": 164,
   "metadata": {
    "collapsed": true
   },
   "outputs": [],
   "source": [
    "m = m.reset_index()"
   ]
  },
  {
   "cell_type": "code",
   "execution_count": 167,
   "metadata": {
    "collapsed": false
   },
   "outputs": [
    {
     "data": {
      "text/plain": [
       "<matplotlib.legend.Legend at 0x11d56eed0>"
      ]
     },
     "execution_count": 167,
     "metadata": {},
     "output_type": "execute_result"
    },
    {
     "data": {
      "image/png": "[encoded data removed]",
      "text/plain": [
       "<matplotlib.figure.Figure at 0x11d459d10>"
      ]
     },
     "metadata": {},
     "output_type": "display_data"
    }
   ],
   "source": [
    "m.pivot_table(index='label', columns='month', values='count').plot.bar()\n",
    "plt.legend(bbox_to_anchor=(1,1))"
   ]
  },
  {
   "cell_type": "code",
   "execution_count": 175,
   "metadata": {
    "collapsed": false
   },
   "outputs": [
    {
     "data": {
      "text/plain": [
       "<matplotlib.legend.Legend at 0x1297eb790>"
      ]
     },
     "execution_count": 175,
     "metadata": {},
     "output_type": "execute_result"
    },
    {
     "data": {
      "image/png": "[encoded data removed]",
      "text/plain": [
       "<matplotlib.figure.Figure at 0x128b100d0>"
      ]
     },
     "metadata": {},
     "output_type": "display_data"
    }
   ],
   "source": [
    "for k, m in enumerate(models[ks.index(5)].cluster_centers_):\n",
    "    plt.plot(m, label='{}'.format(k))\n",
    "plt.legend()"
   ]
  },
  {
   "cell_type": "code",
   "execution_count": 176,
   "metadata": {
    "collapsed": false
   },
   "outputs": [
    {
     "data": {
      "text/html": [
       "<div>\n",
       "<table border=\"1\" class=\"dataframe\">\n",
       "  <thead>\n",
       "    <tr style=\"text-align: right;\">\n",
       "      <th></th>\n",
       "      <th>timestamp</th>\n",
       "      <th>count</th>\n",
       "      <th>hour</th>\n",
       "      <th>date</th>\n",
       "    </tr>\n",
       "  </thead>\n",
       "  <tbody>\n",
       "    <tr>\n",
       "      <th>0</th>\n",
       "      <td>2016-05-01 06:00:00</td>\n",
       "      <td>35.0</td>\n",
       "      <td>6</td>\n",
       "      <td>2016-05-01</td>\n",
       "    </tr>\n",
       "    <tr>\n",
       "      <th>1</th>\n",
       "      <td>2016-05-01 07:00:00</td>\n",
       "      <td>48.0</td>\n",
       "      <td>7</td>\n",
       "      <td>2016-05-01</td>\n",
       "    </tr>\n",
       "    <tr>\n",
       "      <th>2</th>\n",
       "      <td>2016-05-01 08:00:00</td>\n",
       "      <td>63.0</td>\n",
       "      <td>8</td>\n",
       "      <td>2016-05-01</td>\n",
       "    </tr>\n",
       "    <tr>\n",
       "      <th>3</th>\n",
       "      <td>2016-05-01 09:00:00</td>\n",
       "      <td>108.0</td>\n",
       "      <td>9</td>\n",
       "      <td>2016-05-01</td>\n",
       "    </tr>\n",
       "    <tr>\n",
       "      <th>4</th>\n",
       "      <td>2016-05-01 10:00:00</td>\n",
       "      <td>201.0</td>\n",
       "      <td>10</td>\n",
       "      <td>2016-05-01</td>\n",
       "    </tr>\n",
       "    <tr>\n",
       "      <th>5</th>\n",
       "      <td>2016-05-01 11:00:00</td>\n",
       "      <td>322.0</td>\n",
       "      <td>11</td>\n",
       "      <td>2016-05-01</td>\n",
       "    </tr>\n",
       "    <tr>\n",
       "      <th>6</th>\n",
       "      <td>2016-05-01 12:00:00</td>\n",
       "      <td>415.0</td>\n",
       "      <td>12</td>\n",
       "      <td>2016-05-01</td>\n",
       "    </tr>\n",
       "    <tr>\n",
       "      <th>7</th>\n",
       "      <td>2016-05-01 13:00:00</td>\n",
       "      <td>510.0</td>\n",
       "      <td>13</td>\n",
       "      <td>2016-05-01</td>\n",
       "    </tr>\n",
       "    <tr>\n",
       "      <th>8</th>\n",
       "      <td>2016-05-01 14:00:00</td>\n",
       "      <td>579.0</td>\n",
       "      <td>14</td>\n",
       "      <td>2016-05-01</td>\n",
       "    </tr>\n",
       "    <tr>\n",
       "      <th>9</th>\n",
       "      <td>2016-05-01 15:00:00</td>\n",
       "      <td>574.0</td>\n",
       "      <td>15</td>\n",
       "      <td>2016-05-01</td>\n",
       "    </tr>\n",
       "    <tr>\n",
       "      <th>10</th>\n",
       "      <td>2016-05-01 16:00:00</td>\n",
       "      <td>584.0</td>\n",
       "      <td>16</td>\n",
       "      <td>2016-05-01</td>\n",
       "    </tr>\n",
       "    <tr>\n",
       "      <th>11</th>\n",
       "      <td>2016-05-01 17:00:00</td>\n",
       "      <td>554.0</td>\n",
       "      <td>17</td>\n",
       "      <td>2016-05-01</td>\n",
       "    </tr>\n",
       "    <tr>\n",
       "      <th>12</th>\n",
       "      <td>2016-05-01 18:00:00</td>\n",
       "      <td>527.0</td>\n",
       "      <td>18</td>\n",
       "      <td>2016-05-01</td>\n",
       "    </tr>\n",
       "    <tr>\n",
       "      <th>13</th>\n",
       "      <td>2016-05-01 19:00:00</td>\n",
       "      <td>398.0</td>\n",
       "      <td>19</td>\n",
       "      <td>2016-05-01</td>\n",
       "    </tr>\n",
       "    <tr>\n",
       "      <th>14</th>\n",
       "      <td>2016-05-01 20:00:00</td>\n",
       "      <td>353.0</td>\n",
       "      <td>20</td>\n",
       "      <td>2016-05-01</td>\n",
       "    </tr>\n",
       "    <tr>\n",
       "      <th>15</th>\n",
       "      <td>2016-05-01 21:00:00</td>\n",
       "      <td>285.0</td>\n",
       "      <td>21</td>\n",
       "      <td>2016-05-01</td>\n",
       "    </tr>\n",
       "    <tr>\n",
       "      <th>16</th>\n",
       "      <td>2016-05-01 22:00:00</td>\n",
       "      <td>241.0</td>\n",
       "      <td>22</td>\n",
       "      <td>2016-05-01</td>\n",
       "    </tr>\n",
       "    <tr>\n",
       "      <th>17</th>\n",
       "      <td>2016-05-01 23:00:00</td>\n",
       "      <td>158.0</td>\n",
       "      <td>23</td>\n",
       "      <td>2016-05-01</td>\n",
       "    </tr>\n",
       "    <tr>\n",
       "      <th>18</th>\n",
       "      <td>2016-05-02 00:00:00</td>\n",
       "      <td>0.0</td>\n",
       "      <td>0</td>\n",
       "      <td>2016-05-02</td>\n",
       "    </tr>\n",
       "    <tr>\n",
       "      <th>19</th>\n",
       "      <td>2016-05-02 01:00:00</td>\n",
       "      <td>0.0</td>\n",
       "      <td>1</td>\n",
       "      <td>2016-05-02</td>\n",
       "    </tr>\n",
       "    <tr>\n",
       "      <th>20</th>\n",
       "      <td>2016-05-02 02:00:00</td>\n",
       "      <td>0.0</td>\n",
       "      <td>2</td>\n",
       "      <td>2016-05-02</td>\n",
       "    </tr>\n",
       "    <tr>\n",
       "      <th>21</th>\n",
       "      <td>2016-05-02 03:00:00</td>\n",
       "      <td>0.0</td>\n",
       "      <td>3</td>\n",
       "      <td>2016-05-02</td>\n",
       "    </tr>\n",
       "    <tr>\n",
       "      <th>22</th>\n",
       "      <td>2016-05-02 04:00:00</td>\n",
       "      <td>0.0</td>\n",
       "      <td>4</td>\n",
       "      <td>2016-05-02</td>\n",
       "    </tr>\n",
       "    <tr>\n",
       "      <th>23</th>\n",
       "      <td>2016-05-02 05:00:00</td>\n",
       "      <td>0.0</td>\n",
       "      <td>5</td>\n",
       "      <td>2016-05-02</td>\n",
       "    </tr>\n",
       "    <tr>\n",
       "      <th>24</th>\n",
       "      <td>2016-05-02 06:00:00</td>\n",
       "      <td>223.0</td>\n",
       "      <td>6</td>\n",
       "      <td>2016-05-02</td>\n",
       "    </tr>\n",
       "    <tr>\n",
       "      <th>25</th>\n",
       "      <td>2016-05-02 07:00:00</td>\n",
       "      <td>707.0</td>\n",
       "      <td>7</td>\n",
       "      <td>2016-05-02</td>\n",
       "    </tr>\n",
       "    <tr>\n",
       "      <th>26</th>\n",
       "      <td>2016-05-02 08:00:00</td>\n",
       "      <td>746.0</td>\n",
       "      <td>8</td>\n",
       "      <td>2016-05-02</td>\n",
       "    </tr>\n",
       "    <tr>\n",
       "      <th>27</th>\n",
       "      <td>2016-05-02 09:00:00</td>\n",
       "      <td>352.0</td>\n",
       "      <td>9</td>\n",
       "      <td>2016-05-02</td>\n",
       "    </tr>\n",
       "    <tr>\n",
       "      <th>28</th>\n",
       "      <td>2016-05-02 10:00:00</td>\n",
       "      <td>231.0</td>\n",
       "      <td>10</td>\n",
       "      <td>2016-05-02</td>\n",
       "    </tr>\n",
       "    <tr>\n",
       "      <th>29</th>\n",
       "      <td>2016-05-02 11:00:00</td>\n",
       "      <td>287.0</td>\n",
       "      <td>11</td>\n",
       "      <td>2016-05-02</td>\n",
       "    </tr>\n",
       "    <tr>\n",
       "      <th>...</th>\n",
       "      <td>...</td>\n",
       "      <td>...</td>\n",
       "      <td>...</td>\n",
       "      <td>...</td>\n",
       "    </tr>\n",
       "    <tr>\n",
       "      <th>5100</th>\n",
       "      <td>2016-11-29 18:00:00</td>\n",
       "      <td>293.0</td>\n",
       "      <td>18</td>\n",
       "      <td>2016-11-29</td>\n",
       "    </tr>\n",
       "    <tr>\n",
       "      <th>5101</th>\n",
       "      <td>2016-11-29 19:00:00</td>\n",
       "      <td>235.0</td>\n",
       "      <td>19</td>\n",
       "      <td>2016-11-29</td>\n",
       "    </tr>\n",
       "    <tr>\n",
       "      <th>5102</th>\n",
       "      <td>2016-11-29 20:00:00</td>\n",
       "      <td>228.0</td>\n",
       "      <td>20</td>\n",
       "      <td>2016-11-29</td>\n",
       "    </tr>\n",
       "    <tr>\n",
       "      <th>5103</th>\n",
       "      <td>2016-11-29 21:00:00</td>\n",
       "      <td>191.0</td>\n",
       "      <td>21</td>\n",
       "      <td>2016-11-29</td>\n",
       "    </tr>\n",
       "    <tr>\n",
       "      <th>5104</th>\n",
       "      <td>2016-11-29 22:00:00</td>\n",
       "      <td>159.0</td>\n",
       "      <td>22</td>\n",
       "      <td>2016-11-29</td>\n",
       "    </tr>\n",
       "    <tr>\n",
       "      <th>5105</th>\n",
       "      <td>2016-11-29 23:00:00</td>\n",
       "      <td>103.0</td>\n",
       "      <td>23</td>\n",
       "      <td>2016-11-29</td>\n",
       "    </tr>\n",
       "    <tr>\n",
       "      <th>5106</th>\n",
       "      <td>2016-11-30 00:00:00</td>\n",
       "      <td>0.0</td>\n",
       "      <td>0</td>\n",
       "      <td>2016-11-30</td>\n",
       "    </tr>\n",
       "    <tr>\n",
       "      <th>5107</th>\n",
       "      <td>2016-11-30 01:00:00</td>\n",
       "      <td>0.0</td>\n",
       "      <td>1</td>\n",
       "      <td>2016-11-30</td>\n",
       "    </tr>\n",
       "    <tr>\n",
       "      <th>5108</th>\n",
       "      <td>2016-11-30 02:00:00</td>\n",
       "      <td>0.0</td>\n",
       "      <td>2</td>\n",
       "      <td>2016-11-30</td>\n",
       "    </tr>\n",
       "    <tr>\n",
       "      <th>5109</th>\n",
       "      <td>2016-11-30 03:00:00</td>\n",
       "      <td>0.0</td>\n",
       "      <td>3</td>\n",
       "      <td>2016-11-30</td>\n",
       "    </tr>\n",
       "    <tr>\n",
       "      <th>5110</th>\n",
       "      <td>2016-11-30 04:00:00</td>\n",
       "      <td>0.0</td>\n",
       "      <td>4</td>\n",
       "      <td>2016-11-30</td>\n",
       "    </tr>\n",
       "    <tr>\n",
       "      <th>5111</th>\n",
       "      <td>2016-11-30 05:00:00</td>\n",
       "      <td>1.0</td>\n",
       "      <td>5</td>\n",
       "      <td>2016-11-30</td>\n",
       "    </tr>\n",
       "    <tr>\n",
       "      <th>5112</th>\n",
       "      <td>2016-11-30 06:00:00</td>\n",
       "      <td>112.0</td>\n",
       "      <td>6</td>\n",
       "      <td>2016-11-30</td>\n",
       "    </tr>\n",
       "    <tr>\n",
       "      <th>5113</th>\n",
       "      <td>2016-11-30 07:00:00</td>\n",
       "      <td>343.0</td>\n",
       "      <td>7</td>\n",
       "      <td>2016-11-30</td>\n",
       "    </tr>\n",
       "    <tr>\n",
       "      <th>5114</th>\n",
       "      <td>2016-11-30 08:00:00</td>\n",
       "      <td>557.0</td>\n",
       "      <td>8</td>\n",
       "      <td>2016-11-30</td>\n",
       "    </tr>\n",
       "    <tr>\n",
       "      <th>5115</th>\n",
       "      <td>2016-11-30 09:00:00</td>\n",
       "      <td>254.0</td>\n",
       "      <td>9</td>\n",
       "      <td>2016-11-30</td>\n",
       "    </tr>\n",
       "    <tr>\n",
       "      <th>5116</th>\n",
       "      <td>2016-11-30 10:00:00</td>\n",
       "      <td>143.0</td>\n",
       "      <td>10</td>\n",
       "      <td>2016-11-30</td>\n",
       "    </tr>\n",
       "    <tr>\n",
       "      <th>5117</th>\n",
       "      <td>2016-11-30 11:00:00</td>\n",
       "      <td>171.0</td>\n",
       "      <td>11</td>\n",
       "      <td>2016-11-30</td>\n",
       "    </tr>\n",
       "    <tr>\n",
       "      <th>5118</th>\n",
       "      <td>2016-11-30 12:00:00</td>\n",
       "      <td>170.0</td>\n",
       "      <td>12</td>\n",
       "      <td>2016-11-30</td>\n",
       "    </tr>\n",
       "    <tr>\n",
       "      <th>5119</th>\n",
       "      <td>2016-11-30 13:00:00</td>\n",
       "      <td>184.0</td>\n",
       "      <td>13</td>\n",
       "      <td>2016-11-30</td>\n",
       "    </tr>\n",
       "    <tr>\n",
       "      <th>5120</th>\n",
       "      <td>2016-11-30 14:00:00</td>\n",
       "      <td>259.0</td>\n",
       "      <td>14</td>\n",
       "      <td>2016-11-30</td>\n",
       "    </tr>\n",
       "    <tr>\n",
       "      <th>5121</th>\n",
       "      <td>2016-11-30 15:00:00</td>\n",
       "      <td>405.0</td>\n",
       "      <td>15</td>\n",
       "      <td>2016-11-30</td>\n",
       "    </tr>\n",
       "    <tr>\n",
       "      <th>5122</th>\n",
       "      <td>2016-11-30 16:00:00</td>\n",
       "      <td>436.0</td>\n",
       "      <td>16</td>\n",
       "      <td>2016-11-30</td>\n",
       "    </tr>\n",
       "    <tr>\n",
       "      <th>5123</th>\n",
       "      <td>2016-11-30 17:00:00</td>\n",
       "      <td>349.0</td>\n",
       "      <td>17</td>\n",
       "      <td>2016-11-30</td>\n",
       "    </tr>\n",
       "    <tr>\n",
       "      <th>5124</th>\n",
       "      <td>2016-11-30 18:00:00</td>\n",
       "      <td>303.0</td>\n",
       "      <td>18</td>\n",
       "      <td>2016-11-30</td>\n",
       "    </tr>\n",
       "    <tr>\n",
       "      <th>5125</th>\n",
       "      <td>2016-11-30 19:00:00</td>\n",
       "      <td>236.0</td>\n",
       "      <td>19</td>\n",
       "      <td>2016-11-30</td>\n",
       "    </tr>\n",
       "    <tr>\n",
       "      <th>5126</th>\n",
       "      <td>2016-11-30 20:00:00</td>\n",
       "      <td>197.0</td>\n",
       "      <td>20</td>\n",
       "      <td>2016-11-30</td>\n",
       "    </tr>\n",
       "    <tr>\n",
       "      <th>5127</th>\n",
       "      <td>2016-11-30 21:00:00</td>\n",
       "      <td>172.0</td>\n",
       "      <td>21</td>\n",
       "      <td>2016-11-30</td>\n",
       "    </tr>\n",
       "    <tr>\n",
       "      <th>5128</th>\n",
       "      <td>2016-11-30 22:00:00</td>\n",
       "      <td>151.0</td>\n",
       "      <td>22</td>\n",
       "      <td>2016-11-30</td>\n",
       "    </tr>\n",
       "    <tr>\n",
       "      <th>5129</th>\n",
       "      <td>2016-11-30 23:00:00</td>\n",
       "      <td>86.0</td>\n",
       "      <td>23</td>\n",
       "      <td>2016-11-30</td>\n",
       "    </tr>\n",
       "  </tbody>\n",
       "</table>\n",
       "<p>5130 rows × 4 columns</p>\n",
       "</div>"
      ],
      "text/plain": [
       "               timestamp  count  hour        date\n",
       "0    2016-05-01 06:00:00   35.0     6  2016-05-01\n",
       "1    2016-05-01 07:00:00   48.0     7  2016-05-01\n",
       "2    2016-05-01 08:00:00   63.0     8  2016-05-01\n",
       "3    2016-05-01 09:00:00  108.0     9  2016-05-01\n",
       "4    2016-05-01 10:00:00  201.0    10  2016-05-01\n",
       "5    2016-05-01 11:00:00  322.0    11  2016-05-01\n",
       "6    2016-05-01 12:00:00  415.0    12  2016-05-01\n",
       "7    2016-05-01 13:00:00  510.0    13  2016-05-01\n",
       "8    2016-05-01 14:00:00  579.0    14  2016-05-01\n",
       "9    2016-05-01 15:00:00  574.0    15  2016-05-01\n",
       "10   2016-05-01 16:00:00  584.0    16  2016-05-01\n",
       "11   2016-05-01 17:00:00  554.0    17  2016-05-01\n",
       "12   2016-05-01 18:00:00  527.0    18  2016-05-01\n",
       "13   2016-05-01 19:00:00  398.0    19  2016-05-01\n",
       "14   2016-05-01 20:00:00  353.0    20  2016-05-01\n",
       "15   2016-05-01 21:00:00  285.0    21  2016-05-01\n",
       "16   2016-05-01 22:00:00  241.0    22  2016-05-01\n",
       "17   2016-05-01 23:00:00  158.0    23  2016-05-01\n",
       "18   2016-05-02 00:00:00    0.0     0  2016-05-02\n",
       "19   2016-05-02 01:00:00    0.0     1  2016-05-02\n",
       "20   2016-05-02 02:00:00    0.0     2  2016-05-02\n",
       "21   2016-05-02 03:00:00    0.0     3  2016-05-02\n",
       "22   2016-05-02 04:00:00    0.0     4  2016-05-02\n",
       "23   2016-05-02 05:00:00    0.0     5  2016-05-02\n",
       "24   2016-05-02 06:00:00  223.0     6  2016-05-02\n",
       "25   2016-05-02 07:00:00  707.0     7  2016-05-02\n",
       "26   2016-05-02 08:00:00  746.0     8  2016-05-02\n",
       "27   2016-05-02 09:00:00  352.0     9  2016-05-02\n",
       "28   2016-05-02 10:00:00  231.0    10  2016-05-02\n",
       "29   2016-05-02 11:00:00  287.0    11  2016-05-02\n",
       "...                  ...    ...   ...         ...\n",
       "5100 2016-11-29 18:00:00  293.0    18  2016-11-29\n",
       "5101 2016-11-29 19:00:00  235.0    19  2016-11-29\n",
       "5102 2016-11-29 20:00:00  228.0    20  2016-11-29\n",
       "5103 2016-11-29 21:00:00  191.0    21  2016-11-29\n",
       "5104 2016-11-29 22:00:00  159.0    22  2016-11-29\n",
       "5105 2016-11-29 23:00:00  103.0    23  2016-11-29\n",
       "5106 2016-11-30 00:00:00    0.0     0  2016-11-30\n",
       "5107 2016-11-30 01:00:00    0.0     1  2016-11-30\n",
       "5108 2016-11-30 02:00:00    0.0     2  2016-11-30\n",
       "5109 2016-11-30 03:00:00    0.0     3  2016-11-30\n",
       "5110 2016-11-30 04:00:00    0.0     4  2016-11-30\n",
       "5111 2016-11-30 05:00:00    1.0     5  2016-11-30\n",
       "5112 2016-11-30 06:00:00  112.0     6  2016-11-30\n",
       "5113 2016-11-30 07:00:00  343.0     7  2016-11-30\n",
       "5114 2016-11-30 08:00:00  557.0     8  2016-11-30\n",
       "5115 2016-11-30 09:00:00  254.0     9  2016-11-30\n",
       "5116 2016-11-30 10:00:00  143.0    10  2016-11-30\n",
       "5117 2016-11-30 11:00:00  171.0    11  2016-11-30\n",
       "5118 2016-11-30 12:00:00  170.0    12  2016-11-30\n",
       "5119 2016-11-30 13:00:00  184.0    13  2016-11-30\n",
       "5120 2016-11-30 14:00:00  259.0    14  2016-11-30\n",
       "5121 2016-11-30 15:00:00  405.0    15  2016-11-30\n",
       "5122 2016-11-30 16:00:00  436.0    16  2016-11-30\n",
       "5123 2016-11-30 17:00:00  349.0    17  2016-11-30\n",
       "5124 2016-11-30 18:00:00  303.0    18  2016-11-30\n",
       "5125 2016-11-30 19:00:00  236.0    19  2016-11-30\n",
       "5126 2016-11-30 20:00:00  197.0    20  2016-11-30\n",
       "5127 2016-11-30 21:00:00  172.0    21  2016-11-30\n",
       "5128 2016-11-30 22:00:00  151.0    22  2016-11-30\n",
       "5129 2016-11-30 23:00:00   86.0    23  2016-11-30\n",
       "\n",
       "[5130 rows x 4 columns]"
      ]
     },
     "execution_count": 176,
     "metadata": {},
     "output_type": "execute_result"
    }
   ],
   "source": [
    "per_hour"
   ]
  },
  {
   "cell_type": "code",
   "execution_count": 177,
   "metadata": {
    "collapsed": false
   },
   "outputs": [
    {
     "data": {
      "text/plain": [
       "Index([u'Start station', u'Start time', u'End station', u'End time',\n",
       "       u'timestamp', u'count'],\n",
       "      dtype='object')"
      ]
     },
     "execution_count": 177,
     "metadata": {},
     "output_type": "execute_result"
    }
   ],
   "source": [
    "data.columns"
   ]
  },
  {
   "cell_type": "code",
   "execution_count": 188,
   "metadata": {
    "collapsed": true
   },
   "outputs": [],
   "source": [
    "d = data[['timestamp', 'count', 'Start station']]"
   ]
  },
  {
   "cell_type": "code",
   "execution_count": 191,
   "metadata": {
    "collapsed": false
   },
   "outputs": [],
   "source": [
    "per_time_and_station = d.groupby('Start station').apply(lambda x: x.set_index('timestamp').resample('1h').sum().fillna(0))"
   ]
  },
  {
   "cell_type": "code",
   "execution_count": 192,
   "metadata": {
    "collapsed": true
   },
   "outputs": [],
   "source": [
    "del per_time_and_station['Start station']"
   ]
  },
  {
   "cell_type": "code",
   "execution_count": 195,
   "metadata": {
    "collapsed": false
   },
   "outputs": [],
   "source": [
    "pts = per_time_and_station.reset_index()"
   ]
  },
  {
   "cell_type": "code",
   "execution_count": 196,
   "metadata": {
    "collapsed": true
   },
   "outputs": [],
   "source": [
    "pts['date'] = pts.timestamp.apply(lambda x: x.date())"
   ]
  },
  {
   "cell_type": "code",
   "execution_count": 197,
   "metadata": {
    "collapsed": true
   },
   "outputs": [],
   "source": [
    "pts['hour'] = pts.timestamp.apply(lambda x: x.hour)"
   ]
  },
  {
   "cell_type": "code",
   "execution_count": 198,
   "metadata": {
    "collapsed": true
   },
   "outputs": [],
   "source": [
    "pivoted = pts.pivot_table(index=['date', 'Start station'], values='count', columns='hour').fillna(0)"
   ]
  },
  {
   "cell_type": "code",
   "execution_count": 204,
   "metadata": {
    "collapsed": false
   },
   "outputs": [],
   "source": [
    "ks = range(2, 30)"
   ]
  },
  {
   "cell_type": "code",
   "execution_count": 205,
   "metadata": {
    "collapsed": true
   },
   "outputs": [],
   "source": [
    "models = [KMeans(k).fit(pivoted) for k in ks]"
   ]
  },
  {
   "cell_type": "code",
   "execution_count": 206,
   "metadata": {
    "collapsed": true
   },
   "outputs": [],
   "source": [
    "scores = [-m.score(pivoted) for m in models]"
   ]
  },
  {
   "cell_type": "code",
   "execution_count": 207,
   "metadata": {
    "collapsed": false
   },
   "outputs": [
    {
     "data": {
      "text/plain": [
       "[<matplotlib.lines.Line2D at 0x1284145d0>]"
      ]
     },
     "execution_count": 207,
     "metadata": {},
     "output_type": "execute_result"
    },
    {
     "data": {
      "image/png": "[encoded data removed]",
      "text/plain": [
       "<matplotlib.figure.Figure at 0x1288922d0>"
      ]
     },
     "metadata": {},
     "output_type": "display_data"
    }
   ],
   "source": [
    "plt.plot(ks, scores)"
   ]
  },
  {
   "cell_type": "code",
   "execution_count": 234,
   "metadata": {
    "collapsed": false
   },
   "outputs": [
    {
     "data": {
      "text/plain": [
       "<matplotlib.legend.Legend at 0x189716e10>"
      ]
     },
     "execution_count": 234,
     "metadata": {},
     "output_type": "execute_result"
    },
    {
     "data": {
      "image/png": "[encoded data removed]",
      "text/plain": [
       "<matplotlib.figure.Figure at 0x132a85410>"
      ]
     },
     "metadata": {},
     "output_type": "display_data"
    }
   ],
   "source": [
    "for n, c in enumerate(models[ks.index(7)].cluster_centers_):\n",
    "    plt.plot(c, label='{}'.format(n))\n",
    "plt.legend()"
   ]
  },
  {
   "cell_type": "code",
   "execution_count": 215,
   "metadata": {
    "collapsed": true
   },
   "outputs": [],
   "source": [
    "pred = pandas.DataFrame({'label': models[ks.index(7)].labels_}, index=pivoted.index).reset_index()"
   ]
  },
  {
   "cell_type": "code",
   "execution_count": null,
   "metadata": {
    "collapsed": true
   },
   "outputs": [],
   "source": [
    "pred.name"
   ]
  },
  {
   "cell_type": "code",
   "execution_count": 225,
   "metadata": {
    "collapsed": false
   },
   "outputs": [],
   "source": [
    "p_new = pred.groupby(['label', 'Start station']).size().rename('count').reset_index()\n",
    "#.pivot_table(index='label', columns='Start station', values='count').plot.bar()"
   ]
  },
  {
   "cell_type": "code",
   "execution_count": 262,
   "metadata": {
    "collapsed": false
   },
   "outputs": [
    {
     "data": {
      "text/html": [
       "<div>\n",
       "<table border=\"1\" class=\"dataframe\">\n",
       "  <thead>\n",
       "    <tr style=\"text-align: right;\">\n",
       "      <th></th>\n",
       "      <th>label</th>\n",
       "      <th>Start station</th>\n",
       "      <th>count</th>\n",
       "    </tr>\n",
       "  </thead>\n",
       "  <tbody>\n",
       "    <tr>\n",
       "      <th>311</th>\n",
       "      <td>3</td>\n",
       "      <td>208.0</td>\n",
       "      <td>102</td>\n",
       "    </tr>\n",
       "    <tr>\n",
       "      <th>337</th>\n",
       "      <td>3</td>\n",
       "      <td>245.0</td>\n",
       "      <td>113</td>\n",
       "    </tr>\n",
       "  </tbody>\n",
       "</table>\n",
       "</div>"
      ],
      "text/plain": [
       "     label  Start station  count\n",
       "311      3          208.0    102\n",
       "337      3          245.0    113"
      ]
     },
     "execution_count": 262,
     "metadata": {},
     "output_type": "execute_result"
    }
   ],
   "source": [
    "p_new[(p_new['count'] > 100) & (p_new.label == 3)]"
   ]
  },
  {
   "cell_type": "code",
   "execution_count": 239,
   "metadata": {
    "collapsed": false
   },
   "outputs": [],
   "source": [
    "?pandas.read_json('data/bysykkel_stations.json', orient='records')"
   ]
  },
  {
   "cell_type": "code",
   "execution_count": 241,
   "metadata": {
    "collapsed": true
   },
   "outputs": [],
   "source": [
    "import json"
   ]
  },
  {
   "cell_type": "code",
   "execution_count": 247,
   "metadata": {
    "collapsed": false
   },
   "outputs": [],
   "source": [
    "s = json.dumps(json.load(open('data/bysykkel_stations.json'))['stations'])"
   ]
  },
  {
   "cell_type": "code",
   "execution_count": 249,
   "metadata": {
    "collapsed": false
   },
   "outputs": [],
   "source": [
    "stations = pandas.read_json(s, orient='records')"
   ]
  },
  {
   "cell_type": "code",
   "execution_count": 265,
   "metadata": {
    "collapsed": false
   },
   "outputs": [
    {
     "data": {
      "text/html": [
       "<div>\n",
       "<table border=\"1\" class=\"dataframe\">\n",
       "  <thead>\n",
       "    <tr style=\"text-align: right;\">\n",
       "      <th></th>\n",
       "      <th>bounds</th>\n",
       "      <th>center</th>\n",
       "      <th>id</th>\n",
       "      <th>in_service</th>\n",
       "      <th>number_of_locks</th>\n",
       "      <th>subtitle</th>\n",
       "      <th>title</th>\n",
       "    </tr>\n",
       "  </thead>\n",
       "  <tbody>\n",
       "    <tr>\n",
       "      <th>83</th>\n",
       "      <td>[{u'latitude': 59.904370088, u'longitude': 10....</td>\n",
       "      <td>{u'latitude': 59.904441, u'longitude': 10.786188}</td>\n",
       "      <td>245</td>\n",
       "      <td>True</td>\n",
       "      <td>30</td>\n",
       "      <td>ved treningssenteret</td>\n",
       "      <td>Kværnerbyen</td>\n",
       "    </tr>\n",
       "  </tbody>\n",
       "</table>\n",
       "</div>"
      ],
      "text/plain": [
       "                                               bounds  \\\n",
       "83  [{u'latitude': 59.904370088, u'longitude': 10....   \n",
       "\n",
       "                                               center   id in_service  \\\n",
       "83  {u'latitude': 59.904441, u'longitude': 10.786188}  245       True   \n",
       "\n",
       "    number_of_locks              subtitle        title  \n",
       "83               30  ved treningssenteret  Kværnerbyen  "
      ]
     },
     "execution_count": 265,
     "metadata": {},
     "output_type": "execute_result"
    }
   ],
   "source": [
    "stations[stations.id == 245]"
   ]
  }
 ],
 "metadata": {
  "kernelspec": {
   "display_name": "Python 2",
   "language": "python",
   "name": "python2"
  },
  "language_info": {
   "codemirror_mode": {
    "name": "ipython",
    "version": 2
   },
   "file_extension": ".py",
   "mimetype": "text/x-python",
   "name": "python",
   "nbconvert_exporter": "python",
   "pygments_lexer": "ipython2",
   "version": "2.7.10"
  }
 },
 "nbformat": 4,
 "nbformat_minor": 2
}
