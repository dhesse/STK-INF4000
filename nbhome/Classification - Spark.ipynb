{
 "cells": [
  {
   "cell_type": "code",
   "execution_count": 6,
   "metadata": {
    "collapsed": false
   },
   "outputs": [],
   "source": [
    "rawRDD = sc.textFile('data/covtype.data.gz')"
   ]
  },
  {
   "cell_type": "code",
   "execution_count": 7,
   "metadata": {
    "collapsed": true
   },
   "outputs": [],
   "source": [
    "column_names = (\n",
    "[\"Elevation\",\n",
    "\"Aspect\",\n",
    "\"Slope\",\n",
    "\"Horizontal_Distance_To_Hydrology\",\n",
    "\"Vertical_Distance_To_Hydrology\",\n",
    "\"Horizontal_Distance_To_Roadways\",\n",
    "\"Hillshade_9am\",\n",
    "\"Hillshade_Noon\",\n",
    "\"Hillshade_3pm\",\n",
    "\"Horizontal_Distance_To_Fire_Points\"]\n",
    "    + ['WE{}'.format(i) for i in range(4)]\n",
    "    + ['ST{}'.format(i) for i in range(40)]\n",
    "    + ['Cover'])"
   ]
  },
  {
   "cell_type": "code",
   "execution_count": 8,
   "metadata": {
    "collapsed": true
   },
   "outputs": [],
   "source": [
    "from pyspark.sql import Row"
   ]
  },
  {
   "cell_type": "code",
   "execution_count": 9,
   "metadata": {
    "collapsed": false
   },
   "outputs": [],
   "source": [
    "cover = spark.createDataFrame(\n",
    "    rawRDD\n",
    "     .map(lambda x: [float(i) for i in x.split(',')])\n",
    "     .map(lambda x: Row(**{col:v for col, v in zip(column_names, x)})))"
   ]
  },
  {
   "cell_type": "code",
   "execution_count": 50,
   "metadata": {
    "collapsed": false
   },
   "outputs": [
    {
     "name": "stdout",
     "output_type": "stream",
     "text": [
      "root\n",
      " |-- Aspect: double (nullable = true)\n",
      " |-- Cover: double (nullable = true)\n",
      " |-- Elevation: double (nullable = true)\n",
      " |-- Hillshade_3pm: double (nullable = true)\n",
      " |-- Hillshade_9am: double (nullable = true)\n",
      " |-- Hillshade_Noon: double (nullable = true)\n",
      " |-- Horizontal_Distance_To_Fire_Points: double (nullable = true)\n",
      " |-- Horizontal_Distance_To_Hydrology: double (nullable = true)\n",
      " |-- Horizontal_Distance_To_Roadways: double (nullable = true)\n",
      " |-- ST0: double (nullable = true)\n",
      " |-- ST1: double (nullable = true)\n",
      " |-- ST10: double (nullable = true)\n",
      " |-- ST11: double (nullable = true)\n",
      " |-- ST12: double (nullable = true)\n",
      " |-- ST13: double (nullable = true)\n",
      " |-- ST14: double (nullable = true)\n",
      " |-- ST15: double (nullable = true)\n",
      " |-- ST16: double (nullable = true)\n",
      " |-- ST17: double (nullable = true)\n",
      " |-- ST18: double (nullable = true)\n",
      " |-- ST19: double (nullable = true)\n",
      " |-- ST2: double (nullable = true)\n",
      " |-- ST20: double (nullable = true)\n",
      " |-- ST21: double (nullable = true)\n",
      " |-- ST22: double (nullable = true)\n",
      " |-- ST23: double (nullable = true)\n",
      " |-- ST24: double (nullable = true)\n",
      " |-- ST25: double (nullable = true)\n",
      " |-- ST26: double (nullable = true)\n",
      " |-- ST27: double (nullable = true)\n",
      " |-- ST28: double (nullable = true)\n",
      " |-- ST29: double (nullable = true)\n",
      " |-- ST3: double (nullable = true)\n",
      " |-- ST30: double (nullable = true)\n",
      " |-- ST31: double (nullable = true)\n",
      " |-- ST32: double (nullable = true)\n",
      " |-- ST33: double (nullable = true)\n",
      " |-- ST34: double (nullable = true)\n",
      " |-- ST35: double (nullable = true)\n",
      " |-- ST36: double (nullable = true)\n",
      " |-- ST37: double (nullable = true)\n",
      " |-- ST38: double (nullable = true)\n",
      " |-- ST39: double (nullable = true)\n",
      " |-- ST4: double (nullable = true)\n",
      " |-- ST5: double (nullable = true)\n",
      " |-- ST6: double (nullable = true)\n",
      " |-- ST7: double (nullable = true)\n",
      " |-- ST8: double (nullable = true)\n",
      " |-- ST9: double (nullable = true)\n",
      " |-- Slope: double (nullable = true)\n",
      " |-- Vertical_Distance_To_Hydrology: double (nullable = true)\n",
      " |-- WE0: double (nullable = true)\n",
      " |-- WE1: double (nullable = true)\n",
      " |-- WE2: double (nullable = true)\n",
      " |-- WE3: double (nullable = true)\n",
      "\n"
     ]
    }
   ],
   "source": [
    "cover.printSchema()"
   ]
  },
  {
   "cell_type": "code",
   "execution_count": 10,
   "metadata": {
    "collapsed": false
   },
   "outputs": [
    {
     "name": "stdout",
     "output_type": "stream",
     "text": [
      "+---------+------+-----+\n",
      "|elevation|aspect|slope|\n",
      "+---------+------+-----+\n",
      "|   2596.0|  51.0|  3.0|\n",
      "|   2590.0|  56.0|  2.0|\n",
      "|   2804.0| 139.0|  9.0|\n",
      "|   2785.0| 155.0| 18.0|\n",
      "|   2595.0|  45.0|  2.0|\n",
      "+---------+------+-----+\n",
      "only showing top 5 rows\n",
      "\n"
     ]
    }
   ],
   "source": [
    "cover['elevation', 'aspect', 'slope'].show(5)"
   ]
  },
  {
   "cell_type": "code",
   "execution_count": 11,
   "metadata": {
    "collapsed": false
   },
   "outputs": [
    {
     "name": "stdout",
     "output_type": "stream",
     "text": [
      "+---------+-----+\n",
      "|elevation|slope|\n",
      "+---------+-----+\n",
      "|   2596.0|  3.0|\n",
      "|   2590.0|  2.0|\n",
      "|   2804.0|  9.0|\n",
      "|   2785.0| 18.0|\n",
      "|   2595.0|  2.0|\n",
      "+---------+-----+\n",
      "only showing top 5 rows\n",
      "\n"
     ]
    }
   ],
   "source": [
    "cover.select(cover['elevation'], cover['slope']).show(5)"
   ]
  },
  {
   "cell_type": "code",
   "execution_count": 12,
   "metadata": {
    "collapsed": false
   },
   "outputs": [
    {
     "name": "stdout",
     "output_type": "stream",
     "text": [
      "+----------------+\n",
      "|(elevation / 10)|\n",
      "+----------------+\n",
      "|           259.6|\n",
      "|           259.0|\n",
      "|           280.4|\n",
      "|           278.5|\n",
      "|           259.5|\n",
      "+----------------+\n",
      "only showing top 5 rows\n",
      "\n"
     ]
    }
   ],
   "source": [
    "cover.select(cover['elevation'] / 10).show(5)"
   ]
  },
  {
   "cell_type": "code",
   "execution_count": 15,
   "metadata": {
    "collapsed": false
   },
   "outputs": [
    {
     "name": "stdout",
     "output_type": "stream",
     "text": [
      "+---------+-----+\n",
      "|elevation|slope|\n",
      "+---------+-----+\n",
      "|   2785.0| 18.0|\n",
      "|   2886.0| 11.0|\n",
      "|   2742.0| 22.0|\n",
      "|   2880.0| 17.0|\n",
      "|   2768.0| 23.0|\n",
      "+---------+-----+\n",
      "only showing top 5 rows\n",
      "\n"
     ]
    }
   ],
   "source": [
    "cover.filter(cover['slope']>10).select(cover['elevation'], cover['slope']).show(5)"
   ]
  },
  {
   "cell_type": "code",
   "execution_count": 21,
   "metadata": {
    "collapsed": false
   },
   "outputs": [],
   "source": [
    "d = cover.sample(True, 0.05)"
   ]
  },
  {
   "cell_type": "code",
   "execution_count": 23,
   "metadata": {
    "collapsed": false
   },
   "outputs": [
    {
     "data": {
      "text/plain": [
       "DataFrame[Aspect: double, Cover: double, Elevation: double, Hillshade_3pm: double, Hillshade_9am: double, Hillshade_Noon: double, Horizontal_Distance_To_Fire_Points: double, Horizontal_Distance_To_Hydrology: double, Horizontal_Distance_To_Roadways: double, ST0: double, ST1: double, ST10: double, ST11: double, ST12: double, ST13: double, ST14: double, ST15: double, ST16: double, ST17: double, ST18: double, ST19: double, ST2: double, ST20: double, ST21: double, ST22: double, ST23: double, ST24: double, ST25: double, ST26: double, ST27: double, ST28: double, ST29: double, ST3: double, ST30: double, ST31: double, ST32: double, ST33: double, ST34: double, ST35: double, ST36: double, ST37: double, ST38: double, ST39: double, ST4: double, ST5: double, ST6: double, ST7: double, ST8: double, ST9: double, Slope: double, Vertical_Distance_To_Hydrology: double, WE0: double, WE1: double, WE2: double, WE3: double]"
      ]
     },
     "execution_count": 23,
     "metadata": {},
     "output_type": "execute_result"
    }
   ],
   "source": [
    "d.cache()"
   ]
  },
  {
   "cell_type": "code",
   "execution_count": 22,
   "metadata": {
    "collapsed": false
   },
   "outputs": [
    {
     "name": "stdout",
     "output_type": "stream",
     "text": [
      "+-----+------------------+\n",
      "|Cover|        avg(slope)|\n",
      "+-----+------------------+\n",
      "|  7.0|14.536800785083415|\n",
      "|  1.0|13.070262664165103|\n",
      "|  4.0| 19.56081081081081|\n",
      "|  3.0|20.445945945945947|\n",
      "|  2.0|13.581538244226287|\n",
      "|  6.0| 18.97245508982036|\n",
      "|  5.0|17.031390134529147|\n",
      "+-----+------------------+\n",
      "\n"
     ]
    }
   ],
   "source": [
    "d.groupBy('Cover').agg({'slope': 'avg'}).show()"
   ]
  },
  {
   "cell_type": "code",
   "execution_count": 41,
   "metadata": {
    "collapsed": false
   },
   "outputs": [
    {
     "name": "stdout",
     "output_type": "stream",
     "text": [
      "+-----+-----------+----------+\n",
      "|Cover|max(aspect)|min(slope)|\n",
      "+-----+-----------+----------+\n",
      "|  7.0|      359.0|       1.0|\n",
      "|  1.0|      359.0|       0.0|\n",
      "|  4.0|      354.0|       2.0|\n",
      "|  3.0|      360.0|       0.0|\n",
      "|  2.0|      359.0|       0.0|\n",
      "|  6.0|      359.0|       1.0|\n",
      "|  5.0|      357.0|       2.0|\n",
      "+-----+-----------+----------+\n",
      "\n"
     ]
    }
   ],
   "source": [
    "d.groupBy('Cover').agg({'slope': 'avg', 'slope': 'min', 'aspect': 'max'}).show()"
   ]
  },
  {
   "cell_type": "code",
   "execution_count": 51,
   "metadata": {
    "collapsed": false
   },
   "outputs": [
    {
     "data": {
      "text/html": [
       "<div>\n",
       "<table border=\"1\" class=\"dataframe\">\n",
       "  <thead>\n",
       "    <tr style=\"text-align: right;\">\n",
       "      <th></th>\n",
       "      <th>Cover</th>\n",
       "      <th>max(aspect)</th>\n",
       "      <th>min(slope)</th>\n",
       "    </tr>\n",
       "  </thead>\n",
       "  <tbody>\n",
       "    <tr>\n",
       "      <th>0</th>\n",
       "      <td>7.0</td>\n",
       "      <td>359.0</td>\n",
       "      <td>1.0</td>\n",
       "    </tr>\n",
       "    <tr>\n",
       "      <th>1</th>\n",
       "      <td>1.0</td>\n",
       "      <td>359.0</td>\n",
       "      <td>0.0</td>\n",
       "    </tr>\n",
       "    <tr>\n",
       "      <th>2</th>\n",
       "      <td>4.0</td>\n",
       "      <td>354.0</td>\n",
       "      <td>2.0</td>\n",
       "    </tr>\n",
       "    <tr>\n",
       "      <th>3</th>\n",
       "      <td>3.0</td>\n",
       "      <td>360.0</td>\n",
       "      <td>0.0</td>\n",
       "    </tr>\n",
       "    <tr>\n",
       "      <th>4</th>\n",
       "      <td>2.0</td>\n",
       "      <td>359.0</td>\n",
       "      <td>0.0</td>\n",
       "    </tr>\n",
       "    <tr>\n",
       "      <th>5</th>\n",
       "      <td>6.0</td>\n",
       "      <td>359.0</td>\n",
       "      <td>1.0</td>\n",
       "    </tr>\n",
       "    <tr>\n",
       "      <th>6</th>\n",
       "      <td>5.0</td>\n",
       "      <td>357.0</td>\n",
       "      <td>2.0</td>\n",
       "    </tr>\n",
       "  </tbody>\n",
       "</table>\n",
       "</div>"
      ],
      "text/plain": [
       "   Cover  max(aspect)  min(slope)\n",
       "0    7.0        359.0         1.0\n",
       "1    1.0        359.0         0.0\n",
       "2    4.0        354.0         2.0\n",
       "3    3.0        360.0         0.0\n",
       "4    2.0        359.0         0.0\n",
       "5    6.0        359.0         1.0\n",
       "6    5.0        357.0         2.0"
      ]
     },
     "execution_count": 51,
     "metadata": {},
     "output_type": "execute_result"
    }
   ],
   "source": [
    "d.groupBy('Cover').agg({'slope': 'avg', 'slope': 'min', 'aspect': 'max'}).toPandas()"
   ]
  },
  {
   "cell_type": "code",
   "execution_count": 53,
   "metadata": {
    "collapsed": false
   },
   "outputs": [
    {
     "data": {
      "text/plain": [
       "[u'{\"Cover\":7.0,\"max(aspect)\":359.0,\"min(slope)\":1.0}',\n",
       " u'{\"Cover\":1.0,\"max(aspect)\":359.0,\"min(slope)\":0.0}',\n",
       " u'{\"Cover\":4.0,\"max(aspect)\":354.0,\"min(slope)\":2.0}',\n",
       " u'{\"Cover\":3.0,\"max(aspect)\":360.0,\"min(slope)\":0.0}',\n",
       " u'{\"Cover\":2.0,\"max(aspect)\":359.0,\"min(slope)\":0.0}',\n",
       " u'{\"Cover\":6.0,\"max(aspect)\":359.0,\"min(slope)\":1.0}',\n",
       " u'{\"Cover\":5.0,\"max(aspect)\":357.0,\"min(slope)\":2.0}']"
      ]
     },
     "execution_count": 53,
     "metadata": {},
     "output_type": "execute_result"
    }
   ],
   "source": [
    "d.groupBy('Cover').agg({'slope': 'avg', 'slope': 'min', 'aspect': 'max'}).toJSON().collect()"
   ]
  },
  {
   "cell_type": "code",
   "execution_count": 25,
   "metadata": {
    "collapsed": false
   },
   "outputs": [
    {
     "data": {
      "text/plain": [
       "-498.92929709434827"
      ]
     },
     "execution_count": 25,
     "metadata": {},
     "output_type": "execute_result"
    }
   ],
   "source": [
    "d.cov('Slope', 'Elevation')"
   ]
  },
  {
   "cell_type": "code",
   "execution_count": 26,
   "metadata": {
    "collapsed": false
   },
   "outputs": [
    {
     "data": {
      "text/plain": [
       "[2845.0, 2940.0, 3096.0]"
      ]
     },
     "execution_count": 26,
     "metadata": {},
     "output_type": "execute_result"
    }
   ],
   "source": [
    "d.approxQuantile('Elevation', [0.25, 0.5, 0.75], 0.1)"
   ]
  },
  {
   "cell_type": "code",
   "execution_count": 27,
   "metadata": {
    "collapsed": false
   },
   "outputs": [
    {
     "data": {
      "text/plain": [
       "-0.238505570137636"
      ]
     },
     "execution_count": 27,
     "metadata": {},
     "output_type": "execute_result"
    }
   ],
   "source": [
    "d.corr('Slope', 'Elevation')"
   ]
  },
  {
   "cell_type": "code",
   "execution_count": 29,
   "metadata": {
    "collapsed": false
   },
   "outputs": [
    {
     "name": "stdout",
     "output_type": "stream",
     "text": [
      "+-------+-----------------+\n",
      "|summary|            Slope|\n",
      "+-------+-----------------+\n",
      "|  count|            29043|\n",
      "|   mean|14.08559721791826|\n",
      "| stddev|7.496139550768641|\n",
      "|    min|              0.0|\n",
      "|    max|             53.0|\n",
      "+-------+-----------------+\n",
      "\n"
     ]
    }
   ],
   "source": [
    "d.describe('Slope').show()"
   ]
  },
  {
   "cell_type": "code",
   "execution_count": 32,
   "metadata": {
    "collapsed": true
   },
   "outputs": [],
   "source": [
    "dna = spark.createDataFrame(\n",
    "    sc.parallelize([Row(name='John', age=51), Row(name='Jim', age=None), Row(name=None, age=56)]))"
   ]
  },
  {
   "cell_type": "code",
   "execution_count": 34,
   "metadata": {
    "collapsed": false
   },
   "outputs": [
    {
     "name": "stdout",
     "output_type": "stream",
     "text": [
      "+----+----+\n",
      "| age|name|\n",
      "+----+----+\n",
      "|  51|John|\n",
      "|null| Jim|\n",
      "|  56|null|\n",
      "+----+----+\n",
      "\n"
     ]
    }
   ],
   "source": [
    "dna.show()"
   ]
  },
  {
   "cell_type": "code",
   "execution_count": 35,
   "metadata": {
    "collapsed": false
   },
   "outputs": [
    {
     "name": "stdout",
     "output_type": "stream",
     "text": [
      "+---+----+\n",
      "|age|name|\n",
      "+---+----+\n",
      "| 51|John|\n",
      "+---+----+\n",
      "\n"
     ]
    }
   ],
   "source": [
    "dna.dropna().show()"
   ]
  },
  {
   "cell_type": "code",
   "execution_count": 37,
   "metadata": {
    "collapsed": false
   },
   "outputs": [
    {
     "name": "stdout",
     "output_type": "stream",
     "text": [
      "+---+------+\n",
      "|age|  name|\n",
      "+---+------+\n",
      "| 51|  John|\n",
      "| 99|   Jim|\n",
      "| 56|unkown|\n",
      "+---+------+\n",
      "\n"
     ]
    }
   ],
   "source": [
    "dna.na.fill({'name': 'unkown', 'age': 99}).show()"
   ]
  },
  {
   "cell_type": "code",
   "execution_count": 46,
   "metadata": {
    "collapsed": false
   },
   "outputs": [
    {
     "name": "stdout",
     "output_type": "stream",
     "text": [
      "+--------------------+--------------------+\n",
      "|     Slope_freqItems| Elevation_freqItems|\n",
      "+--------------------+--------------------+\n",
      "|[23.0, 41.0, 32.0...|[2407.0, 2443.0, ...|\n",
      "+--------------------+--------------------+\n",
      "\n"
     ]
    }
   ],
   "source": [
    "d.freqItems(['Slope', 'Elevation']).show()"
   ]
  },
  {
   "cell_type": "code",
   "execution_count": 54,
   "metadata": {
    "collapsed": true
   },
   "outputs": [],
   "source": [
    "from pyspark.sql import functions as fn"
   ]
  },
  {
   "cell_type": "code",
   "execution_count": 57,
   "metadata": {
    "collapsed": false
   },
   "outputs": [
    {
     "name": "stdout",
     "output_type": "stream",
     "text": [
      "+------+\n",
      "|dSlope|\n",
      "+------+\n",
      "|    48|\n",
      "+------+\n",
      "\n"
     ]
    }
   ],
   "source": [
    "d.agg(fn.approxCountDistinct(d.Slope).alias('dSlope')).show()"
   ]
  },
  {
   "cell_type": "code",
   "execution_count": 58,
   "metadata": {
    "collapsed": true
   },
   "outputs": [],
   "source": [
    "from pyspark.ml.classification import LogisticRegression"
   ]
  },
  {
   "cell_type": "code",
   "execution_count": 59,
   "metadata": {
    "collapsed": true
   },
   "outputs": [],
   "source": [
    "from pyspark.ml.feature import VectorAssembler"
   ]
  },
  {
   "cell_type": "code",
   "execution_count": 60,
   "metadata": {
    "collapsed": true
   },
   "outputs": [],
   "source": [
    "feature_maker = VectorAssembler(inputCols=column_names[:-1], outputCol='features')"
   ]
  },
  {
   "cell_type": "code",
   "execution_count": 61,
   "metadata": {
    "collapsed": true
   },
   "outputs": [],
   "source": [
    "data = feature_maker.transform(cover)"
   ]
  },
  {
   "cell_type": "code",
   "execution_count": 62,
   "metadata": {
    "collapsed": false
   },
   "outputs": [],
   "source": [
    "train, test = data.randomSplit([0.7, 0.3])"
   ]
  },
  {
   "cell_type": "code",
   "execution_count": 63,
   "metadata": {
    "collapsed": false
   },
   "outputs": [],
   "source": [
    "model = LogisticRegression(labelCol='Cover').fit(train)"
   ]
  },
  {
   "cell_type": "code",
   "execution_count": 70,
   "metadata": {
    "collapsed": false
   },
   "outputs": [],
   "source": [
    "coefs = model.coefficientMatrix.toArray()"
   ]
  },
  {
   "cell_type": "code",
   "execution_count": 86,
   "metadata": {
    "collapsed": false
   },
   "outputs": [],
   "source": [
    "result = model.evaluate(test.sample(False, 0.05))"
   ]
  },
  {
   "cell_type": "code",
   "execution_count": 97,
   "metadata": {
    "collapsed": false
   },
   "outputs": [
    {
     "data": {
      "text/plain": [
       "[Row(avg(hit)=0.7179040316021843)]"
      ]
     },
     "execution_count": 97,
     "metadata": {},
     "output_type": "execute_result"
    }
   ],
   "source": [
    "result.predictions.select((result.predictions.Cover == result.predictions.prediction).cast('float').alias('hit')\n",
    "                         ).groupBy().avg('hit').collect()"
   ]
  },
  {
   "cell_type": "code",
   "execution_count": 76,
   "metadata": {
    "collapsed": false
   },
   "outputs": [
    {
     "name": "stdout",
     "output_type": "stream",
     "text": [
      "Elevation -6.45279652042e-06\n",
      "Aspect -2.13344391291e-06\n",
      "Slope -4.9457617387e-05\n",
      "Horizontal_Distance_To_Hydrology -9.38589203577e-07\n",
      "Vertical_Distance_To_Hydrology -2.47589152659e-06\n",
      "Horizontal_Distance_To_Roadways -1.31143009512e-07\n",
      "Hillshade_9am -5.26193978729e-05\n",
      "Hillshade_Noon -0.000100249318218\n",
      "Hillshade_3pm -1.66596531436e-05\n",
      "Horizontal_Distance_To_Fire_Points -1.63066153936e-07\n",
      "WE0 -0.0001585296118\n",
      "WE1 -0.000101902090242\n",
      "WE2 -0.000469264163037\n",
      "WE3 -0.00029945437528\n",
      "ST0 -0.000166525313459\n",
      "ST1 -0.000418309253342\n",
      "ST2 -0.000378139508961\n",
      "ST3 -0.00049152436918\n",
      "ST4 -0.000166351018859\n",
      "ST5 -0.000416545564359\n",
      "ST6 -2.37201171316e-05\n",
      "ST7 -4.97768046354e-05\n",
      "ST8 -9.31760978478e-05\n",
      "ST9 -0.000444051115756\n",
      "ST10 -0.000490941239731\n",
      "ST11 -5.40127631024e-05\n",
      "ST12 -0.000312155905246\n",
      "ST13 -0.00028726149732\n",
      "ST14 -3.9215551332e-05\n",
      "ST15 -0.000298699188156\n",
      "ST16 -0.00105283354103\n",
      "ST17 -9.9827603025e-05\n",
      "ST18 -0.000102570077866\n",
      "ST19 -0.000157779420483\n",
      "ST20 -7.30806351459e-05\n",
      "ST21 -8.96589437207e-05\n",
      "ST22 -0.000144353244377\n",
      "ST23 -0.000153525233815\n",
      "ST24 -9.35508549438e-05\n",
      "ST25 -0.000175509275646\n",
      "ST26 -0.000186886510506\n",
      "ST27 -8.24713840128e-05\n",
      "ST28 -0.000104458792564\n",
      "ST29 -0.000151054214766\n",
      "ST30 -0.000174655462952\n",
      "ST31 -0.000186777717109\n",
      "ST32 -0.000226571307367\n",
      "ST33 -0.000154318598982\n",
      "ST34 -9.60273231902e-05\n",
      "ST35 -0.000217805858521\n",
      "ST36 -3.82262596284e-05\n",
      "ST37 -0.000117504776011\n",
      "ST38 -0.000113416867679\n",
      "ST39 -0.000103161596426\n"
     ]
    }
   ],
   "source": [
    "for name, c in zip (column_names, coefs[0,:]):\n",
    "    print name, c"
   ]
  },
  {
   "cell_type": "code",
   "execution_count": null,
   "metadata": {
    "collapsed": true
   },
   "outputs": [],
   "source": []
  }
 ],
 "metadata": {
  "kernelspec": {
   "display_name": "Python 2",
   "language": "python",
   "name": "python2"
  },
  "language_info": {
   "codemirror_mode": {
    "name": "ipython",
    "version": 2
   },
   "file_extension": ".py",
   "mimetype": "text/x-python",
   "name": "python",
   "nbconvert_exporter": "python",
   "pygments_lexer": "ipython2",
   "version": "2.7.10"
  }
 },
 "nbformat": 4,
 "nbformat_minor": 2
}
