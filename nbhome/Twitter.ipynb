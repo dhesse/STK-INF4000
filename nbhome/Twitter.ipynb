{
 "cells": [
  {
   "cell_type": "markdown",
   "metadata": {
    "collapsed": true
   },
   "source": [
    "# Authentication\n",
    "\n",
    "Make an app and get keys form https://apps.twitter.co."
   ]
  },
  {
   "cell_type": "code",
   "execution_count": 2,
   "metadata": {
    "collapsed": false
   },
   "outputs": [],
   "source": [
    "import requests\n",
    "from requests_oauthlib import OAuth1"
   ]
  },
  {
   "cell_type": "code",
   "execution_count": 3,
   "metadata": {
    "collapsed": true
   },
   "outputs": [],
   "source": [
    "url = 'https://api.twitter.com/1.1/account/verify_credentials.json'\n",
    "from donthackme import CONSUMER_KEY, CONSUMER_SECRET, TOKEN, TOKEN_SECRET\n",
    "auth = OAuth1(CONSUMER_KEY, CONSUMER_SECRET, TOKEN, TOKEN_SECRET)"
   ]
  },
  {
   "cell_type": "code",
   "execution_count": 4,
   "metadata": {
    "collapsed": true
   },
   "outputs": [],
   "source": [
    "verify_response = requests.get(url, auth=auth)"
   ]
  },
  {
   "cell_type": "code",
   "execution_count": 5,
   "metadata": {
    "collapsed": false,
    "scrolled": true
   },
   "outputs": [
    {
     "data": {
      "text/plain": [
       "{u'contributors_enabled': False,\n",
       " u'created_at': u'Wed Jul 04 01:16:15 +0000 2012',\n",
       " u'default_profile': False,\n",
       " u'default_profile_image': False,\n",
       " u'description': u'Chief data scientist at iKnow Solutions, cook, climber, part-time nerd, recovering software developer, ex berliner, excited about lots of stuff.',\n",
       " u'entities': {u'description': {u'urls': []}},\n",
       " u'favourites_count': 9,\n",
       " u'follow_request_sent': False,\n",
       " u'followers_count': 39,\n",
       " u'following': False,\n",
       " u'friends_count': 87,\n",
       " u'geo_enabled': True,\n",
       " u'has_extended_profile': False,\n",
       " u'id': 626122134,\n",
       " u'id_str': u'626122134',\n",
       " u'is_translation_enabled': False,\n",
       " u'is_translator': False,\n",
       " u'lang': u'en',\n",
       " u'listed_count': 17,\n",
       " u'location': u'Oslo',\n",
       " u'name': u'Dirk Hesse',\n",
       " u'notifications': False,\n",
       " u'profile_background_color': u'000000',\n",
       " u'profile_background_image_url': u'http://abs.twimg.com/images/themes/theme1/bg.png',\n",
       " u'profile_background_image_url_https': u'https://abs.twimg.com/images/themes/theme1/bg.png',\n",
       " u'profile_background_tile': False,\n",
       " u'profile_banner_url': u'https://pbs.twimg.com/profile_banners/626122134/1395296691',\n",
       " u'profile_image_url': u'http://pbs.twimg.com/profile_images/446533000629858305/vw7gIH3i_normal.jpeg',\n",
       " u'profile_image_url_https': u'https://pbs.twimg.com/profile_images/446533000629858305/vw7gIH3i_normal.jpeg',\n",
       " u'profile_link_color': u'ABB8C2',\n",
       " u'profile_sidebar_border_color': u'000000',\n",
       " u'profile_sidebar_fill_color': u'000000',\n",
       " u'profile_text_color': u'000000',\n",
       " u'profile_use_background_image': False,\n",
       " u'protected': False,\n",
       " u'screen_name': u'NotDirkHesse',\n",
       " u'status': {u'contributors': None,\n",
       "  u'coordinates': None,\n",
       "  u'created_at': u'Thu Jan 12 13:14:11 +0000 2017',\n",
       "  u'entities': {u'hashtags': [{u'indices': [25, 37], u'text': u'DataScience'}],\n",
       "   u'symbols': [],\n",
       "   u'urls': [{u'display_url': u'uio.no/studier/emner/\\u2026',\n",
       "     u'expanded_url': u'http://www.uio.no/studier/emner/matnat/math/STK-INF4000/v17/index.html',\n",
       "     u'indices': [81, 104],\n",
       "     u'url': u'https://t.co/RwycAQj7T6'}],\n",
       "   u'user_mentions': []},\n",
       "  u'favorite_count': 1,\n",
       "  u'favorited': False,\n",
       "  u'geo': None,\n",
       "  u'id': 819532932595458049,\n",
       "  u'id_str': u'819532932595458049',\n",
       "  u'in_reply_to_screen_name': None,\n",
       "  u'in_reply_to_status_id': None,\n",
       "  u'in_reply_to_status_id_str': None,\n",
       "  u'in_reply_to_user_id': None,\n",
       "  u'in_reply_to_user_id_str': None,\n",
       "  u'is_quote_status': False,\n",
       "  u'lang': u'en',\n",
       "  u'place': None,\n",
       "  u'possibly_sensitive': False,\n",
       "  u'retweet_count': 0,\n",
       "  u'retweeted': False,\n",
       "  u'source': u'<a href=\"http://twitter.com\" rel=\"nofollow\">Twitter Web Client</a>',\n",
       "  u'text': u\"Excited to be teaching a #DataScience course at UiO starting Monday. Can't wait! https://t.co/RwycAQj7T6\",\n",
       "  u'truncated': False},\n",
       " u'statuses_count': 97,\n",
       " u'time_zone': None,\n",
       " u'translator_type': u'none',\n",
       " u'url': None,\n",
       " u'utc_offset': None,\n",
       " u'verified': False}"
      ]
     },
     "execution_count": 5,
     "metadata": {},
     "output_type": "execute_result"
    }
   ],
   "source": [
    "verify_response.json() # These are credentials connected to your account!"
   ]
  },
  {
   "cell_type": "markdown",
   "metadata": {},
   "source": [
    "# Search\n",
    "\n",
    "Check the documentation at https://dev.twitter.com/rest/public/search."
   ]
  },
  {
   "cell_type": "code",
   "execution_count": 6,
   "metadata": {
    "collapsed": true
   },
   "outputs": [],
   "source": [
    "search_url = 'https://api.twitter.com/1.1/search/tweets.json'\n",
    "params = {'q': 'data science',\n",
    "          'result_type': 'recent'}\n",
    "search_response = requests.get(search_url, auth=auth, params=params)"
   ]
  },
  {
   "cell_type": "code",
   "execution_count": null,
   "metadata": {
    "collapsed": true
   },
   "outputs": [],
   "source": [
    "import json"
   ]
  },
  {
   "cell_type": "code",
   "execution_count": null,
   "metadata": {
    "collapsed": false
   },
   "outputs": [],
   "source": [
    "print json.dumps(search_response.json(), indent=2)"
   ]
  },
  {
   "cell_type": "code",
   "execution_count": 7,
   "metadata": {
    "collapsed": false
   },
   "outputs": [
    {
     "data": {
      "text/plain": [
       "[u'search_metadata', u'statuses']"
      ]
     },
     "execution_count": 7,
     "metadata": {},
     "output_type": "execute_result"
    }
   ],
   "source": [
    "search_response.json().keys()"
   ]
  },
  {
   "cell_type": "code",
   "execution_count": 10,
   "metadata": {
    "collapsed": false
   },
   "outputs": [
    {
     "data": {
      "text/plain": [
       "list"
      ]
     },
     "execution_count": 10,
     "metadata": {},
     "output_type": "execute_result"
    }
   ],
   "source": [
    "type(search_response.json()['statuses'])"
   ]
  },
  {
   "cell_type": "code",
   "execution_count": 8,
   "metadata": {
    "collapsed": false
   },
   "outputs": [
    {
     "data": {
      "text/plain": [
       "[u'contributors',\n",
       " u'truncated',\n",
       " u'text',\n",
       " u'is_quote_status',\n",
       " u'in_reply_to_status_id',\n",
       " u'id',\n",
       " u'favorite_count',\n",
       " u'entities',\n",
       " u'retweeted',\n",
       " u'coordinates',\n",
       " u'source',\n",
       " u'in_reply_to_screen_name',\n",
       " u'in_reply_to_user_id',\n",
       " u'retweet_count',\n",
       " u'id_str',\n",
       " u'favorited',\n",
       " u'retweeted_status',\n",
       " u'user',\n",
       " u'geo',\n",
       " u'in_reply_to_user_id_str',\n",
       " u'lang',\n",
       " u'created_at',\n",
       " u'in_reply_to_status_id_str',\n",
       " u'place',\n",
       " u'metadata']"
      ]
     },
     "execution_count": 8,
     "metadata": {},
     "output_type": "execute_result"
    }
   ],
   "source": [
    "search_response.json().get('statuses')[0].keys()"
   ]
  },
  {
   "cell_type": "code",
   "execution_count": 11,
   "metadata": {
    "collapsed": false
   },
   "outputs": [
    {
     "data": {
      "text/plain": [
       "[u'symbols', u'user_mentions', u'hashtags', u'urls']"
      ]
     },
     "execution_count": 11,
     "metadata": {},
     "output_type": "execute_result"
    }
   ],
   "source": [
    "search_response.json().get('statuses')[0]['entities'].keys()"
   ]
  },
  {
   "cell_type": "code",
   "execution_count": 16,
   "metadata": {
    "collapsed": false
   },
   "outputs": [
    {
     "name": "stdout",
     "output_type": "stream",
     "text": [
      "None\n"
     ]
    }
   ],
   "source": [
    "print search_response.json().get('statuses')[0]['in_reply_to_user_id_str']"
   ]
  },
  {
   "cell_type": "code",
   "execution_count": 9,
   "metadata": {
    "collapsed": false
   },
   "outputs": [
    {
     "data": {
      "text/plain": [
       "[u'follow_request_sent',\n",
       " u'has_extended_profile',\n",
       " u'profile_use_background_image',\n",
       " u'default_profile_image',\n",
       " u'id',\n",
       " u'profile_background_image_url_https',\n",
       " u'verified',\n",
       " u'translator_type',\n",
       " u'profile_text_color',\n",
       " u'profile_image_url_https',\n",
       " u'profile_sidebar_fill_color',\n",
       " u'entities',\n",
       " u'followers_count',\n",
       " u'profile_sidebar_border_color',\n",
       " u'id_str',\n",
       " u'profile_background_color',\n",
       " u'listed_count',\n",
       " u'is_translation_enabled',\n",
       " u'utc_offset',\n",
       " u'statuses_count',\n",
       " u'description',\n",
       " u'friends_count',\n",
       " u'location',\n",
       " u'profile_link_color',\n",
       " u'profile_image_url',\n",
       " u'following',\n",
       " u'geo_enabled',\n",
       " u'profile_banner_url',\n",
       " u'profile_background_image_url',\n",
       " u'screen_name',\n",
       " u'lang',\n",
       " u'profile_background_tile',\n",
       " u'favourites_count',\n",
       " u'name',\n",
       " u'notifications',\n",
       " u'url',\n",
       " u'created_at',\n",
       " u'contributors_enabled',\n",
       " u'time_zone',\n",
       " u'protected',\n",
       " u'default_profile',\n",
       " u'is_translator']"
      ]
     },
     "execution_count": 9,
     "metadata": {},
     "output_type": "execute_result"
    }
   ],
   "source": [
    "search_response.json().get('statuses')[0].get('user').keys()"
   ]
  },
  {
   "cell_type": "code",
   "execution_count": null,
   "metadata": {
    "collapsed": false
   },
   "outputs": [],
   "source": [
    "for i in search_response.json().get('statuses', []):\n",
    "    print i.get('user').get('screen_name'), i.get('text')[:20]"
   ]
  },
  {
   "cell_type": "code",
   "execution_count": null,
   "metadata": {
    "collapsed": true
   },
   "outputs": [],
   "source": [
    "from collections import Counter\n",
    "from urlparse import urlparse"
   ]
  },
  {
   "cell_type": "code",
   "execution_count": null,
   "metadata": {
    "collapsed": false
   },
   "outputs": [],
   "source": [
    "def get_urls(json_result):\n",
    "    for status in json_result.get('statuses', []):\n",
    "        for url in status['entities']['urls']:\n",
    "             yield urlparse(url['expanded_url']).netloc"
   ]
  },
  {
   "cell_type": "code",
   "execution_count": null,
   "metadata": {
    "collapsed": false
   },
   "outputs": [],
   "source": [
    "list(get_urls(search_response.json()))"
   ]
  },
  {
   "cell_type": "code",
   "execution_count": null,
   "metadata": {
    "collapsed": false
   },
   "outputs": [],
   "source": [
    "cnt = Counter(get_urls(search_response.json()))\n",
    "cnt"
   ]
  },
  {
   "cell_type": "code",
   "execution_count": null,
   "metadata": {
    "collapsed": false
   },
   "outputs": [],
   "source": [
    "cnt.most_common(5)"
   ]
  },
  {
   "cell_type": "code",
   "execution_count": null,
   "metadata": {
    "collapsed": true
   },
   "outputs": [],
   "source": [
    "json_response = search_response.json()"
   ]
  },
  {
   "cell_type": "code",
   "execution_count": null,
   "metadata": {
    "collapsed": false
   },
   "outputs": [],
   "source": [
    "next_path = json_response['search_metadata']['next_results']\n",
    "print next_path"
   ]
  },
  {
   "cell_type": "code",
   "execution_count": null,
   "metadata": {
    "collapsed": false
   },
   "outputs": [],
   "source": [
    "more_tweets = requests.get(search_url + next_path, auth=auth).json()"
   ]
  },
  {
   "cell_type": "code",
   "execution_count": null,
   "metadata": {
    "collapsed": true
   },
   "outputs": [],
   "source": [
    "cnt.update(Counter(get_urls(more_tweets)))"
   ]
  },
  {
   "cell_type": "code",
   "execution_count": null,
   "metadata": {
    "collapsed": false
   },
   "outputs": [],
   "source": [
    "cnt.most_common(5)"
   ]
  },
  {
   "cell_type": "markdown",
   "metadata": {},
   "source": [
    "# Pagination Strategies"
   ]
  },
  {
   "cell_type": "code",
   "execution_count": null,
   "metadata": {
    "collapsed": true
   },
   "outputs": [],
   "source": [
    "def tweets(base_url, params, auth):\n",
    "    result = requests.get(base_url, params=params, auth=auth).json()\n",
    "    for tweet in result.get('statuses', []):\n",
    "        yield tweet\n",
    "    print result.get('search_metadata', {})\n",
    "    while result.get('search_metadata', {}).get('next_results', None):\n",
    "        next_url = base_url + result['search_metadata']['next_results']\n",
    "        print next_url\n",
    "        result = requests.get(next_url, auth=auth).json()\n",
    "        for tweet in result.get('statuses', []):\n",
    "            yield tweet"
   ]
  },
  {
   "cell_type": "code",
   "execution_count": null,
   "metadata": {
    "collapsed": true
   },
   "outputs": [],
   "source": [
    "def urls(base_url, params, auth):\n",
    "    for tweet in tweets(base_url, params, auth):\n",
    "        for url in status['entities']['urls']:\n",
    "            yield urlparse(url['expanded_url']).netloc"
   ]
  },
  {
   "cell_type": "code",
   "execution_count": null,
   "metadata": {
    "collapsed": true
   },
   "outputs": [],
   "source": [
    "from itertools import islice"
   ]
  },
  {
   "cell_type": "code",
   "execution_count": null,
   "metadata": {
    "collapsed": false
   },
   "outputs": [],
   "source": [
    "itercount = Counter(islice(urls(search_url, params, auth), 500))"
   ]
  },
  {
   "cell_type": "code",
   "execution_count": null,
   "metadata": {
    "collapsed": false
   },
   "outputs": [],
   "source": [
    "itercount.most_common()"
   ]
  },
  {
   "cell_type": "code",
   "execution_count": null,
   "metadata": {
    "collapsed": false
   },
   "outputs": [],
   "source": [
    "itercount.values()"
   ]
  },
  {
   "cell_type": "markdown",
   "metadata": {},
   "source": [
    "## Streaming"
   ]
  },
  {
   "cell_type": "code",
   "execution_count": null,
   "metadata": {
    "collapsed": false
   },
   "outputs": [],
   "source": [
    "from itertools import islice"
   ]
  },
  {
   "cell_type": "code",
   "execution_count": null,
   "metadata": {
    "collapsed": false
   },
   "outputs": [],
   "source": [
    "r = requests.post('https://stream.twitter.com/1.1/statuses/filter.json',\n",
    "                  params={'track': '#python'},\n",
    "                  auth=auth,\n",
    "                  stream=True)"
   ]
  },
  {
   "cell_type": "code",
   "execution_count": null,
   "metadata": {
    "collapsed": false
   },
   "outputs": [],
   "source": [
    "r"
   ]
  },
  {
   "cell_type": "code",
   "execution_count": null,
   "metadata": {
    "collapsed": false
   },
   "outputs": [],
   "source": [
    "print r.headers"
   ]
  },
  {
   "cell_type": "code",
   "execution_count": null,
   "metadata": {
    "collapsed": true
   },
   "outputs": [],
   "source": [
    "tweets = r.iter_lines()"
   ]
  },
  {
   "cell_type": "code",
   "execution_count": null,
   "metadata": {
    "collapsed": false
   },
   "outputs": [],
   "source": [
    "for tweet in islice(tweets, 20):\n",
    "    try:\n",
    "        tweet_dict = json.loads(tweet)\n",
    "        print tweet_dict['text']\n",
    "    except ValueError:\n",
    "        print \"Empty tweet for keep-alive\""
   ]
  },
  {
   "cell_type": "code",
   "execution_count": null,
   "metadata": {
    "collapsed": true
   },
   "outputs": [],
   "source": [
    "r.close()"
   ]
  },
  {
   "cell_type": "code",
   "execution_count": null,
   "metadata": {
    "collapsed": true
   },
   "outputs": [],
   "source": []
  }
 ],
 "metadata": {
  "kernelspec": {
   "display_name": "Python 2",
   "language": "python",
   "name": "python2"
  },
  "language_info": {
   "codemirror_mode": {
    "name": "ipython",
    "version": 2
   },
   "file_extension": ".py",
   "mimetype": "text/x-python",
   "name": "python",
   "nbconvert_exporter": "python",
   "pygments_lexer": "ipython2",
   "version": "2.7.12"
  }
 },
 "nbformat": 4,
 "nbformat_minor": 2
}
