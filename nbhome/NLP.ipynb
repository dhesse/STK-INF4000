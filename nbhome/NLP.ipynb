{
 "cells": [
  {
   "cell_type": "code",
   "execution_count": 40,
   "metadata": {
    "collapsed": true
   },
   "outputs": [],
   "source": [
    "import nltk\n",
    "from bs4 import BeautifulSoup\n",
    "import requests\n",
    "import wikipedia"
   ]
  },
  {
   "cell_type": "code",
   "execution_count": 2,
   "metadata": {
    "collapsed": true
   },
   "outputs": [],
   "source": [
    "def getText(url):\n",
    "    soup = BeautifulSoup(requests.get(url).text, 'lxml')\n",
    "    for unwanted in soup(['script', 'style']):\n",
    "        unwanted.decompose()\n",
    "    return soup.get_text()"
   ]
  },
  {
   "cell_type": "code",
   "execution_count": 41,
   "metadata": {
    "collapsed": true
   },
   "outputs": [],
   "source": [
    "obama_page = wikipedia.page(\"Barack Obama\")"
   ]
  },
  {
   "cell_type": "code",
   "execution_count": 42,
   "metadata": {
    "collapsed": true
   },
   "outputs": [
    {
     "data": {
      "text/plain": [
       "u'Barack Hussein Obama II (US /b\\u0259\\u02c8r\\u0251\\u02d0k hu\\u02d0\\u02c8se\\u026an o\\u028a\\u02c8b\\u0251\\u02d0m\\u0259/ b\\u0259-RAHK hoo-SAYN oh-BAH-m\\u0259; born August 4, 1961) is an American politician who served as the 44th President of the United States from 2009 to 2017. He is the first African American to have served as president, as well as the first born outside the contiguous United States. He previously served in the U.S. Senate representing Illinois from 2005 to 2008, and in the Illinois State Senate from 1997 to 2004.\\nObama was born in Honolulu, Hawaii, two years after the territory was admitted to the Union as the 50th state. He grew up mostly in Hawaii, but also spent one year of his childhood in Washington State and four years in Indonesia. After graduating from Columbia University in 1983, he worked as a community organizer in Chicago. In 1988 Obama enrolled in Harvard Law School, where he was the first black president of the Harvard Law Review. After graduation, he became a civil rights attorney and professor, teaching constitutional law at the University of Chicago Law School from 1992 to 2004. Obama represented the 13th District for three terms in the Illinois Senate from 1997 to 2004, when he ran for the U.S. Senate. Obama received national attention in 2004, with his unexpected March primary win, his well-received July Democratic National Convention keynote address, and his landslide November election to the Senate. In 2008, Obama was nominated for president, a year after his campaign began, and after a close primary campaign against Hillary Clinton. He was elected over Republican John McCain, and was inaugurated on January 20, 2009. Nine months later, Obama was named the 2009 Nobel Peace Prize laureate.\\nDuring his first two years in office, Obama signed many landmark bills. Main reforms were the Patient Protection and Affordable Care Act (often referred to as \"Obamacare\"), the Dodd\\u2013Frank Wall Street Reform and Consumer Protection Act, and the Don\\'t Ask, Don\\'t Tell Repeal Act of 2010. The American Recovery and Reinvestment Act of 2009 and Tax Relief, Unemployment Insurance Reauthorization, and Job Creation Act of 2010 served as economic stimulus amidst the Great Recession, but the GOP regained control of the House of Representatives in 2011. After a lengthy debate over the national debt limit, Obama signed the Budget Control and the American Taxpayer Relief Acts. In foreign policy, Obama increased U.S. troop levels in Afghanistan, reduced nuclear weapons with the U.S.-Russian New START treaty, and ended military involvement in the Iraq War. He ordered military involvement in Libya in opposition to Muammar Gaddafi, and the military operation that resulted in the death of Osama bin Laden.\\nAfter winning re-election by defeating Republican nominee Mitt Romney, Obama was sworn in for a second term in 2013. During his second term, Obama promoted greater inclusiveness for LGBT Americans, with his administration filing briefs that urged the Supreme Court to strike down same-sex marriage bans as unconstitutional (United States v. Windsor and Obergefell v. Hodges). Obama also advocated gun control in response to the Sandy Hook Elementary School shooting, and issued wide-ranging executive actions concerning climate change and immigration. In foreign policy, Obama ordered military intervention in Iraq in response to gains made by ISIL after the 2011 withdrawal from Iraq, continued the process of ending U.S. combat operations in Afghanistan, promoted discussions that led to the 2015 Paris Agreement on global climate change, initiated the sanctions against Russia following the invasion in Ukraine, brokered a nuclear deal with Iran, and normalized U.S. relations with Cuba.\\nObama left office in January 2017 with a 60% approval rating. He currently resides in Washington, D.C. His presidential library will be built in Chicago.\\n\\n\\n== Early life and career ==\\n\\nObama was born on August 4, 1961, at Kapi\\u02bbolani Maternity & Gynecological Hospital in Honolulu, Hawaii. He is the only President to have been born in Hawaii. He was born to a white mother and a black father. His mother, Ann Dunham (1942\\u20131995), was born in Wichita, Kansas, of mostly English descent, with some German, Irish, Scottish, Swiss, and Welsh ancestry. His father, Barack Obama Sr. (1936\\u20131982), was a married Luo Kenyan man from Nyang\\'oma Kogelo. Obama\\'s parents met in 1960 in a Russian language class at the University of Hawaii at Manoa, where his father was a foreign student on scholarship. The couple married in Wailuku, Hawaii on February 2, 1961, six months before Obama was born.\\nIn late August 1961, Obama\\'s mother moved with him to the University of Washington in Seattle for a year. During that time, Obama Sr. completed his undergraduate degree in economics in Hawaii in June 1962, then left to attend graduate school on a scholarship at Harvard University, where he earned an M.A. in economics. Obama\\'s parents divorced in March 1964. Obama Sr. returned to Kenya in 1964, where he married for a third time. He visited his son in Hawaii only once, in 1971, before he was killed in an automobile accident in 1982, when Obama was 21 years old. Of his early childhood, Obama recalled, \"That my father looked nothing like the people around me \\u2013 that he was black as pitch, my mother white as milk \\u2013 barely registered in my mind.\" He described his struggles as a young adult to reconcile social perceptions of his multiracial heritage.\\nIn 1963, Dunham met Lolo Soetoro, an Indonesian East\\u2013West Center graduate student in geography at the University of Hawaii, and the couple were married on Molokai on March 15, 1965. After two one-year extensions of his J-1 visa, Lolo returned to Indonesia in 1966, followed sixteen months later by his wife and stepson in 1967, with the family initially living in a Menteng Dalam neighborhood in the Tebet subdistrict of south Jakarta, then from 1970 in a wealthier neighborhood in the Menteng subdistrict of central Jakarta.\\n\\n\\n=== Education ===\\nFrom ages six to ten, Obama attended local Indonesian-language schools: Santo Fransiskus Asisi (St. Francis of Assisi) Catholic School for two years and Besuki Public School for one and a half years, supplemented by English-language Calvert School homeschooling by his mother. During his time in Indonesia, Obama\\'s step-father taught him to be resilient and gave him \"a pretty hardheaded assessment of how the world works\".\\nObama returned to Honolulu in 1971 to live with his maternal grandparents, Madelyn and Stanley Dunham. He attended Punahou School\\u2014 a private college preparatory school\\u2014 with the aid of a scholarship from fifth grade until his graduation from high school in 1979. In his youth, Obama went by the nickname \"Barry\". Obama lived with his mother and sister in Hawaii for three years from 1972 to 1975 while his mother was a graduate student in anthropology at the University of Hawaii. Obama chose to stay in Hawaii with his grandparents for high school at Punahou when his mother and sister returned to Indonesia in 1975 so his mother could begin anthropology field work. His mother spent most of the next two decades in Indonesia, divorcing Lolo in 1980 and earning a PhD degree in 1992, before dying in 1995 in Hawaii following unsuccessful treatment for ovarian cancer and uterine cancer.\\nReflecting later on his years in Honolulu, Obama wrote: \"The opportunity that Hawaii offered \\u2013 to experience a variety of cultures in a climate of mutual respect \\u2013 became an integral part of my world view, and a basis for the values that I hold most dear.\" Obama has also written and talked about using alcohol, marijuana, and cocaine during his teenage years to \"push questions of who I was out of my mind\". Obama was also a member of the \"choom gang\", a self-named group of friends that spent time together and occasionally smoked marijuana.\\nAfter graduating from high school in 1979, Obama moved to Los Angeles to attend Occidental College. In February 1981, Obama made his first public speech, calling for Occidental to participate in the disinvestment from South Africa in response to that nation\\'s policy of apartheid. In mid-1981, Obama traveled to Indonesia to visit his mother and half-sister Maya, and visited the families of college friends in Pakistan and India for three weeks. Later in 1981, he transferred as a junior to Columbia University in New York City, where he majored in political science with a specialty in international relations and in English literature and lived off-campus on West 109th Street. He graduated with a BA degree in 1983 and worked for a year at the Business International Corporation, then at the New York Public Interest Research Group. In 1985, Obama was among the leaders of May Day efforts to bring attention to the New York City Subway system, which was in a bad condition at the time. Obama traveled to several subway stations to get people to sign letters addressed to local officials and the Metropolitan Transportation Authority, and was photographed at the City College subway station holding a sign protesting against the system\\'s condition.\\n\\n\\n=== Family and personal life ===\\n\\nIn a 2006 interview, Obama highlighted the diversity of his extended family: \"It\\'s like a little mini-United Nations\", he said. \"I\\'ve got relatives who look like Bernie Mac, and I\\'ve got relatives who look like Margaret Thatcher.\" Obama has a half-sister with whom he was raised (Maya Soetoro-Ng, the daughter of his mother and her Indonesian second husband) and seven half-siblings from his Kenyan father\\'s family\\u2014six of them living. Obama\\'s mother was survived by her Kansas-born mother, Madelyn Dunham, until her death on November 2, 2008, two days before his election to the Presidency. Obama also has roots in Ireland; he met with his Irish cousins in Moneygall in May 2011. In Dreams from My Father, Obama ties his mother\\'s family history to possible Native American ancestors and distant relatives of Jefferson Davis, President of the Confederate States of America during the American Civil War.\\n\\nBesides his native English, Obama speaks some basic Indonesian, having learned the language during his four childhood years in Jakarta. He plays basketball, a sport he participated in as a member of his high school\\'s varsity team; he is left-handed.\\n\\nObama is a supporter of the Chicago White Sox, and he threw out the first pitch at the 2005 ALCS when he was still a senator. In 2009, he threw out the ceremonial first pitch at the All-Star Game while wearing a White Sox jacket. He is also primarily a Chicago Bears football fan in the NFL, but in his childhood and adolescence was a fan of the Pittsburgh Steelers, and rooted for them ahead of their victory in Super Bowl XLIII 12 days after he took office as President. In 2011, Obama invited the 1985 Chicago Bears to the White House; the team had not visited the White House after their Super Bowl win in 1986 due to the Space Shuttle Challenger disaster.\\n\\nIn June 1989, Obama met Michelle Robinson when he was employed as a summer associate at the Chicago law firm of Sidley Austin. Assigned for three months as Obama\\'s adviser at the firm, Robinson joined him at several group social functions, but declined his initial requests to date. They began dating later that summer, became engaged in 1991, and were married on October 3, 1992. The couple\\'s first daughter, Malia Ann, was born on July 4, 1998, followed by a second daughter, Natasha (\"Sasha\"), on June 10, 2001. The Obama daughters attended the University of Chicago Laboratory Schools. When they moved to Washington, D.C., in January 2009, the girls started at the Sidwell Friends School. The Obamas have two Portuguese Water Dogs; the first, a male named Bo, was a gift from Senator Ted Kennedy. In August 2013, Bo was joined by Sunny, a female.\\nApplying the proceeds of a book deal, the family moved in 2005 from a Hyde Park, Chicago condominium to a $1.6 million house in neighboring Kenwood, Chicago. The purchase of an adjacent lot\\u2014and sale of part of it to Obama by the wife of developer, campaign donor and friend Tony Rezko\\u2014attracted media attention because of Rezko\\'s subsequent indictment and conviction on political corruption charges that were unrelated to Obama.\\nIn December 2007, Money estimated the Obama family\\'s net worth at $1.3 million. Their 2009 tax return showed a household income of $5.5 million\\u2014up from about $4.2 million in 2007 and $1.6 million in 2005\\u2014mostly from sales of his books. On his 2010 income of $1.7 million, he gave 14% to non-profit organizations, including $131,000 to Fisher House Foundation, a charity assisting wounded veterans\\' families, allowing them to reside near where the veteran is receiving medical treatments. As per his 2012 financial disclosure, Obama may be worth as much as $10 million.\\nIn reference to Obama\\'s smoking habit, Michelle said in early 2010 that he had quit smoking.\\nOn his 55th birthday, August 4, 2016, Obama penned an essay in Glamour describing how his daughters and being president have made him a feminist.\\n\\n\\n==== Religious views ====\\n\\nObama is a Protestant Christian whose religious views developed in his adult life. He wrote in The Audacity of Hope that he \"was not raised in a religious household\". He described his mother, raised by non-religious parents, as being detached from religion, yet \"in many ways the most spiritually awakened person that I have ever known.\" He described his father as a \"confirmed atheist\" by the time his parents met, and his stepfather as \"a man who saw religion as not particularly useful.\" Obama explained how, through working with black churches as a community organizer while in his twenties, he came to understand \"the power of the African-American religious tradition to spur social change.\"\\nIn January 2008, Obama told Christianity Today: \"I am a Christian, and I am a devout Christian. I believe in the redemptive death and resurrection of Jesus Christ. I believe that faith gives me a path to be cleansed of sin and have eternal life.\" On September 27, 2010, Obama released a statement commenting on his religious views saying \"I\\'m a Christian by choice. My family didn\\'t \\u2013 frankly, they weren\\'t folks who went to church every week. And my mother was one of the most spiritual people I knew, but she didn\\'t raise me in the church. So I came to my Christian faith later in life, and it was because the precepts of Jesus Christ spoke to me in terms of the kind of life that I would want to lead \\u2013 being my brothers\\' and sisters\\' keeper, treating others as they would treat me.\"\\nObama met Trinity United Church of Christ pastor Rev. Jeremiah Wright in October 1987, and became a member of Trinity in 1992. He resigned from Trinity in May 2008 during his first presidential campaign after some of Wright\\'s statements were criticized. The Obama family has attended several Protestant churches since moving to Washington, D.C., in 2009, including Shiloh Baptist Church and St. John\\'s Episcopal Church, as well as Evergreen Chapel at Camp David, but are not habitual church-goers.\\n\\n\\n=== Law career ===\\n\\n\\n==== Community organizer and Harvard Law School ====\\nTwo years after graduating from Columbia, Obama was hired in Chicago as director of the Developing Communities Project, a church-based community organization originally comprising eight Catholic parishes in Roseland, West Pullman, and Riverdale on Chicago\\'s South Side. He worked there as a community organizer from June 1985 to May 1988. He helped set up a job training program, a college preparatory tutoring program, and a tenants\\' rights organization in Altgeld Gardens. Obama also worked as a consultant and instructor for the Gamaliel Foundation, a community organizing institute. In mid-1988, he traveled for the first time in Europe for three weeks and then for five weeks in Kenya, where he met many of his paternal relatives for the first time.\\nObama entered Harvard Law School in the fall of 1988, living in nearby Somerville, Massachusetts. He was selected as an editor of the Harvard Law Review at the end of his first year, president of the journal in his second year, and research assistant to the constitutional scholar Laurence Tribe while at Harvard for two years. During his summers, he returned to Chicago, where he worked as an associate at the law firms of Sidley Austin in 1989 and Hopkins & Sutter in 1990. After graduating with a JD degree magna cum laude from Harvard in 1991, he returned to Chicago. Obama\\'s election as the first black president of the Harvard Law Review gained national media attention and led to a publishing contract and advance for a book about race relations, which evolved into a personal memoir. The manuscript was published in mid-1995 as Dreams from My Father.\\n\\n\\n==== Chicago Law School and civil rights attorney ====\\nIn 1991, Obama accepted a two-year position as Visiting Law and Government Fellow at the University of Chicago Law School to work on his first book. He then taught constitutional law at the University of Chicago Law School for twelve years, first as a Lecturer from 1992 to 1996, and then as a Senior Lecturer from 1996 to 2004.\\nFrom April to October 1992, Obama directed Illinois\\'s Project Vote, a voter registration campaign with ten staffers and seven hundred volunteer registrars; it achieved its goal of registering 150,000 of 400,000 unregistered African Americans in the state, leading Crain\\'s Chicago Business to name Obama to its 1993 list of \"40 under Forty\" powers to be.\\nHe joined Davis, Miner, Barnhill & Galland, a 13-attorney law firm specializing in civil rights litigation and neighborhood economic development, where he was an associate for three years from 1993 to 1996, then of counsel from 1996 to 2004. In 1994, he was listed as one of the lawyers in Buycks-Roberson v. Citibank Fed. Sav. Bank, 94 C 4094 (N.D. Ill.). This class action lawsuit was filed in 1994 with Selma Buycks-Roberson as lead plaintiff and alleged that Citibank Federal Savings Bank had engaged in practices forbidden under the Equal Credit Opportunity Act and the Fair Housing Act. The case was settled out of court. Final Judgment was issued on May 13, 1998, with Citibank Federal Savings Bank agreeing to pay attorney fees. His law license became inactive in 2007.\\nFrom 1994 to 2002, Obama served on the boards of directors of the Woods Fund of Chicago, which in 1985 had been the first foundation to fund the Developing Communities Project, and of the Joyce Foundation. He served on the board of directors of the Chicago Annenberg Challenge from 1995 to 2002, as founding president and chairman of the board of directors from 1995 to 1999.\\n\\n\\n=== Legislative career ===\\n\\n\\n==== Illinois State Senator (1997\\u20132004) ====\\n\\nObama was elected to the Illinois Senate in 1996, succeeding Democratic State Senator Alice Palmer from Illinois\\'s 13th District, which, at that time, spanned Chicago South Side neighborhoods from Hyde Park\\u2013Kenwood south to South Shore and west to Chicago Lawn. Once elected, Obama gained bipartisan support for legislation that reformed ethics and health care laws. He sponsored a law that increased tax credits for low-income workers, negotiated welfare reform, and promoted increased subsidies for childcare. In 2001, as co-chairman of the bipartisan Joint Committee on Administrative Rules, Obama supported Republican Governor Ryan\\'s payday loan regulations and predatory mortgage lending regulations aimed at averting home foreclosures.\\nHe was reelected to the Illinois Senate in 1998, defeating Republican Yesse Yehudah in the general election, and was reelected again in 2002. In 2000, he lost a Democratic primary race for Illinois\\'s 1st congressional district in the United States House of Representatives to four-term incumbent Bobby Rush by a margin of two to one.\\nIn January 2003, Obama became chairman of the Illinois Senate\\'s Health and Human Services Committee when Democrats, after a decade in the minority, regained a majority. He sponsored and led unanimous, bipartisan passage of legislation to monitor racial profiling by requiring police to record the race of drivers they detained, and legislation making Illinois the first state to mandate videotaping of homicide interrogations. During his 2004 general election campaign for the U.S. Senate, police representatives credited Obama for his active engagement with police organizations in enacting death penalty reforms. Obama resigned from the Illinois Senate in November 2004 following his election to the U.S. Senate.\\n\\n\\n==== 2004 U.S. Senate campaign ====\\n\\nIn May 2002, Obama commissioned a poll to assess his prospects in a 2004 U.S. Senate race. He created a campaign committee, began raising funds, and lined up political media consultant David Axelrod by August 2002. Obama formally announced his candidacy in January 2003.\\nObama was an early opponent of the George W. Bush administration\\'s 2003 invasion of Iraq. On October 2, 2002, the day President Bush and Congress agreed on the joint resolution authorizing the Iraq War, Obama addressed the first high-profile Chicago anti-Iraq War rally, and spoke out against the war. He addressed another anti-war rally in March 2003 and told the crowd that \"it\\'s not too late\" to stop the war.\\nDecisions by Republican incumbent Peter Fitzgerald and his Democratic predecessor Carol Moseley Braun to not participate in the election resulted in wide-open Democratic and Republican primary contests involving fifteen candidates. In the March 2004 primary election, Obama won in an unexpected landslide\\u2014which overnight made him a rising star within the national Democratic Party, started speculation about a presidential future, and led to the reissue of his memoir, Dreams from My Father. In July 2004, Obama delivered the keynote address at the 2004 Democratic National Convention, seen by 9.1 million viewers. His speech was well received and elevated his status within the Democratic Party.\\nObama\\'s expected opponent in the general election, Republican primary winner Jack Ryan, withdrew from the race in June 2004. Six weeks later, Alan Keyes accepted the Republican nomination to replace Ryan. In the November 2004 general election, Obama won with 70% of the vote.\\n\\n\\n==== U.S. Senator from Illinois (2005\\u201308) ====\\n\\nObama was sworn in as a senator on January 3, 2005, becoming the only Senate member of the Congressional Black Caucus. CQ Weekly characterized him as a \"loyal Democrat\" based on analysis of all Senate votes from 2005 to 2007. Obama announced on November 13, 2008, that he would resign his Senate seat on November 16, 2008, before the start of the lame-duck session, to focus on his transition period for the presidency.\\n\\n\\n===== Legislation =====\\n\\nObama cosponsored the Secure America and Orderly Immigration Act. He introduced two initiatives that bore his name: Lugar\\u2013Obama, which expanded the Nunn\\u2013Lugar Cooperative Threat Reduction concept to conventional weapons; and the Federal Funding Accountability and Transparency Act of 2006, which authorized the establishment of USAspending.gov, a web search engine on federal spending. On June 3, 2008, Senator Obama\\u2014along with Senators Tom Carper, Tom Coburn, and John McCain\\u2014introduced follow-up legislation: Strengthening Transparency and Accountability in Federal Spending Act of 2008.\\nObama sponsored legislation that would have required nuclear plant owners to notify state and local authorities of radioactive leaks, but the bill failed to pass in the full Senate after being heavily modified in committee. Regarding tort reform, Obama voted for the Class Action Fairness Act of 2005 and the FISA Amendments Act of 2008, which grants immunity from civil liability to telecommunications companies complicit with NSA warrantless wiretapping operations.\\n\\nIn December 2006, President Bush signed into law the Democratic Republic of the Congo Relief, Security, and Democracy Promotion Act, marking the first federal legislation to be enacted with Obama as its primary sponsor. In January 2007, Obama and Senator Feingold introduced a corporate jet provision to the Honest Leadership and Open Government Act, which was signed into law in September 2007. Obama also introduced two unsuccessful bills: the Deceptive Practices and Voter Intimidation Prevention Act to criminalize deceptive practices in federal elections, and the Iraq War De-Escalation Act of 2007.\\nLater in 2007, Obama sponsored an amendment to the Defense Authorization Act to add safeguards for personality-disorder military discharges. This amendment passed the full Senate in the spring of 2008. He sponsored the Iran Sanctions Enabling Act supporting divestment of state pension funds from Iran\\'s oil and gas industry, which has not passed committee; and co-sponsored legislation to reduce risks of nuclear terrorism. Obama also sponsored a Senate amendment to the State Children\\'s Health Insurance Program, providing one year of job protection for family members caring for soldiers with combat-related injuries.\\n\\n\\n===== Committees =====\\n\\nObama held assignments on the Senate Committees for Foreign Relations, Environment and Public Works and Veterans\\' Affairs through December 2006. In January 2007, he left the Environment and Public Works committee and took additional assignments with Health, Education, Labor and Pensions and Homeland Security and Governmental Affairs. He also became Chairman of the Senate\\'s subcommittee on European Affairs. As a member of the Senate Foreign Relations Committee, Obama made official trips to Eastern Europe, the Middle East, Central Asia and Africa. He met with Mahmoud Abbas before Abbas became President of the Palestinian National Authority, and gave a speech at the University of Nairobi in which he condemned corruption within the Kenyan government.\\n\\n\\n== Presidential campaigns ==\\n\\n\\n=== 2008 presidential campaign ===\\n\\nOn February 10, 2007, Obama announced his candidacy for President of the United States in front of the Old State Capitol building in Springfield, Illinois. The choice of the announcement site was viewed as symbolic because it was also where Abraham Lincoln delivered his historic \"House Divided\" speech in 1858. Obama emphasized issues of rapidly ending the Iraq War, increasing energy independence, and reforming the health care system, in a campaign that projected themes of hope and change.\\nNumerous candidates entered the Democratic Party presidential primaries. The field narrowed to a duel between Obama and Senator Hillary Clinton after early contests, with the race remaining close throughout the primary process but with Obama gaining a steady lead in pledged delegates due to better long-range planning, superior fundraising, dominant organizing in caucus states, and better exploitation of delegate allocation rules. On June 7, 2008, Clinton ended her campaign and endorsed Obama.\\n\\nOn August 23, Obama announced his selection of Delaware Senator Joe Biden as his vice presidential running mate. Obama selected Biden from a field speculated to include former Indiana Governor and Senator Evan Bayh and Virginia Governor Tim Kaine. At the Democratic National Convention in Denver, Colorado, Hillary Clinton called for her supporters to endorse Obama, and she and Bill Clinton gave convention speeches in his support. Obama delivered his acceptance speech, not at the center where the Democratic National Convention was held, but at Invesco Field at Mile High to a crowd of over 75,000; the speech was viewed by over 38 million people worldwide.\\nDuring both the primary process and the general election, Obama\\'s campaign set numerous fundraising records, particularly in the quantity of small donations. On June 19, 2008, Obama became the first major-party presidential candidate to turn down public financing in the general election since the system was created in 1976.\\n\\nJohn McCain was nominated as the Republican candidate, and he selected Sarah Palin as his running mate. The two candidates engaged in three presidential debates in September and October 2008. On November 4, Obama won the presidency with 365 electoral votes to 173 received by McCain. Obama won 52.9% of the popular vote to McCain\\'s 45.7%. He became the first African American to be elected president. Obama delivered his victory speech before hundreds of thousands of supporters in Chicago\\'s Grant Park.\\n\\n\\n=== 2012 presidential campaign ===\\n\\nOn April 4, 2011, Obama announced his reelection campaign for 2012 in a video titled \"It Begins with Us\" that he posted on his website and filed election papers with the Federal Election Commission. As the incumbent president he ran virtually unopposed in the Democratic Party presidential primaries, and on April 3, 2012, Obama had secured the 2778 convention delegates needed to win the Democratic nomination.\\nAt the Democratic National Convention in Charlotte, North Carolina, Obama and Joe Biden were formally nominated by former President Bill Clinton, as the Democratic Party candidates for president and vice president in the general election. Their main opponents were Republicans Mitt Romney, the former governor of Massachusetts, and Representative Paul Ryan of Wisconsin.\\nOn November 6, 2012, Obama won 332 electoral votes, exceeding the 270 required for him to be reelected as president. With 51.1% of the popular vote, Obama became the first Democratic president since Franklin D. Roosevelt to win the majority of the popular vote twice. President Obama addressed supporters and volunteers at Chicago\\'s McCormick Place after his reelection and said: \"Tonight you voted for action, not politics as usual. You elected us to focus on your jobs, not ours. And in the coming weeks and months, I am looking forward to reaching out and working with leaders of both parties.\"\\n\\n\\n== Presidency (2009\\u201317) ==\\n\\n\\n=== First 100 days ===\\n\\nThe inauguration of Barack Obama as the 44th President took place on January 20, 2009. In his first few days in office, Obama issued executive orders and presidential memoranda directing the U.S. military to develop plans to withdraw troops from Iraq. He ordered the closing of the Guantanamo Bay detention camp, but Congress prevented the closure by refusing to appropriate the required funds and preventing moving any Guantanamo detainee into the U.S. or to other countries. Obama reduced the secrecy given to presidential records. He also revoked President George W. Bush\\'s restoration of President Ronald Reagan\\'s Mexico City Policy prohibiting federal aid to international family planning organizations that perform or provide counseling about abortion.\\n\\n\\n=== Domestic policy ===\\n\\nThe first bill signed into law by Obama was the Lilly Ledbetter Fair Pay Act of 2009, relaxing the statute of limitations for equal-pay lawsuits. Five days later, he signed the reauthorization of the State Children\\'s Health Insurance Program (SCHIP) to cover an additional 4 million uninsured children. In March 2009, Obama reversed a Bush-era policy that had limited funding of embryonic stem cell research and pledged to develop \"strict guidelines\" on the research.\\n\\nObama appointed two women to serve on the Supreme Court in the first two years of his Presidency. He nominated Sonia Sotomayor on May 26, 2009 to replace retiring Associate Justice David Souter; she was confirmed on August 6, 2009, becoming the first Supreme Court Justice of Hispanic descent. Obama nominated Elena Kagan on May 10, 2010 to replace retiring Associate Justice John Paul Stevens. She was confirmed on August 5, 2010, bringing the number of women sitting simultaneously on the Court to three justices for the first time in American history.\\nOn March 30, 2010, Obama signed the Health Care and Education Reconciliation Act, a reconciliation bill that ended the process of the federal government giving subsidies to private banks to give out federally insured loans, increased the Pell Grant scholarship award, and made changes to the Patient Protection and Affordable Care Act.\\nIn a major space policy speech in April 2010, Obama announced a planned change in direction at NASA, the U.S. space agency. He ended plans for a return of human spaceflight to the moon and development of the Ares I rocket, Ares V rocket and Constellation program, in favor of funding Earth science projects, a new rocket type, and research and development for an eventual manned mission to Mars, and ongoing missions to the International Space Station.\\n\\nPresident Obama\\'s 2011 State of the Union Address focused on themes of education and innovation, stressing the importance of innovation economics to make the United States more competitive globally. He spoke of a five-year freeze in domestic spending, eliminating tax breaks for oil companies and reversing tax cuts for the wealthiest Americans, banning congressional earmarks, and reducing healthcare costs. He promised that the United States would have one million electric vehicles on the road by 2015 and would be 80% reliant on \"clean\" electricity.\\n\\n\\n==== LGBT rights ====\\nOn October 8, 2009, Obama signed the Matthew Shepard and James Byrd Jr. Hate Crimes Prevention Act, a measure that expanded the 1969 United States federal hate-crime law to include crimes motivated by a victim\\'s actual or perceived gender, sexual orientation, gender identity, or disability.\\nOn October 30, 2009, Obama lifted the ban on travel to the United States by those infected with HIV, which was celebrated by Immigration Equality.\\nOn December 22, 2010, Obama signed the Don\\'t Ask, Don\\'t Tell Repeal Act of 2010, which fulfilled a key promise made in the 2008 presidential campaign to end the Don\\'t ask, don\\'t tell policy of 1993 that had prevented gay and lesbian people from serving openly in the United States Armed Forces. In 2016, the Pentagon ended the policy that also barred transgender people from serving openly in the military.\\n\\nAs a candidate for the Illinois state senate in 1996, Obama had said that he favored legalizing same-sex marriage. By the time of his Senate run in 2004, he said that he supported civil unions and domestic partnerships for same-sex partners, but he opposed same-sex marriages for strategic reasons. On May 9, 2012, shortly after the official launch of his campaign for re-election as president, Obama said his views had evolved, and he publicly affirmed his personal support for the legalization of same-sex marriage, becoming the first sitting U.S. president to do so.\\nDuring his second inaugural address on January 21, 2013, Obama became the first president to call for full equality for gay Americans: \"Our journey is not complete until our gay brothers and sisters are treated like anyone else under the law \\u2013 for if we are truly created equal, then surely the love we commit to one another must be equal as well.\" This was the first time that a president mentioned gay rights or the word \"gay\" in an inaugural address. In 2013, the Obama administration filed briefs that urged the Supreme Court to rule in favor of same-sex couples in the cases of Hollingsworth v. Perry (regarding same-sex marriage) and United States v. Windsor (regarding the Defense of Marriage Act). Then, following the Supreme Court\\'s 2015 decision in Obergefell v. Hodges (ruling same-sex marriage to be a fundamental right), Obama asserted that, \"This decision affirms what millions of Americans already believe in their hearts: When all Americans are treated as equal we are all more free.\"\\nOn July 30, 2015 the White House Office of National AIDS Policy revised its strategy for addressing the ailment, which included widespread testing and linkage to healthcare, which was celebrated by the Human Rights Campaign.\\n\\n\\n==== White House advisory and oversight groups ====\\nOn March 11, 2009, Obama created the White House Council on Women and Girls, which forms part of the Office of Intergovernmental Affairs, having been established by Executive Order 13506 with a broad mandate to advise him on issues relating to the welfare of American women and girls. The Council is currently chaired by Senior Advisor to the President Valerie Jarrett. Obama also established the White House Task Force to Protect Students from Sexual Assault through an official United States government memorandum on January 22, 2014, with a broad mandate to advise him on issues relating to sexual assault on college and university campuses throughout the United States. The current co-chairs of the Task Force are Vice President Joe Biden and Jarrett. The Task Force has been a development out of the White House Council on Women and Girls and Office of the Vice President of the United States, and prior to that, the 1994 Violence Against Women Act that was first-drafted by Biden.\\n\\n\\n==== Economic policy ====\\n\\nOn February 17, 2009, Obama signed the American Recovery and Reinvestment Act of 2009, a $787 billion economic stimulus package aimed at helping the economy recover from the deepening worldwide recession. The act includes increased federal spending for health care, infrastructure, education, various tax breaks and incentives, and direct assistance to individuals.\\nIn March, Obama\\'s Treasury Secretary, Timothy Geithner, took further steps to manage the financial crisis, including introducing the Public\\u2013Private Investment Program for Legacy Assets, which contains provisions for buying up to two trillion dollars in depreciated real estate assets. Obama intervened in the troubled automotive industry in March 2009, renewing loans for General Motors and Chrysler to continue operations while reorganizing. Over the following months the White House set terms for both firms\\' bankruptcies, including the sale of Chrysler to Italian automaker Fiat and a reorganization of GM giving the U.S. government a temporary 60% equity stake in the company, with the Canadian government taking a 12% stake. In June 2009, dissatisfied with the pace of economic stimulus, Obama called on his cabinet to accelerate the investment. He signed into law the Car Allowance Rebate System, known colloquially as \"Cash for Clunkers\", that temporarily boosted the economy.\\n\\nSpending and loan guarantees from the Federal Reserve and the Treasury Department authorized by the Bush and Obama administrations totaled about $11.5 trillion, but only $3 trillion was spent by the end of November 2009. Obama and the Congressional Budget Office predicted the 2010 budget deficit would be $1.5 trillion or 10.6% of the nation\\'s gross domestic product (GDP) compared to the 2009 deficit of $1.4 trillion or 9.9% of GDP. For 2011, the administration predicted the deficit will shrink to $1.34 trillion, and the 10-year deficit will increase to $8.53 trillion or 90% of GDP. The most recent increase in the U.S. debt ceiling to $17.2 trillion took effect in February 2014. On August 2, 2011, after a lengthy congressional debate over whether to raise the nation\\'s debt limit, Obama signed the bipartisan Budget Control Act of 2011. The legislation enforces limits on discretionary spending until 2021, establishes a procedure to increase the debt limit, creates a Congressional Joint Select Committee on Deficit Reduction to propose further deficit reduction with a stated goal of achieving at least $1.5 trillion in budgetary savings over 10 years, and establishes automatic procedures for reducing spending by as much as $1.2 trillion if legislation originating with the new joint select committee does not achieve such savings. By passing the legislation, Congress was able to prevent a U.S. government default on its obligations.\\n\\nAs it did throughout 2008, the unemployment rate rose in 2009, reaching a peak in October at 10.0% and averaging 10.0% in the fourth quarter. Following a decrease to 9.7% in the first quarter of 2010, the unemployment rate fell to 9.6% in the second quarter, where it remained for the rest of the year. Between February and December 2010, employment rose by 0.8%, which was less than the average of 1.9% experienced during comparable periods in the past four employment recoveries. By November 2012, the unemployment rate fell to 7.7%, decreasing to 6.7% in the last month of 2013. During 2014, the unemployment rate continued to decline, falling to 6.3% in the first quarter. GDP growth returned in the third quarter of 2009, expanding at a rate of 1.6%, followed by a 5.0% increase in the fourth quarter. Growth continued in 2010, posting an increase of 3.7% in the first quarter, with lesser gains throughout the rest of the year. In July 2010, the Federal Reserve noted that economic activity continued to increase, but its pace had slowed, and chairman Ben Bernanke said the economic outlook was \"unusually uncertain\". Overall, the economy expanded at a rate of 2.9% in 2010.\\nThe Congressional Budget Office and a broad range of economists credit Obama\\'s stimulus plan for economic growth. The CBO released a report stating that the stimulus bill increased employment by 1\\u20132.1 million, while conceding that \"It is impossible to determine how many of the reported jobs would have existed in the absence of the stimulus package.\" Although an April 2010 survey of members of the National Association for Business Economics showed an increase in job creation (over a similar January survey) for the first time in two years, 73% of 68 respondents believed that the stimulus bill has had no impact on employment. The economy of the United States has grown faster than the other original NATO members by a wider margin under President Obama than it has anytime since the end of World War II. The OECD credits the much faster growth in the United States to the stimulus in the United States and the austerity measures in the European Union.\\nWithin a month of the 2010 midterm elections, Obama announced a compromise deal with the Congressional Republican leadership that included a temporary, two-year extension of the 2001 and 2003 income tax rates, a one-year payroll tax reduction, continuation of unemployment benefits, and a new rate and exemption amount for estate taxes. The compromise overcame opposition from some in both parties, and the resulting $858 billion Tax Relief, Unemployment Insurance Reauthorization, and Job Creation Act of 2010 passed with bipartisan majorities in both houses of Congress before Obama signed it on December 17, 2010.\\nIn December 2013, Obama declared that growing income inequality is a \"defining challenge of our time\" and called on Congress to bolster the safety net and raise wages. This came on the heels of the nationwide strikes of fast-food workers and Pope Francis\\' criticism of inequality and trickle-down economics.\\nObama has urged Congress to ratify a 12-nation free trade pact called the Trans-Pacific Partnership.\\n\\n\\n==== Environmental policy ====\\n\\nOn September 30, 2009, the Obama administration proposed new regulations on power plants, factories, and oil refineries in an attempt to limit greenhouse gas emissions and to curb global warming.\\nOn April 20, 2010, an explosion destroyed an offshore drilling rig at the Macondo Prospect in the Gulf of Mexico, causing a major sustained oil leak. Obama visited the Gulf, announced a federal investigation, and formed a bipartisan commission to recommend new safety standards, after a review by Secretary of the Interior Ken Salazar and concurrent Congressional hearings. He then announced a six-month moratorium on new deepwater drilling permits and leases, pending regulatory review. As multiple efforts by BP failed, some in the media and public expressed confusion and criticism over various aspects of the incident, and stated a desire for more involvement by Obama and the federal government.\\nIn July 2013, Obama expressed reservations and stated he \"would reject the Keystone XL pipeline if it increased carbon pollution\" or \"greenhouse emissions\". Obama\\'s advisers called for a halt to petroleum exploration in the Arctic in January 2013. On February 24, 2015, Obama vetoed a bill that would authorize the pipeline. It was the third veto of Obama\\'s presidency and his first major veto.\\nObama has emphasized the conservation of federal lands during his term in office. He used his power under the Antiquities Act to create 25 new national monuments during his presidency and expand four others, protecting a total of 553,000,000 acres (224,000,000 ha) of federal lands and waters, more than any other U.S. president.\\n\\n\\n==== Health care reform ====\\n\\nObama called for Congress to pass legislation reforming health care in the United States, a key campaign promise and a top legislative goal. He proposed an expansion of health insurance coverage to cover the uninsured, to cap premium increases, and to allow people to retain their coverage when they leave or change jobs. His proposal was to spend $900 billion over 10 years and include a government insurance plan, also known as the public option, to compete with the corporate insurance sector as a main component to lowering costs and improving quality of health care. It would also make it illegal for insurers to drop sick people or deny them coverage for pre-existing conditions, and require every American to carry health coverage. The plan also includes medical spending cuts and taxes on insurance companies that offer expensive plans.\\n\\nOn July 14, 2009, House Democratic leaders introduced a 1,017-page plan for overhauling the U.S. health care system, which Obama wanted Congress to approve by the end of 2009. After much public debate during the Congressional summer recess of 2009, Obama delivered a speech to a joint session of Congress on September 9 where he addressed concerns over the proposals. In March 2009, Obama lifted a ban on using federal funds for stem cell research.\\nOn November 7, 2009, a health care bill featuring the public option was passed in the House. On December 24, 2009, the Senate passed its own bill\\u2014without a public option\\u2014on a party-line vote of 60\\u201339. On March 21, 2010, the Patient Protection and Affordable Care Act (ACA) passed by the Senate in December was passed in the House by a vote of 219 to 212. Obama signed the bill into law on March 23, 2010.\\nThe ACA includes health-related provisions, most of which took effect in 2014, including expanding Medicaid eligibility for people making up to 133% of the federal poverty level (FPL) starting in 2014, subsidizing insurance premiums for people making up to 400% of the FPL ($88,000 for family of four in 2010) so their maximum \"out-of-pocket\" payment for annual premiums will be from 2% to 9.5% of income, providing incentives for businesses to provide health care benefits, prohibiting denial of coverage and denial of claims based on pre-existing conditions, establishing health insurance exchanges, prohibiting annual coverage caps, and support for medical research. According to White House and Congressional Budget Office figures, the maximum share of income that enrollees would have to pay would vary depending on their income relative to the federal poverty level.\\n\\nThe costs of these provisions are offset by taxes, fees, and cost-saving measures, such as new Medicare taxes for those in high-income brackets, taxes on indoor tanning, cuts to the Medicare Advantage program in favor of traditional Medicare, and fees on medical devices and pharmaceutical companies; there is also a tax penalty for those who do not obtain health insurance, unless they are exempt due to low income or other reasons. In March 2010, the Congressional Budget Office estimated that the net effect of both laws will be a reduction in the federal deficit by $143 billion over the first decade.\\nThe law faced several legal challenges, primarily based on the argument that an individual mandate requiring Americans to buy health insurance was unconstitutional. On June 28, 2012, the Supreme Court ruled by a 5\\u20134 vote in National Federation of Independent Business v. Sebelius that the mandate was constitutional under the U.S. Congress\\'s taxing authority. In Burwell v. Hobby Lobby the Court ruled that \"closely-held\" for-profit corporations could be exempt on religious grounds under the Religious Freedom Restoration Act from regulations adopted under the ACA that would have required them to pay for insurance that covered certain contraceptives. In June 2015, the Court ruled 6\\u20133 in King v. Burwell that subsidies to help individuals and families purchase health insurance were authorized for those doing so on both the federal exchange and state exchanges, not only those purchasing plans \"established by the State\", as the statute reads.\\n\\n\\n==== Energy policy ====\\n\\nPrior to June 2014, Obama offered substantial support for a broadly-based \"All of the above\" approach to domestic energy policy, which Obama has maintained since his first term and which he last confirmed at his State of the Union speech in January 2014 to a mixed reception by both parties. In June 2014, Obama made indications that his administration would consider a shift towards an energy policy more closely tuned to the manufacturing industry and its impact on the domestic economy. Obama\\'s approach of selectively combining regulation and incentive to various issues in the domestic energy policy such as coal mining and oil fracking has received mixed commentary for not being as responsive to the needs of the domestic manufacturing sector as needed, following claims that the domestic manufacturing sector utilizes as much as a third of the nation\\'s available energy resources.\\n\\n\\n==== Gun control ====\\n\\nOn January 16, 2013, one month after the Sandy Hook Elementary School shooting, Obama signed 23 executive orders and outlined a series of sweeping proposals regarding gun control. He urged Congress to reintroduce an expired ban on military-style assault weapons, such as those used in several recent mass shootings, impose limits on ammunition magazines to 10 rounds, introduce background checks on all gun sales, pass a ban on possession and sale of armor-piercing bullets, introduce harsher penalties for gun-traffickers, especially unlicensed dealers who buy arms for criminals and approving the appointment of the head of the federal Bureau of Alcohol, Tobacco, Firearms and Explosives for the first time since 2006. On January 5, 2016, Obama announced new executive actions extending background check requirements to more gun sellers. In a 2016 editorial in the New York Times, Obama compared the struggle for what he termed \"common-sense gun reform\" to women\\'s suffrage and other civil rights movements in American history.\\n\\n\\n==== 2010 midterm elections ====\\n\\nObama called the November 2, 2010 election, where the Democratic Party lost 63 seats in, and control of, the House of Representatives, \"humbling\" and a \"shellacking\". He said that the results came because not enough Americans had felt the effects of the economic recovery.\\n\\n\\n==== Cybersecurity and Internet policy ====\\nOn November 10, 2014, President Obama recommended the Federal Communications Commission reclassify broadband Internet service as a telecommunications service in order to preserve net neutrality. On February 12, 2013, President Obama signed Executive Order 13636, \"Improving Critical Infrastructure Cybersecurity\".\\n\\n\\n=== Foreign policy ===\\n\\nIn February and March 2009, Vice President Joe Biden and Secretary of State Hillary Rodham Clinton made separate overseas trips to announce a \"new era\" in U.S. foreign relations with Russia and Europe, using the terms \"break\" and \"reset\" to signal major changes from the policies of the preceding administration. Obama attempted to reach out to Arab leaders by granting his first interview to an Arab cable TV network, Al Arabiya.\\nOn March 19, Obama continued his outreach to the Muslim world, releasing a New Year\\'s video message to the people and government of Iran. In April, Obama gave a speech in Ankara, Turkey, which was well received by many Arab governments. On June 4, 2009, Obama delivered a speech at Cairo University in Egypt calling for \"A New Beginning\" in relations between the Islamic world and the United States and promoting Middle East peace.\\nOn June 26, 2009, Obama responded to the Iranian government\\'s actions towards protesters following Iran\\'s 2009 presidential election by saying: \"The violence perpetrated against them is outrageous. We see it and we condemn it.\" While in Moscow on July 7, he responded Vice President Biden\\'s comment on a possible Israeli military strike on Iran by saying: \"We have said directly to the Israelis that it is important to try and resolve this in an international setting in a way that does not create major conflict in the Middle East.\"\\nOn September 24, 2009, Obama became the first sitting U.S. president to preside over a meeting of the United Nations Security Council.\\nIn March 2010, Obama took a public stance against plans by the government of Israeli Prime Minister Benjamin Netanyahu to continue building Jewish housing projects in predominantly Arab neighborhoods of East Jerusalem. During the same month, an agreement was reached with the administration of Russian President Dmitry Medvedev to replace the 1991 Strategic Arms Reduction Treaty with a new pact reducing the number of long-range nuclear weapons in the arsenals of both countries by about one-third. Obama and Medvedev signed the New START treaty in April 2010, and the U.S. Senate ratified it in December 2010.\\nIn December 2011, Obama instructed agencies to consider LGBT rights when issuing financial aid to foreign countries. He criticized Russia\\'s law discriminating against gays in August 2013, stopping short of advocating a boycott of the 2014 Winter Olympics held in Sochi, Russia.\\n\\nIn December 2014, Obama announced that he intended to normalize relationships between Cuba and the United States. The countries\\' respective \"interests sections\" in one another\\'s capitals were upgraded to embassies on July 20, 2015.\\nIn March 2015, Obama declared that he had authorized U.S. forces to provide logistical and intelligence support to the Saudis in their military intervention in Yemen, establishing a \"Joint Planning Cell\" with Saudi Arabia.\\nBefore leaving office, Obama said German Chancellor Angela Merkel had been his \"closest international partner\" throughout his tenure as President.\\n\\n\\n==== War in Iraq ====\\n\\nOn February 27, 2009, Obama announced that combat operations in Iraq would end within 18 months. His remarks were made to a group of Marines preparing for deployment to Afghanistan. Obama said, \"Let me say this as plainly as I can: by August 31, 2010, our combat mission in Iraq will end.\" The Obama administration scheduled the withdrawal of combat troops to be completed by August 2010, decreasing troop\\'s levels from 142,000 while leaving a transitional force of about 50,000 in Iraq until the end of 2011. On August 19, 2010, the last U.S. combat brigade exited Iraq. Remaining troops transitioned from combat operations to counter-terrorism and the training, equipping, and advising of Iraqi security forces. On August 31, 2010, Obama announced that the United States combat mission in Iraq was over. On October 21, 2011 President Obama announced that all U.S. troops would leave Iraq in time to be \"home for the holidays\".\\n\\nIn June 2014, following the capture of Mosul by Daesh, Obama sent 275 troops to provide support and security for U.S. personnel and the U.S. Embassy in Baghdad. Daesh continued to gain ground and to commit widespread massacres and ethnic cleansing.\\nIn August 2014, during the Sinjar massacre, Obama ordered a campaign of U.S. airstrikes against Daesh.\\nBy the end of 2014, 3,100 American ground troops were committed to the conflict and 16,000 sorties were flown over the battlefield, primarily by U.S. Air Force and Navy pilots.\\nIn the spring of 2015, with the addition of the \"Panther Brigade\" of the 82nd Airborne Division the number of U.S. ground troops in Iraq surged to 4,400, and by July American-led coalition air forces counted 44,000 sorties over the battlefield.\\n\\n\\n==== War in Afghanistan ====\\n\\nEarly in his presidency, Obama moved to bolster U.S. troop strength in Afghanistan. He announced an increase in U.S. troop levels to 17,000 military personnel in February 2009 to \"stabilize a deteriorating situation in Afghanistan\", an area he said had not received the \"strategic attention, direction and resources it urgently requires\". He replaced the military commander in Afghanistan, General David D. McKiernan, with former Special Forces commander Lt. Gen. Stanley A. McChrystal in May 2009, indicating that McChrystal\\'s Special Forces experience would facilitate the use of counterinsurgency tactics in the war. On December 1, 2009, Obama announced the deployment of an additional 30,000 military personnel to Afghanistan and proposed to begin troop withdrawals 18 months from that date; this took place in July 2011. David Petraeus replaced McChrystal in June 2010, after McChrystal\\'s staff criticized White House personnel in a magazine article. In February 2013, Obama said the U.S. military would reduce the troop level in Afghanistan from 68,000 to 34,000 U.S. troops by February 2014.\\nIn October 2015, the White House announced a plan to keep U.S. Forces in Afghanistan indefinitely in light of the deteriorating security situation.\\n\\n\\n==== Israel ====\\n\\nIn 2011, the United States vetoed a Security Council resolution condemning Israeli settlements, with the United States being the only nation to do so. Obama supports the two-state solution to the Arab\\u2013Israeli conflict based on the 1967 borders with land swaps.\\nIn June 2011, Obama said that the bond between the United States and Israel is \"unbreakable\". During the initial years of the Obama administration, the U.S. increased military cooperation with Israel, including increased military aid, re-establishment of the U.S.-Israeli Joint Political Military Group and the Defense Policy Advisory Group, and an increase in visits among high-level military officials of both countries. The Obama administration asked Congress to allocate money toward funding the Iron Dome program in response to the waves of Palestinian rocket attacks on Israel.\\nIn 2013, Jeffrey Goldberg reported that, in Obama\\'s view, \"with each new settlement announcement, Netanyahu is moving his country down a path toward near-total isolation.\"\\nIn 2014, Obama likened the Zionist movement to the Civil Rights Movement in the United States. He said that both movements seek to bring justice and equal rights to historically persecuted peoples. He explained, \"To me, being pro-Israel and pro-Jewish is part and parcel with the values that I\\'ve been fighting for since I was politically conscious and started getting involved in politics.\" Obama expressed support for Israel\\'s right to defend itself during the 2014 Israel\\u2013Gaza conflict.\\nOn December 23, 2016 under the Obama Administration, the United States abstained from United Nations Security Council Resolution 2334, effectively allowing it to pass. Israeli Prime Minister Benjamin Netanyahu strongly criticized the Adminsitration\\'s actions, and the Israeli government withdrew its annual dues from the organization, which totaled $6 million in United States dollars, on January 6, 2017. On January 5, 2017, the United States House of Representatives voted 342\\u201380 to condemn the UN Resolution.\\n\\n\\n==== Libya ====\\n\\nIn February 2011, protests in Libya began against long-time dictator Muammar Gaddafi as part of the Arab Spring. They soon turned violent. In March, as forces loyal to Gaddafi advanced on rebels across Libya, calls for a no-fly zone came from around the world, including Europe, the Arab League, and a resolution passed unanimously by the U.S. Senate. In response to the unanimous passage of United Nations Security Council Resolution 1973 on March 17, Gaddafi\\u2014who had previously vowed to \"show no mercy\" to the rebels of Benghazi\\u2014announced an immediate cessation of military activities, yet reports came in that his forces continued shelling Misrata. The next day, on Obama\\'s orders, the U.S. military took part in air strikes to destroy the Libyan government\\'s air defense capabilities to protect civilians and enforce a no-fly-zone, including the use of Tomahawk missiles, B-2 Spirits, and fighter jets. Six days later, on March 25, by unanimous vote of all of its 28 members, NATO took over leadership of the effort, dubbed Operation Unified Protector. Some Representatives questioned whether Obama had the constitutional authority to order military action in addition to questioning its cost, structure and aftermath.\\n\\n\\n==== Syrian Civil War ====\\n\\nOn August 18, 2011, several months after the start of the Syrian Civil War, Obama issued a written statement that said: \"The time has come for President Assad to step aside.\" This stance was reaffirmed in November 2015. In 2012, Obama authorized multiple programs run by the CIA and the Pentagon to train anti-Assad rebels. The Pentagon-run program was later found to have failed and was formally abandoned in October 2015.\\nIn the wake of a chemical weapons attack in Syria, formally blamed by the Obama administration on the Assad government, Obama chose not to enforce the \"red line\" he had pledged and, rather than authorise the promised military action against Assad, went along with the Russia-brokered deal that led to Assad giving up chemical weapons; however attacks with chlorine gas continued. In 2014, Obama authorized an air campaign aimed primarily at ISIL, but repeatedly promised that the U.S. would not deploy ground troops in Syria.\\n\\n\\n==== Death of Osama bin Laden ====\\n\\nStarting with information received from Central Intelligence Agency operatives in July 2010, the CIA developed intelligence over the next several months that determined what they believed to be the hideout of Osama bin Laden. He was living in seclusion in a large compound in Abbottabad, Pakistan, a suburban area 35 miles (56 km) from Islamabad. CIA head Leon Panetta reported this intelligence to President Obama in March 2011. Meeting with his national security advisers over the course of the next six weeks, Obama rejected a plan to bomb the compound, and authorized a \"surgical raid\" to be conducted by United States Navy SEALs. The operation took place on May 1, 2011, and resulted in the shooting death of bin Laden and the seizure of papers, computer drives and disks from the compound. DNA testing was one of five methods used to positively identify bin Laden\\'s corpse, which was buried at sea several hours later. Within minutes of the President\\'s announcement from Washington, DC, late in the evening on May 1, there were spontaneous celebrations around the country as crowds gathered outside the White House, and at New York City\\'s Ground Zero and Times Square. Reaction to the announcement was positive across party lines, including from former presidents Bill Clinton and George W. Bush, and from many countries around the world.\\n\\n\\n==== Iran nuclear talks ====\\n\\nIn November 2013, Obama\\'s administration opened negotiations with Iran to prevent it from acquiring nuclear weapons, which included an interim agreement. Negotiations took two years with numerous delays, with a deal being announced July 14, 2015. The deal, titled the \"Joint Comprehensive Plan of Action\", saw the removal of sanctions in exchange for measures that would prevent Iran from producing nuclear weapons. While Obama hailed the agreement as being a step towards a more hopeful world, the deal drew strong criticism from Republican and conservative quarters, and from Israeli prime minister Benjamin Netanyahu.\\n\\n\\n==== Relations with Cuba ====\\n\\nSince the spring of 2013, secret meetings were conducted between the United States and Cuba in the neutral locations of Canada and Vatican City. The Vatican first became involved in 2013 when Pope Francis advised the U.S. and Cuba to exchange prisoners as a gesture of goodwill. On December 10, 2013, Cuban President Ra\\xfal Castro, in a significant public moment, greeted and shook hands with Obama at the Nelson Mandela memorial service in Johannesburg.\\nIn December 2014, after the secret meetings, it was announced that Obama, with Pope Francis as an intermediary, had negotiated a restoration of relations with Cuba, after nearly sixty years of d\\xe9tente. Popularly dubbed the Cuban Thaw, The New Republic deemed the Cuban Thaw to be \"Obama\\'s finest foreign policy achievement\". On July 1, 2015, President Barack Obama announced that formal diplomatic relations between Cuba and the United States would resume, and embassies would be opened in Washington and Havana. The countries\\' respective \"interests sections\" in one another\\'s capitals were upgraded to embassies on July 20 and August 13, 2015, respectively.\\nObama visited Havana, Cuba for two days in March 2016, becoming the first sitting U.S. President to arrive since Calvin Coolidge in 1928.\\n\\n\\n==== Africa ====\\nObama spoke in front of the African Union in Addis Ababa, Ethiopia, on July 29, 2015, the first sitting U.S. president to do so. He gave a speech encouraging the world to increase economic ties via investments and trade with the continent, and lauded the progresses made in education, infrastructure, and economy. He also criticized the lack of democracy and leaders who refuse to step aside, discrimination against minorities (LGBT people, religious groups and ethnicities), and corruption. He suggested an intensified democratization and free trade, to significantly improve the quality of life for Africans. During his July 2015 trip, Obama also was the first U.S. president ever to visit Kenya, which is the homeland of his father.\\n\\n\\n==== Hiroshima speech ====\\nOn May 27, 2016, 2\\xbd months before the 71st anniversary of the U.S. atomic bombing of Hiroshima that ended World War II, Obama became the first sitting American president to visit Hiroshima, Japan. Accompanied by Japanese Prime Minister Shinzo Abe, Obama paid tribute to the victims of the bombing at the Hiroshima Peace Memorial Museum.\\n\\n\\n==== Russia ====\\n\\nAfter Russia\\'s invasion of Crimea in 2014, military intervention in Syria in 2015, and the interference in the 2016 presidential election in the 2016 U.S. presidential election, Obama\\'s Russia policy was widely seen as a failure. George Robertson, a former UK defense secretary and NATO secretary-general, said that Obama had \"allowed Putin to jump back on the world stage and test the resolve of the West\", adding that the legacy of this disaster would last.\\n\\n\\n=== Cultural and political image ===\\n\\nObama\\'s family history, upbringing, and Ivy League education differ markedly from those of African-American politicians who launched their careers in the 1960s through participation in the civil rights movement. Expressing puzzlement over questions about whether he is \"black enough\", Obama told an August 2007 meeting of the National Association of Black Journalists that \"we\\'re still locked in this notion that if you appeal to white folks then there must be something wrong.\" Obama acknowledged his youthful image in an October 2007 campaign speech, saying: \"I wouldn\\'t be here if, time and again, the torch had not been passed to a new generation.\"\\nObama is frequently referred to as an exceptional orator. During his pre-inauguration transition period and continuing into his presidency, Obama has delivered a series of weekly Internet video addresses. Former presidential campaign surrogate and Georgetown professor, Michael Eric Dyson, is both critical and sympathetic of President Obama\\'s leadership in race relations, indicating that Obama\\'s speeches and action on racial disparity and justice have been somewhat reactive and reluctant when, especially in the later part of his second term, racial violence demanded immediate presidential action and conversation.\\n\\nAccording to the Gallup Organization, Obama began his presidency with a 68% approval rating before gradually declining for the rest of the year, and eventually bottoming out at 41% in August 2010, a trend similar to Ronald Reagan\\'s and Bill Clinton\\'s first years in office. He experienced a small poll bounce shortly after the death of Osama bin Laden on May 2, 2011. This bounce lasted until around June 2011, when his approval numbers dropped back to where they were previously. His approval ratings rebounded around the same time as his reelection in 2012, with polls showing an average job approval of 52% shortly after his second inauguration. Despite approval ratings dropping to 39% in late-2013 due to the ACA roll-out, they climbed to 50% in January 2015 according to Gallup.\\nPolls showed strong support for Obama in other countries both before and during his presidency. In a February 2009 poll conducted in Western Europe and the U.S. by Harris Interactive for France 24 and the International Herald Tribune, Obama was rated as the most respected world leader, as well as the most powerful. In a similar poll conducted by Harris in May 2009, Obama was rated as the most popular world leader, as well as the one figure most people would pin their hopes on for pulling the world out of the economic downturn.\\n\\nObama won Best Spoken Word Album Grammy Awards for abridged audiobook versions of Dreams from My Father in February 2006 and for The Audacity of Hope in February 2008. His concession speech after the New Hampshire primary was set to music by independent artists as the music video \"Yes We Can\", which was viewed 10 million times on YouTube in its first month and received a Daytime Emmy Award. In December 2008 and in 2012, Time magazine named Obama as its Person of the Year. The 2008 awarding was for his historic candidacy and election, which Time described as \"the steady march of seemingly impossible accomplishments\". On May 25, 2011, Obama became the first President of the United States to address both houses of the UK Parliament in Westminster Hall, London. This was only the fifth occurrence since the start of the 20th century, of a head of state being extended this invitation, following Charles de Gaulle in 1960, Nelson Mandela in 1996, Queen Elizabeth II in 2002 and Pope Benedict XVI in 2010.\\nOn October 9, 2009, the Norwegian Nobel Committee announced that Obama had won the 2009 Nobel Peace Prize \"for his extraordinary efforts to strengthen international diplomacy and cooperation between peoples\". Obama accepted this award in Oslo, Norway on December 10, 2009, with \"deep gratitude and great humility.\" The award drew a mixture of praise and criticism from world leaders and media figures. Obama\\'s peace prize was called a \"stunning surprise\" by The New York Times. Obama is the fourth U.S. president to be awarded the Nobel Peace Prize and the third to become a Nobel laureate while in office. Obama\\'s Nobel Prize has been viewed skeptically in subsequent years, especially after the director of the Nobel Institute, Geir Lundestad, said Obama\\'s Peace Prize did not have the desired effect.\\n\\n\\n== Post-presidency ==\\n\\nBarack Obama\\'s presidency ended at noon on January 20, 2017, immediately following the inauguration of his Republican successor, Donald Trump. After the inauguration, Obama lifted off on Executive One, circled the White House, and flew to Joint Base Andrews. The family rented a house in Kalorama, Washington, D.C.\\nDuring the 2017 Democratic National Committee chairmanship election, the Obama administration pushed for Tom Perez to run against Keith Ellison and President Barack Obama personally called DNC members to vote for Perez.\\nOn March 2, 2017, the John F. Kennedy Presidential Library and Museum awarded the annual Profile in Courage Award to Obama \"for his enduring commitment to democratic ideals and elevating the standard of political courage.\"\\nOn April 24, 2017, in his first public appearance out of office, Obama appeared at a seminar at the University of Chicago aimed at the engagement with a new generation as well as an appeal for their participation in politics.\\n\\n\\n=== Presidential library ===\\n\\nThe Obama Presidential Center is the planned presidential library of Barack Obama. The center will be hosted by the University of Chicago, and will be located in Jackson Park on the South Side of Chicago, Illinois. Once completed, it will become the 14th site in the National Archives and Records Administration\\'s presidential library system.\\n\\n\\n== Legacy ==\\nObama\\'s most significant legacy is generally considered to be the Patient Protection and Affordable Care Act, provisions of which went into effect from 2010 to 2020. Together with the Health Care and Education Reconciliation Act amendment, it represents the most significant regulatory overhaul of the U.S. healthcare system since the passage of Medicare and Medicaid in 1965.\\n\\nMany commentators credit Obama with averting a threatened depression and pulling the country out of the so-called \"Great Recession\". According to the U.S. Bureau of Labor Statistics, the Obama administration created 11.3 million jobs from the month after the first inauguration of Barack Obama to the end of his term.\\nIn 2010, President Obama signed into effect the Dodd\\u2013Frank Wall Street Reform and Consumer Protection Act. Passed as a response to the financial crisis of 2007\\u201308, it brought the most significant changes to financial regulation in the United States since the regulatory reform that followed the Great Depression under Democratic President Franklin D. Roosevelt.\\nIn 2011, the Don\\'t Ask, Don\\'t Tell Repeal Act of 2010 went into effect, bringing an end to \"don\\'t ask, don\\'t tell\" policy in the US armed forces that banned open service from LGB people. Obama succeeded in allowing open military service for LGB people in the US armed forces where his Democratic predecessor, US President Bill Clinton, had failed to do so; the Clinton administration having instead enacted the compromise \"don\\'t ask, don\\'t tell\" policy. In 2016, the Obama administration brought an end to the ban on transgender people serving openly in the US armed forces.\\nPresident Obama continued the drone strikes that President George W. Bush started during his presidency in Afghanistan, Iraq, Pakistan, Somalia, and Yemen. Obama also ordered drone strikes in Libya in 2011, the Philippines in 2012, and Syria in 2014. Obama left about 9,800 US troops in Afghanistan, 5,262 US troops in Iraq, 503 US troops in Syria, 133 US troops in Pakistan, 106 US troops in Somalia, 7 US troops in Yemen, and 2 US troops in Libya at the end of his presidency.\\nAccording to Pew Research Center and United States Bureau of Justice Statistics, from December 31, 2009 to December 31, 2015, that inmates sentenced in US federal custody declined by 5% under US President Obama. This is the largest decline in sentenced inmates in US federal custody since Democrat US President Jimmy Carter. By contrast, the federal prison population increased significantly under US president Ronald Reagan, George H. W. Bush, Bill Clinton, and George W. Bush.\\nA 2017 C-SPAN Presidential Historians Survey ranked Obama as the 12th best US president.\\n\\n\\n== See also ==\\n\\nUnited States Senate career of Barack Obama (2005 - 2008)\\nPresidency of Barack Obama\\nFirst 100 days of Barack Obama\\'s presidency\\nTimeline of the presidency of Barack Obama (2009)\\nTimeline of the presidency of Barack Obama (2010)\\nTimeline of the presidency of Barack Obama (2011)\\nTimeline of the presidency of Barack Obama (2012)\\nTimeline of the presidency of Barack Obama (2013)\\nTimeline of the presidency of Barack Obama (2014)\\nTimeline of the presidency of Barack Obama (2015)\\nTimeline of the presidency of Barack Obama (2016)\\nTimeline of the presidency of Barack Obama (2017)\\n\\n\\n=== Politics ===\\nPolitical positions of Barack Obama\\nSocial policy of Barack Obama\\nDREAM Act\\nImmigration Reform and Control Act of 1986\\nList of international presidential trips made by Barack Obama\\nMiddle Class Tax Relief and Job Creation Act of 2012\\nFraud Enforcement and Recovery Act of 2009\\nNational Broadband Plan (United States)\\nOffice of Energy Efficiency and Renewable Energy\\nPatient Protection and Affordable Care Act\\nSPEECH Act\\nStay with It\\nTax Relief, Unemployment Insurance Reauthorization, and Job Creation Act of 2010\\nAmerican Recovery and Reinvestment Act of 2009\\nWhite House Office of Energy and Climate Change Policy\\n\\n\\n=== Other ===\\nSpeeches of Barack Obama\\nBarack Obama Presidential Center\\nRoberts Court\\n\\n\\n=== Lists ===\\nAssassination threats against Barack Obama\\nList of people pardoned by Barack Obama\\nFederal political scandals, 2009\\u201317\\nList of Barack Obama presidential campaign endorsements, 2008\\nList of Barack Obama presidential campaign endorsements, 2012\\nList of African-American United States Senators\\nList of things named after Barack Obama\\n\\n\\n== Notes and references ==\\n\\n\\n=== Notes ===\\n\\n\\n=== References ===\\n\\n\\n=== Further reading ===\\n\\n\\n== External links ==\\n\\n\\n=== Official ===\\nOfficial website of The Office of Barack and Michelle Obama\\nOfficial website of The Obama Foundation\\nOfficial website of the Barack Obama Presidential Library\\nOfficial website of Organizing for Action\\n\\n\\n=== Other ===\\nObama B. United States Health Care Reform: Progress to Date and Next Steps. JAMA. Published online July 11, 2016. doi:10.1001/jama.2016.9797.\\nTeague Beckwith, Ryan (23 March 2017). \"Read Barack Obama\\'s Statement on the Anniversary of Obamacare\". Time Magazine. Archived from the original on 31 March 2017. Retrieved 31 March 2017. See also: Taylor, Jessica (23 March 2017). \"Obama: \\'America Is Stronger Because Of The Affordable Care Act\\'\". National Public Radio. Archived from the original on 31 March 2017. Retrieved 31 March 2017.\\nObama B. The President\\'s Role in Advancing Criminal Justice Reform. Harvard Law Review. Published January 5, 2017.\\nBarack Obama at DMOZ\\nBiography at the Biographical Directory of the United States Congress\\nProfile at Project Vote Smart\\nFinancial information (federal office) at the Federal Election Commission\\nAppearances on C-SPAN\\nBarack Obama articles in the archive of the Chicago Tribune\\nCollected news and commentary at the Tampa Bay Times\\'s PolitiFact.com\\nCollected news and commentary at The Washington Post\\'s Fact Checker blog\\nBarack Obama is officially one of the most consequential presidents in American history by Vox author Dylan Matthews on March 24, 2017. Archived from the original on March 24, 2017. Retrieved April 2, 2017. The article describes the successes and failures of Barack Obama\\'s domestic and foreign policy as well as provides articles for further reading in this context.\\nWorks by Barack Obama at Project Gutenberg\\nWorks by or about Barack Obama at Internet Archive\\nBarack Obama at the Internet Movie Database'"
      ]
     },
     "execution_count": 42,
     "metadata": {},
     "output_type": "execute_result"
    }
   ],
   "source": [
    "obama_page.content"
   ]
  },
  {
   "cell_type": "code",
   "execution_count": 43,
   "metadata": {
    "collapsed": true
   },
   "outputs": [],
   "source": [
    "tokens = nltk.word_tokenize(obama_page.content)"
   ]
  },
  {
   "cell_type": "code",
   "execution_count": 44,
   "metadata": {},
   "outputs": [
    {
     "data": {
      "text/plain": [
       "[(u',', 814),\n",
       " (u'the', 710),\n",
       " (u'.', 476),\n",
       " (u'of', 399),\n",
       " (u'in', 376),\n",
       " (u'and', 361),\n",
       " (u'to', 337),\n",
       " (u'Obama', 300),\n",
       " (u'a', 235),\n",
       " (u'his', 124),\n",
       " (u'for', 121),\n",
       " (u'on', 111),\n",
       " (u'as', 96),\n",
       " (u'was', 93),\n",
       " (u'that', 92),\n",
       " (u\"'s\", 91),\n",
       " (u\"''\", 81),\n",
       " (u'``', 81),\n",
       " (u'from', 79),\n",
       " (u'by', 78)]"
      ]
     },
     "execution_count": 44,
     "metadata": {},
     "output_type": "execute_result"
    }
   ],
   "source": [
    "fd = nltk.FreqDist(tokens)\n",
    "fd.most_common(20)"
   ]
  },
  {
   "cell_type": "code",
   "execution_count": 45,
   "metadata": {
    "collapsed": true
   },
   "outputs": [],
   "source": [
    "obama_text = nltk.Text(tokens)"
   ]
  },
  {
   "cell_type": "code",
   "execution_count": 46,
   "metadata": {},
   "outputs": [
    {
     "name": "stdout",
     "output_type": "stream",
     "text": [
      "United States; Barack Obama; White House; health care; bin Laden;\n",
      "general election; Affordable Care; Supreme Court; Harvard Law; Bill\n",
      "Clinton; New York; Law School; Patient Protection; Democratic Party;\n",
      "same-sex marriage; Job Creation; Obama announced; National Convention;\n",
      "Obama signed; high school\n"
     ]
    }
   ],
   "source": [
    "obama_text.collocations()"
   ]
  },
  {
   "cell_type": "code",
   "execution_count": 47,
   "metadata": {},
   "outputs": [
    {
     "name": "stdout",
     "output_type": "stream",
     "text": [
      "Displaying 22 of 22 matches:\n",
      "dress , and his landslide November election to the Senate . In 2008 , Obama wa\n",
      "ber 2 , 2008 , two days before his election to the Presidency . Obama also has\n",
      " he returned to Chicago . Obama 's election as the first black president of th\n",
      "lican Yesse Yehudah in the general election , and was reelected again in 2002 \n",
      "ogations . During his 2004 general election campaign for the U.S. Senate , pol\n",
      "ate in November 2004 following his election to the U.S. Senate . ==== 2004 U.S\n",
      "ey Braun to not participate in the election resulted in wide-open Democratic a\n",
      "idates . In the March 2004 primary election , Obama won in an unexpected lands\n",
      "s expected opponent in the general election , Republican primary winner Jack R\n",
      "yan . In the November 2004 general election , Obama won with 70 % of the vote \n",
      "he primary process and the general election , Obama 's campaign set numerous f\n",
      "wn public financing in the general election since the system was created in 19\n",
      "he posted on his website and filed election papers with the Federal Election C\n",
      "d election papers with the Federal Election Commission . As the incumbent pres\n",
      " and vice president in the general election . Their main opponents were Republ\n",
      "Obama called the November 2 , 2010 election , where the Democratic Party lost \n",
      "ollowing Iran 's 2009 presidential election by saying : `` The violence perpet\n",
      "erference in the 2016 presidential election in the 2016 U.S. presidential elec\n",
      "tion in the 2016 U.S. presidential election , Obama 's Russia policy was widel\n",
      "was for his historic candidacy and election , which Time described as `` the s\n",
      "ic National Committee chairmanship election , the Obama administration pushed \n",
      " ( federal office ) at the Federal Election Commission Appearances on C-SPAN B\n"
     ]
    }
   ],
   "source": [
    "obama_text.concordance('election')"
   ]
  },
  {
   "cell_type": "code",
   "execution_count": 48,
   "metadata": {},
   "outputs": [
    {
     "name": "stdout",
     "output_type": "stream",
     "text": [
      "Displaying 15 of 15 matches:\n",
      "lic School for two years and Besuki Public School for one and a half years , s\n",
      "ebruary 1981 , Obama made his first public speech , calling for Occidental to \n",
      " Corporation , then at the New York Public Interest Research Group . In 1985 ,\n",
      "Foreign Relations , Environment and Public Works and Veterans ' Affairs throug\n",
      " 2007 , he left the Environment and Public Works committee and took additional\n",
      "presidential candidate to turn down public financing in the general election s\n",
      "y BP failed , some in the media and public expressed confusion and criticism o\n",
      " insurance plan , also known as the public option , to compete with the corpor\n",
      "ove by the end of 2009 . After much public debate during the Congressional sum\n",
      " , a health care bill featuring the public option was passed in the House . On\n",
      "enate passed its own bill—without a public option—on a party-line vote of 60–3\n",
      "ncil . In March 2010 , Obama took a public stance against plans by the governm\n",
      "dent Raúl Castro , in a significant public moment , greeted and shook hands wi\n",
      "' On April 24 , 2017 , in his first public appearance out of office , Obama ap\n",
      "Affordable Care Act ' '' . National Public Radio . Archived from the original \n"
     ]
    }
   ],
   "source": [
    "obama_text.concordance('public')"
   ]
  },
  {
   "cell_type": "code",
   "execution_count": 49,
   "metadata": {},
   "outputs": [
    {
     "name": "stdout",
     "output_type": "stream",
     "text": [
      "debates girls motors outreach cabinet communications\n"
     ]
    }
   ],
   "source": [
    "obama_text.similar('election')"
   ]
  },
  {
   "cell_type": "code",
   "execution_count": 50,
   "metadata": {},
   "outputs": [
    {
     "name": "stdout",
     "output_type": "stream",
     "text": [
      "No common contexts were found\n"
     ]
    }
   ],
   "source": [
    "obama_text.common_contexts(['election', 'library'])"
   ]
  },
  {
   "cell_type": "code",
   "execution_count": 51,
   "metadata": {},
   "outputs": [
    {
     "data": {
      "image/png": "[encoded data removed]",
      "text/plain": [
       "<matplotlib.figure.Figure at 0x10b72aa50>"
      ]
     },
     "metadata": {},
     "output_type": "display_data"
    }
   ],
   "source": [
    "obama_text.dispersion_plot(['election', 'president', 'library'])"
   ]
  },
  {
   "cell_type": "code",
   "execution_count": 52,
   "metadata": {
    "collapsed": true
   },
   "outputs": [],
   "source": [
    "def lexical_diversity(text):\n",
    "    return float(len(set(text))) / len(text)"
   ]
  },
  {
   "cell_type": "code",
   "execution_count": 53,
   "metadata": {},
   "outputs": [
    {
     "data": {
      "text/plain": [
       "0.2404459715307482"
      ]
     },
     "execution_count": 53,
     "metadata": {},
     "output_type": "execute_result"
    }
   ],
   "source": [
    "lexical_diversity(obama_text)"
   ]
  },
  {
   "cell_type": "code",
   "execution_count": 55,
   "metadata": {
    "collapsed": true
   },
   "outputs": [],
   "source": [
    "url = 'http://www.economist.com/news/christmas-specials/21712062-barack-obamas-presidency-lurched-between-idealism-and-acrimony-some-his'\n",
    "page = BeautifulSoup(requests.get(url).text, 'lxml')"
   ]
  },
  {
   "cell_type": "code",
   "execution_count": 62,
   "metadata": {
    "collapsed": true
   },
   "outputs": [],
   "source": [
    "content = \"\".join([i.text for i in page('div', {'class': 'blog-post__text'})])\n",
    "economist_obama = nltk.Text(nltk.word_tokenize(content))"
   ]
  },
  {
   "cell_type": "code",
   "execution_count": 63,
   "metadata": {},
   "outputs": [
    {
     "data": {
      "text/plain": [
       "0.36736334405144694"
      ]
     },
     "execution_count": 63,
     "metadata": {},
     "output_type": "execute_result"
    }
   ],
   "source": [
    "lexical_diversity(economist_obama)"
   ]
  },
  {
   "cell_type": "code",
   "execution_count": 64,
   "metadata": {
    "collapsed": true
   },
   "outputs": [],
   "source": [
    "econ = nltk.FreqDist(economist_obama)"
   ]
  },
  {
   "cell_type": "code",
   "execution_count": 65,
   "metadata": {},
   "outputs": [
    {
     "data": {
      "text/plain": [
       "[(u',', 436),\n",
       " (u'the', 278),\n",
       " (u'.', 181),\n",
       " (u'of', 165),\n",
       " (u'in', 151),\n",
       " (u'a', 123),\n",
       " (u'his', 115),\n",
       " (u'to', 110),\n",
       " (u'he', 106),\n",
       " (u'and', 105),\n",
       " (u'that', 67),\n",
       " (u'Mr', 61),\n",
       " (u'as', 56),\n",
       " (u'was', 53),\n",
       " (u'is', 44),\n",
       " (u'Obama', 37),\n",
       " (u'it', 34),\n",
       " (u'for', 34),\n",
       " (u'at', 33),\n",
       " (u'on', 32)]"
      ]
     },
     "execution_count": 65,
     "metadata": {},
     "output_type": "execute_result"
    }
   ],
   "source": [
    "econ.most_common(20)"
   ]
  },
  {
   "cell_type": "code",
   "execution_count": 66,
   "metadata": {},
   "outputs": [
    {
     "data": {
      "image/png": "[encoded data removed]",
      "text/plain": [
       "<matplotlib.figure.Figure at 0x10aed6d90>"
      ]
     },
     "metadata": {},
     "output_type": "display_data"
    }
   ],
   "source": [
    "economist_obama.dispersion_plot(['election', 'president', 'library'])"
   ]
  },
  {
   "cell_type": "code",
   "execution_count": 67,
   "metadata": {},
   "outputs": [
    {
     "name": "stdout",
     "output_type": "stream",
     "text": [
      "White House; South Side; Barack Obama; race relations; Affordable\n",
      "Care; Care Act; Harvard Law; Law School; skinny kid; education\n",
      "secretary; health insurance; hard particle; “The Audacity; detail18\n",
      "hours; terrible war; eight years; inaugural address; second inaugural;\n",
      "years later; black president\n"
     ]
    }
   ],
   "source": [
    "economist_obama.collocations()"
   ]
  },
  {
   "cell_type": "code",
   "execution_count": 69,
   "metadata": {},
   "outputs": [
    {
     "data": {
      "image/png": "[encoded data removed]",
      "text/plain": [
       "<matplotlib.figure.Figure at 0x10a38cf10>"
      ]
     },
     "metadata": {},
     "output_type": "display_data"
    }
   ],
   "source": [
    "nltk.FreqDist(economist_obama).plot(50, cumulative=True)"
   ]
  },
  {
   "cell_type": "code",
   "execution_count": 76,
   "metadata": {},
   "outputs": [
    {
     "data": {
      "text/plain": [
       "6220"
      ]
     },
     "execution_count": 76,
     "metadata": {},
     "output_type": "execute_result"
    }
   ],
   "source": [
    "len(economist_obama)"
   ]
  },
  {
   "cell_type": "code",
   "execution_count": 77,
   "metadata": {},
   "outputs": [
    {
     "data": {
      "image/png": "[encoded data removed]",
      "text/plain": [
       "<matplotlib.figure.Figure at 0x10a366c90>"
      ]
     },
     "metadata": {},
     "output_type": "display_data"
    }
   ],
   "source": [
    "nltk.FreqDist(obama_text).plot(50, cumulative=True)"
   ]
  },
  {
   "cell_type": "code",
   "execution_count": 78,
   "metadata": {},
   "outputs": [
    {
     "data": {
      "text/plain": [
       "14261"
      ]
     },
     "execution_count": 78,
     "metadata": {},
     "output_type": "execute_result"
    }
   ],
   "source": [
    "len(obama_text)"
   ]
  },
  {
   "cell_type": "code",
   "execution_count": 80,
   "metadata": {},
   "outputs": [
    {
     "data": {
      "text/plain": [
       "[(u'1', u'\\u201cA'),\n",
       " (u'\\u201cA', u'skinny'),\n",
       " (u'skinny', u'kid'),\n",
       " (u'kid', u'with'),\n",
       " (u'with', u'a'),\n",
       " (u'a', u'funny'),\n",
       " (u'funny', u'name\\u201dWatch'),\n",
       " (u'name\\u201dWatch', u'it'),\n",
       " (u'it', u'again'),\n",
       " (u'again', u'.'),\n",
       " (u'.', u'He'),\n",
       " (u'He', u'is'),\n",
       " (u'is', u'unusually'),\n",
       " (u'unusually', u'stilted'),\n",
       " (u'stilted', u'at'),\n",
       " (u'at', u'the'),\n",
       " (u'the', u'beginning'),\n",
       " (u'beginning', u','),\n",
       " (u',', u'as'),\n",
       " (u'as', u'you')]"
      ]
     },
     "execution_count": 80,
     "metadata": {},
     "output_type": "execute_result"
    }
   ],
   "source": [
    "list(nltk.bigrams(economist_obama))[:20]"
   ]
  },
  {
   "cell_type": "code",
   "execution_count": 81,
   "metadata": {},
   "outputs": [
    {
     "data": {
      "text/plain": [
       "[u'austen-emma.txt',\n",
       " u'austen-persuasion.txt',\n",
       " u'austen-sense.txt',\n",
       " u'bible-kjv.txt',\n",
       " u'blake-poems.txt',\n",
       " u'bryant-stories.txt',\n",
       " u'burgess-busterbrown.txt',\n",
       " u'carroll-alice.txt',\n",
       " u'chesterton-ball.txt',\n",
       " u'chesterton-brown.txt',\n",
       " u'chesterton-thursday.txt',\n",
       " u'edgeworth-parents.txt',\n",
       " u'melville-moby_dick.txt',\n",
       " u'milton-paradise.txt',\n",
       " u'shakespeare-caesar.txt',\n",
       " u'shakespeare-hamlet.txt',\n",
       " u'shakespeare-macbeth.txt',\n",
       " u'whitman-leaves.txt']"
      ]
     },
     "execution_count": 81,
     "metadata": {},
     "output_type": "execute_result"
    }
   ],
   "source": [
    "nltk.corpus.gutenberg.fileids()"
   ]
  },
  {
   "cell_type": "code",
   "execution_count": 82,
   "metadata": {
    "collapsed": true
   },
   "outputs": [],
   "source": [
    "sense = nltk.corpus.gutenberg.words('austen-sense.txt')"
   ]
  },
  {
   "cell_type": "code",
   "execution_count": 83,
   "metadata": {},
   "outputs": [
    {
     "data": {
      "text/plain": [
       "141576"
      ]
     },
     "execution_count": 83,
     "metadata": {},
     "output_type": "execute_result"
    }
   ],
   "source": [
    "len(sense)"
   ]
  },
  {
   "cell_type": "code",
   "execution_count": 84,
   "metadata": {
    "collapsed": true
   },
   "outputs": [],
   "source": [
    "sense_sentences = nltk.corpus.gutenberg.sents('austen-sense.txt')"
   ]
  },
  {
   "cell_type": "code",
   "execution_count": 86,
   "metadata": {},
   "outputs": [
    {
     "data": {
      "text/plain": [
       "[u'[',\n",
       " u'Sense',\n",
       " u'and',\n",
       " u'Sensibility',\n",
       " u'by',\n",
       " u'Jane',\n",
       " u'Austen',\n",
       " u'1811',\n",
       " u']']"
      ]
     },
     "execution_count": 86,
     "metadata": {},
     "output_type": "execute_result"
    }
   ],
   "source": [
    "sense_sentences[0]"
   ]
  },
  {
   "cell_type": "code",
   "execution_count": 87,
   "metadata": {
    "collapsed": true
   },
   "outputs": [],
   "source": [
    "max_len = max(len(s) for s in sense_sentences)"
   ]
  },
  {
   "cell_type": "code",
   "execution_count": 88,
   "metadata": {},
   "outputs": [
    {
     "data": {
      "text/plain": [
       "303"
      ]
     },
     "execution_count": 88,
     "metadata": {},
     "output_type": "execute_result"
    }
   ],
   "source": [
    "max_len"
   ]
  },
  {
   "cell_type": "code",
   "execution_count": 89,
   "metadata": {},
   "outputs": [
    {
     "data": {
      "text/plain": [
       "[[u'I',\n",
       "  u'am',\n",
       "  u'sure',\n",
       "  u'you',\n",
       "  u'will',\n",
       "  u'be',\n",
       "  u'glad',\n",
       "  u'to',\n",
       "  u'hear',\n",
       "  u',',\n",
       "  u'as',\n",
       "  u'likewise',\n",
       "  u'dear',\n",
       "  u'Mrs',\n",
       "  u'.',\n",
       "  u'Jennings',\n",
       "  u',',\n",
       "  u'I',\n",
       "  u'spent',\n",
       "  u'two',\n",
       "  u'happy',\n",
       "  u'hours',\n",
       "  u'with',\n",
       "  u'him',\n",
       "  u'yesterday',\n",
       "  u'afternoon',\n",
       "  u',',\n",
       "  u'he',\n",
       "  u'would',\n",
       "  u'not',\n",
       "  u'hear',\n",
       "  u'of',\n",
       "  u'our',\n",
       "  u'parting',\n",
       "  u',',\n",
       "  u'though',\n",
       "  u'earnestly',\n",
       "  u'did',\n",
       "  u'I',\n",
       "  u',',\n",
       "  u'as',\n",
       "  u'I',\n",
       "  u'thought',\n",
       "  u'my',\n",
       "  u'duty',\n",
       "  u'required',\n",
       "  u',',\n",
       "  u'urge',\n",
       "  u'him',\n",
       "  u'to',\n",
       "  u'it',\n",
       "  u'for',\n",
       "  u'prudence',\n",
       "  u'sake',\n",
       "  u',',\n",
       "  u'and',\n",
       "  u'would',\n",
       "  u'have',\n",
       "  u'parted',\n",
       "  u'for',\n",
       "  u'ever',\n",
       "  u'on',\n",
       "  u'the',\n",
       "  u'spot',\n",
       "  u',',\n",
       "  u'would',\n",
       "  u'he',\n",
       "  u'consent',\n",
       "  u'to',\n",
       "  u'it',\n",
       "  u';',\n",
       "  u'but',\n",
       "  u'he',\n",
       "  u'said',\n",
       "  u'it',\n",
       "  u'should',\n",
       "  u'never',\n",
       "  u'be',\n",
       "  u',',\n",
       "  u'he',\n",
       "  u'did',\n",
       "  u'not',\n",
       "  u'regard',\n",
       "  u'his',\n",
       "  u'mother',\n",
       "  u\"'\",\n",
       "  u's',\n",
       "  u'anger',\n",
       "  u',',\n",
       "  u'while',\n",
       "  u'he',\n",
       "  u'could',\n",
       "  u'have',\n",
       "  u'my',\n",
       "  u'affections',\n",
       "  u';',\n",
       "  u'our',\n",
       "  u'prospects',\n",
       "  u'are',\n",
       "  u'not',\n",
       "  u'very',\n",
       "  u'bright',\n",
       "  u',',\n",
       "  u'to',\n",
       "  u'be',\n",
       "  u'sure',\n",
       "  u',',\n",
       "  u'but',\n",
       "  u'we',\n",
       "  u'must',\n",
       "  u'wait',\n",
       "  u',',\n",
       "  u'and',\n",
       "  u'hope',\n",
       "  u'for',\n",
       "  u'the',\n",
       "  u'best',\n",
       "  u';',\n",
       "  u'he',\n",
       "  u'will',\n",
       "  u'be',\n",
       "  u'ordained',\n",
       "  u'shortly',\n",
       "  u';',\n",
       "  u'and',\n",
       "  u'should',\n",
       "  u'it',\n",
       "  u'ever',\n",
       "  u'be',\n",
       "  u'in',\n",
       "  u'your',\n",
       "  u'power',\n",
       "  u'to',\n",
       "  u'recommend',\n",
       "  u'him',\n",
       "  u'to',\n",
       "  u'any',\n",
       "  u'body',\n",
       "  u'that',\n",
       "  u'has',\n",
       "  u'a',\n",
       "  u'living',\n",
       "  u'to',\n",
       "  u'bestow',\n",
       "  u',',\n",
       "  u'am',\n",
       "  u'very',\n",
       "  u'sure',\n",
       "  u'you',\n",
       "  u'will',\n",
       "  u'not',\n",
       "  u'forget',\n",
       "  u'us',\n",
       "  u',',\n",
       "  u'and',\n",
       "  u'dear',\n",
       "  u'Mrs',\n",
       "  u'.',\n",
       "  u'Jennings',\n",
       "  u'too',\n",
       "  u',',\n",
       "  u'trust',\n",
       "  u'she',\n",
       "  u'will',\n",
       "  u'speak',\n",
       "  u'a',\n",
       "  u'good',\n",
       "  u'word',\n",
       "  u'for',\n",
       "  u'us',\n",
       "  u'to',\n",
       "  u'Sir',\n",
       "  u'John',\n",
       "  u',',\n",
       "  u'or',\n",
       "  u'Mr',\n",
       "  u'.',\n",
       "  u'Palmer',\n",
       "  u',',\n",
       "  u'or',\n",
       "  u'any',\n",
       "  u'friend',\n",
       "  u'that',\n",
       "  u'may',\n",
       "  u'be',\n",
       "  u'able',\n",
       "  u'to',\n",
       "  u'assist',\n",
       "  u'us',\n",
       "  u'.--',\n",
       "  u'Poor',\n",
       "  u'Anne',\n",
       "  u'was',\n",
       "  u'much',\n",
       "  u'to',\n",
       "  u'blame',\n",
       "  u'for',\n",
       "  u'what',\n",
       "  u'she',\n",
       "  u'did',\n",
       "  u',',\n",
       "  u'but',\n",
       "  u'she',\n",
       "  u'did',\n",
       "  u'it',\n",
       "  u'for',\n",
       "  u'the',\n",
       "  u'best',\n",
       "  u',',\n",
       "  u'so',\n",
       "  u'I',\n",
       "  u'say',\n",
       "  u'nothing',\n",
       "  u';',\n",
       "  u'hope',\n",
       "  u'Mrs',\n",
       "  u'.',\n",
       "  u'Jennings',\n",
       "  u'won',\n",
       "  u\"'\",\n",
       "  u't',\n",
       "  u'think',\n",
       "  u'it',\n",
       "  u'too',\n",
       "  u'much',\n",
       "  u'trouble',\n",
       "  u'to',\n",
       "  u'give',\n",
       "  u'us',\n",
       "  u'a',\n",
       "  u'call',\n",
       "  u',',\n",
       "  u'should',\n",
       "  u'she',\n",
       "  u'come',\n",
       "  u'this',\n",
       "  u'way',\n",
       "  u'any',\n",
       "  u'morning',\n",
       "  u',',\n",
       "  u\"'\",\n",
       "  u'twould',\n",
       "  u'be',\n",
       "  u'a',\n",
       "  u'great',\n",
       "  u'kindness',\n",
       "  u',',\n",
       "  u'and',\n",
       "  u'my',\n",
       "  u'cousins',\n",
       "  u'would',\n",
       "  u'be',\n",
       "  u'proud',\n",
       "  u'to',\n",
       "  u'know',\n",
       "  u'her',\n",
       "  u'.--',\n",
       "  u'My',\n",
       "  u'paper',\n",
       "  u'reminds',\n",
       "  u'me',\n",
       "  u'to',\n",
       "  u'conclude',\n",
       "  u';',\n",
       "  u'and',\n",
       "  u'begging',\n",
       "  u'to',\n",
       "  u'be',\n",
       "  u'most',\n",
       "  u'gratefully',\n",
       "  u'and',\n",
       "  u'respectfully',\n",
       "  u'remembered',\n",
       "  u'to',\n",
       "  u'her',\n",
       "  u',',\n",
       "  u'and',\n",
       "  u'to',\n",
       "  u'Sir',\n",
       "  u'John',\n",
       "  u',',\n",
       "  u'and',\n",
       "  u'Lady',\n",
       "  u'Middleton',\n",
       "  u',',\n",
       "  u'and',\n",
       "  u'the',\n",
       "  u'dear',\n",
       "  u'children',\n",
       "  u',',\n",
       "  u'when',\n",
       "  u'you',\n",
       "  u'chance',\n",
       "  u'to',\n",
       "  u'see',\n",
       "  u'them',\n",
       "  u',',\n",
       "  u'and',\n",
       "  u'love',\n",
       "  u'to',\n",
       "  u'Miss',\n",
       "  u'Marianne',\n",
       "  u',']]"
      ]
     },
     "execution_count": 89,
     "metadata": {},
     "output_type": "execute_result"
    }
   ],
   "source": [
    "[s for s in sense_sentences if len(s) == max_len]"
   ]
  },
  {
   "cell_type": "code",
   "execution_count": 91,
   "metadata": {},
   "outputs": [
    {
     "data": {
      "text/plain": [
       "[u'adventure',\n",
       " u'belles_lettres',\n",
       " u'editorial',\n",
       " u'fiction',\n",
       " u'government',\n",
       " u'hobbies',\n",
       " u'humor',\n",
       " u'learned',\n",
       " u'lore',\n",
       " u'mystery',\n",
       " u'news',\n",
       " u'religion',\n",
       " u'reviews',\n",
       " u'romance',\n",
       " u'science_fiction']"
      ]
     },
     "execution_count": 91,
     "metadata": {},
     "output_type": "execute_result"
    }
   ],
   "source": [
    "nltk.corpus.brown.categories()"
   ]
  },
  {
   "cell_type": "code",
   "execution_count": 93,
   "metadata": {
    "collapsed": true
   },
   "outputs": [],
   "source": [
    "cdf = nltk.ConditionalFreqDist((genre, word) for genre in nltk.corpus.brown.categories()\n",
    "                              for word in nltk.corpus.brown.words(categories=genre))"
   ]
  },
  {
   "cell_type": "code",
   "execution_count": 94,
   "metadata": {
    "collapsed": true
   },
   "outputs": [],
   "source": [
    "genres = ['news', 'religion', 'hobbies', 'science_fiction', 'romance', 'humor']\n",
    "modals = ['can', 'could', 'may', 'might', 'must', 'will']"
   ]
  },
  {
   "cell_type": "code",
   "execution_count": 95,
   "metadata": {},
   "outputs": [
    {
     "name": "stdout",
     "output_type": "stream",
     "text": [
      "                  can could   may might  must  will \n",
      "           news    93    86    66    38    50   389 \n",
      "       religion    82    59    78    12    54    71 \n",
      "        hobbies   268    58   131    22    83   264 \n",
      "science_fiction    16    49     4    12     8    16 \n",
      "        romance    74   193    11    51    45    43 \n",
      "          humor    16    30     8     8     9    13 \n"
     ]
    }
   ],
   "source": [
    "cdf.tabulate(conditions=genres, samples=modals)"
   ]
  },
  {
   "cell_type": "code",
   "execution_count": 97,
   "metadata": {},
   "outputs": [
    {
     "data": {
      "text/plain": [
       "[(u',', 3899),\n",
       " (u'.', 3736),\n",
       " (u'the', 2758),\n",
       " (u'and', 1776),\n",
       " (u'to', 1502),\n",
       " (u'a', 1335),\n",
       " (u'of', 1186),\n",
       " (u'``', 1045),\n",
       " (u\"''\", 1044),\n",
       " (u'was', 993),\n",
       " (u'I', 951),\n",
       " (u'in', 875),\n",
       " (u'he', 702),\n",
       " (u'had', 692),\n",
       " (u'?', 690),\n",
       " (u'her', 651),\n",
       " (u'that', 583),\n",
       " (u'it', 573),\n",
       " (u'his', 559),\n",
       " (u'she', 496),\n",
       " (u'with', 460),\n",
       " (u'you', 456),\n",
       " (u'for', 410),\n",
       " (u'at', 402),\n",
       " (u'He', 366),\n",
       " (u'on', 362),\n",
       " (u'him', 339),\n",
       " (u'said', 330),\n",
       " (u'!', 316),\n",
       " (u'--', 291),\n",
       " (u'be', 289),\n",
       " (u'as', 282),\n",
       " (u';', 264),\n",
       " (u'have', 258),\n",
       " (u'but', 252),\n",
       " (u'not', 250),\n",
       " (u'would', 244),\n",
       " (u'She', 232),\n",
       " (u'The', 230),\n",
       " (u'out', 217),\n",
       " (u'were', 214),\n",
       " (u'up', 211),\n",
       " (u'all', 209),\n",
       " (u'from', 202),\n",
       " (u'could', 193),\n",
       " (u'me', 193),\n",
       " (u'like', 185),\n",
       " (u'been', 179),\n",
       " (u'so', 174),\n",
       " (u'there', 169)]"
      ]
     },
     "execution_count": 97,
     "metadata": {},
     "output_type": "execute_result"
    }
   ],
   "source": [
    "cdf['romance'].most_common(50)"
   ]
  },
  {
   "cell_type": "code",
   "execution_count": 102,
   "metadata": {
    "collapsed": true
   },
   "outputs": [],
   "source": [
    "def content_fraction(text):\n",
    "     stopwords = nltk.corpus.stopwords.words('english')\n",
    "     content = [w for w in text if w.lower() not in stopwords]\n",
    "     return len(content) / float(len(text))"
   ]
  },
  {
   "cell_type": "code",
   "execution_count": 103,
   "metadata": {},
   "outputs": [
    {
     "data": {
      "text/plain": [
       "0.5285429733853195"
      ]
     },
     "execution_count": 103,
     "metadata": {},
     "output_type": "execute_result"
    }
   ],
   "source": [
    "content_fraction(sense)"
   ]
  },
  {
   "cell_type": "code",
   "execution_count": 104,
   "metadata": {},
   "outputs": [
    {
     "data": {
      "text/plain": [
       "0.6217041800643087"
      ]
     },
     "execution_count": 104,
     "metadata": {},
     "output_type": "execute_result"
    }
   ],
   "source": [
    "content_fraction(economist_obama)"
   ]
  },
  {
   "cell_type": "code",
   "execution_count": 105,
   "metadata": {},
   "outputs": [
    {
     "data": {
      "text/plain": [
       "0.6812285253488535"
      ]
     },
     "execution_count": 105,
     "metadata": {},
     "output_type": "execute_result"
    }
   ],
   "source": [
    "content_fraction(obama_text)"
   ]
  }
 ],
 "metadata": {
  "kernelspec": {
   "display_name": "Python 2",
   "language": "python",
   "name": "python2"
  },
  "language_info": {
   "codemirror_mode": {
    "name": "ipython",
    "version": 2
   },
   "file_extension": ".py",
   "mimetype": "text/x-python",
   "name": "python",
   "nbconvert_exporter": "python",
   "pygments_lexer": "ipython2",
   "version": "2.7.13"
  }
 },
 "nbformat": 4,
 "nbformat_minor": 2
}
