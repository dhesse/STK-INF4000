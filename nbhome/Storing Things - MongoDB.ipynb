{
 "cells": [
  {
   "cell_type": "markdown",
   "metadata": {},
   "source": [
    "## Storing Things"
   ]
  },
  {
   "cell_type": "code",
   "execution_count": 1,
   "metadata": {
    "collapsed": true
   },
   "outputs": [],
   "source": [
    "my_data = {'project': 'insurance_payments',\n",
    "           'payment_values': [1000, 1500, 1200]}"
   ]
  },
  {
   "cell_type": "code",
   "execution_count": 2,
   "metadata": {
    "collapsed": true
   },
   "outputs": [],
   "source": [
    "with open('tmp_file', 'w') as data_file:\n",
    "    data_file.write(str(my_data))"
   ]
  },
  {
   "cell_type": "code",
   "execution_count": 4,
   "metadata": {
    "collapsed": false
   },
   "outputs": [
    {
     "data": {
      "text/plain": [
       "{'payment_values': [1000, 1500, 1200], 'project': 'insurance_payments'}"
      ]
     },
     "execution_count": 4,
     "metadata": {},
     "output_type": "execute_result"
    }
   ],
   "source": [
    "recovered_data = {}\n",
    "with open('tmp_file') as data_file:\n",
    "    recovered_data = eval(data_file.read())\n",
    "recovered_data"
   ]
  },
  {
   "cell_type": "markdown",
   "metadata": {},
   "source": [
    "# Don't try this at home\n",
    "\n",
    "What if your file contains:\n",
    "\n",
    "     import subprocess\n",
    "     subprocess.call(['rm', '-rf', '~'])\n",
    "\n",
    "Eval will mess you up!\n",
    "\n",
    "# More limitations"
   ]
  },
  {
   "cell_type": "code",
   "execution_count": 5,
   "metadata": {
    "collapsed": true
   },
   "outputs": [],
   "source": [
    "class DummyClass(object):\n",
    "    def __init__(self, n):\n",
    "        self.n = n"
   ]
  },
  {
   "cell_type": "code",
   "execution_count": 6,
   "metadata": {
    "collapsed": true
   },
   "outputs": [],
   "source": [
    "my_data = [DummyClass(i) for i in range(10)]"
   ]
  },
  {
   "cell_type": "code",
   "execution_count": 7,
   "metadata": {
    "collapsed": false
   },
   "outputs": [
    {
     "ename": "SyntaxError",
     "evalue": "invalid syntax (<string>, line 1)",
     "output_type": "error",
     "traceback": [
      "\u001b[0;36m  File \u001b[0;32m\"<string>\"\u001b[0;36m, line \u001b[0;32m1\u001b[0m\n\u001b[0;31m    [<__main__.DummyClass object at 0x7f78d88aafd0>, <__main__.DummyClass object at 0x7f78d88aaf90>, <__main__.DummyClass object at 0x7f78d885a5d0>, <__main__.DummyClass object at 0x7f78d885a3d0>, <__main__.DummyClass object at 0x7f78d885a150>, <__main__.DummyClass object at 0x7f78d885a390>, <__main__.DummyClass object at 0x7f78d885a610>, <__main__.DummyClass object at 0x7f78d885a690>, <__main__.DummyClass object at 0x7f78d885a6d0>, <__main__.DummyClass object at 0x7f78d885a710>]\u001b[0m\n\u001b[0m     ^\u001b[0m\n\u001b[0;31mSyntaxError\u001b[0m\u001b[0;31m:\u001b[0m invalid syntax\n"
     ]
    }
   ],
   "source": [
    "eval(str(my_data))"
   ]
  },
  {
   "cell_type": "markdown",
   "metadata": {},
   "source": [
    "# Pickle"
   ]
  },
  {
   "cell_type": "code",
   "execution_count": 8,
   "metadata": {
    "collapsed": true
   },
   "outputs": [],
   "source": [
    "import pickle"
   ]
  },
  {
   "cell_type": "code",
   "execution_count": 10,
   "metadata": {
    "collapsed": true
   },
   "outputs": [],
   "source": [
    "with open('tmp_file', 'w') as data_file:\n",
    "    pickle.dump(my_data, data_file)"
   ]
  },
  {
   "cell_type": "code",
   "execution_count": 14,
   "metadata": {
    "collapsed": false
   },
   "outputs": [
    {
     "data": {
      "text/plain": [
       "[<__main__.DummyClass at 0x7f78d3a66910>,\n",
       " <__main__.DummyClass at 0x7f78d3a66a90>,\n",
       " <__main__.DummyClass at 0x7f78d3a66b50>,\n",
       " <__main__.DummyClass at 0x7f78d88aac50>,\n",
       " <__main__.DummyClass at 0x7f78d88aae50>,\n",
       " <__main__.DummyClass at 0x7f78d88aae10>,\n",
       " <__main__.DummyClass at 0x7f78d88aac10>,\n",
       " <__main__.DummyClass at 0x7f78d88aad90>,\n",
       " <__main__.DummyClass at 0x7f78d88aaf10>,\n",
       " <__main__.DummyClass at 0x7f78d885a510>]"
      ]
     },
     "execution_count": 14,
     "metadata": {},
     "output_type": "execute_result"
    }
   ],
   "source": [
    "recovered_data = []\n",
    "with open('tmp_file') as data_file:\n",
    "    recovered_data = pickle.load(data_file)\n",
    "recovered_data"
   ]
  },
  {
   "cell_type": "markdown",
   "metadata": {},
   "source": [
    "# Databases\n",
    "\n",
    "Databases are places to permanently store data."
   ]
  },
  {
   "cell_type": "markdown",
   "metadata": {},
   "source": [
    "## Installation\n",
    "\n",
    "### Mac\n",
    "\n",
    "    brew update\n",
    "    brew install mongodb\n",
    "    brew services start mongodb\n",
    "\n",
    "### Linux\n",
    "\n",
    "    apt install mongodb\n",
    "\n",
    "or\n",
    "\n",
    "    yum install mongodb"
   ]
  },
  {
   "cell_type": "markdown",
   "metadata": {},
   "source": [
    "https://docs.mongodb.com/manual/reference/operator/query/"
   ]
  },
  {
   "cell_type": "code",
   "execution_count": 1,
   "metadata": {
    "collapsed": false
   },
   "outputs": [],
   "source": [
    "from pymongo import MongoClient\n",
    "from datetime import datetime"
   ]
  },
  {
   "cell_type": "code",
   "execution_count": 2,
   "metadata": {
    "collapsed": false
   },
   "outputs": [
    {
     "data": {
      "text/plain": [
       "MongoClient(host=['localhost:27017'], document_class=dict, tz_aware=False, connect=True)"
      ]
     },
     "execution_count": 2,
     "metadata": {},
     "output_type": "execute_result"
    }
   ],
   "source": [
    "MongoClient('localhost', 27017)"
   ]
  },
  {
   "cell_type": "code",
   "execution_count": 3,
   "metadata": {
    "collapsed": false
   },
   "outputs": [],
   "source": [
    "db = MongoClient().musicians.info"
   ]
  },
  {
   "cell_type": "code",
   "execution_count": 7,
   "metadata": {
    "collapsed": true
   },
   "outputs": [],
   "source": [
    "jackson = {'name': {'first': 'Michael',\n",
    "                    'last': 'Jackson',\n",
    "                    'middle': 'Joseph'},\n",
    "           'born': datetime(1958, 8, 29),\n",
    "           'died': datetime(2009, 6, 25),\n",
    "           'albums': [{'name': 'Thriller',\n",
    "                       'released': 1982},\n",
    "                      {'name': 'Bad',\n",
    "                       'released': 1987}]}"
   ]
  },
  {
   "cell_type": "code",
   "execution_count": 9,
   "metadata": {
    "collapsed": true
   },
   "outputs": [],
   "source": [
    "collection.drop()"
   ]
  },
  {
   "cell_type": "code",
   "execution_count": 10,
   "metadata": {
    "collapsed": false
   },
   "outputs": [],
   "source": [
    "result = db.insert_one(jackson)"
   ]
  },
  {
   "cell_type": "code",
   "execution_count": 11,
   "metadata": {
    "collapsed": false
   },
   "outputs": [
    {
     "data": {
      "text/plain": [
       "True"
      ]
     },
     "execution_count": 11,
     "metadata": {},
     "output_type": "execute_result"
    }
   ],
   "source": [
    "result.acknowledged"
   ]
  },
  {
   "cell_type": "code",
   "execution_count": 12,
   "metadata": {
    "collapsed": false
   },
   "outputs": [
    {
     "data": {
      "text/plain": [
       "ObjectId('588c576564ed26b558ff93f7')"
      ]
     },
     "execution_count": 12,
     "metadata": {},
     "output_type": "execute_result"
    }
   ],
   "source": [
    "result.inserted_id"
   ]
  },
  {
   "cell_type": "code",
   "execution_count": 13,
   "metadata": {
    "collapsed": false
   },
   "outputs": [
    {
     "data": {
      "text/plain": [
       "{u'_id': ObjectId('588c576564ed26b558ff93f7'),\n",
       " u'albums': [{u'name': u'Thriller', u'released': 1982},\n",
       "  {u'name': u'Bad', u'released': 1987}],\n",
       " u'born': datetime.datetime(1958, 8, 29, 0, 0),\n",
       " u'died': datetime.datetime(2009, 6, 25, 0, 0),\n",
       " u'name': {u'first': u'Michael', u'last': u'Jackson', u'middle': u'Joseph'}}"
      ]
     },
     "execution_count": 13,
     "metadata": {},
     "output_type": "execute_result"
    }
   ],
   "source": [
    "db.find_one(result.inserted_id)"
   ]
  },
  {
   "cell_type": "code",
   "execution_count": 14,
   "metadata": {
    "collapsed": false
   },
   "outputs": [
    {
     "data": {
      "text/plain": [
       "{u'_id': ObjectId('588c576564ed26b558ff93f7'),\n",
       " u'albums': [{u'name': u'Thriller', u'released': 1982},\n",
       "  {u'name': u'Bad', u'released': 1987}],\n",
       " u'born': datetime.datetime(1958, 8, 29, 0, 0),\n",
       " u'died': datetime.datetime(2009, 6, 25, 0, 0),\n",
       " u'name': {u'first': u'Michael', u'last': u'Jackson', u'middle': u'Joseph'}}"
      ]
     },
     "execution_count": 14,
     "metadata": {},
     "output_type": "execute_result"
    }
   ],
   "source": [
    "db.find_one()"
   ]
  },
  {
   "cell_type": "code",
   "execution_count": 16,
   "metadata": {
    "collapsed": false
   },
   "outputs": [
    {
     "data": {
      "text/plain": [
       "<pymongo.cursor.Cursor at 0x10e950d90>"
      ]
     },
     "execution_count": 16,
     "metadata": {},
     "output_type": "execute_result"
    }
   ],
   "source": [
    "db.find()"
   ]
  },
  {
   "cell_type": "code",
   "execution_count": 17,
   "metadata": {
    "collapsed": false
   },
   "outputs": [
    {
     "data": {
      "text/plain": [
       "[{u'_id': ObjectId('588c576564ed26b558ff93f7'),\n",
       "  u'albums': [{u'name': u'Thriller', u'released': 1982},\n",
       "   {u'name': u'Bad', u'released': 1987}],\n",
       "  u'born': datetime.datetime(1958, 8, 29, 0, 0),\n",
       "  u'died': datetime.datetime(2009, 6, 25, 0, 0),\n",
       "  u'name': {u'first': u'Michael', u'last': u'Jackson', u'middle': u'Joseph'}}]"
      ]
     },
     "execution_count": 17,
     "metadata": {},
     "output_type": "execute_result"
    }
   ],
   "source": [
    "list(db.find().limit(10))"
   ]
  },
  {
   "cell_type": "code",
   "execution_count": 21,
   "metadata": {
    "collapsed": false
   },
   "outputs": [
    {
     "data": {
      "text/plain": [
       "{u'_id': ObjectId('588c576564ed26b558ff93f7'),\n",
       " u'albums': [{u'name': u'Thriller', u'released': 1982},\n",
       "  {u'name': u'Bad', u'released': 1987}],\n",
       " u'born': datetime.datetime(1958, 8, 29, 0, 0),\n",
       " u'died': datetime.datetime(2009, 6, 25, 0, 0),\n",
       " u'name': {u'first': u'Michael', u'last': u'Jackson', u'middle': u'Joseph'}}"
      ]
     },
     "execution_count": 21,
     "metadata": {},
     "output_type": "execute_result"
    }
   ],
   "source": [
    "db.find_one({'born': datetime(1958,8,29)})"
   ]
  },
  {
   "cell_type": "code",
   "execution_count": 24,
   "metadata": {
    "collapsed": false
   },
   "outputs": [
    {
     "data": {
      "text/plain": [
       "{u'_id': ObjectId('588c576564ed26b558ff93f7'),\n",
       " u'albums': [{u'name': u'Thriller', u'released': 1982},\n",
       "  {u'name': u'Bad', u'released': 1987}],\n",
       " u'born': datetime.datetime(1958, 8, 29, 0, 0),\n",
       " u'died': datetime.datetime(2009, 6, 25, 0, 0),\n",
       " u'name': {u'first': u'Michael', u'last': u'Jackson', u'middle': u'Joseph'}}"
      ]
     },
     "execution_count": 24,
     "metadata": {},
     "output_type": "execute_result"
    }
   ],
   "source": [
    "db.find_one({'name.first': 'Michael'})"
   ]
  },
  {
   "cell_type": "code",
   "execution_count": 25,
   "metadata": {
    "collapsed": false
   },
   "outputs": [
    {
     "data": {
      "text/plain": [
       "{u'_id': ObjectId('588c576564ed26b558ff93f7'),\n",
       " u'albums': [{u'name': u'Thriller', u'released': 1982},\n",
       "  {u'name': u'Bad', u'released': 1987}],\n",
       " u'born': datetime.datetime(1958, 8, 29, 0, 0),\n",
       " u'died': datetime.datetime(2009, 6, 25, 0, 0),\n",
       " u'name': {u'first': u'Michael', u'last': u'Jackson', u'middle': u'Joseph'}}"
      ]
     },
     "execution_count": 25,
     "metadata": {},
     "output_type": "execute_result"
    }
   ],
   "source": [
    "db.find_one({'albums.released': 1982})"
   ]
  },
  {
   "cell_type": "code",
   "execution_count": 27,
   "metadata": {
    "collapsed": false
   },
   "outputs": [],
   "source": [
    "db.find_one({'albums.released': {'$gt': 2000}})"
   ]
  },
  {
   "cell_type": "code",
   "execution_count": 28,
   "metadata": {
    "collapsed": false
   },
   "outputs": [
    {
     "data": {
      "text/plain": [
       "{u'_id': ObjectId('588c576564ed26b558ff93f7'),\n",
       " u'albums': [{u'name': u'Thriller', u'released': 1982},\n",
       "  {u'name': u'Bad', u'released': 1987}],\n",
       " u'born': datetime.datetime(1958, 8, 29, 0, 0),\n",
       " u'died': datetime.datetime(2009, 6, 25, 0, 0),\n",
       " u'name': {u'first': u'Michael', u'last': u'Jackson', u'middle': u'Joseph'}}"
      ]
     },
     "execution_count": 28,
     "metadata": {},
     "output_type": "execute_result"
    }
   ],
   "source": [
    "db.find_one({'albums.released': {'$gt': 1985}})"
   ]
  },
  {
   "cell_type": "code",
   "execution_count": 30,
   "metadata": {
    "collapsed": false
   },
   "outputs": [],
   "source": [
    "# AND\n",
    "db.find_one({'name.first': 'Michael', 'name.last': 'Bowie'})"
   ]
  },
  {
   "cell_type": "code",
   "execution_count": 32,
   "metadata": {
    "collapsed": false
   },
   "outputs": [
    {
     "data": {
      "text/plain": [
       "{u'_id': ObjectId('588c576564ed26b558ff93f7'),\n",
       " u'albums': [{u'name': u'Thriller', u'released': 1982},\n",
       "  {u'name': u'Bad', u'released': 1987}],\n",
       " u'born': datetime.datetime(1958, 8, 29, 0, 0),\n",
       " u'died': datetime.datetime(2009, 6, 25, 0, 0),\n",
       " u'name': {u'first': u'Michael', u'last': u'Jackson', u'middle': u'Joseph'}}"
      ]
     },
     "execution_count": 32,
     "metadata": {},
     "output_type": "execute_result"
    }
   ],
   "source": [
    "db.find_one({'$or': [{'name.first': 'Michael'},\n",
    "                             {'name.last': 'Bowie'}]})"
   ]
  },
  {
   "cell_type": "code",
   "execution_count": 34,
   "metadata": {
    "collapsed": false
   },
   "outputs": [],
   "source": [
    "bowie = {'name': {'first': 'David',\n",
    "                  'middle': 'Robert',\n",
    "                  'last': 'Bowie'},\n",
    "         'born': datetime(1947, 1, 8)}"
   ]
  },
  {
   "cell_type": "code",
   "execution_count": 35,
   "metadata": {
    "collapsed": false
   },
   "outputs": [
    {
     "data": {
      "text/plain": [
       "<pymongo.results.InsertOneResult at 0x10fa1d6e0>"
      ]
     },
     "execution_count": 35,
     "metadata": {},
     "output_type": "execute_result"
    }
   ],
   "source": [
    "db.insert_one(bowie)"
   ]
  },
  {
   "cell_type": "code",
   "execution_count": 36,
   "metadata": {
    "collapsed": false
   },
   "outputs": [
    {
     "data": {
      "text/plain": [
       "[{u'_id': ObjectId('588c576564ed26b558ff93f7'),\n",
       "  u'born': datetime.datetime(1958, 8, 29, 0, 0),\n",
       "  u'name': {u'last': u'Jackson'}},\n",
       " {u'_id': ObjectId('588c5a3064ed26b558ff93f8'),\n",
       "  u'born': datetime.datetime(1947, 1, 8, 0, 0),\n",
       "  u'name': {u'last': u'Bowie'}}]"
      ]
     },
     "execution_count": 36,
     "metadata": {},
     "output_type": "execute_result"
    }
   ],
   "source": [
    "list(db.find({}, {'name.last': 1, 'born': 1}))"
   ]
  },
  {
   "cell_type": "code",
   "execution_count": 38,
   "metadata": {
    "collapsed": false
   },
   "outputs": [
    {
     "data": {
      "text/plain": [
       "[{u'_id': ObjectId('588c5a3064ed26b558ff93f8'),\n",
       "  u'born': datetime.datetime(1947, 1, 8, 0, 0),\n",
       "  u'name': {u'last': u'Bowie'}},\n",
       " {u'_id': ObjectId('588c576564ed26b558ff93f7'),\n",
       "  u'born': datetime.datetime(1958, 8, 29, 0, 0),\n",
       "  u'name': {u'last': u'Jackson'}}]"
      ]
     },
     "execution_count": 38,
     "metadata": {},
     "output_type": "execute_result"
    }
   ],
   "source": [
    "list(db.find({}, {'name.last': 1, 'born': 1}).sort('born'))"
   ]
  },
  {
   "cell_type": "code",
   "execution_count": 45,
   "metadata": {
    "collapsed": true
   },
   "outputs": [],
   "source": [
    "from pymongo import DESCENDING"
   ]
  },
  {
   "cell_type": "code",
   "execution_count": 75,
   "metadata": {
    "collapsed": false
   },
   "outputs": [
    {
     "data": {
      "text/plain": [
       "[{u'_id': ObjectId('588c576564ed26b558ff93f7'),\n",
       "  u'born': datetime.datetime(1958, 8, 29, 0, 0),\n",
       "  u'name': {u'last': u'Jackson'}},\n",
       " {u'_id': ObjectId('588c5a3064ed26b558ff93f8'),\n",
       "  u'born': datetime.datetime(1947, 1, 8, 0, 0),\n",
       "  u'name': {u'last': u'Bowie'}}]"
      ]
     },
     "execution_count": 75,
     "metadata": {},
     "output_type": "execute_result"
    }
   ],
   "source": [
    "list(db.find({}, {'name.last': 1, 'born': 1})\\\n",
    "     .sort([('born', DESCENDING)]))"
   ]
  },
  {
   "cell_type": "markdown",
   "metadata": {},
   "source": [
    "## Modifying things"
   ]
  },
  {
   "cell_type": "code",
   "execution_count": 49,
   "metadata": {
    "collapsed": false
   },
   "outputs": [],
   "source": [
    "result = db.update_one({'name.last': 'Bowie'},\n",
    "                       {'$set': {'albums': []}})"
   ]
  },
  {
   "cell_type": "code",
   "execution_count": 50,
   "metadata": {
    "collapsed": false
   },
   "outputs": [
    {
     "data": {
      "text/plain": [
       "1"
      ]
     },
     "execution_count": 50,
     "metadata": {},
     "output_type": "execute_result"
    }
   ],
   "source": [
    "result.matched_count"
   ]
  },
  {
   "cell_type": "code",
   "execution_count": 51,
   "metadata": {
    "collapsed": false
   },
   "outputs": [
    {
     "data": {
      "text/plain": [
       "0"
      ]
     },
     "execution_count": 51,
     "metadata": {},
     "output_type": "execute_result"
    }
   ],
   "source": [
    "result.modified_count"
   ]
  },
  {
   "cell_type": "code",
   "execution_count": 52,
   "metadata": {
    "collapsed": true
   },
   "outputs": [],
   "source": [
    "result = db.update_one({'name.last': 'Bowie'},\n",
    "                       {'$push': {'albums': {'name': \"Let's Dance\",\n",
    "                                             'released': 1983}}})"
   ]
  },
  {
   "cell_type": "code",
   "execution_count": 53,
   "metadata": {
    "collapsed": false
   },
   "outputs": [
    {
     "data": {
      "text/plain": [
       "{u'n': 1, u'nModified': 1, u'ok': 1.0, 'updatedExisting': True}"
      ]
     },
     "execution_count": 53,
     "metadata": {},
     "output_type": "execute_result"
    }
   ],
   "source": [
    "result.raw_result"
   ]
  },
  {
   "cell_type": "code",
   "execution_count": 54,
   "metadata": {
    "collapsed": false
   },
   "outputs": [
    {
     "data": {
      "text/plain": [
       "{u'_id': ObjectId('588c5a3064ed26b558ff93f8'),\n",
       " u'albums': [{u'name': u\"Let's Dance\", u'released': 1983}],\n",
       " u'born': datetime.datetime(1947, 1, 8, 0, 0),\n",
       " u'name': {u'first': u'David', u'last': u'Bowie', u'middle': u'Robert'}}"
      ]
     },
     "execution_count": 54,
     "metadata": {},
     "output_type": "execute_result"
    }
   ],
   "source": [
    "db.find_one({'name.last': 'Bowie'})"
   ]
  },
  {
   "cell_type": "code",
   "execution_count": 55,
   "metadata": {
    "collapsed": false
   },
   "outputs": [
    {
     "data": {
      "text/plain": [
       "<pymongo.results.UpdateResult at 0x10e9b1fa0>"
      ]
     },
     "execution_count": 55,
     "metadata": {},
     "output_type": "execute_result"
    }
   ],
   "source": [
    "db.update_one({'name.last': 'Bowie'}, {'$inc': {'albums.0.released': 1}})"
   ]
  },
  {
   "cell_type": "code",
   "execution_count": 56,
   "metadata": {
    "collapsed": false
   },
   "outputs": [
    {
     "data": {
      "text/plain": [
       "{u'_id': ObjectId('588c5a3064ed26b558ff93f8'),\n",
       " u'albums': [{u'name': u\"Let's Dance\", u'released': 1984}]}"
      ]
     },
     "execution_count": 56,
     "metadata": {},
     "output_type": "execute_result"
    }
   ],
   "source": [
    "db.find_one({'name.last': 'Bowie'}, {'albums': 1})"
   ]
  },
  {
   "cell_type": "code",
   "execution_count": 57,
   "metadata": {
    "collapsed": false
   },
   "outputs": [
    {
     "data": {
      "text/plain": [
       "<pymongo.results.UpdateResult at 0x10e9b1370>"
      ]
     },
     "execution_count": 57,
     "metadata": {},
     "output_type": "execute_result"
    }
   ],
   "source": [
    "db.update_one({'name.last': 'Bowie','albums.name': \"Let's Dance\"},\n",
    "              {'$inc': {'albums.$.released': -1}})"
   ]
  },
  {
   "cell_type": "code",
   "execution_count": 58,
   "metadata": {
    "collapsed": false
   },
   "outputs": [
    {
     "data": {
      "text/plain": [
       "{u'_id': ObjectId('588c5a3064ed26b558ff93f8'),\n",
       " u'albums': [{u'name': u\"Let's Dance\", u'released': 1983}]}"
      ]
     },
     "execution_count": 58,
     "metadata": {},
     "output_type": "execute_result"
    }
   ],
   "source": [
    "db.find_one({'name.last': 'Bowie'}, {'albums': 1})"
   ]
  },
  {
   "cell_type": "markdown",
   "metadata": {},
   "source": [
    "# Aggregations"
   ]
  },
  {
   "cell_type": "code",
   "execution_count": 62,
   "metadata": {
    "collapsed": false
   },
   "outputs": [],
   "source": [
    "agg = db.aggregate([{'$group': {'_id': '$born',\n",
    "                                'count': {'$sum': 1}}}])"
   ]
  },
  {
   "cell_type": "code",
   "execution_count": 63,
   "metadata": {
    "collapsed": false
   },
   "outputs": [
    {
     "data": {
      "text/plain": [
       "[{u'_id': datetime.datetime(1947, 1, 8, 0, 0), u'count': 1},\n",
       " {u'_id': datetime.datetime(1958, 8, 29, 0, 0), u'count': 1}]"
      ]
     },
     "execution_count": 63,
     "metadata": {},
     "output_type": "execute_result"
    }
   ],
   "source": [
    "list(agg)"
   ]
  },
  {
   "cell_type": "code",
   "execution_count": 68,
   "metadata": {
    "collapsed": false
   },
   "outputs": [
    {
     "data": {
      "text/plain": [
       "[{u'_id': 1947, u'count': 1}, {u'_id': 1958, u'count': 1}]"
      ]
     },
     "execution_count": 68,
     "metadata": {},
     "output_type": "execute_result"
    }
   ],
   "source": [
    "list(db.aggregate([{'$group': {'_id': {'$year': '$born'},\n",
    "                               'count': {'$sum': 1}}}]))"
   ]
  },
  {
   "cell_type": "code",
   "execution_count": 71,
   "metadata": {
    "collapsed": false
   },
   "outputs": [
    {
     "data": {
      "text/plain": [
       "[{u'_id': 1947, u'max_records_released': 1},\n",
       " {u'_id': 1958, u'max_records_released': 2}]"
      ]
     },
     "execution_count": 71,
     "metadata": {},
     "output_type": "execute_result"
    }
   ],
   "source": [
    "list(db.aggregate([{'$group': {'_id': {'$year': '$born'}, \n",
    "                               'max_records_released' :\n",
    "                                 {'$max': {'$size': '$albums'}}}}]))"
   ]
  },
  {
   "cell_type": "code",
   "execution_count": 74,
   "metadata": {
    "collapsed": false
   },
   "outputs": [
    {
     "data": {
      "text/plain": [
       "[{u'_id': 1947, u'max_records_released': 1}]"
      ]
     },
     "execution_count": 74,
     "metadata": {},
     "output_type": "execute_result"
    }
   ],
   "source": [
    "list(db.aggregate([{'$match': {'name.first': 'David'}},\n",
    "                   {'$group': {'_id': {'$year': '$born'}, \n",
    "                               'max_records_released' : \n",
    "                                 {'$max': {'$size': '$albums'}}}}]))"
   ]
  },
  {
   "cell_type": "code",
   "execution_count": 5,
   "metadata": {
    "collapsed": false
   },
   "outputs": [
    {
     "data": {
      "text/plain": [
       "[{u'_id': ObjectId('588c576564ed26b558ff93f7'), u'last_record': 1987},\n",
       " {u'_id': ObjectId('588c5a3064ed26b558ff93f8'), u'last_record': 1983}]"
      ]
     },
     "execution_count": 5,
     "metadata": {},
     "output_type": "execute_result"
    }
   ],
   "source": [
    "list(db.aggregate([{'$project': {'last_record': {'$max': '$albums.released'}}}]))"
   ]
  },
  {
   "cell_type": "code",
   "execution_count": 6,
   "metadata": {
    "collapsed": true
   },
   "outputs": [],
   "source": [
    "from bson import Code"
   ]
  },
  {
   "cell_type": "code",
   "execution_count": 48,
   "metadata": {
    "collapsed": true
   },
   "outputs": [],
   "source": [
    "map_fn = Code(\"\"\"function() {emit(this.born.getFullYear(), this.albums.length)}\"\"\")\n",
    "reduce_fn = Code('function(key, values) {return Array.sum(values)} ')"
   ]
  },
  {
   "cell_type": "code",
   "execution_count": 49,
   "metadata": {
    "collapsed": false
   },
   "outputs": [],
   "source": [
    "result = db.map_reduce(map_fn, reduce_fn, 'result')"
   ]
  },
  {
   "cell_type": "code",
   "execution_count": 50,
   "metadata": {
    "collapsed": false
   },
   "outputs": [
    {
     "data": {
      "text/plain": [
       "[{u'_id': 1947.0, u'value': 1.0}, {u'_id': 1958.0, u'value': 2.0}]"
      ]
     },
     "execution_count": 50,
     "metadata": {},
     "output_type": "execute_result"
    }
   ],
   "source": [
    "list(result.find())"
   ]
  }
 ],
 "metadata": {
  "kernelspec": {
   "display_name": "Python 2",
   "language": "python",
   "name": "python2"
  },
  "language_info": {
   "codemirror_mode": {
    "name": "ipython",
    "version": 2
   },
   "file_extension": ".py",
   "mimetype": "text/x-python",
   "name": "python",
   "nbconvert_exporter": "python",
   "pygments_lexer": "ipython2",
   "version": "2.7.10"
  }
 },
 "nbformat": 4,
 "nbformat_minor": 1
}
