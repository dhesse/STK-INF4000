{
 "cells": [
  {
   "cell_type": "code",
   "execution_count": null,
   "metadata": {
    "collapsed": false
   },
   "outputs": [],
   "source": [
    "from datetime import datetime\n",
    "def ymd(date_string):\n",
    "    \"\"\"Convert a date string formated\n",
    "       year - month - date\n",
    "    to a datetime object.\n",
    "    \n",
    "    Example:\n",
    "    \n",
    "    >>> ymd('2016-01-30')\n",
    "    datetime.datetime(2016, 1, 30, 0, 0)\n",
    "    \"\"\"\n",
    "    format_string = \"%Y-%m-%d\"\n",
    "    return datetime.strptime(date_string, format_string) "
   ]
  },
  {
   "cell_type": "code",
   "execution_count": null,
   "metadata": {
    "collapsed": false
   },
   "outputs": [],
   "source": [
    "import unittest"
   ]
  },
  {
   "cell_type": "code",
   "execution_count": null,
   "metadata": {
    "collapsed": false
   },
   "outputs": [],
   "source": [
    "class TestYmd(unittest.TestCase):\n",
    "    def test_with_known_value(self):\n",
    "        known = datetime(2016, 1, 30, 0, 0)\n",
    "        ymd_result = ymd('2016-01-30')\n",
    "        self.assertEqual(ymd_result, known)\n",
    "        self.assertTrue(known == ymd_result)\n",
    "    def test_bad_format_throws(self):\n",
    "        with self.assertRaises(ValueError):\n",
    "            ymd('')"
   ]
  },
  {
   "cell_type": "markdown",
   "metadata": {},
   "source": [
    "In the real world:\n",
    "\n",
    "    if __name__ == '__main__':\n",
    "        unittest.main()\n",
    "\n",
    "Or even better:\n",
    "\n",
    "    python -m unittest tests\n",
    "\n",
    "All test should reside in the `tests` folder."
   ]
  },
  {
   "cell_type": "code",
   "execution_count": null,
   "metadata": {
    "collapsed": false
   },
   "outputs": [],
   "source": [
    "unittest.main(argv=['first-arg-is-ignored'], exit=False)"
   ]
  },
  {
   "cell_type": "code",
   "execution_count": null,
   "metadata": {
    "collapsed": false
   },
   "outputs": [],
   "source": [
    "import doctest"
   ]
  },
  {
   "cell_type": "code",
   "execution_count": null,
   "metadata": {
    "collapsed": false
   },
   "outputs": [],
   "source": [
    "doctest.run_docstring_examples(ymd, globals(), True)"
   ]
  },
  {
   "cell_type": "markdown",
   "metadata": {},
   "source": [
    "# Mocks"
   ]
  },
  {
   "cell_type": "code",
   "execution_count": null,
   "metadata": {
    "collapsed": false
   },
   "outputs": [],
   "source": [
    "import mock # python 3: unittest.mock"
   ]
  },
  {
   "cell_type": "code",
   "execution_count": null,
   "metadata": {
    "collapsed": false
   },
   "outputs": [],
   "source": [
    "class Dummy(object):\n",
    "    pass"
   ]
  },
  {
   "cell_type": "code",
   "execution_count": null,
   "metadata": {
    "collapsed": false
   },
   "outputs": [],
   "source": [
    "dummy = Dummy()"
   ]
  },
  {
   "cell_type": "code",
   "execution_count": null,
   "metadata": {
    "collapsed": false
   },
   "outputs": [],
   "source": [
    "dummy.mock_method = mock.MagicMock(return_value = {'foo': 12})"
   ]
  },
  {
   "cell_type": "code",
   "execution_count": null,
   "metadata": {
    "collapsed": false
   },
   "outputs": [],
   "source": [
    "dummy.mock_method(12, 'foo', dict)"
   ]
  },
  {
   "cell_type": "code",
   "execution_count": null,
   "metadata": {
    "collapsed": false
   },
   "outputs": [],
   "source": [
    "dummy.mock_method.assert_called_once()"
   ]
  },
  {
   "cell_type": "code",
   "execution_count": null,
   "metadata": {
    "collapsed": false
   },
   "outputs": [],
   "source": [
    "dummy.mock_method.assert_called_once_with(12, 'foo', dict)"
   ]
  },
  {
   "cell_type": "code",
   "execution_count": null,
   "metadata": {
    "collapsed": false
   },
   "outputs": [],
   "source": [
    "dummy.mock_method()"
   ]
  },
  {
   "cell_type": "code",
   "execution_count": null,
   "metadata": {
    "collapsed": false
   },
   "outputs": [],
   "source": [
    "dummy.mock_method.assert_called_once()"
   ]
  },
  {
   "cell_type": "markdown",
   "metadata": {},
   "source": [
    "## Advanced Mocks"
   ]
  },
  {
   "cell_type": "code",
   "execution_count": null,
   "metadata": {
    "collapsed": false
   },
   "outputs": [],
   "source": [
    "class DBConn(object):\n",
    "    def __init__(self):\n",
    "        pass\n",
    "    def request(self, table, key):\n",
    "        pass"
   ]
  },
  {
   "cell_type": "code",
   "execution_count": null,
   "metadata": {
    "collapsed": false
   },
   "outputs": [],
   "source": [
    "def retrieve_configuration(db_conn):\n",
    "    return {'timeout': db_conn.request('my_app_settings', 'timeout'),\n",
    "            'retries': db_conn.request('my_app_settings', 'retries')}"
   ]
  },
  {
   "cell_type": "code",
   "execution_count": null,
   "metadata": {
    "collapsed": false
   },
   "outputs": [],
   "source": [
    "from mock import patch"
   ]
  },
  {
   "cell_type": "code",
   "execution_count": null,
   "metadata": {
    "collapsed": false
   },
   "outputs": [],
   "source": [
    "@patch.object(DBConn, 'request')\n",
    "def test_retrieve_configuration(dbc):\n",
    "    result = retrieve_configuration(dbc)\n",
    "    calls = [mock.call('my_app_settings', 'timeout'),\n",
    "             mock.call('my_app_settings', 'retries')]\n",
    "    dbc.request.assert_has_calls(calls)"
   ]
  },
  {
   "cell_type": "code",
   "execution_count": null,
   "metadata": {
    "collapsed": false
   },
   "outputs": [],
   "source": [
    "test_retrieve_configuration()"
   ]
  },
  {
   "cell_type": "code",
   "execution_count": null,
   "metadata": {
    "collapsed": false
   },
   "outputs": [],
   "source": [
    "class TestConf(unittest.TestCase):\n",
    "    @patch.object(DBConn, 'request')\n",
    "    def test_retrieve_configuration(self, dbc):\n",
    "        result = retrieve_configuration(dbc)\n",
    "        calls = [mock.call('my_app_settings', 'timeout'),\n",
    "                 mock.call('my_app_settings', 'retries')]\n",
    "        dbc.request.assert_has_calls(calls)"
   ]
  },
  {
   "cell_type": "code",
   "execution_count": null,
   "metadata": {
    "collapsed": false
   },
   "outputs": [],
   "source": [
    "unittest.main(argv=['first-arg-is-ignored'], exit=False)"
   ]
  }
 ],
 "metadata": {
  "kernelspec": {
   "display_name": "Python 2",
   "language": "python",
   "name": "python2"
  },
  "language_info": {
   "codemirror_mode": {
    "name": "ipython",
    "version": 2
   },
   "file_extension": ".py",
   "mimetype": "text/x-python",
   "name": "python",
   "nbconvert_exporter": "python",
   "pygments_lexer": "ipython2",
   "version": "2.7.12"
  }
 },
 "nbformat": 4,
 "nbformat_minor": 2
}
