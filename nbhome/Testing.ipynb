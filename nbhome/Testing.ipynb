{
 "cells": [
  {
   "cell_type": "code",
   "execution_count": 18,
   "metadata": {
    "collapsed": true
   },
   "outputs": [],
   "source": [
    "from datetime import datetime\n",
    "def ymd(date_string):\n",
    "    \"\"\"Convert a date string formated\n",
    "       year - month - date\n",
    "    to a datetime object.\n",
    "    \n",
    "    Example:\n",
    "    \n",
    "    >>> ymd('2016-01-30')\n",
    "    datetime.datetime(2016, 1, 30, 0, 0)\n",
    "    \"\"\"\n",
    "    format_string = \"%Y-%m-%d\"\n",
    "    return datetime.strptime(date_string, format_string) "
   ]
  },
  {
   "cell_type": "code",
   "execution_count": 5,
   "metadata": {
    "collapsed": true
   },
   "outputs": [],
   "source": [
    "import unittest"
   ]
  },
  {
   "cell_type": "code",
   "execution_count": 23,
   "metadata": {
    "collapsed": true
   },
   "outputs": [],
   "source": [
    "class TestYmd(unittest.TestCase):\n",
    "    def test_with_known_value(self):\n",
    "        known = datetime(2016, 1, 30, 0, 0)\n",
    "        ymd_result = ymd('2016-01-30')\n",
    "        self.assertEqual(ymd_result, known)\n",
    "        self.assertTrue(known == ymd_result)\n",
    "    def test_bad_format_throws(self):\n",
    "        with self.assertRaises(ValueError):\n",
    "            ymd('')"
   ]
  },
  {
   "cell_type": "markdown",
   "metadata": {},
   "source": [
    "In the real world:\n",
    "\n",
    "    if __name__ == '__main__':\n",
    "        unittest.main()\n",
    "\n",
    "Or even better:\n",
    "\n",
    "    python -m unittest tests\n",
    "\n",
    "All test should reside in the `tests` folder."
   ]
  },
  {
   "cell_type": "code",
   "execution_count": 24,
   "metadata": {
    "collapsed": false
   },
   "outputs": [
    {
     "name": "stderr",
     "output_type": "stream",
     "text": [
      "..\n",
      "----------------------------------------------------------------------\n",
      "Ran 2 tests in 0.003s\n",
      "\n",
      "OK\n"
     ]
    },
    {
     "data": {
      "text/plain": [
       "<unittest.main.TestProgram at 0x1073c6310>"
      ]
     },
     "execution_count": 24,
     "metadata": {},
     "output_type": "execute_result"
    }
   ],
   "source": [
    "unittest.main(argv=['first-arg-is-ignored'], exit=False)"
   ]
  },
  {
   "cell_type": "code",
   "execution_count": 11,
   "metadata": {
    "collapsed": true
   },
   "outputs": [],
   "source": [
    "import doctest"
   ]
  },
  {
   "cell_type": "code",
   "execution_count": 19,
   "metadata": {
    "collapsed": false
   },
   "outputs": [
    {
     "name": "stdout",
     "output_type": "stream",
     "text": [
      "Finding tests in NoName\n",
      "Trying:\n",
      "    ymd('2016-01-30')\n",
      "Expecting:\n",
      "    datetime.datetime(2016, 1, 30, 0, 0)\n",
      "ok\n"
     ]
    }
   ],
   "source": [
    "doctest.run_docstring_examples(ymd, globals(), True)"
   ]
  },
  {
   "cell_type": "markdown",
   "metadata": {},
   "source": [
    "# Mocks"
   ]
  },
  {
   "cell_type": "code",
   "execution_count": 25,
   "metadata": {
    "collapsed": true
   },
   "outputs": [],
   "source": [
    "import mock # python 3: unittest.mock"
   ]
  },
  {
   "cell_type": "code",
   "execution_count": 26,
   "metadata": {
    "collapsed": true
   },
   "outputs": [],
   "source": [
    "class Dummy(object):\n",
    "    pass"
   ]
  },
  {
   "cell_type": "code",
   "execution_count": 27,
   "metadata": {
    "collapsed": true
   },
   "outputs": [],
   "source": [
    "dummy = Dummy()"
   ]
  },
  {
   "cell_type": "code",
   "execution_count": 34,
   "metadata": {
    "collapsed": true
   },
   "outputs": [],
   "source": [
    "dummy.mock_method = mock.MagicMock(return_value = {'foo': 12})"
   ]
  },
  {
   "cell_type": "code",
   "execution_count": 35,
   "metadata": {
    "collapsed": false
   },
   "outputs": [
    {
     "data": {
      "text/plain": [
       "{'foo': 12}"
      ]
     },
     "execution_count": 35,
     "metadata": {},
     "output_type": "execute_result"
    }
   ],
   "source": [
    "dummy.mock_method(12, 'foo', dict)"
   ]
  },
  {
   "cell_type": "code",
   "execution_count": 37,
   "metadata": {
    "collapsed": false
   },
   "outputs": [],
   "source": [
    "dummy.mock_method.assert_called_once()"
   ]
  },
  {
   "cell_type": "code",
   "execution_count": 38,
   "metadata": {
    "collapsed": true
   },
   "outputs": [],
   "source": [
    "dummy.mock_method.assert_called_once_with(12, 'foo', dict)"
   ]
  },
  {
   "cell_type": "code",
   "execution_count": 40,
   "metadata": {
    "collapsed": false
   },
   "outputs": [
    {
     "data": {
      "text/plain": [
       "{'foo': 12}"
      ]
     },
     "execution_count": 40,
     "metadata": {},
     "output_type": "execute_result"
    }
   ],
   "source": [
    "dummy.mock_method()"
   ]
  },
  {
   "cell_type": "code",
   "execution_count": 41,
   "metadata": {
    "collapsed": false
   },
   "outputs": [
    {
     "ename": "AssertionError",
     "evalue": "Expected 'mock' to have been called once. Called 2 times.",
     "output_type": "error",
     "traceback": [
      "\u001b[0;31m---------------------------------------------------------------------------\u001b[0m",
      "\u001b[0;31mAssertionError\u001b[0m                            Traceback (most recent call last)",
      "\u001b[0;32m<ipython-input-41-e8e0dde813a1>\u001b[0m in \u001b[0;36m<module>\u001b[0;34m()\u001b[0m\n\u001b[0;32m----> 1\u001b[0;31m \u001b[0mdummy\u001b[0m\u001b[0;34m.\u001b[0m\u001b[0mmock_method\u001b[0m\u001b[0;34m.\u001b[0m\u001b[0massert_called_once\u001b[0m\u001b[0;34m(\u001b[0m\u001b[0;34m)\u001b[0m\u001b[0;34m\u001b[0m\u001b[0m\n\u001b[0m",
      "\u001b[0;32m/Users/dirk/Virtualenvs/std/lib/python2.7/site-packages/mock/mock.pyc\u001b[0m in \u001b[0;36massert_called_once\u001b[0;34m(_mock_self)\u001b[0m\n\u001b[1;32m    913\u001b[0m             msg = (\"Expected '%s' to have been called once. Called %s times.\" %\n\u001b[1;32m    914\u001b[0m                    (self._mock_name or 'mock', self.call_count))\n\u001b[0;32m--> 915\u001b[0;31m             \u001b[0;32mraise\u001b[0m \u001b[0mAssertionError\u001b[0m\u001b[0;34m(\u001b[0m\u001b[0mmsg\u001b[0m\u001b[0;34m)\u001b[0m\u001b[0;34m\u001b[0m\u001b[0m\n\u001b[0m\u001b[1;32m    916\u001b[0m \u001b[0;34m\u001b[0m\u001b[0m\n\u001b[1;32m    917\u001b[0m     \u001b[0;32mdef\u001b[0m \u001b[0massert_called_with\u001b[0m\u001b[0;34m(\u001b[0m\u001b[0m_mock_self\u001b[0m\u001b[0;34m,\u001b[0m \u001b[0;34m*\u001b[0m\u001b[0margs\u001b[0m\u001b[0;34m,\u001b[0m \u001b[0;34m**\u001b[0m\u001b[0mkwargs\u001b[0m\u001b[0;34m)\u001b[0m\u001b[0;34m:\u001b[0m\u001b[0;34m\u001b[0m\u001b[0m\n",
      "\u001b[0;31mAssertionError\u001b[0m: Expected 'mock' to have been called once. Called 2 times."
     ]
    }
   ],
   "source": [
    "dummy.mock_method.assert_called_once()"
   ]
  },
  {
   "cell_type": "markdown",
   "metadata": {},
   "source": [
    "## Advanced Mocks"
   ]
  },
  {
   "cell_type": "code",
   "execution_count": 51,
   "metadata": {
    "collapsed": true
   },
   "outputs": [],
   "source": [
    "class DBConn(object):\n",
    "    def __init__(self):\n",
    "        pass\n",
    "    def request(self, table, key):\n",
    "        pass"
   ]
  },
  {
   "cell_type": "code",
   "execution_count": 70,
   "metadata": {
    "collapsed": true
   },
   "outputs": [],
   "source": [
    "def retrieve_configuration(db_conn):\n",
    "    return {'timeout': db_conn.request('my_app_settings', 'timeout'),\n",
    "            'retries': db_conn.request('my_app_settings', 'retries')}"
   ]
  },
  {
   "cell_type": "code",
   "execution_count": 43,
   "metadata": {
    "collapsed": true
   },
   "outputs": [],
   "source": [
    "from mock import patch"
   ]
  },
  {
   "cell_type": "code",
   "execution_count": 81,
   "metadata": {
    "collapsed": false
   },
   "outputs": [],
   "source": [
    "@patch.object(DBConn, 'request')\n",
    "def test_retrieve_configuration(dbc):\n",
    "    result = retrieve_configuration(dbc)\n",
    "    calls = [mock.call('my_app_settings', 'timeout'),\n",
    "             mock.call('my_app_settings', 'retries')]\n",
    "    dbc.request.assert_has_calls(calls)"
   ]
  },
  {
   "cell_type": "code",
   "execution_count": 78,
   "metadata": {
    "collapsed": false
   },
   "outputs": [],
   "source": [
    "test_retrieve_configuration()"
   ]
  },
  {
   "cell_type": "code",
   "execution_count": 82,
   "metadata": {
    "collapsed": false
   },
   "outputs": [],
   "source": [
    "class TestConf(unittest.TestCase):\n",
    "    @patch.object(DBConn, 'request')\n",
    "    def test_retrieve_configuration(self, dbc):\n",
    "        result = retrieve_configuration(dbc)\n",
    "        calls = [mock.call('my_app_settings', 'timeout'),\n",
    "                 mock.call('my_app_settings', 'retries')]\n",
    "        dbc.request.assert_has_calls(calls)"
   ]
  },
  {
   "cell_type": "code",
   "execution_count": 83,
   "metadata": {
    "collapsed": false
   },
   "outputs": [
    {
     "name": "stderr",
     "output_type": "stream",
     "text": [
      "...\n",
      "----------------------------------------------------------------------\n",
      "Ran 3 tests in 0.005s\n",
      "\n",
      "OK\n"
     ]
    },
    {
     "data": {
      "text/plain": [
       "<unittest.main.TestProgram at 0x1060c6e90>"
      ]
     },
     "execution_count": 83,
     "metadata": {},
     "output_type": "execute_result"
    }
   ],
   "source": [
    "unittest.main(argv=['first-arg-is-ignored'], exit=False)"
   ]
  }
 ],
 "metadata": {
  "kernelspec": {
   "display_name": "Python 2",
   "language": "python",
   "name": "python2"
  },
  "language_info": {
   "codemirror_mode": {
    "name": "ipython",
    "version": 2
   },
   "file_extension": ".py",
   "mimetype": "text/x-python",
   "name": "python",
   "nbconvert_exporter": "python",
   "pygments_lexer": "ipython2",
   "version": "2.7.12"
  }
 },
 "nbformat": 4,
 "nbformat_minor": 2
}
