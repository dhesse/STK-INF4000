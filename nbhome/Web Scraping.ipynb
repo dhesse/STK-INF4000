{
 "cells": [
  {
   "cell_type": "markdown",
   "metadata": {},
   "source": [
    "# Before we start\n",
    "\n",
    "- Web scraping can lead to messy data.\n",
    "- Read websites' terms and conditions.\n",
    "- Respect websites' robots.txt.\n",
    "- Be nice!\n",
    "- The firefox inspector is you friend!"
   ]
  },
  {
   "cell_type": "markdown",
   "metadata": {},
   "source": [
    "# HTML 101\n",
    "\n",
    "Wepbages are written in HTML. You can read more on the [w3 html tutorial](http://www.w3schools.com/html/).\n",
    "\n",
    "We will work with a simple [example page](example.html)."
   ]
  },
  {
   "cell_type": "code",
   "execution_count": 55,
   "metadata": {
    "collapsed": true
   },
   "outputs": [],
   "source": [
    "html = open(\"example.html\").read()"
   ]
  },
  {
   "cell_type": "code",
   "execution_count": 56,
   "metadata": {
    "collapsed": false
   },
   "outputs": [
    {
     "name": "stdout",
     "output_type": "stream",
     "text": [
      "<html>\n",
      "    <head>\n",
      "        <title>Test page</title>\n",
      "    </head>\n",
      "    <body>\n",
      "        <h1 id=\"title\">This is an example page</h1>\n",
      "        <h2 id=\"list-header\">This is a list</h2>\n",
      "        <ul>\n",
      "            <li>This is a list item!</li>\n",
      "            <li>Another item!</li>\n",
      "        </ul>\n",
      "        <h2>Links</h2>\n",
      "        This is a <a href=\"example2.html\">link</a> to a second page.\n",
      "        <h2>Image</h2>\n",
      "        This is a histogram (whose axes should be labeled!).\n",
      "        <img src=\"histogram.png\" width=\"50%\" alt=\"Histogram of something.\">\n",
      "    </body>\n",
      "</html>\n"
     ]
    }
   ],
   "source": [
    "print html"
   ]
  },
  {
   "cell_type": "code",
   "execution_count": 1,
   "metadata": {
    "collapsed": true
   },
   "outputs": [],
   "source": [
    "from bs4 import BeautifulSoup"
   ]
  },
  {
   "cell_type": "code",
   "execution_count": 58,
   "metadata": {
    "collapsed": false
   },
   "outputs": [],
   "source": [
    "soup = BeautifulSoup(html, \"lxml\")"
   ]
  },
  {
   "cell_type": "code",
   "execution_count": 36,
   "metadata": {
    "collapsed": false
   },
   "outputs": [
    {
     "data": {
      "text/plain": [
       "<body>\\n<h1 id=\"title\">This is an example page</h1>\\n<h2 id=\"list-header\">This is a list</h2>\\n<ul>\\n<li>This is a list item!</li>\\n<li>Another item!</li>\\n</ul>\\n<h2>Links</h2>\\n        This is a <a href=\"example2.html\">link</a> to a second page.\\n        <h2>Image</h2>\\n        This is a histogram (whose axes should be labeled!).\\n        <img src=\"histogram.png\" width=\"50%\"/>\\n</body>"
      ]
     },
     "execution_count": 36,
     "metadata": {},
     "output_type": "execute_result"
    }
   ],
   "source": [
    "soup.body"
   ]
  },
  {
   "cell_type": "code",
   "execution_count": 37,
   "metadata": {
    "collapsed": false
   },
   "outputs": [
    {
     "data": {
      "text/plain": [
       "[<li>This is a list item!</li>, <li>Another item!</li>]"
      ]
     },
     "execution_count": 37,
     "metadata": {},
     "output_type": "execute_result"
    }
   ],
   "source": [
    "soup.body.ul(\"li\")"
   ]
  },
  {
   "cell_type": "code",
   "execution_count": 38,
   "metadata": {
    "collapsed": false
   },
   "outputs": [
    {
     "data": {
      "text/plain": [
       "[<li>This is a list item!</li>, <li>Another item!</li>]"
      ]
     },
     "execution_count": 38,
     "metadata": {},
     "output_type": "execute_result"
    }
   ],
   "source": [
    "soup(\"li\")"
   ]
  },
  {
   "cell_type": "code",
   "execution_count": 39,
   "metadata": {
    "collapsed": false
   },
   "outputs": [
    {
     "data": {
      "text/plain": [
       "[<img src=\"histogram.png\" width=\"50%\"/>]"
      ]
     },
     "execution_count": 39,
     "metadata": {},
     "output_type": "execute_result"
    }
   ],
   "source": [
    "soup('img')"
   ]
  },
  {
   "cell_type": "code",
   "execution_count": 40,
   "metadata": {
    "collapsed": false
   },
   "outputs": [
    {
     "data": {
      "text/plain": [
       "<img src=\"histogram.png\" width=\"50%\"/>"
      ]
     },
     "execution_count": 40,
     "metadata": {},
     "output_type": "execute_result"
    }
   ],
   "source": [
    "soup.img"
   ]
  },
  {
   "cell_type": "code",
   "execution_count": 41,
   "metadata": {
    "collapsed": false
   },
   "outputs": [
    {
     "name": "stdout",
     "output_type": "stream",
     "text": [
      "{'src': 'histogram.png', 'width': '50%'}\n"
     ]
    }
   ],
   "source": [
    "for img in soup(\"img\"):\n",
    "    print img.attrs"
   ]
  },
  {
   "cell_type": "code",
   "execution_count": 42,
   "metadata": {
    "collapsed": false
   },
   "outputs": [
    {
     "data": {
      "text/plain": [
       "'histogram.png'"
      ]
     },
     "execution_count": 42,
     "metadata": {},
     "output_type": "execute_result"
    }
   ],
   "source": [
    "soup.img['src']"
   ]
  },
  {
   "cell_type": "code",
   "execution_count": 43,
   "metadata": {
    "collapsed": false
   },
   "outputs": [
    {
     "data": {
      "text/plain": [
       "<ul>\\n<li>This is a list item!</li>\\n<li>Another item!</li>\\n</ul>"
      ]
     },
     "execution_count": 43,
     "metadata": {},
     "output_type": "execute_result"
    }
   ],
   "source": [
    "soup.li.parent"
   ]
  },
  {
   "cell_type": "code",
   "execution_count": 44,
   "metadata": {
    "collapsed": false
   },
   "outputs": [
    {
     "data": {
      "text/plain": [
       "'ul'"
      ]
     },
     "execution_count": 44,
     "metadata": {},
     "output_type": "execute_result"
    }
   ],
   "source": [
    "soup.li.parent.name"
   ]
  },
  {
   "cell_type": "code",
   "execution_count": 45,
   "metadata": {
    "collapsed": false
   },
   "outputs": [
    {
     "data": {
      "text/plain": [
       "u'\\nThis is a list item!\\nAnother item!\\n'"
      ]
     },
     "execution_count": 45,
     "metadata": {},
     "output_type": "execute_result"
    }
   ],
   "source": [
    "soup.li.parent.text"
   ]
  },
  {
   "cell_type": "code",
   "execution_count": 51,
   "metadata": {
    "collapsed": false
   },
   "outputs": [
    {
     "data": {
      "text/plain": [
       "[u'\\n', <li>This is a list item!</li>, u'\\n', <li>Another item!</li>, u'\\n']"
      ]
     },
     "execution_count": 51,
     "metadata": {},
     "output_type": "execute_result"
    }
   ],
   "source": [
    "soup.ul.contents"
   ]
  },
  {
   "cell_type": "code",
   "execution_count": 52,
   "metadata": {
    "collapsed": false
   },
   "outputs": [
    {
     "data": {
      "text/plain": [
       "<listiterator at 0x10d93bfd0>"
      ]
     },
     "execution_count": 52,
     "metadata": {},
     "output_type": "execute_result"
    }
   ],
   "source": [
    "soup.ul.children"
   ]
  },
  {
   "cell_type": "code",
   "execution_count": 53,
   "metadata": {
    "collapsed": false
   },
   "outputs": [
    {
     "data": {
      "text/plain": [
       "[u'\\n', <li>This is a list item!</li>, u'\\n', <li>Another item!</li>, u'\\n']"
      ]
     },
     "execution_count": 53,
     "metadata": {},
     "output_type": "execute_result"
    }
   ],
   "source": [
    "list(soup.ul.children)"
   ]
  },
  {
   "cell_type": "code",
   "execution_count": 59,
   "metadata": {
    "collapsed": false
   },
   "outputs": [
    {
     "data": {
      "text/plain": [
       "[<img alt=\"Histogram of something.\" src=\"histogram.png\" width=\"50%\"/>]"
      ]
     },
     "execution_count": 59,
     "metadata": {},
     "output_type": "execute_result"
    }
   ],
   "source": [
    "soup(lambda tag: tag.has_attr('alt'))"
   ]
  },
  {
   "cell_type": "markdown",
   "metadata": {},
   "source": [
    "# Scrapy"
   ]
  },
  {
   "cell_type": "code",
   "execution_count": 2,
   "metadata": {
    "collapsed": false
   },
   "outputs": [],
   "source": [
    "import scrapy"
   ]
  },
  {
   "cell_type": "code",
   "execution_count": 3,
   "metadata": {
    "collapsed": false
   },
   "outputs": [],
   "source": [
    "from urlparse import urljoin\n",
    "class TestSpider(scrapy.Spider):\n",
    "    name = 'test_spider'\n",
    "    start_urls = ['http://localhost:8888/files/example.html']\n",
    "    # can be done from command line\n",
    "    custom_settings = {'FEED_FORMAT': 'json',\n",
    "                       'FEED_URI': 'result.json'}\n",
    "    \n",
    "    def parse(self, response):\n",
    "        soup = BeautifulSoup(response.text, 'lxml')\n",
    "        for list_item in soup('li'):\n",
    "            yield {'list_item': list_item.text,\n",
    "                   'url': response.url}\n",
    "        for link in soup('a'):\n",
    "            target = urljoin(response.url, link['href'])\n",
    "            yield scrapy.Request(target, callback=self.parse)"
   ]
  },
  {
   "cell_type": "markdown",
   "metadata": {},
   "source": [
    "# Running\n",
    "\n",
    "The spider could now be run using\n",
    "\n",
    "    scrapy runspider test_spider\n",
    "   \n",
    "or\n",
    "\n",
    "    scrapy runspider --output=results.csv test_spider\n",
    "\n",
    "Also try\n",
    "\n",
    "    scrapy shell"
   ]
  },
  {
   "cell_type": "code",
   "execution_count": 4,
   "metadata": {
    "collapsed": true
   },
   "outputs": [],
   "source": [
    "from scrapy.crawler import CrawlerProcess"
   ]
  },
  {
   "cell_type": "code",
   "execution_count": 5,
   "metadata": {
    "collapsed": true
   },
   "outputs": [
    {
     "name": "stderr",
     "output_type": "stream",
     "text": [
      "2017-01-20 14:24:01 [scrapy] INFO: Scrapy 1.2.0 started (bot: scrapybot)\n",
      "2017-01-20 14:24:01 [scrapy] INFO: Overridden settings: {}\n"
     ]
    }
   ],
   "source": [
    "process = CrawlerProcess()"
   ]
  },
  {
   "cell_type": "code",
   "execution_count": 6,
   "metadata": {
    "collapsed": true
   },
   "outputs": [
    {
     "name": "stderr",
     "output_type": "stream",
     "text": [
      "2017-01-20 14:24:02 [scrapy] INFO: Enabled extensions:\n",
      "['scrapy.extensions.feedexport.FeedExporter',\n",
      " 'scrapy.extensions.logstats.LogStats',\n",
      " 'scrapy.extensions.telnet.TelnetConsole',\n",
      " 'scrapy.extensions.corestats.CoreStats']\n",
      "2017-01-20 14:24:02 [scrapy] INFO: Enabled downloader middlewares:\n",
      "['scrapy.downloadermiddlewares.httpauth.HttpAuthMiddleware',\n",
      " 'scrapy.downloadermiddlewares.downloadtimeout.DownloadTimeoutMiddleware',\n",
      " 'scrapy.downloadermiddlewares.defaultheaders.DefaultHeadersMiddleware',\n",
      " 'scrapy.downloadermiddlewares.useragent.UserAgentMiddleware',\n",
      " 'scrapy.downloadermiddlewares.retry.RetryMiddleware',\n",
      " 'scrapy.downloadermiddlewares.redirect.MetaRefreshMiddleware',\n",
      " 'scrapy.downloadermiddlewares.httpcompression.HttpCompressionMiddleware',\n",
      " 'scrapy.downloadermiddlewares.redirect.RedirectMiddleware',\n",
      " 'scrapy.downloadermiddlewares.cookies.CookiesMiddleware',\n",
      " 'scrapy.downloadermiddlewares.chunked.ChunkedTransferMiddleware',\n",
      " 'scrapy.downloadermiddlewares.stats.DownloaderStats']\n",
      "2017-01-20 14:24:02 [scrapy] INFO: Enabled spider middlewares:\n",
      "['scrapy.spidermiddlewares.httperror.HttpErrorMiddleware',\n",
      " 'scrapy.spidermiddlewares.offsite.OffsiteMiddleware',\n",
      " 'scrapy.spidermiddlewares.referer.RefererMiddleware',\n",
      " 'scrapy.spidermiddlewares.urllength.UrlLengthMiddleware',\n",
      " 'scrapy.spidermiddlewares.depth.DepthMiddleware']\n",
      "2017-01-20 14:24:02 [scrapy] INFO: Enabled item pipelines:\n",
      "[]\n",
      "2017-01-20 14:24:02 [scrapy] INFO: Spider opened\n",
      "2017-01-20 14:24:02 [scrapy] INFO: Crawled 0 pages (at 0 pages/min), scraped 0 items (at 0 items/min)\n",
      "2017-01-20 14:24:02 [scrapy] DEBUG: Telnet console listening on 127.0.0.1:6023\n"
     ]
    },
    {
     "data": {
      "text/plain": [
       "<Deferred at 0x10524aa28>"
      ]
     },
     "execution_count": 6,
     "metadata": {},
     "output_type": "execute_result"
    }
   ],
   "source": [
    "process.crawl(TestSpider)"
   ]
  },
  {
   "cell_type": "code",
   "execution_count": 7,
   "metadata": {
    "collapsed": true
   },
   "outputs": [
    {
     "name": "stderr",
     "output_type": "stream",
     "text": [
      "2017-01-20 14:24:03 [scrapy] DEBUG: Crawled (200) <GET http://localhost:8888/files/example.html> (referer: None)\n",
      "2017-01-20 14:24:03 [scrapy] DEBUG: Scraped from <200 http://localhost:8888/files/example.html>\n",
      "{'url': 'http://localhost:8888/files/example.html', 'list_item': u'This is a list item!'}\n",
      "2017-01-20 14:24:03 [scrapy] DEBUG: Scraped from <200 http://localhost:8888/files/example.html>\n",
      "{'url': 'http://localhost:8888/files/example.html', 'list_item': u'Another item!'}\n",
      "2017-01-20 14:24:03 [scrapy] DEBUG: Crawled (200) <GET http://localhost:8888/files/example2.html> (referer: http://localhost:8888/files/example.html)\n",
      "2017-01-20 14:24:03 [scrapy] DEBUG: Scraped from <200 http://localhost:8888/files/example2.html>\n",
      "{'url': 'http://localhost:8888/files/example2.html', 'list_item': u'This is a list item from page 2!'}\n",
      "2017-01-20 14:24:03 [scrapy] DEBUG: Scraped from <200 http://localhost:8888/files/example2.html>\n",
      "{'url': 'http://localhost:8888/files/example2.html', 'list_item': u'Another item from page 2!'}\n",
      "2017-01-20 14:24:03 [scrapy] INFO: Closing spider (finished)\n",
      "2017-01-20 14:24:03 [scrapy] INFO: Stored json feed (4 items) in: result.json\n",
      "2017-01-20 14:24:03 [scrapy] INFO: Dumping Scrapy stats:\n",
      "{'downloader/request_bytes': 502,\n",
      " 'downloader/request_count': 2,\n",
      " 'downloader/request_method_count/GET': 2,\n",
      " 'downloader/response_bytes': 1398,\n",
      " 'downloader/response_count': 2,\n",
      " 'downloader/response_status_count/200': 2,\n",
      " 'finish_reason': 'finished',\n",
      " 'finish_time': datetime.datetime(2017, 1, 20, 13, 24, 3, 562855),\n",
      " 'item_scraped_count': 4,\n",
      " 'log_count/DEBUG': 7,\n",
      " 'log_count/INFO': 8,\n",
      " 'request_depth_max': 1,\n",
      " 'response_received_count': 2,\n",
      " 'scheduler/dequeued': 2,\n",
      " 'scheduler/dequeued/memory': 2,\n",
      " 'scheduler/enqueued': 2,\n",
      " 'scheduler/enqueued/memory': 2,\n",
      " 'start_time': datetime.datetime(2017, 1, 20, 13, 24, 2, 356363)}\n",
      "2017-01-20 14:24:03 [scrapy] INFO: Spider closed (finished)\n"
     ]
    }
   ],
   "source": [
    "process.start()"
   ]
  },
  {
   "cell_type": "code",
   "execution_count": null,
   "metadata": {
    "collapsed": true
   },
   "outputs": [],
   "source": []
  }
 ],
 "metadata": {
  "kernelspec": {
   "display_name": "Python 2",
   "language": "python",
   "name": "python2"
  },
  "language_info": {
   "codemirror_mode": {
    "name": "ipython",
    "version": 2
   },
   "file_extension": ".py",
   "mimetype": "text/x-python",
   "name": "python",
   "nbconvert_exporter": "python",
   "pygments_lexer": "ipython2",
   "version": "2.7.10"
  }
 },
 "nbformat": 4,
 "nbformat_minor": 2
}
