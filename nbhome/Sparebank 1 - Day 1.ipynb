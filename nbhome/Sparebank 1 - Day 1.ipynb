{
 "cells": [
  {
   "cell_type": "markdown",
   "metadata": {},
   "source": [
    "# Twitter"
   ]
  },
  {
   "cell_type": "code",
   "execution_count": 48,
   "metadata": {
    "collapsed": false
   },
   "outputs": [],
   "source": [
    "import requests\n",
    "from requests_oauthlib import OAuth1"
   ]
  },
  {
   "cell_type": "code",
   "execution_count": 49,
   "metadata": {
    "collapsed": true
   },
   "outputs": [],
   "source": [
    "from donthackme import CONSUMER_KEY, CONSUMER_SECRET, TOKEN, TOKEN_SECRET"
   ]
  },
  {
   "cell_type": "code",
   "execution_count": 54,
   "metadata": {
    "collapsed": true
   },
   "outputs": [],
   "source": [
    "# api url\n",
    "url = 'https://api.twitter.com/1.1/account/verify_credentials.json'"
   ]
  },
  {
   "cell_type": "code",
   "execution_count": 55,
   "metadata": {
    "collapsed": true
   },
   "outputs": [],
   "source": [
    "auth = OAuth1(CONSUMER_KEY, CONSUMER_SECRET, TOKEN, TOKEN_SECRET)"
   ]
  },
  {
   "cell_type": "code",
   "execution_count": 56,
   "metadata": {
    "collapsed": true
   },
   "outputs": [],
   "source": [
    "verify_response = requests.get(url, auth=auth)"
   ]
  },
  {
   "cell_type": "code",
   "execution_count": 57,
   "metadata": {
    "collapsed": false
   },
   "outputs": [
    {
     "data": {
      "text/plain": [
       "<Response [200]>"
      ]
     },
     "execution_count": 57,
     "metadata": {},
     "output_type": "execute_result"
    }
   ],
   "source": [
    "verify_response"
   ]
  },
  {
   "cell_type": "code",
   "execution_count": 58,
   "metadata": {
    "collapsed": false
   },
   "outputs": [
    {
     "data": {
      "text/plain": [
       "{'content-length': '1091', 'x-rate-limit-reset': '1485773301', 'x-rate-limit-remaining': '74', 'x-xss-protection': '1; mode=block', 'x-content-type-options': 'nosniff', 'x-connection-hash': '998c867bafed9d100ec8aaa1f50e026e', 'x-twitter-response-tags': 'BouncerExempt, BouncerCompliant', 'cache-control': 'no-cache, no-store, must-revalidate, pre-check=0, post-check=0', 'status': '200 OK', 'content-disposition': 'attachment; filename=json.json', 'set-cookie': 'lang=en; Path=/, guest_id=v1%3A148577240112998617; Domain=.twitter.com; Path=/; Expires=Wed, 30-Jan-2019 10:33:21 UTC', 'expires': 'Tue, 31 Mar 1981 05:00:00 GMT', 'x-access-level': 'read-write', 'last-modified': 'Mon, 30 Jan 2017 10:33:21 GMT', 'pragma': 'no-cache', 'date': 'Mon, 30 Jan 2017 10:33:21 GMT', 'x-rate-limit-limit': '75', 'x-response-time': '137', 'x-transaction': '000081590003dddc', 'content-encoding': 'gzip', 'strict-transport-security': 'max-age=631138519', 'server': 'tsa_f', 'x-frame-options': 'SAMEORIGIN', 'content-type': 'application/json;charset=utf-8'}"
      ]
     },
     "execution_count": 58,
     "metadata": {},
     "output_type": "execute_result"
    }
   ],
   "source": [
    "verify_response.headers"
   ]
  },
  {
   "cell_type": "code",
   "execution_count": 60,
   "metadata": {
    "collapsed": false
   },
   "outputs": [
    {
     "data": {
      "text/plain": [
       "[u'follow_request_sent',\n",
       " u'has_extended_profile',\n",
       " u'profile_use_background_image',\n",
       " u'default_profile_image',\n",
       " u'id',\n",
       " u'profile_background_image_url_https',\n",
       " u'verified',\n",
       " u'translator_type',\n",
       " u'profile_text_color',\n",
       " u'profile_image_url_https',\n",
       " u'profile_sidebar_fill_color',\n",
       " u'entities',\n",
       " u'followers_count',\n",
       " u'profile_sidebar_border_color',\n",
       " u'id_str',\n",
       " u'profile_background_color',\n",
       " u'listed_count',\n",
       " u'status',\n",
       " u'is_translation_enabled',\n",
       " u'utc_offset',\n",
       " u'statuses_count',\n",
       " u'description',\n",
       " u'friends_count',\n",
       " u'location',\n",
       " u'profile_link_color',\n",
       " u'profile_image_url',\n",
       " u'following',\n",
       " u'geo_enabled',\n",
       " u'profile_banner_url',\n",
       " u'profile_background_image_url',\n",
       " u'screen_name',\n",
       " u'lang',\n",
       " u'profile_background_tile',\n",
       " u'favourites_count',\n",
       " u'name',\n",
       " u'notifications',\n",
       " u'url',\n",
       " u'created_at',\n",
       " u'contributors_enabled',\n",
       " u'time_zone',\n",
       " u'protected',\n",
       " u'default_profile',\n",
       " u'is_translator']"
      ]
     },
     "execution_count": 60,
     "metadata": {},
     "output_type": "execute_result"
    }
   ],
   "source": [
    "verify_response.json().keys()"
   ]
  },
  {
   "cell_type": "code",
   "execution_count": 61,
   "metadata": {
    "collapsed": false
   },
   "outputs": [
    {
     "data": {
      "text/plain": [
       "u'Dirk Hesse'"
      ]
     },
     "execution_count": 61,
     "metadata": {},
     "output_type": "execute_result"
    }
   ],
   "source": [
    "verify_response.json()['name']"
   ]
  },
  {
   "cell_type": "code",
   "execution_count": 62,
   "metadata": {
    "collapsed": false
   },
   "outputs": [
    {
     "data": {
      "text/plain": [
       "u'NotDirkHesse'"
      ]
     },
     "execution_count": 62,
     "metadata": {},
     "output_type": "execute_result"
    }
   ],
   "source": [
    "verify_response.json()['screen_name']"
   ]
  },
  {
   "cell_type": "markdown",
   "metadata": {},
   "source": [
    "# Search"
   ]
  },
  {
   "cell_type": "code",
   "execution_count": 65,
   "metadata": {
    "collapsed": true
   },
   "outputs": [],
   "source": [
    "search_url = 'https://api.twitter.com/1.1/search/tweets.json'"
   ]
  },
  {
   "cell_type": "code",
   "execution_count": 66,
   "metadata": {
    "collapsed": true
   },
   "outputs": [],
   "source": [
    "params = {'q': 'data science',\n",
    "          'result_type': 'recent'} # popular also possible"
   ]
  },
  {
   "cell_type": "code",
   "execution_count": 72,
   "metadata": {
    "collapsed": true
   },
   "outputs": [],
   "source": [
    "search_response = requests.get(search_url, params=params, auth=auth)"
   ]
  },
  {
   "cell_type": "code",
   "execution_count": 73,
   "metadata": {
    "collapsed": false
   },
   "outputs": [
    {
     "data": {
      "text/plain": [
       "<Response [200]>"
      ]
     },
     "execution_count": 73,
     "metadata": {},
     "output_type": "execute_result"
    }
   ],
   "source": [
    "search_response"
   ]
  },
  {
   "cell_type": "code",
   "execution_count": 74,
   "metadata": {
    "collapsed": false
   },
   "outputs": [
    {
     "data": {
      "text/plain": [
       "{u'search_metadata': {u'completed_in': 0.055,\n",
       "  u'count': 15,\n",
       "  u'max_id': 826017430614974464,\n",
       "  u'max_id_str': u'826017430614974464',\n",
       "  u'next_results': u'?max_id=826015038393708543&q=data%20science&include_entities=1&result_type=recent',\n",
       "  u'query': u'data+science',\n",
       "  u'refresh_url': u'?since_id=826017430614974464&q=data%20science&result_type=recent&include_entities=1',\n",
       "  u'since_id': 0,\n",
       "  u'since_id_str': u'0'},\n",
       " u'statuses': [{u'contributors': None,\n",
       "   u'coordinates': None,\n",
       "   u'created_at': u'Mon Jan 30 10:41:16 +0000 2017',\n",
       "   u'entities': {u'hashtags': [{u'indices': [0, 8], u'text': u'bigdata'},\n",
       "     {u'indices': [9, 26], u'text': u'BigDataAnalytics'}],\n",
       "    u'symbols': [],\n",
       "    u'urls': [{u'display_url': u'twitter.com/i/web/status/8\\u2026',\n",
       "      u'expanded_url': u'https://twitter.com/i/web/status/826017430614974464',\n",
       "      u'indices': [116, 139],\n",
       "      u'url': u'https://t.co/F5X3C6fejg'}],\n",
       "    u'user_mentions': []},\n",
       "   u'favorite_count': 0,\n",
       "   u'favorited': False,\n",
       "   u'geo': None,\n",
       "   u'id': 826017430614974464,\n",
       "   u'id_str': u'826017430614974464',\n",
       "   u'in_reply_to_screen_name': None,\n",
       "   u'in_reply_to_status_id': None,\n",
       "   u'in_reply_to_status_id_str': None,\n",
       "   u'in_reply_to_user_id': None,\n",
       "   u'in_reply_to_user_id_str': None,\n",
       "   u'is_quote_status': True,\n",
       "   u'lang': u'en',\n",
       "   u'metadata': {u'iso_language_code': u'en', u'result_type': u'recent'},\n",
       "   u'place': None,\n",
       "   u'possibly_sensitive': False,\n",
       "   u'quoted_status': {u'contributors': None,\n",
       "    u'coordinates': None,\n",
       "    u'created_at': u'Mon Jan 30 10:36:47 +0000 2017',\n",
       "    u'entities': {u'hashtags': [],\n",
       "     u'symbols': [],\n",
       "     u'urls': [{u'display_url': u'tinyurl.com/jbq2syx',\n",
       "       u'expanded_url': u'http://tinyurl.com/jbq2syx',\n",
       "       u'indices': [116, 139],\n",
       "       u'url': u'https://t.co/D8qYA3dLmu'}],\n",
       "     u'user_mentions': [{u'id': 2768830619,\n",
       "       u'id_str': u'2768830619',\n",
       "       u'indices': [0, 8],\n",
       "       u'name': u'J.J. Patrick',\n",
       "       u'screen_name': u'J_amesp'},\n",
       "      {u'id': 12610772,\n",
       "       u'id_str': u'12610772',\n",
       "       u'indices': [9, 24],\n",
       "       u'name': u'Remittance Girl',\n",
       "       u'screen_name': u'RemittanceGirl'}]},\n",
       "    u'favorite_count': 0,\n",
       "    u'favorited': False,\n",
       "    u'geo': None,\n",
       "    u'id': 826016302091350017,\n",
       "    u'id_str': u'826016302091350017',\n",
       "    u'in_reply_to_screen_name': u'J_amesp',\n",
       "    u'in_reply_to_status_id': None,\n",
       "    u'in_reply_to_status_id_str': None,\n",
       "    u'in_reply_to_user_id': 2768830619,\n",
       "    u'in_reply_to_user_id_str': u'2768830619',\n",
       "    u'is_quote_status': False,\n",
       "    u'lang': u'en',\n",
       "    u'metadata': {u'iso_language_code': u'en', u'result_type': u'recent'},\n",
       "    u'place': None,\n",
       "    u'possibly_sensitive': False,\n",
       "    u'retweet_count': 2,\n",
       "    u'retweeted': False,\n",
       "    u'source': u'<a href=\"http://twitter.com\" rel=\"nofollow\">Twitter Web Client</a>',\n",
       "    u'text': u'@J_amesp @RemittanceGirl  In 11 minutes, this video calmly and proudlly explains  how to manipulate American voters https://t.co/D8qYA3dLmu',\n",
       "    u'truncated': False,\n",
       "    u'user': {u'contributors_enabled': False,\n",
       "     u'created_at': u'Wed Apr 13 08:39:56 +0000 2011',\n",
       "     u'default_profile': True,\n",
       "     u'default_profile_image': False,\n",
       "     u'description': u'Addicted to reading  and writing fiction.  Angered by post-fact, hate-based politics. Professional interest in A.I.',\n",
       "     u'entities': {u'description': {u'urls': []},\n",
       "      u'url': {u'urls': [{u'display_url': u'mikefinnsfiction.wordpress.com',\n",
       "         u'expanded_url': u'http://mikefinnsfiction.wordpress.com/',\n",
       "         u'indices': [0, 22],\n",
       "         u'url': u'http://t.co/Gtdjhw1JZI'}]}},\n",
       "     u'favourites_count': 199,\n",
       "     u'follow_request_sent': False,\n",
       "     u'followers_count': 39,\n",
       "     u'following': False,\n",
       "     u'friends_count': 57,\n",
       "     u'geo_enabled': False,\n",
       "     u'has_extended_profile': False,\n",
       "     u'id': 281434170,\n",
       "     u'id_str': u'281434170',\n",
       "     u'is_translation_enabled': False,\n",
       "     u'is_translator': False,\n",
       "     u'lang': u'en',\n",
       "     u'listed_count': 6,\n",
       "     u'location': u'Switzerland',\n",
       "     u'name': u'Mike Finn',\n",
       "     u'notifications': False,\n",
       "     u'profile_background_color': u'C0DEED',\n",
       "     u'profile_background_image_url': u'http://abs.twimg.com/images/themes/theme1/bg.png',\n",
       "     u'profile_background_image_url_https': u'https://abs.twimg.com/images/themes/theme1/bg.png',\n",
       "     u'profile_background_tile': False,\n",
       "     u'profile_banner_url': u'https://pbs.twimg.com/profile_banners/281434170/1485723750',\n",
       "     u'profile_image_url': u'http://pbs.twimg.com/profile_images/824051625987866624/EoZ-4jTt_normal.jpg',\n",
       "     u'profile_image_url_https': u'https://pbs.twimg.com/profile_images/824051625987866624/EoZ-4jTt_normal.jpg',\n",
       "     u'profile_link_color': u'1DA1F2',\n",
       "     u'profile_sidebar_border_color': u'C0DEED',\n",
       "     u'profile_sidebar_fill_color': u'DDEEF6',\n",
       "     u'profile_text_color': u'333333',\n",
       "     u'profile_use_background_image': True,\n",
       "     u'protected': False,\n",
       "     u'screen_name': u'Finnsfiction',\n",
       "     u'statuses_count': 683,\n",
       "     u'time_zone': u'Pacific Time (US & Canada)',\n",
       "     u'translator_type': u'none',\n",
       "     u'url': u'http://t.co/Gtdjhw1JZI',\n",
       "     u'utc_offset': -28800,\n",
       "     u'verified': False}},\n",
       "   u'quoted_status_id': 826016302091350017,\n",
       "   u'quoted_status_id_str': u'826016302091350017',\n",
       "   u'retweet_count': 0,\n",
       "   u'retweeted': False,\n",
       "   u'source': u'<a href=\"http://twitter.com\" rel=\"nofollow\">Twitter Web Client</a>',\n",
       "   u'text': u'#bigdata\\n#BigDataAnalytics \\nWatch the video to see how  data science is  to influence voter behaviour. Is this how\\u2026 https://t.co/F5X3C6fejg',\n",
       "   u'truncated': True,\n",
       "   u'user': {u'contributors_enabled': False,\n",
       "    u'created_at': u'Wed Apr 13 08:39:56 +0000 2011',\n",
       "    u'default_profile': True,\n",
       "    u'default_profile_image': False,\n",
       "    u'description': u'Addicted to reading  and writing fiction.  Angered by post-fact, hate-based politics. Professional interest in A.I.',\n",
       "    u'entities': {u'description': {u'urls': []},\n",
       "     u'url': {u'urls': [{u'display_url': u'mikefinnsfiction.wordpress.com',\n",
       "        u'expanded_url': u'http://mikefinnsfiction.wordpress.com/',\n",
       "        u'indices': [0, 22],\n",
       "        u'url': u'http://t.co/Gtdjhw1JZI'}]}},\n",
       "    u'favourites_count': 199,\n",
       "    u'follow_request_sent': False,\n",
       "    u'followers_count': 39,\n",
       "    u'following': False,\n",
       "    u'friends_count': 57,\n",
       "    u'geo_enabled': False,\n",
       "    u'has_extended_profile': False,\n",
       "    u'id': 281434170,\n",
       "    u'id_str': u'281434170',\n",
       "    u'is_translation_enabled': False,\n",
       "    u'is_translator': False,\n",
       "    u'lang': u'en',\n",
       "    u'listed_count': 6,\n",
       "    u'location': u'Switzerland',\n",
       "    u'name': u'Mike Finn',\n",
       "    u'notifications': False,\n",
       "    u'profile_background_color': u'C0DEED',\n",
       "    u'profile_background_image_url': u'http://abs.twimg.com/images/themes/theme1/bg.png',\n",
       "    u'profile_background_image_url_https': u'https://abs.twimg.com/images/themes/theme1/bg.png',\n",
       "    u'profile_background_tile': False,\n",
       "    u'profile_banner_url': u'https://pbs.twimg.com/profile_banners/281434170/1485723750',\n",
       "    u'profile_image_url': u'http://pbs.twimg.com/profile_images/824051625987866624/EoZ-4jTt_normal.jpg',\n",
       "    u'profile_image_url_https': u'https://pbs.twimg.com/profile_images/824051625987866624/EoZ-4jTt_normal.jpg',\n",
       "    u'profile_link_color': u'1DA1F2',\n",
       "    u'profile_sidebar_border_color': u'C0DEED',\n",
       "    u'profile_sidebar_fill_color': u'DDEEF6',\n",
       "    u'profile_text_color': u'333333',\n",
       "    u'profile_use_background_image': True,\n",
       "    u'protected': False,\n",
       "    u'screen_name': u'Finnsfiction',\n",
       "    u'statuses_count': 683,\n",
       "    u'time_zone': u'Pacific Time (US & Canada)',\n",
       "    u'translator_type': u'none',\n",
       "    u'url': u'http://t.co/Gtdjhw1JZI',\n",
       "    u'utc_offset': -28800,\n",
       "    u'verified': False}},\n",
       "  {u'contributors': None,\n",
       "   u'coordinates': {u'coordinates': [115.859, -31.9522], u'type': u'Point'},\n",
       "   u'created_at': u'Mon Jan 30 10:41:13 +0000 2017',\n",
       "   u'entities': {u'hashtags': [{u'indices': [27, 33], u'text': u'wheat'},\n",
       "     {u'indices': [34, 40], u'text': u'frost'},\n",
       "     {u'indices': [41, 49], u'text': u'phdchat'},\n",
       "     {u'indices': [50, 58], u'text': u'phdlife'},\n",
       "     {u'indices': [59, 64], u'text': u'data'},\n",
       "     {u'indices': [65, 74], u'text': u'analysis'},\n",
       "     {u'indices': [75, 96], u'text': u'resultsafteranalysis'}],\n",
       "    u'symbols': [],\n",
       "    u'urls': [{u'display_url': u'instagram.com/p/BP4rGEyDi4N/',\n",
       "      u'expanded_url': u'https://www.instagram.com/p/BP4rGEyDi4N/',\n",
       "      u'indices': [98, 121],\n",
       "      u'url': u'https://t.co/ZPvyqkVLEm'}],\n",
       "    u'user_mentions': []},\n",
       "   u'favorite_count': 0,\n",
       "   u'favorited': False,\n",
       "   u'geo': {u'coordinates': [-31.9522, 115.859], u'type': u'Point'},\n",
       "   u'id': 826017416509526016,\n",
       "   u'id_str': u'826017416509526016',\n",
       "   u'in_reply_to_screen_name': None,\n",
       "   u'in_reply_to_status_id': None,\n",
       "   u'in_reply_to_status_id_str': None,\n",
       "   u'in_reply_to_user_id': None,\n",
       "   u'in_reply_to_user_id_str': None,\n",
       "   u'is_quote_status': False,\n",
       "   u'lang': u'en',\n",
       "   u'metadata': {u'iso_language_code': u'en', u'result_type': u'recent'},\n",
       "   u'place': {u'attributes': {},\n",
       "    u'bounding_box': {u'coordinates': [[[115.617614368, -32.675715325],\n",
       "       [116.239023008, -32.675715325],\n",
       "       [116.239023008, -31.6244855145],\n",
       "       [115.617614368, -31.6244855145]]],\n",
       "     u'type': u'Polygon'},\n",
       "    u'contained_within': [],\n",
       "    u'country': u'Australia',\n",
       "    u'country_code': u'AU',\n",
       "    u'full_name': u'Perth, Western Australia',\n",
       "    u'id': u'0118c71c0ed41109',\n",
       "    u'name': u'Perth (WA)',\n",
       "    u'place_type': u'city',\n",
       "    u'url': u'https://api.twitter.com/1.1/geo/id/0118c71c0ed41109.json'},\n",
       "   u'possibly_sensitive': False,\n",
       "   u'retweet_count': 0,\n",
       "   u'retweeted': False,\n",
       "   u'source': u'<a href=\"http://instagram.com\" rel=\"nofollow\">Instagram</a>',\n",
       "   u'text': u'Lots of science-ing today.\\n#wheat #frost #phdchat #phdlife #data #analysis #resultsafteranalysis\\u2026 https://t.co/ZPvyqkVLEm',\n",
       "   u'truncated': False,\n",
       "   u'user': {u'contributors_enabled': False,\n",
       "    u'created_at': u'Sun Aug 09 17:17:38 +0000 2009',\n",
       "    u'default_profile': False,\n",
       "    u'default_profile_image': False,\n",
       "    u'description': u'Directing, acting, crossfit, cycling, GIS, Remote Sensing, politics, education, comic book related stuff...and doing the PhD thing #proudtobeirish \\u2618',\n",
       "    u'entities': {u'description': {u'urls': []}},\n",
       "    u'favourites_count': 658,\n",
       "    u'follow_request_sent': False,\n",
       "    u'followers_count': 564,\n",
       "    u'following': False,\n",
       "    u'friends_count': 2368,\n",
       "    u'geo_enabled': True,\n",
       "    u'has_extended_profile': False,\n",
       "    u'id': 64211255,\n",
       "    u'id_str': u'64211255',\n",
       "    u'is_translation_enabled': False,\n",
       "    u'is_translator': False,\n",
       "    u'lang': u'en',\n",
       "    u'listed_count': 70,\n",
       "    u'location': u'Perth, Australia',\n",
       "    u'name': u'Mary',\n",
       "    u'notifications': False,\n",
       "    u'profile_background_color': u'642D8B',\n",
       "    u'profile_background_image_url': u'http://pbs.twimg.com/profile_background_images/485630159911809024/h4AALDX4.jpeg',\n",
       "    u'profile_background_image_url_https': u'https://pbs.twimg.com/profile_background_images/485630159911809024/h4AALDX4.jpeg',\n",
       "    u'profile_background_tile': True,\n",
       "    u'profile_banner_url': u'https://pbs.twimg.com/profile_banners/64211255/1481634362',\n",
       "    u'profile_image_url': u'http://pbs.twimg.com/profile_images/632676852457336832/e0iJYGsY_normal.jpg',\n",
       "    u'profile_image_url_https': u'https://pbs.twimg.com/profile_images/632676852457336832/e0iJYGsY_normal.jpg',\n",
       "    u'profile_link_color': u'0AEAFA',\n",
       "    u'profile_sidebar_border_color': u'FFFFFF',\n",
       "    u'profile_sidebar_fill_color': u'F7F9FA',\n",
       "    u'profile_text_color': u'3D1957',\n",
       "    u'profile_use_background_image': False,\n",
       "    u'protected': False,\n",
       "    u'screen_name': u'MaryE_Murphy',\n",
       "    u'statuses_count': 6263,\n",
       "    u'time_zone': u'Perth',\n",
       "    u'translator_type': u'none',\n",
       "    u'url': None,\n",
       "    u'utc_offset': 28800,\n",
       "    u'verified': False}},\n",
       "  {u'contributors': None,\n",
       "   u'coordinates': None,\n",
       "   u'created_at': u'Mon Jan 30 10:40:47 +0000 2017',\n",
       "   u'entities': {u'hashtags': [],\n",
       "    u'symbols': [],\n",
       "    u'urls': [{u'display_url': u'quarterly.blog.gov.uk/2017/01/26/usi\\u2026',\n",
       "      u'expanded_url': u'https://quarterly.blog.gov.uk/2017/01/26/using-data-and-design-to-support-people-to-stay-in-work/',\n",
       "      u'indices': [109, 132],\n",
       "      u'url': u'https://t.co/o22KZ2qgsU'}],\n",
       "    u'user_mentions': []},\n",
       "   u'favorite_count': 0,\n",
       "   u'favorited': False,\n",
       "   u'geo': None,\n",
       "   u'id': 826017309345054720,\n",
       "   u'id_str': u'826017309345054720',\n",
       "   u'in_reply_to_screen_name': None,\n",
       "   u'in_reply_to_status_id': None,\n",
       "   u'in_reply_to_status_id_str': None,\n",
       "   u'in_reply_to_user_id': None,\n",
       "   u'in_reply_to_user_id_str': None,\n",
       "   u'is_quote_status': False,\n",
       "   u'lang': u'en',\n",
       "   u'metadata': {u'iso_language_code': u'en', u'result_type': u'recent'},\n",
       "   u'place': None,\n",
       "   u'possibly_sensitive': False,\n",
       "   u'retweet_count': 0,\n",
       "   u'retweeted': False,\n",
       "   u'source': u'<a href=\"http://twitter.com\" rel=\"nofollow\">Twitter Web Client</a>',\n",
       "   u'text': u'[Warm feeling inside] \"The team used data science with ethnography to create a rich picture about the issue\" https://t.co/o22KZ2qgsU',\n",
       "   u'truncated': False,\n",
       "   u'user': {u'contributors_enabled': False,\n",
       "    u'created_at': u'Mon Sep 28 22:39:35 +0000 2009',\n",
       "    u'default_profile': False,\n",
       "    u'default_profile_image': False,\n",
       "    u'description': u'Innovation in development, one person at a time.',\n",
       "    u'entities': {u'description': {u'urls': []},\n",
       "     u'url': {u'urls': [{u'display_url': u'nesta.org.uk/blog/era-devel\\u2026',\n",
       "        u'expanded_url': u'http://www.nesta.org.uk/blog/era-development-mutants',\n",
       "        u'indices': [0, 23],\n",
       "        u'url': u'https://t.co/Ihy3uq2tZl'}]}},\n",
       "    u'favourites_count': 14460,\n",
       "    u'follow_request_sent': False,\n",
       "    u'followers_count': 4510,\n",
       "    u'following': False,\n",
       "    u'friends_count': 587,\n",
       "    u'geo_enabled': False,\n",
       "    u'has_extended_profile': False,\n",
       "    u'id': 78143293,\n",
       "    u'id_str': u'78143293',\n",
       "    u'is_translation_enabled': False,\n",
       "    u'is_translator': False,\n",
       "    u'lang': u'en',\n",
       "    u'listed_count': 733,\n",
       "    u'location': u'London, England',\n",
       "    u'name': u'giulio quaggiotto',\n",
       "    u'notifications': False,\n",
       "    u'profile_background_color': u'89C9FA',\n",
       "    u'profile_background_image_url': u'http://abs.twimg.com/images/themes/theme15/bg.png',\n",
       "    u'profile_background_image_url_https': u'https://abs.twimg.com/images/themes/theme15/bg.png',\n",
       "    u'profile_background_tile': True,\n",
       "    u'profile_banner_url': u'https://pbs.twimg.com/profile_banners/78143293/1425182795',\n",
       "    u'profile_image_url': u'http://pbs.twimg.com/profile_images/571971916735315968/VBMQIcO6_normal.jpeg',\n",
       "    u'profile_image_url_https': u'https://pbs.twimg.com/profile_images/571971916735315968/VBMQIcO6_normal.jpeg',\n",
       "    u'profile_link_color': u'3B94D9',\n",
       "    u'profile_sidebar_border_color': u'FFFFFF',\n",
       "    u'profile_sidebar_fill_color': u'EBD7C1',\n",
       "    u'profile_text_color': u'333333',\n",
       "    u'profile_use_background_image': False,\n",
       "    u'protected': False,\n",
       "    u'screen_name': u'gquaggiotto',\n",
       "    u'statuses_count': 28669,\n",
       "    u'time_zone': u'Jakarta',\n",
       "    u'translator_type': u'none',\n",
       "    u'url': u'https://t.co/Ihy3uq2tZl',\n",
       "    u'utc_offset': 25200,\n",
       "    u'verified': False}},\n",
       "  {u'contributors': None,\n",
       "   u'coordinates': None,\n",
       "   u'created_at': u'Mon Jan 30 10:40:15 +0000 2017',\n",
       "   u'entities': {u'hashtags': [{u'indices': [78, 88], u'text': u'Princeton'},\n",
       "     {u'indices': [89, 94], u'text': u'Jobs'}],\n",
       "    u'symbols': [],\n",
       "    u'urls': [{u'display_url': u'clm.bz/pwS3gH',\n",
       "      u'expanded_url': u'http://clm.bz/pwS3gH',\n",
       "      u'indices': [95, 118],\n",
       "      u'url': u'https://t.co/pZsHYRmja1'}],\n",
       "    u'user_mentions': []},\n",
       "   u'favorite_count': 0,\n",
       "   u'favorited': False,\n",
       "   u'geo': None,\n",
       "   u'id': 826017172631732229,\n",
       "   u'id_str': u'826017172631732229',\n",
       "   u'in_reply_to_screen_name': None,\n",
       "   u'in_reply_to_status_id': None,\n",
       "   u'in_reply_to_status_id_str': None,\n",
       "   u'in_reply_to_user_id': None,\n",
       "   u'in_reply_to_user_id_str': None,\n",
       "   u'is_quote_status': False,\n",
       "   u'lang': u'en',\n",
       "   u'metadata': {u'iso_language_code': u'en', u'result_type': u'recent'},\n",
       "   u'place': None,\n",
       "   u'possibly_sensitive': False,\n",
       "   u'retweet_count': 0,\n",
       "   u'retweeted': False,\n",
       "   u'source': u'<a href=\"http://Postings.com\" rel=\"nofollow\">Postings.com</a>',\n",
       "   u'text': u'Home based ANYWHERE IN USA- Clinical DATA MANAGERS/Leads/Project Manager DATA #Princeton #Jobs https://t.co/pZsHYRmja1',\n",
       "   u'truncated': False,\n",
       "   u'user': {u'contributors_enabled': False,\n",
       "    u'created_at': u'Tue Jun 03 18:26:05 +0000 2014',\n",
       "    u'default_profile': True,\n",
       "    u'default_profile_image': False,\n",
       "    u'description': u'',\n",
       "    u'entities': {u'description': {u'urls': []},\n",
       "     u'url': {u'urls': [{u'display_url': u'catalystfive.com/jobs',\n",
       "        u'expanded_url': u'http://catalystfive.com/jobs',\n",
       "        u'indices': [0, 22],\n",
       "        u'url': u'http://t.co/ieVFlGegkh'}]}},\n",
       "    u'favourites_count': 1,\n",
       "    u'follow_request_sent': False,\n",
       "    u'followers_count': 479,\n",
       "    u'following': False,\n",
       "    u'friends_count': 180,\n",
       "    u'geo_enabled': False,\n",
       "    u'has_extended_profile': False,\n",
       "    u'id': 2544103339,\n",
       "    u'id_str': u'2544103339',\n",
       "    u'is_translation_enabled': False,\n",
       "    u'is_translator': False,\n",
       "    u'lang': u'en',\n",
       "    u'listed_count': 504,\n",
       "    u'location': u'USA',\n",
       "    u'name': u'CatalystFive Jobs',\n",
       "    u'notifications': False,\n",
       "    u'profile_background_color': u'C0DEED',\n",
       "    u'profile_background_image_url': u'http://abs.twimg.com/images/themes/theme1/bg.png',\n",
       "    u'profile_background_image_url_https': u'https://abs.twimg.com/images/themes/theme1/bg.png',\n",
       "    u'profile_background_tile': False,\n",
       "    u'profile_image_url': u'http://pbs.twimg.com/profile_images/473895303179816962/7P7xsyR7_normal.png',\n",
       "    u'profile_image_url_https': u'https://pbs.twimg.com/profile_images/473895303179816962/7P7xsyR7_normal.png',\n",
       "    u'profile_link_color': u'1DA1F2',\n",
       "    u'profile_sidebar_border_color': u'C0DEED',\n",
       "    u'profile_sidebar_fill_color': u'DDEEF6',\n",
       "    u'profile_text_color': u'333333',\n",
       "    u'profile_use_background_image': True,\n",
       "    u'protected': False,\n",
       "    u'screen_name': u'Catalyst5Jobs',\n",
       "    u'statuses_count': 257633,\n",
       "    u'time_zone': None,\n",
       "    u'translator_type': u'none',\n",
       "    u'url': u'http://t.co/ieVFlGegkh',\n",
       "    u'utc_offset': None,\n",
       "    u'verified': False}},\n",
       "  {u'contributors': None,\n",
       "   u'coordinates': None,\n",
       "   u'created_at': u'Mon Jan 30 10:39:35 +0000 2017',\n",
       "   u'entities': {u'hashtags': [{u'indices': [0, 4], u'text': u'ETH'}],\n",
       "    u'symbols': [],\n",
       "    u'urls': [{u'display_url': u'ethrat.ch/sites/default/\\u2026',\n",
       "      u'expanded_url': u'http://www.ethrat.ch/sites/default/files/FactSheet_Data_Science_E.pdf',\n",
       "      u'indices': [82, 105],\n",
       "      u'url': u'https://t.co/znWytUH8DL'}],\n",
       "    u'user_mentions': []},\n",
       "   u'favorite_count': 0,\n",
       "   u'favorited': False,\n",
       "   u'geo': None,\n",
       "   u'id': 826017006063214592,\n",
       "   u'id_str': u'826017006063214592',\n",
       "   u'in_reply_to_screen_name': None,\n",
       "   u'in_reply_to_status_id': None,\n",
       "   u'in_reply_to_status_id_str': None,\n",
       "   u'in_reply_to_user_id': None,\n",
       "   u'in_reply_to_user_id_str': None,\n",
       "   u'is_quote_status': False,\n",
       "   u'lang': u'en',\n",
       "   u'metadata': {u'iso_language_code': u'en', u'result_type': u'recent'},\n",
       "   u'place': None,\n",
       "   u'possibly_sensitive': False,\n",
       "   u'retweet_count': 0,\n",
       "   u'retweeted': False,\n",
       "   u'source': u'<a href=\"http://twitter.com/download/iphone\" rel=\"nofollow\">Twitter for iPhone</a>',\n",
       "   u'text': u'#ETH (Lausanne/Zurich) launched a common Data Science initiative for Switzerland. https://t.co/znWytUH8DL',\n",
       "   u'truncated': False,\n",
       "   u'user': {u'contributors_enabled': False,\n",
       "    u'created_at': u'Sun Apr 13 23:31:58 +0000 2008',\n",
       "    u'default_profile': True,\n",
       "    u'default_profile_image': False,\n",
       "    u'description': u\"Polyglot (FR, DE, EN, ES), polyglot programmer (Java, Groovy, Ruby, Swift, Objective-C, Scala, Python, O'Caml) polyglot methodologist (Scrum, Kanban, Lean).\",\n",
       "    u'entities': {u'description': {u'urls': []},\n",
       "     u'url': {u'urls': [{u'display_url': u'newsbot.mobi',\n",
       "        u'expanded_url': u'http://newsbot.mobi',\n",
       "        u'indices': [0, 23],\n",
       "        u'url': u'https://t.co/p4oV02VTQN'}]}},\n",
       "    u'favourites_count': 1646,\n",
       "    u'follow_request_sent': False,\n",
       "    u'followers_count': 525,\n",
       "    u'following': False,\n",
       "    u'friends_count': 667,\n",
       "    u'geo_enabled': False,\n",
       "    u'has_extended_profile': False,\n",
       "    u'id': 14378983,\n",
       "    u'id_str': u'14378983',\n",
       "    u'is_translation_enabled': False,\n",
       "    u'is_translator': False,\n",
       "    u'lang': u'en',\n",
       "    u'listed_count': 125,\n",
       "    u'location': u'Lausanne, Switzerland',\n",
       "    u'name': u'Patrick J.',\n",
       "    u'notifications': False,\n",
       "    u'profile_background_color': u'C0DEED',\n",
       "    u'profile_background_image_url': u'http://abs.twimg.com/images/themes/theme1/bg.png',\n",
       "    u'profile_background_image_url_https': u'https://abs.twimg.com/images/themes/theme1/bg.png',\n",
       "    u'profile_background_tile': False,\n",
       "    u'profile_banner_url': u'https://pbs.twimg.com/profile_banners/14378983/1473886084',\n",
       "    u'profile_image_url': u'http://pbs.twimg.com/profile_images/779369610655260672/rVwURV9c_normal.jpg',\n",
       "    u'profile_image_url_https': u'https://pbs.twimg.com/profile_images/779369610655260672/rVwURV9c_normal.jpg',\n",
       "    u'profile_link_color': u'1DA1F2',\n",
       "    u'profile_sidebar_border_color': u'C0DEED',\n",
       "    u'profile_sidebar_fill_color': u'DDEEF6',\n",
       "    u'profile_text_color': u'333333',\n",
       "    u'profile_use_background_image': True,\n",
       "    u'protected': False,\n",
       "    u'screen_name': u'xrb',\n",
       "    u'statuses_count': 7213,\n",
       "    u'time_zone': u'Paris',\n",
       "    u'translator_type': u'none',\n",
       "    u'url': u'https://t.co/p4oV02VTQN',\n",
       "    u'utc_offset': 3600,\n",
       "    u'verified': False}},\n",
       "  {u'contributors': None,\n",
       "   u'coordinates': None,\n",
       "   u'created_at': u'Mon Jan 30 10:39:24 +0000 2017',\n",
       "   u'entities': {u'hashtags': [{u'indices': [0, 17],\n",
       "      u'text': u'LearnDataScience'},\n",
       "     {u'indices': [18, 26], u'text': u'website'}],\n",
       "    u'symbols': [],\n",
       "    u'urls': [{u'display_url': u'tinyurl.com/zhankfc',\n",
       "      u'expanded_url': u'http://tinyurl.com/zhankfc',\n",
       "      u'indices': [60, 83],\n",
       "      u'url': u'https://t.co/8V0inngrGx'}],\n",
       "    u'user_mentions': []},\n",
       "   u'favorite_count': 0,\n",
       "   u'favorited': False,\n",
       "   u'geo': None,\n",
       "   u'id': 826016961696059394,\n",
       "   u'id_str': u'826016961696059394',\n",
       "   u'in_reply_to_screen_name': None,\n",
       "   u'in_reply_to_status_id': None,\n",
       "   u'in_reply_to_status_id_str': None,\n",
       "   u'in_reply_to_user_id': None,\n",
       "   u'in_reply_to_user_id_str': None,\n",
       "   u'is_quote_status': False,\n",
       "   u'lang': u'en',\n",
       "   u'metadata': {u'iso_language_code': u'en', u'result_type': u'recent'},\n",
       "   u'place': None,\n",
       "   u'possibly_sensitive': False,\n",
       "   u'retweet_count': 0,\n",
       "   u'retweeted': False,\n",
       "   u'source': u'<a href=\"https://apps.twitter.com/app/new\" rel=\"nofollow\">JackVerrusesTwitteR</a>',\n",
       "   u'text': u'#LearnDataScience #website - Data Science Ethical Framework https://t.co/8V0inngrGx',\n",
       "   u'truncated': False,\n",
       "   u'user': {u'contributors_enabled': False,\n",
       "    u'created_at': u'Mon Dec 21 10:45:29 +0000 2009',\n",
       "    u'default_profile': True,\n",
       "    u'default_profile_image': False,\n",
       "    u'description': u\"interrested in #Bigdata, #IoT, #Blockchain,  #Machinelearning, #Dataquality, #Wearables and more I'm a human being helped by robots\",\n",
       "    u'entities': {u'description': {u'urls': []},\n",
       "     u'url': {u'urls': [{u'display_url': u'jacquesverret.jimdo.com',\n",
       "        u'expanded_url': u'http://jacquesverret.jimdo.com/',\n",
       "        u'indices': [0, 23],\n",
       "        u'url': u'https://t.co/Ofo5F4itPy'}]}},\n",
       "    u'favourites_count': 6251,\n",
       "    u'follow_request_sent': False,\n",
       "    u'followers_count': 3621,\n",
       "    u'following': False,\n",
       "    u'friends_count': 3665,\n",
       "    u'geo_enabled': False,\n",
       "    u'has_extended_profile': True,\n",
       "    u'id': 98347499,\n",
       "    u'id_str': u'98347499',\n",
       "    u'is_translation_enabled': False,\n",
       "    u'is_translator': False,\n",
       "    u'lang': u'en',\n",
       "    u'listed_count': 2359,\n",
       "    u'location': u'Paris, France',\n",
       "    u'name': u'JackVerr',\n",
       "    u'notifications': False,\n",
       "    u'profile_background_color': u'C0DEED',\n",
       "    u'profile_background_image_url': u'http://abs.twimg.com/images/themes/theme1/bg.png',\n",
       "    u'profile_background_image_url_https': u'https://abs.twimg.com/images/themes/theme1/bg.png',\n",
       "    u'profile_background_tile': False,\n",
       "    u'profile_banner_url': u'https://pbs.twimg.com/profile_banners/98347499/1482329561',\n",
       "    u'profile_image_url': u'http://pbs.twimg.com/profile_images/811572883663286278/ywdPPQdN_normal.jpg',\n",
       "    u'profile_image_url_https': u'https://pbs.twimg.com/profile_images/811572883663286278/ywdPPQdN_normal.jpg',\n",
       "    u'profile_link_color': u'1DA1F2',\n",
       "    u'profile_sidebar_border_color': u'C0DEED',\n",
       "    u'profile_sidebar_fill_color': u'DDEEF6',\n",
       "    u'profile_text_color': u'333333',\n",
       "    u'profile_use_background_image': True,\n",
       "    u'protected': False,\n",
       "    u'screen_name': u'jackverr54',\n",
       "    u'statuses_count': 15384,\n",
       "    u'time_zone': None,\n",
       "    u'translator_type': u'none',\n",
       "    u'url': u'https://t.co/Ofo5F4itPy',\n",
       "    u'utc_offset': None,\n",
       "    u'verified': False}},\n",
       "  {u'contributors': None,\n",
       "   u'coordinates': None,\n",
       "   u'created_at': u'Mon Jan 30 10:39:21 +0000 2017',\n",
       "   u'entities': {u'hashtags': [{u'indices': [93, 100], u'text': u'Madrid'}],\n",
       "    u'symbols': [],\n",
       "    u'urls': [],\n",
       "    u'user_mentions': [{u'id': 465657021,\n",
       "      u'id_str': u'465657021',\n",
       "      u'indices': [3, 11],\n",
       "      u'name': u'Wayra Espa\\xf1a',\n",
       "      u'screen_name': u'WayraES'},\n",
       "     {u'id': 62478764,\n",
       "      u'id_str': u'62478764',\n",
       "      u'indices': [53, 69],\n",
       "      u'name': u'Synergic Partners',\n",
       "      u'screen_name': u'synergicpartner'},\n",
       "     {u'id': 18036441,\n",
       "      u'id_str': u'18036441',\n",
       "      u'indices': [73, 82],\n",
       "      u'name': u'Stanford University',\n",
       "      u'screen_name': u'Stanford'}]},\n",
       "   u'favorite_count': 0,\n",
       "   u'favorited': False,\n",
       "   u'geo': None,\n",
       "   u'id': 826016945468272640,\n",
       "   u'id_str': u'826016945468272640',\n",
       "   u'in_reply_to_screen_name': None,\n",
       "   u'in_reply_to_status_id': None,\n",
       "   u'in_reply_to_status_id_str': None,\n",
       "   u'in_reply_to_user_id': None,\n",
       "   u'in_reply_to_user_id_str': None,\n",
       "   u'is_quote_status': False,\n",
       "   u'lang': u'es',\n",
       "   u'metadata': {u'iso_language_code': u'es', u'result_type': u'recent'},\n",
       "   u'place': None,\n",
       "   u'retweet_count': 2,\n",
       "   u'retweeted': False,\n",
       "   u'retweeted_status': {u'contributors': None,\n",
       "    u'coordinates': None,\n",
       "    u'created_at': u'Mon Jan 30 09:50:18 +0000 2017',\n",
       "    u'entities': {u'hashtags': [{u'indices': [80, 87], u'text': u'Madrid'}],\n",
       "     u'symbols': [],\n",
       "     u'urls': [{u'display_url': u'twitter.com/i/web/status/8\\u2026',\n",
       "       u'expanded_url': u'https://twitter.com/i/web/status/826004601388298240',\n",
       "       u'indices': [117, 140],\n",
       "       u'url': u'https://t.co/oIhJ670yzp'}],\n",
       "     u'user_mentions': [{u'id': 62478764,\n",
       "       u'id_str': u'62478764',\n",
       "       u'indices': [40, 56],\n",
       "       u'name': u'Synergic Partners',\n",
       "       u'screen_name': u'synergicpartner'},\n",
       "      {u'id': 18036441,\n",
       "       u'id_str': u'18036441',\n",
       "       u'indices': [60, 69],\n",
       "       u'name': u'Stanford University',\n",
       "       u'screen_name': u'Stanford'}]},\n",
       "    u'favorite_count': 3,\n",
       "    u'favorited': False,\n",
       "    u'geo': None,\n",
       "    u'id': 826004601388298240,\n",
       "    u'id_str': u'826004601388298240',\n",
       "    u'in_reply_to_screen_name': None,\n",
       "    u'in_reply_to_status_id': None,\n",
       "    u'in_reply_to_status_id_str': None,\n",
       "    u'in_reply_to_user_id': None,\n",
       "    u'in_reply_to_user_id_str': None,\n",
       "    u'is_quote_status': False,\n",
       "    u'lang': u'es',\n",
       "    u'metadata': {u'iso_language_code': u'es', u'result_type': u'recent'},\n",
       "    u'place': None,\n",
       "    u'possibly_sensitive': False,\n",
       "    u'retweet_count': 2,\n",
       "    u'retweeted': False,\n",
       "    u'source': u'<a href=\"http://www.hootsuite.com\" rel=\"nofollow\">Hootsuite</a>',\n",
       "    u'text': u'Women in Data Science, 3 de febrero con @synergicpartner  y @Stanford  en Wayra #Madrid. Ent\\xe9rate de c\\xf3mo asistir e\\u2026 https://t.co/oIhJ670yzp',\n",
       "    u'truncated': True,\n",
       "    u'user': {u'contributors_enabled': False,\n",
       "     u'created_at': u'Mon Jan 16 16:05:20 +0000 2012',\n",
       "     u'default_profile': False,\n",
       "     u'default_profile_image': False,\n",
       "     u'description': u'Aceleramos startups tecnol\\xf3gicas, equipos de gran talento y desarrollamos ecosistemas de innovaci\\xf3n en Espa\\xf1a.\\n \\xa1Las reglas no est\\xe1n escritas!',\n",
       "     u'entities': {u'description': {u'urls': []},\n",
       "      u'url': {u'urls': [{u'display_url': u'wayra.co',\n",
       "         u'expanded_url': u'http://wayra.co',\n",
       "         u'indices': [0, 22],\n",
       "         u'url': u'http://t.co/rVRlc1t5uU'}]}},\n",
       "     u'favourites_count': 2486,\n",
       "     u'follow_request_sent': False,\n",
       "     u'followers_count': 11838,\n",
       "     u'following': False,\n",
       "     u'friends_count': 1780,\n",
       "     u'geo_enabled': True,\n",
       "     u'has_extended_profile': False,\n",
       "     u'id': 465657021,\n",
       "     u'id_str': u'465657021',\n",
       "     u'is_translation_enabled': False,\n",
       "     u'is_translator': False,\n",
       "     u'lang': u'es',\n",
       "     u'listed_count': 644,\n",
       "     u'location': u'Madrid & Barcelona',\n",
       "     u'name': u'Wayra Espa\\xf1a',\n",
       "     u'notifications': False,\n",
       "     u'profile_background_color': u'C0DEED',\n",
       "     u'profile_background_image_url': u'http://pbs.twimg.com/profile_background_images/635673861/kuf5h302zv8qef93l5un.png',\n",
       "     u'profile_background_image_url_https': u'https://pbs.twimg.com/profile_background_images/635673861/kuf5h302zv8qef93l5un.png',\n",
       "     u'profile_background_tile': False,\n",
       "     u'profile_banner_url': u'https://pbs.twimg.com/profile_banners/465657021/1433239942',\n",
       "     u'profile_image_url': u'http://pbs.twimg.com/profile_images/590455585994317824/V8Vaa1b8_normal.jpg',\n",
       "     u'profile_image_url_https': u'https://pbs.twimg.com/profile_images/590455585994317824/V8Vaa1b8_normal.jpg',\n",
       "     u'profile_link_color': u'FA743E',\n",
       "     u'profile_sidebar_border_color': u'C0DEED',\n",
       "     u'profile_sidebar_fill_color': u'DDEEF6',\n",
       "     u'profile_text_color': u'333333',\n",
       "     u'profile_use_background_image': True,\n",
       "     u'protected': False,\n",
       "     u'screen_name': u'WayraES',\n",
       "     u'statuses_count': 7333,\n",
       "     u'time_zone': u'Madrid',\n",
       "     u'translator_type': u'none',\n",
       "     u'url': u'http://t.co/rVRlc1t5uU',\n",
       "     u'utc_offset': 3600,\n",
       "     u'verified': True}},\n",
       "   u'source': u'<a href=\"http://twitter.com\" rel=\"nofollow\">Twitter Web Client</a>',\n",
       "   u'text': u'RT @WayraES: Women in Data Science, 3 de febrero con @synergicpartner  y @Stanford  en Wayra #Madrid. Ent\\xe9rate de c\\xf3mo asistir en https://t\\u2026',\n",
       "   u'truncated': False,\n",
       "   u'user': {u'contributors_enabled': False,\n",
       "    u'created_at': u'Mon Aug 03 09:40:05 +0000 2009',\n",
       "    u'default_profile': False,\n",
       "    u'default_profile_image': False,\n",
       "    u'description': u'Consultancy firm specialized in #BigData #DataScience #DataEngineering. Making Companies become Data-Driven',\n",
       "    u'entities': {u'description': {u'urls': []},\n",
       "     u'url': {u'urls': [{u'display_url': u'synergicpartners.com',\n",
       "        u'expanded_url': u'http://www.synergicpartners.com',\n",
       "        u'indices': [0, 23],\n",
       "        u'url': u'https://t.co/dXQfeOLsyz'}]}},\n",
       "    u'favourites_count': 646,\n",
       "    u'follow_request_sent': False,\n",
       "    u'followers_count': 1829,\n",
       "    u'following': False,\n",
       "    u'friends_count': 1247,\n",
       "    u'geo_enabled': True,\n",
       "    u'has_extended_profile': False,\n",
       "    u'id': 62478764,\n",
       "    u'id_str': u'62478764',\n",
       "    u'is_translation_enabled': False,\n",
       "    u'is_translator': False,\n",
       "    u'lang': u'es',\n",
       "    u'listed_count': 342,\n",
       "    u'location': u'Spain Madrid/ Barcelona',\n",
       "    u'name': u'Synergic Partners',\n",
       "    u'notifications': False,\n",
       "    u'profile_background_color': u'133D61',\n",
       "    u'profile_background_image_url': u'http://pbs.twimg.com/profile_background_images/445548604493549568/X7ThJPqt.jpeg',\n",
       "    u'profile_background_image_url_https': u'https://pbs.twimg.com/profile_background_images/445548604493549568/X7ThJPqt.jpeg',\n",
       "    u'profile_background_tile': False,\n",
       "    u'profile_banner_url': u'https://pbs.twimg.com/profile_banners/62478764/1484566002',\n",
       "    u'profile_image_url': u'http://pbs.twimg.com/profile_images/761750236/logo_bullet_transparente_normal.png',\n",
       "    u'profile_image_url_https': u'https://pbs.twimg.com/profile_images/761750236/logo_bullet_transparente_normal.png',\n",
       "    u'profile_link_color': u'969493',\n",
       "    u'profile_sidebar_border_color': u'FFFFFF',\n",
       "    u'profile_sidebar_fill_color': u'EBF1F5',\n",
       "    u'profile_text_color': u'000000',\n",
       "    u'profile_use_background_image': True,\n",
       "    u'protected': False,\n",
       "    u'screen_name': u'synergicpartner',\n",
       "    u'statuses_count': 3917,\n",
       "    u'time_zone': u'Madrid',\n",
       "    u'translator_type': u'none',\n",
       "    u'url': u'https://t.co/dXQfeOLsyz',\n",
       "    u'utc_offset': 3600,\n",
       "    u'verified': False}},\n",
       "  {u'contributors': None,\n",
       "   u'coordinates': None,\n",
       "   u'created_at': u'Mon Jan 30 10:38:53 +0000 2017',\n",
       "   u'entities': {u'hashtags': [{u'indices': [123, 132], u'text': u'hvhebron'},\n",
       "     {u'indices': [133, 140], u'text': u'malinf'}],\n",
       "    u'symbols': [],\n",
       "    u'urls': [{u'display_url': u'bit.ly/2kKNS4P',\n",
       "      u'expanded_url': u'http://bit.ly/2kKNS4P',\n",
       "      u'indices': [99, 122],\n",
       "      u'url': u'https://t.co/t7UflToU9A'}],\n",
       "    u'user_mentions': []},\n",
       "   u'favorite_count': 0,\n",
       "   u'favorited': False,\n",
       "   u'geo': None,\n",
       "   u'id': 826016828895932417,\n",
       "   u'id_str': u'826016828895932417',\n",
       "   u'in_reply_to_screen_name': None,\n",
       "   u'in_reply_to_status_id': None,\n",
       "   u'in_reply_to_status_id_str': None,\n",
       "   u'in_reply_to_user_id': None,\n",
       "   u'in_reply_to_user_id_str': None,\n",
       "   u'is_quote_status': False,\n",
       "   u'lang': u'en',\n",
       "   u'metadata': {u'iso_language_code': u'en', u'result_type': u'recent'},\n",
       "   u'place': None,\n",
       "   u'possibly_sensitive': False,\n",
       "   u'retweet_count': 0,\n",
       "   u'retweeted': False,\n",
       "   u'source': u'<a href=\"http://twitter.com\" rel=\"nofollow\">Twitter Web Client</a>',\n",
       "   u'text': u'Impact of fluconazole susceptibility on the outcome of patients with candidemia: data from a popul https://t.co/t7UflToU9A #hvhebron #malinf',\n",
       "   u'truncated': False,\n",
       "   u'user': {u'contributors_enabled': False,\n",
       "    u'created_at': u'Thu Mar 18 10:34:03 +0000 2010',\n",
       "    u'default_profile': False,\n",
       "    u'default_profile_image': False,\n",
       "    u'description': u'Biblioteca Digital de l\\u2019Hospital Universitari Vall d\\u2019Hebron. Institut Catal\\xe0 de la Salut. Departament de Salut. Generalitat de Catalunya',\n",
       "    u'entities': {u'description': {u'urls': []},\n",
       "     u'url': {u'urls': [{u'display_url': u'vhebron.net',\n",
       "        u'expanded_url': u'http://www.vhebron.net',\n",
       "        u'indices': [0, 22],\n",
       "        u'url': u'http://t.co/kNtWDBCzHM'}]}},\n",
       "    u'favourites_count': 7,\n",
       "    u'follow_request_sent': False,\n",
       "    u'followers_count': 1981,\n",
       "    u'following': False,\n",
       "    u'friends_count': 194,\n",
       "    u'geo_enabled': False,\n",
       "    u'has_extended_profile': True,\n",
       "    u'id': 124130301,\n",
       "    u'id_str': u'124130301',\n",
       "    u'is_translation_enabled': True,\n",
       "    u'is_translator': False,\n",
       "    u'lang': u'ca',\n",
       "    u'listed_count': 172,\n",
       "    u'location': u'Barcelona',\n",
       "    u'name': u'BibliotecaHUVH. ICS',\n",
       "    u'notifications': False,\n",
       "    u'profile_background_color': u'FAFAFA',\n",
       "    u'profile_background_image_url': u'http://pbs.twimg.com/profile_background_images/378800000095151890/614c18f9cae9060185a364cf7ccdf9f0.png',\n",
       "    u'profile_background_image_url_https': u'https://pbs.twimg.com/profile_background_images/378800000095151890/614c18f9cae9060185a364cf7ccdf9f0.png',\n",
       "    u'profile_background_tile': False,\n",
       "    u'profile_banner_url': u'https://pbs.twimg.com/profile_banners/124130301/1351168104',\n",
       "    u'profile_image_url': u'http://pbs.twimg.com/profile_images/1420136376/bibliovalldhebron9_normal.png',\n",
       "    u'profile_image_url_https': u'https://pbs.twimg.com/profile_images/1420136376/bibliovalldhebron9_normal.png',\n",
       "    u'profile_link_color': u'0084B4',\n",
       "    u'profile_sidebar_border_color': u'FFFFFF',\n",
       "    u'profile_sidebar_fill_color': u'CEE6F0',\n",
       "    u'profile_text_color': u'333333',\n",
       "    u'profile_use_background_image': True,\n",
       "    u'protected': False,\n",
       "    u'screen_name': u'BibliotecaHUVH',\n",
       "    u'statuses_count': 7590,\n",
       "    u'time_zone': u'Madrid',\n",
       "    u'translator_type': u'none',\n",
       "    u'url': u'http://t.co/kNtWDBCzHM',\n",
       "    u'utc_offset': 3600,\n",
       "    u'verified': False}},\n",
       "  {u'contributors': None,\n",
       "   u'coordinates': None,\n",
       "   u'created_at': u'Mon Jan 30 10:38:52 +0000 2017',\n",
       "   u'entities': {u'hashtags': [],\n",
       "    u'symbols': [],\n",
       "    u'urls': [{u'display_url': u'lnkd.in/dt47ETa',\n",
       "      u'expanded_url': u'https://lnkd.in/dt47ETa',\n",
       "      u'indices': [74, 97],\n",
       "      u'url': u'https://t.co/Ypx2q4L4G1'}],\n",
       "    u'user_mentions': []},\n",
       "   u'favorite_count': 0,\n",
       "   u'favorited': False,\n",
       "   u'geo': None,\n",
       "   u'id': 826016827092373505,\n",
       "   u'id_str': u'826016827092373505',\n",
       "   u'in_reply_to_screen_name': None,\n",
       "   u'in_reply_to_status_id': None,\n",
       "   u'in_reply_to_status_id_str': None,\n",
       "   u'in_reply_to_user_id': None,\n",
       "   u'in_reply_to_user_id_str': None,\n",
       "   u'is_quote_status': False,\n",
       "   u'lang': u'en',\n",
       "   u'metadata': {u'iso_language_code': u'en', u'result_type': u'recent'},\n",
       "   u'place': None,\n",
       "   u'possibly_sensitive': False,\n",
       "   u'retweet_count': 0,\n",
       "   u'retweeted': False,\n",
       "   u'source': u'<a href=\"http://www.linkedin.com/\" rel=\"nofollow\">LinkedIn</a>',\n",
       "   u'text': u'I just completed the course \"Intro to Python for Data Science (edX 1.1)\"! https://t.co/Ypx2q4L4G1',\n",
       "   u'truncated': False,\n",
       "   u'user': {u'contributors_enabled': False,\n",
       "    u'created_at': u'Mon Oct 03 16:41:52 +0000 2016',\n",
       "    u'default_profile': True,\n",
       "    u'default_profile_image': False,\n",
       "    u'description': u'IT Consultant at HIGHBEKAY CONSULTING.',\n",
       "    u'entities': {u'description': {u'urls': []}},\n",
       "    u'favourites_count': 132,\n",
       "    u'follow_request_sent': False,\n",
       "    u'followers_count': 138,\n",
       "    u'following': False,\n",
       "    u'friends_count': 667,\n",
       "    u'geo_enabled': False,\n",
       "    u'has_extended_profile': True,\n",
       "    u'id': 782984020778942464,\n",
       "    u'id_str': u'782984020778942464',\n",
       "    u'is_translation_enabled': False,\n",
       "    u'is_translator': False,\n",
       "    u'lang': u'en',\n",
       "    u'listed_count': 1,\n",
       "    u'location': u'Lagos, Nigeria',\n",
       "    u'name': u'Ibukun Akinbami',\n",
       "    u'notifications': False,\n",
       "    u'profile_background_color': u'F5F8FA',\n",
       "    u'profile_background_image_url': None,\n",
       "    u'profile_background_image_url_https': None,\n",
       "    u'profile_background_tile': False,\n",
       "    u'profile_image_url': u'http://pbs.twimg.com/profile_images/808263910524682240/6yQshYNv_normal.jpg',\n",
       "    u'profile_image_url_https': u'https://pbs.twimg.com/profile_images/808263910524682240/6yQshYNv_normal.jpg',\n",
       "    u'profile_link_color': u'1DA1F2',\n",
       "    u'profile_sidebar_border_color': u'C0DEED',\n",
       "    u'profile_sidebar_fill_color': u'DDEEF6',\n",
       "    u'profile_text_color': u'333333',\n",
       "    u'profile_use_background_image': True,\n",
       "    u'protected': False,\n",
       "    u'screen_name': u'ibukun_akinbami',\n",
       "    u'statuses_count': 141,\n",
       "    u'time_zone': None,\n",
       "    u'translator_type': u'none',\n",
       "    u'url': None,\n",
       "    u'utc_offset': None,\n",
       "    u'verified': False}},\n",
       "  {u'contributors': None,\n",
       "   u'coordinates': None,\n",
       "   u'created_at': u'Mon Jan 30 10:37:15 +0000 2017',\n",
       "   u'entities': {u'hashtags': [],\n",
       "    u'symbols': [],\n",
       "    u'urls': [{u'display_url': u'kress.de/news/detail/be\\u2026',\n",
       "      u'expanded_url': u'https://kress.de/news/detail/beitrag/136908-martin-holtschneider-ist-head-of-analytics-and-data-science-bei-digitalagentur-sinnerschrader.html',\n",
       "      u'indices': [116, 139],\n",
       "      u'url': u'https://t.co/MGT2DJ99C9'}],\n",
       "    u'user_mentions': [{u'id': 18628801,\n",
       "      u'id_str': u'18628801',\n",
       "      u'indices': [3, 18],\n",
       "      u'name': u'kress.de',\n",
       "      u'screen_name': u'kressZwitscher'}]},\n",
       "   u'favorite_count': 0,\n",
       "   u'favorited': False,\n",
       "   u'geo': None,\n",
       "   u'id': 826016418684612609,\n",
       "   u'id_str': u'826016418684612609',\n",
       "   u'in_reply_to_screen_name': None,\n",
       "   u'in_reply_to_status_id': None,\n",
       "   u'in_reply_to_status_id_str': None,\n",
       "   u'in_reply_to_user_id': None,\n",
       "   u'in_reply_to_user_id_str': None,\n",
       "   u'is_quote_status': False,\n",
       "   u'lang': u'de',\n",
       "   u'metadata': {u'iso_language_code': u'de', u'result_type': u'recent'},\n",
       "   u'place': None,\n",
       "   u'possibly_sensitive': False,\n",
       "   u'retweet_count': 2,\n",
       "   u'retweeted': False,\n",
       "   u'retweeted_status': {u'contributors': None,\n",
       "    u'coordinates': None,\n",
       "    u'created_at': u'Fri Jan 27 14:12:54 +0000 2017',\n",
       "    u'entities': {u'hashtags': [],\n",
       "     u'symbols': [],\n",
       "     u'urls': [{u'display_url': u'twitter.com/i/web/status/8\\u2026',\n",
       "       u'expanded_url': u'https://twitter.com/i/web/status/824983525472481280',\n",
       "       u'indices': [97, 120],\n",
       "       u'url': u'https://t.co/vIwjyY0Iv0'}],\n",
       "     u'user_mentions': []},\n",
       "    u'favorite_count': 0,\n",
       "    u'favorited': False,\n",
       "    u'geo': None,\n",
       "    u'id': 824983525472481280,\n",
       "    u'id_str': u'824983525472481280',\n",
       "    u'in_reply_to_screen_name': None,\n",
       "    u'in_reply_to_status_id': None,\n",
       "    u'in_reply_to_status_id_str': None,\n",
       "    u'in_reply_to_user_id': None,\n",
       "    u'in_reply_to_user_id_str': None,\n",
       "    u'is_quote_status': False,\n",
       "    u'lang': u'de',\n",
       "    u'metadata': {u'iso_language_code': u'de', u'result_type': u'recent'},\n",
       "    u'place': None,\n",
       "    u'possibly_sensitive': False,\n",
       "    u'retweet_count': 2,\n",
       "    u'retweeted': False,\n",
       "    u'source': u'<a href=\"http://twitter.com\" rel=\"nofollow\">Twitter Web Client</a>',\n",
       "    u'text': u'Martin Holtschneider ist \"Head of Analytics and Data Science\" bei Digitalagentur SinnerSchrader\\u2026 https://t.co/vIwjyY0Iv0',\n",
       "    u'truncated': True,\n",
       "    u'user': {u'contributors_enabled': False,\n",
       "     u'created_at': u'Mon Jan 05 10:20:36 +0000 2009',\n",
       "     u'default_profile': False,\n",
       "     u'default_profile_image': False,\n",
       "     u'description': u'Wir zwitschern f\\xfcr Euch die Top-Meldungen aus der Print-, TV-, Digital- und Werbewelt. F\\xfcr gute Unterhaltung sorgen Twitterperlen, Gewinnspiele und Spots.',\n",
       "     u'entities': {u'description': {u'urls': []},\n",
       "      u'url': {u'urls': [{u'display_url': u'kress.de',\n",
       "         u'expanded_url': u'http://kress.de',\n",
       "         u'indices': [0, 22],\n",
       "         u'url': u'http://t.co/livrZ2Tm5D'}]}},\n",
       "     u'favourites_count': 338,\n",
       "     u'follow_request_sent': False,\n",
       "     u'followers_count': 93929,\n",
       "     u'following': False,\n",
       "     u'friends_count': 7089,\n",
       "     u'geo_enabled': True,\n",
       "     u'has_extended_profile': False,\n",
       "     u'id': 18628801,\n",
       "     u'id_str': u'18628801',\n",
       "     u'is_translation_enabled': False,\n",
       "     u'is_translator': False,\n",
       "     u'lang': u'de',\n",
       "     u'listed_count': 2217,\n",
       "     u'location': u'Mannheim, Germany',\n",
       "     u'name': u'kress.de',\n",
       "     u'notifications': False,\n",
       "     u'profile_background_color': u'000001',\n",
       "     u'profile_background_image_url': u'http://pbs.twimg.com/profile_background_images/3785712/logo_big.gif',\n",
       "     u'profile_background_image_url_https': u'https://pbs.twimg.com/profile_background_images/3785712/logo_big.gif',\n",
       "     u'profile_background_tile': False,\n",
       "     u'profile_banner_url': u'https://pbs.twimg.com/profile_banners/18628801/1348668414',\n",
       "     u'profile_image_url': u'http://pbs.twimg.com/profile_images/816267798246752256/U288899r_normal.jpg',\n",
       "     u'profile_image_url_https': u'https://pbs.twimg.com/profile_images/816267798246752256/U288899r_normal.jpg',\n",
       "     u'profile_link_color': u'0A0A0A',\n",
       "     u'profile_sidebar_border_color': u'181A1E',\n",
       "     u'profile_sidebar_fill_color': u'252429',\n",
       "     u'profile_text_color': u'666666',\n",
       "     u'profile_use_background_image': True,\n",
       "     u'protected': False,\n",
       "     u'screen_name': u'kressZwitscher',\n",
       "     u'statuses_count': 33844,\n",
       "     u'time_zone': u'Berlin',\n",
       "     u'translator_type': u'none',\n",
       "     u'url': u'http://t.co/livrZ2Tm5D',\n",
       "     u'utc_offset': 3600,\n",
       "     u'verified': True}},\n",
       "   u'source': u'<a href=\"http://twitter.com\" rel=\"nofollow\">Twitter Web Client</a>',\n",
       "   u'text': u'RT @kressZwitscher: Martin Holtschneider ist \"Head of Analytics and Data Science\" bei Digitalagentur SinnerSchrader https://t.co/MGT2DJ99C9\\u2026',\n",
       "   u'truncated': False,\n",
       "   u'user': {u'contributors_enabled': False,\n",
       "    u'created_at': u'Tue Aug 28 08:33:40 +0000 2007',\n",
       "    u'default_profile': False,\n",
       "    u'default_profile_image': False,\n",
       "    u'description': u'Today is still day one. / Host of @nextconf #NEXT17/ Impressum: https://t.co/6u4cl5P7AM',\n",
       "    u'entities': {u'description': {u'urls': [{u'display_url': u'goo.gl/UlEitn',\n",
       "        u'expanded_url': u'http://goo.gl/UlEitn',\n",
       "        u'indices': [64, 87],\n",
       "        u'url': u'https://t.co/6u4cl5P7AM'}]},\n",
       "     u'url': {u'urls': [{u'display_url': u'sinnerschrader.com',\n",
       "        u'expanded_url': u'http://sinnerschrader.com',\n",
       "        u'indices': [0, 22],\n",
       "        u'url': u'http://t.co/XR4TyEiXhu'}]}},\n",
       "    u'favourites_count': 1080,\n",
       "    u'follow_request_sent': False,\n",
       "    u'followers_count': 6174,\n",
       "    u'following': False,\n",
       "    u'friends_count': 2270,\n",
       "    u'geo_enabled': True,\n",
       "    u'has_extended_profile': False,\n",
       "    u'id': 8481622,\n",
       "    u'id_str': u'8481622',\n",
       "    u'is_translation_enabled': False,\n",
       "    u'is_translator': False,\n",
       "    u'lang': u'de',\n",
       "    u'listed_count': 357,\n",
       "    u'location': u'Hamburg, Deutschland',\n",
       "    u'name': u'SinnerSchrader',\n",
       "    u'notifications': False,\n",
       "    u'profile_background_color': u'FFFFFF',\n",
       "    u'profile_background_image_url': u'http://pbs.twimg.com/profile_background_images/6991794/SCR_SinnerSchrader_monitor_background_1920x1200_ohne.jpg',\n",
       "    u'profile_background_image_url_https': u'https://pbs.twimg.com/profile_background_images/6991794/SCR_SinnerSchrader_monitor_background_1920x1200_ohne.jpg',\n",
       "    u'profile_background_tile': False,\n",
       "    u'profile_banner_url': u'https://pbs.twimg.com/profile_banners/8481622/1476180289',\n",
       "    u'profile_image_url': u'http://pbs.twimg.com/profile_images/687226214747123714/oHCksjPs_normal.png',\n",
       "    u'profile_image_url_https': u'https://pbs.twimg.com/profile_images/687226214747123714/oHCksjPs_normal.png',\n",
       "    u'profile_link_color': u'FF4616',\n",
       "    u'profile_sidebar_border_color': u'FFFFFF',\n",
       "    u'profile_sidebar_fill_color': u'DEDEDE',\n",
       "    u'profile_text_color': u'000000',\n",
       "    u'profile_use_background_image': False,\n",
       "    u'protected': False,\n",
       "    u'screen_name': u'sinnerschrader',\n",
       "    u'statuses_count': 2117,\n",
       "    u'time_zone': u'Bern',\n",
       "    u'translator_type': u'none',\n",
       "    u'url': u'http://t.co/XR4TyEiXhu',\n",
       "    u'utc_offset': 3600,\n",
       "    u'verified': False}},\n",
       "  {u'contributors': None,\n",
       "   u'coordinates': None,\n",
       "   u'created_at': u'Mon Jan 30 10:36:32 +0000 2017',\n",
       "   u'entities': {u'hashtags': [],\n",
       "    u'symbols': [],\n",
       "    u'urls': [{u'display_url': u'blog.cebit.com.au/why-data-scien\\u2026',\n",
       "      u'expanded_url': u'http://blog.cebit.com.au/why-data-science-is-the-way-forward-in-sport',\n",
       "      u'indices': [95, 118],\n",
       "      u'url': u'https://t.co/eXSwaJfQZD'}],\n",
       "    u'user_mentions': [{u'id': 948982890,\n",
       "      u'id_str': u'948982890',\n",
       "      u'indices': [3, 17],\n",
       "      u'name': u'Chris Brandner',\n",
       "      u'screen_name': u'ChrisBrandner'},\n",
       "     {u'id': 28968548,\n",
       "      u'id_str': u'28968548',\n",
       "      u'indices': [80, 93],\n",
       "      u'name': u'Sam Robertson',\n",
       "      u'screen_name': u'Robertson_SJ'},\n",
       "     {u'id': 32769126,\n",
       "      u'id_str': u'32769126',\n",
       "      u'indices': [123, 132],\n",
       "      u'name': u'CeBIT Australia',\n",
       "      u'screen_name': u'CeBITAus'}]},\n",
       "   u'favorite_count': 0,\n",
       "   u'favorited': False,\n",
       "   u'geo': None,\n",
       "   u'id': 826016236286963712,\n",
       "   u'id_str': u'826016236286963712',\n",
       "   u'in_reply_to_screen_name': None,\n",
       "   u'in_reply_to_status_id': None,\n",
       "   u'in_reply_to_status_id_str': None,\n",
       "   u'in_reply_to_user_id': None,\n",
       "   u'in_reply_to_user_id_str': None,\n",
       "   u'is_quote_status': False,\n",
       "   u'lang': u'en',\n",
       "   u'metadata': {u'iso_language_code': u'en', u'result_type': u'recent'},\n",
       "   u'place': None,\n",
       "   u'possibly_sensitive': False,\n",
       "   u'retweet_count': 12,\n",
       "   u'retweeted': False,\n",
       "   u'retweeted_status': {u'contributors': None,\n",
       "    u'coordinates': None,\n",
       "    u'created_at': u'Mon Jan 30 06:23:22 +0000 2017',\n",
       "    u'entities': {u'hashtags': [],\n",
       "     u'symbols': [],\n",
       "     u'urls': [{u'display_url': u'blog.cebit.com.au/why-data-scien\\u2026',\n",
       "       u'expanded_url': u'http://blog.cebit.com.au/why-data-science-is-the-way-forward-in-sport',\n",
       "       u'indices': [76, 99],\n",
       "       u'url': u'https://t.co/eXSwaJfQZD'}],\n",
       "     u'user_mentions': [{u'id': 28968548,\n",
       "       u'id_str': u'28968548',\n",
       "       u'indices': [61, 74],\n",
       "       u'name': u'Sam Robertson',\n",
       "       u'screen_name': u'Robertson_SJ'},\n",
       "      {u'id': 32769126,\n",
       "       u'id_str': u'32769126',\n",
       "       u'indices': [104, 113],\n",
       "       u'name': u'CeBIT Australia',\n",
       "       u'screen_name': u'CeBITAus'}]},\n",
       "    u'favorite_count': 20,\n",
       "    u'favorited': False,\n",
       "    u'geo': None,\n",
       "    u'id': 825952528592412675,\n",
       "    u'id_str': u'825952528592412675',\n",
       "    u'in_reply_to_screen_name': None,\n",
       "    u'in_reply_to_status_id': None,\n",
       "    u'in_reply_to_status_id_str': None,\n",
       "    u'in_reply_to_user_id': None,\n",
       "    u'in_reply_to_user_id_str': None,\n",
       "    u'is_quote_status': False,\n",
       "    u'lang': u'en',\n",
       "    u'metadata': {u'iso_language_code': u'en', u'result_type': u'recent'},\n",
       "    u'place': None,\n",
       "    u'possibly_sensitive': False,\n",
       "    u'retweet_count': 12,\n",
       "    u'retweeted': False,\n",
       "    u'source': u'<a href=\"http://twitter.com\" rel=\"nofollow\">Twitter Web Client</a>',\n",
       "    u'text': u'Why data science is the way forward in sport (interview with @Robertson_SJ) https://t.co/eXSwaJfQZD via @cebitaus',\n",
       "    u'truncated': False,\n",
       "    u'user': {u'contributors_enabled': False,\n",
       "     u'created_at': u'Thu Nov 15 03:40:15 +0000 2012',\n",
       "     u'default_profile': False,\n",
       "     u'default_profile_image': False,\n",
       "     u'description': u'Sport Scientist [PhD] in #BloodFlowRestriction exercise; Talent ID and Development @Aspire_Academy; Always learning. Email: cb.athletedevelopment@gmail.com.',\n",
       "     u'entities': {u'description': {u'urls': []}},\n",
       "     u'favourites_count': 783,\n",
       "     u'follow_request_sent': False,\n",
       "     u'followers_count': 1907,\n",
       "     u'following': False,\n",
       "     u'friends_count': 1050,\n",
       "     u'geo_enabled': True,\n",
       "     u'has_extended_profile': False,\n",
       "     u'id': 948982890,\n",
       "     u'id_str': u'948982890',\n",
       "     u'is_translation_enabled': False,\n",
       "     u'is_translator': False,\n",
       "     u'lang': u'en',\n",
       "     u'listed_count': 29,\n",
       "     u'location': u'Doha, Qatar',\n",
       "     u'name': u'Chris Brandner',\n",
       "     u'notifications': False,\n",
       "     u'profile_background_color': u'000000',\n",
       "     u'profile_background_image_url': u'http://abs.twimg.com/images/themes/theme14/bg.gif',\n",
       "     u'profile_background_image_url_https': u'https://abs.twimg.com/images/themes/theme14/bg.gif',\n",
       "     u'profile_background_tile': False,\n",
       "     u'profile_banner_url': u'https://pbs.twimg.com/profile_banners/948982890/1398405265',\n",
       "     u'profile_image_url': u'http://pbs.twimg.com/profile_images/629268381418401792/5D6L__v0_normal.jpg',\n",
       "     u'profile_image_url_https': u'https://pbs.twimg.com/profile_images/629268381418401792/5D6L__v0_normal.jpg',\n",
       "     u'profile_link_color': u'3B94D9',\n",
       "     u'profile_sidebar_border_color': u'000000',\n",
       "     u'profile_sidebar_fill_color': u'000000',\n",
       "     u'profile_text_color': u'000000',\n",
       "     u'profile_use_background_image': False,\n",
       "     u'protected': False,\n",
       "     u'screen_name': u'ChrisBrandner',\n",
       "     u'statuses_count': 4512,\n",
       "     u'time_zone': u'Muscat',\n",
       "     u'translator_type': u'none',\n",
       "     u'url': None,\n",
       "     u'utc_offset': 14400,\n",
       "     u'verified': False}},\n",
       "   u'source': u'<a href=\"http://twitter.com/download/iphone\" rel=\"nofollow\">Twitter for iPhone</a>',\n",
       "   u'text': u'RT @ChrisBrandner: Why data science is the way forward in sport (interview with @Robertson_SJ) https://t.co/eXSwaJfQZD via @cebitaus',\n",
       "   u'truncated': False,\n",
       "   u'user': {u'contributors_enabled': False,\n",
       "    u'created_at': u'Sun Apr 10 10:33:29 +0000 2011',\n",
       "    u'default_profile': False,\n",
       "    u'default_profile_image': False,\n",
       "    u'description': u'MSc. Information Systems for Business Performance student at UCC',\n",
       "    u'entities': {u'description': {u'urls': []},\n",
       "     u'url': {u'urls': [{u'display_url': u'ie.linkedin.com/in/rory-o-rior\\u2026',\n",
       "        u'expanded_url': u'https://ie.linkedin.com/in/rory-o-riordan-95629912a',\n",
       "        u'indices': [0, 23],\n",
       "        u'url': u'https://t.co/fmy01sapPg'}]}},\n",
       "    u'favourites_count': 1481,\n",
       "    u'follow_request_sent': False,\n",
       "    u'followers_count': 512,\n",
       "    u'following': False,\n",
       "    u'friends_count': 647,\n",
       "    u'geo_enabled': False,\n",
       "    u'has_extended_profile': True,\n",
       "    u'id': 279957578,\n",
       "    u'id_str': u'279957578',\n",
       "    u'is_translation_enabled': False,\n",
       "    u'is_translator': False,\n",
       "    u'lang': u'en',\n",
       "    u'listed_count': 3,\n",
       "    u'location': u'Cork, Ireland',\n",
       "    u'name': u\"Rory O'Riordan\",\n",
       "    u'notifications': False,\n",
       "    u'profile_background_color': u'000000',\n",
       "    u'profile_background_image_url': u'http://abs.twimg.com/images/themes/theme1/bg.png',\n",
       "    u'profile_background_image_url_https': u'https://abs.twimg.com/images/themes/theme1/bg.png',\n",
       "    u'profile_background_tile': False,\n",
       "    u'profile_banner_url': u'https://pbs.twimg.com/profile_banners/279957578/1478705435',\n",
       "    u'profile_image_url': u'http://pbs.twimg.com/profile_images/796364584013746176/SJwdUc7k_normal.jpg',\n",
       "    u'profile_image_url_https': u'https://pbs.twimg.com/profile_images/796364584013746176/SJwdUc7k_normal.jpg',\n",
       "    u'profile_link_color': u'1B95E0',\n",
       "    u'profile_sidebar_border_color': u'000000',\n",
       "    u'profile_sidebar_fill_color': u'000000',\n",
       "    u'profile_text_color': u'000000',\n",
       "    u'profile_use_background_image': False,\n",
       "    u'protected': False,\n",
       "    u'screen_name': u'RoryOR11',\n",
       "    u'statuses_count': 48,\n",
       "    u'time_zone': u'London',\n",
       "    u'translator_type': u'none',\n",
       "    u'url': u'https://t.co/fmy01sapPg',\n",
       "    u'utc_offset': 0,\n",
       "    u'verified': False}},\n",
       "  {u'contributors': None,\n",
       "   u'coordinates': None,\n",
       "   u'created_at': u'Mon Jan 30 10:35:23 +0000 2017',\n",
       "   u'entities': {u'hashtags': [{u'indices': [99, 105], u'text': u'tbwer'}],\n",
       "    u'symbols': [],\n",
       "    u'urls': [{u'display_url': u'wer.mx/l/7kl',\n",
       "      u'expanded_url': u'https://wer.mx/l/7kl',\n",
       "      u'indices': [75, 98],\n",
       "      u'url': u'https://t.co/HPOvhkql12'}],\n",
       "    u'user_mentions': [{u'id': 4697768437,\n",
       "      u'id_str': u'4697768437',\n",
       "      u'indices': [3, 18],\n",
       "      u'name': u'El Sapient\\xedsimo',\n",
       "      u'screen_name': u'elsapientisimo'}]},\n",
       "   u'favorite_count': 0,\n",
       "   u'favorited': False,\n",
       "   u'geo': None,\n",
       "   u'id': 826015946909310976,\n",
       "   u'id_str': u'826015946909310976',\n",
       "   u'in_reply_to_screen_name': None,\n",
       "   u'in_reply_to_status_id': None,\n",
       "   u'in_reply_to_status_id_str': None,\n",
       "   u'in_reply_to_user_id': None,\n",
       "   u'in_reply_to_user_id_str': None,\n",
       "   u'is_quote_status': False,\n",
       "   u'lang': u'en',\n",
       "   u'metadata': {u'iso_language_code': u'en', u'result_type': u'recent'},\n",
       "   u'place': None,\n",
       "   u'possibly_sensitive': False,\n",
       "   u'retweet_count': 1,\n",
       "   u'retweeted': False,\n",
       "   u'retweeted_status': {u'contributors': None,\n",
       "    u'coordinates': None,\n",
       "    u'created_at': u'Mon Jan 30 10:35:03 +0000 2017',\n",
       "    u'entities': {u'hashtags': [{u'indices': [79, 85], u'text': u'tbwer'}],\n",
       "     u'symbols': [],\n",
       "     u'urls': [{u'display_url': u'wer.mx/l/7kl',\n",
       "       u'expanded_url': u'https://wer.mx/l/7kl',\n",
       "       u'indices': [55, 78],\n",
       "       u'url': u'https://t.co/HPOvhkql12'}],\n",
       "     u'user_mentions': []},\n",
       "    u'favorite_count': 1,\n",
       "    u'favorited': False,\n",
       "    u'geo': None,\n",
       "    u'id': 826015864206016512,\n",
       "    u'id_str': u'826015864206016512',\n",
       "    u'in_reply_to_screen_name': None,\n",
       "    u'in_reply_to_status_id': None,\n",
       "    u'in_reply_to_status_id_str': None,\n",
       "    u'in_reply_to_user_id': None,\n",
       "    u'in_reply_to_user_id_str': None,\n",
       "    u'is_quote_status': False,\n",
       "    u'lang': u'en',\n",
       "    u'metadata': {u'iso_language_code': u'en', u'result_type': u'recent'},\n",
       "    u'place': None,\n",
       "    u'possibly_sensitive': False,\n",
       "    u'retweet_count': 1,\n",
       "    u'retweeted': False,\n",
       "    u'source': u'<a href=\"https://www.todosoporte.com\" rel=\"nofollow\">BotElSapientisimo</a>',\n",
       "    u'text': u'140 Machine Learning Formulas - Data Science Central - https://t.co/HPOvhkql12 #tbwer',\n",
       "    u'truncated': False,\n",
       "    u'user': {u'contributors_enabled': False,\n",
       "     u'created_at': u'Sat Jan 02 18:13:14 +0000 2016',\n",
       "     u'default_profile': True,\n",
       "     u'default_profile_image': False,\n",
       "     u'description': u'Sapientisimo',\n",
       "     u'entities': {u'description': {u'urls': []}},\n",
       "     u'favourites_count': 18,\n",
       "     u'follow_request_sent': False,\n",
       "     u'followers_count': 83,\n",
       "     u'following': False,\n",
       "     u'friends_count': 86,\n",
       "     u'geo_enabled': False,\n",
       "     u'has_extended_profile': True,\n",
       "     u'id': 4697768437,\n",
       "     u'id_str': u'4697768437',\n",
       "     u'is_translation_enabled': False,\n",
       "     u'is_translator': False,\n",
       "     u'lang': u'en',\n",
       "     u'listed_count': 6,\n",
       "     u'location': u'Tlajomulco de Z\\xfa\\xf1iga, Jalisco',\n",
       "     u'name': u'El Sapient\\xedsimo',\n",
       "     u'notifications': False,\n",
       "     u'profile_background_color': u'F5F8FA',\n",
       "     u'profile_background_image_url': None,\n",
       "     u'profile_background_image_url_https': None,\n",
       "     u'profile_background_tile': False,\n",
       "     u'profile_banner_url': u'https://pbs.twimg.com/profile_banners/4697768437/1474188893',\n",
       "     u'profile_image_url': u'http://pbs.twimg.com/profile_images/777430620653785088/xZF4bnF3_normal.jpg',\n",
       "     u'profile_image_url_https': u'https://pbs.twimg.com/profile_images/777430620653785088/xZF4bnF3_normal.jpg',\n",
       "     u'profile_link_color': u'1DA1F2',\n",
       "     u'profile_sidebar_border_color': u'C0DEED',\n",
       "     u'profile_sidebar_fill_color': u'DDEEF6',\n",
       "     u'profile_text_color': u'333333',\n",
       "     u'profile_use_background_image': True,\n",
       "     u'protected': False,\n",
       "     u'screen_name': u'elsapientisimo',\n",
       "     u'statuses_count': 1469,\n",
       "     u'time_zone': None,\n",
       "     u'translator_type': u'none',\n",
       "     u'url': None,\n",
       "     u'utc_offset': None,\n",
       "     u'verified': False}},\n",
       "   u'source': u'<a href=\"https://twitter.com/alevergara78\" rel=\"nofollow\">realtimeApp_reactjs</a>',\n",
       "   u'text': u'RT @elsapientisimo: 140 Machine Learning Formulas - Data Science Central - https://t.co/HPOvhkql12 #tbwer',\n",
       "   u'truncated': False,\n",
       "   u'user': {u'contributors_enabled': False,\n",
       "    u'created_at': u'Wed Jan 13 15:46:14 +0000 2010',\n",
       "    u'default_profile': False,\n",
       "    u'default_profile_image': False,\n",
       "    u'description': u'Any fool can write code that a computer can understand. Good programmers write code that humans can understand. Martin Fowler.\\n#BigData  #machinelearning',\n",
       "    u'entities': {u'description': {u'urls': []},\n",
       "     u'url': {u'urls': [{u'display_url': u'cl.linkedin.com/in/alevergara',\n",
       "        u'expanded_url': u'http://cl.linkedin.com/in/alevergara',\n",
       "        u'indices': [0, 23],\n",
       "        u'url': u'https://t.co/7WtxS2cHYx'}]}},\n",
       "    u'favourites_count': 1341,\n",
       "    u'follow_request_sent': False,\n",
       "    u'followers_count': 2426,\n",
       "    u'following': False,\n",
       "    u'friends_count': 702,\n",
       "    u'geo_enabled': True,\n",
       "    u'has_extended_profile': False,\n",
       "    u'id': 104520454,\n",
       "    u'id_str': u'104520454',\n",
       "    u'is_translation_enabled': False,\n",
       "    u'is_translator': False,\n",
       "    u'lang': u'en',\n",
       "    u'listed_count': 3793,\n",
       "    u'location': u'Santiago, Chile',\n",
       "    u'name': u'alejandro vergara',\n",
       "    u'notifications': False,\n",
       "    u'profile_background_color': u'000000',\n",
       "    u'profile_background_image_url': u'http://abs.twimg.com/images/themes/theme1/bg.png',\n",
       "    u'profile_background_image_url_https': u'https://abs.twimg.com/images/themes/theme1/bg.png',\n",
       "    u'profile_background_tile': False,\n",
       "    u'profile_image_url': u'http://pbs.twimg.com/profile_images/477167045772312577/3q1ssMVN_normal.jpeg',\n",
       "    u'profile_image_url_https': u'https://pbs.twimg.com/profile_images/477167045772312577/3q1ssMVN_normal.jpeg',\n",
       "    u'profile_link_color': u'02243B',\n",
       "    u'profile_sidebar_border_color': u'000000',\n",
       "    u'profile_sidebar_fill_color': u'000000',\n",
       "    u'profile_text_color': u'000000',\n",
       "    u'profile_use_background_image': False,\n",
       "    u'protected': False,\n",
       "    u'screen_name': u'alevergara78',\n",
       "    u'statuses_count': 94371,\n",
       "    u'time_zone': u'Santiago',\n",
       "    u'translator_type': u'none',\n",
       "    u'url': u'https://t.co/7WtxS2cHYx',\n",
       "    u'utc_offset': -10800,\n",
       "    u'verified': False}},\n",
       "  {u'contributors': None,\n",
       "   u'coordinates': None,\n",
       "   u'created_at': u'Mon Jan 30 10:35:03 +0000 2017',\n",
       "   u'entities': {u'hashtags': [{u'indices': [79, 85], u'text': u'tbwer'}],\n",
       "    u'symbols': [],\n",
       "    u'urls': [{u'display_url': u'wer.mx/l/7kl',\n",
       "      u'expanded_url': u'https://wer.mx/l/7kl',\n",
       "      u'indices': [55, 78],\n",
       "      u'url': u'https://t.co/HPOvhkql12'}],\n",
       "    u'user_mentions': []},\n",
       "   u'favorite_count': 1,\n",
       "   u'favorited': False,\n",
       "   u'geo': None,\n",
       "   u'id': 826015864206016512,\n",
       "   u'id_str': u'826015864206016512',\n",
       "   u'in_reply_to_screen_name': None,\n",
       "   u'in_reply_to_status_id': None,\n",
       "   u'in_reply_to_status_id_str': None,\n",
       "   u'in_reply_to_user_id': None,\n",
       "   u'in_reply_to_user_id_str': None,\n",
       "   u'is_quote_status': False,\n",
       "   u'lang': u'en',\n",
       "   u'metadata': {u'iso_language_code': u'en', u'result_type': u'recent'},\n",
       "   u'place': None,\n",
       "   u'possibly_sensitive': False,\n",
       "   u'retweet_count': 1,\n",
       "   u'retweeted': False,\n",
       "   u'source': u'<a href=\"https://www.todosoporte.com\" rel=\"nofollow\">BotElSapientisimo</a>',\n",
       "   u'text': u'140 Machine Learning Formulas - Data Science Central - https://t.co/HPOvhkql12 #tbwer',\n",
       "   u'truncated': False,\n",
       "   u'user': {u'contributors_enabled': False,\n",
       "    u'created_at': u'Sat Jan 02 18:13:14 +0000 2016',\n",
       "    u'default_profile': True,\n",
       "    u'default_profile_image': False,\n",
       "    u'description': u'Sapientisimo',\n",
       "    u'entities': {u'description': {u'urls': []}},\n",
       "    u'favourites_count': 18,\n",
       "    u'follow_request_sent': False,\n",
       "    u'followers_count': 83,\n",
       "    u'following': False,\n",
       "    u'friends_count': 86,\n",
       "    u'geo_enabled': False,\n",
       "    u'has_extended_profile': True,\n",
       "    u'id': 4697768437,\n",
       "    u'id_str': u'4697768437',\n",
       "    u'is_translation_enabled': False,\n",
       "    u'is_translator': False,\n",
       "    u'lang': u'en',\n",
       "    u'listed_count': 6,\n",
       "    u'location': u'Tlajomulco de Z\\xfa\\xf1iga, Jalisco',\n",
       "    u'name': u'El Sapient\\xedsimo',\n",
       "    u'notifications': False,\n",
       "    u'profile_background_color': u'F5F8FA',\n",
       "    u'profile_background_image_url': None,\n",
       "    u'profile_background_image_url_https': None,\n",
       "    u'profile_background_tile': False,\n",
       "    u'profile_banner_url': u'https://pbs.twimg.com/profile_banners/4697768437/1474188893',\n",
       "    u'profile_image_url': u'http://pbs.twimg.com/profile_images/777430620653785088/xZF4bnF3_normal.jpg',\n",
       "    u'profile_image_url_https': u'https://pbs.twimg.com/profile_images/777430620653785088/xZF4bnF3_normal.jpg',\n",
       "    u'profile_link_color': u'1DA1F2',\n",
       "    u'profile_sidebar_border_color': u'C0DEED',\n",
       "    u'profile_sidebar_fill_color': u'DDEEF6',\n",
       "    u'profile_text_color': u'333333',\n",
       "    u'profile_use_background_image': True,\n",
       "    u'protected': False,\n",
       "    u'screen_name': u'elsapientisimo',\n",
       "    u'statuses_count': 1469,\n",
       "    u'time_zone': None,\n",
       "    u'translator_type': u'none',\n",
       "    u'url': None,\n",
       "    u'utc_offset': None,\n",
       "    u'verified': False}},\n",
       "  {u'contributors': None,\n",
       "   u'coordinates': None,\n",
       "   u'created_at': u'Mon Jan 30 10:33:01 +0000 2017',\n",
       "   u'entities': {u'hashtags': [{u'indices': [18, 27], u'text': u'Security'},\n",
       "     {u'indices': [51, 63], u'text': u'DataScience'},\n",
       "     {u'indices': [75, 89], u'text': u'CyberSecurity'},\n",
       "     {u'indices': [116, 120], u'text': u'CIO'},\n",
       "     {u'indices': [121, 129], u'text': u'BigData'}],\n",
       "    u'symbols': [],\n",
       "    u'urls': [{u'display_url': u'techcrunch.com/2017/01/24/wha\\u2026',\n",
       "      u'expanded_url': u'https://techcrunch.com/2017/01/24/what-your-security-scientists-can-learn-from-your-data-scientists-to-improve-cybersecurity/',\n",
       "      u'indices': [90, 113],\n",
       "      u'url': u'https://t.co/heEhqXeqdQ'}],\n",
       "    u'user_mentions': [{u'id': 3148395570,\n",
       "      u'id_str': u'3148395570',\n",
       "      u'indices': [3, 16],\n",
       "      u'name': u'OSvC Tech Support',\n",
       "      u'screen_name': u'OSVC_Support'}]},\n",
       "   u'favorite_count': 0,\n",
       "   u'favorited': False,\n",
       "   u'geo': None,\n",
       "   u'id': 826015354644230145,\n",
       "   u'id_str': u'826015354644230145',\n",
       "   u'in_reply_to_screen_name': None,\n",
       "   u'in_reply_to_status_id': None,\n",
       "   u'in_reply_to_status_id_str': None,\n",
       "   u'in_reply_to_user_id': None,\n",
       "   u'in_reply_to_user_id_str': None,\n",
       "   u'is_quote_status': False,\n",
       "   u'lang': u'en',\n",
       "   u'metadata': {u'iso_language_code': u'en', u'result_type': u'recent'},\n",
       "   u'place': None,\n",
       "   u'possibly_sensitive': False,\n",
       "   u'retweet_count': 5,\n",
       "   u'retweeted': False,\n",
       "   u'retweeted_status': {u'contributors': None,\n",
       "    u'coordinates': None,\n",
       "    u'created_at': u'Mon Jan 30 10:10:10 +0000 2017',\n",
       "    u'entities': {u'hashtags': [{u'indices': [0, 9], u'text': u'Security'},\n",
       "      {u'indices': [33, 45], u'text': u'DataScience'},\n",
       "      {u'indices': [57, 71], u'text': u'CyberSecurity'},\n",
       "      {u'indices': [98, 102], u'text': u'CIO'},\n",
       "      {u'indices': [103, 111], u'text': u'BigData'}],\n",
       "     u'symbols': [],\n",
       "     u'urls': [{u'display_url': u'techcrunch.com/2017/01/24/wha\\u2026',\n",
       "       u'expanded_url': u'https://techcrunch.com/2017/01/24/what-your-security-scientists-can-learn-from-your-data-scientists-to-improve-cybersecurity/',\n",
       "       u'indices': [72, 95],\n",
       "       u'url': u'https://t.co/heEhqXeqdQ'},\n",
       "      {u'display_url': u'twitter.com/i/web/status/8\\u2026',\n",
       "       u'expanded_url': u'https://twitter.com/i/web/status/826009602030329856',\n",
       "       u'indices': [113, 136],\n",
       "       u'url': u'https://t.co/PjR0DJBXAu'}],\n",
       "     u'user_mentions': []},\n",
       "    u'favorite_count': 2,\n",
       "    u'favorited': False,\n",
       "    u'geo': None,\n",
       "    u'id': 826009602030329856,\n",
       "    u'id_str': u'826009602030329856',\n",
       "    u'in_reply_to_screen_name': None,\n",
       "    u'in_reply_to_status_id': None,\n",
       "    u'in_reply_to_status_id_str': None,\n",
       "    u'in_reply_to_user_id': None,\n",
       "    u'in_reply_to_user_id_str': None,\n",
       "    u'is_quote_status': False,\n",
       "    u'lang': u'en',\n",
       "    u'metadata': {u'iso_language_code': u'en', u'result_type': u'recent'},\n",
       "    u'place': None,\n",
       "    u'possibly_sensitive': False,\n",
       "    u'retweet_count': 5,\n",
       "    u'retweeted': False,\n",
       "    u'source': u'<a href=\"http://www.hootsuite.com\" rel=\"nofollow\">Hootsuite</a>',\n",
       "    u'text': u'#Security Science Can Learn From #DataScience To Improve #CyberSecurity https://t.co/heEhqXeqdQ \\u2026 #CIO #BigData\\u2026 https://t.co/PjR0DJBXAu',\n",
       "    u'truncated': True,\n",
       "    u'user': {u'contributors_enabled': False,\n",
       "     u'created_at': u'Fri Apr 10 17:27:13 +0000 2015',\n",
       "     u'default_profile': False,\n",
       "     u'default_profile_image': False,\n",
       "     u'description': u'@OracleServCloud Tech Support. DM w/issues. Tweeting about #CustServ #CX #Leadership #SaaS #BigData #BI #CRM #CloudComputing #CCTR #CMO',\n",
       "     u'entities': {u'description': {u'urls': []},\n",
       "      u'url': {u'urls': [{u'display_url': u'cx.rightnow.com/app/blog/suppo\\u2026',\n",
       "         u'expanded_url': u'https://cx.rightnow.com/app/blog/support_experience',\n",
       "         u'indices': [0, 23],\n",
       "         u'url': u'https://t.co/NQpX2J6ids'}]}},\n",
       "     u'favourites_count': 1162,\n",
       "     u'follow_request_sent': False,\n",
       "     u'followers_count': 2807,\n",
       "     u'following': False,\n",
       "     u'friends_count': 2652,\n",
       "     u'geo_enabled': False,\n",
       "     u'has_extended_profile': False,\n",
       "     u'id': 3148395570,\n",
       "     u'id_str': u'3148395570',\n",
       "     u'is_translation_enabled': False,\n",
       "     u'is_translator': False,\n",
       "     u'lang': u'en',\n",
       "     u'listed_count': 1341,\n",
       "     u'location': u'Bozeman, MT, Worldwide',\n",
       "     u'name': u'OSvC Tech Support',\n",
       "     u'notifications': False,\n",
       "     u'profile_background_color': u'000000',\n",
       "     u'profile_background_image_url': u'http://abs.twimg.com/images/themes/theme1/bg.png',\n",
       "     u'profile_background_image_url_https': u'https://abs.twimg.com/images/themes/theme1/bg.png',\n",
       "     u'profile_background_tile': False,\n",
       "     u'profile_banner_url': u'https://pbs.twimg.com/profile_banners/3148395570/1429543268',\n",
       "     u'profile_image_url': u'http://pbs.twimg.com/profile_images/586663044836536320/Pv6AY1vP_normal.jpg',\n",
       "     u'profile_image_url_https': u'https://pbs.twimg.com/profile_images/586663044836536320/Pv6AY1vP_normal.jpg',\n",
       "     u'profile_link_color': u'DD2E44',\n",
       "     u'profile_sidebar_border_color': u'000000',\n",
       "     u'profile_sidebar_fill_color': u'000000',\n",
       "     u'profile_text_color': u'000000',\n",
       "     u'profile_use_background_image': False,\n",
       "     u'protected': False,\n",
       "     u'screen_name': u'OSVC_Support',\n",
       "     u'statuses_count': 2940,\n",
       "     u'time_zone': u'Mountain Time (US & Canada)',\n",
       "     u'translator_type': u'none',\n",
       "     u'url': u'https://t.co/NQpX2J6ids',\n",
       "     u'utc_offset': -25200,\n",
       "     u'verified': False}},\n",
       "   u'source': u'<a href=\"http://www.kyply.it\" rel=\"nofollow\">kyply_bot</a>',\n",
       "   u'text': u'RT @OSVC_Support: #Security Science Can Learn From #DataScience To Improve #CyberSecurity https://t.co/heEhqXeqdQ \\u2026 #CIO #BigData #deeplear\\u2026',\n",
       "   u'truncated': False,\n",
       "   u'user': {u'contributors_enabled': False,\n",
       "    u'created_at': u'Fri Feb 26 09:23:19 +0000 2016',\n",
       "    u'default_profile': True,\n",
       "    u'default_profile_image': False,\n",
       "    u'description': u'Real Time Experience 4 Bigdata Events',\n",
       "    u'entities': {u'description': {u'urls': []},\n",
       "     u'url': {u'urls': [{u'display_url': u'instantmedianalysis.com',\n",
       "        u'expanded_url': u'http://www.instantmedianalysis.com',\n",
       "        u'indices': [0, 23],\n",
       "        u'url': u'https://t.co/ucNpGdPpsW'}]}},\n",
       "    u'favourites_count': 83,\n",
       "    u'follow_request_sent': False,\n",
       "    u'followers_count': 671,\n",
       "    u'following': False,\n",
       "    u'friends_count': 140,\n",
       "    u'geo_enabled': False,\n",
       "    u'has_extended_profile': False,\n",
       "    u'id': 703148323885023233,\n",
       "    u'id_str': u'703148323885023233',\n",
       "    u'is_translation_enabled': False,\n",
       "    u'is_translator': False,\n",
       "    u'lang': u'en',\n",
       "    u'listed_count': 2037,\n",
       "    u'location': u'Austin, TX',\n",
       "    u'name': u'InstantMediaAnalyzer',\n",
       "    u'notifications': False,\n",
       "    u'profile_background_color': u'F5F8FA',\n",
       "    u'profile_background_image_url': None,\n",
       "    u'profile_background_image_url_https': None,\n",
       "    u'profile_background_tile': False,\n",
       "    u'profile_banner_url': u'https://pbs.twimg.com/profile_banners/703148323885023233/1456582847',\n",
       "    u'profile_image_url': u'http://pbs.twimg.com/profile_images/770972217198931968/szPUW6RT_normal.jpg',\n",
       "    u'profile_image_url_https': u'https://pbs.twimg.com/profile_images/770972217198931968/szPUW6RT_normal.jpg',\n",
       "    u'profile_link_color': u'1DA1F2',\n",
       "    u'profile_sidebar_border_color': u'C0DEED',\n",
       "    u'profile_sidebar_fill_color': u'DDEEF6',\n",
       "    u'profile_text_color': u'333333',\n",
       "    u'profile_use_background_image': True,\n",
       "    u'protected': False,\n",
       "    u'screen_name': u'InstantMediaAna',\n",
       "    u'statuses_count': 15746,\n",
       "    u'time_zone': u'Pacific Time (US & Canada)',\n",
       "    u'translator_type': u'none',\n",
       "    u'url': u'https://t.co/ucNpGdPpsW',\n",
       "    u'utc_offset': -28800,\n",
       "    u'verified': False}},\n",
       "  {u'contributors': None,\n",
       "   u'coordinates': None,\n",
       "   u'created_at': u'Mon Jan 30 10:31:46 +0000 2017',\n",
       "   u'entities': {u'hashtags': [],\n",
       "    u'symbols': [],\n",
       "    u'urls': [{u'display_url': u'datanami.com/2017/01/23/dat\\u2026',\n",
       "      u'expanded_url': u'https://www.datanami.com/2017/01/23/data-science-platforms-difference-makers/',\n",
       "      u'indices': [82, 105],\n",
       "      u'url': u'https://t.co/iVplnwlMSH'}],\n",
       "    u'user_mentions': [{u'id': 16528607,\n",
       "      u'id_str': u'16528607',\n",
       "      u'indices': [73, 81],\n",
       "      u'name': u'Alteryx',\n",
       "      u'screen_name': u'alteryx'},\n",
       "     {u'id': 317632729,\n",
       "      u'id_str': u'317632729',\n",
       "      u'indices': [110, 119],\n",
       "      u'name': u'Datanami',\n",
       "      u'screen_name': u'datanami'}]},\n",
       "   u'favorite_count': 1,\n",
       "   u'favorited': False,\n",
       "   u'geo': None,\n",
       "   u'id': 826015038393708544,\n",
       "   u'id_str': u'826015038393708544',\n",
       "   u'in_reply_to_screen_name': None,\n",
       "   u'in_reply_to_status_id': None,\n",
       "   u'in_reply_to_status_id_str': None,\n",
       "   u'in_reply_to_user_id': None,\n",
       "   u'in_reply_to_user_id_str': None,\n",
       "   u'is_quote_status': False,\n",
       "   u'lang': u'en',\n",
       "   u'metadata': {u'iso_language_code': u'en', u'result_type': u'recent'},\n",
       "   u'place': None,\n",
       "   u'possibly_sensitive': False,\n",
       "   u'retweet_count': 0,\n",
       "   u'retweeted': False,\n",
       "   u'source': u'<a href=\"http://twitter.com\" rel=\"nofollow\">Twitter Web Client</a>',\n",
       "   u'text': u'\"Data Science Platforms Seen as Difference-Makers\" - new reasearch feat. @alteryx https://t.co/iVplnwlMSH via @datanami',\n",
       "   u'truncated': False,\n",
       "   u'user': {u'contributors_enabled': False,\n",
       "    u'created_at': u'Tue Jul 28 14:07:06 +0000 2009',\n",
       "    u'default_profile': False,\n",
       "    u'default_profile_image': False,\n",
       "    u'description': u'EMEA marketing lead for @Alteryx, the leader in self-service data analytics. Proud Milanese expat in London, and travel addict. Swimming keeps me sane.',\n",
       "    u'entities': {u'description': {u'urls': []},\n",
       "     u'url': {u'urls': [{u'display_url': u'uk.linkedin.com/in/chiarapensa\\u2026',\n",
       "        u'expanded_url': u'https://uk.linkedin.com/in/chiarapensato',\n",
       "        u'indices': [0, 23],\n",
       "        u'url': u'https://t.co/zCR6y6sIF5'}]}},\n",
       "    u'favourites_count': 312,\n",
       "    u'follow_request_sent': False,\n",
       "    u'followers_count': 451,\n",
       "    u'following': False,\n",
       "    u'friends_count': 320,\n",
       "    u'geo_enabled': True,\n",
       "    u'has_extended_profile': False,\n",
       "    u'id': 60912017,\n",
       "    u'id_str': u'60912017',\n",
       "    u'is_translation_enabled': False,\n",
       "    u'is_translator': False,\n",
       "    u'lang': u'en',\n",
       "    u'listed_count': 309,\n",
       "    u'location': u'London',\n",
       "    u'name': u'Chiara Pensato',\n",
       "    u'notifications': False,\n",
       "    u'profile_background_color': u'1A1B1F',\n",
       "    u'profile_background_image_url': u'http://abs.twimg.com/images/themes/theme9/bg.gif',\n",
       "    u'profile_background_image_url_https': u'https://abs.twimg.com/images/themes/theme9/bg.gif',\n",
       "    u'profile_background_tile': False,\n",
       "    u'profile_banner_url': u'https://pbs.twimg.com/profile_banners/60912017/1362936204',\n",
       "    u'profile_image_url': u'http://pbs.twimg.com/profile_images/688790631595032576/GpTaRxkt_normal.jpg',\n",
       "    u'profile_image_url_https': u'https://pbs.twimg.com/profile_images/688790631595032576/GpTaRxkt_normal.jpg',\n",
       "    u'profile_link_color': u'2FC2EF',\n",
       "    u'profile_sidebar_border_color': u'181A1E',\n",
       "    u'profile_sidebar_fill_color': u'252429',\n",
       "    u'profile_text_color': u'666666',\n",
       "    u'profile_use_background_image': True,\n",
       "    u'protected': False,\n",
       "    u'screen_name': u'ChiaraPensato',\n",
       "    u'statuses_count': 6485,\n",
       "    u'time_zone': u'London',\n",
       "    u'translator_type': u'none',\n",
       "    u'url': u'https://t.co/zCR6y6sIF5',\n",
       "    u'utc_offset': 0,\n",
       "    u'verified': False}}]}"
      ]
     },
     "execution_count": 74,
     "metadata": {},
     "output_type": "execute_result"
    }
   ],
   "source": [
    "search_response.json()"
   ]
  },
  {
   "cell_type": "code",
   "execution_count": 75,
   "metadata": {
    "collapsed": true
   },
   "outputs": [],
   "source": [
    "re_json = search_response.json()"
   ]
  },
  {
   "cell_type": "code",
   "execution_count": 80,
   "metadata": {
    "collapsed": false
   },
   "outputs": [
    {
     "name": "stdout",
     "output_type": "stream",
     "text": [
      "#bigdata\n",
      "#BigDataAnalytics \n",
      "Watch the video to see how  data science is  to influence voter behaviour. Is this how… https://t.co/F5X3C6fejg\n"
     ]
    }
   ],
   "source": [
    "first_status = re_json.get('statuses', [{}])[0]\n",
    "print first_status['text']"
   ]
  },
  {
   "cell_type": "code",
   "execution_count": 82,
   "metadata": {
    "collapsed": true
   },
   "outputs": [
    {
     "data": {
      "text/plain": [
       "[u'contributors',\n",
       " u'coordinates',\n",
       " u'created_at',\n",
       " u'entities',\n",
       " u'favorite_count',\n",
       " u'favorited',\n",
       " u'geo',\n",
       " u'id',\n",
       " u'id_str',\n",
       " u'in_reply_to_screen_name',\n",
       " u'in_reply_to_status_id',\n",
       " u'in_reply_to_status_id_str',\n",
       " u'in_reply_to_user_id',\n",
       " u'in_reply_to_user_id_str',\n",
       " u'is_quote_status',\n",
       " u'lang',\n",
       " u'metadata',\n",
       " u'place',\n",
       " u'possibly_sensitive',\n",
       " u'quoted_status',\n",
       " u'quoted_status_id',\n",
       " u'quoted_status_id_str',\n",
       " u'retweet_count',\n",
       " u'retweeted',\n",
       " u'source',\n",
       " u'text',\n",
       " u'truncated',\n",
       " u'user']"
      ]
     },
     "execution_count": 82,
     "metadata": {},
     "output_type": "execute_result"
    }
   ],
   "source": [
    "sorted(first_status.keys())"
   ]
  },
  {
   "cell_type": "code",
   "execution_count": 83,
   "metadata": {
    "collapsed": true
   },
   "outputs": [
    {
     "data": {
      "text/plain": [
       "[u'follow_request_sent',\n",
       " u'has_extended_profile',\n",
       " u'profile_use_background_image',\n",
       " u'default_profile_image',\n",
       " u'id',\n",
       " u'profile_background_image_url_https',\n",
       " u'verified',\n",
       " u'translator_type',\n",
       " u'profile_text_color',\n",
       " u'profile_image_url_https',\n",
       " u'profile_sidebar_fill_color',\n",
       " u'entities',\n",
       " u'followers_count',\n",
       " u'profile_sidebar_border_color',\n",
       " u'id_str',\n",
       " u'profile_background_color',\n",
       " u'listed_count',\n",
       " u'is_translation_enabled',\n",
       " u'utc_offset',\n",
       " u'statuses_count',\n",
       " u'description',\n",
       " u'friends_count',\n",
       " u'location',\n",
       " u'profile_link_color',\n",
       " u'profile_image_url',\n",
       " u'following',\n",
       " u'geo_enabled',\n",
       " u'profile_banner_url',\n",
       " u'profile_background_image_url',\n",
       " u'screen_name',\n",
       " u'lang',\n",
       " u'profile_background_tile',\n",
       " u'favourites_count',\n",
       " u'name',\n",
       " u'notifications',\n",
       " u'url',\n",
       " u'created_at',\n",
       " u'contributors_enabled',\n",
       " u'time_zone',\n",
       " u'protected',\n",
       " u'default_profile',\n",
       " u'is_translator']"
      ]
     },
     "execution_count": 83,
     "metadata": {},
     "output_type": "execute_result"
    }
   ],
   "source": [
    "first_status['user'].keys()"
   ]
  },
  {
   "cell_type": "code",
   "execution_count": 78,
   "metadata": {
    "collapsed": false
   },
   "outputs": [
    {
     "data": {
      "text/plain": [
       "{u'contributors': None,\n",
       " u'coordinates': None,\n",
       " u'created_at': u'Mon Jan 30 10:41:16 +0000 2017',\n",
       " u'entities': {u'hashtags': [{u'indices': [0, 8], u'text': u'bigdata'},\n",
       "   {u'indices': [9, 26], u'text': u'BigDataAnalytics'}],\n",
       "  u'symbols': [],\n",
       "  u'urls': [{u'display_url': u'twitter.com/i/web/status/8\\u2026',\n",
       "    u'expanded_url': u'https://twitter.com/i/web/status/826017430614974464',\n",
       "    u'indices': [116, 139],\n",
       "    u'url': u'https://t.co/F5X3C6fejg'}],\n",
       "  u'user_mentions': []},\n",
       " u'favorite_count': 0,\n",
       " u'favorited': False,\n",
       " u'geo': None,\n",
       " u'id': 826017430614974464,\n",
       " u'id_str': u'826017430614974464',\n",
       " u'in_reply_to_screen_name': None,\n",
       " u'in_reply_to_status_id': None,\n",
       " u'in_reply_to_status_id_str': None,\n",
       " u'in_reply_to_user_id': None,\n",
       " u'in_reply_to_user_id_str': None,\n",
       " u'is_quote_status': True,\n",
       " u'lang': u'en',\n",
       " u'metadata': {u'iso_language_code': u'en', u'result_type': u'recent'},\n",
       " u'place': None,\n",
       " u'possibly_sensitive': False,\n",
       " u'quoted_status': {u'contributors': None,\n",
       "  u'coordinates': None,\n",
       "  u'created_at': u'Mon Jan 30 10:36:47 +0000 2017',\n",
       "  u'entities': {u'hashtags': [],\n",
       "   u'symbols': [],\n",
       "   u'urls': [{u'display_url': u'tinyurl.com/jbq2syx',\n",
       "     u'expanded_url': u'http://tinyurl.com/jbq2syx',\n",
       "     u'indices': [116, 139],\n",
       "     u'url': u'https://t.co/D8qYA3dLmu'}],\n",
       "   u'user_mentions': [{u'id': 2768830619,\n",
       "     u'id_str': u'2768830619',\n",
       "     u'indices': [0, 8],\n",
       "     u'name': u'J.J. Patrick',\n",
       "     u'screen_name': u'J_amesp'},\n",
       "    {u'id': 12610772,\n",
       "     u'id_str': u'12610772',\n",
       "     u'indices': [9, 24],\n",
       "     u'name': u'Remittance Girl',\n",
       "     u'screen_name': u'RemittanceGirl'}]},\n",
       "  u'favorite_count': 0,\n",
       "  u'favorited': False,\n",
       "  u'geo': None,\n",
       "  u'id': 826016302091350017,\n",
       "  u'id_str': u'826016302091350017',\n",
       "  u'in_reply_to_screen_name': u'J_amesp',\n",
       "  u'in_reply_to_status_id': None,\n",
       "  u'in_reply_to_status_id_str': None,\n",
       "  u'in_reply_to_user_id': 2768830619,\n",
       "  u'in_reply_to_user_id_str': u'2768830619',\n",
       "  u'is_quote_status': False,\n",
       "  u'lang': u'en',\n",
       "  u'metadata': {u'iso_language_code': u'en', u'result_type': u'recent'},\n",
       "  u'place': None,\n",
       "  u'possibly_sensitive': False,\n",
       "  u'retweet_count': 2,\n",
       "  u'retweeted': False,\n",
       "  u'source': u'<a href=\"http://twitter.com\" rel=\"nofollow\">Twitter Web Client</a>',\n",
       "  u'text': u'@J_amesp @RemittanceGirl  In 11 minutes, this video calmly and proudlly explains  how to manipulate American voters https://t.co/D8qYA3dLmu',\n",
       "  u'truncated': False,\n",
       "  u'user': {u'contributors_enabled': False,\n",
       "   u'created_at': u'Wed Apr 13 08:39:56 +0000 2011',\n",
       "   u'default_profile': True,\n",
       "   u'default_profile_image': False,\n",
       "   u'description': u'Addicted to reading  and writing fiction.  Angered by post-fact, hate-based politics. Professional interest in A.I.',\n",
       "   u'entities': {u'description': {u'urls': []},\n",
       "    u'url': {u'urls': [{u'display_url': u'mikefinnsfiction.wordpress.com',\n",
       "       u'expanded_url': u'http://mikefinnsfiction.wordpress.com/',\n",
       "       u'indices': [0, 22],\n",
       "       u'url': u'http://t.co/Gtdjhw1JZI'}]}},\n",
       "   u'favourites_count': 199,\n",
       "   u'follow_request_sent': False,\n",
       "   u'followers_count': 39,\n",
       "   u'following': False,\n",
       "   u'friends_count': 57,\n",
       "   u'geo_enabled': False,\n",
       "   u'has_extended_profile': False,\n",
       "   u'id': 281434170,\n",
       "   u'id_str': u'281434170',\n",
       "   u'is_translation_enabled': False,\n",
       "   u'is_translator': False,\n",
       "   u'lang': u'en',\n",
       "   u'listed_count': 6,\n",
       "   u'location': u'Switzerland',\n",
       "   u'name': u'Mike Finn',\n",
       "   u'notifications': False,\n",
       "   u'profile_background_color': u'C0DEED',\n",
       "   u'profile_background_image_url': u'http://abs.twimg.com/images/themes/theme1/bg.png',\n",
       "   u'profile_background_image_url_https': u'https://abs.twimg.com/images/themes/theme1/bg.png',\n",
       "   u'profile_background_tile': False,\n",
       "   u'profile_banner_url': u'https://pbs.twimg.com/profile_banners/281434170/1485723750',\n",
       "   u'profile_image_url': u'http://pbs.twimg.com/profile_images/824051625987866624/EoZ-4jTt_normal.jpg',\n",
       "   u'profile_image_url_https': u'https://pbs.twimg.com/profile_images/824051625987866624/EoZ-4jTt_normal.jpg',\n",
       "   u'profile_link_color': u'1DA1F2',\n",
       "   u'profile_sidebar_border_color': u'C0DEED',\n",
       "   u'profile_sidebar_fill_color': u'DDEEF6',\n",
       "   u'profile_text_color': u'333333',\n",
       "   u'profile_use_background_image': True,\n",
       "   u'protected': False,\n",
       "   u'screen_name': u'Finnsfiction',\n",
       "   u'statuses_count': 683,\n",
       "   u'time_zone': u'Pacific Time (US & Canada)',\n",
       "   u'translator_type': u'none',\n",
       "   u'url': u'http://t.co/Gtdjhw1JZI',\n",
       "   u'utc_offset': -28800,\n",
       "   u'verified': False}},\n",
       " u'quoted_status_id': 826016302091350017,\n",
       " u'quoted_status_id_str': u'826016302091350017',\n",
       " u'retweet_count': 0,\n",
       " u'retweeted': False,\n",
       " u'source': u'<a href=\"http://twitter.com\" rel=\"nofollow\">Twitter Web Client</a>',\n",
       " u'text': u'#bigdata\\n#BigDataAnalytics \\nWatch the video to see how  data science is  to influence voter behaviour. Is this how\\u2026 https://t.co/F5X3C6fejg',\n",
       " u'truncated': True,\n",
       " u'user': {u'contributors_enabled': False,\n",
       "  u'created_at': u'Wed Apr 13 08:39:56 +0000 2011',\n",
       "  u'default_profile': True,\n",
       "  u'default_profile_image': False,\n",
       "  u'description': u'Addicted to reading  and writing fiction.  Angered by post-fact, hate-based politics. Professional interest in A.I.',\n",
       "  u'entities': {u'description': {u'urls': []},\n",
       "   u'url': {u'urls': [{u'display_url': u'mikefinnsfiction.wordpress.com',\n",
       "      u'expanded_url': u'http://mikefinnsfiction.wordpress.com/',\n",
       "      u'indices': [0, 22],\n",
       "      u'url': u'http://t.co/Gtdjhw1JZI'}]}},\n",
       "  u'favourites_count': 199,\n",
       "  u'follow_request_sent': False,\n",
       "  u'followers_count': 39,\n",
       "  u'following': False,\n",
       "  u'friends_count': 57,\n",
       "  u'geo_enabled': False,\n",
       "  u'has_extended_profile': False,\n",
       "  u'id': 281434170,\n",
       "  u'id_str': u'281434170',\n",
       "  u'is_translation_enabled': False,\n",
       "  u'is_translator': False,\n",
       "  u'lang': u'en',\n",
       "  u'listed_count': 6,\n",
       "  u'location': u'Switzerland',\n",
       "  u'name': u'Mike Finn',\n",
       "  u'notifications': False,\n",
       "  u'profile_background_color': u'C0DEED',\n",
       "  u'profile_background_image_url': u'http://abs.twimg.com/images/themes/theme1/bg.png',\n",
       "  u'profile_background_image_url_https': u'https://abs.twimg.com/images/themes/theme1/bg.png',\n",
       "  u'profile_background_tile': False,\n",
       "  u'profile_banner_url': u'https://pbs.twimg.com/profile_banners/281434170/1485723750',\n",
       "  u'profile_image_url': u'http://pbs.twimg.com/profile_images/824051625987866624/EoZ-4jTt_normal.jpg',\n",
       "  u'profile_image_url_https': u'https://pbs.twimg.com/profile_images/824051625987866624/EoZ-4jTt_normal.jpg',\n",
       "  u'profile_link_color': u'1DA1F2',\n",
       "  u'profile_sidebar_border_color': u'C0DEED',\n",
       "  u'profile_sidebar_fill_color': u'DDEEF6',\n",
       "  u'profile_text_color': u'333333',\n",
       "  u'profile_use_background_image': True,\n",
       "  u'protected': False,\n",
       "  u'screen_name': u'Finnsfiction',\n",
       "  u'statuses_count': 683,\n",
       "  u'time_zone': u'Pacific Time (US & Canada)',\n",
       "  u'translator_type': u'none',\n",
       "  u'url': u'http://t.co/Gtdjhw1JZI',\n",
       "  u'utc_offset': -28800,\n",
       "  u'verified': False}}"
      ]
     },
     "execution_count": 78,
     "metadata": {},
     "output_type": "execute_result"
    }
   ],
   "source": [
    "# okay: re_json['statuses']\n",
    "re_json.get('statuses', [{}])[0] #advanced"
   ]
  },
  {
   "cell_type": "markdown",
   "metadata": {},
   "source": [
    "## Streaming API"
   ]
  },
  {
   "cell_type": "code",
   "execution_count": 84,
   "metadata": {
    "collapsed": true
   },
   "outputs": [],
   "source": [
    "from itertools import islice"
   ]
  },
  {
   "cell_type": "code",
   "execution_count": 105,
   "metadata": {
    "collapsed": false
   },
   "outputs": [],
   "source": [
    "r = requests.post('https://stream.twitter.com/1.1/statuses/filter.json',\n",
    "                 params = {'track': '#data'},\n",
    "                 auth=auth,\n",
    "                 stream=True) # important"
   ]
  },
  {
   "cell_type": "code",
   "execution_count": 106,
   "metadata": {
    "collapsed": false
   },
   "outputs": [],
   "source": [
    "tweets = r.iter_lines()"
   ]
  },
  {
   "cell_type": "code",
   "execution_count": 93,
   "metadata": {
    "collapsed": true
   },
   "outputs": [],
   "source": [
    "import json"
   ]
  },
  {
   "cell_type": "code",
   "execution_count": 107,
   "metadata": {
    "collapsed": false
   },
   "outputs": [
    {
     "name": "stdout",
     "output_type": "stream",
     "text": [
      "Join us on 2nd Febru\n",
      "#Secure your #inform\n",
      "Be Remarkable The Fo\n",
      "RT @MediaNetwerk: [#\n",
      "Timeout.\n",
      "RT @BPTeC_Kenya: An \n",
      "Timeout.\n",
      "[H-NYC] RT ygaudry: \n",
      "How To Build A Great\n",
      "8 #big #data predict\n",
      "Timeout.\n",
      "Timeout.\n",
      "RT BPTeC_Kenya: An i\n",
      "Timeout.\n",
      "RT @DeepLearn007: Ma\n",
      "RT @Seb_Marchipont: \n",
      "Timeout.\n",
      "@DeadMasterMusic Ala\n",
      "Timeout.\n",
      "RT @Seb_Marchipont: \n"
     ]
    }
   ],
   "source": [
    "for tweet in islice(tweets, 20):\n",
    "    if tweet != None:\n",
    "        print json.loads(tweet)['text'][:20]\n",
    "    else:\n",
    "        print 'Timeout.'"
   ]
  },
  {
   "cell_type": "code",
   "execution_count": 108,
   "metadata": {
    "collapsed": true
   },
   "outputs": [],
   "source": [
    "r.close()"
   ]
  },
  {
   "cell_type": "code",
   "execution_count": 116,
   "metadata": {
    "collapsed": false
   },
   "outputs": [
    {
     "name": "stdout",
     "output_type": "stream",
     "text": [
      "Hi, Håvard!\n"
     ]
    }
   ],
   "source": [
    "# student question: What about the u in u'string'?\n",
    "print u'Hi, Håvard!'"
   ]
  },
  {
   "cell_type": "code",
   "execution_count": 117,
   "metadata": {
    "collapsed": false
   },
   "outputs": [
    {
     "data": {
      "text/plain": [
       "u'Hi, H\\xe5vard!'"
      ]
     },
     "execution_count": 117,
     "metadata": {},
     "output_type": "execute_result"
    }
   ],
   "source": [
    "u'Hi, Håvard!' # good"
   ]
  },
  {
   "cell_type": "code",
   "execution_count": 119,
   "metadata": {
    "collapsed": false
   },
   "outputs": [
    {
     "data": {
      "text/plain": [
       "'Hi, H\\xc3\\xa5vard!'"
      ]
     },
     "execution_count": 119,
     "metadata": {},
     "output_type": "execute_result"
    }
   ],
   "source": [
    "'Hi, Håvard!' # less good!"
   ]
  },
  {
   "cell_type": "code",
   "execution_count": 197,
   "metadata": {
    "collapsed": false
   },
   "outputs": [
    {
     "data": {
      "text/plain": [
       "unicode"
      ]
     },
     "execution_count": 197,
     "metadata": {},
     "output_type": "execute_result"
    }
   ],
   "source": [
    "type(u'')"
   ]
  },
  {
   "cell_type": "code",
   "execution_count": 198,
   "metadata": {
    "collapsed": false
   },
   "outputs": [
    {
     "data": {
      "text/plain": [
       "str"
      ]
     },
     "execution_count": 198,
     "metadata": {},
     "output_type": "execute_result"
    }
   ],
   "source": [
    "type('')"
   ]
  },
  {
   "cell_type": "markdown",
   "metadata": {},
   "source": [
    "# Storing things\n",
    "\n",
    "## Files (e.g. .csv)\n",
    "\n",
    "- Don't scale (could use HDFS)\n",
    "- What about JSON?\n",
    "\n",
    "## Databases\n",
    "\n",
    "- SQL\n",
    "- NoSQL"
   ]
  },
  {
   "cell_type": "markdown",
   "metadata": {},
   "source": [
    "# MongoDB\n",
    "\n",
    "- Windows: Download 'Community edition'\n",
    "- MAC\n",
    "    brew update\n",
    "    brew install mongodb\n",
    "    brew services start mongobd\n",
    "- Linux\n",
    "    sudo apt install mongodb\n",
    "    \n",
    "Plus:\n",
    "\n",
    "    pip install pymongo"
   ]
  },
  {
   "cell_type": "markdown",
   "metadata": {},
   "source": [
    "Mongobdb stores BSON."
   ]
  },
  {
   "cell_type": "code",
   "execution_count": 11,
   "metadata": {
    "collapsed": false
   },
   "outputs": [],
   "source": [
    "from datetime import datetime"
   ]
  },
  {
   "cell_type": "code",
   "execution_count": 4,
   "metadata": {
    "collapsed": false
   },
   "outputs": [],
   "source": [
    "from pymongo import MongoClient"
   ]
  },
  {
   "cell_type": "code",
   "execution_count": 5,
   "metadata": {
    "collapsed": false
   },
   "outputs": [
    {
     "data": {
      "text/plain": [
       "MongoClient(host=['localhost:27017'], document_class=dict, tz_aware=False, connect=True)"
      ]
     },
     "execution_count": 5,
     "metadata": {},
     "output_type": "execute_result"
    }
   ],
   "source": [
    "MongoClient('localhost', 27017)"
   ]
  },
  {
   "cell_type": "code",
   "execution_count": 6,
   "metadata": {
    "collapsed": false
   },
   "outputs": [
    {
     "data": {
      "text/plain": [
       "MongoClient(host=['localhost:27017'], document_class=dict, tz_aware=False, connect=True)"
      ]
     },
     "execution_count": 6,
     "metadata": {},
     "output_type": "execute_result"
    }
   ],
   "source": [
    "MongoClient()"
   ]
  },
  {
   "cell_type": "code",
   "execution_count": 7,
   "metadata": {
    "collapsed": true
   },
   "outputs": [],
   "source": [
    "# stkinf - Database\n",
    "# music - Collection\n",
    "c = MongoClient().sb1.music"
   ]
  },
  {
   "cell_type": "code",
   "execution_count": 8,
   "metadata": {
    "collapsed": false
   },
   "outputs": [
    {
     "data": {
      "text/plain": [
       "Collection(Database(MongoClient(host=['localhost:27017'], document_class=dict, tz_aware=False, connect=True), u'sb1'), u'music')"
      ]
     },
     "execution_count": 8,
     "metadata": {},
     "output_type": "execute_result"
    }
   ],
   "source": [
    "c"
   ]
  },
  {
   "cell_type": "code",
   "execution_count": 12,
   "metadata": {
    "collapsed": false
   },
   "outputs": [],
   "source": [
    "jackson = {'name': {'first': 'Michael',\n",
    "                    'last': 'Jackson',\n",
    "                    'middle': 'Joseph'},\n",
    "           'born': datetime(1958, 8, 29),\n",
    "           'died': datetime(2009, 6, 25),\n",
    "           'albums': [{'name': 'Thriller',\n",
    "                       'released': 1982},\n",
    "                      {'name': 'Bad',\n",
    "                       'released': 1987}]}"
   ]
  },
  {
   "cell_type": "code",
   "execution_count": 13,
   "metadata": {
    "collapsed": true
   },
   "outputs": [],
   "source": [
    "result = c.insert_one(jackson)"
   ]
  },
  {
   "cell_type": "code",
   "execution_count": 14,
   "metadata": {
    "collapsed": false
   },
   "outputs": [
    {
     "data": {
      "text/plain": [
       "<pymongo.results.InsertOneResult at 0x7f0a5b442cd0>"
      ]
     },
     "execution_count": 14,
     "metadata": {},
     "output_type": "execute_result"
    }
   ],
   "source": [
    "result"
   ]
  },
  {
   "cell_type": "code",
   "execution_count": 15,
   "metadata": {
    "collapsed": false
   },
   "outputs": [
    {
     "data": {
      "text/plain": [
       "True"
      ]
     },
     "execution_count": 15,
     "metadata": {},
     "output_type": "execute_result"
    }
   ],
   "source": [
    "result.acknowledged"
   ]
  },
  {
   "cell_type": "code",
   "execution_count": 16,
   "metadata": {
    "collapsed": false
   },
   "outputs": [
    {
     "data": {
      "text/plain": [
       "ObjectId('58be870196bbe51815ff0b71')"
      ]
     },
     "execution_count": 16,
     "metadata": {},
     "output_type": "execute_result"
    }
   ],
   "source": [
    "result.inserted_id"
   ]
  },
  {
   "cell_type": "code",
   "execution_count": 17,
   "metadata": {
    "collapsed": false
   },
   "outputs": [
    {
     "data": {
      "text/plain": [
       "{u'_id': ObjectId('58be870196bbe51815ff0b71'),\n",
       " u'albums': [{u'name': u'Thriller', u'released': 1982},\n",
       "  {u'name': u'Bad', u'released': 1987}],\n",
       " u'born': datetime.datetime(1958, 8, 29, 0, 0),\n",
       " u'died': datetime.datetime(2009, 6, 25, 0, 0),\n",
       " u'name': {u'first': u'Michael', u'last': u'Jackson', u'middle': u'Joseph'}}"
      ]
     },
     "execution_count": 17,
     "metadata": {},
     "output_type": "execute_result"
    }
   ],
   "source": [
    "c.find_one(result.inserted_id)"
   ]
  },
  {
   "cell_type": "code",
   "execution_count": 18,
   "metadata": {
    "collapsed": false
   },
   "outputs": [
    {
     "data": {
      "text/plain": [
       "{u'_id': ObjectId('58be870196bbe51815ff0b71'),\n",
       " u'albums': [{u'name': u'Thriller', u'released': 1982},\n",
       "  {u'name': u'Bad', u'released': 1987}],\n",
       " u'born': datetime.datetime(1958, 8, 29, 0, 0),\n",
       " u'died': datetime.datetime(2009, 6, 25, 0, 0),\n",
       " u'name': {u'first': u'Michael', u'last': u'Jackson', u'middle': u'Joseph'}}"
      ]
     },
     "execution_count": 18,
     "metadata": {},
     "output_type": "execute_result"
    }
   ],
   "source": [
    "c.find_one() # any object"
   ]
  },
  {
   "cell_type": "code",
   "execution_count": 19,
   "metadata": {
    "collapsed": false
   },
   "outputs": [
    {
     "data": {
      "text/plain": [
       "[{u'_id': ObjectId('58be870196bbe51815ff0b71'),\n",
       "  u'albums': [{u'name': u'Thriller', u'released': 1982},\n",
       "   {u'name': u'Bad', u'released': 1987}],\n",
       "  u'born': datetime.datetime(1958, 8, 29, 0, 0),\n",
       "  u'died': datetime.datetime(2009, 6, 25, 0, 0),\n",
       "  u'name': {u'first': u'Michael', u'last': u'Jackson', u'middle': u'Joseph'}}]"
      ]
     },
     "execution_count": 19,
     "metadata": {},
     "output_type": "execute_result"
    }
   ],
   "source": [
    "list(c.find())"
   ]
  },
  {
   "cell_type": "code",
   "execution_count": 20,
   "metadata": {
    "collapsed": false
   },
   "outputs": [
    {
     "name": "stdout",
     "output_type": "stream",
     "text": [
      "{u'born': datetime.datetime(1958, 8, 29, 0, 0), u'albums': [{u'released': 1982, u'name': u'Thriller'}, {u'released': 1987, u'name': u'Bad'}], u'_id': ObjectId('58be870196bbe51815ff0b71'), u'name': {u'middle': u'Joseph', u'last': u'Jackson', u'first': u'Michael'}, u'died': datetime.datetime(2009, 6, 25, 0, 0)}\n"
     ]
    }
   ],
   "source": [
    "for i in c.find():\n",
    "    print i"
   ]
  },
  {
   "cell_type": "code",
   "execution_count": 21,
   "metadata": {
    "collapsed": false
   },
   "outputs": [
    {
     "name": "stdout",
     "output_type": "stream",
     "text": [
      "{u'born': datetime.datetime(1958, 8, 29, 0, 0), u'albums': [{u'released': 1982, u'name': u'Thriller'}, {u'released': 1987, u'name': u'Bad'}], u'_id': ObjectId('58be870196bbe51815ff0b71'), u'name': {u'middle': u'Joseph', u'last': u'Jackson', u'first': u'Michael'}, u'died': datetime.datetime(2009, 6, 25, 0, 0)}\n"
     ]
    }
   ],
   "source": [
    "for i in c.find().limit(10):\n",
    "    print i"
   ]
  },
  {
   "cell_type": "code",
   "execution_count": 22,
   "metadata": {
    "collapsed": false
   },
   "outputs": [
    {
     "data": {
      "text/plain": [
       "{u'_id': ObjectId('58be870196bbe51815ff0b71'),\n",
       " u'albums': [{u'name': u'Thriller', u'released': 1982},\n",
       "  {u'name': u'Bad', u'released': 1987}],\n",
       " u'born': datetime.datetime(1958, 8, 29, 0, 0),\n",
       " u'died': datetime.datetime(2009, 6, 25, 0, 0),\n",
       " u'name': {u'first': u'Michael', u'last': u'Jackson', u'middle': u'Joseph'}}"
      ]
     },
     "execution_count": 22,
     "metadata": {},
     "output_type": "execute_result"
    }
   ],
   "source": [
    "c.find_one({'born': datetime(1958, 8, 29)})"
   ]
  },
  {
   "cell_type": "code",
   "execution_count": 23,
   "metadata": {
    "collapsed": false
   },
   "outputs": [
    {
     "data": {
      "text/plain": [
       "{u'_id': ObjectId('58be870196bbe51815ff0b71'),\n",
       " u'albums': [{u'name': u'Thriller', u'released': 1982},\n",
       "  {u'name': u'Bad', u'released': 1987}],\n",
       " u'born': datetime.datetime(1958, 8, 29, 0, 0),\n",
       " u'died': datetime.datetime(2009, 6, 25, 0, 0),\n",
       " u'name': {u'first': u'Michael', u'last': u'Jackson', u'middle': u'Joseph'}}"
      ]
     },
     "execution_count": 23,
     "metadata": {},
     "output_type": "execute_result"
    }
   ],
   "source": [
    "c.find_one({'name.middle': 'Joseph'})"
   ]
  },
  {
   "cell_type": "code",
   "execution_count": 24,
   "metadata": {
    "collapsed": false
   },
   "outputs": [
    {
     "data": {
      "text/plain": [
       "{u'_id': ObjectId('58be870196bbe51815ff0b71'),\n",
       " u'albums': [{u'name': u'Thriller', u'released': 1982},\n",
       "  {u'name': u'Bad', u'released': 1987}],\n",
       " u'born': datetime.datetime(1958, 8, 29, 0, 0),\n",
       " u'died': datetime.datetime(2009, 6, 25, 0, 0),\n",
       " u'name': {u'first': u'Michael', u'last': u'Jackson', u'middle': u'Joseph'}}"
      ]
     },
     "execution_count": 24,
     "metadata": {},
     "output_type": "execute_result"
    }
   ],
   "source": [
    "c.find_one({'albums.released': 1982})"
   ]
  },
  {
   "cell_type": "code",
   "execution_count": 25,
   "metadata": {
    "collapsed": false
   },
   "outputs": [
    {
     "data": {
      "text/plain": [
       "{u'_id': ObjectId('58be870196bbe51815ff0b71'),\n",
       " u'albums': [{u'name': u'Thriller', u'released': 1982},\n",
       "  {u'name': u'Bad', u'released': 1987}],\n",
       " u'born': datetime.datetime(1958, 8, 29, 0, 0),\n",
       " u'died': datetime.datetime(2009, 6, 25, 0, 0),\n",
       " u'name': {u'first': u'Michael', u'last': u'Jackson', u'middle': u'Joseph'}}"
      ]
     },
     "execution_count": 25,
     "metadata": {},
     "output_type": "execute_result"
    }
   ],
   "source": [
    "c.find_one({'albums.released': {'$gt': 1980}})"
   ]
  },
  {
   "cell_type": "code",
   "execution_count": 26,
   "metadata": {
    "collapsed": true
   },
   "outputs": [],
   "source": [
    "# AND\n",
    "c.find_one({'name.first': 'Michael',\n",
    "             'name.last': 'Bowie'})"
   ]
  },
  {
   "cell_type": "code",
   "execution_count": 29,
   "metadata": {
    "collapsed": false
   },
   "outputs": [
    {
     "data": {
      "text/plain": [
       "{u'_id': ObjectId('58be870196bbe51815ff0b71'),\n",
       " u'albums': [{u'name': u'Thriller', u'released': 1982},\n",
       "  {u'name': u'Bad', u'released': 1987}],\n",
       " u'born': datetime.datetime(1958, 8, 29, 0, 0),\n",
       " u'died': datetime.datetime(2009, 6, 25, 0, 0),\n",
       " u'name': {u'first': u'Michael', u'last': u'Jackson', u'middle': u'Joseph'}}"
      ]
     },
     "execution_count": 29,
     "metadata": {},
     "output_type": "execute_result"
    }
   ],
   "source": [
    "# OR\n",
    "c.find_one({'$or': [{'name.first': 'Michael'},\n",
    "                     {'name.last': 'Bowie'}]})"
   ]
  },
  {
   "cell_type": "code",
   "execution_count": 30,
   "metadata": {
    "collapsed": true
   },
   "outputs": [],
   "source": [
    "bowie = {'name': {'first': 'David',\n",
    "                  'last': 'Bowie',\n",
    "                  'middle': 'Robert'},\n",
    "         'born': datetime(1949, 1, 8)}"
   ]
  },
  {
   "cell_type": "code",
   "execution_count": 31,
   "metadata": {
    "collapsed": false
   },
   "outputs": [
    {
     "data": {
      "text/plain": [
       "<pymongo.results.InsertOneResult at 0x7f0a593d50a0>"
      ]
     },
     "execution_count": 31,
     "metadata": {},
     "output_type": "execute_result"
    }
   ],
   "source": [
    "c.insert_one(bowie)"
   ]
  },
  {
   "cell_type": "code",
   "execution_count": 32,
   "metadata": {
    "collapsed": false
   },
   "outputs": [
    {
     "data": {
      "text/plain": [
       "[{u'_id': ObjectId('58be870196bbe51815ff0b71'),\n",
       "  u'born': datetime.datetime(1958, 8, 29, 0, 0),\n",
       "  u'name': {u'first': u'Michael'}},\n",
       " {u'_id': ObjectId('58be871596bbe51815ff0b72'),\n",
       "  u'born': datetime.datetime(1049, 1, 8, 0, 0),\n",
       "  u'name': {u'first': u'David'}}]"
      ]
     },
     "execution_count": 32,
     "metadata": {},
     "output_type": "execute_result"
    }
   ],
   "source": [
    "list(c.find({}, {'name.first': 1,\n",
    "                 'born': 1}))"
   ]
  },
  {
   "cell_type": "code",
   "execution_count": 33,
   "metadata": {
    "collapsed": false
   },
   "outputs": [
    {
     "data": {
      "text/plain": [
       "[{u'born': datetime.datetime(1958, 8, 29, 0, 0),\n",
       "  u'name': {u'first': u'Michael'}},\n",
       " {u'born': datetime.datetime(1049, 1, 8, 0, 0), u'name': {u'first': u'David'}}]"
      ]
     },
     "execution_count": 33,
     "metadata": {},
     "output_type": "execute_result"
    }
   ],
   "source": [
    "list(c.find({}, {'name.first': 1,\n",
    "                 'born': 1,\n",
    "                 '_id': 0}))"
   ]
  },
  {
   "cell_type": "code",
   "execution_count": 34,
   "metadata": {
    "collapsed": false
   },
   "outputs": [
    {
     "data": {
      "text/plain": [
       "[{u'albums': [{u'name': u'Thriller', u'released': 1982},\n",
       "   {u'name': u'Bad', u'released': 1987}],\n",
       "  u'born': datetime.datetime(1958, 8, 29, 0, 0),\n",
       "  u'died': datetime.datetime(2009, 6, 25, 0, 0),\n",
       "  u'name': {u'first': u'Michael', u'last': u'Jackson', u'middle': u'Joseph'}},\n",
       " {u'born': datetime.datetime(1049, 1, 8, 0, 0),\n",
       "  u'name': {u'first': u'David', u'last': u'Bowie', u'middle': u'Robert'}}]"
      ]
     },
     "execution_count": 34,
     "metadata": {},
     "output_type": "execute_result"
    }
   ],
   "source": [
    "list(c.find({}, {'_id': 0}))"
   ]
  },
  {
   "cell_type": "code",
   "execution_count": 35,
   "metadata": {
    "collapsed": false
   },
   "outputs": [
    {
     "data": {
      "text/plain": [
       "{u'_id': ObjectId('58be870196bbe51815ff0b71'),\n",
       " u'albums': [{u'name': u'Thriller', u'released': 1982},\n",
       "  {u'name': u'Bad', u'released': 1987}],\n",
       " u'born': datetime.datetime(1958, 8, 29, 0, 0),\n",
       " u'died': datetime.datetime(2009, 6, 25, 0, 0),\n",
       " u'name': {u'first': u'Michael', u'last': u'Jackson', u'middle': u'Joseph'}}"
      ]
     },
     "execution_count": 35,
     "metadata": {},
     "output_type": "execute_result"
    }
   ],
   "source": [
    "c.find_one({'born': {'$lt': datetime(2000, 1, 1)}, # AND\n",
    "            'born': {'$gt': datetime(1900, 1, 1)}})"
   ]
  },
  {
   "cell_type": "markdown",
   "metadata": {},
   "source": [
    "# Modifying things"
   ]
  },
  {
   "cell_type": "code",
   "execution_count": 36,
   "metadata": {
    "collapsed": true
   },
   "outputs": [],
   "source": [
    "result = c.update_one({'name.last': 'Bowie'},\n",
    "                      {'$set': {'albums': []}})"
   ]
  },
  {
   "cell_type": "code",
   "execution_count": 37,
   "metadata": {
    "collapsed": false
   },
   "outputs": [
    {
     "data": {
      "text/plain": [
       "True"
      ]
     },
     "execution_count": 37,
     "metadata": {},
     "output_type": "execute_result"
    }
   ],
   "source": [
    "result.acknowledged"
   ]
  },
  {
   "cell_type": "code",
   "execution_count": 38,
   "metadata": {
    "collapsed": false
   },
   "outputs": [
    {
     "data": {
      "text/plain": [
       "{u'_id': ObjectId('58be871596bbe51815ff0b72'),\n",
       " u'albums': [],\n",
       " u'born': datetime.datetime(1049, 1, 8, 0, 0),\n",
       " u'name': {u'first': u'David', u'last': u'Bowie', u'middle': u'Robert'}}"
      ]
     },
     "execution_count": 38,
     "metadata": {},
     "output_type": "execute_result"
    }
   ],
   "source": [
    "c.find_one({'name.last': 'Bowie'})"
   ]
  },
  {
   "cell_type": "code",
   "execution_count": 39,
   "metadata": {
    "collapsed": false
   },
   "outputs": [
    {
     "data": {
      "text/plain": [
       "<pymongo.results.UpdateResult at 0x7f0a593d5190>"
      ]
     },
     "execution_count": 39,
     "metadata": {},
     "output_type": "execute_result"
    }
   ],
   "source": [
    "c.update_one({'name.last': 'Bowie'},\n",
    "             {'$push': {'albums': {'name': \"Let's Dance\",\n",
    "                                   'released': 1983}}})"
   ]
  },
  {
   "cell_type": "code",
   "execution_count": 40,
   "metadata": {
    "collapsed": false
   },
   "outputs": [
    {
     "data": {
      "text/plain": [
       "{u'_id': ObjectId('58be871596bbe51815ff0b72'),\n",
       " u'albums': [{u'name': u\"Let's Dance\", u'released': 1983}],\n",
       " u'born': datetime.datetime(1049, 1, 8, 0, 0),\n",
       " u'name': {u'first': u'David', u'last': u'Bowie', u'middle': u'Robert'}}"
      ]
     },
     "execution_count": 40,
     "metadata": {},
     "output_type": "execute_result"
    }
   ],
   "source": [
    "c.find_one({'name.last': 'Bowie'})"
   ]
  },
  {
   "cell_type": "code",
   "execution_count": 41,
   "metadata": {
    "collapsed": false
   },
   "outputs": [
    {
     "data": {
      "text/plain": [
       "<pymongo.results.UpdateResult at 0x7f0a593d5050>"
      ]
     },
     "execution_count": 41,
     "metadata": {},
     "output_type": "execute_result"
    }
   ],
   "source": [
    "c.update_one({'name.last': 'Bowie'},\n",
    "             {'$inc': {'albums.0.released': 1}})"
   ]
  },
  {
   "cell_type": "code",
   "execution_count": 42,
   "metadata": {
    "collapsed": false
   },
   "outputs": [
    {
     "data": {
      "text/plain": [
       "{u'_id': ObjectId('58be871596bbe51815ff0b72'),\n",
       " u'albums': [{u'name': u\"Let's Dance\", u'released': 1984}],\n",
       " u'born': datetime.datetime(1049, 1, 8, 0, 0),\n",
       " u'name': {u'first': u'David', u'last': u'Bowie', u'middle': u'Robert'}}"
      ]
     },
     "execution_count": 42,
     "metadata": {},
     "output_type": "execute_result"
    }
   ],
   "source": [
    "c.find_one({'name.last': 'Bowie'})"
   ]
  },
  {
   "cell_type": "code",
   "execution_count": 43,
   "metadata": {
    "collapsed": false
   },
   "outputs": [],
   "source": [
    "r = c.update_one({'name.last': 'Bowie'},\n",
    "                 {'$inc': {'albums.0.released': -1}})"
   ]
  },
  {
   "cell_type": "markdown",
   "metadata": {},
   "source": [
    "## Aggregation\n",
    "\n",
    "We'll talk more about this next session."
   ]
  },
  {
   "cell_type": "code",
   "execution_count": 44,
   "metadata": {
    "collapsed": true
   },
   "outputs": [],
   "source": [
    "agg = c.aggregate([{'$group': {'_id': '$born',\n",
    "                               'people_count': {'$sum': 1}}}])"
   ]
  },
  {
   "cell_type": "code",
   "execution_count": 45,
   "metadata": {
    "collapsed": false
   },
   "outputs": [
    {
     "data": {
      "text/plain": [
       "[{u'_id': datetime.datetime(1049, 1, 8, 0, 0), u'people_count': 1},\n",
       " {u'_id': datetime.datetime(1958, 8, 29, 0, 0), u'people_count': 1}]"
      ]
     },
     "execution_count": 45,
     "metadata": {},
     "output_type": "execute_result"
    }
   ],
   "source": [
    "list(agg)"
   ]
  },
  {
   "cell_type": "markdown",
   "metadata": {},
   "source": [
    "# Loading data into Pandas"
   ]
  },
  {
   "cell_type": "code",
   "execution_count": 47,
   "metadata": {
    "collapsed": true
   },
   "outputs": [],
   "source": [
    "import pandas as pd"
   ]
  },
  {
   "cell_type": "code",
   "execution_count": 71,
   "metadata": {
    "collapsed": false
   },
   "outputs": [
    {
     "data": {
      "text/html": [
       "<div>\n",
       "<table border=\"1\" class=\"dataframe\">\n",
       "  <thead>\n",
       "    <tr style=\"text-align: right;\">\n",
       "      <th></th>\n",
       "      <th>albums</th>\n",
       "      <th>born</th>\n",
       "      <th>died</th>\n",
       "      <th>name.first</th>\n",
       "      <th>name.last</th>\n",
       "      <th>name.middle</th>\n",
       "    </tr>\n",
       "  </thead>\n",
       "  <tbody>\n",
       "    <tr>\n",
       "      <th>0</th>\n",
       "      <td>[{u'released': 1982, u'name': u'Thriller'}, {u...</td>\n",
       "      <td>1958-08-29</td>\n",
       "      <td>2009-06-25</td>\n",
       "      <td>Michael</td>\n",
       "      <td>Jackson</td>\n",
       "      <td>Joseph</td>\n",
       "    </tr>\n",
       "    <tr>\n",
       "      <th>1</th>\n",
       "      <td>[{u'released': 1983, u'name': u'Let's Dance'}]</td>\n",
       "      <td>1949-01-08</td>\n",
       "      <td>NaT</td>\n",
       "      <td>David</td>\n",
       "      <td>Bowie</td>\n",
       "      <td>Robert</td>\n",
       "    </tr>\n",
       "  </tbody>\n",
       "</table>\n",
       "</div>"
      ],
      "text/plain": [
       "                                              albums       born       died  \\\n",
       "0  [{u'released': 1982, u'name': u'Thriller'}, {u... 1958-08-29 2009-06-25   \n",
       "1     [{u'released': 1983, u'name': u'Let's Dance'}] 1949-01-08        NaT   \n",
       "\n",
       "  name.first name.last name.middle  \n",
       "0    Michael   Jackson      Joseph  \n",
       "1      David     Bowie      Robert  "
      ]
     },
     "execution_count": 71,
     "metadata": {},
     "output_type": "execute_result"
    }
   ],
   "source": [
    "pd.io.json.json_normalize(list(c.find({}, {'_id': 0})))"
   ]
  },
  {
   "cell_type": "markdown",
   "metadata": {},
   "source": [
    "# Web Scraping\n",
    "\n",
    "## Before we start\n",
    "\n",
    "- Web scraping can lead to messy data.\n",
    "- Read websites' terms and conditions.\n",
    "- Respect websites' robots.txt.\n",
    "- Be nice!\n",
    "- The firefox inspector is you friend!"
   ]
  },
  {
   "cell_type": "markdown",
   "metadata": {},
   "source": [
    "# HTML 101\n",
    "\n",
    "Wepbages are written in HTML. You can read more on the [w3 html tutorial](http://www.w3schools.com/html/).\n",
    "\n",
    "We will work with a simple [example page](example.html)."
   ]
  },
  {
   "cell_type": "code",
   "execution_count": 55,
   "metadata": {
    "collapsed": true
   },
   "outputs": [],
   "source": [
    "html = open(\"example.html\").read()"
   ]
  },
  {
   "cell_type": "code",
   "execution_count": 56,
   "metadata": {
    "collapsed": false
   },
   "outputs": [
    {
     "name": "stdout",
     "output_type": "stream",
     "text": [
      "<html>\n",
      "    <head>\n",
      "        <title>Test page</title>\n",
      "    </head>\n",
      "    <body>\n",
      "        <h1 id=\"title\">This is an example page</h1>\n",
      "        <h2 id=\"list-header\">This is a list</h2>\n",
      "        <ul>\n",
      "            <li>This is a list item!</li>\n",
      "            <li>Another item!</li>\n",
      "        </ul>\n",
      "        <h2>Links</h2>\n",
      "        This is a <a href=\"example2.html\">link</a> to a second page.\n",
      "        <h2>Image</h2>\n",
      "        This is a histogram (whose axes should be labeled!).\n",
      "        <img src=\"histogram.png\" width=\"50%\" alt=\"Histogram of something.\">\n",
      "    </body>\n",
      "</html>\n"
     ]
    }
   ],
   "source": [
    "print html"
   ]
  },
  {
   "cell_type": "code",
   "execution_count": 1,
   "metadata": {
    "collapsed": true
   },
   "outputs": [],
   "source": [
    "from bs4 import BeautifulSoup"
   ]
  },
  {
   "cell_type": "code",
   "execution_count": 58,
   "metadata": {
    "collapsed": false
   },
   "outputs": [],
   "source": [
    "soup = BeautifulSoup(html, \"lxml\")"
   ]
  },
  {
   "cell_type": "code",
   "execution_count": 36,
   "metadata": {
    "collapsed": false
   },
   "outputs": [
    {
     "data": {
      "text/plain": [
       "<body>\\n<h1 id=\"title\">This is an example page</h1>\\n<h2 id=\"list-header\">This is a list</h2>\\n<ul>\\n<li>This is a list item!</li>\\n<li>Another item!</li>\\n</ul>\\n<h2>Links</h2>\\n        This is a <a href=\"example2.html\">link</a> to a second page.\\n        <h2>Image</h2>\\n        This is a histogram (whose axes should be labeled!).\\n        <img src=\"histogram.png\" width=\"50%\"/>\\n</body>"
      ]
     },
     "execution_count": 36,
     "metadata": {},
     "output_type": "execute_result"
    }
   ],
   "source": [
    "soup.body"
   ]
  },
  {
   "cell_type": "code",
   "execution_count": 37,
   "metadata": {
    "collapsed": false
   },
   "outputs": [
    {
     "data": {
      "text/plain": [
       "[<li>This is a list item!</li>, <li>Another item!</li>]"
      ]
     },
     "execution_count": 37,
     "metadata": {},
     "output_type": "execute_result"
    }
   ],
   "source": [
    "soup.body.ul(\"li\")"
   ]
  },
  {
   "cell_type": "code",
   "execution_count": 38,
   "metadata": {
    "collapsed": false
   },
   "outputs": [
    {
     "data": {
      "text/plain": [
       "[<li>This is a list item!</li>, <li>Another item!</li>]"
      ]
     },
     "execution_count": 38,
     "metadata": {},
     "output_type": "execute_result"
    }
   ],
   "source": [
    "soup(\"li\")"
   ]
  },
  {
   "cell_type": "code",
   "execution_count": 39,
   "metadata": {
    "collapsed": false
   },
   "outputs": [
    {
     "data": {
      "text/plain": [
       "[<img src=\"histogram.png\" width=\"50%\"/>]"
      ]
     },
     "execution_count": 39,
     "metadata": {},
     "output_type": "execute_result"
    }
   ],
   "source": [
    "soup('img')"
   ]
  },
  {
   "cell_type": "code",
   "execution_count": 40,
   "metadata": {
    "collapsed": false
   },
   "outputs": [
    {
     "data": {
      "text/plain": [
       "<img src=\"histogram.png\" width=\"50%\"/>"
      ]
     },
     "execution_count": 40,
     "metadata": {},
     "output_type": "execute_result"
    }
   ],
   "source": [
    "soup.img"
   ]
  },
  {
   "cell_type": "code",
   "execution_count": 41,
   "metadata": {
    "collapsed": false
   },
   "outputs": [
    {
     "name": "stdout",
     "output_type": "stream",
     "text": [
      "{'src': 'histogram.png', 'width': '50%'}\n"
     ]
    }
   ],
   "source": [
    "for img in soup(\"img\"):\n",
    "    print img.attrs"
   ]
  },
  {
   "cell_type": "code",
   "execution_count": 42,
   "metadata": {
    "collapsed": false
   },
   "outputs": [
    {
     "data": {
      "text/plain": [
       "'histogram.png'"
      ]
     },
     "execution_count": 42,
     "metadata": {},
     "output_type": "execute_result"
    }
   ],
   "source": [
    "soup.img['src']"
   ]
  },
  {
   "cell_type": "code",
   "execution_count": 43,
   "metadata": {
    "collapsed": false
   },
   "outputs": [
    {
     "data": {
      "text/plain": [
       "<ul>\\n<li>This is a list item!</li>\\n<li>Another item!</li>\\n</ul>"
      ]
     },
     "execution_count": 43,
     "metadata": {},
     "output_type": "execute_result"
    }
   ],
   "source": [
    "soup.li.parent"
   ]
  },
  {
   "cell_type": "code",
   "execution_count": 44,
   "metadata": {
    "collapsed": false
   },
   "outputs": [
    {
     "data": {
      "text/plain": [
       "'ul'"
      ]
     },
     "execution_count": 44,
     "metadata": {},
     "output_type": "execute_result"
    }
   ],
   "source": [
    "soup.li.parent.name"
   ]
  },
  {
   "cell_type": "code",
   "execution_count": 45,
   "metadata": {
    "collapsed": false
   },
   "outputs": [
    {
     "data": {
      "text/plain": [
       "u'\\nThis is a list item!\\nAnother item!\\n'"
      ]
     },
     "execution_count": 45,
     "metadata": {},
     "output_type": "execute_result"
    }
   ],
   "source": [
    "soup.li.parent.text"
   ]
  },
  {
   "cell_type": "code",
   "execution_count": 51,
   "metadata": {
    "collapsed": false
   },
   "outputs": [
    {
     "data": {
      "text/plain": [
       "[u'\\n', <li>This is a list item!</li>, u'\\n', <li>Another item!</li>, u'\\n']"
      ]
     },
     "execution_count": 51,
     "metadata": {},
     "output_type": "execute_result"
    }
   ],
   "source": [
    "soup.ul.contents"
   ]
  },
  {
   "cell_type": "code",
   "execution_count": 52,
   "metadata": {
    "collapsed": false
   },
   "outputs": [
    {
     "data": {
      "text/plain": [
       "<listiterator at 0x10d93bfd0>"
      ]
     },
     "execution_count": 52,
     "metadata": {},
     "output_type": "execute_result"
    }
   ],
   "source": [
    "soup.ul.children"
   ]
  },
  {
   "cell_type": "code",
   "execution_count": 53,
   "metadata": {
    "collapsed": false
   },
   "outputs": [
    {
     "data": {
      "text/plain": [
       "[u'\\n', <li>This is a list item!</li>, u'\\n', <li>Another item!</li>, u'\\n']"
      ]
     },
     "execution_count": 53,
     "metadata": {},
     "output_type": "execute_result"
    }
   ],
   "source": [
    "list(soup.ul.children)"
   ]
  },
  {
   "cell_type": "code",
   "execution_count": 59,
   "metadata": {
    "collapsed": false
   },
   "outputs": [
    {
     "data": {
      "text/plain": [
       "[<img alt=\"Histogram of something.\" src=\"histogram.png\" width=\"50%\"/>]"
      ]
     },
     "execution_count": 59,
     "metadata": {},
     "output_type": "execute_result"
    }
   ],
   "source": [
    "soup(lambda tag: tag.has_attr('alt'))"
   ]
  },
  {
   "cell_type": "markdown",
   "metadata": {},
   "source": [
    "# Scrapy"
   ]
  },
  {
   "cell_type": "code",
   "execution_count": 2,
   "metadata": {
    "collapsed": false
   },
   "outputs": [],
   "source": [
    "import scrapy"
   ]
  },
  {
   "cell_type": "code",
   "execution_count": 3,
   "metadata": {
    "collapsed": false
   },
   "outputs": [],
   "source": [
    "from urlparse import urljoin\n",
    "class TestSpider(scrapy.Spider):\n",
    "    name = 'test_spider'\n",
    "    start_urls = ['http://localhost:8888/files/example.html']\n",
    "    # can be done from command line\n",
    "    custom_settings = {'FEED_FORMAT': 'json',\n",
    "                       'FEED_URI': 'result.json'}\n",
    "    \n",
    "    def parse(self, response):\n",
    "        soup = BeautifulSoup(response.text, 'lxml')\n",
    "        for list_item in soup('li'):\n",
    "            yield {'list_item': list_item.text,\n",
    "                   'url': response.url}\n",
    "        for link in soup('a'):\n",
    "            target = urljoin(response.url, link['href'])\n",
    "            yield scrapy.Request(target, callback=self.parse)"
   ]
  },
  {
   "cell_type": "markdown",
   "metadata": {},
   "source": [
    "# Running\n",
    "\n",
    "The spider could now be run using\n",
    "\n",
    "    scrapy runspider test_spider\n",
    "   \n",
    "or\n",
    "\n",
    "    scrapy runspider --output=results.csv test_spider\n",
    "\n",
    "Also try\n",
    "\n",
    "    scrapy shell"
   ]
  },
  {
   "cell_type": "code",
   "execution_count": 4,
   "metadata": {
    "collapsed": true
   },
   "outputs": [],
   "source": [
    "from scrapy.crawler import CrawlerProcess"
   ]
  },
  {
   "cell_type": "code",
   "execution_count": 5,
   "metadata": {
    "collapsed": true
   },
   "outputs": [
    {
     "name": "stderr",
     "output_type": "stream",
     "text": [
      "2017-01-20 14:24:01 [scrapy] INFO: Scrapy 1.2.0 started (bot: scrapybot)\n",
      "2017-01-20 14:24:01 [scrapy] INFO: Overridden settings: {}\n"
     ]
    }
   ],
   "source": [
    "process = CrawlerProcess()"
   ]
  },
  {
   "cell_type": "code",
   "execution_count": 6,
   "metadata": {
    "collapsed": true
   },
   "outputs": [
    {
     "name": "stderr",
     "output_type": "stream",
     "text": [
      "2017-01-20 14:24:02 [scrapy] INFO: Enabled extensions:\n",
      "['scrapy.extensions.feedexport.FeedExporter',\n",
      " 'scrapy.extensions.logstats.LogStats',\n",
      " 'scrapy.extensions.telnet.TelnetConsole',\n",
      " 'scrapy.extensions.corestats.CoreStats']\n",
      "2017-01-20 14:24:02 [scrapy] INFO: Enabled downloader middlewares:\n",
      "['scrapy.downloadermiddlewares.httpauth.HttpAuthMiddleware',\n",
      " 'scrapy.downloadermiddlewares.downloadtimeout.DownloadTimeoutMiddleware',\n",
      " 'scrapy.downloadermiddlewares.defaultheaders.DefaultHeadersMiddleware',\n",
      " 'scrapy.downloadermiddlewares.useragent.UserAgentMiddleware',\n",
      " 'scrapy.downloadermiddlewares.retry.RetryMiddleware',\n",
      " 'scrapy.downloadermiddlewares.redirect.MetaRefreshMiddleware',\n",
      " 'scrapy.downloadermiddlewares.httpcompression.HttpCompressionMiddleware',\n",
      " 'scrapy.downloadermiddlewares.redirect.RedirectMiddleware',\n",
      " 'scrapy.downloadermiddlewares.cookies.CookiesMiddleware',\n",
      " 'scrapy.downloadermiddlewares.chunked.ChunkedTransferMiddleware',\n",
      " 'scrapy.downloadermiddlewares.stats.DownloaderStats']\n",
      "2017-01-20 14:24:02 [scrapy] INFO: Enabled spider middlewares:\n",
      "['scrapy.spidermiddlewares.httperror.HttpErrorMiddleware',\n",
      " 'scrapy.spidermiddlewares.offsite.OffsiteMiddleware',\n",
      " 'scrapy.spidermiddlewares.referer.RefererMiddleware',\n",
      " 'scrapy.spidermiddlewares.urllength.UrlLengthMiddleware',\n",
      " 'scrapy.spidermiddlewares.depth.DepthMiddleware']\n",
      "2017-01-20 14:24:02 [scrapy] INFO: Enabled item pipelines:\n",
      "[]\n",
      "2017-01-20 14:24:02 [scrapy] INFO: Spider opened\n",
      "2017-01-20 14:24:02 [scrapy] INFO: Crawled 0 pages (at 0 pages/min), scraped 0 items (at 0 items/min)\n",
      "2017-01-20 14:24:02 [scrapy] DEBUG: Telnet console listening on 127.0.0.1:6023\n"
     ]
    },
    {
     "data": {
      "text/plain": [
       "<Deferred at 0x10524aa28>"
      ]
     },
     "execution_count": 6,
     "metadata": {},
     "output_type": "execute_result"
    }
   ],
   "source": [
    "process.crawl(TestSpider)"
   ]
  },
  {
   "cell_type": "code",
   "execution_count": 7,
   "metadata": {
    "collapsed": true
   },
   "outputs": [
    {
     "name": "stderr",
     "output_type": "stream",
     "text": [
      "2017-01-20 14:24:03 [scrapy] DEBUG: Crawled (200) <GET http://localhost:8888/files/example.html> (referer: None)\n",
      "2017-01-20 14:24:03 [scrapy] DEBUG: Scraped from <200 http://localhost:8888/files/example.html>\n",
      "{'url': 'http://localhost:8888/files/example.html', 'list_item': u'This is a list item!'}\n",
      "2017-01-20 14:24:03 [scrapy] DEBUG: Scraped from <200 http://localhost:8888/files/example.html>\n",
      "{'url': 'http://localhost:8888/files/example.html', 'list_item': u'Another item!'}\n",
      "2017-01-20 14:24:03 [scrapy] DEBUG: Crawled (200) <GET http://localhost:8888/files/example2.html> (referer: http://localhost:8888/files/example.html)\n",
      "2017-01-20 14:24:03 [scrapy] DEBUG: Scraped from <200 http://localhost:8888/files/example2.html>\n",
      "{'url': 'http://localhost:8888/files/example2.html', 'list_item': u'This is a list item from page 2!'}\n",
      "2017-01-20 14:24:03 [scrapy] DEBUG: Scraped from <200 http://localhost:8888/files/example2.html>\n",
      "{'url': 'http://localhost:8888/files/example2.html', 'list_item': u'Another item from page 2!'}\n",
      "2017-01-20 14:24:03 [scrapy] INFO: Closing spider (finished)\n",
      "2017-01-20 14:24:03 [scrapy] INFO: Stored json feed (4 items) in: result.json\n",
      "2017-01-20 14:24:03 [scrapy] INFO: Dumping Scrapy stats:\n",
      "{'downloader/request_bytes': 502,\n",
      " 'downloader/request_count': 2,\n",
      " 'downloader/request_method_count/GET': 2,\n",
      " 'downloader/response_bytes': 1398,\n",
      " 'downloader/response_count': 2,\n",
      " 'downloader/response_status_count/200': 2,\n",
      " 'finish_reason': 'finished',\n",
      " 'finish_time': datetime.datetime(2017, 1, 20, 13, 24, 3, 562855),\n",
      " 'item_scraped_count': 4,\n",
      " 'log_count/DEBUG': 7,\n",
      " 'log_count/INFO': 8,\n",
      " 'request_depth_max': 1,\n",
      " 'response_received_count': 2,\n",
      " 'scheduler/dequeued': 2,\n",
      " 'scheduler/dequeued/memory': 2,\n",
      " 'scheduler/enqueued': 2,\n",
      " 'scheduler/enqueued/memory': 2,\n",
      " 'start_time': datetime.datetime(2017, 1, 20, 13, 24, 2, 356363)}\n",
      "2017-01-20 14:24:03 [scrapy] INFO: Spider closed (finished)\n"
     ]
    }
   ],
   "source": [
    "process.start()"
   ]
  }
 ],
 "metadata": {
  "kernelspec": {
   "display_name": "Python 2",
   "language": "python",
   "name": "python2"
  },
  "language_info": {
   "codemirror_mode": {
    "name": "ipython",
    "version": 2
   },
   "file_extension": ".py",
   "mimetype": "text/x-python",
   "name": "python",
   "nbconvert_exporter": "python",
   "pygments_lexer": "ipython2",
   "version": "2.7.10"
  }
 },
 "nbformat": 4,
 "nbformat_minor": 2
}
