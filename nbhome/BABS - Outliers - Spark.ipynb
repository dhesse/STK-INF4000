{
 "cells": [
  {
   "cell_type": "code",
   "execution_count": 1,
   "metadata": {
    "collapsed": true
   },
   "outputs": [],
   "source": [
    "data_raw = sc.textFile('data/201508_trip_data.csv.gz')"
   ]
  },
  {
   "cell_type": "code",
   "execution_count": 2,
   "metadata": {
    "collapsed": false
   },
   "outputs": [
    {
     "data": {
      "text/plain": [
       "[u'Trip ID,Duration,Start Date,Start Station,Start Terminal,End Date,End Station,End Terminal,Bike #,Subscriber Type,Zip Code',\n",
       " u'913460,765,8/31/2015 23:26,Harry Bridges Plaza (Ferry Building),50,8/31/2015 23:39,San Francisco Caltrain (Townsend at 4th),70,288,Subscriber,2139',\n",
       " u'913459,1036,8/31/2015 23:11,San Antonio Shopping Center,31,8/31/2015 23:28,Mountain View City Hall,27,35,Subscriber,95032',\n",
       " u'913455,307,8/31/2015 23:13,Post at Kearny,47,8/31/2015 23:18,2nd at South Park,64,468,Subscriber,94107',\n",
       " u'913454,409,8/31/2015 23:10,San Jose City Hall,10,8/31/2015 23:17,San Salvador at 1st,8,68,Subscriber,95113']"
      ]
     },
     "execution_count": 2,
     "metadata": {},
     "output_type": "execute_result"
    }
   ],
   "source": [
    "data_raw.take(5)"
   ]
  },
  {
   "cell_type": "code",
   "execution_count": 3,
   "metadata": {
    "collapsed": true
   },
   "outputs": [],
   "source": [
    "from pyspark.sql import Row"
   ]
  },
  {
   "cell_type": "code",
   "execution_count": 4,
   "metadata": {
    "collapsed": false
   },
   "outputs": [],
   "source": [
    "durations = spark.createDataFrame(data_raw\n",
    "             .filter(lambda x: not x.startswith('Trip'))\n",
    "             .map(lambda x: x.split(','))\n",
    "             .map(lambda x: Row(trip_id = int(x[0]), duration = int(x[1]))))"
   ]
  },
  {
   "cell_type": "code",
   "execution_count": 5,
   "metadata": {
    "collapsed": true
   },
   "outputs": [],
   "source": [
    "from pyspark.sql.functions import mean, stddev, udf\n",
    "from pyspark.sql.types import FloatType"
   ]
  },
  {
   "cell_type": "code",
   "execution_count": 6,
   "metadata": {
    "collapsed": true
   },
   "outputs": [],
   "source": [
    "stats = durations.select(stddev(durations.duration).alias('sd'),\n",
    "                         mean(durations.duration).alias('mu')).collect()"
   ]
  },
  {
   "cell_type": "code",
   "execution_count": 7,
   "metadata": {
    "collapsed": false
   },
   "outputs": [],
   "source": [
    "sd, mu = stats[0]"
   ]
  },
  {
   "cell_type": "code",
   "execution_count": 8,
   "metadata": {
    "collapsed": false
   },
   "outputs": [],
   "source": [
    "z_vals = durations.select(durations.trip_id,\n",
    "                 udf(lambda x: (x - mu)/sd, FloatType())('duration').alias('z'))"
   ]
  },
  {
   "cell_type": "code",
   "execution_count": 9,
   "metadata": {
    "collapsed": true
   },
   "outputs": [],
   "source": [
    "import numpy as np"
   ]
  },
  {
   "cell_type": "code",
   "execution_count": 10,
   "metadata": {
    "collapsed": false
   },
   "outputs": [],
   "source": [
    "zs = np.array([i[0] for i in z_vals.select('z').collect()])"
   ]
  },
  {
   "cell_type": "code",
   "execution_count": 11,
   "metadata": {
    "collapsed": true
   },
   "outputs": [],
   "source": [
    "import matplotlib.pyplot as plt\n",
    "%matplotlib inline"
   ]
  },
  {
   "cell_type": "code",
   "execution_count": 12,
   "metadata": {
    "collapsed": false
   },
   "outputs": [
    {
     "data": {
      "image/png": "[encoded data removed]",
      "text/plain": [
       "<matplotlib.figure.Figure at 0x10c340450>"
      ]
     },
     "metadata": {},
     "output_type": "display_data"
    }
   ],
   "source": [
    "plt.hist(zs[zs<5],bins=30)\n",
    "plt.yscale('log')\n",
    "None"
   ]
  },
  {
   "cell_type": "code",
   "execution_count": 4,
   "metadata": {
    "collapsed": true
   },
   "outputs": [],
   "source": [
    "dates = (data_raw\n",
    "         .map(lambda x: x.split(','))\n",
    "         .map(lambda x: x[2]))"
   ]
  },
  {
   "cell_type": "code",
   "execution_count": 5,
   "metadata": {
    "collapsed": false
   },
   "outputs": [
    {
     "data": {
      "text/plain": [
       "[u'Start Date',\n",
       " u'8/31/2015 23:26',\n",
       " u'8/31/2015 23:11',\n",
       " u'8/31/2015 23:13',\n",
       " u'8/31/2015 23:10']"
      ]
     },
     "execution_count": 5,
     "metadata": {},
     "output_type": "execute_result"
    }
   ],
   "source": [
    "dates.take(5)"
   ]
  },
  {
   "cell_type": "code",
   "execution_count": 8,
   "metadata": {
    "collapsed": true
   },
   "outputs": [],
   "source": [
    "from datetime import datetime, timedelta"
   ]
  },
  {
   "cell_type": "code",
   "execution_count": 9,
   "metadata": {
    "collapsed": true
   },
   "outputs": [],
   "source": [
    "def convert_date(date_str):\n",
    "    try:\n",
    "        return datetime.strptime(date_str, '%m/%d/%Y %H:%M')\n",
    "    except ValueError:\n",
    "        return None"
   ]
  },
  {
   "cell_type": "code",
   "execution_count": 10,
   "metadata": {
    "collapsed": true
   },
   "outputs": [],
   "source": [
    "dates = (dates\n",
    "        .map(lambda x: convert_date(x))\n",
    "        .filter(lambda x: x != None))"
   ]
  },
  {
   "cell_type": "code",
   "execution_count": 11,
   "metadata": {
    "collapsed": false
   },
   "outputs": [
    {
     "data": {
      "text/plain": [
       "[datetime.datetime(2015, 8, 31, 23, 26),\n",
       " datetime.datetime(2015, 8, 31, 23, 11),\n",
       " datetime.datetime(2015, 8, 31, 23, 13),\n",
       " datetime.datetime(2015, 8, 31, 23, 10),\n",
       " datetime.datetime(2015, 8, 31, 23, 9)]"
      ]
     },
     "execution_count": 11,
     "metadata": {},
     "output_type": "execute_result"
    }
   ],
   "source": [
    "dates.take(5)"
   ]
  },
  {
   "cell_type": "code",
   "execution_count": 19,
   "metadata": {
    "collapsed": true
   },
   "outputs": [],
   "source": [
    "from operator import add"
   ]
  },
  {
   "cell_type": "code",
   "execution_count": 20,
   "metadata": {
    "collapsed": true
   },
   "outputs": [],
   "source": [
    "def seqOp(d, (h, c)):\n",
    "    d[h] = c\n",
    "    return d\n",
    "def combOp(d1, d2):\n",
    "    d1.update(d2)\n",
    "    return d1"
   ]
  },
  {
   "cell_type": "code",
   "execution_count": 21,
   "metadata": {
    "collapsed": false
   },
   "outputs": [],
   "source": [
    "hourly_counts = (\n",
    "    dates\n",
    "    .map(lambda x: ((x.year, x.month, x.day, x.hour), 1))\n",
    "    .reduceByKey(add)\n",
    "    .map(lambda ((y, m, d, h), c): ((y, m, d), (h, c)))\n",
    "    .aggregateByKey({}, seqOp, combOp))"
   ]
  },
  {
   "cell_type": "code",
   "execution_count": 22,
   "metadata": {
    "collapsed": true
   },
   "outputs": [],
   "source": [
    "from pyspark.ml.linalg import Vectors"
   ]
  },
  {
   "cell_type": "code",
   "execution_count": 23,
   "metadata": {
    "collapsed": false
   },
   "outputs": [],
   "source": [
    "X = (hourly_counts\n",
    "     .map(lambda (day, d): (day, Vectors.dense([d.get(i, 0) for i in range(24)]))))"
   ]
  },
  {
   "cell_type": "code",
   "execution_count": 24,
   "metadata": {
    "collapsed": false
   },
   "outputs": [
    {
     "data": {
      "text/plain": [
       "PythonRDD[29] at RDD at PythonRDD.scala:48"
      ]
     },
     "execution_count": 24,
     "metadata": {},
     "output_type": "execute_result"
    }
   ],
   "source": [
    "X.cache()"
   ]
  },
  {
   "cell_type": "code",
   "execution_count": 25,
   "metadata": {
    "collapsed": true
   },
   "outputs": [],
   "source": [
    "from pyspark.sql import Row"
   ]
  },
  {
   "cell_type": "code",
   "execution_count": 26,
   "metadata": {
    "collapsed": false
   },
   "outputs": [],
   "source": [
    "Xdf = spark.createDataFrame(X.map(lambda x: Row(features = x[1], day=x[0])))"
   ]
  },
  {
   "cell_type": "code",
   "execution_count": 27,
   "metadata": {
    "collapsed": true
   },
   "outputs": [],
   "source": [
    "from pyspark.ml.clustering import KMeans"
   ]
  },
  {
   "cell_type": "code",
   "execution_count": 28,
   "metadata": {
    "collapsed": false
   },
   "outputs": [
    {
     "ename": "NameError",
     "evalue": "name 'X_norm' is not defined",
     "output_type": "error",
     "traceback": [
      "\u001b[0;31m---------------------------------------------------------------------------\u001b[0m",
      "\u001b[0;31mNameError\u001b[0m                                 Traceback (most recent call last)",
      "\u001b[0;32m<ipython-input-28-e40c302f9e61>\u001b[0m in \u001b[0;36m<module>\u001b[0;34m()\u001b[0m\n\u001b[0;32m----> 1\u001b[0;31m \u001b[0mX_norm\u001b[0m\u001b[0;34m.\u001b[0m\u001b[0mcache\u001b[0m\u001b[0;34m(\u001b[0m\u001b[0;34m)\u001b[0m\u001b[0;34m\u001b[0m\u001b[0m\n\u001b[0m\u001b[1;32m      2\u001b[0m \u001b[0mXdf\u001b[0m\u001b[0;34m.\u001b[0m\u001b[0mcache\u001b[0m\u001b[0;34m(\u001b[0m\u001b[0;34m)\u001b[0m\u001b[0;34m\u001b[0m\u001b[0m\n",
      "\u001b[0;31mNameError\u001b[0m: name 'X_norm' is not defined"
     ]
    }
   ],
   "source": [
    "Xdf.cache()"
   ]
  },
  {
   "cell_type": "code",
   "execution_count": 98,
   "metadata": {
    "collapsed": false
   },
   "outputs": [],
   "source": [
    "ks = range(2, 10)\n",
    "costs = []\n",
    "for k in ks:\n",
    "    costs.append(KMeans().setK(k).fit(Xdf).computeCost(Xdf))"
   ]
  },
  {
   "cell_type": "code",
   "execution_count": 99,
   "metadata": {
    "collapsed": false
   },
   "outputs": [
    {
     "data": {
      "text/plain": [
       "[<matplotlib.lines.Line2D at 0x112b14d10>]"
      ]
     },
     "execution_count": 99,
     "metadata": {},
     "output_type": "execute_result"
    },
    {
     "data": {
      "image/png": "[encoded data removed]",
      "text/plain": [
       "<matplotlib.figure.Figure at 0x112a38710>"
      ]
     },
     "metadata": {},
     "output_type": "display_data"
    }
   ],
   "source": [
    "plt.plot(ks, costs)"
   ]
  },
  {
   "cell_type": "code",
   "execution_count": 151,
   "metadata": {
    "collapsed": false
   },
   "outputs": [],
   "source": [
    "model = KMeans().setK(4).fit(Xdf)"
   ]
  },
  {
   "cell_type": "code",
   "execution_count": 152,
   "metadata": {
    "collapsed": false
   },
   "outputs": [],
   "source": [
    "centers = [Vectors.dense(x) for x in model.clusterCenters()]"
   ]
  },
  {
   "cell_type": "code",
   "execution_count": 153,
   "metadata": {
    "collapsed": false
   },
   "outputs": [
    {
     "name": "stdout",
     "output_type": "stream",
     "text": [
      "+------------+--------------------+----------+\n",
      "|         day|            features|prediction|\n",
      "+------------+--------------------+----------+\n",
      "|[2014,10,25]|[4.0,4.0,5.0,1.0,...|         1|\n",
      "| [2015,1,22]|[1.0,1.0,0.0,0.0,...|         2|\n",
      "| [2015,6,14]|[2.0,5.0,2.0,3.0,...|         1|\n",
      "| [2014,12,5]|[2.0,1.0,1.0,0.0,...|         2|\n",
      "| [2014,11,6]|[2.0,0.0,2.0,0.0,...|         0|\n",
      "+------------+--------------------+----------+\n",
      "only showing top 5 rows\n",
      "\n"
     ]
    }
   ],
   "source": [
    "predictions = model.transform(Xdf)\n",
    "predictions.show(5)"
   ]
  },
  {
   "cell_type": "code",
   "execution_count": 191,
   "metadata": {
    "collapsed": true
   },
   "outputs": [],
   "source": [
    "from pyspark.sql.functions import udf\n",
    "from pyspark.sql.types import DoubleType, DateType, IntegerType, StringType\n",
    "from pyspark.ml.linalg import VectorUDT"
   ]
  },
  {
   "cell_type": "code",
   "execution_count": 275,
   "metadata": {
    "collapsed": true
   },
   "outputs": [],
   "source": [
    "from calendar import day_abbr, month_abbr\n",
    "from datetime import date\n",
    "def get_weekday(d):\n",
    "    return day_abbr[date(*d).weekday()]"
   ]
  },
  {
   "cell_type": "code",
   "execution_count": 277,
   "metadata": {
    "collapsed": false
   },
   "outputs": [],
   "source": [
    "per_weekday = predictions.select(udf(get_weekday, StringType())(predictions.day).alias('weekday'),\n",
    "                  predictions.prediction.alias('class'))"
   ]
  },
  {
   "cell_type": "code",
   "execution_count": 278,
   "metadata": {
    "collapsed": false
   },
   "outputs": [
    {
     "name": "stdout",
     "output_type": "stream",
     "text": [
      "+-------+-----+\n",
      "|weekday|class|\n",
      "+-------+-----+\n",
      "|    Sat|    1|\n",
      "|    Thu|    2|\n",
      "|    Sun|    1|\n",
      "|    Fri|    2|\n",
      "|    Thu|    0|\n",
      "+-------+-----+\n",
      "only showing top 5 rows\n",
      "\n"
     ]
    }
   ],
   "source": [
    "per_weekday.show(5)"
   ]
  },
  {
   "cell_type": "code",
   "execution_count": 279,
   "metadata": {
    "collapsed": false
   },
   "outputs": [
    {
     "name": "stdout",
     "output_type": "stream",
     "text": [
      "+-----+-------+-----+\n",
      "|class|weekday|count|\n",
      "+-----+-------+-----+\n",
      "|    0|    Tue|   42|\n",
      "|    0|    Thu|   32|\n",
      "|    0|    Wed|   39|\n",
      "|    0|    Mon|   39|\n",
      "|    1|    Sun|   52|\n",
      "|    1|    Mon|    3|\n",
      "|    1|    Thu|    4|\n",
      "|    1|    Fri|    4|\n",
      "|    1|    Sat|   52|\n",
      "|    1|    Wed|    2|\n",
      "|    2|    Tue|    6|\n",
      "|    2|    Thu|   15|\n",
      "|    2|    Wed|    6|\n",
      "|    2|    Fri|   44|\n",
      "|    2|    Mon|    7|\n",
      "|    3|    Wed|    5|\n",
      "|    3|    Fri|    4|\n",
      "|    3|    Mon|    4|\n",
      "|    3|    Tue|    4|\n",
      "|    3|    Thu|    1|\n",
      "+-----+-------+-----+\n",
      "\n"
     ]
    }
   ],
   "source": [
    "per_weekday.groupby('class', 'weekday').count().orderBy(per_weekday['class']).show()"
   ]
  },
  {
   "cell_type": "code",
   "execution_count": 298,
   "metadata": {
    "collapsed": false
   },
   "outputs": [],
   "source": [
    "df = per_weekday.groupby('class', 'weekday').count().orderBy(per_weekday['class']).toPandas()"
   ]
  },
  {
   "cell_type": "code",
   "execution_count": 295,
   "metadata": {
    "collapsed": false
   },
   "outputs": [
    {
     "data": {
      "text/html": [
       "<div>\n",
       "<table border=\"1\" class=\"dataframe\">\n",
       "  <thead>\n",
       "    <tr style=\"text-align: right;\">\n",
       "      <th></th>\n",
       "      <th>class</th>\n",
       "      <th>weekday</th>\n",
       "      <th>sum(class)</th>\n",
       "    </tr>\n",
       "  </thead>\n",
       "  <tbody>\n",
       "    <tr>\n",
       "      <th>0</th>\n",
       "      <td>0</td>\n",
       "      <td>Wed</td>\n",
       "      <td>0</td>\n",
       "    </tr>\n",
       "    <tr>\n",
       "      <th>1</th>\n",
       "      <td>0</td>\n",
       "      <td>Tue</td>\n",
       "      <td>0</td>\n",
       "    </tr>\n",
       "    <tr>\n",
       "      <th>2</th>\n",
       "      <td>0</td>\n",
       "      <td>Thu</td>\n",
       "      <td>0</td>\n",
       "    </tr>\n",
       "    <tr>\n",
       "      <th>3</th>\n",
       "      <td>0</td>\n",
       "      <td>Mon</td>\n",
       "      <td>0</td>\n",
       "    </tr>\n",
       "    <tr>\n",
       "      <th>4</th>\n",
       "      <td>1</td>\n",
       "      <td>Thu</td>\n",
       "      <td>4</td>\n",
       "    </tr>\n",
       "  </tbody>\n",
       "</table>\n",
       "</div>"
      ],
      "text/plain": [
       "   class weekday  sum(class)\n",
       "0      0     Wed           0\n",
       "1      0     Tue           0\n",
       "2      0     Thu           0\n",
       "3      0     Mon           0\n",
       "4      1     Thu           4"
      ]
     },
     "execution_count": 295,
     "metadata": {},
     "output_type": "execute_result"
    }
   ],
   "source": [
    "df.head()"
   ]
  },
  {
   "cell_type": "code",
   "execution_count": 282,
   "metadata": {
    "collapsed": false
   },
   "outputs": [
    {
     "data": {
      "text/plain": [
       "<matplotlib.axes._subplots.AxesSubplot at 0x11c5a0490>"
      ]
     },
     "execution_count": 282,
     "metadata": {},
     "output_type": "execute_result"
    },
    {
     "data": {
      "image/png": "[encoded data removed]",
      "text/plain": [
       "<matplotlib.figure.Figure at 0x11c5a0510>"
      ]
     },
     "metadata": {},
     "output_type": "display_data"
    }
   ],
   "source": [
    "df.pivot_table(index='class', columns='weekday', values='count').fillna(0).plot.bar()"
   ]
  },
  {
   "cell_type": "code",
   "execution_count": 286,
   "metadata": {
    "collapsed": true
   },
   "outputs": [],
   "source": [
    "per_month = predictions.select(udf(lambda x: month_abbr[x[1]],\n",
    "                                   StringType())(predictions.day).alias('month'),\n",
    "                  predictions.prediction.alias('class'))"
   ]
  },
  {
   "cell_type": "code",
   "execution_count": 289,
   "metadata": {
    "collapsed": false
   },
   "outputs": [],
   "source": [
    "mdf = per_month.groupBy('month', 'class').count().toPandas()"
   ]
  },
  {
   "cell_type": "code",
   "execution_count": 290,
   "metadata": {
    "collapsed": false
   },
   "outputs": [
    {
     "data": {
      "text/html": [
       "<div>\n",
       "<table border=\"1\" class=\"dataframe\">\n",
       "  <thead>\n",
       "    <tr style=\"text-align: right;\">\n",
       "      <th></th>\n",
       "      <th>month</th>\n",
       "      <th>class</th>\n",
       "      <th>count</th>\n",
       "    </tr>\n",
       "  </thead>\n",
       "  <tbody>\n",
       "    <tr>\n",
       "      <th>0</th>\n",
       "      <td>Aug</td>\n",
       "      <td>2</td>\n",
       "      <td>4</td>\n",
       "    </tr>\n",
       "    <tr>\n",
       "      <th>1</th>\n",
       "      <td>Feb</td>\n",
       "      <td>1</td>\n",
       "      <td>9</td>\n",
       "    </tr>\n",
       "    <tr>\n",
       "      <th>2</th>\n",
       "      <td>Oct</td>\n",
       "      <td>1</td>\n",
       "      <td>8</td>\n",
       "    </tr>\n",
       "    <tr>\n",
       "      <th>3</th>\n",
       "      <td>May</td>\n",
       "      <td>1</td>\n",
       "      <td>11</td>\n",
       "    </tr>\n",
       "    <tr>\n",
       "      <th>4</th>\n",
       "      <td>Nov</td>\n",
       "      <td>2</td>\n",
       "      <td>7</td>\n",
       "    </tr>\n",
       "  </tbody>\n",
       "</table>\n",
       "</div>"
      ],
      "text/plain": [
       "  month  class  count\n",
       "0   Aug      2      4\n",
       "1   Feb      1      9\n",
       "2   Oct      1      8\n",
       "3   May      1     11\n",
       "4   Nov      2      7"
      ]
     },
     "execution_count": 290,
     "metadata": {},
     "output_type": "execute_result"
    }
   ],
   "source": [
    "mdf.head()"
   ]
  },
  {
   "cell_type": "code",
   "execution_count": 293,
   "metadata": {
    "collapsed": false
   },
   "outputs": [
    {
     "data": {
      "text/plain": [
       "<matplotlib.legend.Legend at 0x11cb90c50>"
      ]
     },
     "execution_count": 293,
     "metadata": {},
     "output_type": "execute_result"
    },
    {
     "data": {
      "image/png": "[encoded data removed]",
      "text/plain": [
       "<matplotlib.figure.Figure at 0x11ca9e790>"
      ]
     },
     "metadata": {},
     "output_type": "display_data"
    }
   ],
   "source": [
    "mdf.pivot_table(index='class', values='count', columns='month').plot.bar()\n",
    "plt.legend(bbox_to_anchor=(1,1))"
   ]
  },
  {
   "cell_type": "code",
   "execution_count": 200,
   "metadata": {
    "collapsed": false
   },
   "outputs": [
    {
     "data": {
      "text/plain": [
       "<matplotlib.legend.Legend at 0x11323cf90>"
      ]
     },
     "execution_count": 200,
     "metadata": {},
     "output_type": "execute_result"
    },
    {
     "data": {
      "image/png": "[encoded data removed]",
      "text/plain": [
       "<matplotlib.figure.Figure at 0x112fd7610>"
      ]
     },
     "metadata": {},
     "output_type": "display_data"
    }
   ],
   "source": [
    "for n, center in enumerate(centers):\n",
    "    plt.plot(center, label='class {}'.format(n))\n",
    "plt.legend()"
   ]
  },
  {
   "cell_type": "code",
   "execution_count": 140,
   "metadata": {
    "collapsed": true
   },
   "outputs": [],
   "source": [
    "def dist_from_center(x, cluster):\n",
    "    return float((x - centers[cluster]).norm(2))"
   ]
  },
  {
   "cell_type": "code",
   "execution_count": 141,
   "metadata": {
    "collapsed": false
   },
   "outputs": [],
   "source": [
    "d_udf = udf(dist_from_center, DoubleType())"
   ]
  },
  {
   "cell_type": "code",
   "execution_count": 167,
   "metadata": {
    "collapsed": false
   },
   "outputs": [],
   "source": [
    "dists = predictions.select(d_udf(predictions['features'], predictions['prediction']).alias('dist'),\n",
    "                           predictions.day, predictions.prediction)"
   ]
  },
  {
   "cell_type": "code",
   "execution_count": 168,
   "metadata": {
    "collapsed": false
   },
   "outputs": [
    {
     "name": "stdout",
     "output_type": "stream",
     "text": [
      "+------------------+------------+----------+\n",
      "|              dist|         day|prediction|\n",
      "+------------------+------------+----------+\n",
      "|114.50617267312238| [2015,6,10]|         3|\n",
      "|103.58945260671099|[2014,12,16]|         3|\n",
      "| 97.30534541798606|[2014,11,20]|         3|\n",
      "| 85.53735472443857|  [2015,3,9]|         2|\n",
      "| 85.06205069909734|[2014,11,19]|         3|\n",
      "+------------------+------------+----------+\n",
      "only showing top 5 rows\n",
      "\n"
     ]
    }
   ],
   "source": [
    "dists.orderBy(dists.dist.desc()).show(5)"
   ]
  },
  {
   "cell_type": "code",
   "execution_count": 203,
   "metadata": {
    "collapsed": true
   },
   "outputs": [],
   "source": [
    "from pyspark.sql.functions import stddev, mean"
   ]
  },
  {
   "cell_type": "code",
   "execution_count": 206,
   "metadata": {
    "collapsed": false
   },
   "outputs": [],
   "source": [
    "dist_stats = dists.groupby('prediction').agg(stddev('dist').alias('sd'), mean('dist').alias('mu'))"
   ]
  },
  {
   "cell_type": "code",
   "execution_count": 207,
   "metadata": {
    "collapsed": false
   },
   "outputs": [
    {
     "name": "stdout",
     "output_type": "stream",
     "text": [
      "+----------+------------------+-----------------+\n",
      "|prediction|                sd|               mu|\n",
      "+----------+------------------+-----------------+\n",
      "|         1|12.180383884636234|33.48106241560186|\n",
      "|         3|17.617176050659342| 75.0403048706926|\n",
      "|         2|12.459721867858798|45.19279417421274|\n",
      "|         0| 9.411019960537754|39.86197153745228|\n",
      "+----------+------------------+-----------------+\n",
      "\n"
     ]
    }
   ],
   "source": [
    "dist_stats.show()"
   ]
  },
  {
   "cell_type": "code",
   "execution_count": 220,
   "metadata": {
    "collapsed": false
   },
   "outputs": [
    {
     "name": "stdout",
     "output_type": "stream",
     "text": [
      "+------------------+------------+----------+------------------+-----------------+\n",
      "|              dist|         day|prediction|                sd|               mu|\n",
      "+------------------+------------+----------+------------------+-----------------+\n",
      "| 27.53400331046732|[2014,10,25]|         1|12.180383884636235|33.48106241560186|\n",
      "|  32.1725046623595| [2015,6,14]|         1|12.180383884636235|33.48106241560186|\n",
      "| 54.14622466980623| [2014,9,13]|         1|12.180383884636235|33.48106241560186|\n",
      "| 30.13136432487921|  [2015,7,5]|         1|12.180383884636235|33.48106241560186|\n",
      "|30.903101465405822|[2014,12,28]|         1|12.180383884636235|33.48106241560186|\n",
      "| 25.80104625540358| [2015,8,29]|         1|12.180383884636235|33.48106241560186|\n",
      "|25.184820516626118|  [2015,4,4]|         1|12.180383884636235|33.48106241560186|\n",
      "| 65.82592925460644|  [2015,2,8]|         1|12.180383884636235|33.48106241560186|\n",
      "|25.358151908515644|[2014,12,20]|         1|12.180383884636235|33.48106241560186|\n",
      "|31.980121574310246|[2014,11,23]|         1|12.180383884636235|33.48106241560186|\n",
      "|24.470494457296653|  [2015,5,3]|         1|12.180383884636235|33.48106241560186|\n",
      "| 29.90114718966633| [2015,4,12]|         1|12.180383884636235|33.48106241560186|\n",
      "|26.315832643154852|  [2015,6,7]|         1|12.180383884636235|33.48106241560186|\n",
      "|21.745654164751222|[2014,11,15]|         1|12.180383884636235|33.48106241560186|\n",
      "| 47.58862147463804|  [2015,7,4]|         1|12.180383884636235|33.48106241560186|\n",
      "|  33.3057830482136|  [2015,2,1]|         1|12.180383884636235|33.48106241560186|\n",
      "|32.220553585305765| [2015,6,20]|         1|12.180383884636235|33.48106241560186|\n",
      "|28.381888497967882| [2015,7,12]|         1|12.180383884636235|33.48106241560186|\n",
      "| 46.83798193748359|[2014,12,31]|         1|12.180383884636235|33.48106241560186|\n",
      "|33.766062538093884|[2014,11,16]|         1|12.180383884636235|33.48106241560186|\n",
      "+------------------+------------+----------+------------------+-----------------+\n",
      "only showing top 20 rows\n",
      "\n"
     ]
    }
   ],
   "source": [
    "joined = dists.join(dist_stats, dist_stats.prediction == dists.prediction).drop(dist_stats.prediction)\n",
    "joined.show()"
   ]
  },
  {
   "cell_type": "code",
   "execution_count": 222,
   "metadata": {
    "collapsed": false
   },
   "outputs": [],
   "source": [
    "z_vals = joined.select(udf(lambda d, mu, sd: abs(d - mu)/sd, FloatType())(\n",
    "    joined.dist, joined.mu, joined.sd).alias('z'), joined.day, \"prediction\")"
   ]
  },
  {
   "cell_type": "code",
   "execution_count": 224,
   "metadata": {
    "collapsed": false
   },
   "outputs": [
    {
     "name": "stdout",
     "output_type": "stream",
     "text": [
      "+---------+------------+----------+\n",
      "|        z|         day|prediction|\n",
      "+---------+------------+----------+\n",
      "|3.9372978|  [2015,6,1]|         0|\n",
      "|3.9098947|[2014,10,20]|         0|\n",
      "| 3.554857|[2014,12,11]|         1|\n",
      "|3.2379985|  [2015,3,9]|         2|\n",
      "|3.1249666| [2014,9,25]|         2|\n",
      "+---------+------------+----------+\n",
      "only showing top 5 rows\n",
      "\n"
     ]
    }
   ],
   "source": [
    "z_vals.orderBy(z_vals.z.desc()).show(5)"
   ]
  },
  {
   "cell_type": "code",
   "execution_count": 227,
   "metadata": {
    "collapsed": false
   },
   "outputs": [
    {
     "data": {
      "text/plain": [
       "<matplotlib.text.Text at 0x1131a5dd0>"
      ]
     },
     "execution_count": 227,
     "metadata": {},
     "output_type": "execute_result"
    },
    {
     "data": {
      "image/png": "[encoded data removed]",
      "text/plain": [
       "<matplotlib.figure.Figure at 0x113470490>"
      ]
     },
     "metadata": {},
     "output_type": "display_data"
    }
   ],
   "source": [
    "for day, features, cluster in predictions.rdd.filter(lambda x :x.day in (Row(2015,6,1),\n",
    "                                                                         Row(2014,10,20))).collect():\n",
    "    plt.plot(features, label='outlier: {}'.format(day))\n",
    "plt.plot(centers[cluster], label='cluster mean')\n",
    "plt.legend(loc='lower left')\n",
    "plt.xlabel('hour')\n",
    "plt.ylabel('trip count')"
   ]
  },
  {
   "cell_type": "markdown",
   "metadata": {},
   "source": [
    "# Regression\n",
    "\n",
    "## The Pandas Way (smaller datasets)"
   ]
  },
  {
   "cell_type": "code",
   "execution_count": 31,
   "metadata": {
    "collapsed": true
   },
   "outputs": [],
   "source": [
    "dates_frame = spark.createDataFrame(dates.map(lambda x: Row(date = x)))"
   ]
  },
  {
   "cell_type": "code",
   "execution_count": 33,
   "metadata": {
    "collapsed": false
   },
   "outputs": [],
   "source": [
    "pd_dates = dates_frame.toPandas()"
   ]
  },
  {
   "cell_type": "code",
   "execution_count": 36,
   "metadata": {
    "collapsed": false
   },
   "outputs": [],
   "source": [
    "date_counts = pd_dates.groupby('date').size()\n",
    "date_counts.name = 'count'"
   ]
  },
  {
   "cell_type": "code",
   "execution_count": 41,
   "metadata": {
    "collapsed": false
   },
   "outputs": [],
   "source": [
    "hourly = date_counts.resample('1h').sum().fillna(0)"
   ]
  },
  {
   "cell_type": "code",
   "execution_count": 44,
   "metadata": {
    "collapsed": false
   },
   "outputs": [
    {
     "data": {
      "text/plain": [
       "date\n",
       "2014-09-01 00:00:00    3.0\n",
       "2014-09-01 01:00:00    0.0\n",
       "2014-09-01 02:00:00    0.0\n",
       "2014-09-01 03:00:00    1.0\n",
       "2014-09-01 04:00:00    2.0\n",
       "Freq: H, Name: count, dtype: float64"
      ]
     },
     "execution_count": 44,
     "metadata": {},
     "output_type": "execute_result"
    }
   ],
   "source": [
    "hourly.head(5)"
   ]
  },
  {
   "cell_type": "code",
   "execution_count": 45,
   "metadata": {
    "collapsed": false
   },
   "outputs": [
    {
     "data": {
      "text/plain": [
       "date\n",
       "2014-09-01 00:00:00    NaN\n",
       "2014-09-01 01:00:00    3.0\n",
       "2014-09-01 02:00:00    0.0\n",
       "2014-09-01 03:00:00    0.0\n",
       "2014-09-01 04:00:00    1.0\n",
       "Freq: H, Name: count, dtype: float64"
      ]
     },
     "execution_count": 45,
     "metadata": {},
     "output_type": "execute_result"
    }
   ],
   "source": [
    "hourly.shift(1).head(5)"
   ]
  },
  {
   "cell_type": "code",
   "execution_count": 42,
   "metadata": {
    "collapsed": true
   },
   "outputs": [],
   "source": [
    "shifts = {'1h': 1, '1d': 24, '1w': 7*24, '1m': 28*24}"
   ]
  },
  {
   "cell_type": "code",
   "execution_count": 43,
   "metadata": {
    "collapsed": true
   },
   "outputs": [],
   "source": [
    "import pandas"
   ]
  },
  {
   "cell_type": "code",
   "execution_count": 46,
   "metadata": {
    "collapsed": true
   },
   "outputs": [],
   "source": [
    "X = pandas.DataFrame({k: hourly.shift(shifts[k]) for k in shifts})"
   ]
  },
  {
   "cell_type": "code",
   "execution_count": 47,
   "metadata": {
    "collapsed": true
   },
   "outputs": [],
   "source": [
    "X['current'] = hourly\n",
    "X = X.dropna()"
   ]
  },
  {
   "cell_type": "code",
   "execution_count": 49,
   "metadata": {
    "collapsed": false
   },
   "outputs": [
    {
     "data": {
      "text/html": [
       "<div>\n",
       "<table border=\"1\" class=\"dataframe\">\n",
       "  <thead>\n",
       "    <tr style=\"text-align: right;\">\n",
       "      <th></th>\n",
       "      <th>1d</th>\n",
       "      <th>1h</th>\n",
       "      <th>1m</th>\n",
       "      <th>1w</th>\n",
       "      <th>current</th>\n",
       "    </tr>\n",
       "    <tr>\n",
       "      <th>date</th>\n",
       "      <th></th>\n",
       "      <th></th>\n",
       "      <th></th>\n",
       "      <th></th>\n",
       "      <th></th>\n",
       "    </tr>\n",
       "  </thead>\n",
       "  <tbody>\n",
       "    <tr>\n",
       "      <th>2014-09-29 00:00:00</th>\n",
       "      <td>7.0</td>\n",
       "      <td>1.0</td>\n",
       "      <td>3.0</td>\n",
       "      <td>2.0</td>\n",
       "      <td>1.0</td>\n",
       "    </tr>\n",
       "    <tr>\n",
       "      <th>2014-09-29 01:00:00</th>\n",
       "      <td>4.0</td>\n",
       "      <td>1.0</td>\n",
       "      <td>0.0</td>\n",
       "      <td>4.0</td>\n",
       "      <td>0.0</td>\n",
       "    </tr>\n",
       "    <tr>\n",
       "      <th>2014-09-29 02:00:00</th>\n",
       "      <td>4.0</td>\n",
       "      <td>0.0</td>\n",
       "      <td>0.0</td>\n",
       "      <td>0.0</td>\n",
       "      <td>0.0</td>\n",
       "    </tr>\n",
       "    <tr>\n",
       "      <th>2014-09-29 03:00:00</th>\n",
       "      <td>1.0</td>\n",
       "      <td>0.0</td>\n",
       "      <td>1.0</td>\n",
       "      <td>1.0</td>\n",
       "      <td>1.0</td>\n",
       "    </tr>\n",
       "    <tr>\n",
       "      <th>2014-09-29 04:00:00</th>\n",
       "      <td>1.0</td>\n",
       "      <td>1.0</td>\n",
       "      <td>2.0</td>\n",
       "      <td>1.0</td>\n",
       "      <td>3.0</td>\n",
       "    </tr>\n",
       "  </tbody>\n",
       "</table>\n",
       "</div>"
      ],
      "text/plain": [
       "                      1d   1h   1m   1w  current\n",
       "date                                            \n",
       "2014-09-29 00:00:00  7.0  1.0  3.0  2.0      1.0\n",
       "2014-09-29 01:00:00  4.0  1.0  0.0  4.0      0.0\n",
       "2014-09-29 02:00:00  4.0  0.0  0.0  0.0      0.0\n",
       "2014-09-29 03:00:00  1.0  0.0  1.0  1.0      1.0\n",
       "2014-09-29 04:00:00  1.0  1.0  2.0  1.0      3.0"
      ]
     },
     "execution_count": 49,
     "metadata": {},
     "output_type": "execute_result"
    }
   ],
   "source": [
    "X.head(5)"
   ]
  },
  {
   "cell_type": "code",
   "execution_count": 50,
   "metadata": {
    "collapsed": true
   },
   "outputs": [],
   "source": [
    "from sklearn.ensemble import GradientBoostingRegressor"
   ]
  },
  {
   "cell_type": "code",
   "execution_count": 51,
   "metadata": {
    "collapsed": true
   },
   "outputs": [],
   "source": [
    "?GradientBoostingRegressor"
   ]
  },
  {
   "cell_type": "code",
   "execution_count": 53,
   "metadata": {
    "collapsed": false
   },
   "outputs": [
    {
     "data": {
      "text/plain": [
       "(Timestamp('2014-09-29 00:00:00', freq='H'),\n",
       " Timestamp('2015-08-31 23:00:00', freq='H'))"
      ]
     },
     "execution_count": 53,
     "metadata": {},
     "output_type": "execute_result"
    }
   ],
   "source": [
    "X.index.min(), X.index.max()"
   ]
  },
  {
   "cell_type": "code",
   "execution_count": 64,
   "metadata": {
    "collapsed": false
   },
   "outputs": [],
   "source": [
    "split_point = '2015-8-21'\n",
    "train, test = X[:split_point], X[split_point:]"
   ]
  },
  {
   "cell_type": "code",
   "execution_count": 65,
   "metadata": {
    "collapsed": false
   },
   "outputs": [],
   "source": [
    "model = GradientBoostingRegressor(loss='huber').fit(train[shifts.keys()], train.current)"
   ]
  },
  {
   "cell_type": "code",
   "execution_count": 66,
   "metadata": {
    "collapsed": false
   },
   "outputs": [],
   "source": [
    "pred = pandas.Series(model.predict(test[shifts.keys()]), index=test.index)"
   ]
  },
  {
   "cell_type": "code",
   "execution_count": 67,
   "metadata": {
    "collapsed": false
   },
   "outputs": [
    {
     "data": {
      "text/plain": [
       "<matplotlib.axes._subplots.AxesSubplot at 0x10fb461d0>"
      ]
     },
     "execution_count": 67,
     "metadata": {},
     "output_type": "execute_result"
    },
    {
     "data": {
      "image/png": "[encoded data removed]",
      "text/plain": [
       "<matplotlib.figure.Figure at 0x10d3cbe90>"
      ]
     },
     "metadata": {},
     "output_type": "display_data"
    }
   ],
   "source": [
    "test.current.plot()\n",
    "pred.plot()"
   ]
  },
  {
   "cell_type": "code",
   "execution_count": 68,
   "metadata": {
    "collapsed": true
   },
   "outputs": [],
   "source": [
    "errs = pred - test.current"
   ]
  },
  {
   "cell_type": "code",
   "execution_count": 69,
   "metadata": {
    "collapsed": true
   },
   "outputs": [],
   "source": [
    "mu, sigma = errs.mean(), errs.std()"
   ]
  },
  {
   "cell_type": "code",
   "execution_count": 70,
   "metadata": {
    "collapsed": false
   },
   "outputs": [
    {
     "data": {
      "text/plain": [
       "(-0.8362624197173516, 8.5451760079535219)"
      ]
     },
     "execution_count": 70,
     "metadata": {},
     "output_type": "execute_result"
    }
   ],
   "source": [
    "mu, sigma"
   ]
  },
  {
   "cell_type": "code",
   "execution_count": 71,
   "metadata": {
    "collapsed": true
   },
   "outputs": [],
   "source": [
    "zs = errs / sigma"
   ]
  },
  {
   "cell_type": "code",
   "execution_count": 72,
   "metadata": {
    "collapsed": false
   },
   "outputs": [
    {
     "data": {
      "text/plain": [
       "<matplotlib.axes._subplots.AxesSubplot at 0x10fb41690>"
      ]
     },
     "execution_count": 72,
     "metadata": {},
     "output_type": "execute_result"
    },
    {
     "data": {
      "image/png": "[encoded data removed]",
      "text/plain": [
       "<matplotlib.figure.Figure at 0x1104b1790>"
      ]
     },
     "metadata": {},
     "output_type": "display_data"
    }
   ],
   "source": [
    "zs.plot.line()"
   ]
  },
  {
   "cell_type": "markdown",
   "metadata": {
    "collapsed": true
   },
   "source": [
    "## For Grownups: The Spark Way"
   ]
  },
  {
   "cell_type": "code",
   "execution_count": 13,
   "metadata": {
    "collapsed": false
   },
   "outputs": [],
   "source": [
    "?datetime"
   ]
  },
  {
   "cell_type": "code",
   "execution_count": 28,
   "metadata": {
    "collapsed": true
   },
   "outputs": [],
   "source": [
    "from operator import add"
   ]
  },
  {
   "cell_type": "code",
   "execution_count": 31,
   "metadata": {
    "collapsed": false
   },
   "outputs": [],
   "source": [
    "whole_hours = dates.map(lambda x: datetime(x.year, x.month, x.day, x.hour))"
   ]
  },
  {
   "cell_type": "code",
   "execution_count": 32,
   "metadata": {
    "collapsed": false
   },
   "outputs": [],
   "source": [
    "whole_hours = whole_hours.cache()"
   ]
  },
  {
   "cell_type": "code",
   "execution_count": 33,
   "metadata": {
    "collapsed": false
   },
   "outputs": [],
   "source": [
    "min_date, max_date = whole_hours.min(), whole_hours.max()"
   ]
  },
  {
   "cell_type": "code",
   "execution_count": 63,
   "metadata": {
    "collapsed": false
   },
   "outputs": [
    {
     "data": {
      "text/plain": [
       "(datetime.datetime(2014, 9, 1, 0, 0), datetime.datetime(2015, 8, 31, 23, 0))"
      ]
     },
     "execution_count": 63,
     "metadata": {},
     "output_type": "execute_result"
    }
   ],
   "source": [
    "min_date, max_date"
   ]
  },
  {
   "cell_type": "code",
   "execution_count": 34,
   "metadata": {
    "collapsed": true
   },
   "outputs": [],
   "source": [
    "from datetime import timedelta"
   ]
  },
  {
   "cell_type": "code",
   "execution_count": 35,
   "metadata": {
    "collapsed": true
   },
   "outputs": [],
   "source": [
    "hours = [min_date]\n",
    "while hours[-1] < max_date:\n",
    "    hours.append(hours[-1] + timedelta(hours=1))"
   ]
  },
  {
   "cell_type": "code",
   "execution_count": 36,
   "metadata": {
    "collapsed": true
   },
   "outputs": [],
   "source": [
    "all_hours = sc.parallelize(((d, 0) for d in hours))"
   ]
  },
  {
   "cell_type": "code",
   "execution_count": 37,
   "metadata": {
    "collapsed": true
   },
   "outputs": [],
   "source": [
    "hourly_counts = whole_hours.map(lambda x: (x, 1)).reduceByKey(add).cache()"
   ]
  },
  {
   "cell_type": "code",
   "execution_count": 38,
   "metadata": {
    "collapsed": false
   },
   "outputs": [
    {
     "data": {
      "text/plain": [
       "[(datetime.datetime(2014, 11, 17, 21, 0), 14),\n",
       " (datetime.datetime(2015, 7, 10, 10, 0), 55),\n",
       " (datetime.datetime(2014, 10, 14, 10, 0), 53),\n",
       " (datetime.datetime(2014, 11, 25, 19, 0), 35),\n",
       " (datetime.datetime(2015, 7, 14, 8, 0), 210)]"
      ]
     },
     "execution_count": 38,
     "metadata": {},
     "output_type": "execute_result"
    }
   ],
   "source": [
    "hourly_counts.take(5)"
   ]
  },
  {
   "cell_type": "code",
   "execution_count": 40,
   "metadata": {
    "collapsed": false
   },
   "outputs": [],
   "source": [
    "full_counts = all_hours.leftOuterJoin(hourly_counts).map(lambda (k, v): (k, max(v))).cache()"
   ]
  },
  {
   "cell_type": "code",
   "execution_count": 41,
   "metadata": {
    "collapsed": false
   },
   "outputs": [
    {
     "data": {
      "text/plain": [
       "[(datetime.datetime(2014, 9, 21, 9, 0), 26),\n",
       " (datetime.datetime(2015, 3, 30, 21, 0), 22),\n",
       " (datetime.datetime(2015, 8, 31, 19, 0), 72),\n",
       " (datetime.datetime(2014, 9, 30, 4, 0), 1),\n",
       " (datetime.datetime(2015, 3, 12, 0, 0), 5)]"
      ]
     },
     "execution_count": 41,
     "metadata": {},
     "output_type": "execute_result"
    }
   ],
   "source": [
    "full_counts.take(5)"
   ]
  },
  {
   "cell_type": "code",
   "execution_count": 43,
   "metadata": {
    "collapsed": true
   },
   "outputs": [],
   "source": [
    "shifts = (timedelta(hours=1), timedelta(days=1), timedelta(days=7), timedelta(days=14), timedelta(days=28))"
   ]
  },
  {
   "cell_type": "code",
   "execution_count": 87,
   "metadata": {
    "collapsed": false
   },
   "outputs": [],
   "source": [
    "data = full_counts.map(lambda (d, c): (d, (c,)))\n",
    "for shift in shifts:\n",
    "    data = (data.join(full_counts.map(lambda (d, c) : (d + shift, c)))\n",
    "                     .map(lambda (d, (t, v)): (d, t+(v,))))\n",
    "data = data.cache()"
   ]
  },
  {
   "cell_type": "code",
   "execution_count": 55,
   "metadata": {
    "collapsed": false
   },
   "outputs": [
    {
     "data": {
      "text/plain": [
       "[(datetime.datetime(2015, 2, 12, 0, 0), (4, 0, 1, 6, 5, 5)),\n",
       " (datetime.datetime(2015, 3, 7, 10, 0), (28, 41, 33, 36, 35, 35)),\n",
       " (datetime.datetime(2014, 12, 18, 9, 0), (119, 39, 50, 6, 4, 149)),\n",
       " (datetime.datetime(2015, 6, 24, 18, 0), (137, 54, 138, 95, 144, 128)),\n",
       " (datetime.datetime(2015, 6, 6, 20, 0), (16, 8, 11, 11, 18, 26))]"
      ]
     },
     "execution_count": 55,
     "metadata": {},
     "output_type": "execute_result"
    }
   ],
   "source": [
    "data.take(5)"
   ]
  },
  {
   "cell_type": "code",
   "execution_count": 57,
   "metadata": {
    "collapsed": true
   },
   "outputs": [],
   "source": [
    "from pyspark.ml.linalg import Vectors"
   ]
  },
  {
   "cell_type": "code",
   "execution_count": 88,
   "metadata": {
    "collapsed": true
   },
   "outputs": [],
   "source": [
    "X = spark.createDataFrame(data.map(lambda (d, v): Row(date=d, features=Vectors.dense(v[1:]), label=v[0])))"
   ]
  },
  {
   "cell_type": "code",
   "execution_count": 89,
   "metadata": {
    "collapsed": false
   },
   "outputs": [
    {
     "name": "stdout",
     "output_type": "stream",
     "text": [
      "+--------------------+--------------------+-----+\n",
      "|                date|            features|label|\n",
      "+--------------------+--------------------+-----+\n",
      "|2015-02-12 00:00:...|[9.0,3.0,3.0,4.0,...|    4|\n",
      "|2015-03-07 10:00:...|[24.0,41.0,16.0,2...|   28|\n",
      "|2014-12-18 09:00:...|[176.0,93.0,9.0,1...|  119|\n",
      "|2015-06-24 18:00:...|[192.0,132.0,128....|  137|\n",
      "|2015-06-06 20:00:...|[29.0,11.0,8.0,11...|   16|\n",
      "+--------------------+--------------------+-----+\n",
      "only showing top 5 rows\n",
      "\n"
     ]
    }
   ],
   "source": [
    "X.show(5)"
   ]
  },
  {
   "cell_type": "code",
   "execution_count": 60,
   "metadata": {
    "collapsed": true
   },
   "outputs": [],
   "source": [
    "from pyspark.ml.regression import GBTRegressor"
   ]
  },
  {
   "cell_type": "code",
   "execution_count": 90,
   "metadata": {
    "collapsed": false
   },
   "outputs": [],
   "source": [
    "split_point = datetime(2015,8,21)\n",
    "Xtr = X.filter(X.date < split_point)\n",
    "Xte = X.filter(X.date >= split_point)\n",
    "model = GBTRegressor().fit(Xtr)"
   ]
  },
  {
   "cell_type": "code",
   "execution_count": 80,
   "metadata": {
    "collapsed": true
   },
   "outputs": [],
   "source": [
    "import pyspark.sql.functions as fn"
   ]
  },
  {
   "cell_type": "code",
   "execution_count": 91,
   "metadata": {
    "collapsed": false
   },
   "outputs": [
    {
     "name": "stdout",
     "output_type": "stream",
     "text": [
      "+--------------------+--------------------+\n",
      "|           max(date)|           min(date)|\n",
      "+--------------------+--------------------+\n",
      "|2015-08-31 23:00:...|2014-09-29 00:00:...|\n",
      "+--------------------+--------------------+\n",
      "\n"
     ]
    }
   ],
   "source": [
    "X.agg(fn.max(X.date), fn.min(X.date)).show()"
   ]
  },
  {
   "cell_type": "code",
   "execution_count": 92,
   "metadata": {
    "collapsed": false
   },
   "outputs": [
    {
     "data": {
      "text/plain": [
       "(7824, 264)"
      ]
     },
     "execution_count": 92,
     "metadata": {},
     "output_type": "execute_result"
    }
   ],
   "source": [
    "Xtr.count(), Xte.count()"
   ]
  },
  {
   "cell_type": "code",
   "execution_count": 93,
   "metadata": {
    "collapsed": true
   },
   "outputs": [],
   "source": [
    "prediction = model.transform(Xte)"
   ]
  },
  {
   "cell_type": "code",
   "execution_count": 94,
   "metadata": {
    "collapsed": false
   },
   "outputs": [
    {
     "name": "stdout",
     "output_type": "stream",
     "text": [
      "+--------------------+--------------------+-----+------------------+\n",
      "|                date|            features|label|        prediction|\n",
      "+--------------------+--------------------+-----+------------------+\n",
      "|2015-08-27 11:00:...|[43.0,51.0,32.0,5...|   67| 43.85421294710714|\n",
      "|2015-08-30 00:00:...|[2.0,4.0,3.0,2.0,...|    2| 3.345106034474709|\n",
      "|2015-08-26 18:00:...|[199.0,151.0,129....|  139|133.61302191857968|\n",
      "|2015-08-29 05:00:...|[0.0,6.0,1.0,3.0,...|    1|0.7622135948711529|\n",
      "|2015-08-23 07:00:...|[2.0,8.0,3.0,6.0,...|    6| 6.083521688311659|\n",
      "+--------------------+--------------------+-----+------------------+\n",
      "only showing top 5 rows\n",
      "\n"
     ]
    }
   ],
   "source": [
    "prediction.show(5)"
   ]
  },
  {
   "cell_type": "code",
   "execution_count": 128,
   "metadata": {
    "collapsed": false
   },
   "outputs": [],
   "source": [
    "model_result = prediction.select(\n",
    "                  prediction.date,\n",
    "                  prediction.label.alias('actual'),\n",
    "                  prediction.prediction,\n",
    "                  (prediction.prediction - prediction.label).alias('prediction error'))"
   ]
  },
  {
   "cell_type": "code",
   "execution_count": 123,
   "metadata": {
    "collapsed": true
   },
   "outputs": [],
   "source": [
    "stats = model_result.agg(fn.stddev_pop('prediction error').alias('sigma'),\n",
    "                         fn.mean('prediction error')).collect()"
   ]
  },
  {
   "cell_type": "code",
   "execution_count": 124,
   "metadata": {
    "collapsed": false
   },
   "outputs": [
    {
     "data": {
      "text/plain": [
       "[Row(sigma=9.126043404991938, avg(prediction error)=-0.593727148490358)]"
      ]
     },
     "execution_count": 124,
     "metadata": {},
     "output_type": "execute_result"
    }
   ],
   "source": [
    "stats"
   ]
  },
  {
   "cell_type": "code",
   "execution_count": 144,
   "metadata": {
    "collapsed": false
   },
   "outputs": [],
   "source": [
    "df = model_result.select((model_result['prediction error']/stats[0].sigma).alias('z'), *model_result.columns).toPandas()"
   ]
  },
  {
   "cell_type": "code",
   "execution_count": 145,
   "metadata": {
    "collapsed": false
   },
   "outputs": [
    {
     "data": {
      "text/html": [
       "<div>\n",
       "<table border=\"1\" class=\"dataframe\">\n",
       "  <thead>\n",
       "    <tr style=\"text-align: right;\">\n",
       "      <th></th>\n",
       "      <th>z</th>\n",
       "      <th>date</th>\n",
       "      <th>actual</th>\n",
       "      <th>prediction</th>\n",
       "      <th>prediction error</th>\n",
       "    </tr>\n",
       "  </thead>\n",
       "  <tbody>\n",
       "    <tr>\n",
       "      <th>0</th>\n",
       "      <td>-2.536235</td>\n",
       "      <td>2015-08-27 11:00:00</td>\n",
       "      <td>67</td>\n",
       "      <td>43.854213</td>\n",
       "      <td>-23.145787</td>\n",
       "    </tr>\n",
       "    <tr>\n",
       "      <th>1</th>\n",
       "      <td>0.147392</td>\n",
       "      <td>2015-08-30 00:00:00</td>\n",
       "      <td>2</td>\n",
       "      <td>3.345106</td>\n",
       "      <td>1.345106</td>\n",
       "    </tr>\n",
       "    <tr>\n",
       "      <th>2</th>\n",
       "      <td>-0.590286</td>\n",
       "      <td>2015-08-26 18:00:00</td>\n",
       "      <td>139</td>\n",
       "      <td>133.613022</td>\n",
       "      <td>-5.386978</td>\n",
       "    </tr>\n",
       "    <tr>\n",
       "      <th>3</th>\n",
       "      <td>-0.026056</td>\n",
       "      <td>2015-08-29 05:00:00</td>\n",
       "      <td>1</td>\n",
       "      <td>0.762214</td>\n",
       "      <td>-0.237786</td>\n",
       "    </tr>\n",
       "    <tr>\n",
       "      <th>4</th>\n",
       "      <td>0.009152</td>\n",
       "      <td>2015-08-23 07:00:00</td>\n",
       "      <td>6</td>\n",
       "      <td>6.083522</td>\n",
       "      <td>0.083522</td>\n",
       "    </tr>\n",
       "  </tbody>\n",
       "</table>\n",
       "</div>"
      ],
      "text/plain": [
       "          z                date  actual  prediction  prediction error\n",
       "0 -2.536235 2015-08-27 11:00:00      67   43.854213        -23.145787\n",
       "1  0.147392 2015-08-30 00:00:00       2    3.345106          1.345106\n",
       "2 -0.590286 2015-08-26 18:00:00     139  133.613022         -5.386978\n",
       "3 -0.026056 2015-08-29 05:00:00       1    0.762214         -0.237786\n",
       "4  0.009152 2015-08-23 07:00:00       6    6.083522          0.083522"
      ]
     },
     "execution_count": 145,
     "metadata": {},
     "output_type": "execute_result"
    }
   ],
   "source": [
    "df.head()"
   ]
  },
  {
   "cell_type": "code",
   "execution_count": 146,
   "metadata": {
    "collapsed": true
   },
   "outputs": [],
   "source": [
    "%matplotlib inline"
   ]
  },
  {
   "cell_type": "code",
   "execution_count": 173,
   "metadata": {
    "collapsed": false
   },
   "outputs": [
    {
     "data": {
      "text/plain": [
       "<matplotlib.axes._subplots.AxesSubplot at 0x110130d10>"
      ]
     },
     "execution_count": 173,
     "metadata": {},
     "output_type": "execute_result"
    },
    {
     "data": {
      "image/png": "[encoded data removed]",
      "text/plain": [
       "<matplotlib.figure.Figure at 0x10ff02950>"
      ]
     },
     "metadata": {},
     "output_type": "display_data"
    }
   ],
   "source": [
    "df.z.hist(bins=20)"
   ]
  },
  {
   "cell_type": "code",
   "execution_count": 142,
   "metadata": {
    "collapsed": true
   },
   "outputs": [],
   "source": [
    "from calendar import day_abbr, month_abbr"
   ]
  },
  {
   "cell_type": "code",
   "execution_count": 149,
   "metadata": {
    "collapsed": false
   },
   "outputs": [],
   "source": [
    "df['day'] = df.date.apply(lambda x: day_abbr[x.weekday()])\n",
    "df['month'] = df.date.apply(lambda x: month_abbr[x.month])"
   ]
  },
  {
   "cell_type": "code",
   "execution_count": 159,
   "metadata": {
    "collapsed": false
   },
   "outputs": [
    {
     "data": {
      "text/plain": [
       "<matplotlib.axes._subplots.AxesSubplot at 0x10e98a5d0>"
      ]
     },
     "execution_count": 159,
     "metadata": {},
     "output_type": "execute_result"
    },
    {
     "data": {
      "image/png": "[encoded data removed]",
      "text/plain": [
       "<matplotlib.figure.Figure at 0x10e187290>"
      ]
     },
     "metadata": {},
     "output_type": "display_data"
    }
   ],
   "source": [
    "df[abs(df.z) > 2].groupby('day').size().plot.bar()"
   ]
  },
  {
   "cell_type": "code",
   "execution_count": 131,
   "metadata": {
    "collapsed": false
   },
   "outputs": [],
   "source": [
    "df = df.set_index('date').sort_index()"
   ]
  },
  {
   "cell_type": "code",
   "execution_count": 109,
   "metadata": {
    "collapsed": true
   },
   "outputs": [],
   "source": [
    "import matplotlib.pyplot as plt"
   ]
  },
  {
   "cell_type": "code",
   "execution_count": 138,
   "metadata": {
    "collapsed": false
   },
   "outputs": [
    {
     "data": {
      "text/plain": [
       "<matplotlib.legend.Legend at 0x10e4dd710>"
      ]
     },
     "execution_count": 138,
     "metadata": {},
     "output_type": "execute_result"
    },
    {
     "data": {
      "image/png": "[encoded data removed]",
      "text/plain": [
       "<matplotlib.figure.Figure at 0x10df85f50>"
      ]
     },
     "metadata": {},
     "output_type": "display_data"
    }
   ],
   "source": [
    "plt.plot(df.actual)\n",
    "plt.plot(df.prediction)\n",
    "plt.legend()\n",
    "ax = plt.gca().twinx()\n",
    "ax.plot(df.z, color='red', alpha=0.3)\n",
    "plt.legend()"
   ]
  },
  {
   "cell_type": "code",
   "execution_count": null,
   "metadata": {
    "collapsed": true
   },
   "outputs": [],
   "source": []
  }
 ],
 "metadata": {
  "kernelspec": {
   "display_name": "Python 2",
   "language": "python",
   "name": "python2"
  },
  "language_info": {
   "codemirror_mode": {
    "name": "ipython",
    "version": 2
   },
   "file_extension": ".py",
   "mimetype": "text/x-python",
   "name": "python",
   "nbconvert_exporter": "python",
   "pygments_lexer": "ipython2",
   "version": "2.7.10"
  }
 },
 "nbformat": 4,
 "nbformat_minor": 2
}
