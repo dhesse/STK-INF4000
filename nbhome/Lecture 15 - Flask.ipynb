{
 "cells": [
  {
   "cell_type": "code",
   "execution_count": 39,
   "metadata": {
    "collapsed": true
   },
   "outputs": [],
   "source": [
    "from flask import Flask, jsonify, session"
   ]
  },
  {
   "cell_type": "code",
   "execution_count": 56,
   "metadata": {},
   "outputs": [],
   "source": [
    "app = Flask('MyApp')\n",
    "\n",
    "app.secret_key = \"lkauuj2oi3u890agoibnalkofu0\"\n",
    "\n",
    "@app.route('/')\n",
    "def greet():\n",
    "    return \"Hello, Flask!\"\n",
    "\n",
    "@app.route('/greet/<user>')\n",
    "def say_hello_to(user):\n",
    "    return \"Hello, {0}!\".format(user)\n",
    "\n",
    "@app.route('/set/<user>')\n",
    "def set_user(user):\n",
    "    session['user'] = user\n",
    "    return \"\"\n",
    "\n",
    "@app.route('/greetme')\n",
    "def say_hello_to_session():\n",
    "    return session['user']\n",
    "\n",
    "@app.route('/square/<int:number>')\n",
    "def square(number):\n",
    "    return str(number**2)\n",
    "\n",
    "# Don't try this at home! (Remember Bobby Tables!)\n",
    "@app.route('/power/<int:number>/<int:power>')\n",
    "@app.route('/power/<int:number>')\n",
    "def power(number, power=2):\n",
    "    return str(number**power)\n",
    "\n",
    "@app.route('/data.json')\n",
    "def serve_json():\n",
    "    return jsonify({'columns': ['day', 'pollution'],\n",
    "                       'values': [1,3,4]})\n",
    "\n",
    "@app.route('/site.html')\n",
    "def get_site():\n",
    "    return app.send_static_file('site.html')\n",
    "\n",
    "@app.route('/script.js')\n",
    "def get_js():\n",
    "    return app.send_static_file('script.js')\n",
    "\n",
    "@app.route('/chart.html')\n",
    "def get_chart():\n",
    "    return app.send_static_file('chart.html')\n",
    "\n",
    "@app.route('/loadchart.js')\n",
    "def get_cjs():\n",
    "    return app.send_static_file('loadchart_dynamic.js')\n",
    "\n",
    "@app.route('/chartdata.json')\n",
    "def chart_data():\n",
    "    return jsonify([[x, 2*x + n] \n",
    "                    for x, n in zip(range(20),\n",
    "                                    np.random.standard_normal(20))])"
   ]
  },
  {
   "cell_type": "code",
   "execution_count": 57,
   "metadata": {},
   "outputs": [
    {
     "name": "stderr",
     "output_type": "stream",
     "text": [
      " * Running on http://127.0.0.1:5001/ (Press CTRL+C to quit)\n",
      "127.0.0.1 - - [15/May/2017 12:52:27] \"GET /chart.html HTTP/1.1\" 200 -\n",
      "127.0.0.1 - - [15/May/2017 12:52:45] \"GET /chart.html HTTP/1.1\" 200 -\n",
      "127.0.0.1 - - [15/May/2017 12:52:45] \"GET /loadchart.js HTTP/1.1\" 200 -\n",
      "127.0.0.1 - - [15/May/2017 12:52:45] \"GET /chartdata.json HTTP/1.1\" 200 -\n",
      "127.0.0.1 - - [15/May/2017 12:53:33] \"GET /chart.html HTTP/1.1\" 200 -\n",
      "127.0.0.1 - - [15/May/2017 12:53:33] \"GET /loadchart.js HTTP/1.1\" 200 -\n",
      "127.0.0.1 - - [15/May/2017 12:53:34] \"GET /chartdata.json HTTP/1.1\" 200 -\n",
      "127.0.0.1 - - [15/May/2017 12:54:00] \"GET /chart.html HTTP/1.1\" 304 -\n",
      "127.0.0.1 - - [15/May/2017 12:54:01] \"GET /chartdata.json HTTP/1.1\" 200 -\n"
     ]
    }
   ],
   "source": [
    "app.run(port=5001)"
   ]
  },
  {
   "cell_type": "code",
   "execution_count": 44,
   "metadata": {
    "collapsed": true
   },
   "outputs": [],
   "source": [
    "import numpy as np"
   ]
  },
  {
   "cell_type": "code",
   "execution_count": 45,
   "metadata": {},
   "outputs": [
    {
     "data": {
      "text/plain": [
       "[[0, 0.12334480267939742],\n",
       " [1, 1.6688972380456413],\n",
       " [2, 3.6450491023451055],\n",
       " [3, 6.484450063253151],\n",
       " [4, 8.6504285950500996],\n",
       " [5, 11.494934482644922],\n",
       " [6, 12.152590780838889],\n",
       " [7, 14.291149401129877],\n",
       " [8, 16.10349662756585],\n",
       " [9, 19.394138729046681],\n",
       " [10, 20.721312338191741],\n",
       " [11, 22.42484778132749],\n",
       " [12, 24.680995449702273],\n",
       " [13, 25.157268287416237],\n",
       " [14, 27.146128712249805],\n",
       " [15, 31.581446940320401],\n",
       " [16, 32.155065063756879],\n",
       " [17, 33.973726939046806],\n",
       " [18, 35.875983498398547],\n",
       " [19, 38.492867309453366]]"
      ]
     },
     "execution_count": 45,
     "metadata": {},
     "output_type": "execute_result"
    }
   ],
   "source": [
    "[[x, 2*x + n] for x, n in zip(range(20), np.random.standard_normal(20))]"
   ]
  },
  {
   "cell_type": "code",
   "execution_count": null,
   "metadata": {
    "collapsed": true
   },
   "outputs": [],
   "source": []
  }
 ],
 "metadata": {
  "kernelspec": {
   "display_name": "Python 2",
   "language": "python",
   "name": "python2"
  },
  "language_info": {
   "codemirror_mode": {
    "name": "ipython",
    "version": 2
   },
   "file_extension": ".py",
   "mimetype": "text/x-python",
   "name": "python",
   "nbconvert_exporter": "python",
   "pygments_lexer": "ipython2",
   "version": "2.7.13"
  }
 },
 "nbformat": 4,
 "nbformat_minor": 2
}
