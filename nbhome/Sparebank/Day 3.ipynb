{
 "cells": [
  {
   "cell_type": "code",
   "execution_count": 1,
   "metadata": {
    "collapsed": true
   },
   "outputs": [],
   "source": [
    "import pandas"
   ]
  },
  {
   "cell_type": "code",
   "execution_count": 2,
   "metadata": {
    "collapsed": true
   },
   "outputs": [],
   "source": [
    "data = pandas.read_csv('../data/201508_trip_data.csv.gz')"
   ]
  },
  {
   "cell_type": "code",
   "execution_count": 159,
   "metadata": {
    "collapsed": true
   },
   "outputs": [],
   "source": [
    "d1 = pandas.read_csv('../data/oslobike/trips-2016.10.1-2016.10.31.csv.zip')\n",
    "d2 = pandas.read_csv('../data/oslobike/trips-2016.11.1-2016.11.30.csv.zip')"
   ]
  },
  {
   "cell_type": "code",
   "execution_count": 172,
   "metadata": {
    "collapsed": false
   },
   "outputs": [],
   "source": [
    "delta = parse('2016-10-01 06:02:16') - parse('2016-10-01 06:00:08')"
   ]
  },
  {
   "cell_type": "code",
   "execution_count": 173,
   "metadata": {
    "collapsed": false
   },
   "outputs": [
    {
     "data": {
      "text/plain": [
       "128.0"
      ]
     },
     "execution_count": 173,
     "metadata": {},
     "output_type": "execute_result"
    }
   ],
   "source": [
    "delta.total_seconds()"
   ]
  },
  {
   "cell_type": "code",
   "execution_count": 161,
   "metadata": {
    "collapsed": false
   },
   "outputs": [
    {
     "data": {
      "text/plain": [
       "0         2016-10-01 06:00:08\n",
       "1         2016-10-01 06:00:41\n",
       "2         2016-10-01 06:01:02\n",
       "3         2016-10-01 06:01:20\n",
       "4         2016-10-01 06:02:16\n",
       "5         2016-10-01 06:04:22\n",
       "6         2016-10-01 06:04:39\n",
       "7         2016-10-01 06:05:54\n",
       "8         2016-10-01 06:06:01\n",
       "9         2016-10-01 06:06:13\n",
       "10        2016-10-01 06:06:16\n",
       "11        2016-10-01 06:06:36\n",
       "12        2016-10-01 06:08:01\n",
       "13        2016-10-01 06:08:22\n",
       "14        2016-10-01 06:11:44\n",
       "15        2016-10-01 06:12:00\n",
       "16        2016-10-01 06:13:26\n",
       "17        2016-10-01 06:15:22\n",
       "18        2016-10-01 06:15:34\n",
       "19        2016-10-01 06:17:36\n",
       "20        2016-10-01 06:18:04\n",
       "21        2016-10-01 06:18:43\n",
       "22        2016-10-01 06:21:49\n",
       "23        2016-10-01 06:22:04\n",
       "24        2016-10-01 06:22:17\n",
       "25        2016-10-01 06:24:50\n",
       "26        2016-10-01 06:26:13\n",
       "27        2016-10-01 06:26:55\n",
       "28        2016-10-01 06:27:06\n",
       "29        2016-10-01 06:29:20\n",
       "                 ...         \n",
       "242728    2016-10-31 23:33:37\n",
       "242729    2016-10-31 23:33:55\n",
       "242730    2016-10-31 23:34:59\n",
       "242731    2016-10-31 23:35:02\n",
       "242732    2016-10-31 23:35:06\n",
       "242733    2016-10-31 23:35:52\n",
       "242734    2016-10-31 23:36:31\n",
       "242735    2016-10-31 23:36:41\n",
       "242736    2016-10-31 23:36:58\n",
       "242737    2016-10-31 23:37:09\n",
       "242738    2016-10-31 23:38:49\n",
       "242739    2016-10-31 23:39:52\n",
       "242740    2016-10-31 23:40:53\n",
       "242741    2016-10-31 23:41:10\n",
       "242742    2016-10-31 23:45:44\n",
       "242743    2016-10-31 23:45:59\n",
       "242744    2016-10-31 23:46:57\n",
       "242745    2016-10-31 23:47:20\n",
       "242746    2016-10-31 23:48:23\n",
       "242747    2016-10-31 23:49:13\n",
       "242748    2016-10-31 23:49:51\n",
       "242749    2016-10-31 23:50:10\n",
       "242750    2016-10-31 23:50:29\n",
       "242751    2016-10-31 23:52:09\n",
       "242752    2016-10-31 23:52:24\n",
       "242753    2016-10-31 23:53:30\n",
       "242754    2016-10-31 23:53:48\n",
       "242755    2016-10-31 23:54:28\n",
       "242756    2016-10-31 23:56:57\n",
       "242757    2016-10-31 23:59:10\n",
       "Name: Start time, dtype: object"
      ]
     },
     "execution_count": 161,
     "metadata": {},
     "output_type": "execute_result"
    }
   ],
   "source": [
    "d1['Start time'].apply(lambda x: x[:-6])"
   ]
  },
  {
   "cell_type": "code",
   "execution_count": 3,
   "metadata": {
    "collapsed": false
   },
   "outputs": [
    {
     "data": {
      "text/html": [
       "<div>\n",
       "<table border=\"1\" class=\"dataframe\">\n",
       "  <thead>\n",
       "    <tr style=\"text-align: right;\">\n",
       "      <th></th>\n",
       "      <th>Trip ID</th>\n",
       "      <th>Duration</th>\n",
       "      <th>Start Date</th>\n",
       "      <th>Start Station</th>\n",
       "      <th>Start Terminal</th>\n",
       "      <th>End Date</th>\n",
       "      <th>End Station</th>\n",
       "      <th>End Terminal</th>\n",
       "      <th>Bike #</th>\n",
       "      <th>Subscriber Type</th>\n",
       "      <th>Zip Code</th>\n",
       "    </tr>\n",
       "  </thead>\n",
       "  <tbody>\n",
       "    <tr>\n",
       "      <th>0</th>\n",
       "      <td>913460</td>\n",
       "      <td>765</td>\n",
       "      <td>8/31/2015 23:26</td>\n",
       "      <td>Harry Bridges Plaza (Ferry Building)</td>\n",
       "      <td>50</td>\n",
       "      <td>8/31/2015 23:39</td>\n",
       "      <td>San Francisco Caltrain (Townsend at 4th)</td>\n",
       "      <td>70</td>\n",
       "      <td>288</td>\n",
       "      <td>Subscriber</td>\n",
       "      <td>2139</td>\n",
       "    </tr>\n",
       "    <tr>\n",
       "      <th>1</th>\n",
       "      <td>913459</td>\n",
       "      <td>1036</td>\n",
       "      <td>8/31/2015 23:11</td>\n",
       "      <td>San Antonio Shopping Center</td>\n",
       "      <td>31</td>\n",
       "      <td>8/31/2015 23:28</td>\n",
       "      <td>Mountain View City Hall</td>\n",
       "      <td>27</td>\n",
       "      <td>35</td>\n",
       "      <td>Subscriber</td>\n",
       "      <td>95032</td>\n",
       "    </tr>\n",
       "    <tr>\n",
       "      <th>2</th>\n",
       "      <td>913455</td>\n",
       "      <td>307</td>\n",
       "      <td>8/31/2015 23:13</td>\n",
       "      <td>Post at Kearny</td>\n",
       "      <td>47</td>\n",
       "      <td>8/31/2015 23:18</td>\n",
       "      <td>2nd at South Park</td>\n",
       "      <td>64</td>\n",
       "      <td>468</td>\n",
       "      <td>Subscriber</td>\n",
       "      <td>94107</td>\n",
       "    </tr>\n",
       "    <tr>\n",
       "      <th>3</th>\n",
       "      <td>913454</td>\n",
       "      <td>409</td>\n",
       "      <td>8/31/2015 23:10</td>\n",
       "      <td>San Jose City Hall</td>\n",
       "      <td>10</td>\n",
       "      <td>8/31/2015 23:17</td>\n",
       "      <td>San Salvador at 1st</td>\n",
       "      <td>8</td>\n",
       "      <td>68</td>\n",
       "      <td>Subscriber</td>\n",
       "      <td>95113</td>\n",
       "    </tr>\n",
       "    <tr>\n",
       "      <th>4</th>\n",
       "      <td>913453</td>\n",
       "      <td>789</td>\n",
       "      <td>8/31/2015 23:09</td>\n",
       "      <td>Embarcadero at Folsom</td>\n",
       "      <td>51</td>\n",
       "      <td>8/31/2015 23:22</td>\n",
       "      <td>Embarcadero at Sansome</td>\n",
       "      <td>60</td>\n",
       "      <td>487</td>\n",
       "      <td>Customer</td>\n",
       "      <td>9069</td>\n",
       "    </tr>\n",
       "  </tbody>\n",
       "</table>\n",
       "</div>"
      ],
      "text/plain": [
       "   Trip ID  Duration       Start Date                         Start Station  \\\n",
       "0   913460       765  8/31/2015 23:26  Harry Bridges Plaza (Ferry Building)   \n",
       "1   913459      1036  8/31/2015 23:11           San Antonio Shopping Center   \n",
       "2   913455       307  8/31/2015 23:13                        Post at Kearny   \n",
       "3   913454       409  8/31/2015 23:10                    San Jose City Hall   \n",
       "4   913453       789  8/31/2015 23:09                 Embarcadero at Folsom   \n",
       "\n",
       "   Start Terminal         End Date                               End Station  \\\n",
       "0              50  8/31/2015 23:39  San Francisco Caltrain (Townsend at 4th)   \n",
       "1              31  8/31/2015 23:28                   Mountain View City Hall   \n",
       "2              47  8/31/2015 23:18                         2nd at South Park   \n",
       "3              10  8/31/2015 23:17                       San Salvador at 1st   \n",
       "4              51  8/31/2015 23:22                    Embarcadero at Sansome   \n",
       "\n",
       "   End Terminal  Bike # Subscriber Type Zip Code  \n",
       "0            70     288      Subscriber     2139  \n",
       "1            27      35      Subscriber    95032  \n",
       "2            64     468      Subscriber    94107  \n",
       "3             8      68      Subscriber    95113  \n",
       "4            60     487        Customer     9069  "
      ]
     },
     "execution_count": 3,
     "metadata": {},
     "output_type": "execute_result"
    }
   ],
   "source": [
    "data.head()"
   ]
  },
  {
   "cell_type": "code",
   "execution_count": 5,
   "metadata": {
    "collapsed": true
   },
   "outputs": [],
   "source": [
    "%matplotlib inline"
   ]
  },
  {
   "cell_type": "code",
   "execution_count": 6,
   "metadata": {
    "collapsed": false
   },
   "outputs": [
    {
     "data": {
      "text/plain": [
       "<matplotlib.axes._subplots.AxesSubplot at 0x105757bd0>"
      ]
     },
     "execution_count": 6,
     "metadata": {},
     "output_type": "execute_result"
    },
    {
     "data": {
      "image/png": "[encoded data removed]",
      "text/plain": [
       "<matplotlib.figure.Figure at 0x103fda590>"
      ]
     },
     "metadata": {},
     "output_type": "display_data"
    }
   ],
   "source": [
    "data.Duration.plot.hist()"
   ]
  },
  {
   "cell_type": "code",
   "execution_count": 7,
   "metadata": {
    "collapsed": true
   },
   "outputs": [],
   "source": [
    "data['z_duration'] = (data.Duration - data.Duration.mean()) / data.Duration.std()"
   ]
  },
  {
   "cell_type": "code",
   "execution_count": 9,
   "metadata": {
    "collapsed": true
   },
   "outputs": [],
   "source": [
    "import matplotlib.pyplot as plt"
   ]
  },
  {
   "cell_type": "code",
   "execution_count": 10,
   "metadata": {
    "collapsed": false
   },
   "outputs": [
    {
     "data": {
      "image/png": "[encoded data removed]",
      "text/plain": [
       "<matplotlib.figure.Figure at 0x1051b9e10>"
      ]
     },
     "metadata": {},
     "output_type": "display_data"
    }
   ],
   "source": [
    "data.z_duration[data.z_duration < 6].plot.hist()\n",
    "plt.yscale('log')"
   ]
  },
  {
   "cell_type": "code",
   "execution_count": 11,
   "metadata": {
    "collapsed": true
   },
   "outputs": [],
   "source": [
    "median_dev = data.Duration - data.Duration.median()"
   ]
  },
  {
   "cell_type": "code",
   "execution_count": 12,
   "metadata": {
    "collapsed": true
   },
   "outputs": [],
   "source": [
    "data['z_median'] = median_dev / (median_dev**2).median()"
   ]
  },
  {
   "cell_type": "code",
   "execution_count": 13,
   "metadata": {
    "collapsed": false
   },
   "outputs": [
    {
     "data": {
      "image/png": "[encoded data removed]",
      "text/plain": [
       "<matplotlib.figure.Figure at 0x105891e10>"
      ]
     },
     "metadata": {},
     "output_type": "display_data"
    }
   ],
   "source": [
    "data.z_median[data.z_median < 6].plot.hist()\n",
    "plt.yscale('log')"
   ]
  },
  {
   "cell_type": "code",
   "execution_count": 14,
   "metadata": {
    "collapsed": true
   },
   "outputs": [],
   "source": [
    "?pandas.read_csv"
   ]
  },
  {
   "cell_type": "code",
   "execution_count": 15,
   "metadata": {
    "collapsed": true
   },
   "outputs": [],
   "source": [
    "from datetime import datetime"
   ]
  },
  {
   "cell_type": "code",
   "execution_count": 16,
   "metadata": {
    "collapsed": true
   },
   "outputs": [],
   "source": [
    "def mdy_hm(date_string):\n",
    "    return datetime.strptime(date_string, '%m/%d/%Y %H:%M')"
   ]
  },
  {
   "cell_type": "code",
   "execution_count": 17,
   "metadata": {
    "collapsed": true
   },
   "outputs": [],
   "source": [
    "data['Start Date'] = data['Start Date'].apply(mdy_hm)"
   ]
  },
  {
   "cell_type": "code",
   "execution_count": 18,
   "metadata": {
    "collapsed": true
   },
   "outputs": [],
   "source": [
    "from dateutil.parser import parse"
   ]
  },
  {
   "cell_type": "code",
   "execution_count": 22,
   "metadata": {
    "collapsed": false
   },
   "outputs": [
    {
     "data": {
      "text/plain": [
       "datetime.datetime(2017, 12, 30, 12, 34)"
      ]
     },
     "execution_count": 22,
     "metadata": {},
     "output_type": "execute_result"
    }
   ],
   "source": [
    "parse('2017-12-30 12:34')"
   ]
  },
  {
   "cell_type": "code",
   "execution_count": 23,
   "metadata": {
    "collapsed": false
   },
   "outputs": [
    {
     "data": {
      "text/plain": [
       "datetime.datetime(2017, 12, 30, 12, 34, 21)"
      ]
     },
     "execution_count": 23,
     "metadata": {},
     "output_type": "execute_result"
    }
   ],
   "source": [
    "parse('2017/12/30 12:34:21') # slow!"
   ]
  },
  {
   "cell_type": "code",
   "execution_count": 24,
   "metadata": {
    "collapsed": false
   },
   "outputs": [
    {
     "data": {
      "text/plain": [
       "datetime.date(2017, 12, 30)"
      ]
     },
     "execution_count": 24,
     "metadata": {},
     "output_type": "execute_result"
    }
   ],
   "source": [
    "parse('2017/12/30 12:34:21').date()"
   ]
  },
  {
   "cell_type": "code",
   "execution_count": 25,
   "metadata": {
    "collapsed": false
   },
   "outputs": [
    {
     "data": {
      "text/plain": [
       "12"
      ]
     },
     "execution_count": 25,
     "metadata": {},
     "output_type": "execute_result"
    }
   ],
   "source": [
    "parse('2017/12/30 12:34:21').hour"
   ]
  },
  {
   "cell_type": "code",
   "execution_count": 26,
   "metadata": {
    "collapsed": true
   },
   "outputs": [],
   "source": [
    "data['date'] = data['Start Date'].apply(lambda x: x.date())\n",
    "data['hour'] = data['Start Date'].apply(lambda x: x.hour)"
   ]
  },
  {
   "cell_type": "markdown",
   "metadata": {},
   "source": [
    "## Aside: Lambdas"
   ]
  },
  {
   "cell_type": "code",
   "execution_count": 27,
   "metadata": {
    "collapsed": true
   },
   "outputs": [],
   "source": [
    "def square(x):\n",
    "    return x**2"
   ]
  },
  {
   "cell_type": "code",
   "execution_count": 29,
   "metadata": {
    "collapsed": false
   },
   "outputs": [
    {
     "data": {
      "text/plain": [
       "4"
      ]
     },
     "execution_count": 29,
     "metadata": {},
     "output_type": "execute_result"
    }
   ],
   "source": [
    "square(2)"
   ]
  },
  {
   "cell_type": "code",
   "execution_count": 30,
   "metadata": {
    "collapsed": true
   },
   "outputs": [],
   "source": [
    "def power(x, y):\n",
    "    return x**y"
   ]
  },
  {
   "cell_type": "code",
   "execution_count": 31,
   "metadata": {
    "collapsed": false
   },
   "outputs": [
    {
     "data": {
      "text/plain": [
       "16"
      ]
     },
     "execution_count": 31,
     "metadata": {},
     "output_type": "execute_result"
    }
   ],
   "source": [
    "power(2, 4)"
   ]
  },
  {
   "cell_type": "code",
   "execution_count": 32,
   "metadata": {
    "collapsed": false
   },
   "outputs": [
    {
     "data": {
      "text/plain": [
       "[0, 1, 2, 3, 4, 5, 6, 7, 8, 9]"
      ]
     },
     "execution_count": 32,
     "metadata": {},
     "output_type": "execute_result"
    }
   ],
   "source": [
    "range(10)"
   ]
  },
  {
   "cell_type": "code",
   "execution_count": 34,
   "metadata": {
    "collapsed": false
   },
   "outputs": [
    {
     "data": {
      "text/plain": [
       "[1, 4, 9, 16]"
      ]
     },
     "execution_count": 34,
     "metadata": {},
     "output_type": "execute_result"
    }
   ],
   "source": [
    "map(square, [1,2,3,4])"
   ]
  },
  {
   "cell_type": "code",
   "execution_count": 46,
   "metadata": {
    "collapsed": false
   },
   "outputs": [
    {
     "data": {
      "text/plain": [
       "[1, 4, 9, 16]"
      ]
     },
     "execution_count": 46,
     "metadata": {},
     "output_type": "execute_result"
    }
   ],
   "source": [
    "map(lambda x: x**2, [1,2,3,4])"
   ]
  },
  {
   "cell_type": "code",
   "execution_count": 47,
   "metadata": {
    "collapsed": false
   },
   "outputs": [
    {
     "data": {
      "text/plain": [
       "529"
      ]
     },
     "execution_count": 47,
     "metadata": {},
     "output_type": "execute_result"
    }
   ],
   "source": [
    "(lambda x: x**2)(23)"
   ]
  },
  {
   "cell_type": "code",
   "execution_count": 48,
   "metadata": {
    "collapsed": false
   },
   "outputs": [
    {
     "data": {
      "text/plain": [
       "16"
      ]
     },
     "execution_count": 48,
     "metadata": {},
     "output_type": "execute_result"
    }
   ],
   "source": [
    "(lambda x,y: x**y)(2, 4)"
   ]
  },
  {
   "cell_type": "code",
   "execution_count": 49,
   "metadata": {
    "collapsed": false
   },
   "outputs": [
    {
     "ename": "TypeError",
     "evalue": "unsupported operand type(s) for ** or pow(): 'str' and 'int'",
     "output_type": "error",
     "traceback": [
      "\u001b[0;31m---------------------------------------------------------------------------\u001b[0m",
      "\u001b[0;31mTypeError\u001b[0m                                 Traceback (most recent call last)",
      "\u001b[0;32m<ipython-input-49-3662fc74dcc0>\u001b[0m in \u001b[0;36m<module>\u001b[0;34m()\u001b[0m\n\u001b[0;32m----> 1\u001b[0;31m \u001b[0mmap\u001b[0m\u001b[0;34m(\u001b[0m\u001b[0msquare\u001b[0m\u001b[0;34m,\u001b[0m \u001b[0;34m'abc'\u001b[0m\u001b[0;34m)\u001b[0m\u001b[0;34m\u001b[0m\u001b[0m\n\u001b[0m",
      "\u001b[0;32m<ipython-input-27-8b1e5e9768c2>\u001b[0m in \u001b[0;36msquare\u001b[0;34m(x)\u001b[0m\n\u001b[1;32m      1\u001b[0m \u001b[0;32mdef\u001b[0m \u001b[0msquare\u001b[0m\u001b[0;34m(\u001b[0m\u001b[0mx\u001b[0m\u001b[0;34m)\u001b[0m\u001b[0;34m:\u001b[0m\u001b[0;34m\u001b[0m\u001b[0m\n\u001b[0;32m----> 2\u001b[0;31m     \u001b[0;32mreturn\u001b[0m \u001b[0mx\u001b[0m\u001b[0;34m**\u001b[0m\u001b[0;36m2\u001b[0m\u001b[0;34m\u001b[0m\u001b[0m\n\u001b[0m",
      "\u001b[0;31mTypeError\u001b[0m: unsupported operand type(s) for ** or pow(): 'str' and 'int'"
     ]
    }
   ],
   "source": [
    "map(square, 'abc')"
   ]
  },
  {
   "cell_type": "code",
   "execution_count": 50,
   "metadata": {
    "collapsed": false
   },
   "outputs": [
    {
     "ename": "TypeError",
     "evalue": "unsupported operand type(s) for ** or pow(): 'str' and 'int'",
     "output_type": "error",
     "traceback": [
      "\u001b[0;31m---------------------------------------------------------------------------\u001b[0m",
      "\u001b[0;31mTypeError\u001b[0m                                 Traceback (most recent call last)",
      "\u001b[0;32m<ipython-input-50-4a38c7478074>\u001b[0m in \u001b[0;36m<module>\u001b[0;34m()\u001b[0m\n\u001b[0;32m----> 1\u001b[0;31m \u001b[0mmap\u001b[0m\u001b[0;34m(\u001b[0m\u001b[0;32mlambda\u001b[0m \u001b[0mx\u001b[0m\u001b[0;34m:\u001b[0m \u001b[0mx\u001b[0m\u001b[0;34m**\u001b[0m\u001b[0;36m2\u001b[0m\u001b[0;34m,\u001b[0m \u001b[0;34m'abc'\u001b[0m\u001b[0;34m)\u001b[0m\u001b[0;34m\u001b[0m\u001b[0m\n\u001b[0m",
      "\u001b[0;32m<ipython-input-50-4a38c7478074>\u001b[0m in \u001b[0;36m<lambda>\u001b[0;34m(x)\u001b[0m\n\u001b[0;32m----> 1\u001b[0;31m \u001b[0mmap\u001b[0m\u001b[0;34m(\u001b[0m\u001b[0;32mlambda\u001b[0m \u001b[0mx\u001b[0m\u001b[0;34m:\u001b[0m \u001b[0mx\u001b[0m\u001b[0;34m**\u001b[0m\u001b[0;36m2\u001b[0m\u001b[0;34m,\u001b[0m \u001b[0;34m'abc'\u001b[0m\u001b[0;34m)\u001b[0m\u001b[0;34m\u001b[0m\u001b[0m\n\u001b[0m",
      "\u001b[0;31mTypeError\u001b[0m: unsupported operand type(s) for ** or pow(): 'str' and 'int'"
     ]
    }
   ],
   "source": [
    "map(lambda x: x**2, 'abc')"
   ]
  },
  {
   "cell_type": "markdown",
   "metadata": {},
   "source": [
    "## Back to business"
   ]
  },
  {
   "cell_type": "code",
   "execution_count": 51,
   "metadata": {
    "collapsed": true
   },
   "outputs": [],
   "source": [
    "counts = data.groupby(['date', 'hour'], as_index=False).size()"
   ]
  },
  {
   "cell_type": "code",
   "execution_count": 52,
   "metadata": {
    "collapsed": true
   },
   "outputs": [],
   "source": [
    "animals = pandas.DataFrame({'weight': [1, 2, 0.1, 15],\n",
    "                            'length': [50, 70, 8, 60],\n",
    "                            'type': ['fish', 'fish', 'mammal', 'mammal']},\n",
    "                           index=['trout', 'cod', 'hamster', 'dog'])"
   ]
  },
  {
   "cell_type": "code",
   "execution_count": 57,
   "metadata": {
    "collapsed": false
   },
   "outputs": [
    {
     "data": {
      "text/html": [
       "<div>\n",
       "<table border=\"1\" class=\"dataframe\">\n",
       "  <thead>\n",
       "    <tr style=\"text-align: right;\">\n",
       "      <th></th>\n",
       "      <th>length</th>\n",
       "      <th>type</th>\n",
       "      <th>weight</th>\n",
       "    </tr>\n",
       "  </thead>\n",
       "  <tbody>\n",
       "    <tr>\n",
       "      <th>trout</th>\n",
       "      <td>50</td>\n",
       "      <td>fish</td>\n",
       "      <td>1.0</td>\n",
       "    </tr>\n",
       "    <tr>\n",
       "      <th>cod</th>\n",
       "      <td>70</td>\n",
       "      <td>fish</td>\n",
       "      <td>2.0</td>\n",
       "    </tr>\n",
       "    <tr>\n",
       "      <th>hamster</th>\n",
       "      <td>8</td>\n",
       "      <td>mammal</td>\n",
       "      <td>0.1</td>\n",
       "    </tr>\n",
       "    <tr>\n",
       "      <th>dog</th>\n",
       "      <td>60</td>\n",
       "      <td>mammal</td>\n",
       "      <td>15.0</td>\n",
       "    </tr>\n",
       "  </tbody>\n",
       "</table>\n",
       "</div>"
      ],
      "text/plain": [
       "         length    type  weight\n",
       "trout        50    fish     1.0\n",
       "cod          70    fish     2.0\n",
       "hamster       8  mammal     0.1\n",
       "dog          60  mammal    15.0"
      ]
     },
     "execution_count": 57,
     "metadata": {},
     "output_type": "execute_result"
    }
   ],
   "source": [
    "animals"
   ]
  },
  {
   "cell_type": "code",
   "execution_count": 58,
   "metadata": {
    "collapsed": false
   },
   "outputs": [
    {
     "data": {
      "text/plain": [
       "50"
      ]
     },
     "execution_count": 58,
     "metadata": {},
     "output_type": "execute_result"
    }
   ],
   "source": [
    "animals.length['trout']"
   ]
  },
  {
   "cell_type": "code",
   "execution_count": 59,
   "metadata": {
    "collapsed": false
   },
   "outputs": [
    {
     "data": {
      "text/html": [
       "<div>\n",
       "<table border=\"1\" class=\"dataframe\">\n",
       "  <thead>\n",
       "    <tr style=\"text-align: right;\">\n",
       "      <th></th>\n",
       "      <th>length</th>\n",
       "      <th>weight</th>\n",
       "    </tr>\n",
       "    <tr>\n",
       "      <th>type</th>\n",
       "      <th></th>\n",
       "      <th></th>\n",
       "    </tr>\n",
       "  </thead>\n",
       "  <tbody>\n",
       "    <tr>\n",
       "      <th>fish</th>\n",
       "      <td>60</td>\n",
       "      <td>1.50</td>\n",
       "    </tr>\n",
       "    <tr>\n",
       "      <th>mammal</th>\n",
       "      <td>34</td>\n",
       "      <td>7.55</td>\n",
       "    </tr>\n",
       "  </tbody>\n",
       "</table>\n",
       "</div>"
      ],
      "text/plain": [
       "        length  weight\n",
       "type                  \n",
       "fish        60    1.50\n",
       "mammal      34    7.55"
      ]
     },
     "execution_count": 59,
     "metadata": {},
     "output_type": "execute_result"
    }
   ],
   "source": [
    "animals.groupby('type').mean()"
   ]
  },
  {
   "cell_type": "code",
   "execution_count": 60,
   "metadata": {
    "collapsed": false
   },
   "outputs": [
    {
     "data": {
      "text/html": [
       "<div>\n",
       "<table border=\"1\" class=\"dataframe\">\n",
       "  <thead>\n",
       "    <tr style=\"text-align: right;\">\n",
       "      <th></th>\n",
       "      <th>length</th>\n",
       "      <th>weight</th>\n",
       "    </tr>\n",
       "    <tr>\n",
       "      <th>type</th>\n",
       "      <th></th>\n",
       "      <th></th>\n",
       "    </tr>\n",
       "  </thead>\n",
       "  <tbody>\n",
       "    <tr>\n",
       "      <th>fish</th>\n",
       "      <td>70</td>\n",
       "      <td>2.0</td>\n",
       "    </tr>\n",
       "    <tr>\n",
       "      <th>mammal</th>\n",
       "      <td>60</td>\n",
       "      <td>15.0</td>\n",
       "    </tr>\n",
       "  </tbody>\n",
       "</table>\n",
       "</div>"
      ],
      "text/plain": [
       "        length  weight\n",
       "type                  \n",
       "fish        70     2.0\n",
       "mammal      60    15.0"
      ]
     },
     "execution_count": 60,
     "metadata": {},
     "output_type": "execute_result"
    }
   ],
   "source": [
    "animals.groupby('type').max()"
   ]
  },
  {
   "cell_type": "code",
   "execution_count": 61,
   "metadata": {
    "collapsed": false
   },
   "outputs": [
    {
     "data": {
      "text/plain": [
       "type\n",
       "fish      2\n",
       "mammal    2\n",
       "dtype: int64"
      ]
     },
     "execution_count": 61,
     "metadata": {},
     "output_type": "execute_result"
    }
   ],
   "source": [
    "animals.groupby('type').size()"
   ]
  },
  {
   "cell_type": "code",
   "execution_count": 62,
   "metadata": {
    "collapsed": false
   },
   "outputs": [
    {
     "data": {
      "text/html": [
       "<div>\n",
       "<table border=\"1\" class=\"dataframe\">\n",
       "  <thead>\n",
       "    <tr style=\"text-align: right;\">\n",
       "      <th></th>\n",
       "      <th>type</th>\n",
       "      <th>length</th>\n",
       "      <th>weight</th>\n",
       "    </tr>\n",
       "  </thead>\n",
       "  <tbody>\n",
       "    <tr>\n",
       "      <th>0</th>\n",
       "      <td>fish</td>\n",
       "      <td>60</td>\n",
       "      <td>1.50</td>\n",
       "    </tr>\n",
       "    <tr>\n",
       "      <th>1</th>\n",
       "      <td>mammal</td>\n",
       "      <td>34</td>\n",
       "      <td>7.55</td>\n",
       "    </tr>\n",
       "  </tbody>\n",
       "</table>\n",
       "</div>"
      ],
      "text/plain": [
       "     type  length  weight\n",
       "0    fish      60    1.50\n",
       "1  mammal      34    7.55"
      ]
     },
     "execution_count": 62,
     "metadata": {},
     "output_type": "execute_result"
    }
   ],
   "source": [
    "animals.groupby('type', as_index=False).mean()"
   ]
  },
  {
   "cell_type": "code",
   "execution_count": 63,
   "metadata": {
    "collapsed": false
   },
   "outputs": [
    {
     "data": {
      "text/plain": [
       "date        hour\n",
       "2014-09-01  0       3\n",
       "            3       1\n",
       "            4       2\n",
       "            5       1\n",
       "            6       1\n",
       "dtype: int64"
      ]
     },
     "execution_count": 63,
     "metadata": {},
     "output_type": "execute_result"
    }
   ],
   "source": [
    "counts.head()"
   ]
  },
  {
   "cell_type": "code",
   "execution_count": 64,
   "metadata": {
    "collapsed": false
   },
   "outputs": [
    {
     "data": {
      "text/html": [
       "<div>\n",
       "<table border=\"1\" class=\"dataframe\">\n",
       "  <thead>\n",
       "    <tr style=\"text-align: right;\">\n",
       "      <th></th>\n",
       "      <th>length</th>\n",
       "      <th>type</th>\n",
       "      <th>weight</th>\n",
       "    </tr>\n",
       "  </thead>\n",
       "  <tbody>\n",
       "    <tr>\n",
       "      <th>trout</th>\n",
       "      <td>50</td>\n",
       "      <td>fish</td>\n",
       "      <td>1.0</td>\n",
       "    </tr>\n",
       "    <tr>\n",
       "      <th>cod</th>\n",
       "      <td>70</td>\n",
       "      <td>fish</td>\n",
       "      <td>2.0</td>\n",
       "    </tr>\n",
       "    <tr>\n",
       "      <th>hamster</th>\n",
       "      <td>8</td>\n",
       "      <td>mammal</td>\n",
       "      <td>0.1</td>\n",
       "    </tr>\n",
       "    <tr>\n",
       "      <th>dog</th>\n",
       "      <td>60</td>\n",
       "      <td>mammal</td>\n",
       "      <td>15.0</td>\n",
       "    </tr>\n",
       "  </tbody>\n",
       "</table>\n",
       "</div>"
      ],
      "text/plain": [
       "         length    type  weight\n",
       "trout        50    fish     1.0\n",
       "cod          70    fish     2.0\n",
       "hamster       8  mammal     0.1\n",
       "dog          60  mammal    15.0"
      ]
     },
     "execution_count": 64,
     "metadata": {},
     "output_type": "execute_result"
    }
   ],
   "source": [
    "animals"
   ]
  },
  {
   "cell_type": "code",
   "execution_count": 67,
   "metadata": {
    "collapsed": false
   },
   "outputs": [
    {
     "data": {
      "text/plain": [
       "['size', 'weight', 'size', 'weight']"
      ]
     },
     "execution_count": 67,
     "metadata": {},
     "output_type": "execute_result"
    }
   ],
   "source": [
    "['size', 'weight']*2"
   ]
  },
  {
   "cell_type": "code",
   "execution_count": 65,
   "metadata": {
    "collapsed": true
   },
   "outputs": [],
   "source": [
    "strange_animals = pandas.DataFrame({'name': ['trout', 'trout', 'cod', 'cod'],\n",
    "                                    'info_type': ['size', 'weight']*2,\n",
    "                                    'value': [50, 1, 70, 2]})"
   ]
  },
  {
   "cell_type": "code",
   "execution_count": 66,
   "metadata": {
    "collapsed": false
   },
   "outputs": [
    {
     "data": {
      "text/html": [
       "<div>\n",
       "<table border=\"1\" class=\"dataframe\">\n",
       "  <thead>\n",
       "    <tr style=\"text-align: right;\">\n",
       "      <th></th>\n",
       "      <th>info_type</th>\n",
       "      <th>name</th>\n",
       "      <th>value</th>\n",
       "    </tr>\n",
       "  </thead>\n",
       "  <tbody>\n",
       "    <tr>\n",
       "      <th>0</th>\n",
       "      <td>size</td>\n",
       "      <td>trout</td>\n",
       "      <td>50</td>\n",
       "    </tr>\n",
       "    <tr>\n",
       "      <th>1</th>\n",
       "      <td>weight</td>\n",
       "      <td>trout</td>\n",
       "      <td>1</td>\n",
       "    </tr>\n",
       "    <tr>\n",
       "      <th>2</th>\n",
       "      <td>size</td>\n",
       "      <td>cod</td>\n",
       "      <td>70</td>\n",
       "    </tr>\n",
       "    <tr>\n",
       "      <th>3</th>\n",
       "      <td>weight</td>\n",
       "      <td>cod</td>\n",
       "      <td>2</td>\n",
       "    </tr>\n",
       "  </tbody>\n",
       "</table>\n",
       "</div>"
      ],
      "text/plain": [
       "  info_type   name  value\n",
       "0      size  trout     50\n",
       "1    weight  trout      1\n",
       "2      size    cod     70\n",
       "3    weight    cod      2"
      ]
     },
     "execution_count": 66,
     "metadata": {},
     "output_type": "execute_result"
    }
   ],
   "source": [
    "strange_animals"
   ]
  },
  {
   "cell_type": "code",
   "execution_count": 68,
   "metadata": {
    "collapsed": false
   },
   "outputs": [
    {
     "data": {
      "text/html": [
       "<div>\n",
       "<table border=\"1\" class=\"dataframe\">\n",
       "  <thead>\n",
       "    <tr style=\"text-align: right;\">\n",
       "      <th>info_type</th>\n",
       "      <th>size</th>\n",
       "      <th>weight</th>\n",
       "    </tr>\n",
       "    <tr>\n",
       "      <th>name</th>\n",
       "      <th></th>\n",
       "      <th></th>\n",
       "    </tr>\n",
       "  </thead>\n",
       "  <tbody>\n",
       "    <tr>\n",
       "      <th>cod</th>\n",
       "      <td>70</td>\n",
       "      <td>2</td>\n",
       "    </tr>\n",
       "    <tr>\n",
       "      <th>trout</th>\n",
       "      <td>50</td>\n",
       "      <td>1</td>\n",
       "    </tr>\n",
       "  </tbody>\n",
       "</table>\n",
       "</div>"
      ],
      "text/plain": [
       "info_type  size  weight\n",
       "name                   \n",
       "cod          70       2\n",
       "trout        50       1"
      ]
     },
     "execution_count": 68,
     "metadata": {},
     "output_type": "execute_result"
    }
   ],
   "source": [
    "strange_animals.pivot_table(index='name', columns='info_type', values='value')"
   ]
  },
  {
   "cell_type": "code",
   "execution_count": 87,
   "metadata": {
    "collapsed": false
   },
   "outputs": [
    {
     "data": {
      "text/plain": [
       "trout    length        50\n",
       "         type        fish\n",
       "         weight         1\n",
       "cod      length        70\n",
       "         type        fish\n",
       "         weight         2\n",
       "hamster  length         8\n",
       "         type      mammal\n",
       "         weight       0.1\n",
       "dog      length        60\n",
       "         type      mammal\n",
       "         weight        15\n",
       "dtype: object"
      ]
     },
     "execution_count": 87,
     "metadata": {},
     "output_type": "execute_result"
    }
   ],
   "source": [
    "animals.stack()"
   ]
  },
  {
   "cell_type": "code",
   "execution_count": 89,
   "metadata": {
    "collapsed": false
   },
   "outputs": [
    {
     "data": {
      "text/html": [
       "<div>\n",
       "<table border=\"1\" class=\"dataframe\">\n",
       "  <thead>\n",
       "    <tr style=\"text-align: right;\">\n",
       "      <th></th>\n",
       "      <th>level_0</th>\n",
       "      <th>level_1</th>\n",
       "      <th>0</th>\n",
       "    </tr>\n",
       "  </thead>\n",
       "  <tbody>\n",
       "    <tr>\n",
       "      <th>0</th>\n",
       "      <td>trout</td>\n",
       "      <td>length</td>\n",
       "      <td>50</td>\n",
       "    </tr>\n",
       "    <tr>\n",
       "      <th>1</th>\n",
       "      <td>trout</td>\n",
       "      <td>type</td>\n",
       "      <td>fish</td>\n",
       "    </tr>\n",
       "    <tr>\n",
       "      <th>2</th>\n",
       "      <td>trout</td>\n",
       "      <td>weight</td>\n",
       "      <td>1</td>\n",
       "    </tr>\n",
       "    <tr>\n",
       "      <th>3</th>\n",
       "      <td>cod</td>\n",
       "      <td>length</td>\n",
       "      <td>70</td>\n",
       "    </tr>\n",
       "    <tr>\n",
       "      <th>4</th>\n",
       "      <td>cod</td>\n",
       "      <td>type</td>\n",
       "      <td>fish</td>\n",
       "    </tr>\n",
       "    <tr>\n",
       "      <th>5</th>\n",
       "      <td>cod</td>\n",
       "      <td>weight</td>\n",
       "      <td>2</td>\n",
       "    </tr>\n",
       "    <tr>\n",
       "      <th>6</th>\n",
       "      <td>hamster</td>\n",
       "      <td>length</td>\n",
       "      <td>8</td>\n",
       "    </tr>\n",
       "    <tr>\n",
       "      <th>7</th>\n",
       "      <td>hamster</td>\n",
       "      <td>type</td>\n",
       "      <td>mammal</td>\n",
       "    </tr>\n",
       "    <tr>\n",
       "      <th>8</th>\n",
       "      <td>hamster</td>\n",
       "      <td>weight</td>\n",
       "      <td>0.1</td>\n",
       "    </tr>\n",
       "    <tr>\n",
       "      <th>9</th>\n",
       "      <td>dog</td>\n",
       "      <td>length</td>\n",
       "      <td>60</td>\n",
       "    </tr>\n",
       "    <tr>\n",
       "      <th>10</th>\n",
       "      <td>dog</td>\n",
       "      <td>type</td>\n",
       "      <td>mammal</td>\n",
       "    </tr>\n",
       "    <tr>\n",
       "      <th>11</th>\n",
       "      <td>dog</td>\n",
       "      <td>weight</td>\n",
       "      <td>15</td>\n",
       "    </tr>\n",
       "  </tbody>\n",
       "</table>\n",
       "</div>"
      ],
      "text/plain": [
       "    level_0 level_1       0\n",
       "0     trout  length      50\n",
       "1     trout    type    fish\n",
       "2     trout  weight       1\n",
       "3       cod  length      70\n",
       "4       cod    type    fish\n",
       "5       cod  weight       2\n",
       "6   hamster  length       8\n",
       "7   hamster    type  mammal\n",
       "8   hamster  weight     0.1\n",
       "9       dog  length      60\n",
       "10      dog    type  mammal\n",
       "11      dog  weight      15"
      ]
     },
     "execution_count": 89,
     "metadata": {},
     "output_type": "execute_result"
    }
   ],
   "source": [
    "stacked = animals.stack().reset_index()\n",
    "stacked"
   ]
  },
  {
   "cell_type": "code",
   "execution_count": 91,
   "metadata": {
    "collapsed": false
   },
   "outputs": [
    {
     "data": {
      "text/html": [
       "<div>\n",
       "<table border=\"1\" class=\"dataframe\">\n",
       "  <thead>\n",
       "    <tr style=\"text-align: right;\">\n",
       "      <th></th>\n",
       "      <th>animal</th>\n",
       "      <th>info</th>\n",
       "      <th>value</th>\n",
       "    </tr>\n",
       "  </thead>\n",
       "  <tbody>\n",
       "    <tr>\n",
       "      <th>0</th>\n",
       "      <td>trout</td>\n",
       "      <td>length</td>\n",
       "      <td>50</td>\n",
       "    </tr>\n",
       "    <tr>\n",
       "      <th>1</th>\n",
       "      <td>trout</td>\n",
       "      <td>type</td>\n",
       "      <td>fish</td>\n",
       "    </tr>\n",
       "    <tr>\n",
       "      <th>2</th>\n",
       "      <td>trout</td>\n",
       "      <td>weight</td>\n",
       "      <td>1</td>\n",
       "    </tr>\n",
       "    <tr>\n",
       "      <th>3</th>\n",
       "      <td>cod</td>\n",
       "      <td>length</td>\n",
       "      <td>70</td>\n",
       "    </tr>\n",
       "    <tr>\n",
       "      <th>4</th>\n",
       "      <td>cod</td>\n",
       "      <td>type</td>\n",
       "      <td>fish</td>\n",
       "    </tr>\n",
       "    <tr>\n",
       "      <th>5</th>\n",
       "      <td>cod</td>\n",
       "      <td>weight</td>\n",
       "      <td>2</td>\n",
       "    </tr>\n",
       "    <tr>\n",
       "      <th>6</th>\n",
       "      <td>hamster</td>\n",
       "      <td>length</td>\n",
       "      <td>8</td>\n",
       "    </tr>\n",
       "    <tr>\n",
       "      <th>7</th>\n",
       "      <td>hamster</td>\n",
       "      <td>type</td>\n",
       "      <td>mammal</td>\n",
       "    </tr>\n",
       "    <tr>\n",
       "      <th>8</th>\n",
       "      <td>hamster</td>\n",
       "      <td>weight</td>\n",
       "      <td>0.1</td>\n",
       "    </tr>\n",
       "    <tr>\n",
       "      <th>9</th>\n",
       "      <td>dog</td>\n",
       "      <td>length</td>\n",
       "      <td>60</td>\n",
       "    </tr>\n",
       "    <tr>\n",
       "      <th>10</th>\n",
       "      <td>dog</td>\n",
       "      <td>type</td>\n",
       "      <td>mammal</td>\n",
       "    </tr>\n",
       "    <tr>\n",
       "      <th>11</th>\n",
       "      <td>dog</td>\n",
       "      <td>weight</td>\n",
       "      <td>15</td>\n",
       "    </tr>\n",
       "  </tbody>\n",
       "</table>\n",
       "</div>"
      ],
      "text/plain": [
       "     animal    info   value\n",
       "0     trout  length      50\n",
       "1     trout    type    fish\n",
       "2     trout  weight       1\n",
       "3       cod  length      70\n",
       "4       cod    type    fish\n",
       "5       cod  weight       2\n",
       "6   hamster  length       8\n",
       "7   hamster    type  mammal\n",
       "8   hamster  weight     0.1\n",
       "9       dog  length      60\n",
       "10      dog    type  mammal\n",
       "11      dog  weight      15"
      ]
     },
     "execution_count": 91,
     "metadata": {},
     "output_type": "execute_result"
    }
   ],
   "source": [
    "stacked.columns = ['animal', 'info', 'value']\n",
    "stacked"
   ]
  },
  {
   "cell_type": "code",
   "execution_count": 70,
   "metadata": {
    "collapsed": false
   },
   "outputs": [
    {
     "data": {
      "text/plain": [
       "date        hour\n",
       "2014-09-01  0       3\n",
       "            3       1\n",
       "            4       2\n",
       "            5       1\n",
       "            6       1\n",
       "dtype: int64"
      ]
     },
     "execution_count": 70,
     "metadata": {},
     "output_type": "execute_result"
    }
   ],
   "source": [
    "counts.head()"
   ]
  },
  {
   "cell_type": "code",
   "execution_count": 71,
   "metadata": {
    "collapsed": false
   },
   "outputs": [
    {
     "data": {
      "text/plain": [
       "pandas.core.series.Series"
      ]
     },
     "execution_count": 71,
     "metadata": {},
     "output_type": "execute_result"
    }
   ],
   "source": [
    "type(counts)"
   ]
  },
  {
   "cell_type": "code",
   "execution_count": 73,
   "metadata": {
    "collapsed": false
   },
   "outputs": [
    {
     "data": {
      "text/html": [
       "<div>\n",
       "<table border=\"1\" class=\"dataframe\">\n",
       "  <thead>\n",
       "    <tr style=\"text-align: right;\">\n",
       "      <th></th>\n",
       "      <th>date</th>\n",
       "      <th>hour</th>\n",
       "      <th>0</th>\n",
       "    </tr>\n",
       "  </thead>\n",
       "  <tbody>\n",
       "    <tr>\n",
       "      <th>0</th>\n",
       "      <td>2014-09-01</td>\n",
       "      <td>0</td>\n",
       "      <td>3</td>\n",
       "    </tr>\n",
       "    <tr>\n",
       "      <th>1</th>\n",
       "      <td>2014-09-01</td>\n",
       "      <td>3</td>\n",
       "      <td>1</td>\n",
       "    </tr>\n",
       "    <tr>\n",
       "      <th>2</th>\n",
       "      <td>2014-09-01</td>\n",
       "      <td>4</td>\n",
       "      <td>2</td>\n",
       "    </tr>\n",
       "    <tr>\n",
       "      <th>3</th>\n",
       "      <td>2014-09-01</td>\n",
       "      <td>5</td>\n",
       "      <td>1</td>\n",
       "    </tr>\n",
       "    <tr>\n",
       "      <th>4</th>\n",
       "      <td>2014-09-01</td>\n",
       "      <td>6</td>\n",
       "      <td>1</td>\n",
       "    </tr>\n",
       "  </tbody>\n",
       "</table>\n",
       "</div>"
      ],
      "text/plain": [
       "         date  hour  0\n",
       "0  2014-09-01     0  3\n",
       "1  2014-09-01     3  1\n",
       "2  2014-09-01     4  2\n",
       "3  2014-09-01     5  1\n",
       "4  2014-09-01     6  1"
      ]
     },
     "execution_count": 73,
     "metadata": {},
     "output_type": "execute_result"
    }
   ],
   "source": [
    "counts.reset_index().head()"
   ]
  },
  {
   "cell_type": "code",
   "execution_count": 74,
   "metadata": {
    "collapsed": true
   },
   "outputs": [],
   "source": [
    "counts.name = 'count' # get rid of the '0'"
   ]
  },
  {
   "cell_type": "code",
   "execution_count": 75,
   "metadata": {
    "collapsed": false
   },
   "outputs": [
    {
     "data": {
      "text/html": [
       "<div>\n",
       "<table border=\"1\" class=\"dataframe\">\n",
       "  <thead>\n",
       "    <tr style=\"text-align: right;\">\n",
       "      <th></th>\n",
       "      <th>date</th>\n",
       "      <th>hour</th>\n",
       "      <th>count</th>\n",
       "    </tr>\n",
       "  </thead>\n",
       "  <tbody>\n",
       "    <tr>\n",
       "      <th>0</th>\n",
       "      <td>2014-09-01</td>\n",
       "      <td>0</td>\n",
       "      <td>3</td>\n",
       "    </tr>\n",
       "    <tr>\n",
       "      <th>1</th>\n",
       "      <td>2014-09-01</td>\n",
       "      <td>3</td>\n",
       "      <td>1</td>\n",
       "    </tr>\n",
       "    <tr>\n",
       "      <th>2</th>\n",
       "      <td>2014-09-01</td>\n",
       "      <td>4</td>\n",
       "      <td>2</td>\n",
       "    </tr>\n",
       "    <tr>\n",
       "      <th>3</th>\n",
       "      <td>2014-09-01</td>\n",
       "      <td>5</td>\n",
       "      <td>1</td>\n",
       "    </tr>\n",
       "    <tr>\n",
       "      <th>4</th>\n",
       "      <td>2014-09-01</td>\n",
       "      <td>6</td>\n",
       "      <td>1</td>\n",
       "    </tr>\n",
       "  </tbody>\n",
       "</table>\n",
       "</div>"
      ],
      "text/plain": [
       "         date  hour  count\n",
       "0  2014-09-01     0      3\n",
       "1  2014-09-01     3      1\n",
       "2  2014-09-01     4      2\n",
       "3  2014-09-01     5      1\n",
       "4  2014-09-01     6      1"
      ]
     },
     "execution_count": 75,
     "metadata": {},
     "output_type": "execute_result"
    }
   ],
   "source": [
    "counts = counts.reset_index()\n",
    "counts.head()"
   ]
  },
  {
   "cell_type": "code",
   "execution_count": 79,
   "metadata": {
    "collapsed": false
   },
   "outputs": [
    {
     "data": {
      "text/html": [
       "<div>\n",
       "<table border=\"1\" class=\"dataframe\">\n",
       "  <thead>\n",
       "    <tr style=\"text-align: right;\">\n",
       "      <th>hour</th>\n",
       "      <th>0</th>\n",
       "      <th>1</th>\n",
       "      <th>2</th>\n",
       "      <th>3</th>\n",
       "      <th>4</th>\n",
       "      <th>5</th>\n",
       "      <th>6</th>\n",
       "      <th>7</th>\n",
       "      <th>8</th>\n",
       "      <th>9</th>\n",
       "      <th>...</th>\n",
       "      <th>14</th>\n",
       "      <th>15</th>\n",
       "      <th>16</th>\n",
       "      <th>17</th>\n",
       "      <th>18</th>\n",
       "      <th>19</th>\n",
       "      <th>20</th>\n",
       "      <th>21</th>\n",
       "      <th>22</th>\n",
       "      <th>23</th>\n",
       "    </tr>\n",
       "    <tr>\n",
       "      <th>date</th>\n",
       "      <th></th>\n",
       "      <th></th>\n",
       "      <th></th>\n",
       "      <th></th>\n",
       "      <th></th>\n",
       "      <th></th>\n",
       "      <th></th>\n",
       "      <th></th>\n",
       "      <th></th>\n",
       "      <th></th>\n",
       "      <th></th>\n",
       "      <th></th>\n",
       "      <th></th>\n",
       "      <th></th>\n",
       "      <th></th>\n",
       "      <th></th>\n",
       "      <th></th>\n",
       "      <th></th>\n",
       "      <th></th>\n",
       "      <th></th>\n",
       "      <th></th>\n",
       "    </tr>\n",
       "  </thead>\n",
       "  <tbody>\n",
       "    <tr>\n",
       "      <th>2014-09-01</th>\n",
       "      <td>3.0</td>\n",
       "      <td>0.0</td>\n",
       "      <td>0.0</td>\n",
       "      <td>1.0</td>\n",
       "      <td>2.0</td>\n",
       "      <td>1.0</td>\n",
       "      <td>1.0</td>\n",
       "      <td>4.0</td>\n",
       "      <td>13.0</td>\n",
       "      <td>16.0</td>\n",
       "      <td>...</td>\n",
       "      <td>49.0</td>\n",
       "      <td>28.0</td>\n",
       "      <td>23.0</td>\n",
       "      <td>25.0</td>\n",
       "      <td>7.0</td>\n",
       "      <td>19.0</td>\n",
       "      <td>12.0</td>\n",
       "      <td>9.0</td>\n",
       "      <td>4.0</td>\n",
       "      <td>0.0</td>\n",
       "    </tr>\n",
       "    <tr>\n",
       "      <th>2014-09-02</th>\n",
       "      <td>0.0</td>\n",
       "      <td>1.0</td>\n",
       "      <td>0.0</td>\n",
       "      <td>0.0</td>\n",
       "      <td>2.0</td>\n",
       "      <td>4.0</td>\n",
       "      <td>31.0</td>\n",
       "      <td>113.0</td>\n",
       "      <td>181.0</td>\n",
       "      <td>152.0</td>\n",
       "      <td>...</td>\n",
       "      <td>43.0</td>\n",
       "      <td>51.0</td>\n",
       "      <td>111.0</td>\n",
       "      <td>198.0</td>\n",
       "      <td>141.0</td>\n",
       "      <td>52.0</td>\n",
       "      <td>24.0</td>\n",
       "      <td>12.0</td>\n",
       "      <td>9.0</td>\n",
       "      <td>9.0</td>\n",
       "    </tr>\n",
       "    <tr>\n",
       "      <th>2014-09-03</th>\n",
       "      <td>0.0</td>\n",
       "      <td>1.0</td>\n",
       "      <td>1.0</td>\n",
       "      <td>1.0</td>\n",
       "      <td>1.0</td>\n",
       "      <td>9.0</td>\n",
       "      <td>34.0</td>\n",
       "      <td>124.0</td>\n",
       "      <td>218.0</td>\n",
       "      <td>139.0</td>\n",
       "      <td>...</td>\n",
       "      <td>46.0</td>\n",
       "      <td>47.0</td>\n",
       "      <td>107.0</td>\n",
       "      <td>209.0</td>\n",
       "      <td>151.0</td>\n",
       "      <td>69.0</td>\n",
       "      <td>22.0</td>\n",
       "      <td>17.0</td>\n",
       "      <td>13.0</td>\n",
       "      <td>7.0</td>\n",
       "    </tr>\n",
       "    <tr>\n",
       "      <th>2014-09-04</th>\n",
       "      <td>2.0</td>\n",
       "      <td>0.0</td>\n",
       "      <td>0.0</td>\n",
       "      <td>0.0</td>\n",
       "      <td>3.0</td>\n",
       "      <td>7.0</td>\n",
       "      <td>37.0</td>\n",
       "      <td>107.0</td>\n",
       "      <td>195.0</td>\n",
       "      <td>125.0</td>\n",
       "      <td>...</td>\n",
       "      <td>47.0</td>\n",
       "      <td>56.0</td>\n",
       "      <td>122.0</td>\n",
       "      <td>191.0</td>\n",
       "      <td>125.0</td>\n",
       "      <td>51.0</td>\n",
       "      <td>29.0</td>\n",
       "      <td>23.0</td>\n",
       "      <td>19.0</td>\n",
       "      <td>6.0</td>\n",
       "    </tr>\n",
       "    <tr>\n",
       "      <th>2014-09-05</th>\n",
       "      <td>2.0</td>\n",
       "      <td>2.0</td>\n",
       "      <td>0.0</td>\n",
       "      <td>2.0</td>\n",
       "      <td>2.0</td>\n",
       "      <td>7.0</td>\n",
       "      <td>25.0</td>\n",
       "      <td>104.0</td>\n",
       "      <td>190.0</td>\n",
       "      <td>123.0</td>\n",
       "      <td>...</td>\n",
       "      <td>41.0</td>\n",
       "      <td>52.0</td>\n",
       "      <td>119.0</td>\n",
       "      <td>164.0</td>\n",
       "      <td>110.0</td>\n",
       "      <td>37.0</td>\n",
       "      <td>29.0</td>\n",
       "      <td>9.0</td>\n",
       "      <td>13.0</td>\n",
       "      <td>9.0</td>\n",
       "    </tr>\n",
       "  </tbody>\n",
       "</table>\n",
       "<p>5 rows × 24 columns</p>\n",
       "</div>"
      ],
      "text/plain": [
       "hour         0    1    2    3    4    5     6      7      8      9  ...   \\\n",
       "date                                                                ...    \n",
       "2014-09-01  3.0  0.0  0.0  1.0  2.0  1.0   1.0    4.0   13.0   16.0 ...    \n",
       "2014-09-02  0.0  1.0  0.0  0.0  2.0  4.0  31.0  113.0  181.0  152.0 ...    \n",
       "2014-09-03  0.0  1.0  1.0  1.0  1.0  9.0  34.0  124.0  218.0  139.0 ...    \n",
       "2014-09-04  2.0  0.0  0.0  0.0  3.0  7.0  37.0  107.0  195.0  125.0 ...    \n",
       "2014-09-05  2.0  2.0  0.0  2.0  2.0  7.0  25.0  104.0  190.0  123.0 ...    \n",
       "\n",
       "hour          14    15     16     17     18    19    20    21    22   23  \n",
       "date                                                                      \n",
       "2014-09-01  49.0  28.0   23.0   25.0    7.0  19.0  12.0   9.0   4.0  0.0  \n",
       "2014-09-02  43.0  51.0  111.0  198.0  141.0  52.0  24.0  12.0   9.0  9.0  \n",
       "2014-09-03  46.0  47.0  107.0  209.0  151.0  69.0  22.0  17.0  13.0  7.0  \n",
       "2014-09-04  47.0  56.0  122.0  191.0  125.0  51.0  29.0  23.0  19.0  6.0  \n",
       "2014-09-05  41.0  52.0  119.0  164.0  110.0  37.0  29.0   9.0  13.0  9.0  \n",
       "\n",
       "[5 rows x 24 columns]"
      ]
     },
     "execution_count": 79,
     "metadata": {},
     "output_type": "execute_result"
    }
   ],
   "source": [
    "features = counts.pivot_table(index='date', columns='hour', values='count').fillna(0)\n",
    "features.head()"
   ]
  },
  {
   "cell_type": "markdown",
   "metadata": {},
   "source": [
    "## Elbow method"
   ]
  },
  {
   "cell_type": "code",
   "execution_count": 81,
   "metadata": {
    "collapsed": false
   },
   "outputs": [],
   "source": [
    "from sklearn.cluster import KMeans"
   ]
  },
  {
   "cell_type": "code",
   "execution_count": 82,
   "metadata": {
    "collapsed": true
   },
   "outputs": [],
   "source": [
    "ks = range(2, 10)"
   ]
  },
  {
   "cell_type": "code",
   "execution_count": 83,
   "metadata": {
    "collapsed": true
   },
   "outputs": [],
   "source": [
    "?KMeans"
   ]
  },
  {
   "cell_type": "code",
   "execution_count": 84,
   "metadata": {
    "collapsed": true
   },
   "outputs": [],
   "source": [
    "scores = [-KMeans(k).fit(features).score(features) for k in ks]"
   ]
  },
  {
   "cell_type": "code",
   "execution_count": 85,
   "metadata": {
    "collapsed": false
   },
   "outputs": [
    {
     "data": {
      "text/plain": [
       "[<matplotlib.lines.Line2D at 0x10cab09d0>]"
      ]
     },
     "execution_count": 85,
     "metadata": {},
     "output_type": "execute_result"
    },
    {
     "data": {
      "image/png": "[encoded data removed]",
      "text/plain": [
       "<matplotlib.figure.Figure at 0x10a050e50>"
      ]
     },
     "metadata": {},
     "output_type": "display_data"
    }
   ],
   "source": [
    "plt.plot(ks, scores)"
   ]
  },
  {
   "cell_type": "code",
   "execution_count": 92,
   "metadata": {
    "collapsed": true
   },
   "outputs": [],
   "source": [
    "model = KMeans(4).fit(features)"
   ]
  },
  {
   "cell_type": "code",
   "execution_count": 93,
   "metadata": {
    "collapsed": false
   },
   "outputs": [
    {
     "data": {
      "text/plain": [
       "<matplotlib.legend.Legend at 0x10cb06950>"
      ]
     },
     "execution_count": 93,
     "metadata": {},
     "output_type": "execute_result"
    },
    {
     "data": {
      "image/png": "[encoded data removed]",
      "text/plain": [
       "<matplotlib.figure.Figure at 0x10caf9f10>"
      ]
     },
     "metadata": {},
     "output_type": "display_data"
    }
   ],
   "source": [
    "for n, center in enumerate(model.cluster_centers_):\n",
    "    plt.plot(center, label=str(n))\n",
    "plt.legend()"
   ]
  },
  {
   "cell_type": "code",
   "execution_count": 94,
   "metadata": {
    "collapsed": true
   },
   "outputs": [],
   "source": [
    "labels = pandas.DataFrame({'date': features.index, 'cluster': model.labels_})"
   ]
  },
  {
   "cell_type": "code",
   "execution_count": 95,
   "metadata": {
    "collapsed": false
   },
   "outputs": [
    {
     "data": {
      "text/html": [
       "<div>\n",
       "<table border=\"1\" class=\"dataframe\">\n",
       "  <thead>\n",
       "    <tr style=\"text-align: right;\">\n",
       "      <th></th>\n",
       "      <th>cluster</th>\n",
       "      <th>date</th>\n",
       "    </tr>\n",
       "  </thead>\n",
       "  <tbody>\n",
       "    <tr>\n",
       "      <th>0</th>\n",
       "      <td>1</td>\n",
       "      <td>2014-09-01</td>\n",
       "    </tr>\n",
       "    <tr>\n",
       "      <th>1</th>\n",
       "      <td>3</td>\n",
       "      <td>2014-09-02</td>\n",
       "    </tr>\n",
       "    <tr>\n",
       "      <th>2</th>\n",
       "      <td>3</td>\n",
       "      <td>2014-09-03</td>\n",
       "    </tr>\n",
       "    <tr>\n",
       "      <th>3</th>\n",
       "      <td>3</td>\n",
       "      <td>2014-09-04</td>\n",
       "    </tr>\n",
       "    <tr>\n",
       "      <th>4</th>\n",
       "      <td>2</td>\n",
       "      <td>2014-09-05</td>\n",
       "    </tr>\n",
       "  </tbody>\n",
       "</table>\n",
       "</div>"
      ],
      "text/plain": [
       "   cluster        date\n",
       "0        1  2014-09-01\n",
       "1        3  2014-09-02\n",
       "2        3  2014-09-03\n",
       "3        3  2014-09-04\n",
       "4        2  2014-09-05"
      ]
     },
     "execution_count": 95,
     "metadata": {},
     "output_type": "execute_result"
    }
   ],
   "source": [
    "labels.head()"
   ]
  },
  {
   "cell_type": "code",
   "execution_count": 98,
   "metadata": {
    "collapsed": true
   },
   "outputs": [],
   "source": [
    "from calendar import day_abbr, month_abbr"
   ]
  },
  {
   "cell_type": "code",
   "execution_count": 99,
   "metadata": {
    "collapsed": false
   },
   "outputs": [
    {
     "data": {
      "text/plain": [
       "'Mon'"
      ]
     },
     "execution_count": 99,
     "metadata": {},
     "output_type": "execute_result"
    }
   ],
   "source": [
    "day_abbr[0]"
   ]
  },
  {
   "cell_type": "code",
   "execution_count": 100,
   "metadata": {
    "collapsed": true
   },
   "outputs": [],
   "source": [
    "labels['day'] = labels.date.apply(lambda x: day_abbr[x.weekday()])\n",
    "labels['month'] = labels.date.apply(lambda x: month_abbr[x.month])"
   ]
  },
  {
   "cell_type": "code",
   "execution_count": 101,
   "metadata": {
    "collapsed": false
   },
   "outputs": [
    {
     "data": {
      "text/html": [
       "<div>\n",
       "<table border=\"1\" class=\"dataframe\">\n",
       "  <thead>\n",
       "    <tr style=\"text-align: right;\">\n",
       "      <th></th>\n",
       "      <th>cluster</th>\n",
       "      <th>date</th>\n",
       "      <th>day</th>\n",
       "      <th>month</th>\n",
       "    </tr>\n",
       "  </thead>\n",
       "  <tbody>\n",
       "    <tr>\n",
       "      <th>0</th>\n",
       "      <td>1</td>\n",
       "      <td>2014-09-01</td>\n",
       "      <td>Mon</td>\n",
       "      <td>Sep</td>\n",
       "    </tr>\n",
       "    <tr>\n",
       "      <th>1</th>\n",
       "      <td>3</td>\n",
       "      <td>2014-09-02</td>\n",
       "      <td>Tue</td>\n",
       "      <td>Sep</td>\n",
       "    </tr>\n",
       "    <tr>\n",
       "      <th>2</th>\n",
       "      <td>3</td>\n",
       "      <td>2014-09-03</td>\n",
       "      <td>Wed</td>\n",
       "      <td>Sep</td>\n",
       "    </tr>\n",
       "    <tr>\n",
       "      <th>3</th>\n",
       "      <td>3</td>\n",
       "      <td>2014-09-04</td>\n",
       "      <td>Thu</td>\n",
       "      <td>Sep</td>\n",
       "    </tr>\n",
       "    <tr>\n",
       "      <th>4</th>\n",
       "      <td>2</td>\n",
       "      <td>2014-09-05</td>\n",
       "      <td>Fri</td>\n",
       "      <td>Sep</td>\n",
       "    </tr>\n",
       "  </tbody>\n",
       "</table>\n",
       "</div>"
      ],
      "text/plain": [
       "   cluster        date  day month\n",
       "0        1  2014-09-01  Mon   Sep\n",
       "1        3  2014-09-02  Tue   Sep\n",
       "2        3  2014-09-03  Wed   Sep\n",
       "3        3  2014-09-04  Thu   Sep\n",
       "4        2  2014-09-05  Fri   Sep"
      ]
     },
     "execution_count": 101,
     "metadata": {},
     "output_type": "execute_result"
    }
   ],
   "source": [
    "labels.head()"
   ]
  },
  {
   "cell_type": "code",
   "execution_count": 102,
   "metadata": {
    "collapsed": false
   },
   "outputs": [
    {
     "data": {
      "text/plain": [
       "cluster  day\n",
       "0        Fri     4\n",
       "         Mon     4\n",
       "         Thu     1\n",
       "         Tue     4\n",
       "         Wed     5\n",
       "1        Fri     4\n",
       "         Mon     3\n",
       "         Sat    52\n",
       "         Sun    52\n",
       "         Thu     4\n",
       "         Wed     2\n",
       "2        Fri    44\n",
       "         Mon     7\n",
       "         Thu    15\n",
       "         Tue     6\n",
       "         Wed     6\n",
       "3        Mon    39\n",
       "         Thu    32\n",
       "         Tue    42\n",
       "         Wed    39\n",
       "dtype: int64"
      ]
     },
     "execution_count": 102,
     "metadata": {},
     "output_type": "execute_result"
    }
   ],
   "source": [
    "labels.groupby(['cluster', 'day']).size()"
   ]
  },
  {
   "cell_type": "code",
   "execution_count": 103,
   "metadata": {
    "collapsed": true
   },
   "outputs": [],
   "source": [
    "weekday_counts = labels.groupby(['cluster', 'day']).size()\n",
    "weekday_counts.name = 'count'"
   ]
  },
  {
   "cell_type": "code",
   "execution_count": 107,
   "metadata": {
    "collapsed": false
   },
   "outputs": [],
   "source": [
    "weekday_for_plotting = (weekday_counts\n",
    "                        .reset_index()\n",
    "                        .pivot_table(columns='day', values='count', index='cluster'))"
   ]
  },
  {
   "cell_type": "code",
   "execution_count": 108,
   "metadata": {
    "collapsed": false
   },
   "outputs": [
    {
     "data": {
      "text/plain": [
       "<matplotlib.axes._subplots.AxesSubplot at 0x10cc06050>"
      ]
     },
     "execution_count": 108,
     "metadata": {},
     "output_type": "execute_result"
    },
    {
     "data": {
      "image/png": "[encoded data removed]",
      "text/plain": [
       "<matplotlib.figure.Figure at 0x10cbf8cd0>"
      ]
     },
     "metadata": {},
     "output_type": "display_data"
    }
   ],
   "source": [
    "weekday_for_plotting.plot.bar()"
   ]
  },
  {
   "cell_type": "code",
   "execution_count": 175,
   "metadata": {
    "collapsed": false
   },
   "outputs": [
    {
     "data": {
      "text/plain": [
       "<matplotlib.axes._subplots.AxesSubplot at 0x11794e590>"
      ]
     },
     "execution_count": 175,
     "metadata": {},
     "output_type": "execute_result"
    },
    {
     "data": {
      "image/png": "[encoded data removed]",
      "text/plain": [
       "<matplotlib.figure.Figure at 0x116ea4510>"
      ]
     },
     "metadata": {},
     "output_type": "display_data"
    }
   ],
   "source": [
    "weekday_for_plotting[[day_abbr[i] for i in range(7)]].plot.bar()"
   ]
  },
  {
   "cell_type": "code",
   "execution_count": 111,
   "metadata": {
    "collapsed": false
   },
   "outputs": [
    {
     "data": {
      "text/html": [
       "<div>\n",
       "<table border=\"1\" class=\"dataframe\">\n",
       "  <thead>\n",
       "    <tr style=\"text-align: right;\">\n",
       "      <th></th>\n",
       "      <th>month</th>\n",
       "      <th>cluster</th>\n",
       "      <th>count</th>\n",
       "    </tr>\n",
       "  </thead>\n",
       "  <tbody>\n",
       "    <tr>\n",
       "      <th>0</th>\n",
       "      <td>Apr</td>\n",
       "      <td>1</td>\n",
       "      <td>8</td>\n",
       "    </tr>\n",
       "    <tr>\n",
       "      <th>1</th>\n",
       "      <td>Apr</td>\n",
       "      <td>2</td>\n",
       "      <td>5</td>\n",
       "    </tr>\n",
       "    <tr>\n",
       "      <th>2</th>\n",
       "      <td>Apr</td>\n",
       "      <td>3</td>\n",
       "      <td>17</td>\n",
       "    </tr>\n",
       "    <tr>\n",
       "      <th>3</th>\n",
       "      <td>Aug</td>\n",
       "      <td>1</td>\n",
       "      <td>10</td>\n",
       "    </tr>\n",
       "    <tr>\n",
       "      <th>4</th>\n",
       "      <td>Aug</td>\n",
       "      <td>2</td>\n",
       "      <td>4</td>\n",
       "    </tr>\n",
       "  </tbody>\n",
       "</table>\n",
       "</div>"
      ],
      "text/plain": [
       "  month  cluster  count\n",
       "0   Apr        1      8\n",
       "1   Apr        2      5\n",
       "2   Apr        3     17\n",
       "3   Aug        1     10\n",
       "4   Aug        2      4"
      ]
     },
     "execution_count": 111,
     "metadata": {},
     "output_type": "execute_result"
    }
   ],
   "source": [
    "per_month = labels.groupby(['month', 'cluster']).size()\n",
    "per_month.name = 'count'\n",
    "per_month = per_month.reset_index()\n",
    "per_month.head()"
   ]
  },
  {
   "cell_type": "code",
   "execution_count": 112,
   "metadata": {
    "collapsed": true
   },
   "outputs": [],
   "source": [
    "month_for_plotting = per_month.pivot_table(index='cluster', values='count', columns='month')"
   ]
  },
  {
   "cell_type": "code",
   "execution_count": 114,
   "metadata": {
    "collapsed": false
   },
   "outputs": [
    {
     "data": {
      "text/plain": [
       "<matplotlib.legend.Legend at 0x10dfe3810>"
      ]
     },
     "execution_count": 114,
     "metadata": {},
     "output_type": "execute_result"
    },
    {
     "data": {
      "image/png": "[encoded data removed]",
      "text/plain": [
       "<matplotlib.figure.Figure at 0x10e009690>"
      ]
     },
     "metadata": {},
     "output_type": "display_data"
    }
   ],
   "source": [
    "month_for_plotting.plot.bar()\n",
    "plt.legend(bbox_to_anchor=(1,1))"
   ]
  },
  {
   "cell_type": "code",
   "execution_count": 115,
   "metadata": {
    "collapsed": true
   },
   "outputs": [],
   "source": [
    "hours = features.columns"
   ]
  },
  {
   "cell_type": "code",
   "execution_count": 116,
   "metadata": {
    "collapsed": false
   },
   "outputs": [
    {
     "data": {
      "text/plain": [
       "Int64Index([ 0,  1,  2,  3,  4,  5,  6,  7,  8,  9, 10, 11, 12, 13, 14, 15, 16,\n",
       "            17, 18, 19, 20, 21, 22, 23],\n",
       "           dtype='int64', name=u'hour')"
      ]
     },
     "execution_count": 116,
     "metadata": {},
     "output_type": "execute_result"
    }
   ],
   "source": [
    "hours"
   ]
  },
  {
   "cell_type": "code",
   "execution_count": 118,
   "metadata": {
    "collapsed": false
   },
   "outputs": [],
   "source": [
    "features['centers'] = [model.cluster_centers_[x] for x in model.labels_]"
   ]
  },
  {
   "cell_type": "code",
   "execution_count": 119,
   "metadata": {
    "collapsed": true
   },
   "outputs": [],
   "source": [
    "features['labels'] = model.labels_"
   ]
  },
  {
   "cell_type": "code",
   "execution_count": 120,
   "metadata": {
    "collapsed": true
   },
   "outputs": [],
   "source": [
    "from numpy.linalg import norm"
   ]
  },
  {
   "cell_type": "code",
   "execution_count": 122,
   "metadata": {
    "collapsed": false
   },
   "outputs": [],
   "source": [
    "features['dist'] = [norm(i - j) for i, j in zip(features[hours].values,\n",
    "                                                features.centers)]"
   ]
  },
  {
   "cell_type": "code",
   "execution_count": 123,
   "metadata": {
    "collapsed": true
   },
   "outputs": [],
   "source": [
    "names = ['a', 'b', 'c']\n",
    "values = [12, 24, 65]"
   ]
  },
  {
   "cell_type": "code",
   "execution_count": 124,
   "metadata": {
    "collapsed": false
   },
   "outputs": [
    {
     "name": "stdout",
     "output_type": "stream",
     "text": [
      "a 12\n",
      "b 24\n",
      "c 65\n"
     ]
    }
   ],
   "source": [
    "for name, value in zip(names, values):\n",
    "    print name, value"
   ]
  },
  {
   "cell_type": "code",
   "execution_count": 126,
   "metadata": {
    "collapsed": false
   },
   "outputs": [
    {
     "name": "stdout",
     "output_type": "stream",
     "text": [
      "0 a\n",
      "1 b\n",
      "2 c\n"
     ]
    }
   ],
   "source": [
    "for i, name in enumerate(names):\n",
    "    print i, name"
   ]
  },
  {
   "cell_type": "code",
   "execution_count": 128,
   "metadata": {
    "collapsed": false
   },
   "outputs": [],
   "source": [
    "import numpy as np"
   ]
  },
  {
   "cell_type": "code",
   "execution_count": 129,
   "metadata": {
    "collapsed": true
   },
   "outputs": [],
   "source": [
    "stats = features.groupby('labels')['dist'].agg([np.mean, np.std])"
   ]
  },
  {
   "cell_type": "code",
   "execution_count": 130,
   "metadata": {
    "collapsed": false
   },
   "outputs": [
    {
     "data": {
      "text/html": [
       "<div>\n",
       "<table border=\"1\" class=\"dataframe\">\n",
       "  <thead>\n",
       "    <tr style=\"text-align: right;\">\n",
       "      <th></th>\n",
       "      <th>mean</th>\n",
       "      <th>std</th>\n",
       "    </tr>\n",
       "    <tr>\n",
       "      <th>labels</th>\n",
       "      <th></th>\n",
       "      <th></th>\n",
       "    </tr>\n",
       "  </thead>\n",
       "  <tbody>\n",
       "    <tr>\n",
       "      <th>0</th>\n",
       "      <td>75.040305</td>\n",
       "      <td>17.617176</td>\n",
       "    </tr>\n",
       "    <tr>\n",
       "      <th>1</th>\n",
       "      <td>33.481062</td>\n",
       "      <td>12.180384</td>\n",
       "    </tr>\n",
       "    <tr>\n",
       "      <th>2</th>\n",
       "      <td>45.192794</td>\n",
       "      <td>12.459722</td>\n",
       "    </tr>\n",
       "    <tr>\n",
       "      <th>3</th>\n",
       "      <td>39.861972</td>\n",
       "      <td>9.411020</td>\n",
       "    </tr>\n",
       "  </tbody>\n",
       "</table>\n",
       "</div>"
      ],
      "text/plain": [
       "             mean        std\n",
       "labels                      \n",
       "0       75.040305  17.617176\n",
       "1       33.481062  12.180384\n",
       "2       45.192794  12.459722\n",
       "3       39.861972   9.411020"
      ]
     },
     "execution_count": 130,
     "metadata": {},
     "output_type": "execute_result"
    }
   ],
   "source": [
    "stats"
   ]
  },
  {
   "cell_type": "code",
   "execution_count": 131,
   "metadata": {
    "collapsed": false
   },
   "outputs": [
    {
     "data": {
      "text/html": [
       "<div>\n",
       "<table border=\"1\" class=\"dataframe\">\n",
       "  <thead>\n",
       "    <tr style=\"text-align: right;\">\n",
       "      <th>hour</th>\n",
       "      <th>0</th>\n",
       "      <th>1</th>\n",
       "      <th>2</th>\n",
       "      <th>3</th>\n",
       "      <th>4</th>\n",
       "      <th>5</th>\n",
       "      <th>6</th>\n",
       "      <th>7</th>\n",
       "      <th>8</th>\n",
       "      <th>9</th>\n",
       "      <th>...</th>\n",
       "      <th>17</th>\n",
       "      <th>18</th>\n",
       "      <th>19</th>\n",
       "      <th>20</th>\n",
       "      <th>21</th>\n",
       "      <th>22</th>\n",
       "      <th>23</th>\n",
       "      <th>centers</th>\n",
       "      <th>labels</th>\n",
       "      <th>dist</th>\n",
       "    </tr>\n",
       "    <tr>\n",
       "      <th>date</th>\n",
       "      <th></th>\n",
       "      <th></th>\n",
       "      <th></th>\n",
       "      <th></th>\n",
       "      <th></th>\n",
       "      <th></th>\n",
       "      <th></th>\n",
       "      <th></th>\n",
       "      <th></th>\n",
       "      <th></th>\n",
       "      <th></th>\n",
       "      <th></th>\n",
       "      <th></th>\n",
       "      <th></th>\n",
       "      <th></th>\n",
       "      <th></th>\n",
       "      <th></th>\n",
       "      <th></th>\n",
       "      <th></th>\n",
       "      <th></th>\n",
       "      <th></th>\n",
       "    </tr>\n",
       "  </thead>\n",
       "  <tbody>\n",
       "    <tr>\n",
       "      <th>2014-09-01</th>\n",
       "      <td>3.0</td>\n",
       "      <td>0.0</td>\n",
       "      <td>0.0</td>\n",
       "      <td>1.0</td>\n",
       "      <td>2.0</td>\n",
       "      <td>1.0</td>\n",
       "      <td>1.0</td>\n",
       "      <td>4.0</td>\n",
       "      <td>13.0</td>\n",
       "      <td>16.0</td>\n",
       "      <td>...</td>\n",
       "      <td>25.0</td>\n",
       "      <td>7.0</td>\n",
       "      <td>19.0</td>\n",
       "      <td>12.0</td>\n",
       "      <td>9.0</td>\n",
       "      <td>4.0</td>\n",
       "      <td>0.0</td>\n",
       "      <td>[3.67521367521, 2.34188034188, 1.2735042735, 0...</td>\n",
       "      <td>1</td>\n",
       "      <td>35.508540</td>\n",
       "    </tr>\n",
       "    <tr>\n",
       "      <th>2014-09-02</th>\n",
       "      <td>0.0</td>\n",
       "      <td>1.0</td>\n",
       "      <td>0.0</td>\n",
       "      <td>0.0</td>\n",
       "      <td>2.0</td>\n",
       "      <td>4.0</td>\n",
       "      <td>31.0</td>\n",
       "      <td>113.0</td>\n",
       "      <td>181.0</td>\n",
       "      <td>152.0</td>\n",
       "      <td>...</td>\n",
       "      <td>198.0</td>\n",
       "      <td>141.0</td>\n",
       "      <td>52.0</td>\n",
       "      <td>24.0</td>\n",
       "      <td>12.0</td>\n",
       "      <td>9.0</td>\n",
       "      <td>9.0</td>\n",
       "      <td>[2.25, 0.927631578947, 0.394736842105, 0.40789...</td>\n",
       "      <td>3</td>\n",
       "      <td>40.089035</td>\n",
       "    </tr>\n",
       "    <tr>\n",
       "      <th>2014-09-03</th>\n",
       "      <td>0.0</td>\n",
       "      <td>1.0</td>\n",
       "      <td>1.0</td>\n",
       "      <td>1.0</td>\n",
       "      <td>1.0</td>\n",
       "      <td>9.0</td>\n",
       "      <td>34.0</td>\n",
       "      <td>124.0</td>\n",
       "      <td>218.0</td>\n",
       "      <td>139.0</td>\n",
       "      <td>...</td>\n",
       "      <td>209.0</td>\n",
       "      <td>151.0</td>\n",
       "      <td>69.0</td>\n",
       "      <td>22.0</td>\n",
       "      <td>17.0</td>\n",
       "      <td>13.0</td>\n",
       "      <td>7.0</td>\n",
       "      <td>[2.25, 0.927631578947, 0.394736842105, 0.40789...</td>\n",
       "      <td>3</td>\n",
       "      <td>45.163582</td>\n",
       "    </tr>\n",
       "    <tr>\n",
       "      <th>2014-09-04</th>\n",
       "      <td>2.0</td>\n",
       "      <td>0.0</td>\n",
       "      <td>0.0</td>\n",
       "      <td>0.0</td>\n",
       "      <td>3.0</td>\n",
       "      <td>7.0</td>\n",
       "      <td>37.0</td>\n",
       "      <td>107.0</td>\n",
       "      <td>195.0</td>\n",
       "      <td>125.0</td>\n",
       "      <td>...</td>\n",
       "      <td>191.0</td>\n",
       "      <td>125.0</td>\n",
       "      <td>51.0</td>\n",
       "      <td>29.0</td>\n",
       "      <td>23.0</td>\n",
       "      <td>19.0</td>\n",
       "      <td>6.0</td>\n",
       "      <td>[2.25, 0.927631578947, 0.394736842105, 0.40789...</td>\n",
       "      <td>3</td>\n",
       "      <td>45.691894</td>\n",
       "    </tr>\n",
       "    <tr>\n",
       "      <th>2014-09-05</th>\n",
       "      <td>2.0</td>\n",
       "      <td>2.0</td>\n",
       "      <td>0.0</td>\n",
       "      <td>2.0</td>\n",
       "      <td>2.0</td>\n",
       "      <td>7.0</td>\n",
       "      <td>25.0</td>\n",
       "      <td>104.0</td>\n",
       "      <td>190.0</td>\n",
       "      <td>123.0</td>\n",
       "      <td>...</td>\n",
       "      <td>164.0</td>\n",
       "      <td>110.0</td>\n",
       "      <td>37.0</td>\n",
       "      <td>29.0</td>\n",
       "      <td>9.0</td>\n",
       "      <td>13.0</td>\n",
       "      <td>9.0</td>\n",
       "      <td>[2.66666666667, 1.05128205128, 0.666666666667,...</td>\n",
       "      <td>2</td>\n",
       "      <td>31.936204</td>\n",
       "    </tr>\n",
       "  </tbody>\n",
       "</table>\n",
       "<p>5 rows × 27 columns</p>\n",
       "</div>"
      ],
      "text/plain": [
       "hour          0    1    2    3    4    5     6      7      8      9  \\\n",
       "date                                                                  \n",
       "2014-09-01  3.0  0.0  0.0  1.0  2.0  1.0   1.0    4.0   13.0   16.0   \n",
       "2014-09-02  0.0  1.0  0.0  0.0  2.0  4.0  31.0  113.0  181.0  152.0   \n",
       "2014-09-03  0.0  1.0  1.0  1.0  1.0  9.0  34.0  124.0  218.0  139.0   \n",
       "2014-09-04  2.0  0.0  0.0  0.0  3.0  7.0  37.0  107.0  195.0  125.0   \n",
       "2014-09-05  2.0  2.0  0.0  2.0  2.0  7.0  25.0  104.0  190.0  123.0   \n",
       "\n",
       "hour          ...         17     18    19    20    21    22   23  \\\n",
       "date          ...                                                  \n",
       "2014-09-01    ...       25.0    7.0  19.0  12.0   9.0   4.0  0.0   \n",
       "2014-09-02    ...      198.0  141.0  52.0  24.0  12.0   9.0  9.0   \n",
       "2014-09-03    ...      209.0  151.0  69.0  22.0  17.0  13.0  7.0   \n",
       "2014-09-04    ...      191.0  125.0  51.0  29.0  23.0  19.0  6.0   \n",
       "2014-09-05    ...      164.0  110.0  37.0  29.0   9.0  13.0  9.0   \n",
       "\n",
       "hour                                                  centers  labels  \\\n",
       "date                                                                    \n",
       "2014-09-01  [3.67521367521, 2.34188034188, 1.2735042735, 0...       1   \n",
       "2014-09-02  [2.25, 0.927631578947, 0.394736842105, 0.40789...       3   \n",
       "2014-09-03  [2.25, 0.927631578947, 0.394736842105, 0.40789...       3   \n",
       "2014-09-04  [2.25, 0.927631578947, 0.394736842105, 0.40789...       3   \n",
       "2014-09-05  [2.66666666667, 1.05128205128, 0.666666666667,...       2   \n",
       "\n",
       "hour             dist  \n",
       "date                   \n",
       "2014-09-01  35.508540  \n",
       "2014-09-02  40.089035  \n",
       "2014-09-03  45.163582  \n",
       "2014-09-04  45.691894  \n",
       "2014-09-05  31.936204  \n",
       "\n",
       "[5 rows x 27 columns]"
      ]
     },
     "execution_count": 131,
     "metadata": {},
     "output_type": "execute_result"
    }
   ],
   "source": [
    "features.head()"
   ]
  },
  {
   "cell_type": "code",
   "execution_count": 133,
   "metadata": {
    "collapsed": false
   },
   "outputs": [],
   "source": [
    "joined = features.join(stats, on='labels')"
   ]
  },
  {
   "cell_type": "code",
   "execution_count": 134,
   "metadata": {
    "collapsed": false
   },
   "outputs": [
    {
     "data": {
      "text/html": [
       "<div>\n",
       "<table border=\"1\" class=\"dataframe\">\n",
       "  <thead>\n",
       "    <tr style=\"text-align: right;\">\n",
       "      <th></th>\n",
       "      <th>0</th>\n",
       "      <th>1</th>\n",
       "      <th>2</th>\n",
       "      <th>3</th>\n",
       "      <th>4</th>\n",
       "      <th>5</th>\n",
       "      <th>6</th>\n",
       "      <th>7</th>\n",
       "      <th>8</th>\n",
       "      <th>9</th>\n",
       "      <th>...</th>\n",
       "      <th>19</th>\n",
       "      <th>20</th>\n",
       "      <th>21</th>\n",
       "      <th>22</th>\n",
       "      <th>23</th>\n",
       "      <th>centers</th>\n",
       "      <th>labels</th>\n",
       "      <th>dist</th>\n",
       "      <th>mean</th>\n",
       "      <th>std</th>\n",
       "    </tr>\n",
       "    <tr>\n",
       "      <th>date</th>\n",
       "      <th></th>\n",
       "      <th></th>\n",
       "      <th></th>\n",
       "      <th></th>\n",
       "      <th></th>\n",
       "      <th></th>\n",
       "      <th></th>\n",
       "      <th></th>\n",
       "      <th></th>\n",
       "      <th></th>\n",
       "      <th></th>\n",
       "      <th></th>\n",
       "      <th></th>\n",
       "      <th></th>\n",
       "      <th></th>\n",
       "      <th></th>\n",
       "      <th></th>\n",
       "      <th></th>\n",
       "      <th></th>\n",
       "      <th></th>\n",
       "      <th></th>\n",
       "    </tr>\n",
       "  </thead>\n",
       "  <tbody>\n",
       "    <tr>\n",
       "      <th>2014-09-01</th>\n",
       "      <td>3.0</td>\n",
       "      <td>0.0</td>\n",
       "      <td>0.0</td>\n",
       "      <td>1.0</td>\n",
       "      <td>2.0</td>\n",
       "      <td>1.0</td>\n",
       "      <td>1.0</td>\n",
       "      <td>4.0</td>\n",
       "      <td>13.0</td>\n",
       "      <td>16.0</td>\n",
       "      <td>...</td>\n",
       "      <td>19.0</td>\n",
       "      <td>12.0</td>\n",
       "      <td>9.0</td>\n",
       "      <td>4.0</td>\n",
       "      <td>0.0</td>\n",
       "      <td>[3.67521367521, 2.34188034188, 1.2735042735, 0...</td>\n",
       "      <td>1</td>\n",
       "      <td>35.508540</td>\n",
       "      <td>33.481062</td>\n",
       "      <td>12.180384</td>\n",
       "    </tr>\n",
       "    <tr>\n",
       "      <th>2014-09-02</th>\n",
       "      <td>0.0</td>\n",
       "      <td>1.0</td>\n",
       "      <td>0.0</td>\n",
       "      <td>0.0</td>\n",
       "      <td>2.0</td>\n",
       "      <td>4.0</td>\n",
       "      <td>31.0</td>\n",
       "      <td>113.0</td>\n",
       "      <td>181.0</td>\n",
       "      <td>152.0</td>\n",
       "      <td>...</td>\n",
       "      <td>52.0</td>\n",
       "      <td>24.0</td>\n",
       "      <td>12.0</td>\n",
       "      <td>9.0</td>\n",
       "      <td>9.0</td>\n",
       "      <td>[2.25, 0.927631578947, 0.394736842105, 0.40789...</td>\n",
       "      <td>3</td>\n",
       "      <td>40.089035</td>\n",
       "      <td>39.861972</td>\n",
       "      <td>9.411020</td>\n",
       "    </tr>\n",
       "    <tr>\n",
       "      <th>2014-09-03</th>\n",
       "      <td>0.0</td>\n",
       "      <td>1.0</td>\n",
       "      <td>1.0</td>\n",
       "      <td>1.0</td>\n",
       "      <td>1.0</td>\n",
       "      <td>9.0</td>\n",
       "      <td>34.0</td>\n",
       "      <td>124.0</td>\n",
       "      <td>218.0</td>\n",
       "      <td>139.0</td>\n",
       "      <td>...</td>\n",
       "      <td>69.0</td>\n",
       "      <td>22.0</td>\n",
       "      <td>17.0</td>\n",
       "      <td>13.0</td>\n",
       "      <td>7.0</td>\n",
       "      <td>[2.25, 0.927631578947, 0.394736842105, 0.40789...</td>\n",
       "      <td>3</td>\n",
       "      <td>45.163582</td>\n",
       "      <td>39.861972</td>\n",
       "      <td>9.411020</td>\n",
       "    </tr>\n",
       "    <tr>\n",
       "      <th>2014-09-04</th>\n",
       "      <td>2.0</td>\n",
       "      <td>0.0</td>\n",
       "      <td>0.0</td>\n",
       "      <td>0.0</td>\n",
       "      <td>3.0</td>\n",
       "      <td>7.0</td>\n",
       "      <td>37.0</td>\n",
       "      <td>107.0</td>\n",
       "      <td>195.0</td>\n",
       "      <td>125.0</td>\n",
       "      <td>...</td>\n",
       "      <td>51.0</td>\n",
       "      <td>29.0</td>\n",
       "      <td>23.0</td>\n",
       "      <td>19.0</td>\n",
       "      <td>6.0</td>\n",
       "      <td>[2.25, 0.927631578947, 0.394736842105, 0.40789...</td>\n",
       "      <td>3</td>\n",
       "      <td>45.691894</td>\n",
       "      <td>39.861972</td>\n",
       "      <td>9.411020</td>\n",
       "    </tr>\n",
       "    <tr>\n",
       "      <th>2014-09-05</th>\n",
       "      <td>2.0</td>\n",
       "      <td>2.0</td>\n",
       "      <td>0.0</td>\n",
       "      <td>2.0</td>\n",
       "      <td>2.0</td>\n",
       "      <td>7.0</td>\n",
       "      <td>25.0</td>\n",
       "      <td>104.0</td>\n",
       "      <td>190.0</td>\n",
       "      <td>123.0</td>\n",
       "      <td>...</td>\n",
       "      <td>37.0</td>\n",
       "      <td>29.0</td>\n",
       "      <td>9.0</td>\n",
       "      <td>13.0</td>\n",
       "      <td>9.0</td>\n",
       "      <td>[2.66666666667, 1.05128205128, 0.666666666667,...</td>\n",
       "      <td>2</td>\n",
       "      <td>31.936204</td>\n",
       "      <td>45.192794</td>\n",
       "      <td>12.459722</td>\n",
       "    </tr>\n",
       "  </tbody>\n",
       "</table>\n",
       "<p>5 rows × 29 columns</p>\n",
       "</div>"
      ],
      "text/plain": [
       "              0    1    2    3    4    5     6      7      8      9  \\\n",
       "date                                                                  \n",
       "2014-09-01  3.0  0.0  0.0  1.0  2.0  1.0   1.0    4.0   13.0   16.0   \n",
       "2014-09-02  0.0  1.0  0.0  0.0  2.0  4.0  31.0  113.0  181.0  152.0   \n",
       "2014-09-03  0.0  1.0  1.0  1.0  1.0  9.0  34.0  124.0  218.0  139.0   \n",
       "2014-09-04  2.0  0.0  0.0  0.0  3.0  7.0  37.0  107.0  195.0  125.0   \n",
       "2014-09-05  2.0  2.0  0.0  2.0  2.0  7.0  25.0  104.0  190.0  123.0   \n",
       "\n",
       "              ...        19    20    21    22   23  \\\n",
       "date          ...                                    \n",
       "2014-09-01    ...      19.0  12.0   9.0   4.0  0.0   \n",
       "2014-09-02    ...      52.0  24.0  12.0   9.0  9.0   \n",
       "2014-09-03    ...      69.0  22.0  17.0  13.0  7.0   \n",
       "2014-09-04    ...      51.0  29.0  23.0  19.0  6.0   \n",
       "2014-09-05    ...      37.0  29.0   9.0  13.0  9.0   \n",
       "\n",
       "                                                      centers  labels  \\\n",
       "date                                                                    \n",
       "2014-09-01  [3.67521367521, 2.34188034188, 1.2735042735, 0...       1   \n",
       "2014-09-02  [2.25, 0.927631578947, 0.394736842105, 0.40789...       3   \n",
       "2014-09-03  [2.25, 0.927631578947, 0.394736842105, 0.40789...       3   \n",
       "2014-09-04  [2.25, 0.927631578947, 0.394736842105, 0.40789...       3   \n",
       "2014-09-05  [2.66666666667, 1.05128205128, 0.666666666667,...       2   \n",
       "\n",
       "                 dist       mean        std  \n",
       "date                                         \n",
       "2014-09-01  35.508540  33.481062  12.180384  \n",
       "2014-09-02  40.089035  39.861972   9.411020  \n",
       "2014-09-03  45.163582  39.861972   9.411020  \n",
       "2014-09-04  45.691894  39.861972   9.411020  \n",
       "2014-09-05  31.936204  45.192794  12.459722  \n",
       "\n",
       "[5 rows x 29 columns]"
      ]
     },
     "execution_count": 134,
     "metadata": {},
     "output_type": "execute_result"
    }
   ],
   "source": [
    "joined.head()"
   ]
  },
  {
   "cell_type": "code",
   "execution_count": 136,
   "metadata": {
    "collapsed": false
   },
   "outputs": [],
   "source": [
    "joined['z'] = (joined.dist - joined['mean']) / joined['std']"
   ]
  },
  {
   "cell_type": "code",
   "execution_count": 137,
   "metadata": {
    "collapsed": false
   },
   "outputs": [
    {
     "data": {
      "text/plain": [
       "<matplotlib.axes._subplots.AxesSubplot at 0x10e21a250>"
      ]
     },
     "execution_count": 137,
     "metadata": {},
     "output_type": "execute_result"
    },
    {
     "data": {
      "image/png": "[encoded data removed]",
      "text/plain": [
       "<matplotlib.figure.Figure at 0x10e3d7ad0>"
      ]
     },
     "metadata": {},
     "output_type": "display_data"
    }
   ],
   "source": [
    "joined.z.plot.hist()"
   ]
  },
  {
   "cell_type": "code",
   "execution_count": 138,
   "metadata": {
    "collapsed": false
   },
   "outputs": [
    {
     "data": {
      "text/html": [
       "<div>\n",
       "<table border=\"1\" class=\"dataframe\">\n",
       "  <thead>\n",
       "    <tr style=\"text-align: right;\">\n",
       "      <th></th>\n",
       "      <th>0</th>\n",
       "      <th>1</th>\n",
       "      <th>2</th>\n",
       "      <th>3</th>\n",
       "      <th>4</th>\n",
       "      <th>5</th>\n",
       "      <th>6</th>\n",
       "      <th>7</th>\n",
       "      <th>8</th>\n",
       "      <th>9</th>\n",
       "      <th>...</th>\n",
       "      <th>20</th>\n",
       "      <th>21</th>\n",
       "      <th>22</th>\n",
       "      <th>23</th>\n",
       "      <th>centers</th>\n",
       "      <th>labels</th>\n",
       "      <th>dist</th>\n",
       "      <th>mean</th>\n",
       "      <th>std</th>\n",
       "      <th>z</th>\n",
       "    </tr>\n",
       "    <tr>\n",
       "      <th>date</th>\n",
       "      <th></th>\n",
       "      <th></th>\n",
       "      <th></th>\n",
       "      <th></th>\n",
       "      <th></th>\n",
       "      <th></th>\n",
       "      <th></th>\n",
       "      <th></th>\n",
       "      <th></th>\n",
       "      <th></th>\n",
       "      <th></th>\n",
       "      <th></th>\n",
       "      <th></th>\n",
       "      <th></th>\n",
       "      <th></th>\n",
       "      <th></th>\n",
       "      <th></th>\n",
       "      <th></th>\n",
       "      <th></th>\n",
       "      <th></th>\n",
       "      <th></th>\n",
       "    </tr>\n",
       "  </thead>\n",
       "  <tbody>\n",
       "    <tr>\n",
       "      <th>2014-09-25</th>\n",
       "      <td>2.0</td>\n",
       "      <td>1.0</td>\n",
       "      <td>1.0</td>\n",
       "      <td>1.0</td>\n",
       "      <td>0.0</td>\n",
       "      <td>0.0</td>\n",
       "      <td>18.0</td>\n",
       "      <td>60.0</td>\n",
       "      <td>122.0</td>\n",
       "      <td>145.0</td>\n",
       "      <td>...</td>\n",
       "      <td>40.0</td>\n",
       "      <td>26.0</td>\n",
       "      <td>22.0</td>\n",
       "      <td>12.0</td>\n",
       "      <td>[2.66666666667, 1.05128205128, 0.666666666667,...</td>\n",
       "      <td>2</td>\n",
       "      <td>84.129010</td>\n",
       "      <td>45.192794</td>\n",
       "      <td>12.459722</td>\n",
       "      <td>3.124967</td>\n",
       "    </tr>\n",
       "    <tr>\n",
       "      <th>2014-10-20</th>\n",
       "      <td>2.0</td>\n",
       "      <td>0.0</td>\n",
       "      <td>2.0</td>\n",
       "      <td>0.0</td>\n",
       "      <td>1.0</td>\n",
       "      <td>4.0</td>\n",
       "      <td>38.0</td>\n",
       "      <td>108.0</td>\n",
       "      <td>241.0</td>\n",
       "      <td>77.0</td>\n",
       "      <td>...</td>\n",
       "      <td>31.0</td>\n",
       "      <td>13.0</td>\n",
       "      <td>3.0</td>\n",
       "      <td>6.0</td>\n",
       "      <td>[2.25, 0.927631578947, 0.394736842105, 0.40789...</td>\n",
       "      <td>3</td>\n",
       "      <td>76.658070</td>\n",
       "      <td>39.861972</td>\n",
       "      <td>9.411020</td>\n",
       "      <td>3.909895</td>\n",
       "    </tr>\n",
       "    <tr>\n",
       "      <th>2014-12-11</th>\n",
       "      <td>1.0</td>\n",
       "      <td>2.0</td>\n",
       "      <td>0.0</td>\n",
       "      <td>1.0</td>\n",
       "      <td>1.0</td>\n",
       "      <td>0.0</td>\n",
       "      <td>6.0</td>\n",
       "      <td>11.0</td>\n",
       "      <td>15.0</td>\n",
       "      <td>9.0</td>\n",
       "      <td>...</td>\n",
       "      <td>6.0</td>\n",
       "      <td>2.0</td>\n",
       "      <td>2.0</td>\n",
       "      <td>2.0</td>\n",
       "      <td>[3.67521367521, 2.34188034188, 1.2735042735, 0...</td>\n",
       "      <td>1</td>\n",
       "      <td>76.780584</td>\n",
       "      <td>33.481062</td>\n",
       "      <td>12.180384</td>\n",
       "      <td>3.554857</td>\n",
       "    </tr>\n",
       "    <tr>\n",
       "      <th>2015-03-09</th>\n",
       "      <td>0.0</td>\n",
       "      <td>0.0</td>\n",
       "      <td>0.0</td>\n",
       "      <td>0.0</td>\n",
       "      <td>3.0</td>\n",
       "      <td>5.0</td>\n",
       "      <td>24.0</td>\n",
       "      <td>52.0</td>\n",
       "      <td>141.0</td>\n",
       "      <td>115.0</td>\n",
       "      <td>...</td>\n",
       "      <td>33.0</td>\n",
       "      <td>22.0</td>\n",
       "      <td>17.0</td>\n",
       "      <td>6.0</td>\n",
       "      <td>[2.66666666667, 1.05128205128, 0.666666666667,...</td>\n",
       "      <td>2</td>\n",
       "      <td>85.537355</td>\n",
       "      <td>45.192794</td>\n",
       "      <td>12.459722</td>\n",
       "      <td>3.237998</td>\n",
       "    </tr>\n",
       "    <tr>\n",
       "      <th>2015-06-01</th>\n",
       "      <td>0.0</td>\n",
       "      <td>0.0</td>\n",
       "      <td>1.0</td>\n",
       "      <td>0.0</td>\n",
       "      <td>4.0</td>\n",
       "      <td>6.0</td>\n",
       "      <td>26.0</td>\n",
       "      <td>70.0</td>\n",
       "      <td>155.0</td>\n",
       "      <td>132.0</td>\n",
       "      <td>...</td>\n",
       "      <td>27.0</td>\n",
       "      <td>21.0</td>\n",
       "      <td>18.0</td>\n",
       "      <td>3.0</td>\n",
       "      <td>[2.25, 0.927631578947, 0.394736842105, 0.40789...</td>\n",
       "      <td>3</td>\n",
       "      <td>76.915960</td>\n",
       "      <td>39.861972</td>\n",
       "      <td>9.411020</td>\n",
       "      <td>3.937298</td>\n",
       "    </tr>\n",
       "  </tbody>\n",
       "</table>\n",
       "<p>5 rows × 30 columns</p>\n",
       "</div>"
      ],
      "text/plain": [
       "              0    1    2    3    4    5     6      7      8      9    ...     \\\n",
       "date                                                                   ...      \n",
       "2014-09-25  2.0  1.0  1.0  1.0  0.0  0.0  18.0   60.0  122.0  145.0    ...      \n",
       "2014-10-20  2.0  0.0  2.0  0.0  1.0  4.0  38.0  108.0  241.0   77.0    ...      \n",
       "2014-12-11  1.0  2.0  0.0  1.0  1.0  0.0   6.0   11.0   15.0    9.0    ...      \n",
       "2015-03-09  0.0  0.0  0.0  0.0  3.0  5.0  24.0   52.0  141.0  115.0    ...      \n",
       "2015-06-01  0.0  0.0  1.0  0.0  4.0  6.0  26.0   70.0  155.0  132.0    ...      \n",
       "\n",
       "              20    21    22    23  \\\n",
       "date                                 \n",
       "2014-09-25  40.0  26.0  22.0  12.0   \n",
       "2014-10-20  31.0  13.0   3.0   6.0   \n",
       "2014-12-11   6.0   2.0   2.0   2.0   \n",
       "2015-03-09  33.0  22.0  17.0   6.0   \n",
       "2015-06-01  27.0  21.0  18.0   3.0   \n",
       "\n",
       "                                                      centers  labels  \\\n",
       "date                                                                    \n",
       "2014-09-25  [2.66666666667, 1.05128205128, 0.666666666667,...       2   \n",
       "2014-10-20  [2.25, 0.927631578947, 0.394736842105, 0.40789...       3   \n",
       "2014-12-11  [3.67521367521, 2.34188034188, 1.2735042735, 0...       1   \n",
       "2015-03-09  [2.66666666667, 1.05128205128, 0.666666666667,...       2   \n",
       "2015-06-01  [2.25, 0.927631578947, 0.394736842105, 0.40789...       3   \n",
       "\n",
       "                 dist       mean        std         z  \n",
       "date                                                   \n",
       "2014-09-25  84.129010  45.192794  12.459722  3.124967  \n",
       "2014-10-20  76.658070  39.861972   9.411020  3.909895  \n",
       "2014-12-11  76.780584  33.481062  12.180384  3.554857  \n",
       "2015-03-09  85.537355  45.192794  12.459722  3.237998  \n",
       "2015-06-01  76.915960  39.861972   9.411020  3.937298  \n",
       "\n",
       "[5 rows x 30 columns]"
      ]
     },
     "execution_count": 138,
     "metadata": {},
     "output_type": "execute_result"
    }
   ],
   "source": [
    "joined[joined.z > 3]"
   ]
  },
  {
   "cell_type": "code",
   "execution_count": 150,
   "metadata": {
    "collapsed": false
   },
   "outputs": [
    {
     "data": {
      "text/html": [
       "<div>\n",
       "<table border=\"1\" class=\"dataframe\">\n",
       "  <thead>\n",
       "    <tr style=\"text-align: right;\">\n",
       "      <th></th>\n",
       "      <th>length</th>\n",
       "      <th>type</th>\n",
       "      <th>weight</th>\n",
       "    </tr>\n",
       "  </thead>\n",
       "  <tbody>\n",
       "    <tr>\n",
       "      <th>trout</th>\n",
       "      <td>50</td>\n",
       "      <td>fish</td>\n",
       "      <td>1.0</td>\n",
       "    </tr>\n",
       "    <tr>\n",
       "      <th>cod</th>\n",
       "      <td>70</td>\n",
       "      <td>fish</td>\n",
       "      <td>2.0</td>\n",
       "    </tr>\n",
       "    <tr>\n",
       "      <th>hamster</th>\n",
       "      <td>8</td>\n",
       "      <td>mammal</td>\n",
       "      <td>0.1</td>\n",
       "    </tr>\n",
       "    <tr>\n",
       "      <th>dog</th>\n",
       "      <td>60</td>\n",
       "      <td>mammal</td>\n",
       "      <td>15.0</td>\n",
       "    </tr>\n",
       "  </tbody>\n",
       "</table>\n",
       "</div>"
      ],
      "text/plain": [
       "         length    type  weight\n",
       "trout        50    fish     1.0\n",
       "cod          70    fish     2.0\n",
       "hamster       8  mammal     0.1\n",
       "dog          60  mammal    15.0"
      ]
     },
     "execution_count": 150,
     "metadata": {},
     "output_type": "execute_result"
    }
   ],
   "source": [
    "animals"
   ]
  },
  {
   "cell_type": "code",
   "execution_count": 153,
   "metadata": {
    "collapsed": false
   },
   "outputs": [
    {
     "data": {
      "text/plain": [
       "trout       1.0\n",
       "cod         2.0\n",
       "hamster     0.1\n",
       "dog        15.0\n",
       "Name: weight, dtype: float64"
      ]
     },
     "execution_count": 153,
     "metadata": {},
     "output_type": "execute_result"
    }
   ],
   "source": [
    "animals.weight"
   ]
  },
  {
   "cell_type": "code",
   "execution_count": 154,
   "metadata": {
    "collapsed": false
   },
   "outputs": [
    {
     "data": {
      "text/plain": [
       "trout       1.0\n",
       "cod         2.0\n",
       "hamster     0.1\n",
       "dog        15.0\n",
       "Name: weight, dtype: float64"
      ]
     },
     "execution_count": 154,
     "metadata": {},
     "output_type": "execute_result"
    }
   ],
   "source": [
    "animals['weight']"
   ]
  },
  {
   "cell_type": "code",
   "execution_count": 152,
   "metadata": {
    "collapsed": false
   },
   "outputs": [
    {
     "data": {
      "text/html": [
       "<div>\n",
       "<table border=\"1\" class=\"dataframe\">\n",
       "  <thead>\n",
       "    <tr style=\"text-align: right;\">\n",
       "      <th></th>\n",
       "      <th>length</th>\n",
       "      <th>type</th>\n",
       "      <th>weight</th>\n",
       "    </tr>\n",
       "  </thead>\n",
       "  <tbody>\n",
       "    <tr>\n",
       "      <th>cod</th>\n",
       "      <td>70</td>\n",
       "      <td>fish</td>\n",
       "      <td>2.0</td>\n",
       "    </tr>\n",
       "  </tbody>\n",
       "</table>\n",
       "</div>"
      ],
      "text/plain": [
       "     length  type  weight\n",
       "cod      70  fish     2.0"
      ]
     },
     "execution_count": 152,
     "metadata": {},
     "output_type": "execute_result"
    }
   ],
   "source": [
    "animals[(animals.weight > 1) & (animals.type == 'fish')]"
   ]
  },
  {
   "cell_type": "code",
   "execution_count": 157,
   "metadata": {
    "collapsed": false
   },
   "outputs": [
    {
     "data": {
      "text/plain": [
       "length    27.251911\n",
       "weight     7.026320\n",
       "dtype: float64"
      ]
     },
     "execution_count": 157,
     "metadata": {},
     "output_type": "execute_result"
    }
   ],
   "source": [
    "animals.std()"
   ]
  },
  {
   "cell_type": "code",
   "execution_count": 164,
   "metadata": {
    "collapsed": false
   },
   "outputs": [
    {
     "data": {
      "text/plain": [
       "<matplotlib.legend.Legend at 0x116e77390>"
      ]
     },
     "execution_count": 164,
     "metadata": {},
     "output_type": "execute_result"
    },
    {
     "data": {
      "image/png": "[encoded data removed]",
      "text/plain": [
       "<matplotlib.figure.Figure at 0x116dfb890>"
      ]
     },
     "metadata": {},
     "output_type": "display_data"
    }
   ],
   "source": [
    "for row in joined[(joined.z > 3) & (joined['labels'] == 3)][list(hours)].iterrows():\n",
    "    plt.plot(row[1])\n",
    "plt.plot(model.cluster_centers_[3], label='center')\n",
    "plt.legend()"
   ]
  },
  {
   "cell_type": "code",
   "execution_count": 166,
   "metadata": {
    "collapsed": false
   },
   "outputs": [
    {
     "data": {
      "text/plain": [
       "'Mon'"
      ]
     },
     "execution_count": 166,
     "metadata": {},
     "output_type": "execute_result"
    }
   ],
   "source": [
    "day_abbr[parse('2015-06-01').weekday()]"
   ]
  },
  {
   "cell_type": "code",
   "execution_count": 168,
   "metadata": {
    "collapsed": false
   },
   "outputs": [
    {
     "data": {
      "text/plain": [
       "'Mon'"
      ]
     },
     "execution_count": 168,
     "metadata": {},
     "output_type": "execute_result"
    }
   ],
   "source": [
    "day_abbr[parse('2014-10-20').weekday()]"
   ]
  },
  {
   "cell_type": "markdown",
   "metadata": {},
   "source": [
    "## One hot encoding"
   ]
  },
  {
   "cell_type": "code",
   "execution_count": 182,
   "metadata": {
    "collapsed": false
   },
   "outputs": [
    {
     "data": {
      "text/plain": [
       "0    Mon\n",
       "1    Tue\n",
       "2    Wed\n",
       "3    Thu\n",
       "4    Fri\n",
       "Name: day, dtype: object"
      ]
     },
     "execution_count": 182,
     "metadata": {},
     "output_type": "execute_result"
    }
   ],
   "source": [
    "labels.day.head()"
   ]
  },
  {
   "cell_type": "code",
   "execution_count": 183,
   "metadata": {
    "collapsed": false
   },
   "outputs": [
    {
     "data": {
      "text/html": [
       "<div>\n",
       "<table border=\"1\" class=\"dataframe\">\n",
       "  <thead>\n",
       "    <tr style=\"text-align: right;\">\n",
       "      <th></th>\n",
       "      <th>Fri</th>\n",
       "      <th>Mon</th>\n",
       "      <th>Sat</th>\n",
       "      <th>Sun</th>\n",
       "      <th>Thu</th>\n",
       "      <th>Tue</th>\n",
       "      <th>Wed</th>\n",
       "    </tr>\n",
       "  </thead>\n",
       "  <tbody>\n",
       "    <tr>\n",
       "      <th>0</th>\n",
       "      <td>0</td>\n",
       "      <td>1</td>\n",
       "      <td>0</td>\n",
       "      <td>0</td>\n",
       "      <td>0</td>\n",
       "      <td>0</td>\n",
       "      <td>0</td>\n",
       "    </tr>\n",
       "    <tr>\n",
       "      <th>1</th>\n",
       "      <td>0</td>\n",
       "      <td>0</td>\n",
       "      <td>0</td>\n",
       "      <td>0</td>\n",
       "      <td>0</td>\n",
       "      <td>1</td>\n",
       "      <td>0</td>\n",
       "    </tr>\n",
       "    <tr>\n",
       "      <th>2</th>\n",
       "      <td>0</td>\n",
       "      <td>0</td>\n",
       "      <td>0</td>\n",
       "      <td>0</td>\n",
       "      <td>0</td>\n",
       "      <td>0</td>\n",
       "      <td>1</td>\n",
       "    </tr>\n",
       "    <tr>\n",
       "      <th>3</th>\n",
       "      <td>0</td>\n",
       "      <td>0</td>\n",
       "      <td>0</td>\n",
       "      <td>0</td>\n",
       "      <td>1</td>\n",
       "      <td>0</td>\n",
       "      <td>0</td>\n",
       "    </tr>\n",
       "    <tr>\n",
       "      <th>4</th>\n",
       "      <td>1</td>\n",
       "      <td>0</td>\n",
       "      <td>0</td>\n",
       "      <td>0</td>\n",
       "      <td>0</td>\n",
       "      <td>0</td>\n",
       "      <td>0</td>\n",
       "    </tr>\n",
       "  </tbody>\n",
       "</table>\n",
       "</div>"
      ],
      "text/plain": [
       "   Fri  Mon  Sat  Sun  Thu  Tue  Wed\n",
       "0    0    1    0    0    0    0    0\n",
       "1    0    0    0    0    0    1    0\n",
       "2    0    0    0    0    0    0    1\n",
       "3    0    0    0    0    1    0    0\n",
       "4    1    0    0    0    0    0    0"
      ]
     },
     "execution_count": 183,
     "metadata": {},
     "output_type": "execute_result"
    }
   ],
   "source": [
    "pandas.get_dummies(labels.day).head()"
   ]
  },
  {
   "cell_type": "code",
   "execution_count": 196,
   "metadata": {
    "collapsed": true
   },
   "outputs": [],
   "source": [
    "import json"
   ]
  },
  {
   "cell_type": "code",
   "execution_count": 198,
   "metadata": {
    "collapsed": false
   },
   "outputs": [],
   "source": [
    "station_json = json.load(open('../data/bysykkel_stations.json'))"
   ]
  },
  {
   "cell_type": "code",
   "execution_count": 199,
   "metadata": {
    "collapsed": false
   },
   "outputs": [
    {
     "data": {
      "text/plain": [
       "[u'stations']"
      ]
     },
     "execution_count": 199,
     "metadata": {},
     "output_type": "execute_result"
    }
   ],
   "source": [
    "station_json.keys()"
   ]
  },
  {
   "cell_type": "code",
   "execution_count": 200,
   "metadata": {
    "collapsed": true
   },
   "outputs": [],
   "source": [
    "s = json.dumps(station_json['stations'])"
   ]
  },
  {
   "cell_type": "code",
   "execution_count": 202,
   "metadata": {
    "collapsed": true
   },
   "outputs": [
    {
     "data": {
      "text/html": [
       "<div>\n",
       "<table border=\"1\" class=\"dataframe\">\n",
       "  <thead>\n",
       "    <tr style=\"text-align: right;\">\n",
       "      <th></th>\n",
       "      <th>bounds</th>\n",
       "      <th>center</th>\n",
       "      <th>id</th>\n",
       "      <th>in_service</th>\n",
       "      <th>number_of_locks</th>\n",
       "      <th>subtitle</th>\n",
       "      <th>title</th>\n",
       "    </tr>\n",
       "  </thead>\n",
       "  <tbody>\n",
       "    <tr>\n",
       "      <th>0</th>\n",
       "      <td>[{u'latitude': 59.9154186022, u'longitude': 10...</td>\n",
       "      <td>{u'latitude': 59.91562, u'longitude': 10.762248}</td>\n",
       "      <td>157</td>\n",
       "      <td>True</td>\n",
       "      <td>30</td>\n",
       "      <td>mellom Norbygata og Urtegata</td>\n",
       "      <td>Nylandsveien</td>\n",
       "    </tr>\n",
       "    <tr>\n",
       "      <th>1</th>\n",
       "      <td>[{u'latitude': 59.9391401685, u'longitude': 10...</td>\n",
       "      <td>{u'latitude': 59.939228, u'longitude': 10.75917}</td>\n",
       "      <td>158</td>\n",
       "      <td>True</td>\n",
       "      <td>24</td>\n",
       "      <td>rett over busstoppet</td>\n",
       "      <td>Bentsebrugata</td>\n",
       "    </tr>\n",
       "    <tr>\n",
       "      <th>2</th>\n",
       "      <td>[{u'latitude': 59.9391518606, u'longitude': 10...</td>\n",
       "      <td>{u'latitude': 59.939238, u'longitude': 10.774279}</td>\n",
       "      <td>159</td>\n",
       "      <td>True</td>\n",
       "      <td>21</td>\n",
       "      <td>Mellom Åsengata og Nordkappgata</td>\n",
       "      <td>Hans Nielsen Hauges plass</td>\n",
       "    </tr>\n",
       "    <tr>\n",
       "      <th>3</th>\n",
       "      <td>[{u'latitude': 59.9101839259, u'longitude': 10...</td>\n",
       "      <td>{u'latitude': 59.910215, u'longitude': 10.751687}</td>\n",
       "      <td>160</td>\n",
       "      <td>True</td>\n",
       "      <td>25</td>\n",
       "      <td>nærmest fontenen</td>\n",
       "      <td>Sjøsiden vest</td>\n",
       "    </tr>\n",
       "    <tr>\n",
       "      <th>4</th>\n",
       "      <td>[{u'latitude': 59.9267811685, u'longitude': 10...</td>\n",
       "      <td>{u'latitude': 59.926872, u'longitude': 10.738456}</td>\n",
       "      <td>161</td>\n",
       "      <td>True</td>\n",
       "      <td>20</td>\n",
       "      <td>ved busstoppet Colletts gate</td>\n",
       "      <td>St. Hanshaugen park vest</td>\n",
       "    </tr>\n",
       "    <tr>\n",
       "      <th>5</th>\n",
       "      <td>[{u'latitude': 59.934793031, u'longitude': 10....</td>\n",
       "      <td>{u'latitude': 59.934934, u'longitude': 10.749475}</td>\n",
       "      <td>162</td>\n",
       "      <td>True</td>\n",
       "      <td>30</td>\n",
       "      <td>i Uelands gate</td>\n",
       "      <td>Arkitekt Rivertz Plass</td>\n",
       "    </tr>\n",
       "    <tr>\n",
       "      <th>6</th>\n",
       "      <td>[{u'latitude': 59.9133640935, u'longitude': 10...</td>\n",
       "      <td>{u'latitude': 59.913409, u'longitude': 10.75737}</td>\n",
       "      <td>163</td>\n",
       "      <td>True</td>\n",
       "      <td>42</td>\n",
       "      <td>langs Brugata</td>\n",
       "      <td>Vaterlandsparken</td>\n",
       "    </tr>\n",
       "    <tr>\n",
       "      <th>7</th>\n",
       "      <td>[{u'latitude': 59.919378013, u'longitude': 10....</td>\n",
       "      <td>{u'latitude': 59.91953, u'longitude': 10.743836}</td>\n",
       "      <td>164</td>\n",
       "      <td>True</td>\n",
       "      <td>18</td>\n",
       "      <td>langs Ullevålsveien</td>\n",
       "      <td>Vår Frelsers gravlund sør</td>\n",
       "    </tr>\n",
       "    <tr>\n",
       "      <th>8</th>\n",
       "      <td>[{u'latitude': 59.9436861014, u'longitude': 10...</td>\n",
       "      <td>{u'latitude': 59.94375, u'longitude': 10.760216}</td>\n",
       "      <td>166</td>\n",
       "      <td>True</td>\n",
       "      <td>21</td>\n",
       "      <td>ved rundkjøringen</td>\n",
       "      <td>Bjølsen Studentby</td>\n",
       "    </tr>\n",
       "    <tr>\n",
       "      <th>9</th>\n",
       "      <td>[{u'latitude': 59.9206040574, u'longitude': 10...</td>\n",
       "      <td>{u'latitude': 59.920565, u'longitude': 10.734274}</td>\n",
       "      <td>167</td>\n",
       "      <td>True</td>\n",
       "      <td>18</td>\n",
       "      <td>ved Stensberggata</td>\n",
       "      <td>Pilestredet Park Studenthus</td>\n",
       "    </tr>\n",
       "    <tr>\n",
       "      <th>10</th>\n",
       "      <td>[{u'latitude': 59.9191373696, u'longitude': 10...</td>\n",
       "      <td>{u'latitude': 59.919379, u'longitude': 10.774764}</td>\n",
       "      <td>168</td>\n",
       "      <td>True</td>\n",
       "      <td>27</td>\n",
       "      <td>langs Finnmarksgata</td>\n",
       "      <td>Sirkustomta</td>\n",
       "    </tr>\n",
       "    <tr>\n",
       "      <th>11</th>\n",
       "      <td>[{u'latitude': 59.9246125837, u'longitude': 10...</td>\n",
       "      <td>{u'latitude': 59.924729, u'longitude': 10.724579}</td>\n",
       "      <td>169</td>\n",
       "      <td>True</td>\n",
       "      <td>18</td>\n",
       "      <td>ved Sporveisgata</td>\n",
       "      <td>Bogstadveien</td>\n",
       "    </tr>\n",
       "    <tr>\n",
       "      <th>12</th>\n",
       "      <td>[{u'latitude': 59.9304873854, u'longitude': 10...</td>\n",
       "      <td>{u'latitude': 59.930603, u'longitude': 10.714784}</td>\n",
       "      <td>170</td>\n",
       "      <td>True</td>\n",
       "      <td>18</td>\n",
       "      <td>ved Majorstuen T-bane</td>\n",
       "      <td>Slemdalsveien</td>\n",
       "    </tr>\n",
       "    <tr>\n",
       "      <th>13</th>\n",
       "      <td>[{u'latitude': 59.9402522267, u'longitude': 10...</td>\n",
       "      <td>{u'latitude': 59.94038, u'longitude': 10.730068}</td>\n",
       "      <td>171</td>\n",
       "      <td>True</td>\n",
       "      <td>8</td>\n",
       "      <td>ved John Colletts allé</td>\n",
       "      <td>Sognsveien</td>\n",
       "    </tr>\n",
       "    <tr>\n",
       "      <th>14</th>\n",
       "      <td>[{u'latitude': 59.9288907681, u'longitude': 10...</td>\n",
       "      <td>{u'latitude': 59.928912, u'longitude': 10.767179}</td>\n",
       "      <td>172</td>\n",
       "      <td>True</td>\n",
       "      <td>23</td>\n",
       "      <td>ved Fagerheimgata</td>\n",
       "      <td>Dælenenggata</td>\n",
       "    </tr>\n",
       "    <tr>\n",
       "      <th>15</th>\n",
       "      <td>[{u'latitude': 59.9166663045, u'longitude': 10...</td>\n",
       "      <td>{u'latitude': 59.916847, u'longitude': 10.758148}</td>\n",
       "      <td>173</td>\n",
       "      <td>True</td>\n",
       "      <td>10</td>\n",
       "      <td>ved Storgata</td>\n",
       "      <td>Legevakten</td>\n",
       "    </tr>\n",
       "    <tr>\n",
       "      <th>16</th>\n",
       "      <td>[{u'latitude': 59.9262322565, u'longitude': 10...</td>\n",
       "      <td>{u'latitude': 59.926205, u'longitude': 10.709786}</td>\n",
       "      <td>174</td>\n",
       "      <td>True</td>\n",
       "      <td>15</td>\n",
       "      <td>ved inngangen til tennisbanen</td>\n",
       "      <td>Frogner Tennisklubb</td>\n",
       "    </tr>\n",
       "    <tr>\n",
       "      <th>17</th>\n",
       "      <td>[{u'latitude': 59.912494116, u'longitude': 10....</td>\n",
       "      <td>{u'latitude': 59.912504, u'longitude': 10.762236}</td>\n",
       "      <td>175</td>\n",
       "      <td>True</td>\n",
       "      <td>15</td>\n",
       "      <td>ved Tøyenbekken</td>\n",
       "      <td>Grønlands torg</td>\n",
       "    </tr>\n",
       "    <tr>\n",
       "      <th>18</th>\n",
       "      <td>[{u'latitude': 59.9295466269, u'longitude': 10...</td>\n",
       "      <td>{u'latitude': 59.929562, u'longitude': 10.732858}</td>\n",
       "      <td>176</td>\n",
       "      <td>True</td>\n",
       "      <td>9</td>\n",
       "      <td>ved trikkestoppet</td>\n",
       "      <td>Stensgata</td>\n",
       "    </tr>\n",
       "    <tr>\n",
       "      <th>19</th>\n",
       "      <td>[{u'latitude': 59.9156068361, u'longitude': 10...</td>\n",
       "      <td>{u'latitude': 59.91565, u'longitude': 10.777671}</td>\n",
       "      <td>177</td>\n",
       "      <td>True</td>\n",
       "      <td>29</td>\n",
       "      <td>ved Caltexløkka</td>\n",
       "      <td>Tøyenparken</td>\n",
       "    </tr>\n",
       "    <tr>\n",
       "      <th>20</th>\n",
       "      <td>[{u'latitude': 59.9298234815, u'longitude': 10...</td>\n",
       "      <td>{u'latitude': 59.929838, u'longitude': 10.711223}</td>\n",
       "      <td>178</td>\n",
       "      <td>True</td>\n",
       "      <td>12</td>\n",
       "      <td>langs Fridtjof Nansens vei</td>\n",
       "      <td>Colosseum Kino</td>\n",
       "    </tr>\n",
       "    <tr>\n",
       "      <th>21</th>\n",
       "      <td>[{u'latitude': 59.9249795372, u'longitude': 10...</td>\n",
       "      <td>{u'latitude': 59.925065, u'longitude': 10.775981}</td>\n",
       "      <td>179</td>\n",
       "      <td>True</td>\n",
       "      <td>12</td>\n",
       "      <td>langs Finnmarkgata</td>\n",
       "      <td>Carl Berners plass sør</td>\n",
       "    </tr>\n",
       "    <tr>\n",
       "      <th>22</th>\n",
       "      <td>[{u'latitude': 59.9307575126, u'longitude': 10...</td>\n",
       "      <td>{u'latitude': 59.930912, u'longitude': 10.791843}</td>\n",
       "      <td>180</td>\n",
       "      <td>True</td>\n",
       "      <td>21</td>\n",
       "      <td>under Lørenparken</td>\n",
       "      <td>Lørenveien</td>\n",
       "    </tr>\n",
       "    <tr>\n",
       "      <th>23</th>\n",
       "      <td>[{u'latitude': 59.9129795313, u'longitude': 10...</td>\n",
       "      <td>{u'latitude': 59.913015, u'longitude': 10.746714}</td>\n",
       "      <td>181</td>\n",
       "      <td>True</td>\n",
       "      <td>24</td>\n",
       "      <td>ved Torggata</td>\n",
       "      <td>Kirkeristen</td>\n",
       "    </tr>\n",
       "    <tr>\n",
       "      <th>24</th>\n",
       "      <td>[{u'latitude': 59.9376900235, u'longitude': 10...</td>\n",
       "      <td>{u'latitude': 59.937737, u'longitude': 10.751701}</td>\n",
       "      <td>182</td>\n",
       "      <td>True</td>\n",
       "      <td>15</td>\n",
       "      <td>ved Gråbeinsletta</td>\n",
       "      <td>Sagene bussholdeplass</td>\n",
       "    </tr>\n",
       "    <tr>\n",
       "      <th>25</th>\n",
       "      <td>[{u'latitude': 59.9465326161, u'longitude': 10...</td>\n",
       "      <td>{u'latitude': 59.946699, u'longitude': 10.773978}</td>\n",
       "      <td>183</td>\n",
       "      <td>True</td>\n",
       "      <td>42</td>\n",
       "      <td>langs Vitaminveien</td>\n",
       "      <td>Storo Storsenter</td>\n",
       "    </tr>\n",
       "    <tr>\n",
       "      <th>26</th>\n",
       "      <td>[{u'latitude': 59.9352660266, u'longitude': 10...</td>\n",
       "      <td>{u'latitude': 59.93536, u'longitude': 10.726488}</td>\n",
       "      <td>184</td>\n",
       "      <td>True</td>\n",
       "      <td>28</td>\n",
       "      <td>i Blindernveien</td>\n",
       "      <td>Det Teologiske fakultet</td>\n",
       "    </tr>\n",
       "    <tr>\n",
       "      <th>27</th>\n",
       "      <td>[{u'latitude': 59.9197127599, u'longitude': 10...</td>\n",
       "      <td>{u'latitude': 59.919827, u'longitude': 10.73555}</td>\n",
       "      <td>185</td>\n",
       "      <td>True</td>\n",
       "      <td>25</td>\n",
       "      <td>langs Pilestredet</td>\n",
       "      <td>HiOA</td>\n",
       "    </tr>\n",
       "    <tr>\n",
       "      <th>28</th>\n",
       "      <td>[{u'latitude': 59.9034393491, u'longitude': 10...</td>\n",
       "      <td>{u'latitude': 59.903467, u'longitude': 10.777866}</td>\n",
       "      <td>188</td>\n",
       "      <td>True</td>\n",
       "      <td>12</td>\n",
       "      <td>langs Dyvekes vei</td>\n",
       "      <td>Lodalen busstopp</td>\n",
       "    </tr>\n",
       "    <tr>\n",
       "      <th>29</th>\n",
       "      <td>[{u'latitude': 59.9289539353, u'longitude': 10...</td>\n",
       "      <td>{u'latitude': 59.929034, u'longitude': 10.716893}</td>\n",
       "      <td>189</td>\n",
       "      <td>True</td>\n",
       "      <td>18</td>\n",
       "      <td>utenfor banken i Majorstukrysset</td>\n",
       "      <td>Majorstuen</td>\n",
       "    </tr>\n",
       "    <tr>\n",
       "      <th>...</th>\n",
       "      <td>...</td>\n",
       "      <td>...</td>\n",
       "      <td>...</td>\n",
       "      <td>...</td>\n",
       "      <td>...</td>\n",
       "      <td>...</td>\n",
       "      <td>...</td>\n",
       "    </tr>\n",
       "    <tr>\n",
       "      <th>113</th>\n",
       "      <td>[{u'latitude': 59.9120745824, u'longitude': 10...</td>\n",
       "      <td>{u'latitude': 59.912071, u'longitude': 10.766201}</td>\n",
       "      <td>277</td>\n",
       "      <td>True</td>\n",
       "      <td>25</td>\n",
       "      <td>langs Grønlandsleiret</td>\n",
       "      <td>Helga Helgesens plass</td>\n",
       "    </tr>\n",
       "    <tr>\n",
       "      <th>114</th>\n",
       "      <td>[{u'latitude': 59.9038697518, u'longitude': 10...</td>\n",
       "      <td>{u'latitude': 59.903942, u'longitude': 10.74055}</td>\n",
       "      <td>278</td>\n",
       "      <td>True</td>\n",
       "      <td>30</td>\n",
       "      <td>nærmest Rådhuset</td>\n",
       "      <td>Vippetangen vest</td>\n",
       "    </tr>\n",
       "    <tr>\n",
       "      <th>115</th>\n",
       "      <td>[{u'latitude': 59.9081748174, u'longitude': 10...</td>\n",
       "      <td>{u'latitude': 59.908353, u'longitude': 10.741794}</td>\n",
       "      <td>279</td>\n",
       "      <td>True</td>\n",
       "      <td>39</td>\n",
       "      <td>ved Kirkegata</td>\n",
       "      <td>Bankplassen</td>\n",
       "    </tr>\n",
       "    <tr>\n",
       "      <th>116</th>\n",
       "      <td>[{u'latitude': 59.9207478996, u'longitude': 10...</td>\n",
       "      <td>{u'latitude': 59.920848, u'longitude': 10.733323}</td>\n",
       "      <td>280</td>\n",
       "      <td>True</td>\n",
       "      <td>30</td>\n",
       "      <td>ved Frydenlund holdeplass</td>\n",
       "      <td>Studentparlamentet</td>\n",
       "    </tr>\n",
       "    <tr>\n",
       "      <th>117</th>\n",
       "      <td>[{u'latitude': 59.9120893737, u'longitude': 10...</td>\n",
       "      <td>{u'latitude': 59.912203, u'longitude': 10.754497}</td>\n",
       "      <td>281</td>\n",
       "      <td>True</td>\n",
       "      <td>9</td>\n",
       "      <td>ved rundkjøringen</td>\n",
       "      <td>Oslo Plaza</td>\n",
       "    </tr>\n",
       "    <tr>\n",
       "      <th>118</th>\n",
       "      <td>[{u'latitude': 59.9323392578, u'longitude': 10...</td>\n",
       "      <td>{u'latitude': 59.932449, u'longitude': 10.721813}</td>\n",
       "      <td>283</td>\n",
       "      <td>True</td>\n",
       "      <td>12</td>\n",
       "      <td>i Suhms gate</td>\n",
       "      <td>Marienlyst</td>\n",
       "    </tr>\n",
       "    <tr>\n",
       "      <th>119</th>\n",
       "      <td>[{u'latitude': 59.9296716149, u'longitude': 10...</td>\n",
       "      <td>{u'latitude': 59.929829, u'longitude': 10.713032}</td>\n",
       "      <td>284</td>\n",
       "      <td>True</td>\n",
       "      <td>27</td>\n",
       "      <td>ved Hamna fritidsklubb</td>\n",
       "      <td>Majorstuen skole</td>\n",
       "    </tr>\n",
       "    <tr>\n",
       "      <th>120</th>\n",
       "      <td>[{u'latitude': 59.9069657973, u'longitude': 10...</td>\n",
       "      <td>{u'latitude': 59.907081, u'longitude': 10.779213}</td>\n",
       "      <td>285</td>\n",
       "      <td>True</td>\n",
       "      <td>18</td>\n",
       "      <td>Ved St. Halvards gate</td>\n",
       "      <td>Galgeberg</td>\n",
       "    </tr>\n",
       "    <tr>\n",
       "      <th>121</th>\n",
       "      <td>[{u'latitude': 59.9190163751, u'longitude': 10...</td>\n",
       "      <td>{u'latitude': 59.919124, u'longitude': 10.736152}</td>\n",
       "      <td>287</td>\n",
       "      <td>True</td>\n",
       "      <td>20</td>\n",
       "      <td>ved Edvard Storms gate</td>\n",
       "      <td>Pilestredet</td>\n",
       "    </tr>\n",
       "    <tr>\n",
       "      <th>122</th>\n",
       "      <td>[{u'latitude': 59.9127240505, u'longitude': 10...</td>\n",
       "      <td>{u'latitude': 59.912727, u'longitude': 10.710035}</td>\n",
       "      <td>290</td>\n",
       "      <td>True</td>\n",
       "      <td>15</td>\n",
       "      <td>langs Drammensveien</td>\n",
       "      <td>Skillebekk</td>\n",
       "    </tr>\n",
       "    <tr>\n",
       "      <th>123</th>\n",
       "      <td>[{u'latitude': 59.9297898827, u'longitude': 10...</td>\n",
       "      <td>{u'latitude': 59.929858, u'longitude': 10.743541}</td>\n",
       "      <td>291</td>\n",
       "      <td>True</td>\n",
       "      <td>15</td>\n",
       "      <td>krysset Colletts gt / Geitmyrsveien</td>\n",
       "      <td>St. Hanshaugen park nord</td>\n",
       "    </tr>\n",
       "    <tr>\n",
       "      <th>124</th>\n",
       "      <td>[{u'latitude': 59.9093771685, u'longitude': 10...</td>\n",
       "      <td>{u'latitude': 59.909494, u'longitude': 10.722502}</td>\n",
       "      <td>292</td>\n",
       "      <td>True</td>\n",
       "      <td>30</td>\n",
       "      <td>nedenfor bussholdeplassen</td>\n",
       "      <td>Tjuvholmen</td>\n",
       "    </tr>\n",
       "    <tr>\n",
       "      <th>125</th>\n",
       "      <td>[{u'latitude': 59.9201429517, u'longitude': 10...</td>\n",
       "      <td>{u'latitude': 59.920352, u'longitude': 10.683687}</td>\n",
       "      <td>293</td>\n",
       "      <td>True</td>\n",
       "      <td>35</td>\n",
       "      <td>utenfor Handelsbanken</td>\n",
       "      <td>Karenlyst allé</td>\n",
       "    </tr>\n",
       "    <tr>\n",
       "      <th>126</th>\n",
       "      <td>[{u'latitude': 59.9158542277, u'longitude': 10...</td>\n",
       "      <td>{u'latitude': 59.915936, u'longitude': 10.751573}</td>\n",
       "      <td>294</td>\n",
       "      <td>True</td>\n",
       "      <td>30</td>\n",
       "      <td>ved Bernt Ankers gate</td>\n",
       "      <td>Torggata</td>\n",
       "    </tr>\n",
       "    <tr>\n",
       "      <th>127</th>\n",
       "      <td>[{u'latitude': 59.9154226358, u'longitude': 10...</td>\n",
       "      <td>{u'latitude': 59.915412, u'longitude': 10.758343}</td>\n",
       "      <td>295</td>\n",
       "      <td>True</td>\n",
       "      <td>21</td>\n",
       "      <td>vest for Akerselva</td>\n",
       "      <td>Hausmanns gate</td>\n",
       "    </tr>\n",
       "    <tr>\n",
       "      <th>128</th>\n",
       "      <td>[{u'latitude': 59.9253693369, u'longitude': 10...</td>\n",
       "      <td>{u'latitude': 59.925496, u'longitude': 10.746057}</td>\n",
       "      <td>296</td>\n",
       "      <td>True</td>\n",
       "      <td>21</td>\n",
       "      <td>ovenfor Fredrikke Qvams gate</td>\n",
       "      <td>Bjerregaards gate</td>\n",
       "    </tr>\n",
       "    <tr>\n",
       "      <th>129</th>\n",
       "      <td>[{u'latitude': 59.9084047818, u'longitude': 10...</td>\n",
       "      <td>{u'latitude': 59.909056, u'longitude': 10.756217}</td>\n",
       "      <td>297</td>\n",
       "      <td>True</td>\n",
       "      <td>30</td>\n",
       "      <td>ved broen under Nylandsveien</td>\n",
       "      <td>Bjørvika</td>\n",
       "    </tr>\n",
       "    <tr>\n",
       "      <th>130</th>\n",
       "      <td>[{u'latitude': 59.9265830632, u'longitude': 10...</td>\n",
       "      <td>{u'latitude': 59.926631, u'longitude': 10.716158}</td>\n",
       "      <td>298</td>\n",
       "      <td>True</td>\n",
       "      <td>9</td>\n",
       "      <td>i Maries gate</td>\n",
       "      <td>Majorstuveien</td>\n",
       "    </tr>\n",
       "    <tr>\n",
       "      <th>131</th>\n",
       "      <td>[{u'latitude': 59.9280709262, u'longitude': 10...</td>\n",
       "      <td>{u'latitude': 59.928202, u'longitude': 10.718301}</td>\n",
       "      <td>299</td>\n",
       "      <td>True</td>\n",
       "      <td>12</td>\n",
       "      <td>langs Valkyriegata</td>\n",
       "      <td>Valkyrieplassen</td>\n",
       "    </tr>\n",
       "    <tr>\n",
       "      <th>132</th>\n",
       "      <td>[{u'latitude': 59.9377585485, u'longitude': 10...</td>\n",
       "      <td>{u'latitude': 59.937766, u'longitude': 10.754028}</td>\n",
       "      <td>300</td>\n",
       "      <td>True</td>\n",
       "      <td>24</td>\n",
       "      <td>over veien fra Sagen Kirke</td>\n",
       "      <td>Arendalsgata</td>\n",
       "    </tr>\n",
       "    <tr>\n",
       "      <th>133</th>\n",
       "      <td>[{u'latitude': 59.9147194381, u'longitude': 10...</td>\n",
       "      <td>{u'latitude': 59.914742, u'longitude': 10.741007}</td>\n",
       "      <td>301</td>\n",
       "      <td>True</td>\n",
       "      <td>19</td>\n",
       "      <td>ved Pilestredet</td>\n",
       "      <td>Professor Aschehougs plass</td>\n",
       "    </tr>\n",
       "    <tr>\n",
       "      <th>134</th>\n",
       "      <td>[{u'latitude': 59.910914114, u'longitude': 10....</td>\n",
       "      <td>{u'latitude': 59.910864, u'longitude': 10.736461}</td>\n",
       "      <td>302</td>\n",
       "      <td>True</td>\n",
       "      <td>36</td>\n",
       "      <td>ved Kontraskjæret trikkestopp</td>\n",
       "      <td>Rådhusgata</td>\n",
       "    </tr>\n",
       "    <tr>\n",
       "      <th>135</th>\n",
       "      <td>[{u'latitude': 59.9527862986, u'longitude': 10...</td>\n",
       "      <td>{u'latitude': 59.952896, u'longitude': 10.766493}</td>\n",
       "      <td>303</td>\n",
       "      <td>True</td>\n",
       "      <td>18</td>\n",
       "      <td>langs Gjerdrums vei</td>\n",
       "      <td>Nydalen</td>\n",
       "    </tr>\n",
       "    <tr>\n",
       "      <th>136</th>\n",
       "      <td>[{u'latitude': 59.9378861929, u'longitude': 10...</td>\n",
       "      <td>{u'latitude': 59.937955, u'longitude': 10.719527}</td>\n",
       "      <td>304</td>\n",
       "      <td>True</td>\n",
       "      <td>45</td>\n",
       "      <td>ved Sem Sælands vei</td>\n",
       "      <td>Fysikkbygningen</td>\n",
       "    </tr>\n",
       "    <tr>\n",
       "      <th>137</th>\n",
       "      <td>[{u'latitude': 59.938893894, u'longitude': 10....</td>\n",
       "      <td>{u'latitude': 59.938998, u'longitude': 10.723075}</td>\n",
       "      <td>305</td>\n",
       "      <td>True</td>\n",
       "      <td>45</td>\n",
       "      <td>ved Moltke Moes vei</td>\n",
       "      <td>Georg Morgenstiernes hus</td>\n",
       "    </tr>\n",
       "    <tr>\n",
       "      <th>138</th>\n",
       "      <td>[{u'latitude': 59.9153002831, u'longitude': 10...</td>\n",
       "      <td>{u'latitude': 59.91529, u'longitude': 10.748453}</td>\n",
       "      <td>306</td>\n",
       "      <td>True</td>\n",
       "      <td>30</td>\n",
       "      <td>rett over Youngstorget</td>\n",
       "      <td>Møllergata</td>\n",
       "    </tr>\n",
       "    <tr>\n",
       "      <th>139</th>\n",
       "      <td>[{u'latitude': 59.9423816471, u'longitude': 10...</td>\n",
       "      <td>{u'latitude': 59.942525, u'longitude': 10.723352}</td>\n",
       "      <td>307</td>\n",
       "      <td>True</td>\n",
       "      <td>42</td>\n",
       "      <td>nærmest trikkestoppet</td>\n",
       "      <td>Bak Niels Treschows hus sør</td>\n",
       "    </tr>\n",
       "    <tr>\n",
       "      <th>140</th>\n",
       "      <td>[{u'latitude': 59.9409978752, u'longitude': 10...</td>\n",
       "      <td>{u'latitude': 59.94093, u'longitude': 10.720666}</td>\n",
       "      <td>308</td>\n",
       "      <td>True</td>\n",
       "      <td>42</td>\n",
       "      <td>rett ved Blindern Studenterhjem</td>\n",
       "      <td>Blindern studentparkering</td>\n",
       "    </tr>\n",
       "    <tr>\n",
       "      <th>141</th>\n",
       "      <td>[{u'latitude': 59.9425831624, u'longitude': 10...</td>\n",
       "      <td>{u'latitude': 59.942725, u'longitude': 10.722889}</td>\n",
       "      <td>309</td>\n",
       "      <td>True</td>\n",
       "      <td>42</td>\n",
       "      <td>nærmest parkeringsplassen</td>\n",
       "      <td>Bak Niels Treschows hus nord</td>\n",
       "    </tr>\n",
       "    <tr>\n",
       "      <th>142</th>\n",
       "      <td>[{u'latitude': 59.9359411685, u'longitude': 10...</td>\n",
       "      <td>{u'latitude': 59.93604, u'longitude': 10.736454}</td>\n",
       "      <td>337</td>\n",
       "      <td>True</td>\n",
       "      <td>35</td>\n",
       "      <td>i Kirkeveien</td>\n",
       "      <td>Ullevål sykehus</td>\n",
       "    </tr>\n",
       "  </tbody>\n",
       "</table>\n",
       "<p>143 rows × 7 columns</p>\n",
       "</div>"
      ],
      "text/plain": [
       "                                                bounds  \\\n",
       "0    [{u'latitude': 59.9154186022, u'longitude': 10...   \n",
       "1    [{u'latitude': 59.9391401685, u'longitude': 10...   \n",
       "2    [{u'latitude': 59.9391518606, u'longitude': 10...   \n",
       "3    [{u'latitude': 59.9101839259, u'longitude': 10...   \n",
       "4    [{u'latitude': 59.9267811685, u'longitude': 10...   \n",
       "5    [{u'latitude': 59.934793031, u'longitude': 10....   \n",
       "6    [{u'latitude': 59.9133640935, u'longitude': 10...   \n",
       "7    [{u'latitude': 59.919378013, u'longitude': 10....   \n",
       "8    [{u'latitude': 59.9436861014, u'longitude': 10...   \n",
       "9    [{u'latitude': 59.9206040574, u'longitude': 10...   \n",
       "10   [{u'latitude': 59.9191373696, u'longitude': 10...   \n",
       "11   [{u'latitude': 59.9246125837, u'longitude': 10...   \n",
       "12   [{u'latitude': 59.9304873854, u'longitude': 10...   \n",
       "13   [{u'latitude': 59.9402522267, u'longitude': 10...   \n",
       "14   [{u'latitude': 59.9288907681, u'longitude': 10...   \n",
       "15   [{u'latitude': 59.9166663045, u'longitude': 10...   \n",
       "16   [{u'latitude': 59.9262322565, u'longitude': 10...   \n",
       "17   [{u'latitude': 59.912494116, u'longitude': 10....   \n",
       "18   [{u'latitude': 59.9295466269, u'longitude': 10...   \n",
       "19   [{u'latitude': 59.9156068361, u'longitude': 10...   \n",
       "20   [{u'latitude': 59.9298234815, u'longitude': 10...   \n",
       "21   [{u'latitude': 59.9249795372, u'longitude': 10...   \n",
       "22   [{u'latitude': 59.9307575126, u'longitude': 10...   \n",
       "23   [{u'latitude': 59.9129795313, u'longitude': 10...   \n",
       "24   [{u'latitude': 59.9376900235, u'longitude': 10...   \n",
       "25   [{u'latitude': 59.9465326161, u'longitude': 10...   \n",
       "26   [{u'latitude': 59.9352660266, u'longitude': 10...   \n",
       "27   [{u'latitude': 59.9197127599, u'longitude': 10...   \n",
       "28   [{u'latitude': 59.9034393491, u'longitude': 10...   \n",
       "29   [{u'latitude': 59.9289539353, u'longitude': 10...   \n",
       "..                                                 ...   \n",
       "113  [{u'latitude': 59.9120745824, u'longitude': 10...   \n",
       "114  [{u'latitude': 59.9038697518, u'longitude': 10...   \n",
       "115  [{u'latitude': 59.9081748174, u'longitude': 10...   \n",
       "116  [{u'latitude': 59.9207478996, u'longitude': 10...   \n",
       "117  [{u'latitude': 59.9120893737, u'longitude': 10...   \n",
       "118  [{u'latitude': 59.9323392578, u'longitude': 10...   \n",
       "119  [{u'latitude': 59.9296716149, u'longitude': 10...   \n",
       "120  [{u'latitude': 59.9069657973, u'longitude': 10...   \n",
       "121  [{u'latitude': 59.9190163751, u'longitude': 10...   \n",
       "122  [{u'latitude': 59.9127240505, u'longitude': 10...   \n",
       "123  [{u'latitude': 59.9297898827, u'longitude': 10...   \n",
       "124  [{u'latitude': 59.9093771685, u'longitude': 10...   \n",
       "125  [{u'latitude': 59.9201429517, u'longitude': 10...   \n",
       "126  [{u'latitude': 59.9158542277, u'longitude': 10...   \n",
       "127  [{u'latitude': 59.9154226358, u'longitude': 10...   \n",
       "128  [{u'latitude': 59.9253693369, u'longitude': 10...   \n",
       "129  [{u'latitude': 59.9084047818, u'longitude': 10...   \n",
       "130  [{u'latitude': 59.9265830632, u'longitude': 10...   \n",
       "131  [{u'latitude': 59.9280709262, u'longitude': 10...   \n",
       "132  [{u'latitude': 59.9377585485, u'longitude': 10...   \n",
       "133  [{u'latitude': 59.9147194381, u'longitude': 10...   \n",
       "134  [{u'latitude': 59.910914114, u'longitude': 10....   \n",
       "135  [{u'latitude': 59.9527862986, u'longitude': 10...   \n",
       "136  [{u'latitude': 59.9378861929, u'longitude': 10...   \n",
       "137  [{u'latitude': 59.938893894, u'longitude': 10....   \n",
       "138  [{u'latitude': 59.9153002831, u'longitude': 10...   \n",
       "139  [{u'latitude': 59.9423816471, u'longitude': 10...   \n",
       "140  [{u'latitude': 59.9409978752, u'longitude': 10...   \n",
       "141  [{u'latitude': 59.9425831624, u'longitude': 10...   \n",
       "142  [{u'latitude': 59.9359411685, u'longitude': 10...   \n",
       "\n",
       "                                                center   id in_service  \\\n",
       "0     {u'latitude': 59.91562, u'longitude': 10.762248}  157       True   \n",
       "1     {u'latitude': 59.939228, u'longitude': 10.75917}  158       True   \n",
       "2    {u'latitude': 59.939238, u'longitude': 10.774279}  159       True   \n",
       "3    {u'latitude': 59.910215, u'longitude': 10.751687}  160       True   \n",
       "4    {u'latitude': 59.926872, u'longitude': 10.738456}  161       True   \n",
       "5    {u'latitude': 59.934934, u'longitude': 10.749475}  162       True   \n",
       "6     {u'latitude': 59.913409, u'longitude': 10.75737}  163       True   \n",
       "7     {u'latitude': 59.91953, u'longitude': 10.743836}  164       True   \n",
       "8     {u'latitude': 59.94375, u'longitude': 10.760216}  166       True   \n",
       "9    {u'latitude': 59.920565, u'longitude': 10.734274}  167       True   \n",
       "10   {u'latitude': 59.919379, u'longitude': 10.774764}  168       True   \n",
       "11   {u'latitude': 59.924729, u'longitude': 10.724579}  169       True   \n",
       "12   {u'latitude': 59.930603, u'longitude': 10.714784}  170       True   \n",
       "13    {u'latitude': 59.94038, u'longitude': 10.730068}  171       True   \n",
       "14   {u'latitude': 59.928912, u'longitude': 10.767179}  172       True   \n",
       "15   {u'latitude': 59.916847, u'longitude': 10.758148}  173       True   \n",
       "16   {u'latitude': 59.926205, u'longitude': 10.709786}  174       True   \n",
       "17   {u'latitude': 59.912504, u'longitude': 10.762236}  175       True   \n",
       "18   {u'latitude': 59.929562, u'longitude': 10.732858}  176       True   \n",
       "19    {u'latitude': 59.91565, u'longitude': 10.777671}  177       True   \n",
       "20   {u'latitude': 59.929838, u'longitude': 10.711223}  178       True   \n",
       "21   {u'latitude': 59.925065, u'longitude': 10.775981}  179       True   \n",
       "22   {u'latitude': 59.930912, u'longitude': 10.791843}  180       True   \n",
       "23   {u'latitude': 59.913015, u'longitude': 10.746714}  181       True   \n",
       "24   {u'latitude': 59.937737, u'longitude': 10.751701}  182       True   \n",
       "25   {u'latitude': 59.946699, u'longitude': 10.773978}  183       True   \n",
       "26    {u'latitude': 59.93536, u'longitude': 10.726488}  184       True   \n",
       "27    {u'latitude': 59.919827, u'longitude': 10.73555}  185       True   \n",
       "28   {u'latitude': 59.903467, u'longitude': 10.777866}  188       True   \n",
       "29   {u'latitude': 59.929034, u'longitude': 10.716893}  189       True   \n",
       "..                                                 ...  ...        ...   \n",
       "113  {u'latitude': 59.912071, u'longitude': 10.766201}  277       True   \n",
       "114   {u'latitude': 59.903942, u'longitude': 10.74055}  278       True   \n",
       "115  {u'latitude': 59.908353, u'longitude': 10.741794}  279       True   \n",
       "116  {u'latitude': 59.920848, u'longitude': 10.733323}  280       True   \n",
       "117  {u'latitude': 59.912203, u'longitude': 10.754497}  281       True   \n",
       "118  {u'latitude': 59.932449, u'longitude': 10.721813}  283       True   \n",
       "119  {u'latitude': 59.929829, u'longitude': 10.713032}  284       True   \n",
       "120  {u'latitude': 59.907081, u'longitude': 10.779213}  285       True   \n",
       "121  {u'latitude': 59.919124, u'longitude': 10.736152}  287       True   \n",
       "122  {u'latitude': 59.912727, u'longitude': 10.710035}  290       True   \n",
       "123  {u'latitude': 59.929858, u'longitude': 10.743541}  291       True   \n",
       "124  {u'latitude': 59.909494, u'longitude': 10.722502}  292       True   \n",
       "125  {u'latitude': 59.920352, u'longitude': 10.683687}  293       True   \n",
       "126  {u'latitude': 59.915936, u'longitude': 10.751573}  294       True   \n",
       "127  {u'latitude': 59.915412, u'longitude': 10.758343}  295       True   \n",
       "128  {u'latitude': 59.925496, u'longitude': 10.746057}  296       True   \n",
       "129  {u'latitude': 59.909056, u'longitude': 10.756217}  297       True   \n",
       "130  {u'latitude': 59.926631, u'longitude': 10.716158}  298       True   \n",
       "131  {u'latitude': 59.928202, u'longitude': 10.718301}  299       True   \n",
       "132  {u'latitude': 59.937766, u'longitude': 10.754028}  300       True   \n",
       "133  {u'latitude': 59.914742, u'longitude': 10.741007}  301       True   \n",
       "134  {u'latitude': 59.910864, u'longitude': 10.736461}  302       True   \n",
       "135  {u'latitude': 59.952896, u'longitude': 10.766493}  303       True   \n",
       "136  {u'latitude': 59.937955, u'longitude': 10.719527}  304       True   \n",
       "137  {u'latitude': 59.938998, u'longitude': 10.723075}  305       True   \n",
       "138   {u'latitude': 59.91529, u'longitude': 10.748453}  306       True   \n",
       "139  {u'latitude': 59.942525, u'longitude': 10.723352}  307       True   \n",
       "140   {u'latitude': 59.94093, u'longitude': 10.720666}  308       True   \n",
       "141  {u'latitude': 59.942725, u'longitude': 10.722889}  309       True   \n",
       "142   {u'latitude': 59.93604, u'longitude': 10.736454}  337       True   \n",
       "\n",
       "     number_of_locks                             subtitle  \\\n",
       "0                 30         mellom Norbygata og Urtegata   \n",
       "1                 24                 rett over busstoppet   \n",
       "2                 21      Mellom Åsengata og Nordkappgata   \n",
       "3                 25                     nærmest fontenen   \n",
       "4                 20         ved busstoppet Colletts gate   \n",
       "5                 30                       i Uelands gate   \n",
       "6                 42                        langs Brugata   \n",
       "7                 18                  langs Ullevålsveien   \n",
       "8                 21                    ved rundkjøringen   \n",
       "9                 18                    ved Stensberggata   \n",
       "10                27                  langs Finnmarksgata   \n",
       "11                18                     ved Sporveisgata   \n",
       "12                18                ved Majorstuen T-bane   \n",
       "13                 8               ved John Colletts allé   \n",
       "14                23                    ved Fagerheimgata   \n",
       "15                10                         ved Storgata   \n",
       "16                15        ved inngangen til tennisbanen   \n",
       "17                15                      ved Tøyenbekken   \n",
       "18                 9                    ved trikkestoppet   \n",
       "19                29                      ved Caltexløkka   \n",
       "20                12           langs Fridtjof Nansens vei   \n",
       "21                12                   langs Finnmarkgata   \n",
       "22                21                    under Lørenparken   \n",
       "23                24                         ved Torggata   \n",
       "24                15                    ved Gråbeinsletta   \n",
       "25                42                   langs Vitaminveien   \n",
       "26                28                      i Blindernveien   \n",
       "27                25                    langs Pilestredet   \n",
       "28                12                    langs Dyvekes vei   \n",
       "29                18     utenfor banken i Majorstukrysset   \n",
       "..               ...                                  ...   \n",
       "113               25                langs Grønlandsleiret   \n",
       "114               30                     nærmest Rådhuset   \n",
       "115               39                        ved Kirkegata   \n",
       "116               30            ved Frydenlund holdeplass   \n",
       "117                9                    ved rundkjøringen   \n",
       "118               12                         i Suhms gate   \n",
       "119               27               ved Hamna fritidsklubb   \n",
       "120               18                Ved St. Halvards gate   \n",
       "121               20               ved Edvard Storms gate   \n",
       "122               15                  langs Drammensveien   \n",
       "123               15  krysset Colletts gt / Geitmyrsveien   \n",
       "124               30            nedenfor bussholdeplassen   \n",
       "125               35                utenfor Handelsbanken   \n",
       "126               30                ved Bernt Ankers gate   \n",
       "127               21                   vest for Akerselva   \n",
       "128               21         ovenfor Fredrikke Qvams gate   \n",
       "129               30         ved broen under Nylandsveien   \n",
       "130                9                        i Maries gate   \n",
       "131               12                   langs Valkyriegata   \n",
       "132               24           over veien fra Sagen Kirke   \n",
       "133               19                      ved Pilestredet   \n",
       "134               36        ved Kontraskjæret trikkestopp   \n",
       "135               18                  langs Gjerdrums vei   \n",
       "136               45                  ved Sem Sælands vei   \n",
       "137               45                  ved Moltke Moes vei   \n",
       "138               30               rett over Youngstorget   \n",
       "139               42                nærmest trikkestoppet   \n",
       "140               42      rett ved Blindern Studenterhjem   \n",
       "141               42            nærmest parkeringsplassen   \n",
       "142               35                         i Kirkeveien   \n",
       "\n",
       "                            title  \n",
       "0                    Nylandsveien  \n",
       "1                   Bentsebrugata  \n",
       "2       Hans Nielsen Hauges plass  \n",
       "3                   Sjøsiden vest  \n",
       "4        St. Hanshaugen park vest  \n",
       "5          Arkitekt Rivertz Plass  \n",
       "6                Vaterlandsparken  \n",
       "7       Vår Frelsers gravlund sør  \n",
       "8               Bjølsen Studentby  \n",
       "9     Pilestredet Park Studenthus  \n",
       "10                    Sirkustomta  \n",
       "11                   Bogstadveien  \n",
       "12                  Slemdalsveien  \n",
       "13                     Sognsveien  \n",
       "14                   Dælenenggata  \n",
       "15                     Legevakten  \n",
       "16            Frogner Tennisklubb  \n",
       "17                 Grønlands torg  \n",
       "18                      Stensgata  \n",
       "19                    Tøyenparken  \n",
       "20                 Colosseum Kino  \n",
       "21         Carl Berners plass sør  \n",
       "22                     Lørenveien  \n",
       "23                    Kirkeristen  \n",
       "24          Sagene bussholdeplass  \n",
       "25               Storo Storsenter  \n",
       "26        Det Teologiske fakultet  \n",
       "27                           HiOA  \n",
       "28               Lodalen busstopp  \n",
       "29                     Majorstuen  \n",
       "..                            ...  \n",
       "113         Helga Helgesens plass  \n",
       "114              Vippetangen vest  \n",
       "115                   Bankplassen  \n",
       "116            Studentparlamentet  \n",
       "117                    Oslo Plaza  \n",
       "118                    Marienlyst  \n",
       "119              Majorstuen skole  \n",
       "120                     Galgeberg  \n",
       "121                   Pilestredet  \n",
       "122                    Skillebekk  \n",
       "123      St. Hanshaugen park nord  \n",
       "124                    Tjuvholmen  \n",
       "125                Karenlyst allé  \n",
       "126                      Torggata  \n",
       "127                Hausmanns gate  \n",
       "128             Bjerregaards gate  \n",
       "129                      Bjørvika  \n",
       "130                 Majorstuveien  \n",
       "131               Valkyrieplassen  \n",
       "132                  Arendalsgata  \n",
       "133    Professor Aschehougs plass  \n",
       "134                    Rådhusgata  \n",
       "135                       Nydalen  \n",
       "136               Fysikkbygningen  \n",
       "137      Georg Morgenstiernes hus  \n",
       "138                    Møllergata  \n",
       "139   Bak Niels Treschows hus sør  \n",
       "140     Blindern studentparkering  \n",
       "141  Bak Niels Treschows hus nord  \n",
       "142               Ullevål sykehus  \n",
       "\n",
       "[143 rows x 7 columns]"
      ]
     },
     "execution_count": 202,
     "metadata": {},
     "output_type": "execute_result"
    }
   ],
   "source": [
    "pandas.read_json(s)"
   ]
  },
  {
   "cell_type": "markdown",
   "metadata": {},
   "source": [
    "## Predictive Modeling"
   ]
  },
  {
   "cell_type": "code",
   "execution_count": 205,
   "metadata": {
    "collapsed": false
   },
   "outputs": [],
   "source": [
    "hourly = (data\n",
    "          .groupby('Start Date')\n",
    "          .size()\n",
    "          .resample('1h')\n",
    "          .sum()\n",
    "          .fillna(0))"
   ]
  },
  {
   "cell_type": "code",
   "execution_count": 206,
   "metadata": {
    "collapsed": true
   },
   "outputs": [],
   "source": [
    "hourly.name = 'count'"
   ]
  },
  {
   "cell_type": "code",
   "execution_count": 207,
   "metadata": {
    "collapsed": false
   },
   "outputs": [
    {
     "data": {
      "text/plain": [
       "Start Date\n",
       "2014-09-01 00:00:00    3.0\n",
       "2014-09-01 01:00:00    0.0\n",
       "2014-09-01 02:00:00    0.0\n",
       "2014-09-01 03:00:00    1.0\n",
       "2014-09-01 04:00:00    2.0\n",
       "Freq: H, Name: count, dtype: float64"
      ]
     },
     "execution_count": 207,
     "metadata": {},
     "output_type": "execute_result"
    }
   ],
   "source": [
    "hourly.head()"
   ]
  },
  {
   "cell_type": "code",
   "execution_count": 208,
   "metadata": {
    "collapsed": true
   },
   "outputs": [],
   "source": [
    "shifts = {'1h': 1, '1d': 24, '1w': 7*24, '1m': 28*24}"
   ]
  },
  {
   "cell_type": "code",
   "execution_count": 211,
   "metadata": {
    "collapsed": false
   },
   "outputs": [
    {
     "data": {
      "text/plain": [
       "Start Date\n",
       "2014-09-01 00:00:00    NaN\n",
       "2014-09-01 01:00:00    3.0\n",
       "2014-09-01 02:00:00    0.0\n",
       "2014-09-01 03:00:00    0.0\n",
       "2014-09-01 04:00:00    1.0\n",
       "Freq: H, Name: count, dtype: float64"
      ]
     },
     "execution_count": 211,
     "metadata": {},
     "output_type": "execute_result"
    }
   ],
   "source": [
    "hourly.shift(1).head()"
   ]
  },
  {
   "cell_type": "code",
   "execution_count": 212,
   "metadata": {
    "collapsed": true
   },
   "outputs": [],
   "source": [
    "data = pandas.DataFrame({key: hourly.shift(shifts[key]) for key in shifts})"
   ]
  },
  {
   "cell_type": "code",
   "execution_count": 213,
   "metadata": {
    "collapsed": false
   },
   "outputs": [
    {
     "data": {
      "text/html": [
       "<div>\n",
       "<table border=\"1\" class=\"dataframe\">\n",
       "  <thead>\n",
       "    <tr style=\"text-align: right;\">\n",
       "      <th></th>\n",
       "      <th>1d</th>\n",
       "      <th>1h</th>\n",
       "      <th>1m</th>\n",
       "      <th>1w</th>\n",
       "    </tr>\n",
       "    <tr>\n",
       "      <th>Start Date</th>\n",
       "      <th></th>\n",
       "      <th></th>\n",
       "      <th></th>\n",
       "      <th></th>\n",
       "    </tr>\n",
       "  </thead>\n",
       "  <tbody>\n",
       "    <tr>\n",
       "      <th>2014-09-01 00:00:00</th>\n",
       "      <td>NaN</td>\n",
       "      <td>NaN</td>\n",
       "      <td>NaN</td>\n",
       "      <td>NaN</td>\n",
       "    </tr>\n",
       "    <tr>\n",
       "      <th>2014-09-01 01:00:00</th>\n",
       "      <td>NaN</td>\n",
       "      <td>3.0</td>\n",
       "      <td>NaN</td>\n",
       "      <td>NaN</td>\n",
       "    </tr>\n",
       "    <tr>\n",
       "      <th>2014-09-01 02:00:00</th>\n",
       "      <td>NaN</td>\n",
       "      <td>0.0</td>\n",
       "      <td>NaN</td>\n",
       "      <td>NaN</td>\n",
       "    </tr>\n",
       "    <tr>\n",
       "      <th>2014-09-01 03:00:00</th>\n",
       "      <td>NaN</td>\n",
       "      <td>0.0</td>\n",
       "      <td>NaN</td>\n",
       "      <td>NaN</td>\n",
       "    </tr>\n",
       "    <tr>\n",
       "      <th>2014-09-01 04:00:00</th>\n",
       "      <td>NaN</td>\n",
       "      <td>1.0</td>\n",
       "      <td>NaN</td>\n",
       "      <td>NaN</td>\n",
       "    </tr>\n",
       "  </tbody>\n",
       "</table>\n",
       "</div>"
      ],
      "text/plain": [
       "                     1d   1h  1m  1w\n",
       "Start Date                          \n",
       "2014-09-01 00:00:00 NaN  NaN NaN NaN\n",
       "2014-09-01 01:00:00 NaN  3.0 NaN NaN\n",
       "2014-09-01 02:00:00 NaN  0.0 NaN NaN\n",
       "2014-09-01 03:00:00 NaN  0.0 NaN NaN\n",
       "2014-09-01 04:00:00 NaN  1.0 NaN NaN"
      ]
     },
     "execution_count": 213,
     "metadata": {},
     "output_type": "execute_result"
    }
   ],
   "source": [
    "data.head()"
   ]
  },
  {
   "cell_type": "code",
   "execution_count": 214,
   "metadata": {
    "collapsed": true
   },
   "outputs": [],
   "source": [
    "data['current'] = hourly"
   ]
  },
  {
   "cell_type": "code",
   "execution_count": 215,
   "metadata": {
    "collapsed": true
   },
   "outputs": [],
   "source": [
    "data = data.dropna()"
   ]
  },
  {
   "cell_type": "code",
   "execution_count": 216,
   "metadata": {
    "collapsed": false
   },
   "outputs": [
    {
     "data": {
      "text/html": [
       "<div>\n",
       "<table border=\"1\" class=\"dataframe\">\n",
       "  <thead>\n",
       "    <tr style=\"text-align: right;\">\n",
       "      <th></th>\n",
       "      <th>1d</th>\n",
       "      <th>1h</th>\n",
       "      <th>1m</th>\n",
       "      <th>1w</th>\n",
       "      <th>current</th>\n",
       "    </tr>\n",
       "    <tr>\n",
       "      <th>Start Date</th>\n",
       "      <th></th>\n",
       "      <th></th>\n",
       "      <th></th>\n",
       "      <th></th>\n",
       "      <th></th>\n",
       "    </tr>\n",
       "  </thead>\n",
       "  <tbody>\n",
       "    <tr>\n",
       "      <th>2014-09-29 00:00:00</th>\n",
       "      <td>7.0</td>\n",
       "      <td>1.0</td>\n",
       "      <td>3.0</td>\n",
       "      <td>2.0</td>\n",
       "      <td>1.0</td>\n",
       "    </tr>\n",
       "    <tr>\n",
       "      <th>2014-09-29 01:00:00</th>\n",
       "      <td>4.0</td>\n",
       "      <td>1.0</td>\n",
       "      <td>0.0</td>\n",
       "      <td>4.0</td>\n",
       "      <td>0.0</td>\n",
       "    </tr>\n",
       "    <tr>\n",
       "      <th>2014-09-29 02:00:00</th>\n",
       "      <td>4.0</td>\n",
       "      <td>0.0</td>\n",
       "      <td>0.0</td>\n",
       "      <td>0.0</td>\n",
       "      <td>0.0</td>\n",
       "    </tr>\n",
       "    <tr>\n",
       "      <th>2014-09-29 03:00:00</th>\n",
       "      <td>1.0</td>\n",
       "      <td>0.0</td>\n",
       "      <td>1.0</td>\n",
       "      <td>1.0</td>\n",
       "      <td>1.0</td>\n",
       "    </tr>\n",
       "    <tr>\n",
       "      <th>2014-09-29 04:00:00</th>\n",
       "      <td>1.0</td>\n",
       "      <td>1.0</td>\n",
       "      <td>2.0</td>\n",
       "      <td>1.0</td>\n",
       "      <td>3.0</td>\n",
       "    </tr>\n",
       "  </tbody>\n",
       "</table>\n",
       "</div>"
      ],
      "text/plain": [
       "                      1d   1h   1m   1w  current\n",
       "Start Date                                      \n",
       "2014-09-29 00:00:00  7.0  1.0  3.0  2.0      1.0\n",
       "2014-09-29 01:00:00  4.0  1.0  0.0  4.0      0.0\n",
       "2014-09-29 02:00:00  4.0  0.0  0.0  0.0      0.0\n",
       "2014-09-29 03:00:00  1.0  0.0  1.0  1.0      1.0\n",
       "2014-09-29 04:00:00  1.0  1.0  2.0  1.0      3.0"
      ]
     },
     "execution_count": 216,
     "metadata": {},
     "output_type": "execute_result"
    }
   ],
   "source": [
    "data.head()"
   ]
  },
  {
   "cell_type": "code",
   "execution_count": 217,
   "metadata": {
    "collapsed": true
   },
   "outputs": [],
   "source": [
    "from sklearn.ensemble import RandomForestRegressor"
   ]
  },
  {
   "cell_type": "code",
   "execution_count": 218,
   "metadata": {
    "collapsed": false
   },
   "outputs": [
    {
     "data": {
      "text/plain": [
       "(Timestamp('2014-09-29 00:00:00', freq='H'),\n",
       " Timestamp('2015-08-31 23:00:00', freq='H'))"
      ]
     },
     "execution_count": 218,
     "metadata": {},
     "output_type": "execute_result"
    }
   ],
   "source": [
    "data.index.min(), data.index.max()"
   ]
  },
  {
   "cell_type": "code",
   "execution_count": 219,
   "metadata": {
    "collapsed": true
   },
   "outputs": [],
   "source": [
    "split = '2015-08-21'"
   ]
  },
  {
   "cell_type": "code",
   "execution_count": 221,
   "metadata": {
    "collapsed": false
   },
   "outputs": [],
   "source": [
    "train = data[:split]"
   ]
  },
  {
   "cell_type": "code",
   "execution_count": 222,
   "metadata": {
    "collapsed": true
   },
   "outputs": [],
   "source": [
    "test = data[split:]"
   ]
  },
  {
   "cell_type": "code",
   "execution_count": 224,
   "metadata": {
    "collapsed": true
   },
   "outputs": [
    {
     "data": {
      "text/html": [
       "<div>\n",
       "<table border=\"1\" class=\"dataframe\">\n",
       "  <thead>\n",
       "    <tr style=\"text-align: right;\">\n",
       "      <th></th>\n",
       "      <th>1d</th>\n",
       "      <th>1h</th>\n",
       "      <th>1m</th>\n",
       "      <th>1w</th>\n",
       "      <th>current</th>\n",
       "    </tr>\n",
       "    <tr>\n",
       "      <th>Start Date</th>\n",
       "      <th></th>\n",
       "      <th></th>\n",
       "      <th></th>\n",
       "      <th></th>\n",
       "      <th></th>\n",
       "    </tr>\n",
       "  </thead>\n",
       "  <tbody>\n",
       "    <tr>\n",
       "      <th>2015-08-21 00:00:00</th>\n",
       "      <td>3.0</td>\n",
       "      <td>8.0</td>\n",
       "      <td>2.0</td>\n",
       "      <td>3.0</td>\n",
       "      <td>3.0</td>\n",
       "    </tr>\n",
       "    <tr>\n",
       "      <th>2015-08-21 01:00:00</th>\n",
       "      <td>0.0</td>\n",
       "      <td>3.0</td>\n",
       "      <td>0.0</td>\n",
       "      <td>2.0</td>\n",
       "      <td>0.0</td>\n",
       "    </tr>\n",
       "    <tr>\n",
       "      <th>2015-08-21 02:00:00</th>\n",
       "      <td>3.0</td>\n",
       "      <td>0.0</td>\n",
       "      <td>0.0</td>\n",
       "      <td>1.0</td>\n",
       "      <td>1.0</td>\n",
       "    </tr>\n",
       "    <tr>\n",
       "      <th>2015-08-21 03:00:00</th>\n",
       "      <td>1.0</td>\n",
       "      <td>1.0</td>\n",
       "      <td>1.0</td>\n",
       "      <td>1.0</td>\n",
       "      <td>1.0</td>\n",
       "    </tr>\n",
       "    <tr>\n",
       "      <th>2015-08-21 04:00:00</th>\n",
       "      <td>2.0</td>\n",
       "      <td>1.0</td>\n",
       "      <td>2.0</td>\n",
       "      <td>2.0</td>\n",
       "      <td>4.0</td>\n",
       "    </tr>\n",
       "    <tr>\n",
       "      <th>2015-08-21 05:00:00</th>\n",
       "      <td>12.0</td>\n",
       "      <td>4.0</td>\n",
       "      <td>6.0</td>\n",
       "      <td>7.0</td>\n",
       "      <td>7.0</td>\n",
       "    </tr>\n",
       "    <tr>\n",
       "      <th>2015-08-21 06:00:00</th>\n",
       "      <td>38.0</td>\n",
       "      <td>7.0</td>\n",
       "      <td>25.0</td>\n",
       "      <td>28.0</td>\n",
       "      <td>29.0</td>\n",
       "    </tr>\n",
       "    <tr>\n",
       "      <th>2015-08-21 07:00:00</th>\n",
       "      <td>105.0</td>\n",
       "      <td>29.0</td>\n",
       "      <td>90.0</td>\n",
       "      <td>87.0</td>\n",
       "      <td>99.0</td>\n",
       "    </tr>\n",
       "    <tr>\n",
       "      <th>2015-08-21 08:00:00</th>\n",
       "      <td>218.0</td>\n",
       "      <td>99.0</td>\n",
       "      <td>166.0</td>\n",
       "      <td>189.0</td>\n",
       "      <td>162.0</td>\n",
       "    </tr>\n",
       "    <tr>\n",
       "      <th>2015-08-21 09:00:00</th>\n",
       "      <td>132.0</td>\n",
       "      <td>162.0</td>\n",
       "      <td>147.0</td>\n",
       "      <td>128.0</td>\n",
       "      <td>149.0</td>\n",
       "    </tr>\n",
       "    <tr>\n",
       "      <th>2015-08-21 10:00:00</th>\n",
       "      <td>54.0</td>\n",
       "      <td>149.0</td>\n",
       "      <td>61.0</td>\n",
       "      <td>44.0</td>\n",
       "      <td>58.0</td>\n",
       "    </tr>\n",
       "    <tr>\n",
       "      <th>2015-08-21 11:00:00</th>\n",
       "      <td>32.0</td>\n",
       "      <td>58.0</td>\n",
       "      <td>46.0</td>\n",
       "      <td>51.0</td>\n",
       "      <td>42.0</td>\n",
       "    </tr>\n",
       "    <tr>\n",
       "      <th>2015-08-21 12:00:00</th>\n",
       "      <td>42.0</td>\n",
       "      <td>42.0</td>\n",
       "      <td>56.0</td>\n",
       "      <td>52.0</td>\n",
       "      <td>50.0</td>\n",
       "    </tr>\n",
       "    <tr>\n",
       "      <th>2015-08-21 13:00:00</th>\n",
       "      <td>40.0</td>\n",
       "      <td>50.0</td>\n",
       "      <td>47.0</td>\n",
       "      <td>60.0</td>\n",
       "      <td>50.0</td>\n",
       "    </tr>\n",
       "    <tr>\n",
       "      <th>2015-08-21 14:00:00</th>\n",
       "      <td>43.0</td>\n",
       "      <td>50.0</td>\n",
       "      <td>56.0</td>\n",
       "      <td>39.0</td>\n",
       "      <td>38.0</td>\n",
       "    </tr>\n",
       "    <tr>\n",
       "      <th>2015-08-21 15:00:00</th>\n",
       "      <td>61.0</td>\n",
       "      <td>38.0</td>\n",
       "      <td>73.0</td>\n",
       "      <td>47.0</td>\n",
       "      <td>58.0</td>\n",
       "    </tr>\n",
       "    <tr>\n",
       "      <th>2015-08-21 16:00:00</th>\n",
       "      <td>115.0</td>\n",
       "      <td>58.0</td>\n",
       "      <td>113.0</td>\n",
       "      <td>117.0</td>\n",
       "      <td>125.0</td>\n",
       "    </tr>\n",
       "    <tr>\n",
       "      <th>2015-08-21 17:00:00</th>\n",
       "      <td>202.0</td>\n",
       "      <td>125.0</td>\n",
       "      <td>166.0</td>\n",
       "      <td>158.0</td>\n",
       "      <td>160.0</td>\n",
       "    </tr>\n",
       "    <tr>\n",
       "      <th>2015-08-21 18:00:00</th>\n",
       "      <td>120.0</td>\n",
       "      <td>160.0</td>\n",
       "      <td>89.0</td>\n",
       "      <td>88.0</td>\n",
       "      <td>91.0</td>\n",
       "    </tr>\n",
       "    <tr>\n",
       "      <th>2015-08-21 19:00:00</th>\n",
       "      <td>62.0</td>\n",
       "      <td>91.0</td>\n",
       "      <td>54.0</td>\n",
       "      <td>39.0</td>\n",
       "      <td>30.0</td>\n",
       "    </tr>\n",
       "    <tr>\n",
       "      <th>2015-08-21 20:00:00</th>\n",
       "      <td>35.0</td>\n",
       "      <td>30.0</td>\n",
       "      <td>17.0</td>\n",
       "      <td>13.0</td>\n",
       "      <td>23.0</td>\n",
       "    </tr>\n",
       "    <tr>\n",
       "      <th>2015-08-21 21:00:00</th>\n",
       "      <td>15.0</td>\n",
       "      <td>23.0</td>\n",
       "      <td>14.0</td>\n",
       "      <td>9.0</td>\n",
       "      <td>12.0</td>\n",
       "    </tr>\n",
       "    <tr>\n",
       "      <th>2015-08-21 22:00:00</th>\n",
       "      <td>10.0</td>\n",
       "      <td>12.0</td>\n",
       "      <td>16.0</td>\n",
       "      <td>10.0</td>\n",
       "      <td>13.0</td>\n",
       "    </tr>\n",
       "    <tr>\n",
       "      <th>2015-08-21 23:00:00</th>\n",
       "      <td>8.0</td>\n",
       "      <td>13.0</td>\n",
       "      <td>7.0</td>\n",
       "      <td>7.0</td>\n",
       "      <td>10.0</td>\n",
       "    </tr>\n",
       "    <tr>\n",
       "      <th>2015-08-22 00:00:00</th>\n",
       "      <td>3.0</td>\n",
       "      <td>10.0</td>\n",
       "      <td>2.0</td>\n",
       "      <td>10.0</td>\n",
       "      <td>5.0</td>\n",
       "    </tr>\n",
       "    <tr>\n",
       "      <th>2015-08-22 01:00:00</th>\n",
       "      <td>0.0</td>\n",
       "      <td>5.0</td>\n",
       "      <td>3.0</td>\n",
       "      <td>1.0</td>\n",
       "      <td>3.0</td>\n",
       "    </tr>\n",
       "    <tr>\n",
       "      <th>2015-08-22 02:00:00</th>\n",
       "      <td>1.0</td>\n",
       "      <td>3.0</td>\n",
       "      <td>1.0</td>\n",
       "      <td>0.0</td>\n",
       "      <td>1.0</td>\n",
       "    </tr>\n",
       "    <tr>\n",
       "      <th>2015-08-22 03:00:00</th>\n",
       "      <td>1.0</td>\n",
       "      <td>1.0</td>\n",
       "      <td>1.0</td>\n",
       "      <td>0.0</td>\n",
       "      <td>0.0</td>\n",
       "    </tr>\n",
       "    <tr>\n",
       "      <th>2015-08-22 04:00:00</th>\n",
       "      <td>4.0</td>\n",
       "      <td>0.0</td>\n",
       "      <td>2.0</td>\n",
       "      <td>0.0</td>\n",
       "      <td>1.0</td>\n",
       "    </tr>\n",
       "    <tr>\n",
       "      <th>2015-08-22 05:00:00</th>\n",
       "      <td>7.0</td>\n",
       "      <td>1.0</td>\n",
       "      <td>1.0</td>\n",
       "      <td>3.0</td>\n",
       "      <td>1.0</td>\n",
       "    </tr>\n",
       "    <tr>\n",
       "      <th>...</th>\n",
       "      <td>...</td>\n",
       "      <td>...</td>\n",
       "      <td>...</td>\n",
       "      <td>...</td>\n",
       "      <td>...</td>\n",
       "    </tr>\n",
       "    <tr>\n",
       "      <th>2015-08-24 18:00:00</th>\n",
       "      <td>14.0</td>\n",
       "      <td>170.0</td>\n",
       "      <td>131.0</td>\n",
       "      <td>127.0</td>\n",
       "      <td>138.0</td>\n",
       "    </tr>\n",
       "    <tr>\n",
       "      <th>2015-08-24 19:00:00</th>\n",
       "      <td>14.0</td>\n",
       "      <td>138.0</td>\n",
       "      <td>64.0</td>\n",
       "      <td>75.0</td>\n",
       "      <td>73.0</td>\n",
       "    </tr>\n",
       "    <tr>\n",
       "      <th>2015-08-24 20:00:00</th>\n",
       "      <td>21.0</td>\n",
       "      <td>73.0</td>\n",
       "      <td>29.0</td>\n",
       "      <td>23.0</td>\n",
       "      <td>26.0</td>\n",
       "    </tr>\n",
       "    <tr>\n",
       "      <th>2015-08-24 21:00:00</th>\n",
       "      <td>9.0</td>\n",
       "      <td>26.0</td>\n",
       "      <td>15.0</td>\n",
       "      <td>12.0</td>\n",
       "      <td>13.0</td>\n",
       "    </tr>\n",
       "    <tr>\n",
       "      <th>2015-08-24 22:00:00</th>\n",
       "      <td>5.0</td>\n",
       "      <td>13.0</td>\n",
       "      <td>8.0</td>\n",
       "      <td>11.0</td>\n",
       "      <td>14.0</td>\n",
       "    </tr>\n",
       "    <tr>\n",
       "      <th>2015-08-24 23:00:00</th>\n",
       "      <td>5.0</td>\n",
       "      <td>14.0</td>\n",
       "      <td>2.0</td>\n",
       "      <td>5.0</td>\n",
       "      <td>5.0</td>\n",
       "    </tr>\n",
       "    <tr>\n",
       "      <th>2015-08-25 00:00:00</th>\n",
       "      <td>1.0</td>\n",
       "      <td>5.0</td>\n",
       "      <td>0.0</td>\n",
       "      <td>4.0</td>\n",
       "      <td>1.0</td>\n",
       "    </tr>\n",
       "    <tr>\n",
       "      <th>2015-08-25 01:00:00</th>\n",
       "      <td>2.0</td>\n",
       "      <td>1.0</td>\n",
       "      <td>0.0</td>\n",
       "      <td>0.0</td>\n",
       "      <td>0.0</td>\n",
       "    </tr>\n",
       "    <tr>\n",
       "      <th>2015-08-25 02:00:00</th>\n",
       "      <td>0.0</td>\n",
       "      <td>0.0</td>\n",
       "      <td>1.0</td>\n",
       "      <td>0.0</td>\n",
       "      <td>0.0</td>\n",
       "    </tr>\n",
       "    <tr>\n",
       "      <th>2015-08-25 03:00:00</th>\n",
       "      <td>0.0</td>\n",
       "      <td>0.0</td>\n",
       "      <td>1.0</td>\n",
       "      <td>1.0</td>\n",
       "      <td>1.0</td>\n",
       "    </tr>\n",
       "    <tr>\n",
       "      <th>2015-08-25 04:00:00</th>\n",
       "      <td>4.0</td>\n",
       "      <td>1.0</td>\n",
       "      <td>2.0</td>\n",
       "      <td>2.0</td>\n",
       "      <td>3.0</td>\n",
       "    </tr>\n",
       "    <tr>\n",
       "      <th>2015-08-25 05:00:00</th>\n",
       "      <td>9.0</td>\n",
       "      <td>3.0</td>\n",
       "      <td>9.0</td>\n",
       "      <td>6.0</td>\n",
       "      <td>5.0</td>\n",
       "    </tr>\n",
       "    <tr>\n",
       "      <th>2015-08-25 06:00:00</th>\n",
       "      <td>36.0</td>\n",
       "      <td>5.0</td>\n",
       "      <td>41.0</td>\n",
       "      <td>28.0</td>\n",
       "      <td>45.0</td>\n",
       "    </tr>\n",
       "    <tr>\n",
       "      <th>2015-08-25 07:00:00</th>\n",
       "      <td>114.0</td>\n",
       "      <td>45.0</td>\n",
       "      <td>113.0</td>\n",
       "      <td>118.0</td>\n",
       "      <td>121.0</td>\n",
       "    </tr>\n",
       "    <tr>\n",
       "      <th>2015-08-25 08:00:00</th>\n",
       "      <td>199.0</td>\n",
       "      <td>121.0</td>\n",
       "      <td>210.0</td>\n",
       "      <td>233.0</td>\n",
       "      <td>205.0</td>\n",
       "    </tr>\n",
       "    <tr>\n",
       "      <th>2015-08-25 09:00:00</th>\n",
       "      <td>141.0</td>\n",
       "      <td>205.0</td>\n",
       "      <td>144.0</td>\n",
       "      <td>152.0</td>\n",
       "      <td>153.0</td>\n",
       "    </tr>\n",
       "    <tr>\n",
       "      <th>2015-08-25 10:00:00</th>\n",
       "      <td>53.0</td>\n",
       "      <td>153.0</td>\n",
       "      <td>45.0</td>\n",
       "      <td>56.0</td>\n",
       "      <td>58.0</td>\n",
       "    </tr>\n",
       "    <tr>\n",
       "      <th>2015-08-25 11:00:00</th>\n",
       "      <td>41.0</td>\n",
       "      <td>58.0</td>\n",
       "      <td>53.0</td>\n",
       "      <td>41.0</td>\n",
       "      <td>47.0</td>\n",
       "    </tr>\n",
       "    <tr>\n",
       "      <th>2015-08-25 12:00:00</th>\n",
       "      <td>30.0</td>\n",
       "      <td>47.0</td>\n",
       "      <td>47.0</td>\n",
       "      <td>55.0</td>\n",
       "      <td>61.0</td>\n",
       "    </tr>\n",
       "    <tr>\n",
       "      <th>2015-08-25 13:00:00</th>\n",
       "      <td>28.0</td>\n",
       "      <td>61.0</td>\n",
       "      <td>48.0</td>\n",
       "      <td>31.0</td>\n",
       "      <td>42.0</td>\n",
       "    </tr>\n",
       "    <tr>\n",
       "      <th>2015-08-25 14:00:00</th>\n",
       "      <td>36.0</td>\n",
       "      <td>42.0</td>\n",
       "      <td>48.0</td>\n",
       "      <td>38.0</td>\n",
       "      <td>33.0</td>\n",
       "    </tr>\n",
       "    <tr>\n",
       "      <th>2015-08-25 15:00:00</th>\n",
       "      <td>52.0</td>\n",
       "      <td>33.0</td>\n",
       "      <td>62.0</td>\n",
       "      <td>51.0</td>\n",
       "      <td>56.0</td>\n",
       "    </tr>\n",
       "    <tr>\n",
       "      <th>2015-08-25 16:00:00</th>\n",
       "      <td>124.0</td>\n",
       "      <td>56.0</td>\n",
       "      <td>130.0</td>\n",
       "      <td>121.0</td>\n",
       "      <td>117.0</td>\n",
       "    </tr>\n",
       "    <tr>\n",
       "      <th>2015-08-25 17:00:00</th>\n",
       "      <td>170.0</td>\n",
       "      <td>117.0</td>\n",
       "      <td>195.0</td>\n",
       "      <td>200.0</td>\n",
       "      <td>190.0</td>\n",
       "    </tr>\n",
       "    <tr>\n",
       "      <th>2015-08-25 18:00:00</th>\n",
       "      <td>138.0</td>\n",
       "      <td>190.0</td>\n",
       "      <td>144.0</td>\n",
       "      <td>149.0</td>\n",
       "      <td>151.0</td>\n",
       "    </tr>\n",
       "    <tr>\n",
       "      <th>2015-08-25 19:00:00</th>\n",
       "      <td>73.0</td>\n",
       "      <td>151.0</td>\n",
       "      <td>62.0</td>\n",
       "      <td>67.0</td>\n",
       "      <td>66.0</td>\n",
       "    </tr>\n",
       "    <tr>\n",
       "      <th>2015-08-25 20:00:00</th>\n",
       "      <td>26.0</td>\n",
       "      <td>66.0</td>\n",
       "      <td>33.0</td>\n",
       "      <td>23.0</td>\n",
       "      <td>25.0</td>\n",
       "    </tr>\n",
       "    <tr>\n",
       "      <th>2015-08-25 21:00:00</th>\n",
       "      <td>13.0</td>\n",
       "      <td>25.0</td>\n",
       "      <td>30.0</td>\n",
       "      <td>12.0</td>\n",
       "      <td>23.0</td>\n",
       "    </tr>\n",
       "    <tr>\n",
       "      <th>2015-08-25 22:00:00</th>\n",
       "      <td>14.0</td>\n",
       "      <td>23.0</td>\n",
       "      <td>24.0</td>\n",
       "      <td>14.0</td>\n",
       "      <td>15.0</td>\n",
       "    </tr>\n",
       "    <tr>\n",
       "      <th>2015-08-25 23:00:00</th>\n",
       "      <td>5.0</td>\n",
       "      <td>15.0</td>\n",
       "      <td>9.0</td>\n",
       "      <td>5.0</td>\n",
       "      <td>3.0</td>\n",
       "    </tr>\n",
       "  </tbody>\n",
       "</table>\n",
       "<p>120 rows × 5 columns</p>\n",
       "</div>"
      ],
      "text/plain": [
       "                        1d     1h     1m     1w  current\n",
       "Start Date                                              \n",
       "2015-08-21 00:00:00    3.0    8.0    2.0    3.0      3.0\n",
       "2015-08-21 01:00:00    0.0    3.0    0.0    2.0      0.0\n",
       "2015-08-21 02:00:00    3.0    0.0    0.0    1.0      1.0\n",
       "2015-08-21 03:00:00    1.0    1.0    1.0    1.0      1.0\n",
       "2015-08-21 04:00:00    2.0    1.0    2.0    2.0      4.0\n",
       "2015-08-21 05:00:00   12.0    4.0    6.0    7.0      7.0\n",
       "2015-08-21 06:00:00   38.0    7.0   25.0   28.0     29.0\n",
       "2015-08-21 07:00:00  105.0   29.0   90.0   87.0     99.0\n",
       "2015-08-21 08:00:00  218.0   99.0  166.0  189.0    162.0\n",
       "2015-08-21 09:00:00  132.0  162.0  147.0  128.0    149.0\n",
       "2015-08-21 10:00:00   54.0  149.0   61.0   44.0     58.0\n",
       "2015-08-21 11:00:00   32.0   58.0   46.0   51.0     42.0\n",
       "2015-08-21 12:00:00   42.0   42.0   56.0   52.0     50.0\n",
       "2015-08-21 13:00:00   40.0   50.0   47.0   60.0     50.0\n",
       "2015-08-21 14:00:00   43.0   50.0   56.0   39.0     38.0\n",
       "2015-08-21 15:00:00   61.0   38.0   73.0   47.0     58.0\n",
       "2015-08-21 16:00:00  115.0   58.0  113.0  117.0    125.0\n",
       "2015-08-21 17:00:00  202.0  125.0  166.0  158.0    160.0\n",
       "2015-08-21 18:00:00  120.0  160.0   89.0   88.0     91.0\n",
       "2015-08-21 19:00:00   62.0   91.0   54.0   39.0     30.0\n",
       "2015-08-21 20:00:00   35.0   30.0   17.0   13.0     23.0\n",
       "2015-08-21 21:00:00   15.0   23.0   14.0    9.0     12.0\n",
       "2015-08-21 22:00:00   10.0   12.0   16.0   10.0     13.0\n",
       "2015-08-21 23:00:00    8.0   13.0    7.0    7.0     10.0\n",
       "2015-08-22 00:00:00    3.0   10.0    2.0   10.0      5.0\n",
       "2015-08-22 01:00:00    0.0    5.0    3.0    1.0      3.0\n",
       "2015-08-22 02:00:00    1.0    3.0    1.0    0.0      1.0\n",
       "2015-08-22 03:00:00    1.0    1.0    1.0    0.0      0.0\n",
       "2015-08-22 04:00:00    4.0    0.0    2.0    0.0      1.0\n",
       "2015-08-22 05:00:00    7.0    1.0    1.0    3.0      1.0\n",
       "...                    ...    ...    ...    ...      ...\n",
       "2015-08-24 18:00:00   14.0  170.0  131.0  127.0    138.0\n",
       "2015-08-24 19:00:00   14.0  138.0   64.0   75.0     73.0\n",
       "2015-08-24 20:00:00   21.0   73.0   29.0   23.0     26.0\n",
       "2015-08-24 21:00:00    9.0   26.0   15.0   12.0     13.0\n",
       "2015-08-24 22:00:00    5.0   13.0    8.0   11.0     14.0\n",
       "2015-08-24 23:00:00    5.0   14.0    2.0    5.0      5.0\n",
       "2015-08-25 00:00:00    1.0    5.0    0.0    4.0      1.0\n",
       "2015-08-25 01:00:00    2.0    1.0    0.0    0.0      0.0\n",
       "2015-08-25 02:00:00    0.0    0.0    1.0    0.0      0.0\n",
       "2015-08-25 03:00:00    0.0    0.0    1.0    1.0      1.0\n",
       "2015-08-25 04:00:00    4.0    1.0    2.0    2.0      3.0\n",
       "2015-08-25 05:00:00    9.0    3.0    9.0    6.0      5.0\n",
       "2015-08-25 06:00:00   36.0    5.0   41.0   28.0     45.0\n",
       "2015-08-25 07:00:00  114.0   45.0  113.0  118.0    121.0\n",
       "2015-08-25 08:00:00  199.0  121.0  210.0  233.0    205.0\n",
       "2015-08-25 09:00:00  141.0  205.0  144.0  152.0    153.0\n",
       "2015-08-25 10:00:00   53.0  153.0   45.0   56.0     58.0\n",
       "2015-08-25 11:00:00   41.0   58.0   53.0   41.0     47.0\n",
       "2015-08-25 12:00:00   30.0   47.0   47.0   55.0     61.0\n",
       "2015-08-25 13:00:00   28.0   61.0   48.0   31.0     42.0\n",
       "2015-08-25 14:00:00   36.0   42.0   48.0   38.0     33.0\n",
       "2015-08-25 15:00:00   52.0   33.0   62.0   51.0     56.0\n",
       "2015-08-25 16:00:00  124.0   56.0  130.0  121.0    117.0\n",
       "2015-08-25 17:00:00  170.0  117.0  195.0  200.0    190.0\n",
       "2015-08-25 18:00:00  138.0  190.0  144.0  149.0    151.0\n",
       "2015-08-25 19:00:00   73.0  151.0   62.0   67.0     66.0\n",
       "2015-08-25 20:00:00   26.0   66.0   33.0   23.0     25.0\n",
       "2015-08-25 21:00:00   13.0   25.0   30.0   12.0     23.0\n",
       "2015-08-25 22:00:00   14.0   23.0   24.0   14.0     15.0\n",
       "2015-08-25 23:00:00    5.0   15.0    9.0    5.0      3.0\n",
       "\n",
       "[120 rows x 5 columns]"
      ]
     },
     "execution_count": 224,
     "metadata": {},
     "output_type": "execute_result"
    }
   ],
   "source": [
    "data['2015-08-21':'2015-08-25']"
   ]
  },
  {
   "cell_type": "code",
   "execution_count": 226,
   "metadata": {
    "collapsed": false
   },
   "outputs": [
    {
     "data": {
      "text/html": [
       "<div>\n",
       "<table border=\"1\" class=\"dataframe\">\n",
       "  <thead>\n",
       "    <tr style=\"text-align: right;\">\n",
       "      <th></th>\n",
       "      <th>1d</th>\n",
       "      <th>1h</th>\n",
       "      <th>1m</th>\n",
       "      <th>1w</th>\n",
       "      <th>current</th>\n",
       "    </tr>\n",
       "    <tr>\n",
       "      <th>Start Date</th>\n",
       "      <th></th>\n",
       "      <th></th>\n",
       "      <th></th>\n",
       "      <th></th>\n",
       "      <th></th>\n",
       "    </tr>\n",
       "  </thead>\n",
       "  <tbody>\n",
       "    <tr>\n",
       "      <th>2015-08-01 00:00:00</th>\n",
       "      <td>0.0</td>\n",
       "      <td>9.0</td>\n",
       "      <td>6.0</td>\n",
       "      <td>2.0</td>\n",
       "      <td>2.0</td>\n",
       "    </tr>\n",
       "    <tr>\n",
       "      <th>2015-08-01 01:00:00</th>\n",
       "      <td>1.0</td>\n",
       "      <td>2.0</td>\n",
       "      <td>0.0</td>\n",
       "      <td>3.0</td>\n",
       "      <td>0.0</td>\n",
       "    </tr>\n",
       "    <tr>\n",
       "      <th>2015-08-01 02:00:00</th>\n",
       "      <td>0.0</td>\n",
       "      <td>0.0</td>\n",
       "      <td>0.0</td>\n",
       "      <td>1.0</td>\n",
       "      <td>3.0</td>\n",
       "    </tr>\n",
       "    <tr>\n",
       "      <th>2015-08-01 03:00:00</th>\n",
       "      <td>1.0</td>\n",
       "      <td>3.0</td>\n",
       "      <td>0.0</td>\n",
       "      <td>1.0</td>\n",
       "      <td>0.0</td>\n",
       "    </tr>\n",
       "    <tr>\n",
       "      <th>2015-08-01 04:00:00</th>\n",
       "      <td>2.0</td>\n",
       "      <td>0.0</td>\n",
       "      <td>1.0</td>\n",
       "      <td>2.0</td>\n",
       "      <td>0.0</td>\n",
       "    </tr>\n",
       "  </tbody>\n",
       "</table>\n",
       "</div>"
      ],
      "text/plain": [
       "                      1d   1h   1m   1w  current\n",
       "Start Date                                      \n",
       "2015-08-01 00:00:00  0.0  9.0  6.0  2.0      2.0\n",
       "2015-08-01 01:00:00  1.0  2.0  0.0  3.0      0.0\n",
       "2015-08-01 02:00:00  0.0  0.0  0.0  1.0      3.0\n",
       "2015-08-01 03:00:00  1.0  3.0  0.0  1.0      0.0\n",
       "2015-08-01 04:00:00  2.0  0.0  1.0  2.0      0.0"
      ]
     },
     "execution_count": 226,
     "metadata": {},
     "output_type": "execute_result"
    }
   ],
   "source": [
    "data['2015-08'].head()"
   ]
  },
  {
   "cell_type": "code",
   "execution_count": 227,
   "metadata": {
    "collapsed": true
   },
   "outputs": [],
   "source": [
    "model = RandomForestRegressor().fit(train[shifts.keys()], train.current)"
   ]
  },
  {
   "cell_type": "code",
   "execution_count": 231,
   "metadata": {
    "collapsed": false
   },
   "outputs": [],
   "source": [
    "pred = pandas.Series(model.predict(test[shifts.keys()]),\n",
    "                     index = test.index)"
   ]
  },
  {
   "cell_type": "code",
   "execution_count": 239,
   "metadata": {
    "collapsed": false
   },
   "outputs": [
    {
     "data": {
      "text/plain": [
       "<matplotlib.legend.Legend at 0x10e49ec10>"
      ]
     },
     "execution_count": 239,
     "metadata": {},
     "output_type": "execute_result"
    },
    {
     "data": {
      "image/png": "[encoded data removed]",
      "text/plain": [
       "<matplotlib.figure.Figure at 0x119ff6490>"
      ]
     },
     "metadata": {},
     "output_type": "display_data"
    }
   ],
   "source": [
    "plt.plot(test.current, label='actual')\n",
    "plt.plot(pred, label='prediction', alpha=0.5)\n",
    "plt.legend()"
   ]
  },
  {
   "cell_type": "code",
   "execution_count": 233,
   "metadata": {
    "collapsed": true
   },
   "outputs": [],
   "source": [
    "deltas = pred - test.current"
   ]
  },
  {
   "cell_type": "code",
   "execution_count": 234,
   "metadata": {
    "collapsed": false
   },
   "outputs": [
    {
     "data": {
      "text/plain": [
       "<matplotlib.axes._subplots.AxesSubplot at 0x119c30650>"
      ]
     },
     "execution_count": 234,
     "metadata": {},
     "output_type": "execute_result"
    },
    {
     "data": {
      "image/png": "[encoded data removed]",
      "text/plain": [
       "<matplotlib.figure.Figure at 0x119d46650>"
      ]
     },
     "metadata": {},
     "output_type": "display_data"
    }
   ],
   "source": [
    "deltas.hist()"
   ]
  },
  {
   "cell_type": "code",
   "execution_count": 235,
   "metadata": {
    "collapsed": true
   },
   "outputs": [],
   "source": [
    "mu, sigma = deltas.mean(), deltas.std()"
   ]
  },
  {
   "cell_type": "code",
   "execution_count": 236,
   "metadata": {
    "collapsed": false
   },
   "outputs": [
    {
     "data": {
      "text/plain": [
       "-1.0415467376942662"
      ]
     },
     "execution_count": 236,
     "metadata": {},
     "output_type": "execute_result"
    }
   ],
   "source": [
    "mu"
   ]
  },
  {
   "cell_type": "code",
   "execution_count": 237,
   "metadata": {
    "collapsed": false
   },
   "outputs": [
    {
     "data": {
      "text/plain": [
       "9.4720414543627012"
      ]
     },
     "execution_count": 237,
     "metadata": {},
     "output_type": "execute_result"
    }
   ],
   "source": [
    "sigma"
   ]
  },
  {
   "cell_type": "code",
   "execution_count": 240,
   "metadata": {
    "collapsed": false
   },
   "outputs": [
    {
     "data": {
      "text/plain": [
       "<matplotlib.axes._subplots.AxesSubplot at 0x10e009b90>"
      ]
     },
     "execution_count": 240,
     "metadata": {},
     "output_type": "execute_result"
    },
    {
     "data": {
      "image/png": "[encoded data removed]",
      "text/plain": [
       "<matplotlib.figure.Figure at 0x119fe4690>"
      ]
     },
     "metadata": {},
     "output_type": "display_data"
    }
   ],
   "source": [
    "(deltas / sigma).hist()"
   ]
  },
  {
   "cell_type": "code",
   "execution_count": 241,
   "metadata": {
    "collapsed": true
   },
   "outputs": [],
   "source": [
    "zs = deltas / sigma"
   ]
  },
  {
   "cell_type": "code",
   "execution_count": 242,
   "metadata": {
    "collapsed": false
   },
   "outputs": [
    {
     "data": {
      "text/plain": [
       "Start Date\n",
       "2015-08-24 17:00:00    4.032922\n",
       "2015-08-27 11:00:00   -3.600069\n",
       "2015-08-28 08:00:00   -4.096266\n",
       "2015-08-30 15:00:00   -3.019412\n",
       "2015-08-31 08:00:00   -4.022364\n",
       "2015-08-31 17:00:00   -3.135544\n",
       "dtype: float64"
      ]
     },
     "execution_count": 242,
     "metadata": {},
     "output_type": "execute_result"
    }
   ],
   "source": [
    "zs[zs.abs() > 3]"
   ]
  }
 ],
 "metadata": {
  "kernelspec": {
   "display_name": "Python 2",
   "language": "python",
   "name": "python2"
  },
  "language_info": {
   "codemirror_mode": {
    "name": "ipython",
    "version": 2
   },
   "file_extension": ".py",
   "mimetype": "text/x-python",
   "name": "python",
   "nbconvert_exporter": "python",
   "pygments_lexer": "ipython2",
   "version": "2.7.10"
  }
 },
 "nbformat": 4,
 "nbformat_minor": 2
}
