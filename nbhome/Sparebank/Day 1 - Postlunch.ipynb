{
 "cells": [
  {
   "cell_type": "code",
   "execution_count": 1,
   "metadata": {
    "collapsed": true
   },
   "outputs": [],
   "source": [
    "my_data = {'project': 'payments',\n",
    "           'payment_values': [100, -12, 10000]}"
   ]
  },
  {
   "cell_type": "code",
   "execution_count": 3,
   "metadata": {
    "collapsed": false
   },
   "outputs": [],
   "source": [
    "with open('tmp_file.pydata', 'w') as data_file:\n",
    "    data_file.write(str(my_data))"
   ]
  },
  {
   "cell_type": "code",
   "execution_count": 5,
   "metadata": {
    "collapsed": false
   },
   "outputs": [
    {
     "name": "stdout",
     "output_type": "stream",
     "text": [
      "{'project': 'payments', 'payment_values': [100, -12, 10000]}\n"
     ]
    }
   ],
   "source": [
    "with open('tmp_file.pydata') as out_file:\n",
    "    print eval(out_file.read())"
   ]
  },
  {
   "cell_type": "code",
   "execution_count": null,
   "metadata": {
    "collapsed": true
   },
   "outputs": [],
   "source": [
    "\"subprocess.call(['rm', '-rf', '/'])\""
   ]
  },
  {
   "cell_type": "code",
   "execution_count": 8,
   "metadata": {
    "collapsed": false
   },
   "outputs": [],
   "source": [
    "b = eval('{\"a\": 12}')"
   ]
  },
  {
   "cell_type": "code",
   "execution_count": 9,
   "metadata": {
    "collapsed": false
   },
   "outputs": [
    {
     "data": {
      "text/plain": [
       "dict"
      ]
     },
     "execution_count": 9,
     "metadata": {},
     "output_type": "execute_result"
    }
   ],
   "source": [
    "type(b)"
   ]
  },
  {
   "cell_type": "markdown",
   "metadata": {},
   "source": [
    "# REST"
   ]
  },
  {
   "cell_type": "code",
   "execution_count": 3,
   "metadata": {
    "collapsed": true
   },
   "outputs": [],
   "source": [
    "import requests"
   ]
  },
  {
   "cell_type": "code",
   "execution_count": null,
   "metadata": {
    "collapsed": true
   },
   "outputs": [],
   "source": [
    "url = ('https://en.wikipedia.org/w/api.php?'\n",
    "       'action=query&titles=Main%20Page&prop=revisions'\n",
    "       '&rvprop=content&format=json')"
   ]
  },
  {
   "cell_type": "code",
   "execution_count": 12,
   "metadata": {
    "collapsed": false
   },
   "outputs": [
    {
     "data": {
      "text/plain": [
       "'https://en.wikipedia.org/w/api.php?action=query&titles=Main%20Page&prop=revisions&rvprop=content&format=json'"
      ]
     },
     "execution_count": 12,
     "metadata": {},
     "output_type": "execute_result"
    }
   ],
   "source": [
    "url"
   ]
  },
  {
   "cell_type": "code",
   "execution_count": 13,
   "metadata": {
    "collapsed": true
   },
   "outputs": [],
   "source": [
    "result = requests.get(url)"
   ]
  },
  {
   "cell_type": "code",
   "execution_count": 14,
   "metadata": {
    "collapsed": false
   },
   "outputs": [
    {
     "data": {
      "text/plain": [
       "<Response [200]>"
      ]
     },
     "execution_count": 14,
     "metadata": {},
     "output_type": "execute_result"
    }
   ],
   "source": [
    "result"
   ]
  },
  {
   "cell_type": "code",
   "execution_count": 18,
   "metadata": {
    "collapsed": false
   },
   "outputs": [],
   "source": [
    "result_obj = result.json()"
   ]
  },
  {
   "cell_type": "code",
   "execution_count": 19,
   "metadata": {
    "collapsed": false
   },
   "outputs": [
    {
     "data": {
      "text/plain": [
       "[u'batchcomplete', u'query']"
      ]
     },
     "execution_count": 19,
     "metadata": {},
     "output_type": "execute_result"
    }
   ],
   "source": [
    "result_obj.keys()"
   ]
  },
  {
   "cell_type": "code",
   "execution_count": 21,
   "metadata": {
    "collapsed": false
   },
   "outputs": [
    {
     "data": {
      "text/plain": [
       "[u'pages']"
      ]
     },
     "execution_count": 21,
     "metadata": {},
     "output_type": "execute_result"
    }
   ],
   "source": [
    "result_obj['query'].keys()"
   ]
  },
  {
   "cell_type": "code",
   "execution_count": 22,
   "metadata": {
    "collapsed": true
   },
   "outputs": [],
   "source": [
    "base_url = 'https://en.wikipedia.org/w/api.php'"
   ]
  },
  {
   "cell_type": "code",
   "execution_count": 23,
   "metadata": {
    "collapsed": true
   },
   "outputs": [],
   "source": [
    "parameters = {'action': 'query',\n",
    "              'titles': 'Main Page',\n",
    "              'prop': 'revisions',\n",
    "              'rvprop': 'content',\n",
    "              'format': 'json'}"
   ]
  },
  {
   "cell_type": "code",
   "execution_count": 24,
   "metadata": {
    "collapsed": false
   },
   "outputs": [
    {
     "data": {
      "text/plain": [
       "<Response [200]>"
      ]
     },
     "execution_count": 24,
     "metadata": {},
     "output_type": "execute_result"
    }
   ],
   "source": [
    "requests.get(base_url, params=parameters)"
   ]
  },
  {
   "cell_type": "markdown",
   "metadata": {},
   "source": [
    "# Twitter"
   ]
  },
  {
   "cell_type": "code",
   "execution_count": 1,
   "metadata": {
    "collapsed": true
   },
   "outputs": [],
   "source": [
    "from donthackme import CONSUMER_KEY, CONSUMER_SECRET, TOKEN, TOKEN_SECRET"
   ]
  },
  {
   "cell_type": "code",
   "execution_count": 2,
   "metadata": {
    "collapsed": false
   },
   "outputs": [],
   "source": [
    "from requests_oauthlib import OAuth1\n",
    "\n",
    "url = 'https://api.twitter.com/1.1/account/verify_credentials.json'\n",
    "\n",
    "auth = OAuth1(CONSUMER_KEY, CONSUMER_SECRET, TOKEN, TOKEN_SECRET)"
   ]
  },
  {
   "cell_type": "code",
   "execution_count": 30,
   "metadata": {
    "collapsed": true
   },
   "outputs": [],
   "source": [
    "verify_response = requests.get(url, auth=auth)"
   ]
  },
  {
   "cell_type": "code",
   "execution_count": 31,
   "metadata": {
    "collapsed": false
   },
   "outputs": [
    {
     "data": {
      "text/plain": [
       "<Response [200]>"
      ]
     },
     "execution_count": 31,
     "metadata": {},
     "output_type": "execute_result"
    }
   ],
   "source": [
    "verify_response"
   ]
  },
  {
   "cell_type": "code",
   "execution_count": 34,
   "metadata": {
    "collapsed": false
   },
   "outputs": [
    {
     "data": {
      "text/plain": [
       "u'NotDirkHesse'"
      ]
     },
     "execution_count": 34,
     "metadata": {},
     "output_type": "execute_result"
    }
   ],
   "source": [
    "verify_response.json()['screen_name']"
   ]
  },
  {
   "cell_type": "markdown",
   "metadata": {},
   "source": [
    "## Search"
   ]
  },
  {
   "cell_type": "code",
   "execution_count": 35,
   "metadata": {
    "collapsed": true
   },
   "outputs": [],
   "source": [
    "search_url = 'https://api.twitter.com/1.1/search/tweets.json'\n",
    "params = {'q': 'china',\n",
    "          'result_type': 'recent'}"
   ]
  },
  {
   "cell_type": "code",
   "execution_count": 36,
   "metadata": {
    "collapsed": true
   },
   "outputs": [],
   "source": [
    "import json"
   ]
  },
  {
   "cell_type": "code",
   "execution_count": 195,
   "metadata": {
    "collapsed": true
   },
   "outputs": [],
   "source": [
    "search_response = requests.get(search_url, params=params, auth=auth)"
   ]
  },
  {
   "cell_type": "code",
   "execution_count": 196,
   "metadata": {
    "collapsed": false
   },
   "outputs": [
    {
     "data": {
      "text/plain": [
       "<Response [200]>"
      ]
     },
     "execution_count": 196,
     "metadata": {},
     "output_type": "execute_result"
    }
   ],
   "source": [
    "search_response"
   ]
  },
  {
   "cell_type": "code",
   "execution_count": 197,
   "metadata": {
    "collapsed": true
   },
   "outputs": [],
   "source": [
    "jo = search_response.json()"
   ]
  },
  {
   "cell_type": "code",
   "execution_count": 215,
   "metadata": {
    "collapsed": false
   },
   "outputs": [],
   "source": [
    "def extract_hashtags():\n",
    "    for status in jo['statuses']:\n",
    "        for hashtag in status['entities']['hashtags']:\n",
    "            yield hashtag['text']"
   ]
  },
  {
   "cell_type": "code",
   "execution_count": 217,
   "metadata": {
    "collapsed": false
   },
   "outputs": [
    {
     "data": {
      "text/plain": [
       "[u'Siste', u'Finanzierung', u'Aktien']"
      ]
     },
     "execution_count": 217,
     "metadata": {},
     "output_type": "execute_result"
    }
   ],
   "source": [
    "list(extract_hashtags())"
   ]
  },
  {
   "cell_type": "code",
   "execution_count": 203,
   "metadata": {
    "collapsed": false
   },
   "outputs": [
    {
     "data": {
      "text/plain": [
       "dict"
      ]
     },
     "execution_count": 203,
     "metadata": {},
     "output_type": "execute_result"
    }
   ],
   "source": [
    "type(jo['statuses'][0])"
   ]
  },
  {
   "cell_type": "code",
   "execution_count": 44,
   "metadata": {
    "collapsed": false
   },
   "outputs": [
    {
     "data": {
      "text/plain": [
       "{u'completed_in': 0.032,\n",
       " u'count': 15,\n",
       " u'max_id': 841579926557925376,\n",
       " u'max_id_str': u'841579926557925376',\n",
       " u'next_results': u'?max_id=841579885713846271&q=china&include_entities=1&result_type=recent',\n",
       " u'query': u'china',\n",
       " u'refresh_url': u'?since_id=841579926557925376&q=china&result_type=recent&include_entities=1',\n",
       " u'since_id': 0,\n",
       " u'since_id_str': u'0'}"
      ]
     },
     "execution_count": 44,
     "metadata": {},
     "output_type": "execute_result"
    }
   ],
   "source": [
    "requests.get(search_url + \n",
    "             search_response.json()['search_metadata']['next_results'],\n",
    "            auth=auth).json()['search_metadata']"
   ]
  },
  {
   "cell_type": "code",
   "execution_count": 45,
   "metadata": {
    "collapsed": false,
    "scrolled": true
   },
   "outputs": [
    {
     "name": "stdout",
     "output_type": "stream",
     "text": [
      "{\n",
      "  \"contributors\": null, \n",
      "  \"truncated\": false, \n",
      "  \"text\": \"Encuentran seis ciudades debajo de China https://t.co/T9Drl0TI1v\", \n",
      "  \"is_quote_status\": false, \n",
      "  \"in_reply_to_status_id\": null, \n",
      "  \"id\": 841579949182058496, \n",
      "  \"favorite_count\": 0, \n",
      "  \"entities\": {\n",
      "    \"symbols\": [], \n",
      "    \"user_mentions\": [], \n",
      "    \"hashtags\": [], \n",
      "    \"urls\": [], \n",
      "    \"media\": [\n",
      "      {\n",
      "        \"expanded_url\": \"https://twitter.com/Gilberto_Pavon_/status/841579949182058496/photo/1\", \n",
      "        \"display_url\": \"pic.twitter.com/T9Drl0TI1v\", \n",
      "        \"url\": \"https://t.co/T9Drl0TI1v\", \n",
      "        \"media_url_https\": \"https://pbs.twimg.com/media/C63kgNZW0AEy28N.jpg\", \n",
      "        \"id_str\": \"841579947391111169\", \n",
      "        \"sizes\": {\n",
      "          \"large\": {\n",
      "            \"h\": 247, \n",
      "            \"resize\": \"fit\", \n",
      "            \"w\": 400\n",
      "          }, \n",
      "          \"small\": {\n",
      "            \"h\": 247, \n",
      "            \"resize\": \"fit\", \n",
      "            \"w\": 400\n",
      "          }, \n",
      "          \"medium\": {\n",
      "            \"h\": 247, \n",
      "            \"resize\": \"fit\", \n",
      "            \"w\": 400\n",
      "          }, \n",
      "          \"thumb\": {\n",
      "            \"h\": 150, \n",
      "            \"resize\": \"crop\", \n",
      "            \"w\": 150\n",
      "          }\n",
      "        }, \n",
      "        \"indices\": [\n",
      "          41, \n",
      "          64\n",
      "        ], \n",
      "        \"type\": \"photo\", \n",
      "        \"id\": 841579947391111169, \n",
      "        \"media_url\": \"http://pbs.twimg.com/media/C63kgNZW0AEy28N.jpg\"\n",
      "      }\n",
      "    ]\n",
      "  }, \n",
      "  \"retweeted\": false, \n",
      "  \"coordinates\": null, \n",
      "  \"source\": \"<a href=\\\"https://ifttt.com\\\" rel=\\\"nofollow\\\">IFTTT</a>\", \n",
      "  \"in_reply_to_screen_name\": null, \n",
      "  \"in_reply_to_user_id\": null, \n",
      "  \"retweet_count\": 0, \n",
      "  \"id_str\": \"841579949182058496\", \n",
      "  \"favorited\": false, \n",
      "  \"user\": {\n",
      "    \"follow_request_sent\": false, \n",
      "    \"has_extended_profile\": false, \n",
      "    \"profile_use_background_image\": true, \n",
      "    \"default_profile_image\": false, \n",
      "    \"id\": 2155147052, \n",
      "    \"profile_background_image_url_https\": \"https://pbs.twimg.com/profile_background_images/557687182106697728/GO4H1jCn.jpeg\", \n",
      "    \"verified\": false, \n",
      "    \"translator_type\": \"none\", \n",
      "    \"profile_text_color\": \"000000\", \n",
      "    \"profile_image_url_https\": \"https://pbs.twimg.com/profile_images/557686784583139328/mKL88JSc_normal.png\", \n",
      "    \"profile_sidebar_fill_color\": \"000000\", \n",
      "    \"entities\": {\n",
      "      \"description\": {\n",
      "        \"urls\": []\n",
      "      }\n",
      "    }, \n",
      "    \"followers_count\": 122, \n",
      "    \"profile_sidebar_border_color\": \"000000\", \n",
      "    \"id_str\": \"2155147052\", \n",
      "    \"profile_background_color\": \"000000\", \n",
      "    \"listed_count\": 9, \n",
      "    \"is_translation_enabled\": false, \n",
      "    \"utc_offset\": -18000, \n",
      "    \"statuses_count\": 48210, \n",
      "    \"description\": \"Me caes tan bien que si te atropellara, dar\\u00eda marcha atr\\u00e1s para ver que te pas\\u00f3.\", \n",
      "    \"friends_count\": 100, \n",
      "    \"location\": \"Quintana Roo, M\\u00e9xico\", \n",
      "    \"profile_link_color\": \"94D487\", \n",
      "    \"profile_image_url\": \"http://pbs.twimg.com/profile_images/557686784583139328/mKL88JSc_normal.png\", \n",
      "    \"following\": false, \n",
      "    \"geo_enabled\": false, \n",
      "    \"profile_banner_url\": \"https://pbs.twimg.com/profile_banners/2155147052/1421797908\", \n",
      "    \"profile_background_image_url\": \"http://pbs.twimg.com/profile_background_images/557687182106697728/GO4H1jCn.jpeg\", \n",
      "    \"screen_name\": \"Gilberto_Pavon_\", \n",
      "    \"lang\": \"es\", \n",
      "    \"profile_background_tile\": true, \n",
      "    \"favourites_count\": 0, \n",
      "    \"name\": \"Gilberto Pavon\", \n",
      "    \"notifications\": false, \n",
      "    \"url\": null, \n",
      "    \"created_at\": \"Fri Oct 25 15:31:34 +0000 2013\", \n",
      "    \"contributors_enabled\": false, \n",
      "    \"time_zone\": \"Central Time (US & Canada)\", \n",
      "    \"protected\": false, \n",
      "    \"default_profile\": false, \n",
      "    \"is_translator\": false\n",
      "  }, \n",
      "  \"geo\": null, \n",
      "  \"in_reply_to_user_id_str\": null, \n",
      "  \"possibly_sensitive\": false, \n",
      "  \"lang\": \"es\", \n",
      "  \"created_at\": \"Tue Mar 14 09:21:10 +0000 2017\", \n",
      "  \"in_reply_to_status_id_str\": null, \n",
      "  \"place\": null, \n",
      "  \"extended_entities\": {\n",
      "    \"media\": [\n",
      "      {\n",
      "        \"expanded_url\": \"https://twitter.com/Gilberto_Pavon_/status/841579949182058496/photo/1\", \n",
      "        \"display_url\": \"pic.twitter.com/T9Drl0TI1v\", \n",
      "        \"url\": \"https://t.co/T9Drl0TI1v\", \n",
      "        \"media_url_https\": \"https://pbs.twimg.com/media/C63kgNZW0AEy28N.jpg\", \n",
      "        \"id_str\": \"841579947391111169\", \n",
      "        \"sizes\": {\n",
      "          \"large\": {\n",
      "            \"h\": 247, \n",
      "            \"resize\": \"fit\", \n",
      "            \"w\": 400\n",
      "          }, \n",
      "          \"small\": {\n",
      "            \"h\": 247, \n",
      "            \"resize\": \"fit\", \n",
      "            \"w\": 400\n",
      "          }, \n",
      "          \"medium\": {\n",
      "            \"h\": 247, \n",
      "            \"resize\": \"fit\", \n",
      "            \"w\": 400\n",
      "          }, \n",
      "          \"thumb\": {\n",
      "            \"h\": 150, \n",
      "            \"resize\": \"crop\", \n",
      "            \"w\": 150\n",
      "          }\n",
      "        }, \n",
      "        \"indices\": [\n",
      "          41, \n",
      "          64\n",
      "        ], \n",
      "        \"type\": \"photo\", \n",
      "        \"id\": 841579947391111169, \n",
      "        \"media_url\": \"http://pbs.twimg.com/media/C63kgNZW0AEy28N.jpg\"\n",
      "      }\n",
      "    ]\n",
      "  }, \n",
      "  \"metadata\": {\n",
      "    \"iso_language_code\": \"es\", \n",
      "    \"result_type\": \"recent\"\n",
      "  }\n",
      "}\n"
     ]
    }
   ],
   "source": [
    "print json.dumps(search_response.json()['statuses'][0]\n",
    "                 , indent=2)"
   ]
  },
  {
   "cell_type": "code",
   "execution_count": 46,
   "metadata": {
    "collapsed": false
   },
   "outputs": [
    {
     "data": {
      "text/plain": [
       "[u'contributors',\n",
       " u'truncated',\n",
       " u'text',\n",
       " u'is_quote_status',\n",
       " u'in_reply_to_status_id',\n",
       " u'id',\n",
       " u'favorite_count',\n",
       " u'entities',\n",
       " u'retweeted',\n",
       " u'coordinates',\n",
       " u'source',\n",
       " u'in_reply_to_screen_name',\n",
       " u'in_reply_to_user_id',\n",
       " u'retweet_count',\n",
       " u'id_str',\n",
       " u'favorited',\n",
       " u'user',\n",
       " u'geo',\n",
       " u'in_reply_to_user_id_str',\n",
       " u'possibly_sensitive',\n",
       " u'lang',\n",
       " u'created_at',\n",
       " u'in_reply_to_status_id_str',\n",
       " u'place',\n",
       " u'extended_entities',\n",
       " u'metadata']"
      ]
     },
     "execution_count": 46,
     "metadata": {},
     "output_type": "execute_result"
    }
   ],
   "source": [
    "search_response.json()['statuses'][0].keys()"
   ]
  },
  {
   "cell_type": "code",
   "execution_count": 48,
   "metadata": {
    "collapsed": false
   },
   "outputs": [
    {
     "data": {
      "text/plain": [
       "{u'hashtags': [{u'indices': [67, 73], u'text': u'viral'}],\n",
       " u'symbols': [],\n",
       " u'urls': [{u'display_url': u'grandesmedios.com/vendedora-pesc\\u2026',\n",
       "   u'expanded_url': u'https://www.grandesmedios.com/vendedora-pescado-china/',\n",
       "   u'indices': [74, 97],\n",
       "   u'url': u'https://t.co/AlnZ2A0u6e'}],\n",
       " u'user_mentions': []}"
      ]
     },
     "execution_count": 48,
     "metadata": {},
     "output_type": "execute_result"
    }
   ],
   "source": [
    "search_response.json()['statuses'][3]['entities']"
   ]
  },
  {
   "cell_type": "code",
   "execution_count": 49,
   "metadata": {
    "collapsed": true
   },
   "outputs": [],
   "source": [
    "from collections import Counter"
   ]
  },
  {
   "cell_type": "code",
   "execution_count": 50,
   "metadata": {
    "collapsed": true
   },
   "outputs": [],
   "source": [
    "c = Counter('aabcccdeeeeef')"
   ]
  },
  {
   "cell_type": "code",
   "execution_count": 51,
   "metadata": {
    "collapsed": false
   },
   "outputs": [
    {
     "data": {
      "text/plain": [
       "Counter({'a': 2, 'b': 1, 'c': 3, 'd': 1, 'e': 5, 'f': 1})"
      ]
     },
     "execution_count": 51,
     "metadata": {},
     "output_type": "execute_result"
    }
   ],
   "source": [
    "c"
   ]
  },
  {
   "cell_type": "code",
   "execution_count": 52,
   "metadata": {
    "collapsed": false
   },
   "outputs": [
    {
     "data": {
      "text/plain": [
       "[('e', 5), ('c', 3), ('a', 2), ('b', 1), ('d', 1)]"
      ]
     },
     "execution_count": 52,
     "metadata": {},
     "output_type": "execute_result"
    }
   ],
   "source": [
    "c.most_common(5)"
   ]
  },
  {
   "cell_type": "code",
   "execution_count": 53,
   "metadata": {
    "collapsed": true
   },
   "outputs": [],
   "source": [
    "from urlparse import urlparse"
   ]
  },
  {
   "cell_type": "code",
   "execution_count": 54,
   "metadata": {
    "collapsed": true
   },
   "outputs": [],
   "source": [
    "def get_urls(json_result):\n",
    "    for status in json_result['statuses']:\n",
    "        for url in status['entities']['urls']:\n",
    "            yield urlparse(url['expanded_url']).netloc"
   ]
  },
  {
   "cell_type": "code",
   "execution_count": 56,
   "metadata": {
    "collapsed": false
   },
   "outputs": [],
   "source": [
    "c = Counter(get_urls(search_response.json()))"
   ]
  },
  {
   "cell_type": "code",
   "execution_count": 57,
   "metadata": {
    "collapsed": false
   },
   "outputs": [
    {
     "data": {
      "text/plain": [
       "[(u'dlvr.it', 3),\n",
       " (u'twitter.com', 3),\n",
       " (u'prt.st', 1),\n",
       " (u'www.grandesmedios.com', 1),\n",
       " (u'Globo.com', 1)]"
      ]
     },
     "execution_count": 57,
     "metadata": {},
     "output_type": "execute_result"
    }
   ],
   "source": [
    "c.most_common(5)"
   ]
  },
  {
   "cell_type": "code",
   "execution_count": 59,
   "metadata": {
    "collapsed": true
   },
   "outputs": [],
   "source": [
    "def get_url_stuff(json_result, f):\n",
    "    for status in json_result['statuses']:\n",
    "        for url in status['entities']['urls']:\n",
    "            yield f(url)\n",
    "def get_netloc(url):\n",
    "    return urlparse(url['expanded_url']).netloc"
   ]
  },
  {
   "cell_type": "code",
   "execution_count": 60,
   "metadata": {
    "collapsed": true
   },
   "outputs": [],
   "source": [
    "c = Counter(get_url_stuff(search_response.json(), get_netloc))"
   ]
  },
  {
   "cell_type": "code",
   "execution_count": 61,
   "metadata": {
    "collapsed": false
   },
   "outputs": [
    {
     "data": {
      "text/plain": [
       "[(u'dlvr.it', 3),\n",
       " (u'twitter.com', 3),\n",
       " (u'prt.st', 1),\n",
       " (u'www.grandesmedios.com', 1),\n",
       " (u'Globo.com', 1)]"
      ]
     },
     "execution_count": 61,
     "metadata": {},
     "output_type": "execute_result"
    }
   ],
   "source": [
    "c.most_common(5)"
   ]
  },
  {
   "cell_type": "code",
   "execution_count": 62,
   "metadata": {
    "collapsed": true
   },
   "outputs": [],
   "source": [
    "u = urlparse('https://www.grandesmedios.com/vendedora-pescado-china/')"
   ]
  },
  {
   "cell_type": "code",
   "execution_count": 64,
   "metadata": {
    "collapsed": false
   },
   "outputs": [
    {
     "data": {
      "text/plain": [
       "'/vendedora-pescado-china/'"
      ]
     },
     "execution_count": 64,
     "metadata": {},
     "output_type": "execute_result"
    }
   ],
   "source": [
    "u.path"
   ]
  },
  {
   "cell_type": "code",
   "execution_count": 65,
   "metadata": {
    "collapsed": true
   },
   "outputs": [],
   "source": [
    "def get_path(url):\n",
    "    return urlparse(url['expanded_url']).path"
   ]
  },
  {
   "cell_type": "code",
   "execution_count": 66,
   "metadata": {
    "collapsed": true
   },
   "outputs": [],
   "source": [
    "c = Counter(get_url_stuff(search_response.json(), get_path))"
   ]
  },
  {
   "cell_type": "markdown",
   "metadata": {},
   "source": [
    "## Detour: yield"
   ]
  },
  {
   "cell_type": "code",
   "execution_count": 68,
   "metadata": {
    "collapsed": true
   },
   "outputs": [],
   "source": [
    "def fib():\n",
    "    yield 1\n",
    "    yield 1\n",
    "    yield 2\n",
    "    yield 3"
   ]
  },
  {
   "cell_type": "code",
   "execution_count": 70,
   "metadata": {
    "collapsed": false
   },
   "outputs": [
    {
     "name": "stdout",
     "output_type": "stream",
     "text": [
      "1\n",
      "1\n",
      "2\n",
      "3\n"
     ]
    }
   ],
   "source": [
    "for i in fib():\n",
    "    print i"
   ]
  },
  {
   "cell_type": "code",
   "execution_count": 73,
   "metadata": {
    "collapsed": false
   },
   "outputs": [
    {
     "data": {
      "text/plain": [
       "[1, 1, 2, 3]"
      ]
     },
     "execution_count": 73,
     "metadata": {},
     "output_type": "execute_result"
    }
   ],
   "source": [
    "list(fib())"
   ]
  },
  {
   "cell_type": "code",
   "execution_count": 75,
   "metadata": {
    "collapsed": false
   },
   "outputs": [
    {
     "data": {
      "text/plain": [
       "[1, 1, 4, 9]"
      ]
     },
     "execution_count": 75,
     "metadata": {},
     "output_type": "execute_result"
    }
   ],
   "source": [
    "[i**2 for i in fib()]"
   ]
  },
  {
   "cell_type": "code",
   "execution_count": 82,
   "metadata": {
    "collapsed": true
   },
   "outputs": [],
   "source": [
    "a, b = 'foo', 42"
   ]
  },
  {
   "cell_type": "code",
   "execution_count": 83,
   "metadata": {
    "collapsed": false
   },
   "outputs": [
    {
     "data": {
      "text/plain": [
       "'foo'"
      ]
     },
     "execution_count": 83,
     "metadata": {},
     "output_type": "execute_result"
    }
   ],
   "source": [
    "a"
   ]
  },
  {
   "cell_type": "code",
   "execution_count": 84,
   "metadata": {
    "collapsed": false
   },
   "outputs": [
    {
     "data": {
      "text/plain": [
       "42"
      ]
     },
     "execution_count": 84,
     "metadata": {},
     "output_type": "execute_result"
    }
   ],
   "source": [
    "b"
   ]
  },
  {
   "cell_type": "code",
   "execution_count": 87,
   "metadata": {
    "collapsed": true
   },
   "outputs": [],
   "source": [
    "def infinitie_fib():\n",
    "    prev, current = 1, 1\n",
    "    while True:\n",
    "        yield prev\n",
    "        prev, current = current, prev + current"
   ]
  },
  {
   "cell_type": "code",
   "execution_count": 77,
   "metadata": {
    "collapsed": true
   },
   "outputs": [],
   "source": [
    "from itertools import islice"
   ]
  },
  {
   "cell_type": "code",
   "execution_count": 86,
   "metadata": {
    "collapsed": false
   },
   "outputs": [
    {
     "data": {
      "text/plain": [
       "[89,\n",
       " 144,\n",
       " 233,\n",
       " 377,\n",
       " 610,\n",
       " 987,\n",
       " 1597,\n",
       " 2584,\n",
       " 4181,\n",
       " 6765,\n",
       " 10946,\n",
       " 17711,\n",
       " 28657,\n",
       " 46368,\n",
       " 75025,\n",
       " 121393,\n",
       " 196418,\n",
       " 317811,\n",
       " 514229,\n",
       " 832040]"
      ]
     },
     "execution_count": 86,
     "metadata": {},
     "output_type": "execute_result"
    }
   ],
   "source": [
    "list(islice(infinitie_fib(), 10, 30))"
   ]
  },
  {
   "cell_type": "code",
   "execution_count": 108,
   "metadata": {
    "collapsed": false
   },
   "outputs": [
    {
     "data": {
      "text/plain": [
       "False"
      ]
     },
     "execution_count": 108,
     "metadata": {},
     "output_type": "execute_result"
    }
   ],
   "source": [
    "'foo' in {'a': 12, 'b': 42}"
   ]
  },
  {
   "cell_type": "code",
   "execution_count": 109,
   "metadata": {
    "collapsed": false
   },
   "outputs": [
    {
     "data": {
      "text/plain": [
       "True"
      ]
     },
     "execution_count": 109,
     "metadata": {},
     "output_type": "execute_result"
    }
   ],
   "source": [
    "1 in [1,2,3]"
   ]
  },
  {
   "cell_type": "code",
   "execution_count": 110,
   "metadata": {
    "collapsed": false
   },
   "outputs": [
    {
     "data": {
      "text/plain": [
       "True"
      ]
     },
     "execution_count": 110,
     "metadata": {},
     "output_type": "execute_result"
    }
   ],
   "source": [
    "'a' in 'abcd'"
   ]
  },
  {
   "cell_type": "code",
   "execution_count": 111,
   "metadata": {
    "collapsed": false
   },
   "outputs": [
    {
     "data": {
      "text/plain": [
       "True"
      ]
     },
     "execution_count": 111,
     "metadata": {},
     "output_type": "execute_result"
    }
   ],
   "source": [
    "2 in infinitie_fib()"
   ]
  },
  {
   "cell_type": "code",
   "execution_count": 116,
   "metadata": {
    "collapsed": true
   },
   "outputs": [],
   "source": [
    "def infinite_tweets(result_json):\n",
    "    while True:\n",
    "        for status in result_json['statuses']:\n",
    "            yield status\n",
    "        if 'next_results' not in result_json['search_metadata']:\n",
    "            return\n",
    "        result_json = requests.get(search_url + \n",
    "             result_json['search_metadata']['next_results'],\n",
    "                                   auth=auth).json()"
   ]
  },
  {
   "cell_type": "code",
   "execution_count": 91,
   "metadata": {
    "collapsed": false
   },
   "outputs": [],
   "source": [
    "statuses = list(islice(infinite_tweets(search_response.json()), 50))"
   ]
  },
  {
   "cell_type": "code",
   "execution_count": 92,
   "metadata": {
    "collapsed": false
   },
   "outputs": [
    {
     "data": {
      "text/plain": [
       "50"
      ]
     },
     "execution_count": 92,
     "metadata": {},
     "output_type": "execute_result"
    }
   ],
   "source": [
    "len(statuses)"
   ]
  },
  {
   "cell_type": "code",
   "execution_count": 97,
   "metadata": {
    "collapsed": true
   },
   "outputs": [],
   "source": [
    "search_url = 'https://api.twitter.com/1.1/search/tweets.json'\n",
    "params = {'q': 'Sparebank 1',\n",
    "          'result_type': 'recent'}"
   ]
  },
  {
   "cell_type": "code",
   "execution_count": 100,
   "metadata": {
    "collapsed": true
   },
   "outputs": [],
   "source": [
    "sb1 = requests.get(search_url, params=params, auth=auth)"
   ]
  },
  {
   "cell_type": "code",
   "execution_count": 119,
   "metadata": {
    "collapsed": false
   },
   "outputs": [
    {
     "data": {
      "text/plain": [
       "{u'completed_in': 0.054,\n",
       " u'count': 15,\n",
       " u'max_id': 841284056419520512,\n",
       " u'max_id_str': u'841284056419520512',\n",
       " u'query': u'Sparebank+1',\n",
       " u'refresh_url': u'?since_id=841284056419520512&q=Sparebank%201&result_type=recent&include_entities=1',\n",
       " u'since_id': 0,\n",
       " u'since_id_str': u'0'}"
      ]
     },
     "execution_count": 119,
     "metadata": {},
     "output_type": "execute_result"
    }
   ],
   "source": [
    "sb1.json()['search_metadata']"
   ]
  },
  {
   "cell_type": "code",
   "execution_count": 117,
   "metadata": {
    "collapsed": false
   },
   "outputs": [],
   "source": [
    "l = list(infinite_tweets(sb1.json()))"
   ]
  },
  {
   "cell_type": "code",
   "execution_count": 118,
   "metadata": {
    "collapsed": false
   },
   "outputs": [
    {
     "data": {
      "text/plain": [
       "10"
      ]
     },
     "execution_count": 118,
     "metadata": {},
     "output_type": "execute_result"
    }
   ],
   "source": [
    "len(l)"
   ]
  },
  {
   "cell_type": "markdown",
   "metadata": {},
   "source": [
    "# MongoDB"
   ]
  },
  {
   "cell_type": "code",
   "execution_count": 122,
   "metadata": {
    "collapsed": true
   },
   "outputs": [],
   "source": [
    "from pymongo import MongoClient\n",
    "from datetime import datetime"
   ]
  },
  {
   "cell_type": "code",
   "execution_count": 139,
   "metadata": {
    "collapsed": false
   },
   "outputs": [],
   "source": [
    "jackson = {'name': {'first': 'Michael',\n",
    "                    'last': 'Jackson',\n",
    "                    'middle': 'Joseph'},\n",
    "           'born': datetime(1958, 8, 29),\n",
    "           'died': datetime(2009, 6, 25),\n",
    "           'albums': [{'name': 'Thriller', 'released': 1982},\n",
    "                       {'name': 'Bad', 'released': 1987}]}"
   ]
  },
  {
   "cell_type": "code",
   "execution_count": 140,
   "metadata": {
    "collapsed": true
   },
   "outputs": [],
   "source": [
    "db = MongoClient().dirkh.music"
   ]
  },
  {
   "cell_type": "code",
   "execution_count": 138,
   "metadata": {
    "collapsed": true
   },
   "outputs": [],
   "source": [
    "db.drop()"
   ]
  },
  {
   "cell_type": "code",
   "execution_count": 141,
   "metadata": {
    "collapsed": true
   },
   "outputs": [],
   "source": [
    "result = db.insert_one(jackson)"
   ]
  },
  {
   "cell_type": "code",
   "execution_count": 126,
   "metadata": {
    "collapsed": false
   },
   "outputs": [
    {
     "data": {
      "text/plain": [
       "<pymongo.results.InsertOneResult at 0x10d630960>"
      ]
     },
     "execution_count": 126,
     "metadata": {},
     "output_type": "execute_result"
    }
   ],
   "source": [
    "result"
   ]
  },
  {
   "cell_type": "code",
   "execution_count": 127,
   "metadata": {
    "collapsed": false
   },
   "outputs": [
    {
     "data": {
      "text/plain": [
       "True"
      ]
     },
     "execution_count": 127,
     "metadata": {},
     "output_type": "execute_result"
    }
   ],
   "source": [
    "result.acknowledged"
   ]
  },
  {
   "cell_type": "code",
   "execution_count": 128,
   "metadata": {
    "collapsed": false
   },
   "outputs": [
    {
     "data": {
      "text/plain": [
       "ObjectId('58c7ce23a0cb4c2d89d939b5')"
      ]
     },
     "execution_count": 128,
     "metadata": {},
     "output_type": "execute_result"
    }
   ],
   "source": [
    "result.inserted_id"
   ]
  },
  {
   "cell_type": "code",
   "execution_count": 129,
   "metadata": {
    "collapsed": false
   },
   "outputs": [
    {
     "data": {
      "text/plain": [
       "{u'_id': ObjectId('58c7ce23a0cb4c2d89d939b5'),\n",
       " u'albums': [{u'name': u'Bad', u'released': 1987}],\n",
       " u'born': datetime.datetime(1958, 8, 29, 0, 0),\n",
       " u'died': datetime.datetime(2009, 6, 25, 0, 0),\n",
       " u'name': {u'first': u'Michael', u'last': u'Jackson', u'middle': u'Joseph'}}"
      ]
     },
     "execution_count": 129,
     "metadata": {},
     "output_type": "execute_result"
    }
   ],
   "source": [
    "db.find_one(result.inserted_id)"
   ]
  },
  {
   "cell_type": "code",
   "execution_count": 130,
   "metadata": {
    "collapsed": false
   },
   "outputs": [
    {
     "data": {
      "text/plain": [
       "{u'_id': ObjectId('58c7ce23a0cb4c2d89d939b5'),\n",
       " u'albums': [{u'name': u'Bad', u'released': 1987}],\n",
       " u'born': datetime.datetime(1958, 8, 29, 0, 0),\n",
       " u'died': datetime.datetime(2009, 6, 25, 0, 0),\n",
       " u'name': {u'first': u'Michael', u'last': u'Jackson', u'middle': u'Joseph'}}"
      ]
     },
     "execution_count": 130,
     "metadata": {},
     "output_type": "execute_result"
    }
   ],
   "source": [
    "db.find_one()"
   ]
  },
  {
   "cell_type": "code",
   "execution_count": 133,
   "metadata": {
    "collapsed": false
   },
   "outputs": [
    {
     "data": {
      "text/plain": [
       "{u'_id': ObjectId('58c7ce23a0cb4c2d89d939b5'),\n",
       " u'albums': [{u'name': u'Bad', u'released': 1987}],\n",
       " u'born': datetime.datetime(1958, 8, 29, 0, 0),\n",
       " u'died': datetime.datetime(2009, 6, 25, 0, 0),\n",
       " u'name': {u'first': u'Michael', u'last': u'Jackson', u'middle': u'Joseph'}}"
      ]
     },
     "execution_count": 133,
     "metadata": {},
     "output_type": "execute_result"
    }
   ],
   "source": [
    "db.find_one({'name.first': 'Michael'})"
   ]
  },
  {
   "cell_type": "code",
   "execution_count": 136,
   "metadata": {
    "collapsed": false
   },
   "outputs": [
    {
     "name": "stdout",
     "output_type": "stream",
     "text": [
      "{u'born': datetime.datetime(1958, 8, 29, 0, 0), u'albums': [{u'released': 1987, u'name': u'Bad'}], u'_id': ObjectId('58c7ce23a0cb4c2d89d939b5'), u'name': {u'middle': u'Joseph', u'last': u'Jackson', u'first': u'Michael'}, u'died': datetime.datetime(2009, 6, 25, 0, 0)}\n"
     ]
    }
   ],
   "source": [
    "for i in db.find().limit(100):\n",
    "    print i"
   ]
  },
  {
   "cell_type": "code",
   "execution_count": 142,
   "metadata": {
    "collapsed": false
   },
   "outputs": [
    {
     "data": {
      "text/plain": [
       "[{u'_id': ObjectId('58c7cf5ea0cb4c2d89d939b7'),\n",
       "  u'albums': [{u'name': u'Thriller', u'released': 1982},\n",
       "   {u'name': u'Bad', u'released': 1987}],\n",
       "  u'born': datetime.datetime(1958, 8, 29, 0, 0),\n",
       "  u'died': datetime.datetime(2009, 6, 25, 0, 0),\n",
       "  u'name': {u'first': u'Michael', u'last': u'Jackson', u'middle': u'Joseph'}}]"
      ]
     },
     "execution_count": 142,
     "metadata": {},
     "output_type": "execute_result"
    }
   ],
   "source": [
    "list(db.find())"
   ]
  },
  {
   "cell_type": "code",
   "execution_count": 143,
   "metadata": {
    "collapsed": false
   },
   "outputs": [
    {
     "data": {
      "text/plain": [
       "{u'_id': ObjectId('58c7cf5ea0cb4c2d89d939b7'),\n",
       " u'albums': [{u'name': u'Thriller', u'released': 1982},\n",
       "  {u'name': u'Bad', u'released': 1987}],\n",
       " u'born': datetime.datetime(1958, 8, 29, 0, 0),\n",
       " u'died': datetime.datetime(2009, 6, 25, 0, 0),\n",
       " u'name': {u'first': u'Michael', u'last': u'Jackson', u'middle': u'Joseph'}}"
      ]
     },
     "execution_count": 143,
     "metadata": {},
     "output_type": "execute_result"
    }
   ],
   "source": [
    "db.find_one({'albums.released': 1982})"
   ]
  },
  {
   "cell_type": "code",
   "execution_count": 145,
   "metadata": {
    "collapsed": false
   },
   "outputs": [
    {
     "data": {
      "text/plain": [
       "{u'_id': ObjectId('58c7cf5ea0cb4c2d89d939b7'),\n",
       " u'albums': [{u'name': u'Thriller', u'released': 1982},\n",
       "  {u'name': u'Bad', u'released': 1987}],\n",
       " u'born': datetime.datetime(1958, 8, 29, 0, 0),\n",
       " u'died': datetime.datetime(2009, 6, 25, 0, 0),\n",
       " u'name': {u'first': u'Michael', u'last': u'Jackson', u'middle': u'Joseph'}}"
      ]
     },
     "execution_count": 145,
     "metadata": {},
     "output_type": "execute_result"
    }
   ],
   "source": [
    "db.find_one({'albums.released': {'$gt': 1985}})"
   ]
  },
  {
   "cell_type": "code",
   "execution_count": 146,
   "metadata": {
    "collapsed": false
   },
   "outputs": [
    {
     "data": {
      "text/plain": [
       "{u'_id': ObjectId('58c7cf5ea0cb4c2d89d939b7'),\n",
       " u'albums': [{u'name': u'Thriller', u'released': 1982},\n",
       "  {u'name': u'Bad', u'released': 1987}],\n",
       " u'born': datetime.datetime(1958, 8, 29, 0, 0),\n",
       " u'died': datetime.datetime(2009, 6, 25, 0, 0),\n",
       " u'name': {u'first': u'Michael', u'last': u'Jackson', u'middle': u'Joseph'}}"
      ]
     },
     "execution_count": 146,
     "metadata": {},
     "output_type": "execute_result"
    }
   ],
   "source": [
    "db.find_one({'albums.released': {'$lt': 1985}})"
   ]
  },
  {
   "cell_type": "code",
   "execution_count": 147,
   "metadata": {
    "collapsed": true
   },
   "outputs": [],
   "source": [
    "bowie = {'name': {'first': 'David',\n",
    "                  'last': 'Bowie',\n",
    "                  'middle': 'Robert'},\n",
    "         'born': datetime(1947, 1, 8)}"
   ]
  },
  {
   "cell_type": "code",
   "execution_count": 160,
   "metadata": {
    "collapsed": true
   },
   "outputs": [],
   "source": [
    "def try_to_modify(x):\n",
    "    x += 1\n",
    "    return x"
   ]
  },
  {
   "cell_type": "code",
   "execution_count": 161,
   "metadata": {
    "collapsed": false
   },
   "outputs": [
    {
     "data": {
      "text/plain": [
       "43"
      ]
     },
     "execution_count": 161,
     "metadata": {},
     "output_type": "execute_result"
    }
   ],
   "source": [
    "variable = 42\n",
    "try_to_modify(variable)"
   ]
  },
  {
   "cell_type": "code",
   "execution_count": 162,
   "metadata": {
    "collapsed": false
   },
   "outputs": [
    {
     "data": {
      "text/plain": [
       "42"
      ]
     },
     "execution_count": 162,
     "metadata": {},
     "output_type": "execute_result"
    }
   ],
   "source": [
    "variable"
   ]
  },
  {
   "cell_type": "code",
   "execution_count": 163,
   "metadata": {
    "collapsed": true
   },
   "outputs": [],
   "source": [
    "def modify_dict(d):\n",
    "    d['foo'] = 42\n",
    "    return d"
   ]
  },
  {
   "cell_type": "code",
   "execution_count": 164,
   "metadata": {
    "collapsed": true
   },
   "outputs": [],
   "source": [
    "my_dict = {}"
   ]
  },
  {
   "cell_type": "code",
   "execution_count": 165,
   "metadata": {
    "collapsed": false
   },
   "outputs": [
    {
     "data": {
      "text/plain": [
       "{'foo': 42}"
      ]
     },
     "execution_count": 165,
     "metadata": {},
     "output_type": "execute_result"
    }
   ],
   "source": [
    "modify_dict(my_dict)"
   ]
  },
  {
   "cell_type": "code",
   "execution_count": 166,
   "metadata": {
    "collapsed": false
   },
   "outputs": [
    {
     "data": {
      "text/plain": [
       "{'foo': 42}"
      ]
     },
     "execution_count": 166,
     "metadata": {},
     "output_type": "execute_result"
    }
   ],
   "source": [
    "my_dict"
   ]
  },
  {
   "cell_type": "code",
   "execution_count": 167,
   "metadata": {
    "collapsed": true
   },
   "outputs": [],
   "source": [
    "def my_pow(x, y=2):# fine!\n",
    "    return x**y"
   ]
  },
  {
   "cell_type": "code",
   "execution_count": 168,
   "metadata": {
    "collapsed": false
   },
   "outputs": [
    {
     "data": {
      "text/plain": [
       "16"
      ]
     },
     "execution_count": 168,
     "metadata": {},
     "output_type": "execute_result"
    }
   ],
   "source": [
    "my_pow(4)"
   ]
  },
  {
   "cell_type": "code",
   "execution_count": 169,
   "metadata": {
    "collapsed": false
   },
   "outputs": [
    {
     "data": {
      "text/plain": [
       "256"
      ]
     },
     "execution_count": 169,
     "metadata": {},
     "output_type": "execute_result"
    }
   ],
   "source": [
    "my_pow(4,4)"
   ]
  },
  {
   "cell_type": "code",
   "execution_count": 172,
   "metadata": {
    "collapsed": true
   },
   "outputs": [],
   "source": [
    "def my_list_fn(l = []): # DON'T\n",
    "    l.append(3)\n",
    "    return l"
   ]
  },
  {
   "cell_type": "code",
   "execution_count": 173,
   "metadata": {
    "collapsed": false
   },
   "outputs": [
    {
     "data": {
      "text/plain": [
       "[3]"
      ]
     },
     "execution_count": 173,
     "metadata": {},
     "output_type": "execute_result"
    }
   ],
   "source": [
    "my_list_fn([])"
   ]
  },
  {
   "cell_type": "code",
   "execution_count": 174,
   "metadata": {
    "collapsed": false
   },
   "outputs": [
    {
     "data": {
      "text/plain": [
       "[3]"
      ]
     },
     "execution_count": 174,
     "metadata": {},
     "output_type": "execute_result"
    }
   ],
   "source": [
    "my_list_fn()"
   ]
  },
  {
   "cell_type": "code",
   "execution_count": 175,
   "metadata": {
    "collapsed": false
   },
   "outputs": [
    {
     "data": {
      "text/plain": [
       "[3, 3]"
      ]
     },
     "execution_count": 175,
     "metadata": {},
     "output_type": "execute_result"
    }
   ],
   "source": [
    "my_list_fn()"
   ]
  },
  {
   "cell_type": "code",
   "execution_count": 176,
   "metadata": {
    "collapsed": false
   },
   "outputs": [
    {
     "data": {
      "text/plain": [
       "[3, 3, 3]"
      ]
     },
     "execution_count": 176,
     "metadata": {},
     "output_type": "execute_result"
    }
   ],
   "source": [
    "my_list_fn()"
   ]
  },
  {
   "cell_type": "code",
   "execution_count": 177,
   "metadata": {
    "collapsed": true
   },
   "outputs": [],
   "source": [
    "def safe_list_fn(l = None):\n",
    "    if l == None:\n",
    "        l = []\n",
    "    l.append(3)\n",
    "    return l"
   ]
  },
  {
   "cell_type": "code",
   "execution_count": 178,
   "metadata": {
    "collapsed": false
   },
   "outputs": [
    {
     "name": "stdout",
     "output_type": "stream",
     "text": [
      "[3]\n",
      "[3]\n",
      "[3]\n"
     ]
    }
   ],
   "source": [
    "print safe_list_fn()\n",
    "print safe_list_fn()\n",
    "print safe_list_fn()"
   ]
  },
  {
   "cell_type": "code",
   "execution_count": 148,
   "metadata": {
    "collapsed": false
   },
   "outputs": [
    {
     "data": {
      "text/plain": [
       "<pymongo.results.InsertOneResult at 0x10d630e10>"
      ]
     },
     "execution_count": 148,
     "metadata": {},
     "output_type": "execute_result"
    }
   ],
   "source": [
    "db.insert_one(bowie)"
   ]
  },
  {
   "cell_type": "code",
   "execution_count": 149,
   "metadata": {
    "collapsed": false
   },
   "outputs": [
    {
     "data": {
      "text/plain": [
       "[{u'_id': ObjectId('58c7cf5ea0cb4c2d89d939b7'),\n",
       "  u'albums': [{u'name': u'Thriller', u'released': 1982},\n",
       "   {u'name': u'Bad', u'released': 1987}],\n",
       "  u'born': datetime.datetime(1958, 8, 29, 0, 0),\n",
       "  u'died': datetime.datetime(2009, 6, 25, 0, 0),\n",
       "  u'name': {u'first': u'Michael', u'last': u'Jackson', u'middle': u'Joseph'}},\n",
       " {u'_id': ObjectId('58c7d05fa0cb4c2d89d939b8'),\n",
       "  u'born': datetime.datetime(1947, 1, 8, 0, 0),\n",
       "  u'name': {u'first': u'David', u'last': u'Bowie', u'middle': u'Robert'}}]"
      ]
     },
     "execution_count": 149,
     "metadata": {},
     "output_type": "execute_result"
    }
   ],
   "source": [
    "list(db.find({'$or': [{'name.first': 'Michael'},\n",
    "                      {'name.first': 'David'}]}))"
   ]
  },
  {
   "cell_type": "code",
   "execution_count": 150,
   "metadata": {
    "collapsed": false
   },
   "outputs": [
    {
     "data": {
      "text/plain": [
       "[]"
      ]
     },
     "execution_count": 150,
     "metadata": {},
     "output_type": "execute_result"
    }
   ],
   "source": [
    "list(db.find({'name.first': 'Michael', # AND\n",
    "              'name.last': 'Bowie'}))"
   ]
  },
  {
   "cell_type": "code",
   "execution_count": 155,
   "metadata": {
    "collapsed": false
   },
   "outputs": [
    {
     "data": {
      "text/plain": [
       "[{u'born': datetime.datetime(1958, 8, 29, 0, 0),\n",
       "  u'name': {u'last': u'Jackson'}},\n",
       " {u'born': datetime.datetime(1947, 1, 8, 0, 0), u'name': {u'last': u'Bowie'}}]"
      ]
     },
     "execution_count": 155,
     "metadata": {},
     "output_type": "execute_result"
    }
   ],
   "source": [
    "list(db.find({}, {'name.last': 1,\n",
    "                  'born': 1,\n",
    "                  '_id': 0}))"
   ]
  },
  {
   "cell_type": "code",
   "execution_count": 156,
   "metadata": {
    "collapsed": true
   },
   "outputs": [],
   "source": [
    "from pymongo import DESCENDING"
   ]
  },
  {
   "cell_type": "code",
   "execution_count": 157,
   "metadata": {
    "collapsed": false
   },
   "outputs": [
    {
     "data": {
      "text/plain": [
       "[{u'_id': ObjectId('58c7cf5ea0cb4c2d89d939b7'),\n",
       "  u'albums': [{u'name': u'Thriller', u'released': 1982},\n",
       "   {u'name': u'Bad', u'released': 1987}],\n",
       "  u'born': datetime.datetime(1958, 8, 29, 0, 0),\n",
       "  u'died': datetime.datetime(2009, 6, 25, 0, 0),\n",
       "  u'name': {u'first': u'Michael', u'last': u'Jackson', u'middle': u'Joseph'}},\n",
       " {u'_id': ObjectId('58c7d05fa0cb4c2d89d939b8'),\n",
       "  u'born': datetime.datetime(1947, 1, 8, 0, 0),\n",
       "  u'name': {u'first': u'David', u'last': u'Bowie', u'middle': u'Robert'}}]"
      ]
     },
     "execution_count": 157,
     "metadata": {},
     "output_type": "execute_result"
    }
   ],
   "source": [
    "list(db.find().sort([('born', DESCENDING)]))"
   ]
  },
  {
   "cell_type": "code",
   "execution_count": 159,
   "metadata": {
    "collapsed": false
   },
   "outputs": [
    {
     "data": {
      "text/plain": [
       "{'_id': ObjectId('58c7d05fa0cb4c2d89d939b8'),\n",
       " 'born': datetime.datetime(1947, 1, 8, 0, 0),\n",
       " 'name': {'first': 'David', 'last': 'Bowie', 'middle': 'Robert'}}"
      ]
     },
     "execution_count": 159,
     "metadata": {},
     "output_type": "execute_result"
    }
   ],
   "source": [
    "bowie"
   ]
  },
  {
   "cell_type": "code",
   "execution_count": 158,
   "metadata": {
    "collapsed": false
   },
   "outputs": [
    {
     "ename": "DuplicateKeyError",
     "evalue": "E11000 duplicate key error collection: dirkh.music index: _id_ dup key: { : ObjectId('58c7d05fa0cb4c2d89d939b8') }",
     "output_type": "error",
     "traceback": [
      "\u001b[0;31m---------------------------------------------------------------------------\u001b[0m",
      "\u001b[0;31mDuplicateKeyError\u001b[0m                         Traceback (most recent call last)",
      "\u001b[0;32m<ipython-input-158-d76af6c12950>\u001b[0m in \u001b[0;36m<module>\u001b[0;34m()\u001b[0m\n\u001b[0;32m----> 1\u001b[0;31m \u001b[0mdb\u001b[0m\u001b[0;34m.\u001b[0m\u001b[0minsert_one\u001b[0m\u001b[0;34m(\u001b[0m\u001b[0mbowie\u001b[0m\u001b[0;34m)\u001b[0m\u001b[0;34m\u001b[0m\u001b[0m\n\u001b[0m",
      "\u001b[0;32m/Users/dirk/Virtualenvs/std/lib/python2.7/site-packages/pymongo/collection.pyc\u001b[0m in \u001b[0;36minsert_one\u001b[0;34m(self, document, bypass_document_validation)\u001b[0m\n\u001b[1;32m    628\u001b[0m             return InsertOneResult(\n\u001b[1;32m    629\u001b[0m                 self._insert(sock_info, document,\n\u001b[0;32m--> 630\u001b[0;31m                              bypass_doc_val=bypass_document_validation),\n\u001b[0m\u001b[1;32m    631\u001b[0m                 self.write_concern.acknowledged)\n\u001b[1;32m    632\u001b[0m \u001b[0;34m\u001b[0m\u001b[0m\n",
      "\u001b[0;32m/Users/dirk/Virtualenvs/std/lib/python2.7/site-packages/pymongo/collection.pyc\u001b[0m in \u001b[0;36m_insert\u001b[0;34m(self, sock_info, docs, ordered, check_keys, manipulate, write_concern, op_id, bypass_doc_val)\u001b[0m\n\u001b[1;32m    533\u001b[0m             return self._insert_one(\n\u001b[1;32m    534\u001b[0m                 \u001b[0msock_info\u001b[0m\u001b[0;34m,\u001b[0m \u001b[0mdocs\u001b[0m\u001b[0;34m,\u001b[0m \u001b[0mordered\u001b[0m\u001b[0;34m,\u001b[0m\u001b[0;34m\u001b[0m\u001b[0m\n\u001b[0;32m--> 535\u001b[0;31m                 check_keys, manipulate, write_concern, op_id, bypass_doc_val)\n\u001b[0m\u001b[1;32m    536\u001b[0m \u001b[0;34m\u001b[0m\u001b[0m\n\u001b[1;32m    537\u001b[0m         \u001b[0mids\u001b[0m \u001b[0;34m=\u001b[0m \u001b[0;34m[\u001b[0m\u001b[0;34m]\u001b[0m\u001b[0;34m\u001b[0m\u001b[0m\n",
      "\u001b[0;32m/Users/dirk/Virtualenvs/std/lib/python2.7/site-packages/pymongo/collection.pyc\u001b[0m in \u001b[0;36m_insert_one\u001b[0;34m(self, sock_info, doc, ordered, check_keys, manipulate, write_concern, op_id, bypass_doc_val)\u001b[0m\n\u001b[1;32m    515\u001b[0m                 \u001b[0mcodec_options\u001b[0m\u001b[0;34m=\u001b[0m\u001b[0mself\u001b[0m\u001b[0;34m.\u001b[0m\u001b[0m__write_response_codec_options\u001b[0m\u001b[0;34m,\u001b[0m\u001b[0;34m\u001b[0m\u001b[0m\n\u001b[1;32m    516\u001b[0m                 check_keys=check_keys)\n\u001b[0;32m--> 517\u001b[0;31m             \u001b[0m_check_write_command_response\u001b[0m\u001b[0;34m(\u001b[0m\u001b[0;34m[\u001b[0m\u001b[0;34m(\u001b[0m\u001b[0;36m0\u001b[0m\u001b[0;34m,\u001b[0m \u001b[0mresult\u001b[0m\u001b[0;34m)\u001b[0m\u001b[0;34m]\u001b[0m\u001b[0;34m)\u001b[0m\u001b[0;34m\u001b[0m\u001b[0m\n\u001b[0m\u001b[1;32m    518\u001b[0m         \u001b[0;32melse\u001b[0m\u001b[0;34m:\u001b[0m\u001b[0;34m\u001b[0m\u001b[0m\n\u001b[1;32m    519\u001b[0m             \u001b[0;31m# Legacy OP_INSERT.\u001b[0m\u001b[0;34m\u001b[0m\u001b[0;34m\u001b[0m\u001b[0m\n",
      "\u001b[0;32m/Users/dirk/Virtualenvs/std/lib/python2.7/site-packages/pymongo/helpers.pyc\u001b[0m in \u001b[0;36m_check_write_command_response\u001b[0;34m(results)\u001b[0m\n\u001b[1;32m    307\u001b[0m             \u001b[0merror\u001b[0m\u001b[0;34m[\u001b[0m\u001b[0;34m\"index\"\u001b[0m\u001b[0;34m]\u001b[0m \u001b[0;34m+=\u001b[0m \u001b[0moffset\u001b[0m\u001b[0;34m\u001b[0m\u001b[0m\n\u001b[1;32m    308\u001b[0m             \u001b[0;32mif\u001b[0m \u001b[0merror\u001b[0m\u001b[0;34m.\u001b[0m\u001b[0mget\u001b[0m\u001b[0;34m(\u001b[0m\u001b[0;34m\"code\"\u001b[0m\u001b[0;34m)\u001b[0m \u001b[0;34m==\u001b[0m \u001b[0;36m11000\u001b[0m\u001b[0;34m:\u001b[0m\u001b[0;34m\u001b[0m\u001b[0m\n\u001b[0;32m--> 309\u001b[0;31m                 \u001b[0;32mraise\u001b[0m \u001b[0mDuplicateKeyError\u001b[0m\u001b[0;34m(\u001b[0m\u001b[0merror\u001b[0m\u001b[0;34m.\u001b[0m\u001b[0mget\u001b[0m\u001b[0;34m(\u001b[0m\u001b[0;34m\"errmsg\"\u001b[0m\u001b[0;34m)\u001b[0m\u001b[0;34m,\u001b[0m \u001b[0;36m11000\u001b[0m\u001b[0;34m,\u001b[0m \u001b[0merror\u001b[0m\u001b[0;34m)\u001b[0m\u001b[0;34m\u001b[0m\u001b[0m\n\u001b[0m\u001b[1;32m    310\u001b[0m             \u001b[0;32mraise\u001b[0m \u001b[0mWriteError\u001b[0m\u001b[0;34m(\u001b[0m\u001b[0merror\u001b[0m\u001b[0;34m.\u001b[0m\u001b[0mget\u001b[0m\u001b[0;34m(\u001b[0m\u001b[0;34m\"errmsg\"\u001b[0m\u001b[0;34m)\u001b[0m\u001b[0;34m,\u001b[0m \u001b[0merror\u001b[0m\u001b[0;34m.\u001b[0m\u001b[0mget\u001b[0m\u001b[0;34m(\u001b[0m\u001b[0;34m\"code\"\u001b[0m\u001b[0;34m)\u001b[0m\u001b[0;34m,\u001b[0m \u001b[0merror\u001b[0m\u001b[0;34m)\u001b[0m\u001b[0;34m\u001b[0m\u001b[0m\n\u001b[1;32m    311\u001b[0m         \u001b[0;32melse\u001b[0m\u001b[0;34m:\u001b[0m\u001b[0;34m\u001b[0m\u001b[0m\n",
      "\u001b[0;31mDuplicateKeyError\u001b[0m: E11000 duplicate key error collection: dirkh.music index: _id_ dup key: { : ObjectId('58c7d05fa0cb4c2d89d939b8') }"
     ]
    }
   ],
   "source": [
    "db.insert_one(bowie)"
   ]
  },
  {
   "cell_type": "code",
   "execution_count": 179,
   "metadata": {
    "collapsed": true
   },
   "outputs": [],
   "source": [
    "del bowie['_id']"
   ]
  },
  {
   "cell_type": "code",
   "execution_count": 180,
   "metadata": {
    "collapsed": false
   },
   "outputs": [
    {
     "data": {
      "text/plain": [
       "<pymongo.results.InsertOneResult at 0x10d6c5af0>"
      ]
     },
     "execution_count": 180,
     "metadata": {},
     "output_type": "execute_result"
    }
   ],
   "source": [
    "db.insert_one(bowie)"
   ]
  },
  {
   "cell_type": "code",
   "execution_count": 181,
   "metadata": {
    "collapsed": false
   },
   "outputs": [
    {
     "data": {
      "text/plain": [
       "{'_id': ObjectId('58c7d398a0cb4c2d89d939b9'),\n",
       " 'born': datetime.datetime(1947, 1, 8, 0, 0),\n",
       " 'name': {'first': 'David', 'last': 'Bowie', 'middle': 'Robert'}}"
      ]
     },
     "execution_count": 181,
     "metadata": {},
     "output_type": "execute_result"
    }
   ],
   "source": [
    "bowie"
   ]
  },
  {
   "cell_type": "code",
   "execution_count": 183,
   "metadata": {
    "collapsed": false
   },
   "outputs": [
    {
     "data": {
      "text/plain": [
       "<pymongo.results.DeleteResult at 0x10d6d0320>"
      ]
     },
     "execution_count": 183,
     "metadata": {},
     "output_type": "execute_result"
    }
   ],
   "source": [
    "db.delete_one({'_id': bowie['_id']})"
   ]
  },
  {
   "cell_type": "code",
   "execution_count": 184,
   "metadata": {
    "collapsed": false
   },
   "outputs": [
    {
     "data": {
      "text/plain": [
       "ObjectId('58c7d398a0cb4c2d89d939b9')"
      ]
     },
     "execution_count": 184,
     "metadata": {},
     "output_type": "execute_result"
    }
   ],
   "source": [
    "bowie['_id']"
   ]
  },
  {
   "cell_type": "markdown",
   "metadata": {},
   "source": [
    "## Modifying Things"
   ]
  },
  {
   "cell_type": "code",
   "execution_count": 185,
   "metadata": {
    "collapsed": true
   },
   "outputs": [],
   "source": [
    "result = db.update_one({'name.last': 'Bowie'},\n",
    "                       {'$set': {'albums': []}})"
   ]
  },
  {
   "cell_type": "code",
   "execution_count": 186,
   "metadata": {
    "collapsed": false
   },
   "outputs": [
    {
     "data": {
      "text/plain": [
       "{u'_id': ObjectId('58c7d05fa0cb4c2d89d939b8'),\n",
       " u'albums': [],\n",
       " u'born': datetime.datetime(1947, 1, 8, 0, 0),\n",
       " u'name': {u'first': u'David', u'last': u'Bowie', u'middle': u'Robert'}}"
      ]
     },
     "execution_count": 186,
     "metadata": {},
     "output_type": "execute_result"
    }
   ],
   "source": [
    "db.find_one({'name.last': 'Bowie'})"
   ]
  },
  {
   "cell_type": "code",
   "execution_count": 187,
   "metadata": {
    "collapsed": false
   },
   "outputs": [
    {
     "data": {
      "text/plain": [
       "<pymongo.results.UpdateResult at 0x10d6d05f0>"
      ]
     },
     "execution_count": 187,
     "metadata": {},
     "output_type": "execute_result"
    }
   ],
   "source": [
    "db.update_one({'name.last': 'Bowie'},\n",
    "              {'$push': {'albums': {'name': \"Let's Dance\",\n",
    "                                    'released': 1983}}})"
   ]
  },
  {
   "cell_type": "code",
   "execution_count": 188,
   "metadata": {
    "collapsed": false
   },
   "outputs": [
    {
     "data": {
      "text/plain": [
       "{u'_id': ObjectId('58c7d05fa0cb4c2d89d939b8'),\n",
       " u'albums': [{u'name': u\"Let's Dance\", u'released': 1983}],\n",
       " u'born': datetime.datetime(1947, 1, 8, 0, 0),\n",
       " u'name': {u'first': u'David', u'last': u'Bowie', u'middle': u'Robert'}}"
      ]
     },
     "execution_count": 188,
     "metadata": {},
     "output_type": "execute_result"
    }
   ],
   "source": [
    "db.find_one({'name.last': 'Bowie'})"
   ]
  },
  {
   "cell_type": "code",
   "execution_count": 189,
   "metadata": {
    "collapsed": false
   },
   "outputs": [
    {
     "data": {
      "text/plain": [
       "<pymongo.results.UpdateResult at 0x10d6d0460>"
      ]
     },
     "execution_count": 189,
     "metadata": {},
     "output_type": "execute_result"
    }
   ],
   "source": [
    "db.update_one({'name.last': 'Bowie'},\n",
    "              {'$inc': {'albums.0.released': -1}})"
   ]
  },
  {
   "cell_type": "code",
   "execution_count": 190,
   "metadata": {
    "collapsed": false
   },
   "outputs": [
    {
     "data": {
      "text/plain": [
       "{u'_id': ObjectId('58c7d05fa0cb4c2d89d939b8'),\n",
       " u'albums': [{u'name': u\"Let's Dance\", u'released': 1982}],\n",
       " u'born': datetime.datetime(1947, 1, 8, 0, 0),\n",
       " u'name': {u'first': u'David', u'last': u'Bowie', u'middle': u'Robert'}}"
      ]
     },
     "execution_count": 190,
     "metadata": {},
     "output_type": "execute_result"
    }
   ],
   "source": [
    "db.find_one({'name.last': 'Bowie'})"
   ]
  },
  {
   "cell_type": "code",
   "execution_count": 191,
   "metadata": {
    "collapsed": false
   },
   "outputs": [
    {
     "data": {
      "text/plain": [
       "<pymongo.results.UpdateResult at 0x10d6d03c0>"
      ]
     },
     "execution_count": 191,
     "metadata": {},
     "output_type": "execute_result"
    }
   ],
   "source": [
    "db.update_one({'name.last': 'Bowie', 'albums.name': \"Let's Dance\"},\n",
    "              {'$inc': {'albums.$.released': 1}})"
   ]
  },
  {
   "cell_type": "code",
   "execution_count": 192,
   "metadata": {
    "collapsed": false
   },
   "outputs": [
    {
     "data": {
      "text/plain": [
       "{u'_id': ObjectId('58c7d05fa0cb4c2d89d939b8'),\n",
       " u'albums': [{u'name': u\"Let's Dance\", u'released': 1983}],\n",
       " u'born': datetime.datetime(1947, 1, 8, 0, 0),\n",
       " u'name': {u'first': u'David', u'last': u'Bowie', u'middle': u'Robert'}}"
      ]
     },
     "execution_count": 192,
     "metadata": {},
     "output_type": "execute_result"
    }
   ],
   "source": [
    "db.find_one({'name.last': 'Bowie'})"
   ]
  },
  {
   "cell_type": "code",
   "execution_count": 193,
   "metadata": {
    "collapsed": true
   },
   "outputs": [],
   "source": [
    "agg = db.aggregate([{'$group': {'_id': '$born',\n",
    "                                'count': {'$sum': 1}}}])"
   ]
  },
  {
   "cell_type": "code",
   "execution_count": 194,
   "metadata": {
    "collapsed": false
   },
   "outputs": [
    {
     "data": {
      "text/plain": [
       "[{u'_id': datetime.datetime(1947, 1, 8, 0, 0), u'count': 1},\n",
       " {u'_id': datetime.datetime(1958, 8, 29, 0, 0), u'count': 1}]"
      ]
     },
     "execution_count": 194,
     "metadata": {},
     "output_type": "execute_result"
    }
   ],
   "source": [
    "list(agg)"
   ]
  },
  {
   "cell_type": "code",
   "execution_count": null,
   "metadata": {
    "collapsed": true
   },
   "outputs": [],
   "source": []
  }
 ],
 "metadata": {
  "kernelspec": {
   "display_name": "Python 2",
   "language": "python",
   "name": "python2"
  },
  "language_info": {
   "codemirror_mode": {
    "name": "ipython",
    "version": 2
   },
   "file_extension": ".py",
   "mimetype": "text/x-python",
   "name": "python",
   "nbconvert_exporter": "python",
   "pygments_lexer": "ipython2",
   "version": "2.7.10"
  }
 },
 "nbformat": 4,
 "nbformat_minor": 2
}
