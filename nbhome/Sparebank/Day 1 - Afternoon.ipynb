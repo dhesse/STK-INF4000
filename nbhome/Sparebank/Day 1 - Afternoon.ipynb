{
 "cells": [
  {
   "cell_type": "code",
   "execution_count": 1,
   "metadata": {
    "collapsed": true
   },
   "outputs": [],
   "source": [
    "import requests"
   ]
  },
  {
   "cell_type": "code",
   "execution_count": 2,
   "metadata": {
    "collapsed": true
   },
   "outputs": [],
   "source": [
    "page = requests.get('https://news.ycombinator.com/news')"
   ]
  },
  {
   "cell_type": "code",
   "execution_count": 3,
   "metadata": {
    "collapsed": false
   },
   "outputs": [
    {
     "data": {
      "text/plain": [
       "<Response [200]>"
      ]
     },
     "execution_count": 3,
     "metadata": {},
     "output_type": "execute_result"
    }
   ],
   "source": [
    "page"
   ]
  },
  {
   "cell_type": "code",
   "execution_count": 5,
   "metadata": {
    "collapsed": false
   },
   "outputs": [],
   "source": [
    "from bs4 import BeautifulSoup"
   ]
  },
  {
   "cell_type": "code",
   "execution_count": 6,
   "metadata": {
    "collapsed": true
   },
   "outputs": [],
   "source": [
    "soup = BeautifulSoup(page.text, 'lxml')"
   ]
  },
  {
   "cell_type": "code",
   "execution_count": 8,
   "metadata": {
    "collapsed": false
   },
   "outputs": [
    {
     "data": {
      "text/plain": [
       "<a href=\"http://www.ycombinator.com\"><img height=\"18\" src=\"y18.gif\" style=\"border:1px white solid;\" width=\"18\"/></a>"
      ]
     },
     "execution_count": 8,
     "metadata": {},
     "output_type": "execute_result"
    }
   ],
   "source": [
    "soup.a"
   ]
  },
  {
   "cell_type": "code",
   "execution_count": 13,
   "metadata": {
    "collapsed": false
   },
   "outputs": [
    {
     "data": {
      "text/plain": [
       "[<a href=\"http://www.ycombinator.com\"><img height=\"18\" src=\"y18.gif\" style=\"border:1px white solid;\" width=\"18\"/></a>,\n",
       " <img height=\"18\" src=\"y18.gif\" style=\"border:1px white solid;\" width=\"18\"/>]"
      ]
     },
     "execution_count": 13,
     "metadata": {},
     "output_type": "execute_result"
    }
   ],
   "source": [
    "soup.a.parent()"
   ]
  },
  {
   "cell_type": "code",
   "execution_count": 12,
   "metadata": {
    "collapsed": false
   },
   "outputs": [
    {
     "name": "stdout",
     "output_type": "stream",
     "text": [
      "https://github.com/Mte90/FB-Android-Crash\n",
      "https://www.springboard.com/learning-paths/machine-learning-python/\n",
      "https://www.gwern.net/docs/2016-levitt.pdf\n",
      "http://euler.party/\n",
      "https://www.getafreemvp.com/\n",
      "https://paragonie.com/blog/2017/03/jwt-json-web-tokens-is-bad-standard-that-everyone-should-avoid\n",
      "https://wikihouse.cc/\n",
      "https://buckbuild.com/\n",
      "http://www.parallelpython.com/\n",
      "https://jeremykun.com/2017/02/27/the-reasonable-effectiveness-of-the-multiplicative-weights-update-algorithm/\n",
      "http://listentothe.cloud/\n",
      "https://gist.github.com/XVilka/8346728\n",
      "http://spreadserve.com/\n",
      "http://sfwriter.com/wordstar.htm\n",
      "http://www.gigamonkeys.com/code-reading/\n",
      "http://airbnb.io/native-navigation/\n",
      "https://www.exolymph.news/2017/03/13/fleet-can-withdraw/\n",
      "http://nullprogram.com/blog/2017/03/12/\n",
      "http://www.newyorker.com/magazine/2017/03/20/confessions-of-a-watch-geek\n",
      "http://entrproject.org/\n",
      "http://www.opennn.net/\n",
      "http://www.bbc.com/culture/story/20170312-the-amazing-flying-machines-of-chinese-farmers\n",
      "https://graphics.stanford.edu/~levoy/unc-commencement.html\n",
      "https://www.circl.lu/projects/CIRCLean/\n",
      "https://mobile.nytimes.com/2017/03/11/world/asia/struggling-with-japans-nuclear-waste-six-years-after-disaster.html\n",
      "item?id=13866520\n",
      "https://www.outsideonline.com/2152131/freezing-death\n",
      "http://www.nationalgeographic.com/magazine/2016/02/artifacts-found-under-london-archaeology/\n",
      "http://www.tedunangst.com/flak/post/features-are-faults-redux\n",
      "https://www.jeffgeerling.com/blog/2017/raspberry-pi-zero-w-headless-time-lapse-camera\n"
     ]
    }
   ],
   "source": [
    "for a in soup('a', {'class': 'storylink'}):\n",
    "    print a['href']"
   ]
  },
  {
   "cell_type": "code",
   "execution_count": 17,
   "metadata": {
    "collapsed": true
   },
   "outputs": [],
   "source": [
    "import scrapy\n",
    "from urlparse import urljoin"
   ]
  },
  {
   "cell_type": "code",
   "execution_count": 18,
   "metadata": {
    "collapsed": false
   },
   "outputs": [],
   "source": [
    "class TestSpider(scrapy.Spider):\n",
    "    name = 'test_spider'\n",
    "    start_urls = ['http://localhost:8888/files/example.html']\n",
    "    \n",
    "    def parse(self, response):\n",
    "        soup = BeautifulSoup(response.text, 'lxml')\n",
    "        for list_item in soup('li'):\n",
    "            yield {'list_item': list_item.text}\n",
    "        for link in soup('a'):\n",
    "            target = urljoin(response.url, link['href'])\n",
    "            yield scrapy.Request(target, callback=self.parse)"
   ]
  },
  {
   "cell_type": "code",
   "execution_count": 20,
   "metadata": {
    "collapsed": false
   },
   "outputs": [],
   "source": [
    "from scrapy.crawler import CrawlerProcess"
   ]
  },
  {
   "cell_type": "code",
   "execution_count": 21,
   "metadata": {
    "collapsed": false
   },
   "outputs": [
    {
     "name": "stderr",
     "output_type": "stream",
     "text": [
      "2017-03-14 15:30:26 [scrapy] INFO: Scrapy 1.2.0 started (bot: scrapybot)\n",
      "2017-03-14 15:30:26 [scrapy] INFO: Overridden settings: {}\n",
      "2017-03-14 15:30:26 [scrapy] INFO: Enabled extensions:\n",
      "['scrapy.extensions.logstats.LogStats',\n",
      " 'scrapy.extensions.telnet.TelnetConsole',\n",
      " 'scrapy.extensions.corestats.CoreStats']\n",
      "2017-03-14 15:30:26 [scrapy] INFO: Enabled downloader middlewares:\n",
      "['scrapy.downloadermiddlewares.httpauth.HttpAuthMiddleware',\n",
      " 'scrapy.downloadermiddlewares.downloadtimeout.DownloadTimeoutMiddleware',\n",
      " 'scrapy.downloadermiddlewares.defaultheaders.DefaultHeadersMiddleware',\n",
      " 'scrapy.downloadermiddlewares.useragent.UserAgentMiddleware',\n",
      " 'scrapy.downloadermiddlewares.retry.RetryMiddleware',\n",
      " 'scrapy.downloadermiddlewares.redirect.MetaRefreshMiddleware',\n",
      " 'scrapy.downloadermiddlewares.httpcompression.HttpCompressionMiddleware',\n",
      " 'scrapy.downloadermiddlewares.redirect.RedirectMiddleware',\n",
      " 'scrapy.downloadermiddlewares.cookies.CookiesMiddleware',\n",
      " 'scrapy.downloadermiddlewares.chunked.ChunkedTransferMiddleware',\n",
      " 'scrapy.downloadermiddlewares.stats.DownloaderStats']\n",
      "2017-03-14 15:30:26 [scrapy] INFO: Enabled spider middlewares:\n",
      "['scrapy.spidermiddlewares.httperror.HttpErrorMiddleware',\n",
      " 'scrapy.spidermiddlewares.offsite.OffsiteMiddleware',\n",
      " 'scrapy.spidermiddlewares.referer.RefererMiddleware',\n",
      " 'scrapy.spidermiddlewares.urllength.UrlLengthMiddleware',\n",
      " 'scrapy.spidermiddlewares.depth.DepthMiddleware']\n",
      "2017-03-14 15:30:26 [scrapy] INFO: Enabled item pipelines:\n",
      "[]\n",
      "2017-03-14 15:30:26 [scrapy] INFO: Spider opened\n",
      "2017-03-14 15:30:26 [scrapy] INFO: Crawled 0 pages (at 0 pages/min), scraped 0 items (at 0 items/min)\n",
      "2017-03-14 15:30:26 [scrapy] DEBUG: Telnet console listening on 127.0.0.1:6023\n"
     ]
    },
    {
     "data": {
      "text/plain": [
       "<Deferred at 0x1110b93f8>"
      ]
     },
     "execution_count": 21,
     "metadata": {},
     "output_type": "execute_result"
    }
   ],
   "source": [
    "process = CrawlerProcess()\n",
    "process.crawl(TestSpider)\n",
    "process.start()"
   ]
  },
  {
   "cell_type": "code",
   "execution_count": 22,
   "metadata": {
    "collapsed": false
   },
   "outputs": [
    {
     "name": "stderr",
     "output_type": "stream",
     "text": [
      "2017-03-14 15:31:04 [scrapy] DEBUG: Crawled (200) <GET http://localhost:8888/files/example.html> (referer: None)\n",
      "2017-03-14 15:31:04 [py4j.java_gateway] DEBUG: Command to send: m\n",
      "d\n",
      "o1\n",
      "e\n",
      "\n",
      "2017-03-14 15:31:04 [py4j.java_gateway] DEBUG: Answer received: !yv\n",
      "2017-03-14 15:31:04 [py4j.java_gateway] DEBUG: Command to send: m\n",
      "d\n",
      "o24\n",
      "e\n",
      "\n",
      "2017-03-14 15:31:04 [py4j.java_gateway] DEBUG: Answer received: !yv\n",
      "2017-03-14 15:31:04 [scrapy] DEBUG: Scraped from <200 http://localhost:8888/files/example.html>\n",
      "{'list_item': u'2017-01-20: 5\\xb0'}\n",
      "2017-03-14 15:31:04 [scrapy] DEBUG: Scraped from <200 http://localhost:8888/files/example.html>\n",
      "{'list_item': u'2017-01-21: 7\\xb0'}\n",
      "2017-03-14 15:31:04 [scrapy] DEBUG: Scraped from <200 http://localhost:8888/files/example.html>\n",
      "{'list_item': u'2017-01-22: 4\\xb0'}\n",
      "2017-03-14 15:31:04 [scrapy] DEBUG: Scraped from <200 http://localhost:8888/files/example.html>\n",
      "{'list_item': u'2017-01-23: 2\\xb0'}\n",
      "2017-03-14 15:31:05 [scrapy] DEBUG: Crawled (200) <GET http://localhost:8888/files/example2.html> (referer: http://localhost:8888/files/example.html)\n",
      "2017-03-14 15:31:05 [scrapy] DEBUG: Scraped from <200 http://localhost:8888/files/example2.html>\n",
      "{'list_item': u'2017-01-16: 2\\xb0'}\n",
      "2017-03-14 15:31:05 [scrapy] DEBUG: Scraped from <200 http://localhost:8888/files/example2.html>\n",
      "{'list_item': u'2017-01-17: 3\\xb0'}\n",
      "2017-03-14 15:31:05 [scrapy] DEBUG: Scraped from <200 http://localhost:8888/files/example2.html>\n",
      "{'list_item': u'2017-01-18: 2\\xb0'}\n",
      "2017-03-14 15:31:05 [scrapy] DEBUG: Scraped from <200 http://localhost:8888/files/example2.html>\n",
      "{'list_item': u'2017-01-19: 1\\xb0'}\n",
      "2017-03-14 15:31:05 [scrapy] INFO: Closing spider (finished)\n",
      "2017-03-14 15:31:05 [scrapy] INFO: Dumping Scrapy stats:\n",
      "{'downloader/request_bytes': 502,\n",
      " 'downloader/request_count': 2,\n",
      " 'downloader/request_method_count/GET': 2,\n",
      " 'downloader/response_bytes': 1556,\n",
      " 'downloader/response_count': 2,\n",
      " 'downloader/response_status_count/200': 2,\n",
      " 'finish_reason': 'finished',\n",
      " 'finish_time': datetime.datetime(2017, 3, 14, 14, 31, 5, 134288),\n",
      " 'item_scraped_count': 8,\n",
      " 'log_count/DEBUG': 15,\n",
      " 'log_count/INFO': 7,\n",
      " 'request_depth_max': 1,\n",
      " 'response_received_count': 2,\n",
      " 'scheduler/dequeued': 2,\n",
      " 'scheduler/dequeued/memory': 2,\n",
      " 'scheduler/enqueued': 2,\n",
      " 'scheduler/enqueued/memory': 2,\n",
      " 'start_time': datetime.datetime(2017, 3, 14, 14, 30, 26, 546994)}\n",
      "2017-03-14 15:31:05 [scrapy] INFO: Spider closed (finished)\n"
     ]
    }
   ],
   "source": []
  },
  {
   "cell_type": "code",
   "execution_count": null,
   "metadata": {
    "collapsed": true
   },
   "outputs": [],
   "source": []
  }
 ],
 "metadata": {
  "kernelspec": {
   "display_name": "Python 2",
   "language": "python",
   "name": "python2"
  },
  "language_info": {
   "codemirror_mode": {
    "name": "ipython",
    "version": 2
   },
   "file_extension": ".py",
   "mimetype": "text/x-python",
   "name": "python",
   "nbconvert_exporter": "python",
   "pygments_lexer": "ipython2",
   "version": "2.7.10"
  }
 },
 "nbformat": 4,
 "nbformat_minor": 2
}
