{
 "cells": [
  {
   "cell_type": "code",
   "execution_count": 1,
   "metadata": {
    "collapsed": true
   },
   "outputs": [],
   "source": [
    "spark_spam = sc.textFile('data/spambase/spambase.data')"
   ]
  },
  {
   "cell_type": "code",
   "execution_count": 2,
   "metadata": {},
   "outputs": [
    {
     "data": {
      "text/plain": [
       "[u'0,0.64,0.64,0,0.32,0,0,0,0,0,0,0.64,0,0,0,0.32,0,1.29,1.93,0,0.96,0,0,0,0,0,0,0,0,0,0,0,0,0,0,0,0,0,0,0,0,0,0,0,0,0,0,0,0,0,0,0.778,0,0,3.756,61,278,1',\n",
       " u'0.21,0.28,0.5,0,0.14,0.28,0.21,0.07,0,0.94,0.21,0.79,0.65,0.21,0.14,0.14,0.07,0.28,3.47,0,1.59,0,0.43,0.43,0,0,0,0,0,0,0,0,0,0,0,0,0.07,0,0,0,0,0,0,0,0,0,0,0,0,0.132,0,0.372,0.18,0.048,5.114,101,1028,1',\n",
       " u'0.06,0,0.71,0,1.23,0.19,0.19,0.12,0.64,0.25,0.38,0.45,0.12,0,1.75,0.06,0.06,1.03,1.36,0.32,0.51,0,1.16,0.06,0,0,0,0,0,0,0,0,0,0,0,0,0,0,0,0.06,0,0,0.12,0,0.06,0.06,0,0,0.01,0.143,0,0.276,0.184,0.01,9.821,485,2259,1',\n",
       " u'0,0,0,0,0.63,0,0.31,0.63,0.31,0.63,0.31,0.31,0.31,0,0,0.31,0,0,3.18,0,0.31,0,0,0,0,0,0,0,0,0,0,0,0,0,0,0,0,0,0,0,0,0,0,0,0,0,0,0,0,0.137,0,0.137,0,0,3.537,40,191,1',\n",
       " u'0,0,0,0,0.63,0,0.31,0.63,0.31,0.63,0.31,0.31,0.31,0,0,0.31,0,0,3.18,0,0.31,0,0,0,0,0,0,0,0,0,0,0,0,0,0,0,0,0,0,0,0,0,0,0,0,0,0,0,0,0.135,0,0.135,0,0,3.537,40,191,1']"
      ]
     },
     "execution_count": 2,
     "metadata": {},
     "output_type": "execute_result"
    }
   ],
   "source": [
    "spark_spam.take(5)"
   ]
  },
  {
   "cell_type": "code",
   "execution_count": 5,
   "metadata": {
    "collapsed": true
   },
   "outputs": [],
   "source": [
    "import re"
   ]
  },
  {
   "cell_type": "code",
   "execution_count": 6,
   "metadata": {
    "collapsed": true
   },
   "outputs": [],
   "source": [
    "names = re.findall('^(.+):', open('data/spambase/spambase.names').read(), re.MULTILINE)\n",
    "del names[0]\n",
    "names.append('label')"
   ]
  },
  {
   "cell_type": "code",
   "execution_count": 7,
   "metadata": {
    "collapsed": true
   },
   "outputs": [
    {
     "data": {
      "text/plain": [
       "['word_freq_make',\n",
       " 'word_freq_address',\n",
       " 'word_freq_all',\n",
       " 'word_freq_3d',\n",
       " 'word_freq_our',\n",
       " 'word_freq_over',\n",
       " 'word_freq_remove',\n",
       " 'word_freq_internet',\n",
       " 'word_freq_order',\n",
       " 'word_freq_mail',\n",
       " 'word_freq_receive',\n",
       " 'word_freq_will',\n",
       " 'word_freq_people',\n",
       " 'word_freq_report',\n",
       " 'word_freq_addresses',\n",
       " 'word_freq_free',\n",
       " 'word_freq_business',\n",
       " 'word_freq_email',\n",
       " 'word_freq_you',\n",
       " 'word_freq_credit',\n",
       " 'word_freq_your',\n",
       " 'word_freq_font',\n",
       " 'word_freq_000',\n",
       " 'word_freq_money',\n",
       " 'word_freq_hp',\n",
       " 'word_freq_hpl',\n",
       " 'word_freq_george',\n",
       " 'word_freq_650',\n",
       " 'word_freq_lab',\n",
       " 'word_freq_labs',\n",
       " 'word_freq_telnet',\n",
       " 'word_freq_857',\n",
       " 'word_freq_data',\n",
       " 'word_freq_415',\n",
       " 'word_freq_85',\n",
       " 'word_freq_technology',\n",
       " 'word_freq_1999',\n",
       " 'word_freq_parts',\n",
       " 'word_freq_pm',\n",
       " 'word_freq_direct',\n",
       " 'word_freq_cs',\n",
       " 'word_freq_meeting',\n",
       " 'word_freq_original',\n",
       " 'word_freq_project',\n",
       " 'word_freq_re',\n",
       " 'word_freq_edu',\n",
       " 'word_freq_table',\n",
       " 'word_freq_conference',\n",
       " 'char_freq_;',\n",
       " 'char_freq_(',\n",
       " 'char_freq_[',\n",
       " 'char_freq_!',\n",
       " 'char_freq_$',\n",
       " 'char_freq_#',\n",
       " 'capital_run_length_average',\n",
       " 'capital_run_length_longest',\n",
       " 'capital_run_length_total',\n",
       " 'label']"
      ]
     },
     "execution_count": 7,
     "metadata": {},
     "output_type": "execute_result"
    }
   ],
   "source": [
    "names"
   ]
  },
  {
   "cell_type": "code",
   "execution_count": 144,
   "metadata": {},
   "outputs": [
    {
     "data": {
      "text/plain": [
       "59"
      ]
     },
     "execution_count": 144,
     "metadata": {},
     "output_type": "execute_result"
    }
   ],
   "source": [
    "ord(';')"
   ]
  },
  {
   "cell_type": "code",
   "execution_count": 9,
   "metadata": {
    "collapsed": true
   },
   "outputs": [],
   "source": [
    "def sub_fun(match):\n",
    "    return 'a' + str(ord(match.group(0)))"
   ]
  },
  {
   "cell_type": "code",
   "execution_count": 10,
   "metadata": {},
   "outputs": [
    {
     "data": {
      "text/plain": [
       "'char_freq_a35'"
      ]
     },
     "execution_count": 10,
     "metadata": {},
     "output_type": "execute_result"
    }
   ],
   "source": [
    "re.sub('[^a-z_0-9]', sub_fun, 'char_freq_#')"
   ]
  },
  {
   "cell_type": "code",
   "execution_count": 11,
   "metadata": {
    "collapsed": true
   },
   "outputs": [],
   "source": [
    "spark_names = [re.sub('[^a-z_0-9]', sub_fun, name) for name in names]"
   ]
  },
  {
   "cell_type": "code",
   "execution_count": 12,
   "metadata": {
    "collapsed": true
   },
   "outputs": [],
   "source": [
    "from pyspark.sql import Row"
   ]
  },
  {
   "cell_type": "code",
   "execution_count": 13,
   "metadata": {
    "collapsed": true
   },
   "outputs": [],
   "source": [
    "def line_to_row(line):\n",
    "    vals = line.split(',')\n",
    "    argdict = {name: float(val) for name, val in zip(spark_names, vals)}\n",
    "    return Row(**argdict)"
   ]
  },
  {
   "cell_type": "code",
   "execution_count": 14,
   "metadata": {
    "collapsed": true
   },
   "outputs": [],
   "source": [
    "df = spark.createDataFrame(spark_spam.map(line_to_row))"
   ]
  },
  {
   "cell_type": "code",
   "execution_count": 15,
   "metadata": {},
   "outputs": [
    {
     "name": "stdout",
     "output_type": "stream",
     "text": [
      "+--------------------------+--------------------------+------------------------+-------------+-------------+\n",
      "|capital_run_length_average|capital_run_length_longest|capital_run_length_total|char_freq_a33|char_freq_a35|\n",
      "+--------------------------+--------------------------+------------------------+-------------+-------------+\n",
      "|                     3.756|                      61.0|                   278.0|        0.778|          0.0|\n",
      "|                     5.114|                     101.0|                  1028.0|        0.372|        0.048|\n",
      "|                     9.821|                     485.0|                  2259.0|        0.276|         0.01|\n",
      "|                     3.537|                      40.0|                   191.0|        0.137|          0.0|\n",
      "|                     3.537|                      40.0|                   191.0|        0.135|          0.0|\n",
      "+--------------------------+--------------------------+------------------------+-------------+-------------+\n",
      "only showing top 5 rows\n",
      "\n"
     ]
    }
   ],
   "source": [
    "df.select(df.columns[:5]).show(5)"
   ]
  },
  {
   "cell_type": "code",
   "execution_count": 17,
   "metadata": {
    "collapsed": true
   },
   "outputs": [],
   "source": [
    "features = ['char_freq_$', 'word_freq_remove', 'char_freq_!']\n",
    "spark_features = [spark_names[names.index(i)] for i in features]"
   ]
  },
  {
   "cell_type": "code",
   "execution_count": 18,
   "metadata": {},
   "outputs": [
    {
     "data": {
      "text/plain": [
       "['char_freq_a36', 'word_freq_remove', 'char_freq_a33']"
      ]
     },
     "execution_count": 18,
     "metadata": {},
     "output_type": "execute_result"
    }
   ],
   "source": [
    "spark_features"
   ]
  },
  {
   "cell_type": "code",
   "execution_count": 19,
   "metadata": {},
   "outputs": [
    {
     "name": "stdout",
     "output_type": "stream",
     "text": [
      "+-------------+----------------+-------------+\n",
      "|char_freq_a36|word_freq_remove|char_freq_a33|\n",
      "+-------------+----------------+-------------+\n",
      "|          0.0|             0.0|        0.778|\n",
      "|         0.18|            0.21|        0.372|\n",
      "|        0.184|            0.19|        0.276|\n",
      "|          0.0|            0.31|        0.137|\n",
      "|          0.0|            0.31|        0.135|\n",
      "|          0.0|             0.0|          0.0|\n",
      "|        0.054|             0.0|        0.164|\n",
      "|          0.0|             0.0|          0.0|\n",
      "|        0.203|             0.3|        0.181|\n",
      "|        0.081|            0.38|        0.244|\n",
      "|          0.0|            0.96|        0.462|\n",
      "|          0.0|            0.25|        0.663|\n",
      "|          0.0|             0.0|        0.786|\n",
      "|          0.0|             0.9|          0.0|\n",
      "|          0.0|             0.0|        0.357|\n",
      "|        0.063|            0.42|        0.572|\n",
      "|          0.0|             0.0|        0.428|\n",
      "|         0.37|             0.0|        1.975|\n",
      "|          0.0|            0.18|        0.455|\n",
      "|        0.496|             0.0|        0.055|\n",
      "+-------------+----------------+-------------+\n",
      "only showing top 20 rows\n",
      "\n"
     ]
    }
   ],
   "source": [
    "df.select(spark_features).show()"
   ]
  },
  {
   "cell_type": "code",
   "execution_count": 20,
   "metadata": {
    "collapsed": true
   },
   "outputs": [],
   "source": [
    "from pyspark.ml.feature import RFormula"
   ]
  },
  {
   "cell_type": "code",
   "execution_count": 21,
   "metadata": {
    "collapsed": true
   },
   "outputs": [],
   "source": [
    "formula = 'label ~ ' + ' + '.join(spark_features)"
   ]
  },
  {
   "cell_type": "code",
   "execution_count": 22,
   "metadata": {
    "collapsed": true
   },
   "outputs": [],
   "source": [
    "selector = RFormula(formula=formula)"
   ]
  },
  {
   "cell_type": "code",
   "execution_count": 23,
   "metadata": {
    "collapsed": true
   },
   "outputs": [],
   "source": [
    "X_formula = selector.fit(df).transform(df)"
   ]
  },
  {
   "cell_type": "code",
   "execution_count": 24,
   "metadata": {},
   "outputs": [
    {
     "name": "stdout",
     "output_type": "stream",
     "text": [
      "+------------------+-----+\n",
      "|          features|label|\n",
      "+------------------+-----+\n",
      "|   [0.0,0.0,0.778]|  1.0|\n",
      "| [0.18,0.21,0.372]|  1.0|\n",
      "|[0.184,0.19,0.276]|  1.0|\n",
      "|  [0.0,0.31,0.137]|  1.0|\n",
      "|  [0.0,0.31,0.135]|  1.0|\n",
      "+------------------+-----+\n",
      "only showing top 5 rows\n",
      "\n"
     ]
    }
   ],
   "source": [
    "X_formula.select('features', 'label').show(5)"
   ]
  },
  {
   "cell_type": "code",
   "execution_count": 25,
   "metadata": {
    "collapsed": true
   },
   "outputs": [],
   "source": [
    "from pyspark.ml.feature import VectorAssembler"
   ]
  },
  {
   "cell_type": "code",
   "execution_count": 26,
   "metadata": {
    "collapsed": true
   },
   "outputs": [],
   "source": [
    "input_features = spark_names\n",
    "input_features.remove('label')"
   ]
  },
  {
   "cell_type": "code",
   "execution_count": 27,
   "metadata": {
    "collapsed": true
   },
   "outputs": [],
   "source": [
    "X_all = (VectorAssembler(inputCols=input_features, outputCol='features')\n",
    "         .transform(df).select('features', 'label'))"
   ]
  },
  {
   "cell_type": "code",
   "execution_count": 29,
   "metadata": {},
   "outputs": [
    {
     "name": "stdout",
     "output_type": "stream",
     "text": [
      "+--------------------+-----+\n",
      "|            features|label|\n",
      "+--------------------+-----+\n",
      "|(57,[1,2,4,11,15,...|  1.0|\n",
      "|(57,[0,1,2,4,5,6,...|  1.0|\n",
      "|(57,[0,2,4,5,6,7,...|  1.0|\n",
      "|(57,[4,6,7,8,9,10...|  1.0|\n",
      "|(57,[4,6,7,8,9,10...|  1.0|\n",
      "|(57,[4,7,49,54,55...|  1.0|\n",
      "|(57,[4,9,10,11,15...|  1.0|\n",
      "|(57,[4,7,49,54,55...|  1.0|\n",
      "|(57,[0,2,4,6,8,9,...|  1.0|\n",
      "|(57,[0,1,2,4,5,6,...|  1.0|\n",
      "|(57,[6,9,10,17,18...|  1.0|\n",
      "|(57,[2,4,5,6,10,1...|  1.0|\n",
      "|(57,[1,2,4,11,15,...|  1.0|\n",
      "|(57,[4,6,9,10,12,...|  1.0|\n",
      "|(57,[2,4,5,7,9,11...|  1.0|\n",
      "|(57,[1,2,4,6,9,15...|  1.0|\n",
      "|(57,[4,18,20,51,5...|  1.0|\n",
      "|(57,[20,22,51,52,...|  1.0|\n",
      "|(57,[2,4,6,12,14,...|  1.0|\n",
      "|(57,[1,4,5,8,11,1...|  1.0|\n",
      "+--------------------+-----+\n",
      "only showing top 20 rows\n",
      "\n"
     ]
    }
   ],
   "source": [
    "X_all.show()"
   ]
  },
  {
   "cell_type": "code",
   "execution_count": 31,
   "metadata": {},
   "outputs": [
    {
     "data": {
      "text/plain": [
       "{u'ml_attr': {u'attrs': {u'numeric': [{u'idx': 0, u'name': u'word_freq_make'},\n",
       "    {u'idx': 1, u'name': u'word_freq_address'},\n",
       "    {u'idx': 2, u'name': u'word_freq_all'},\n",
       "    {u'idx': 3, u'name': u'word_freq_3d'},\n",
       "    {u'idx': 4, u'name': u'word_freq_our'},\n",
       "    {u'idx': 5, u'name': u'word_freq_over'},\n",
       "    {u'idx': 6, u'name': u'word_freq_remove'},\n",
       "    {u'idx': 7, u'name': u'word_freq_internet'},\n",
       "    {u'idx': 8, u'name': u'word_freq_order'},\n",
       "    {u'idx': 9, u'name': u'word_freq_mail'},\n",
       "    {u'idx': 10, u'name': u'word_freq_receive'},\n",
       "    {u'idx': 11, u'name': u'word_freq_will'},\n",
       "    {u'idx': 12, u'name': u'word_freq_people'},\n",
       "    {u'idx': 13, u'name': u'word_freq_report'},\n",
       "    {u'idx': 14, u'name': u'word_freq_addresses'},\n",
       "    {u'idx': 15, u'name': u'word_freq_free'},\n",
       "    {u'idx': 16, u'name': u'word_freq_business'},\n",
       "    {u'idx': 17, u'name': u'word_freq_email'},\n",
       "    {u'idx': 18, u'name': u'word_freq_you'},\n",
       "    {u'idx': 19, u'name': u'word_freq_credit'},\n",
       "    {u'idx': 20, u'name': u'word_freq_your'},\n",
       "    {u'idx': 21, u'name': u'word_freq_font'},\n",
       "    {u'idx': 22, u'name': u'word_freq_000'},\n",
       "    {u'idx': 23, u'name': u'word_freq_money'},\n",
       "    {u'idx': 24, u'name': u'word_freq_hp'},\n",
       "    {u'idx': 25, u'name': u'word_freq_hpl'},\n",
       "    {u'idx': 26, u'name': u'word_freq_george'},\n",
       "    {u'idx': 27, u'name': u'word_freq_650'},\n",
       "    {u'idx': 28, u'name': u'word_freq_lab'},\n",
       "    {u'idx': 29, u'name': u'word_freq_labs'},\n",
       "    {u'idx': 30, u'name': u'word_freq_telnet'},\n",
       "    {u'idx': 31, u'name': u'word_freq_857'},\n",
       "    {u'idx': 32, u'name': u'word_freq_data'},\n",
       "    {u'idx': 33, u'name': u'word_freq_415'},\n",
       "    {u'idx': 34, u'name': u'word_freq_85'},\n",
       "    {u'idx': 35, u'name': u'word_freq_technology'},\n",
       "    {u'idx': 36, u'name': u'word_freq_1999'},\n",
       "    {u'idx': 37, u'name': u'word_freq_parts'},\n",
       "    {u'idx': 38, u'name': u'word_freq_pm'},\n",
       "    {u'idx': 39, u'name': u'word_freq_direct'},\n",
       "    {u'idx': 40, u'name': u'word_freq_cs'},\n",
       "    {u'idx': 41, u'name': u'word_freq_meeting'},\n",
       "    {u'idx': 42, u'name': u'word_freq_original'},\n",
       "    {u'idx': 43, u'name': u'word_freq_project'},\n",
       "    {u'idx': 44, u'name': u'word_freq_re'},\n",
       "    {u'idx': 45, u'name': u'word_freq_edu'},\n",
       "    {u'idx': 46, u'name': u'word_freq_table'},\n",
       "    {u'idx': 47, u'name': u'word_freq_conference'},\n",
       "    {u'idx': 48, u'name': u'char_freq_a59'},\n",
       "    {u'idx': 49, u'name': u'char_freq_a40'},\n",
       "    {u'idx': 50, u'name': u'char_freq_a91'},\n",
       "    {u'idx': 51, u'name': u'char_freq_a33'},\n",
       "    {u'idx': 52, u'name': u'char_freq_a36'},\n",
       "    {u'idx': 53, u'name': u'char_freq_a35'},\n",
       "    {u'idx': 54, u'name': u'capital_run_length_average'},\n",
       "    {u'idx': 55, u'name': u'capital_run_length_longest'},\n",
       "    {u'idx': 56, u'name': u'capital_run_length_total'}]},\n",
       "  u'num_attrs': 57}}"
      ]
     },
     "execution_count": 31,
     "metadata": {},
     "output_type": "execute_result"
    }
   ],
   "source": [
    "X_all.schema['features'].metadata"
   ]
  },
  {
   "cell_type": "code",
   "execution_count": 32,
   "metadata": {
    "collapsed": true
   },
   "outputs": [],
   "source": [
    "from pyspark.ml.feature import ChiSqSelector"
   ]
  },
  {
   "cell_type": "code",
   "execution_count": 33,
   "metadata": {
    "collapsed": true
   },
   "outputs": [],
   "source": [
    "cs_selector = ChiSqSelector(numTopFeatures=10, outputCol='selected_features',featuresCol='features').fit(X_all)\n",
    "X_chisq = cs_selector.transform(X_all)"
   ]
  },
  {
   "cell_type": "code",
   "execution_count": 34,
   "metadata": {},
   "outputs": [
    {
     "name": "stdout",
     "output_type": "stream",
     "text": [
      "+--------------------+-----+--------------------+\n",
      "|            features|label|   selected_features|\n",
      "+--------------------+-----+--------------------+\n",
      "|(57,[1,2,4,11,15,...|  1.0|(10,[1,2,3],[0.64...|\n",
      "|(57,[0,1,2,4,5,6,...|  1.0|(10,[0,1,2,3,4,5,...|\n",
      "|(57,[0,2,4,5,6,7,...|  1.0|(10,[0,2,3,4,5,6,...|\n",
      "|(57,[4,6,7,8,9,10...|  1.0|(10,[3,5,6,7,8,9]...|\n",
      "|(57,[4,6,7,8,9,10...|  1.0|(10,[3,5,6,7,8,9]...|\n",
      "+--------------------+-----+--------------------+\n",
      "only showing top 5 rows\n",
      "\n"
     ]
    }
   ],
   "source": [
    "X_chisq.show(5)"
   ]
  },
  {
   "cell_type": "code",
   "execution_count": 35,
   "metadata": {},
   "outputs": [
    {
     "data": {
      "text/plain": [
       "{u'ml_attr': {u'attrs': {u'numeric': [{u'idx': 0, u'name': u'word_freq_make'},\n",
       "    {u'idx': 1, u'name': u'word_freq_address'},\n",
       "    {u'idx': 2, u'name': u'word_freq_all'},\n",
       "    {u'idx': 3, u'name': u'word_freq_our'},\n",
       "    {u'idx': 4, u'name': u'word_freq_over'},\n",
       "    {u'idx': 5, u'name': u'word_freq_remove'},\n",
       "    {u'idx': 6, u'name': u'word_freq_internet'},\n",
       "    {u'idx': 7, u'name': u'word_freq_order'},\n",
       "    {u'idx': 8, u'name': u'word_freq_mail'},\n",
       "    {u'idx': 9, u'name': u'word_freq_receive'}]},\n",
       "  u'num_attrs': 10}}"
      ]
     },
     "execution_count": 35,
     "metadata": {},
     "output_type": "execute_result"
    }
   ],
   "source": [
    "X_chisq.schema['selected_features'].metadata"
   ]
  },
  {
   "cell_type": "code",
   "execution_count": 206,
   "metadata": {},
   "outputs": [
    {
     "data": {
      "text/plain": [
       "['word_freq_make',\n",
       " 'word_freq_address',\n",
       " 'word_freq_all',\n",
       " 'word_freq_our',\n",
       " 'word_freq_over',\n",
       " 'word_freq_remove',\n",
       " 'word_freq_internet',\n",
       " 'word_freq_order',\n",
       " 'word_freq_mail',\n",
       " 'word_freq_receive']"
      ]
     },
     "execution_count": 206,
     "metadata": {},
     "output_type": "execute_result"
    }
   ],
   "source": [
    "[input_features[i] for i in cs_selector.selectedFeatures]"
   ]
  },
  {
   "cell_type": "code",
   "execution_count": 40,
   "metadata": {
    "collapsed": true
   },
   "outputs": [],
   "source": [
    "from pyspark.ml.classification import DecisionTreeClassifier"
   ]
  },
  {
   "cell_type": "code",
   "execution_count": 207,
   "metadata": {},
   "outputs": [
    {
     "name": "stdout",
     "output_type": "stream",
     "text": [
      "+--------------------+-----+\n",
      "|            features|label|\n",
      "+--------------------+-----+\n",
      "|(57,[1,2,4,11,15,...|  1.0|\n",
      "|(57,[0,1,2,4,5,6,...|  1.0|\n",
      "|(57,[0,2,4,5,6,7,...|  1.0|\n",
      "|(57,[4,6,7,8,9,10...|  1.0|\n",
      "|(57,[4,6,7,8,9,10...|  1.0|\n",
      "+--------------------+-----+\n",
      "only showing top 5 rows\n",
      "\n"
     ]
    }
   ],
   "source": [
    "X_all.show(5)"
   ]
  },
  {
   "cell_type": "code",
   "execution_count": 63,
   "metadata": {
    "collapsed": true
   },
   "outputs": [],
   "source": [
    "assembler = VectorAssembler(inputCols=input_features, outputCol='assembled_features')"
   ]
  },
  {
   "cell_type": "code",
   "execution_count": 37,
   "metadata": {},
   "outputs": [
    {
     "data": {
      "text/plain": [
       "57"
      ]
     },
     "execution_count": 37,
     "metadata": {},
     "output_type": "execute_result"
    }
   ],
   "source": [
    "len(input_features)"
   ]
  },
  {
   "cell_type": "code",
   "execution_count": 64,
   "metadata": {
    "collapsed": true
   },
   "outputs": [],
   "source": [
    "feature_selector = ChiSqSelector(featuresCol='assembled_features', outputCol='selected_features')"
   ]
  },
  {
   "cell_type": "code",
   "execution_count": 66,
   "metadata": {
    "collapsed": true
   },
   "outputs": [],
   "source": [
    "tree_model = DecisionTreeClassifier(maxDepth=5, featuresCol='selected_features')"
   ]
  },
  {
   "cell_type": "code",
   "execution_count": 42,
   "metadata": {
    "collapsed": true
   },
   "outputs": [],
   "source": [
    "from pyspark.ml import Pipeline as SparkPipeline"
   ]
  },
  {
   "cell_type": "code",
   "execution_count": 67,
   "metadata": {
    "collapsed": true
   },
   "outputs": [],
   "source": [
    "pipe = SparkPipeline(stages=[assembler, feature_selector, tree_model])"
   ]
  },
  {
   "cell_type": "code",
   "execution_count": 68,
   "metadata": {
    "collapsed": true
   },
   "outputs": [],
   "source": [
    "train, test = df.randomSplit([0.8, 0.2])"
   ]
  },
  {
   "cell_type": "code",
   "execution_count": 69,
   "metadata": {
    "collapsed": true
   },
   "outputs": [],
   "source": [
    "model = pipe.fit(train)"
   ]
  },
  {
   "cell_type": "code",
   "execution_count": 46,
   "metadata": {
    "collapsed": true
   },
   "outputs": [],
   "source": [
    "from pyspark.ml.evaluation import BinaryClassificationEvaluator"
   ]
  },
  {
   "cell_type": "code",
   "execution_count": 70,
   "metadata": {},
   "outputs": [
    {
     "data": {
      "text/plain": [
       "0.8528091216615807"
      ]
     },
     "execution_count": 70,
     "metadata": {},
     "output_type": "execute_result"
    }
   ],
   "source": [
    "BinaryClassificationEvaluator().evaluate(model.transform(test)) #AUC"
   ]
  },
  {
   "cell_type": "code",
   "execution_count": 48,
   "metadata": {
    "collapsed": true
   },
   "outputs": [],
   "source": [
    "from pyspark.ml.tuning import CrossValidator, ParamGridBuilder"
   ]
  },
  {
   "cell_type": "code",
   "execution_count": 81,
   "metadata": {
    "collapsed": true
   },
   "outputs": [],
   "source": [
    "param_grid = (ParamGridBuilder()\n",
    "              .addGrid(tree_model.maxDepth, [2,4,6])\n",
    "              .addGrid(feature_selector.numTopFeatures, [5, 10])\n",
    "              .build())"
   ]
  },
  {
   "cell_type": "code",
   "execution_count": 82,
   "metadata": {
    "collapsed": true
   },
   "outputs": [],
   "source": [
    "cross_validation = CrossValidator(estimator=pipe,\n",
    "                                  estimatorParamMaps=param_grid,\n",
    "                                  evaluator=BinaryClassificationEvaluator(),\n",
    "                                  numFolds=3)"
   ]
  },
  {
   "cell_type": "code",
   "execution_count": 83,
   "metadata": {
    "collapsed": true
   },
   "outputs": [],
   "source": [
    "vc_model = cross_validation.fit(df)"
   ]
  },
  {
   "cell_type": "code",
   "execution_count": 84,
   "metadata": {},
   "outputs": [
    {
     "data": {
      "text/plain": [
       "[0.6029003203493974,\n",
       " 0.40154952633915514,\n",
       " 0.3668465604187714,\n",
       " 0.37857501954760564,\n",
       " 0.35723730720254887,\n",
       " 0.3139254835323284]"
      ]
     },
     "execution_count": 84,
     "metadata": {},
     "output_type": "execute_result"
    }
   ],
   "source": [
    "vc_model.avgMetrics"
   ]
  },
  {
   "cell_type": "code",
   "execution_count": 92,
   "metadata": {
    "collapsed": true
   },
   "outputs": [],
   "source": [
    "import numpy as np"
   ]
  },
  {
   "cell_type": "code",
   "execution_count": 93,
   "metadata": {},
   "outputs": [
    {
     "data": {
      "text/plain": [
       "{Param(parent=u'DecisionTreeClassifier_4d6c8ae3ab982daa99b8', name='maxDepth', doc='Maximum depth of the tree. (>= 0) E.g., depth 0 means 1 leaf node; depth 1 means 1 internal node + 2 leaf nodes.'): 2,\n",
       " Param(parent=u'ChiSqSelector_4d2095dc465107938a6c', name='numTopFeatures', doc='Number of features that selector will select, ordered by ascending p-value. If the number of features is < numTopFeatures, then this will select all features.'): 5}"
      ]
     },
     "execution_count": 93,
     "metadata": {},
     "output_type": "execute_result"
    }
   ],
   "source": [
    "vc_model.getEstimatorParamMaps()[np.argmax(vc_model.avgMetrics)]"
   ]
  },
  {
   "cell_type": "code",
   "execution_count": 95,
   "metadata": {
    "collapsed": true
   },
   "outputs": [],
   "source": [
    "from pyspark.ml.tuning import TrainValidationSplit"
   ]
  },
  {
   "cell_type": "code",
   "execution_count": 96,
   "metadata": {
    "collapsed": true
   },
   "outputs": [],
   "source": [
    "train_test = TrainValidationSplit(estimator=pipe,\n",
    "                                  estimatorParamMaps=param_grid,\n",
    "                                  evaluator=BinaryClassificationEvaluator())"
   ]
  },
  {
   "cell_type": "code",
   "execution_count": 97,
   "metadata": {
    "collapsed": true
   },
   "outputs": [],
   "source": [
    "tv_model = train_test.fit(df)"
   ]
  },
  {
   "cell_type": "code",
   "execution_count": 98,
   "metadata": {},
   "outputs": [
    {
     "data": {
      "text/plain": [
       "[0.6052208698030634,\n",
       " 0.3882285657449771,\n",
       " 0.3180528272329421,\n",
       " 0.24216418838273324,\n",
       " 0.3324003506067237,\n",
       " 0.27447098169882633]"
      ]
     },
     "execution_count": 98,
     "metadata": {},
     "output_type": "execute_result"
    }
   ],
   "source": [
    "tv_model.validationMetrics"
   ]
  },
  {
   "cell_type": "markdown",
   "metadata": {
    "collapsed": true
   },
   "source": [
    "# NLP"
   ]
  },
  {
   "cell_type": "code",
   "execution_count": 1,
   "metadata": {
    "collapsed": true
   },
   "outputs": [],
   "source": [
    "import wikipedia"
   ]
  },
  {
   "cell_type": "code",
   "execution_count": 2,
   "metadata": {
    "collapsed": true
   },
   "outputs": [],
   "source": [
    "obama_page = wikipedia.page(\"Barack Obama\")"
   ]
  },
  {
   "cell_type": "code",
   "execution_count": 99,
   "metadata": {
    "collapsed": true
   },
   "outputs": [],
   "source": [
    "import re"
   ]
  },
  {
   "cell_type": "code",
   "execution_count": 103,
   "metadata": {
    "collapsed": true
   },
   "outputs": [],
   "source": [
    "match = re.search('president', obama_page.content)"
   ]
  },
  {
   "cell_type": "code",
   "execution_count": 104,
   "metadata": {},
   "outputs": [
    {
     "data": {
      "text/plain": [
       "<_sre.SRE_Match at 0x1084f0b28>"
      ]
     },
     "execution_count": 104,
     "metadata": {},
     "output_type": "execute_result"
    }
   ],
   "source": [
    "match"
   ]
  },
  {
   "cell_type": "code",
   "execution_count": 113,
   "metadata": {},
   "outputs": [
    {
     "data": {
      "text/plain": [
       "[u'president',\n",
       " u'president',\n",
       " u'president',\n",
       " u'president',\n",
       " u'president',\n",
       " u'president',\n",
       " u'president',\n",
       " u'president',\n",
       " u'president',\n",
       " u'president',\n",
       " u'president',\n",
       " u'president',\n",
       " u'president',\n",
       " u'president',\n",
       " u'president',\n",
       " u'president',\n",
       " u'president',\n",
       " u'president',\n",
       " u'president',\n",
       " u'president',\n",
       " u'president',\n",
       " u'president',\n",
       " u'president',\n",
       " u'president',\n",
       " u'president',\n",
       " u'president',\n",
       " u'president',\n",
       " u'president',\n",
       " u'president',\n",
       " u'president',\n",
       " u'president',\n",
       " u'president',\n",
       " u'president',\n",
       " u'president',\n",
       " u'president',\n",
       " u'president',\n",
       " u'president',\n",
       " u'president',\n",
       " u'president',\n",
       " u'president',\n",
       " u'president',\n",
       " u'president',\n",
       " u'president',\n",
       " u'president',\n",
       " u'president',\n",
       " u'president',\n",
       " u'president',\n",
       " u'president',\n",
       " u'president',\n",
       " u'president']"
      ]
     },
     "execution_count": 113,
     "metadata": {},
     "output_type": "execute_result"
    }
   ],
   "source": [
    "re.findall('president', obama_page.content)"
   ]
  },
  {
   "cell_type": "code",
   "execution_count": 115,
   "metadata": {},
   "outputs": [
    {
     "data": {
      "text/plain": [
       "True"
      ]
     },
     "execution_count": 115,
     "metadata": {},
     "output_type": "execute_result"
    }
   ],
   "source": [
    "re.match('president', obama_page.content) == None"
   ]
  },
  {
   "cell_type": "code",
   "execution_count": 117,
   "metadata": {
    "collapsed": true
   },
   "outputs": [
    {
     "data": {
      "text/plain": [
       "[u'President',\n",
       " u'president',\n",
       " u'president',\n",
       " u'president',\n",
       " u'president',\n",
       " u'President',\n",
       " u'President',\n",
       " u'President',\n",
       " u'president',\n",
       " u'president',\n",
       " u'president',\n",
       " u'president',\n",
       " u'president',\n",
       " u'President',\n",
       " u'president',\n",
       " u'President',\n",
       " u'President',\n",
       " u'President',\n",
       " u'president',\n",
       " u'President',\n",
       " u'president',\n",
       " u'president',\n",
       " u'president',\n",
       " u'president',\n",
       " u'president',\n",
       " u'president',\n",
       " u'president',\n",
       " u'president',\n",
       " u'President',\n",
       " u'president',\n",
       " u'president',\n",
       " u'president',\n",
       " u'president',\n",
       " u'President',\n",
       " u'President',\n",
       " u'president',\n",
       " u'president',\n",
       " u'President',\n",
       " u'President',\n",
       " u'President',\n",
       " u'president',\n",
       " u'president',\n",
       " u'president',\n",
       " u'president',\n",
       " u'president',\n",
       " u'President',\n",
       " u'President',\n",
       " u'President',\n",
       " u'President',\n",
       " u'president',\n",
       " u'President',\n",
       " u'President',\n",
       " u'President',\n",
       " u'president',\n",
       " u'President',\n",
       " u'president',\n",
       " u'President',\n",
       " u'President',\n",
       " u'President',\n",
       " u'President',\n",
       " u'President',\n",
       " u'President',\n",
       " u'president',\n",
       " u'President',\n",
       " u'President',\n",
       " u'President',\n",
       " u'president',\n",
       " u'president',\n",
       " u'president',\n",
       " u'president',\n",
       " u'president',\n",
       " u'president',\n",
       " u'President',\n",
       " u'president',\n",
       " u'President',\n",
       " u'president',\n",
       " u'President',\n",
       " u'President',\n",
       " u'President',\n",
       " u'President',\n",
       " u'president',\n",
       " u'president',\n",
       " u'President',\n",
       " u'President',\n",
       " u'President',\n",
       " u'President',\n",
       " u'President',\n",
       " u'President',\n",
       " u'President',\n",
       " u'president',\n",
       " u'President',\n",
       " u'president',\n",
       " u'president',\n",
       " u'President',\n",
       " u'president',\n",
       " u'president',\n",
       " u'President',\n",
       " u'President',\n",
       " u'president']"
      ]
     },
     "execution_count": 117,
     "metadata": {},
     "output_type": "execute_result"
    }
   ],
   "source": [
    "re.findall('[Pp]resident', obama_page.content)"
   ]
  },
  {
   "cell_type": "code",
   "execution_count": 123,
   "metadata": {},
   "outputs": [
    {
     "data": {
      "text/plain": [
       "u'President o'"
      ]
     },
     "execution_count": 123,
     "metadata": {},
     "output_type": "execute_result"
    }
   ],
   "source": [
    "re.search('[Pp]resident [A-Za-z]', obama_page.content).group(0)"
   ]
  },
  {
   "cell_type": "code",
   "execution_count": 128,
   "metadata": {},
   "outputs": [
    {
     "data": {
      "text/plain": [
       "u'of'"
      ]
     },
     "execution_count": 128,
     "metadata": {},
     "output_type": "execute_result"
    }
   ],
   "source": [
    "re.search('[Pp]resident ([A-Za-z]+)', obama_page.content).group(1)"
   ]
  },
  {
   "cell_type": "code",
   "execution_count": 129,
   "metadata": {
    "collapsed": true
   },
   "outputs": [
    {
     "data": {
      "text/plain": [
       "[u'of',\n",
       " u'of',\n",
       " u'to',\n",
       " u'of',\n",
       " u'have',\n",
       " u'of',\n",
       " u'of',\n",
       " u'and',\n",
       " u'Bush',\n",
       " u'Bush',\n",
       " u'of',\n",
       " u'of',\n",
       " u'he',\n",
       " u'Bill',\n",
       " u'and',\n",
       " u'in',\n",
       " u'since',\n",
       " u'Obama',\n",
       " u'took',\n",
       " u'George',\n",
       " u'Ronald',\n",
       " u'Obama',\n",
       " u'to',\n",
       " u'to',\n",
       " u'mentioned',\n",
       " u'Valerie',\n",
       " u'Joe',\n",
       " u'of',\n",
       " u'Obama',\n",
       " u'Obama',\n",
       " u'Obama',\n",
       " u'Joe',\n",
       " u'Biden',\n",
       " u'to',\n",
       " u'Dmitry',\n",
       " u'Obama',\n",
       " u'Assad',\n",
       " u'Obama',\n",
       " u'Ra',\n",
       " u'Barack',\n",
       " u'to',\n",
       " u'to',\n",
       " u'ever',\n",
       " u'to',\n",
       " u'Obama',\n",
       " u'of',\n",
       " u'to',\n",
       " u'Barack',\n",
       " u'Obama',\n",
       " u'Franklin',\n",
       " u'Bill',\n",
       " u'Obama',\n",
       " u'George',\n",
       " u'Obama',\n",
       " u'Jimmy',\n",
       " u'Ronald']"
      ]
     },
     "execution_count": 129,
     "metadata": {},
     "output_type": "execute_result"
    }
   ],
   "source": [
    "re.findall('[Pp]resident ([A-Za-z]+)', obama_page.content)"
   ]
  },
  {
   "cell_type": "code",
   "execution_count": 146,
   "metadata": {
    "collapsed": true
   },
   "outputs": [],
   "source": [
    "words = [i.lower() for i in obama_page.content.split(' ')]"
   ]
  },
  {
   "cell_type": "code",
   "execution_count": 147,
   "metadata": {},
   "outputs": [
    {
     "data": {
      "text/plain": [
       "0.3134826883910387"
      ]
     },
     "execution_count": 147,
     "metadata": {},
     "output_type": "execute_result"
    }
   ],
   "source": [
    "float(len(set(words))) / len(words)"
   ]
  },
  {
   "cell_type": "code",
   "execution_count": 279,
   "metadata": {
    "collapsed": true
   },
   "outputs": [],
   "source": [
    "from nltk.stem.porter import PorterStemmer"
   ]
  },
  {
   "cell_type": "code",
   "execution_count": 280,
   "metadata": {
    "collapsed": true
   },
   "outputs": [],
   "source": [
    "stemmer = PorterStemmer()"
   ]
  },
  {
   "cell_type": "code",
   "execution_count": 140,
   "metadata": {},
   "outputs": [
    {
     "data": {
      "text/plain": [
       "u'care'"
      ]
     },
     "execution_count": 140,
     "metadata": {},
     "output_type": "execute_result"
    }
   ],
   "source": [
    "stemmer.stem('carefully')"
   ]
  },
  {
   "cell_type": "code",
   "execution_count": 145,
   "metadata": {},
   "outputs": [
    {
     "data": {
      "text/plain": [
       "u'scar'"
      ]
     },
     "execution_count": 145,
     "metadata": {},
     "output_type": "execute_result"
    }
   ],
   "source": [
    "stemmer.stem('scarred')"
   ]
  },
  {
   "cell_type": "code",
   "execution_count": 148,
   "metadata": {},
   "outputs": [
    {
     "data": {
      "text/plain": [
       "0.27177189409368635"
      ]
     },
     "execution_count": 148,
     "metadata": {},
     "output_type": "execute_result"
    }
   ],
   "source": [
    "float(len(set([stemmer.stem(word) for word in words]))) / len(words)"
   ]
  },
  {
   "cell_type": "code",
   "execution_count": 149,
   "metadata": {
    "collapsed": true
   },
   "outputs": [],
   "source": [
    "from nltk.stem.wordnet import WordNetLemmatizer"
   ]
  },
  {
   "cell_type": "code",
   "execution_count": 150,
   "metadata": {
    "collapsed": true
   },
   "outputs": [],
   "source": [
    "lemmatizer = WordNetLemmatizer()"
   ]
  },
  {
   "cell_type": "code",
   "execution_count": 155,
   "metadata": {},
   "outputs": [
    {
     "data": {
      "text/plain": [
       "u'cat'"
      ]
     },
     "execution_count": 155,
     "metadata": {},
     "output_type": "execute_result"
    }
   ],
   "source": [
    "lemmatizer.lemmatize('cats')"
   ]
  },
  {
   "cell_type": "code",
   "execution_count": 157,
   "metadata": {},
   "outputs": [
    {
     "data": {
      "text/plain": [
       "u'be'"
      ]
     },
     "execution_count": 157,
     "metadata": {},
     "output_type": "execute_result"
    }
   ],
   "source": [
    "lemmatizer.lemmatize('were', pos='v')"
   ]
  },
  {
   "cell_type": "code",
   "execution_count": 164,
   "metadata": {},
   "outputs": [
    {
     "data": {
      "text/plain": [
       "u'be'"
      ]
     },
     "execution_count": 164,
     "metadata": {},
     "output_type": "execute_result"
    }
   ],
   "source": [
    "lemmatizer.lemmatize('are', pos='v')"
   ]
  },
  {
   "cell_type": "code",
   "execution_count": 165,
   "metadata": {
    "collapsed": true
   },
   "outputs": [],
   "source": [
    "import nltk.data "
   ]
  },
  {
   "cell_type": "code",
   "execution_count": 166,
   "metadata": {
    "collapsed": true
   },
   "outputs": [],
   "source": [
    "sent_detector = nltk.data.load('tokenizers/punkt/english.pickle')"
   ]
  },
  {
   "cell_type": "code",
   "execution_count": 168,
   "metadata": {
    "collapsed": true
   },
   "outputs": [
    {
     "name": "stdout",
     "output_type": "stream",
     "text": [
      "He previously served in the U.S. Senate representing Illinois from 2005 to 2008, and in the Illinois State Senate from 1997 to 2004.\n",
      "Obama represented the 13th District for three terms in the Illinois Senate from 1997 to 2004, when he ran for the U.S. Senate.\n",
      "In foreign policy, Obama increased U.S. troop levels in Afghanistan, reduced nuclear weapons with the U.S.-Russian New START treaty, and ended military involvement in the Iraq War.\n",
      "During his second term, Obama promoted greater inclusiveness for LGBT Americans, with his administration filing briefs that urged the Supreme Court to strike down same-sex marriage bans as unconstitutional (United States v. Windsor and Obergefell v. Hodges).\n",
      "In foreign policy, Obama ordered military intervention in Iraq in response to gains made by ISIL after the 2011 withdrawal from Iraq, continued the process of ending U.S. combat operations in Afghanistan, promoted discussions that led to the 2015 Paris Agreement on global climate change, initiated the sanctions against Russia following the invasion in Ukraine, brokered a nuclear deal with Iran, and normalized U.S. relations with Cuba.\n",
      "He currently resides in Washington, D.C. His presidential library will be built in Chicago.\n",
      "His father, Barack Obama Sr. (1936–1982), was a married Luo Kenyan man from Nyang'oma Kogelo.\n",
      "During that time, Obama Sr. completed his undergraduate degree in economics in Hawaii in June 1962, then left to attend graduate school on a scholarship at Harvard University, where he earned an M.A.\n",
      "Obama Sr. returned to Kenya in 1964, where he married for a third time.\n",
      "=== Education ===\n",
      "From ages six to ten, Obama attended local Indonesian-language schools: Santo Fransiskus Asisi (St. Francis of Assisi) Catholic School for two years and Besuki Public School for one and a half years, supplemented by English-language Calvert School homeschooling by his mother.\n",
      "When they moved to Washington, D.C., in January 2009, the girls started at the Sidwell Friends School.\n",
      "Applying the proceeds of a book deal, the family moved in 2005 from a Hyde Park, Chicago condominium to a $1.6 million house in neighboring Kenwood, Chicago.\n",
      "In December 2007, Money estimated the Obama family's net worth at $1.3 million.\n",
      "Their 2009 tax return showed a household income of $5.5 million—up from about $4.2 million in 2007 and $1.6 million in 2005—mostly from sales of his books.\n",
      "On his 2010 income of $1.7 million, he gave 14% to non-profit organizations, including $131,000 to Fisher House Foundation, a charity assisting wounded veterans' families, allowing them to reside near where the veteran is receiving medical treatments.\n",
      "The Obama family has attended several Protestant churches since moving to Washington, D.C., in 2009, including Shiloh Baptist Church and St. John's Episcopal Church, as well as Evergreen Chapel at Camp David, but are not habitual church-goers.\n",
      "In 1994, he was listed as one of the lawyers in Buycks-Roberson v. Citibank Fed.\n",
      "Bank, 94 C 4094 (N.D. Ill.).\n",
      "During his 2004 general election campaign for the U.S. Senate, police representatives credited Obama for his active engagement with police organizations in enacting death penalty reforms.\n",
      "Obama resigned from the Illinois Senate in November 2004 following his election to the U.S. Senate.\n",
      "==== 2004 U.S. Senate campaign ====\n",
      "\n",
      "In May 2002, Obama commissioned a poll to assess his prospects in a 2004 U.S. Senate race.\n",
      "Obama was an early opponent of the George W. Bush administration's 2003 invasion of Iraq.\n",
      "In July 2004, Obama delivered the keynote address at the 2004 Democratic National Convention, seen by 9.1 million viewers.\n",
      "==== U.S.\n",
      "He introduced two initiatives that bore his name: Lugar–Obama, which expanded the Nunn–Lugar Cooperative Threat Reduction concept to conventional weapons; and the Federal Funding Accountability and Transparency Act of 2006, which authorized the establishment of USAspending.gov, a web search engine on federal spending.\n",
      "Obama won 52.9% of the popular vote to McCain's 45.7%.\n",
      "With 51.1% of the popular vote, Obama became the first Democratic president since Franklin D. Roosevelt to win the majority of the popular vote twice.\n",
      "In his first few days in office, Obama issued executive orders and presidential memoranda directing the U.S. military to develop plans to withdraw troops from Iraq.\n",
      "He ordered the closing of the Guantanamo Bay detention camp, but Congress prevented the closure by refusing to appropriate the required funds and preventing moving any Guantanamo detainee into the U.S. or to other countries.\n",
      "He also revoked President George W. Bush's restoration of President Ronald Reagan's Mexico City Policy prohibiting federal aid to international family planning organizations that perform or provide counseling about abortion.\n",
      "In a major space policy speech in April 2010, Obama announced a planned change in direction at NASA, the U.S. space agency.\n",
      "On May 9, 2012, shortly after the official launch of his campaign for re-election as president, Obama said his views had evolved, and he publicly affirmed his personal support for the legalization of same-sex marriage, becoming the first sitting U.S. president to do so.\n",
      "In 2013, the Obama administration filed briefs that urged the Supreme Court to rule in favor of same-sex couples in the cases of Hollingsworth v. Perry (regarding same-sex marriage) and United States v. Windsor (regarding the Defense of Marriage Act).\n",
      "Then, following the Supreme Court's 2015 decision in Obergefell v. Hodges (ruling same-sex marriage to be a fundamental right), Obama asserted that, \"This decision affirms what millions of Americans already believe in their hearts: When all Americans are treated as equal we are all more free.\"\n",
      "Over the following months the White House set terms for both firms' bankruptcies, including the sale of Chrysler to Italian automaker Fiat and a reorganization of GM giving the U.S. government a temporary 60% equity stake in the company, with the Canadian government taking a 12% stake.\n",
      "Spending and loan guarantees from the Federal Reserve and the Treasury Department authorized by the Bush and Obama administrations totaled about $11.5 trillion, but only $3 trillion was spent by the end of November 2009.\n",
      "Obama and the Congressional Budget Office predicted the 2010 budget deficit would be $1.5 trillion or 10.6% of the nation's gross domestic product (GDP) compared to the 2009 deficit of $1.4 trillion or 9.9% of GDP.\n",
      "For 2011, the administration predicted the deficit will shrink to $1.34 trillion, and the 10-year deficit will increase to $8.53 trillion or 90% of GDP.\n",
      "The most recent increase in the U.S. debt ceiling to $17.2 trillion took effect in February 2014.\n",
      "The legislation enforces limits on discretionary spending until 2021, establishes a procedure to increase the debt limit, creates a Congressional Joint Select Committee on Deficit Reduction to propose further deficit reduction with a stated goal of achieving at least $1.5 trillion in budgetary savings over 10 years, and establishes automatic procedures for reducing spending by as much as $1.2 trillion if legislation originating with the new joint select committee does not achieve such savings.\n",
      "By passing the legislation, Congress was able to prevent a U.S. government default on its obligations.\n",
      "As it did throughout 2008, the unemployment rate rose in 2009, reaching a peak in October at 10.0% and averaging 10.0% in the fourth quarter.\n",
      "Following a decrease to 9.7% in the first quarter of 2010, the unemployment rate fell to 9.6% in the second quarter, where it remained for the rest of the year.\n",
      "Between February and December 2010, employment rose by 0.8%, which was less than the average of 1.9% experienced during comparable periods in the past four employment recoveries.\n",
      "By November 2012, the unemployment rate fell to 7.7%, decreasing to 6.7% in the last month of 2013.\n",
      "During 2014, the unemployment rate continued to decline, falling to 6.3% in the first quarter.\n",
      "GDP growth returned in the third quarter of 2009, expanding at a rate of 1.6%, followed by a 5.0% increase in the fourth quarter.\n",
      "Growth continued in 2010, posting an increase of 3.7% in the first quarter, with lesser gains throughout the rest of the year.\n",
      "Overall, the economy expanded at a rate of 2.9% in 2010.\n",
      "The CBO released a report stating that the stimulus bill increased employment by 1–2.1 million, while conceding that \"It is impossible to determine how many of the reported jobs would have existed in the absence of the stimulus package.\"\n",
      "He used his power under the Antiquities Act to create 25 new national monuments during his presidency and expand four others, protecting a total of 553,000,000 acres (224,000,000 ha) of federal lands and waters, more than any other U.S. president.\n",
      "On July 14, 2009, House Democratic leaders introduced a 1,017-page plan for overhauling the U.S. health care system, which Obama wanted Congress to approve by the end of 2009.\n",
      "The ACA includes health-related provisions, most of which took effect in 2014, including expanding Medicaid eligibility for people making up to 133% of the federal poverty level (FPL) starting in 2014, subsidizing insurance premiums for people making up to 400% of the FPL ($88,000 for family of four in 2010) so their maximum \"out-of-pocket\" payment for annual premiums will be from 2% to 9.5% of income, providing incentives for businesses to provide health care benefits, prohibiting denial of coverage and denial of claims based on pre-existing conditions, establishing health insurance exchanges, prohibiting annual coverage caps, and support for medical research.\n",
      "On June 28, 2012, the Supreme Court ruled by a 5–4 vote in National Federation of Independent Business v. Sebelius that the mandate was constitutional under the U.S. Congress's taxing authority.\n",
      "In Burwell v. Hobby Lobby the Court ruled that \"closely-held\" for-profit corporations could be exempt on religious grounds under the Religious Freedom Restoration Act from regulations adopted under the ACA that would have required them to pay for insurance that covered certain contraceptives.\n",
      "In June 2015, the Court ruled 6–3 in King v. Burwell that subsidies to help individuals and families purchase health insurance were authorized for those doing so on both the federal exchange and state exchanges, not only those purchasing plans \"established by the State\", as the statute reads.\n",
      "=== Foreign policy ===\n",
      "\n",
      "In February and March 2009, Vice President Joe Biden and Secretary of State Hillary Rodham Clinton made separate overseas trips to announce a \"new era\" in U.S. foreign relations with Russia and Europe, using the terms \"break\" and \"reset\" to signal major changes from the policies of the preceding administration.\n",
      "On September 24, 2009, Obama became the first sitting U.S. president to preside over a meeting of the United Nations Security Council.\n",
      "Obama and Medvedev signed the New START treaty in April 2010, and the U.S. Senate ratified it in December 2010.\n",
      "In March 2015, Obama declared that he had authorized U.S. forces to provide logistical and intelligence support to the Saudis in their military intervention in Yemen, establishing a \"Joint Planning Cell\" with Saudi Arabia.\n",
      "On August 19, 2010, the last U.S. combat brigade exited Iraq.\n",
      "On October 21, 2011 President Obama announced that all U.S. troops would leave Iraq in time to be \"home for the holidays\".\n",
      "In June 2014, following the capture of Mosul by Daesh, Obama sent 275 troops to provide support and security for U.S. personnel and the U.S. Embassy in Baghdad.\n",
      "In August 2014, during the Sinjar massacre, Obama ordered a campaign of U.S. airstrikes against Daesh.\n",
      "By the end of 2014, 3,100 American ground troops were committed to the conflict and 16,000 sorties were flown over the battlefield, primarily by U.S. Air Force and Navy pilots.\n",
      "In the spring of 2015, with the addition of the \"Panther Brigade\" of the 82nd Airborne Division the number of U.S. ground troops in Iraq surged to 4,400, and by July American-led coalition air forces counted 44,000 sorties over the battlefield.\n",
      "==== War in Afghanistan ====\n",
      "\n",
      "Early in his presidency, Obama moved to bolster U.S. troop strength in Afghanistan.\n",
      "He announced an increase in U.S. troop levels to 17,000 military personnel in February 2009 to \"stabilize a deteriorating situation in Afghanistan\", an area he said had not received the \"strategic attention, direction and resources it urgently requires\".\n",
      "He replaced the military commander in Afghanistan, General David D. McKiernan, with former Special Forces commander Lt. Gen. Stanley A. McChrystal in May 2009, indicating that McChrystal's Special Forces experience would facilitate the use of counterinsurgency tactics in the war.\n",
      "In February 2013, Obama said the U.S. military would reduce the troop level in Afghanistan from 68,000 to 34,000 U.S. troops by February 2014.\n",
      "In October 2015, the White House announced a plan to keep U.S.\n",
      "During the initial years of the Obama administration, the U.S. increased military cooperation with Israel, including increased military aid, re-establishment of the U.S.-Israeli Joint Political Military Group and the Defense Policy Advisory Group, and an increase in visits among high-level military officials of both countries.\n",
      "In March, as forces loyal to Gaddafi advanced on rebels across Libya, calls for a no-fly zone came from around the world, including Europe, the Arab League, and a resolution passed unanimously by the U.S. Senate.\n",
      "The next day, on Obama's orders, the U.S. military took part in air strikes to destroy the Libyan government's air defense capabilities to protect civilians and enforce a no-fly-zone, including the use of Tomahawk missiles, B-2 Spirits, and fighter jets.\n",
      "In 2014, Obama authorized an air campaign aimed primarily at ISIL, but repeatedly promised that the U.S. would not deploy ground troops in Syria.\n",
      "Reaction to the announcement was positive across party lines, including from former presidents Bill Clinton and George W. Bush, and from many countries around the world.\n",
      "The Vatican first became involved in 2013 when Pope Francis advised the U.S. and Cuba to exchange prisoners as a gesture of goodwill.\n",
      "Obama visited Havana, Cuba for two days in March 2016, becoming the first sitting U.S. President to arrive since Calvin Coolidge in 1928.\n",
      "==== Africa ====\n",
      "Obama spoke in front of the African Union in Addis Ababa, Ethiopia, on July 29, 2015, the first sitting U.S. president to do so.\n",
      "During his July 2015 trip, Obama also was the first U.S. president ever to visit Kenya, which is the homeland of his father.\n",
      "==== Hiroshima speech ====\n",
      "On May 27, 2016, 2½ months before the 71st anniversary of the U.S. atomic bombing of Hiroshima that ended World War II, Obama became the first sitting American president to visit Hiroshima, Japan.\n",
      "==== Russia ====\n",
      "\n",
      "After Russia's invasion of Crimea in 2014, military intervention in Syria in 2015, and the interference in the 2016 presidential election in the 2016 U.S. presidential election, Obama's Russia policy was widely seen as a failure.\n",
      "In a February 2009 poll conducted in Western Europe and the U.S. by Harris Interactive for France 24 and the International Herald Tribune, Obama was rated as the most respected world leader, as well as the most powerful.\n",
      "Obama is the fourth U.S. president to be awarded the Nobel Peace Prize and the third to become a Nobel laureate while in office.\n",
      "The family rented a house in Kalorama, Washington, D.C.\n",
      "During the 2017 Democratic National Committee chairmanship election, the Obama administration pushed for Tom Perez to run against Keith Ellison and President Barack Obama personally called DNC members to vote for Perez.\n",
      "On March 2, 2017, the John F. Kennedy Presidential Library and Museum awarded the annual Profile in Courage Award to Obama \"for his enduring commitment to democratic ideals and elevating the standard of political courage.\"\n",
      "Together with the Health Care and Education Reconciliation Act amendment, it represents the most significant regulatory overhaul of the U.S. healthcare system since the passage of Medicare and Medicaid in 1965.\n",
      "According to the U.S. Bureau of Labor Statistics, the Obama administration created 11.3 million jobs from the month after the first inauguration of Barack Obama to the end of his term.\n",
      "Passed as a response to the financial crisis of 2007–08, it brought the most significant changes to financial regulation in the United States since the regulatory reform that followed the Great Depression under Democratic President Franklin D. Roosevelt.\n",
      "President Obama continued the drone strikes that President George W. Bush started during his presidency in Afghanistan, Iraq, Pakistan, Somalia, and Yemen.\n",
      "By contrast, the federal prison population increased significantly under US president Ronald Reagan, George H. W. Bush, Bill Clinton, and George W. Bush.\n",
      "Published online July 11, 2016. doi:10.1001/jama.2016.9797.\n",
      "Barack Obama at DMOZ\n",
      "Biography at the Biographical Directory of the United States Congress\n",
      "Profile at Project Vote Smart\n",
      "Financial information (federal office) at the Federal Election Commission\n",
      "Appearances on C-SPAN\n",
      "Barack Obama articles in the archive of the Chicago Tribune\n",
      "Collected news and commentary at the Tampa Bay Times's PolitiFact.com\n",
      "Collected news and commentary at The Washington Post's Fact Checker blog\n",
      "Barack Obama is officially one of the most consequential presidents in American history by Vox author Dylan Matthews on March 24, 2017.\n"
     ]
    }
   ],
   "source": [
    "for sentence in sent_detector.tokenize(obama_page.content):\n",
    "    if sentence.count('.') > 1:\n",
    "        print sentence"
   ]
  },
  {
   "cell_type": "code",
   "execution_count": 169,
   "metadata": {},
   "outputs": [
    {
     "data": {
      "text/plain": [
       "477"
      ]
     },
     "execution_count": 169,
     "metadata": {},
     "output_type": "execute_result"
    }
   ],
   "source": [
    "len(sent_detector.tokenize(obama_page.content))"
   ]
  },
  {
   "cell_type": "code",
   "execution_count": 170,
   "metadata": {},
   "outputs": [
    {
     "data": {
      "text/plain": [
       "25.733752620545072"
      ]
     },
     "execution_count": 170,
     "metadata": {},
     "output_type": "execute_result"
    }
   ],
   "source": [
    "float(len(words)) / len(sent_detector.tokenize(obama_page.content))"
   ]
  },
  {
   "cell_type": "code",
   "execution_count": 1,
   "metadata": {
    "collapsed": true
   },
   "outputs": [],
   "source": [
    "from nltk.probability import ConditionalFreqDist"
   ]
  },
  {
   "cell_type": "code",
   "execution_count": 4,
   "metadata": {
    "collapsed": true
   },
   "outputs": [],
   "source": [
    "from nltk import bigrams"
   ]
  },
  {
   "cell_type": "code",
   "execution_count": 8,
   "metadata": {},
   "outputs": [
    {
     "data": {
      "text/plain": [
       "[(u'B', u'a'), (u'a', u'r'), (u'r', u'a'), (u'a', u'c'), (u'c', u'k')]"
      ]
     },
     "execution_count": 8,
     "metadata": {},
     "output_type": "execute_result"
    }
   ],
   "source": [
    "list(bigrams(obama_page.content))[:5]"
   ]
  },
  {
   "cell_type": "code",
   "execution_count": 7,
   "metadata": {
    "collapsed": true
   },
   "outputs": [],
   "source": [
    "from nltk.tokenize import word_tokenize"
   ]
  },
  {
   "cell_type": "code",
   "execution_count": 9,
   "metadata": {
    "collapsed": true
   },
   "outputs": [],
   "source": [
    "tokenized_text = word_tokenize(obama_page.content)"
   ]
  },
  {
   "cell_type": "code",
   "execution_count": 10,
   "metadata": {},
   "outputs": [
    {
     "data": {
      "text/plain": [
       "[u'Barack', u'Hussein', u'Obama', u'II', u'(']"
      ]
     },
     "execution_count": 10,
     "metadata": {},
     "output_type": "execute_result"
    }
   ],
   "source": [
    "tokenized_text[:5]"
   ]
  },
  {
   "cell_type": "code",
   "execution_count": 12,
   "metadata": {},
   "outputs": [
    {
     "data": {
      "text/plain": [
       "[(u'Barack', u'Hussein'),\n",
       " (u'Hussein', u'Obama'),\n",
       " (u'Obama', u'II'),\n",
       " (u'II', u'('),\n",
       " (u'(', u'US')]"
      ]
     },
     "execution_count": 12,
     "metadata": {},
     "output_type": "execute_result"
    }
   ],
   "source": [
    "list(bigrams(tokenized_text))[:5]"
   ]
  },
  {
   "cell_type": "code",
   "execution_count": 47,
   "metadata": {
    "collapsed": true
   },
   "outputs": [],
   "source": [
    "lowercase_words = [token.lower() for token in tokenized_text]"
   ]
  },
  {
   "cell_type": "code",
   "execution_count": 49,
   "metadata": {
    "collapsed": true
   },
   "outputs": [],
   "source": [
    "cfd = ConditionalFreqDist(bigrams(lowercase_words))"
   ]
  },
  {
   "cell_type": "code",
   "execution_count": 50,
   "metadata": {},
   "outputs": [
    {
     "data": {
      "text/plain": [
       "FreqDist({u\"'s\": 2,\n",
       "          u',': 3,\n",
       "          u'.': 6,\n",
       "          u'and': 2,\n",
       "          u'assad': 1,\n",
       "          u'barack': 2,\n",
       "          u'biden': 1,\n",
       "          u'bill': 2,\n",
       "          u'bush': 2,\n",
       "          u'dmitry': 1,\n",
       "          u'ever': 1,\n",
       "          u'franklin': 1,\n",
       "          u'george': 2,\n",
       "          u'have': 1,\n",
       "          u'he': 1,\n",
       "          u'in': 1,\n",
       "          u'jimmy': 1,\n",
       "          u'joe': 2,\n",
       "          u'mentioned': 1,\n",
       "          u'obama': 11,\n",
       "          u'of': 9,\n",
       "          u'ra\\xfal': 1,\n",
       "          u'ronald': 2,\n",
       "          u'since': 1,\n",
       "          u'to': 8,\n",
       "          u'took': 1,\n",
       "          u'valerie': 1})"
      ]
     },
     "execution_count": 50,
     "metadata": {},
     "output_type": "execute_result"
    }
   ],
   "source": [
    "cfd['president']"
   ]
  },
  {
   "cell_type": "code",
   "execution_count": 51,
   "metadata": {
    "collapsed": true
   },
   "outputs": [],
   "source": [
    "def gen_text(word, bigram_cdf):\n",
    "    while True:\n",
    "        yield word\n",
    "        word = bigram_cdf[word].max()"
   ]
  },
  {
   "cell_type": "code",
   "execution_count": 52,
   "metadata": {
    "collapsed": true
   },
   "outputs": [],
   "source": [
    "from itertools import islice"
   ]
  },
  {
   "cell_type": "code",
   "execution_count": 53,
   "metadata": {},
   "outputs": [
    {
     "data": {
      "text/plain": [
       "['president',\n",
       " u'obama',\n",
       " u\"'s\",\n",
       " u'health',\n",
       " u'care',\n",
       " u'act',\n",
       " u'of',\n",
       " u'the',\n",
       " u'first',\n",
       " u'time']"
      ]
     },
     "execution_count": 53,
     "metadata": {},
     "output_type": "execute_result"
    }
   ],
   "source": [
    "list(islice(gen_text('president', cfd), 10))"
   ]
  },
  {
   "cell_type": "code",
   "execution_count": 54,
   "metadata": {},
   "outputs": [
    {
     "data": {
      "text/plain": [
       "11"
      ]
     },
     "execution_count": 54,
     "metadata": {},
     "output_type": "execute_result"
    }
   ],
   "source": [
    "cfd['president']['obama']"
   ]
  },
  {
   "cell_type": "code",
   "execution_count": 62,
   "metadata": {},
   "outputs": [
    {
     "data": {
      "text/plain": [
       "11"
      ]
     },
     "execution_count": 62,
     "metadata": {},
     "output_type": "execute_result"
    }
   ],
   "source": [
    "list(bigrams(lowercase_words)).count(('president', 'obama'))"
   ]
  },
  {
   "cell_type": "code",
   "execution_count": 57,
   "metadata": {},
   "outputs": [
    {
     "data": {
      "text/plain": [
       "0.16417910447761194"
      ]
     },
     "execution_count": 57,
     "metadata": {},
     "output_type": "execute_result"
    }
   ],
   "source": [
    "cfd['president']['obama'] / float(lowercase_words.count('president'))"
   ]
  },
  {
   "cell_type": "code",
   "execution_count": 63,
   "metadata": {
    "collapsed": true
   },
   "outputs": [],
   "source": [
    "from nltk.probability import ConditionalProbDist, MLEProbDist"
   ]
  },
  {
   "cell_type": "code",
   "execution_count": 64,
   "metadata": {
    "collapsed": true
   },
   "outputs": [],
   "source": [
    "cpd = ConditionalProbDist(cfd, MLEProbDist)"
   ]
  },
  {
   "cell_type": "code",
   "execution_count": 67,
   "metadata": {
    "collapsed": true
   },
   "outputs": [],
   "source": [
    "p = cpd['president']"
   ]
  },
  {
   "cell_type": "code",
   "execution_count": 68,
   "metadata": {},
   "outputs": [
    {
     "data": {
      "text/plain": [
       "0.16417910447761194"
      ]
     },
     "execution_count": 68,
     "metadata": {},
     "output_type": "execute_result"
    }
   ],
   "source": [
    "p.prob('obama')"
   ]
  },
  {
   "cell_type": "code",
   "execution_count": 94,
   "metadata": {
    "collapsed": true
   },
   "outputs": [],
   "source": [
    "def prob_sent(sent, cpd):\n",
    "    words = [word.lower() for word in word_tokenize(sent)]\n",
    "    p = 1\n",
    "    for w1, w2 in zip(words, words[1:]):\n",
    "        p *= cpd[w1].prob(w2)\n",
    "    return p"
   ]
  },
  {
   "cell_type": "code",
   "execution_count": 95,
   "metadata": {},
   "outputs": [
    {
     "data": {
      "text/plain": [
       "0.0007120816520294325"
      ]
     },
     "execution_count": 95,
     "metadata": {},
     "output_type": "execute_result"
    }
   ],
   "source": [
    "prob_sent('the health care act', cpd)"
   ]
  },
  {
   "cell_type": "code",
   "execution_count": 75,
   "metadata": {},
   "outputs": [
    {
     "data": {
      "text/plain": [
       "-2.606657571820475"
      ]
     },
     "execution_count": 75,
     "metadata": {},
     "output_type": "execute_result"
    }
   ],
   "source": [
    "p.logprob('obama')"
   ]
  },
  {
   "cell_type": "code",
   "execution_count": 76,
   "metadata": {
    "collapsed": true
   },
   "outputs": [],
   "source": [
    "def log_prob_sent(sent, cpd):\n",
    "    words = [word.lower() for word in word_tokenize(sent)]\n",
    "    return sum(cpd[w1].logprob(w2) for w1, w2 in zip(words, words[1:]))"
   ]
  },
  {
   "cell_type": "code",
   "execution_count": 81,
   "metadata": {},
   "outputs": [
    {
     "data": {
      "text/plain": [
       "-10.4556696998411"
      ]
     },
     "execution_count": 81,
     "metadata": {},
     "output_type": "execute_result"
    }
   ],
   "source": [
    "log_prob_sent('the health care act', cpd)"
   ]
  },
  {
   "cell_type": "code",
   "execution_count": 93,
   "metadata": {},
   "outputs": [
    {
     "data": {
      "text/plain": [
       "0.0007120816520294322"
      ]
     },
     "execution_count": 93,
     "metadata": {},
     "output_type": "execute_result"
    }
   ],
   "source": [
    "2**log_prob_sent('the health care act', cpd)"
   ]
  },
  {
   "cell_type": "code",
   "execution_count": 104,
   "metadata": {
    "collapsed": true
   },
   "outputs": [],
   "source": [
    "from nltk import Text"
   ]
  },
  {
   "cell_type": "code",
   "execution_count": 99,
   "metadata": {
    "collapsed": true
   },
   "outputs": [],
   "source": [
    "text = Text(word_tokenize(obama_page.content))"
   ]
  },
  {
   "cell_type": "code",
   "execution_count": 100,
   "metadata": {},
   "outputs": [
    {
     "name": "stdout",
     "output_type": "stream",
     "text": [
      "Displaying 25 of 300 matches:\n",
      "                                     Obama II ( US /bəˈrɑːk huːˈseɪn oʊˈbɑːmə/ \n",
      "ois State Senate from 1997 to 2004 . Obama was born in Honolulu , Hawaii , two \n",
      "unity organizer in Chicago . In 1988 Obama enrolled in Harvard Law School , whe\n",
      "icago Law School from 1992 to 2004 . Obama represented the 13th District for th\n",
      " , when he ran for the U.S. Senate . Obama received national attention in 2004 \n",
      "r election to the Senate . In 2008 , Obama was nominated for president , a year\n",
      "uary 20 , 2009 . Nine months later , Obama was named the 2009 Nobel Peace Prize\n",
      "ring his first two years in office , Obama signed many landmark bills . Main re\n",
      "ebate over the national debt limit , Obama signed the Budget Control and the Am\n",
      "er Relief Acts . In foreign policy , Obama increased U.S. troop levels in Afgha\n",
      "ing Republican nominee Mitt Romney , Obama was sworn in for a second term in 20\n",
      "m in 2013 . During his second term , Obama promoted greater inclusiveness for L\n",
      "Windsor and Obergefell v. Hodges ) . Obama also advocated gun control in respon\n",
      "nd immigration . In foreign policy , Obama ordered military intervention in Ira\n",
      "ormalized U.S. relations with Cuba . Obama left office in January 2017 with a 6\n",
      "hicago . == Early life and career == Obama was born on August 4 , 1961 , at Kap\n",
      "Welsh ancestry . His father , Barack Obama Sr. ( 1936–1982 ) , was a married Lu\n",
      "o Kenyan man from Nyang'oma Kogelo . Obama 's parents met in 1960 in a Russian \n",
      "ebruary 2 , 1961 , six months before Obama was born . In late August 1961 , Oba\n",
      "ama was born . In late August 1961 , Obama 's mother moved with him to the Univ\n",
      "ttle for a year . During that time , Obama Sr. completed his undergraduate degr\n",
      "re he earned an M.A . in economics . Obama 's parents divorced in March 1964 . \n",
      " 's parents divorced in March 1964 . Obama Sr. returned to Kenya in 1964 , wher\n",
      "n automobile accident in 1982 , when Obama was 21 years old . Of his early chil\n",
      "years old . Of his early childhood , Obama recalled , `` That my father looked \n"
     ]
    }
   ],
   "source": [
    "text.concordance('obama')"
   ]
  },
  {
   "cell_type": "code",
   "execution_count": 102,
   "metadata": {},
   "outputs": [
    {
     "name": "stdout",
     "output_type": "stream",
     "text": [
      "cia evening continent people successes media compound original\n",
      "incident moon environment bush year ban house war\n"
     ]
    }
   ],
   "source": [
    "text.similar('conflict')"
   ]
  },
  {
   "cell_type": "code",
   "execution_count": 103,
   "metadata": {},
   "outputs": [
    {
     "name": "stdout",
     "output_type": "stream",
     "text": [
      "United States; Barack Obama; White House; health care; bin Laden;\n",
      "general election; Affordable Care; Supreme Court; Harvard Law; Bill\n",
      "Clinton; New York; Law School; Patient Protection; Democratic Party;\n",
      "same-sex marriage; Job Creation; Obama announced; National Convention;\n",
      "Obama signed; high school\n"
     ]
    }
   ],
   "source": [
    "text.collocations()"
   ]
  },
  {
   "cell_type": "code",
   "execution_count": 196,
   "metadata": {
    "collapsed": true
   },
   "outputs": [],
   "source": [
    "n_train = int(len(text)*0.8)"
   ]
  },
  {
   "cell_type": "code",
   "execution_count": 197,
   "metadata": {
    "collapsed": true
   },
   "outputs": [],
   "source": [
    "train, test = text[:n_train], text[n_train:]"
   ]
  },
  {
   "cell_type": "code",
   "execution_count": 171,
   "metadata": {
    "collapsed": true
   },
   "outputs": [],
   "source": [
    "class BiGramModel(object):\n",
    "    def __init__(self, train):\n",
    "        self.cpd = ConditionalProbDist(ConditionalFreqDist(bigrams(word.lower() for word in train)), MLEProbDist)\n",
    "    def log_prob(self, text):\n",
    "        return sum(self.cpd[w1].logprob(w2) for w1, w2 in zip(text, text[1:]))\n",
    "    def perplexity(self, text):\n",
    "        return (2**self.log_prob(text))**-len(text)"
   ]
  },
  {
   "cell_type": "code",
   "execution_count": 172,
   "metadata": {},
   "outputs": [
    {
     "data": {
      "text/plain": [
       "-6.260000000000063e+302"
      ]
     },
     "execution_count": 172,
     "metadata": {},
     "output_type": "execute_result"
    }
   ],
   "source": [
    "BiGramModel(train).log_prob(test)"
   ]
  },
  {
   "cell_type": "code",
   "execution_count": 173,
   "metadata": {},
   "outputs": [
    {
     "data": {
      "text/plain": [
       "0.0"
      ]
     },
     "execution_count": 173,
     "metadata": {},
     "output_type": "execute_result"
    }
   ],
   "source": [
    "BiGramModel(train).cpd['new'].prob('car')"
   ]
  },
  {
   "cell_type": "code",
   "execution_count": 174,
   "metadata": {
    "collapsed": true
   },
   "outputs": [],
   "source": [
    "from nltk.probability import LaplaceProbDist"
   ]
  },
  {
   "cell_type": "code",
   "execution_count": 198,
   "metadata": {
    "collapsed": true
   },
   "outputs": [],
   "source": [
    "class LaplaceBiGramModel(object):\n",
    "    def __init__(self, train):\n",
    "        self.cpd = ConditionalProbDist(ConditionalFreqDist(bigrams(word.lower() for word in train)),\n",
    "                                       LaplaceProbDist, len(set(word.lower() for word in train)))\n",
    "    def log_prob(self, text):\n",
    "        return sum(self.cpd[w1].logprob(w2) for w1, w2 in zip(text, text[1:]))\n",
    "    def perplexity(self, text):\n",
    "        return 2**(-self.log_prob(text)/len(text))"
   ]
  },
  {
   "cell_type": "code",
   "execution_count": 199,
   "metadata": {},
   "outputs": [
    {
     "data": {
      "text/plain": [
       "0.0003616636528028933"
      ]
     },
     "execution_count": 199,
     "metadata": {},
     "output_type": "execute_result"
    }
   ],
   "source": [
    "LaplaceNGramModel(train).cpd['new'].prob('car')"
   ]
  },
  {
   "cell_type": "code",
   "execution_count": 200,
   "metadata": {},
   "outputs": [
    {
     "data": {
      "text/plain": [
       "1937.8534011450295"
      ]
     },
     "execution_count": 200,
     "metadata": {},
     "output_type": "execute_result"
    }
   ],
   "source": [
    "LaplaceBiGramModel(train).perplexity(test)"
   ]
  },
  {
   "cell_type": "markdown",
   "metadata": {},
   "source": [
    "http://www.cs.cornell.edu/people/pabo/movie-review-data/"
   ]
  },
  {
   "cell_type": "code",
   "execution_count": 2,
   "metadata": {
    "collapsed": true
   },
   "outputs": [],
   "source": [
    "import os"
   ]
  },
  {
   "cell_type": "code",
   "execution_count": 3,
   "metadata": {
    "collapsed": true
   },
   "outputs": [],
   "source": [
    "positive = [open('data/review_polarity/txt_sentoken/pos/' + text_file).read().split() \n",
    "            for text_file in os.listdir('data/review_polarity/txt_sentoken/pos/')]"
   ]
  },
  {
   "cell_type": "code",
   "execution_count": 4,
   "metadata": {
    "collapsed": true
   },
   "outputs": [],
   "source": [
    "negative = [open('data/review_polarity/txt_sentoken/neg/' + text_file).read().split() \n",
    "            for text_file in os.listdir('data/review_polarity/txt_sentoken/neg/')]"
   ]
  },
  {
   "cell_type": "code",
   "execution_count": 5,
   "metadata": {
    "collapsed": true
   },
   "outputs": [],
   "source": [
    "from nltk.probability import FreqDist\n",
    "from itertools import chain, ifilter"
   ]
  },
  {
   "cell_type": "code",
   "execution_count": 6,
   "metadata": {
    "collapsed": true
   },
   "outputs": [],
   "source": [
    "from nltk.corpus import stopwords"
   ]
  },
  {
   "cell_type": "code",
   "execution_count": 7,
   "metadata": {
    "collapsed": true
   },
   "outputs": [],
   "source": [
    "en_stop = set(stopwords.words('english'))\n",
    "en_stop.update(set(',.\"();:?-!'))"
   ]
  },
  {
   "cell_type": "code",
   "execution_count": 8,
   "metadata": {
    "collapsed": true
   },
   "outputs": [],
   "source": [
    "fd = FreqDist(ifilter(lambda x:x not in en_stop, chain(chain(*positive), chain(*negative))))"
   ]
  },
  {
   "cell_type": "code",
   "execution_count": 288,
   "metadata": {
    "collapsed": true
   },
   "outputs": [
    {
     "data": {
      "text/plain": [
       "[('film', 8849),\n",
       " ('one', 5514),\n",
       " ('movie', 5429),\n",
       " (\"it's\", 3696),\n",
       " ('like', 3543),\n",
       " ('even', 2554),\n",
       " ('good', 2313),\n",
       " ('time', 2280),\n",
       " ('story', 2110),\n",
       " ('would', 2041),\n",
       " ('much', 2022),\n",
       " ('also', 1965),\n",
       " ('get', 1920),\n",
       " ('character', 1902),\n",
       " ('two', 1824),\n",
       " ('characters', 1813),\n",
       " ('first', 1766),\n",
       " ('see', 1726),\n",
       " ('way', 1668),\n",
       " ('well', 1654),\n",
       " ('make', 1590),\n",
       " ('really', 1556),\n",
       " ('films', 1513),\n",
       " ('little', 1487),\n",
       " ('life', 1467),\n",
       " ('plot', 1448),\n",
       " ('people', 1418),\n",
       " ('could', 1395),\n",
       " ('scene', 1372),\n",
       " ('bad', 1372),\n",
       " ('never', 1360),\n",
       " ('best', 1298),\n",
       " ('new', 1275),\n",
       " ('many', 1267),\n",
       " (\"doesn't\", 1266),\n",
       " ('scenes', 1262),\n",
       " ('man', 1255),\n",
       " ('know', 1207),\n",
       " (\"don't\", 1198),\n",
       " ('movies', 1180),\n",
       " (\"he's\", 1149),\n",
       " ('great', 1138),\n",
       " ('--', 1136),\n",
       " ('another', 1111),\n",
       " ('love', 1087),\n",
       " ('action', 1073),\n",
       " ('go', 1073),\n",
       " ('us', 1065),\n",
       " ('director', 1054),\n",
       " ('*', 1054)]"
      ]
     },
     "execution_count": 288,
     "metadata": {},
     "output_type": "execute_result"
    }
   ],
   "source": [
    "fd.most_common(50)"
   ]
  },
  {
   "cell_type": "code",
   "execution_count": 9,
   "metadata": {
    "collapsed": true
   },
   "outputs": [],
   "source": [
    "words = [w for w, c in fd.most_common(100)]"
   ]
  },
  {
   "cell_type": "code",
   "execution_count": 11,
   "metadata": {
    "collapsed": true
   },
   "outputs": [],
   "source": [
    "import pandas as pd\n",
    "from sklearn.naive_bayes import BernoulliNB"
   ]
  },
  {
   "cell_type": "code",
   "execution_count": 12,
   "metadata": {
    "collapsed": true
   },
   "outputs": [],
   "source": [
    "data_pos = pd.DataFrame({w: [w in set(t) for t in positive] for w in words})"
   ]
  },
  {
   "cell_type": "code",
   "execution_count": 13,
   "metadata": {
    "collapsed": true
   },
   "outputs": [],
   "source": [
    "data_pos['label'] = 1"
   ]
  },
  {
   "cell_type": "code",
   "execution_count": 14,
   "metadata": {
    "collapsed": true
   },
   "outputs": [],
   "source": [
    "data_neg = pd.DataFrame({w: [w in set(t) for t in negative] for w in words})"
   ]
  },
  {
   "cell_type": "code",
   "execution_count": 15,
   "metadata": {
    "collapsed": true
   },
   "outputs": [],
   "source": [
    "data_neg['label'] = 0"
   ]
  },
  {
   "cell_type": "code",
   "execution_count": 16,
   "metadata": {
    "collapsed": true
   },
   "outputs": [],
   "source": [
    "data = data_pos.append(data_neg)"
   ]
  },
  {
   "cell_type": "code",
   "execution_count": 17,
   "metadata": {
    "collapsed": true
   },
   "outputs": [],
   "source": [
    "from sklearn.model_selection import cross_val_score"
   ]
  },
  {
   "cell_type": "code",
   "execution_count": 22,
   "metadata": {
    "collapsed": true
   },
   "outputs": [],
   "source": [
    "cv_scores = cross_val_score(BernoulliNB(), data[words], data.label, cv=10)"
   ]
  },
  {
   "cell_type": "code",
   "execution_count": 23,
   "metadata": {},
   "outputs": [
    {
     "data": {
      "text/plain": [
       "(0.69299999999999995, 0.032031234756093915)"
      ]
     },
     "execution_count": 23,
     "metadata": {},
     "output_type": "execute_result"
    }
   ],
   "source": [
    "cv_scores.mean(), cv_scores.std()"
   ]
  },
  {
   "cell_type": "code",
   "execution_count": 298,
   "metadata": {
    "collapsed": true
   },
   "outputs": [],
   "source": [
    "from vaderSentiment.vaderSentiment import SentimentIntensityAnalyzer"
   ]
  },
  {
   "cell_type": "code",
   "execution_count": 300,
   "metadata": {
    "collapsed": true
   },
   "outputs": [],
   "source": [
    "analyzer = SentimentIntensityAnalyzer()"
   ]
  },
  {
   "cell_type": "code",
   "execution_count": 313,
   "metadata": {},
   "outputs": [
    {
     "data": {
      "text/plain": [
       "{'compound': 0.6239, 'neg': 0.0, 'neu': 0.328, 'pos': 0.672}"
      ]
     },
     "execution_count": 313,
     "metadata": {},
     "output_type": "execute_result"
    }
   ],
   "source": [
    "analyzer.polarity_scores(\"This is amazing!\")"
   ]
  },
  {
   "cell_type": "code",
   "execution_count": 318,
   "metadata": {},
   "outputs": [
    {
     "data": {
      "text/plain": [
       "{'compound': -0.4767, 'neg': 0.508, 'neu': 0.492, 'pos': 0.0}"
      ]
     },
     "execution_count": 318,
     "metadata": {},
     "output_type": "execute_result"
    }
   ],
   "source": [
    "analyzer.polarity_scores(\"It was a poor performance.\")"
   ]
  },
  {
   "cell_type": "code",
   "execution_count": 306,
   "metadata": {
    "collapsed": true
   },
   "outputs": [],
   "source": [
    "pos_acc = [analyzer.polarity_scores(\" \".join(t))['compound'] > 0 for t in positive]"
   ]
  },
  {
   "cell_type": "code",
   "execution_count": 309,
   "metadata": {
    "collapsed": true
   },
   "outputs": [],
   "source": [
    "import numpy as np"
   ]
  },
  {
   "cell_type": "code",
   "execution_count": 310,
   "metadata": {},
   "outputs": [
    {
     "data": {
      "text/plain": [
       "0.82799999999999996"
      ]
     },
     "execution_count": 310,
     "metadata": {},
     "output_type": "execute_result"
    }
   ],
   "source": [
    "np.mean(pos_acc)"
   ]
  },
  {
   "cell_type": "code",
   "execution_count": 311,
   "metadata": {
    "collapsed": true
   },
   "outputs": [],
   "source": [
    "neg_acc = [analyzer.polarity_scores(\" \".join(t))['compound'] < 0 for t in negative]"
   ]
  },
  {
   "cell_type": "code",
   "execution_count": 312,
   "metadata": {},
   "outputs": [
    {
     "data": {
      "text/plain": [
       "0.44500000000000001"
      ]
     },
     "execution_count": 312,
     "metadata": {},
     "output_type": "execute_result"
    }
   ],
   "source": [
    "np.mean(neg_acc)"
   ]
  },
  {
   "cell_type": "code",
   "execution_count": 332,
   "metadata": {
    "collapsed": true
   },
   "outputs": [],
   "source": [
    "dfb = FreqDist(ifilter(lambda x: x[0] not in en_stop and x[1] not in en_stop,\n",
    "                       chain(bigrams(chain(*positive)), bigrams(chain(*negative)))))"
   ]
  },
  {
   "cell_type": "code",
   "execution_count": 333,
   "metadata": {},
   "outputs": [
    {
     "data": {
      "text/plain": [
       "[(('special', 'effects'), 374),\n",
       " (('*', '*'), 313),\n",
       " (('new', 'york'), 243),\n",
       " (('even', 'though'), 222),\n",
       " (('high', 'school'), 171),\n",
       " (('star', 'wars'), 157),\n",
       " (('looks', 'like'), 137),\n",
       " (('science', 'fiction'), 124),\n",
       " ((\"don't\", 'know'), 120),\n",
       " (('takes', 'place'), 117),\n",
       " (('star', 'trek'), 117),\n",
       " (('one', 'thing'), 113),\n",
       " ((\"i've\", 'seen'), 112),\n",
       " (('running', 'time'), 111),\n",
       " (('supporting', 'cast'), 110),\n",
       " (('years', 'ago'), 109),\n",
       " (('one', 'day'), 109),\n",
       " (('ever', 'seen'), 105),\n",
       " (('first', 'film'), 102),\n",
       " (('look', 'like'), 101)]"
      ]
     },
     "execution_count": 333,
     "metadata": {},
     "output_type": "execute_result"
    }
   ],
   "source": [
    "dfb.most_common(20)"
   ]
  },
  {
   "cell_type": "code",
   "execution_count": 336,
   "metadata": {
    "collapsed": true
   },
   "outputs": [],
   "source": [
    "mcb = set(i for i, _ in dfb.most_common(200))"
   ]
  },
  {
   "cell_type": "code",
   "execution_count": 337,
   "metadata": {
    "collapsed": true
   },
   "outputs": [],
   "source": [
    "data_pos_b = pd.DataFrame({b: [b in set(bigrams(t)) for t in positive] for b in mcb})"
   ]
  },
  {
   "cell_type": "code",
   "execution_count": 339,
   "metadata": {
    "collapsed": true
   },
   "outputs": [],
   "source": [
    "data_neg_b = pd.DataFrame({b: [b in set(bigrams(t)) for t in negative] for b in mcb})"
   ]
  },
  {
   "cell_type": "code",
   "execution_count": 340,
   "metadata": {
    "collapsed": true
   },
   "outputs": [],
   "source": [
    "dfb.update"
   ]
  },
  {
   "cell_type": "code",
   "execution_count": null,
   "metadata": {
    "collapsed": true
   },
   "outputs": [],
   "source": []
  }
 ],
 "metadata": {
  "kernelspec": {
   "display_name": "Python 2",
   "language": "python",
   "name": "python2"
  },
  "language_info": {
   "codemirror_mode": {
    "name": "ipython",
    "version": 2
   },
   "file_extension": ".py",
   "mimetype": "text/x-python",
   "name": "python",
   "nbconvert_exporter": "python",
   "pygments_lexer": "ipython2",
   "version": "2.7.13"
  }
 },
 "nbformat": 4,
 "nbformat_minor": 2
}
