{
 "cells": [
  {
   "cell_type": "markdown",
   "metadata": {},
   "source": [
    "# Pandas\n",
    "\n",
    "Pandas provides data frames (similar to those in R) for python."
   ]
  },
  {
   "cell_type": "code",
   "execution_count": 153,
   "metadata": {
    "collapsed": true
   },
   "outputs": [],
   "source": [
    "import pandas\n",
    "import numpy as np\n",
    "%matplotlib inline"
   ]
  },
  {
   "cell_type": "markdown",
   "metadata": {},
   "source": [
    "## Series"
   ]
  },
  {
   "cell_type": "code",
   "execution_count": 155,
   "metadata": {
    "collapsed": false
   },
   "outputs": [],
   "source": [
    "series = pandas.Series(np.random.standard_normal(10))"
   ]
  },
  {
   "cell_type": "code",
   "execution_count": 156,
   "metadata": {
    "collapsed": false,
    "scrolled": true
   },
   "outputs": [
    {
     "data": {
      "text/plain": [
       "0   -0.411755\n",
       "1   -1.163063\n",
       "2    0.349024\n",
       "3    0.198570\n",
       "4   -0.341714\n",
       "5    0.063930\n",
       "6    0.094260\n",
       "7    0.979864\n",
       "8    0.578736\n",
       "9    0.464583\n",
       "dtype: float64"
      ]
     },
     "execution_count": 156,
     "metadata": {},
     "output_type": "execute_result"
    }
   ],
   "source": [
    "series"
   ]
  },
  {
   "cell_type": "code",
   "execution_count": 162,
   "metadata": {
    "collapsed": false
   },
   "outputs": [
    {
     "data": {
      "text/plain": [
       "0.063929549337067376"
      ]
     },
     "execution_count": 162,
     "metadata": {},
     "output_type": "execute_result"
    }
   ],
   "source": [
    "series[5]"
   ]
  },
  {
   "cell_type": "code",
   "execution_count": 164,
   "metadata": {
    "collapsed": false
   },
   "outputs": [
    {
     "data": {
      "text/plain": [
       "f    0.06393\n",
       "g    0.09426\n",
       "dtype: float64"
      ]
     },
     "execution_count": 164,
     "metadata": {},
     "output_type": "execute_result"
    }
   ],
   "source": [
    "series[5:7]"
   ]
  },
  {
   "cell_type": "code",
   "execution_count": 160,
   "metadata": {
    "collapsed": false
   },
   "outputs": [],
   "source": [
    "series.index = (list('abcdefghij'))"
   ]
  },
  {
   "cell_type": "code",
   "execution_count": 161,
   "metadata": {
    "collapsed": false
   },
   "outputs": [
    {
     "data": {
      "text/plain": [
       "a   -0.411755\n",
       "b   -1.163063\n",
       "c    0.349024\n",
       "d    0.198570\n",
       "e   -0.341714\n",
       "f    0.063930\n",
       "g    0.094260\n",
       "h    0.979864\n",
       "i    0.578736\n",
       "j    0.464583\n",
       "dtype: float64"
      ]
     },
     "execution_count": 161,
     "metadata": {},
     "output_type": "execute_result"
    }
   ],
   "source": [
    "series"
   ]
  },
  {
   "cell_type": "code",
   "execution_count": 165,
   "metadata": {
    "collapsed": false
   },
   "outputs": [
    {
     "data": {
      "text/plain": [
       "-0.41175470277854448"
      ]
     },
     "execution_count": 165,
     "metadata": {},
     "output_type": "execute_result"
    }
   ],
   "source": [
    "series['a']"
   ]
  },
  {
   "cell_type": "code",
   "execution_count": 168,
   "metadata": {
    "collapsed": false
   },
   "outputs": [
    {
     "data": {
      "text/plain": [
       "a    12\n",
       "b   -12\n",
       "dtype: int64"
      ]
     },
     "execution_count": 168,
     "metadata": {},
     "output_type": "execute_result"
    }
   ],
   "source": [
    "pandas.Series({'a': 12, 'b': -12})"
   ]
  },
  {
   "cell_type": "code",
   "execution_count": 166,
   "metadata": {
    "collapsed": false
   },
   "outputs": [
    {
     "data": {
      "text/plain": [
       "a   -0.411755\n",
       "b   -1.163063\n",
       "c    0.349024\n",
       "d    0.198570\n",
       "dtype: float64"
      ]
     },
     "execution_count": 166,
     "metadata": {},
     "output_type": "execute_result"
    }
   ],
   "source": [
    "series['a':'d']"
   ]
  },
  {
   "cell_type": "code",
   "execution_count": 216,
   "metadata": {
    "collapsed": false
   },
   "outputs": [
    {
     "data": {
      "text/plain": [
       "a    1.588245\n",
       "b    0.836937\n",
       "c    2.349024\n",
       "d    2.198570\n",
       "e    1.658286\n",
       "f    2.063930\n",
       "g    2.094260\n",
       "h    2.979864\n",
       "i    2.578736\n",
       "j    2.464583\n",
       "dtype: float64"
      ]
     },
     "execution_count": 216,
     "metadata": {},
     "output_type": "execute_result"
    }
   ],
   "source": [
    "series + 2"
   ]
  },
  {
   "cell_type": "code",
   "execution_count": 218,
   "metadata": {
    "collapsed": false
   },
   "outputs": [
    {
     "data": {
      "text/plain": [
       "a    0.169542\n",
       "b    1.352717\n",
       "c    0.121817\n",
       "d    0.039430\n",
       "e    0.116768\n",
       "f    0.004087\n",
       "g    0.008885\n",
       "h    0.960134\n",
       "i    0.334936\n",
       "j    0.215838\n",
       "dtype: float64"
      ]
     },
     "execution_count": 218,
     "metadata": {},
     "output_type": "execute_result"
    }
   ],
   "source": [
    "series * series"
   ]
  },
  {
   "cell_type": "code",
   "execution_count": 167,
   "metadata": {
    "collapsed": false
   },
   "outputs": [
    {
     "data": {
      "text/plain": [
       "a    0.588245\n",
       "b         NaN\n",
       "c         NaN\n",
       "d         NaN\n",
       "e         NaN\n",
       "f         NaN\n",
       "g         NaN\n",
       "h         NaN\n",
       "i         NaN\n",
       "j         NaN\n",
       "z         NaN\n",
       "dtype: float64"
      ]
     },
     "execution_count": 167,
     "metadata": {},
     "output_type": "execute_result"
    }
   ],
   "source": [
    "series + pandas.Series([1,2], index=['a', 'z'])"
   ]
  },
  {
   "cell_type": "markdown",
   "metadata": {},
   "source": [
    "## Data Frame"
   ]
  },
  {
   "cell_type": "code",
   "execution_count": 185,
   "metadata": {
    "collapsed": true
   },
   "outputs": [],
   "source": [
    "fish = pandas.DataFrame({'size': [100, 120, 70],\n",
    "                         'weight': [20, 30, 25]},\n",
    "                index = ['Brown Troupt', 'Atlantic Salmon', 'Chinook Salmon'])"
   ]
  },
  {
   "cell_type": "code",
   "execution_count": 186,
   "metadata": {
    "collapsed": false
   },
   "outputs": [
    {
     "data": {
      "text/html": [
       "<div>\n",
       "<table border=\"1\" class=\"dataframe\">\n",
       "  <thead>\n",
       "    <tr style=\"text-align: right;\">\n",
       "      <th></th>\n",
       "      <th>size</th>\n",
       "      <th>weight</th>\n",
       "    </tr>\n",
       "  </thead>\n",
       "  <tbody>\n",
       "    <tr>\n",
       "      <th>Brown Troupt</th>\n",
       "      <td>100</td>\n",
       "      <td>20</td>\n",
       "    </tr>\n",
       "    <tr>\n",
       "      <th>Atlantic Salmon</th>\n",
       "      <td>120</td>\n",
       "      <td>30</td>\n",
       "    </tr>\n",
       "    <tr>\n",
       "      <th>Chinook Salmon</th>\n",
       "      <td>70</td>\n",
       "      <td>25</td>\n",
       "    </tr>\n",
       "  </tbody>\n",
       "</table>\n",
       "</div>"
      ],
      "text/plain": [
       "                 size  weight\n",
       "Brown Troupt      100      20\n",
       "Atlantic Salmon   120      30\n",
       "Chinook Salmon     70      25"
      ]
     },
     "execution_count": 186,
     "metadata": {},
     "output_type": "execute_result"
    }
   ],
   "source": [
    "fish"
   ]
  },
  {
   "cell_type": "code",
   "execution_count": 187,
   "metadata": {
    "collapsed": false
   },
   "outputs": [
    {
     "data": {
      "text/html": [
       "<div>\n",
       "<table border=\"1\" class=\"dataframe\">\n",
       "  <thead>\n",
       "    <tr style=\"text-align: right;\">\n",
       "      <th></th>\n",
       "      <th>size</th>\n",
       "      <th>weight</th>\n",
       "    </tr>\n",
       "  </thead>\n",
       "  <tbody>\n",
       "    <tr>\n",
       "      <th>Atlantic Salmon</th>\n",
       "      <td>120</td>\n",
       "      <td>30</td>\n",
       "    </tr>\n",
       "    <tr>\n",
       "      <th>Chinook Salmon</th>\n",
       "      <td>70</td>\n",
       "      <td>25</td>\n",
       "    </tr>\n",
       "  </tbody>\n",
       "</table>\n",
       "</div>"
      ],
      "text/plain": [
       "                 size  weight\n",
       "Atlantic Salmon   120      30\n",
       "Chinook Salmon     70      25"
      ]
     },
     "execution_count": 187,
     "metadata": {},
     "output_type": "execute_result"
    }
   ],
   "source": [
    "fish[fish.weight > 20]"
   ]
  },
  {
   "cell_type": "code",
   "execution_count": 188,
   "metadata": {
    "collapsed": false
   },
   "outputs": [
    {
     "data": {
      "text/plain": [
       "Brown Troupt      100\n",
       "Chinook Salmon     70\n",
       "Name: size, dtype: int64"
      ]
     },
     "execution_count": 188,
     "metadata": {},
     "output_type": "execute_result"
    }
   ],
   "source": [
    "fish[fish.weight < 30]['size']"
   ]
  },
  {
   "cell_type": "markdown",
   "metadata": {},
   "source": [
    "## Reading data"
   ]
  },
  {
   "cell_type": "code",
   "execution_count": 221,
   "metadata": {
    "collapsed": false
   },
   "outputs": [
    {
     "name": "stdout",
     "output_type": "stream",
     "text": [
      "read_clipboard\n",
      "read_csv\n",
      "read_excel\n",
      "read_fwf\n",
      "read_gbq\n",
      "read_hdf\n",
      "read_html\n",
      "read_json\n",
      "read_msgpack\n",
      "read_pickle\n",
      "read_sas\n",
      "read_sql\n",
      "read_sql_query\n",
      "read_sql_table\n",
      "read_stata\n",
      "read_table\n"
     ]
    }
   ],
   "source": [
    "for i in dir(pandas):\n",
    "    if i.startswith('read'):\n",
    "        print i"
   ]
  },
  {
   "cell_type": "code",
   "execution_count": 222,
   "metadata": {
    "collapsed": true
   },
   "outputs": [],
   "source": [
    "# Has also as_ methods"
   ]
  },
  {
   "cell_type": "code",
   "execution_count": 35,
   "metadata": {
    "collapsed": false
   },
   "outputs": [],
   "source": [
    "df = pandas.read_csv('data/201508_trip_data.csv.gz')"
   ]
  },
  {
   "cell_type": "code",
   "execution_count": null,
   "metadata": {
    "collapsed": false
   },
   "outputs": [],
   "source": [
    "df.info()"
   ]
  },
  {
   "cell_type": "code",
   "execution_count": 24,
   "metadata": {
    "collapsed": false
   },
   "outputs": [
    {
     "data": {
      "text/html": [
       "<div>\n",
       "<table border=\"1\" class=\"dataframe\">\n",
       "  <thead>\n",
       "    <tr style=\"text-align: right;\">\n",
       "      <th></th>\n",
       "      <th>Trip ID</th>\n",
       "      <th>Duration</th>\n",
       "      <th>End Terminal</th>\n",
       "      <th>Bike #</th>\n",
       "    </tr>\n",
       "  </thead>\n",
       "  <tbody>\n",
       "    <tr>\n",
       "      <th>count</th>\n",
       "      <td>354152.000000</td>\n",
       "      <td>3.541520e+05</td>\n",
       "      <td>354152.000000</td>\n",
       "      <td>354152.000000</td>\n",
       "    </tr>\n",
       "    <tr>\n",
       "      <th>mean</th>\n",
       "      <td>676962.274416</td>\n",
       "      <td>1.046033e+03</td>\n",
       "      <td>58.421816</td>\n",
       "      <td>422.957911</td>\n",
       "    </tr>\n",
       "    <tr>\n",
       "      <th>std</th>\n",
       "      <td>138874.153513</td>\n",
       "      <td>3.001694e+04</td>\n",
       "      <td>16.876792</td>\n",
       "      <td>159.841550</td>\n",
       "    </tr>\n",
       "    <tr>\n",
       "      <th>min</th>\n",
       "      <td>432947.000000</td>\n",
       "      <td>6.000000e+01</td>\n",
       "      <td>2.000000</td>\n",
       "      <td>9.000000</td>\n",
       "    </tr>\n",
       "    <tr>\n",
       "      <th>25%</th>\n",
       "      <td>557009.750000</td>\n",
       "      <td>3.420000e+02</td>\n",
       "      <td>50.000000</td>\n",
       "      <td>327.000000</td>\n",
       "    </tr>\n",
       "    <tr>\n",
       "      <th>50%</th>\n",
       "      <td>679451.500000</td>\n",
       "      <td>5.110000e+02</td>\n",
       "      <td>63.000000</td>\n",
       "      <td>437.000000</td>\n",
       "    </tr>\n",
       "    <tr>\n",
       "      <th>75%</th>\n",
       "      <td>798026.250000</td>\n",
       "      <td>7.390000e+02</td>\n",
       "      <td>70.000000</td>\n",
       "      <td>546.000000</td>\n",
       "    </tr>\n",
       "    <tr>\n",
       "      <th>max</th>\n",
       "      <td>913460.000000</td>\n",
       "      <td>1.727040e+07</td>\n",
       "      <td>84.000000</td>\n",
       "      <td>878.000000</td>\n",
       "    </tr>\n",
       "  </tbody>\n",
       "</table>\n",
       "</div>"
      ],
      "text/plain": [
       "             Trip ID      Duration   End Terminal         Bike #\n",
       "count  354152.000000  3.541520e+05  354152.000000  354152.000000\n",
       "mean   676962.274416  1.046033e+03      58.421816     422.957911\n",
       "std    138874.153513  3.001694e+04      16.876792     159.841550\n",
       "min    432947.000000  6.000000e+01       2.000000       9.000000\n",
       "25%    557009.750000  3.420000e+02      50.000000     327.000000\n",
       "50%    679451.500000  5.110000e+02      63.000000     437.000000\n",
       "75%    798026.250000  7.390000e+02      70.000000     546.000000\n",
       "max    913460.000000  1.727040e+07      84.000000     878.000000"
      ]
     },
     "execution_count": 24,
     "metadata": {},
     "output_type": "execute_result"
    }
   ],
   "source": [
    "df.describe()"
   ]
  },
  {
   "cell_type": "code",
   "execution_count": 233,
   "metadata": {
    "collapsed": false
   },
   "outputs": [
    {
     "data": {
      "text/plain": [
       "<matplotlib.axes._subplots.AxesSubplot at 0x123748490>"
      ]
     },
     "execution_count": 233,
     "metadata": {},
     "output_type": "execute_result"
    },
    {
     "data": {
      "image/png": "[encoded data removed]",
      "text/plain": [
       "<matplotlib.figure.Figure at 0x1235c5f90>"
      ]
     },
     "metadata": {},
     "output_type": "display_data"
    }
   ],
   "source": [
    "df.Duration.plot.hist()"
   ]
  },
  {
   "cell_type": "code",
   "execution_count": 237,
   "metadata": {
    "collapsed": false
   },
   "outputs": [
    {
     "data": {
      "text/plain": [
       "<matplotlib.axes._subplots.AxesSubplot at 0x124f1a610>"
      ]
     },
     "execution_count": 237,
     "metadata": {},
     "output_type": "execute_result"
    },
    {
     "data": {
      "image/png": "[encoded data removed]",
      "text/plain": [
       "<matplotlib.figure.Figure at 0x125f6f350>"
      ]
     },
     "metadata": {},
     "output_type": "display_data"
    }
   ],
   "source": [
    "df[df.Duration < 60*45].Duration.plot.hist(bins = 30)"
   ]
  },
  {
   "cell_type": "code",
   "execution_count": 36,
   "metadata": {
    "collapsed": true
   },
   "outputs": [],
   "source": [
    "import datetime\n",
    "def myd_hm(datetimestring):\n",
    "    return datetime.datetime.strptime(datetimestring, '%m/%d/%Y %H:%M')\n",
    "df['Start Date'] = df['Start Date'].apply(myd_hm)"
   ]
  },
  {
   "cell_type": "code",
   "execution_count": 70,
   "metadata": {
    "collapsed": false
   },
   "outputs": [],
   "source": [
    "stations = list(df.groupby('Start Station')['Duration'].count().sort_values().tail().index)"
   ]
  },
  {
   "cell_type": "code",
   "execution_count": 72,
   "metadata": {
    "collapsed": false
   },
   "outputs": [
    {
     "data": {
      "text/plain": [
       "['Embarcadero at Sansome',\n",
       " 'Temporary Transbay Terminal (Howard at Beale)',\n",
       " 'Harry Bridges Plaza (Ferry Building)',\n",
       " 'San Francisco Caltrain 2 (330 Townsend)',\n",
       " 'San Francisco Caltrain (Townsend at 4th)']"
      ]
     },
     "execution_count": 72,
     "metadata": {},
     "output_type": "execute_result"
    }
   ],
   "source": [
    "stations"
   ]
  },
  {
   "cell_type": "code",
   "execution_count": 76,
   "metadata": {
    "collapsed": false
   },
   "outputs": [],
   "source": [
    "df = df[df['Start Station'].apply(lambda x: x in stations)]"
   ]
  },
  {
   "cell_type": "code",
   "execution_count": 77,
   "metadata": {
    "collapsed": false
   },
   "outputs": [],
   "source": [
    "departures = df[['Start Station', 'Duration', 'Start Date']]"
   ]
  },
  {
   "cell_type": "code",
   "execution_count": 78,
   "metadata": {
    "collapsed": false
   },
   "outputs": [
    {
     "data": {
      "text/html": [
       "<div>\n",
       "<table border=\"1\" class=\"dataframe\">\n",
       "  <thead>\n",
       "    <tr style=\"text-align: right;\">\n",
       "      <th></th>\n",
       "      <th>Start Station</th>\n",
       "      <th>Duration</th>\n",
       "      <th>Start Date</th>\n",
       "    </tr>\n",
       "  </thead>\n",
       "  <tbody>\n",
       "    <tr>\n",
       "      <th>0</th>\n",
       "      <td>Harry Bridges Plaza (Ferry Building)</td>\n",
       "      <td>765</td>\n",
       "      <td>2015-08-31 23:26:00</td>\n",
       "    </tr>\n",
       "    <tr>\n",
       "      <th>7</th>\n",
       "      <td>Embarcadero at Sansome</td>\n",
       "      <td>255</td>\n",
       "      <td>2015-08-31 22:16:00</td>\n",
       "    </tr>\n",
       "    <tr>\n",
       "      <th>10</th>\n",
       "      <td>Embarcadero at Sansome</td>\n",
       "      <td>691</td>\n",
       "      <td>2015-08-31 21:49:00</td>\n",
       "    </tr>\n",
       "    <tr>\n",
       "      <th>14</th>\n",
       "      <td>Temporary Transbay Terminal (Howard at Beale)</td>\n",
       "      <td>424</td>\n",
       "      <td>2015-08-31 21:25:00</td>\n",
       "    </tr>\n",
       "    <tr>\n",
       "      <th>15</th>\n",
       "      <td>San Francisco Caltrain 2 (330 Townsend)</td>\n",
       "      <td>283</td>\n",
       "      <td>2015-08-31 21:19:00</td>\n",
       "    </tr>\n",
       "  </tbody>\n",
       "</table>\n",
       "</div>"
      ],
      "text/plain": [
       "                                    Start Station  Duration  \\\n",
       "0            Harry Bridges Plaza (Ferry Building)       765   \n",
       "7                          Embarcadero at Sansome       255   \n",
       "10                         Embarcadero at Sansome       691   \n",
       "14  Temporary Transbay Terminal (Howard at Beale)       424   \n",
       "15        San Francisco Caltrain 2 (330 Townsend)       283   \n",
       "\n",
       "            Start Date  \n",
       "0  2015-08-31 23:26:00  \n",
       "7  2015-08-31 22:16:00  \n",
       "10 2015-08-31 21:49:00  \n",
       "14 2015-08-31 21:25:00  \n",
       "15 2015-08-31 21:19:00  "
      ]
     },
     "execution_count": 78,
     "metadata": {},
     "output_type": "execute_result"
    }
   ],
   "source": [
    "departures.head()"
   ]
  },
  {
   "cell_type": "markdown",
   "metadata": {},
   "source": [
    "# Pivoting / Stacking"
   ]
  },
  {
   "cell_type": "code",
   "execution_count": 173,
   "metadata": {
    "collapsed": false
   },
   "outputs": [
    {
     "data": {
      "text/html": [
       "<div>\n",
       "<table border=\"1\" class=\"dataframe\">\n",
       "  <thead>\n",
       "    <tr style=\"text-align: right;\">\n",
       "      <th></th>\n",
       "      <th>size</th>\n",
       "      <th>weight</th>\n",
       "    </tr>\n",
       "  </thead>\n",
       "  <tbody>\n",
       "    <tr>\n",
       "      <th>Brown Troupt</th>\n",
       "      <td>100</td>\n",
       "      <td>20</td>\n",
       "    </tr>\n",
       "    <tr>\n",
       "      <th>Atlantic Salmon</th>\n",
       "      <td>120</td>\n",
       "      <td>30</td>\n",
       "    </tr>\n",
       "    <tr>\n",
       "      <th>Chinook Salmon</th>\n",
       "      <td>70</td>\n",
       "      <td>25</td>\n",
       "    </tr>\n",
       "  </tbody>\n",
       "</table>\n",
       "</div>"
      ],
      "text/plain": [
       "                 size  weight\n",
       "Brown Troupt      100      20\n",
       "Atlantic Salmon   120      30\n",
       "Chinook Salmon     70      25"
      ]
     },
     "execution_count": 173,
     "metadata": {},
     "output_type": "execute_result"
    }
   ],
   "source": [
    "fish"
   ]
  },
  {
   "cell_type": "code",
   "execution_count": 200,
   "metadata": {
    "collapsed": false
   },
   "outputs": [
    {
     "data": {
      "text/plain": [
       "Brown Troupt     size      100\n",
       "                 weight     20\n",
       "Atlantic Salmon  size      120\n",
       "                 weight     30\n",
       "Chinook Salmon   size       70\n",
       "                 weight     25\n",
       "dtype: int64"
      ]
     },
     "execution_count": 200,
     "metadata": {},
     "output_type": "execute_result"
    }
   ],
   "source": [
    "fish.stack()"
   ]
  },
  {
   "cell_type": "code",
   "execution_count": 208,
   "metadata": {
    "collapsed": false
   },
   "outputs": [],
   "source": [
    "stacked = fish.stack().reset_index()"
   ]
  },
  {
   "cell_type": "code",
   "execution_count": 209,
   "metadata": {
    "collapsed": false
   },
   "outputs": [
    {
     "data": {
      "text/html": [
       "<div>\n",
       "<table border=\"1\" class=\"dataframe\">\n",
       "  <thead>\n",
       "    <tr style=\"text-align: right;\">\n",
       "      <th></th>\n",
       "      <th>level_0</th>\n",
       "      <th>level_1</th>\n",
       "      <th>0</th>\n",
       "    </tr>\n",
       "  </thead>\n",
       "  <tbody>\n",
       "    <tr>\n",
       "      <th>0</th>\n",
       "      <td>Brown Troupt</td>\n",
       "      <td>size</td>\n",
       "      <td>100</td>\n",
       "    </tr>\n",
       "    <tr>\n",
       "      <th>1</th>\n",
       "      <td>Brown Troupt</td>\n",
       "      <td>weight</td>\n",
       "      <td>20</td>\n",
       "    </tr>\n",
       "    <tr>\n",
       "      <th>2</th>\n",
       "      <td>Atlantic Salmon</td>\n",
       "      <td>size</td>\n",
       "      <td>120</td>\n",
       "    </tr>\n",
       "    <tr>\n",
       "      <th>3</th>\n",
       "      <td>Atlantic Salmon</td>\n",
       "      <td>weight</td>\n",
       "      <td>30</td>\n",
       "    </tr>\n",
       "    <tr>\n",
       "      <th>4</th>\n",
       "      <td>Chinook Salmon</td>\n",
       "      <td>size</td>\n",
       "      <td>70</td>\n",
       "    </tr>\n",
       "    <tr>\n",
       "      <th>5</th>\n",
       "      <td>Chinook Salmon</td>\n",
       "      <td>weight</td>\n",
       "      <td>25</td>\n",
       "    </tr>\n",
       "  </tbody>\n",
       "</table>\n",
       "</div>"
      ],
      "text/plain": [
       "           level_0 level_1    0\n",
       "0     Brown Troupt    size  100\n",
       "1     Brown Troupt  weight   20\n",
       "2  Atlantic Salmon    size  120\n",
       "3  Atlantic Salmon  weight   30\n",
       "4   Chinook Salmon    size   70\n",
       "5   Chinook Salmon  weight   25"
      ]
     },
     "execution_count": 209,
     "metadata": {},
     "output_type": "execute_result"
    }
   ],
   "source": [
    "stacked"
   ]
  },
  {
   "cell_type": "code",
   "execution_count": 213,
   "metadata": {
    "collapsed": false
   },
   "outputs": [],
   "source": [
    "stacked.columns = ['name', 'info', 'value']"
   ]
  },
  {
   "cell_type": "code",
   "execution_count": 214,
   "metadata": {
    "collapsed": false
   },
   "outputs": [
    {
     "data": {
      "text/html": [
       "<div>\n",
       "<table border=\"1\" class=\"dataframe\">\n",
       "  <thead>\n",
       "    <tr style=\"text-align: right;\">\n",
       "      <th></th>\n",
       "      <th>name</th>\n",
       "      <th>info</th>\n",
       "      <th>value</th>\n",
       "    </tr>\n",
       "  </thead>\n",
       "  <tbody>\n",
       "    <tr>\n",
       "      <th>0</th>\n",
       "      <td>Brown Troupt</td>\n",
       "      <td>size</td>\n",
       "      <td>100</td>\n",
       "    </tr>\n",
       "    <tr>\n",
       "      <th>1</th>\n",
       "      <td>Brown Troupt</td>\n",
       "      <td>weight</td>\n",
       "      <td>20</td>\n",
       "    </tr>\n",
       "    <tr>\n",
       "      <th>2</th>\n",
       "      <td>Atlantic Salmon</td>\n",
       "      <td>size</td>\n",
       "      <td>120</td>\n",
       "    </tr>\n",
       "    <tr>\n",
       "      <th>3</th>\n",
       "      <td>Atlantic Salmon</td>\n",
       "      <td>weight</td>\n",
       "      <td>30</td>\n",
       "    </tr>\n",
       "    <tr>\n",
       "      <th>4</th>\n",
       "      <td>Chinook Salmon</td>\n",
       "      <td>size</td>\n",
       "      <td>70</td>\n",
       "    </tr>\n",
       "    <tr>\n",
       "      <th>5</th>\n",
       "      <td>Chinook Salmon</td>\n",
       "      <td>weight</td>\n",
       "      <td>25</td>\n",
       "    </tr>\n",
       "  </tbody>\n",
       "</table>\n",
       "</div>"
      ],
      "text/plain": [
       "              name    info  value\n",
       "0     Brown Troupt    size    100\n",
       "1     Brown Troupt  weight     20\n",
       "2  Atlantic Salmon    size    120\n",
       "3  Atlantic Salmon  weight     30\n",
       "4   Chinook Salmon    size     70\n",
       "5   Chinook Salmon  weight     25"
      ]
     },
     "execution_count": 214,
     "metadata": {},
     "output_type": "execute_result"
    }
   ],
   "source": [
    "stacked"
   ]
  },
  {
   "cell_type": "code",
   "execution_count": 215,
   "metadata": {
    "collapsed": false
   },
   "outputs": [
    {
     "data": {
      "text/html": [
       "<div>\n",
       "<table border=\"1\" class=\"dataframe\">\n",
       "  <thead>\n",
       "    <tr style=\"text-align: right;\">\n",
       "      <th>info</th>\n",
       "      <th>size</th>\n",
       "      <th>weight</th>\n",
       "    </tr>\n",
       "    <tr>\n",
       "      <th>name</th>\n",
       "      <th></th>\n",
       "      <th></th>\n",
       "    </tr>\n",
       "  </thead>\n",
       "  <tbody>\n",
       "    <tr>\n",
       "      <th>Atlantic Salmon</th>\n",
       "      <td>120</td>\n",
       "      <td>30</td>\n",
       "    </tr>\n",
       "    <tr>\n",
       "      <th>Brown Troupt</th>\n",
       "      <td>100</td>\n",
       "      <td>20</td>\n",
       "    </tr>\n",
       "    <tr>\n",
       "      <th>Chinook Salmon</th>\n",
       "      <td>70</td>\n",
       "      <td>25</td>\n",
       "    </tr>\n",
       "  </tbody>\n",
       "</table>\n",
       "</div>"
      ],
      "text/plain": [
       "info             size  weight\n",
       "name                         \n",
       "Atlantic Salmon   120      30\n",
       "Brown Troupt      100      20\n",
       "Chinook Salmon     70      25"
      ]
     },
     "execution_count": 215,
     "metadata": {},
     "output_type": "execute_result"
    }
   ],
   "source": [
    "stacked.pivot(index='name', columns='info', values='value')"
   ]
  },
  {
   "cell_type": "code",
   "execution_count": 79,
   "metadata": {
    "collapsed": false
   },
   "outputs": [],
   "source": [
    "pivoted = departures.pivot_table(index='Start Date', columns='Start Station', values='Duration')"
   ]
  },
  {
   "cell_type": "code",
   "execution_count": 80,
   "metadata": {
    "collapsed": false
   },
   "outputs": [
    {
     "data": {
      "text/html": [
       "<div>\n",
       "<table border=\"1\" class=\"dataframe\">\n",
       "  <thead>\n",
       "    <tr style=\"text-align: right;\">\n",
       "      <th>Start Station</th>\n",
       "      <th>Embarcadero at Sansome</th>\n",
       "      <th>Harry Bridges Plaza (Ferry Building)</th>\n",
       "      <th>San Francisco Caltrain (Townsend at 4th)</th>\n",
       "      <th>San Francisco Caltrain 2 (330 Townsend)</th>\n",
       "      <th>Temporary Transbay Terminal (Howard at Beale)</th>\n",
       "    </tr>\n",
       "    <tr>\n",
       "      <th>Start Date</th>\n",
       "      <th></th>\n",
       "      <th></th>\n",
       "      <th></th>\n",
       "      <th></th>\n",
       "      <th></th>\n",
       "    </tr>\n",
       "  </thead>\n",
       "  <tbody>\n",
       "    <tr>\n",
       "      <th>2014-09-01 03:16:00</th>\n",
       "      <td>NaN</td>\n",
       "      <td>6712.0</td>\n",
       "      <td>NaN</td>\n",
       "      <td>NaN</td>\n",
       "      <td>NaN</td>\n",
       "    </tr>\n",
       "    <tr>\n",
       "      <th>2014-09-01 09:41:00</th>\n",
       "      <td>NaN</td>\n",
       "      <td>NaN</td>\n",
       "      <td>715.0</td>\n",
       "      <td>NaN</td>\n",
       "      <td>NaN</td>\n",
       "    </tr>\n",
       "    <tr>\n",
       "      <th>2014-09-01 09:42:00</th>\n",
       "      <td>NaN</td>\n",
       "      <td>NaN</td>\n",
       "      <td>NaN</td>\n",
       "      <td>601.0</td>\n",
       "      <td>NaN</td>\n",
       "    </tr>\n",
       "    <tr>\n",
       "      <th>2014-09-01 10:34:00</th>\n",
       "      <td>414.0</td>\n",
       "      <td>NaN</td>\n",
       "      <td>NaN</td>\n",
       "      <td>NaN</td>\n",
       "      <td>NaN</td>\n",
       "    </tr>\n",
       "    <tr>\n",
       "      <th>2014-09-01 10:37:00</th>\n",
       "      <td>949.0</td>\n",
       "      <td>NaN</td>\n",
       "      <td>NaN</td>\n",
       "      <td>NaN</td>\n",
       "      <td>NaN</td>\n",
       "    </tr>\n",
       "  </tbody>\n",
       "</table>\n",
       "</div>"
      ],
      "text/plain": [
       "Start Station        Embarcadero at Sansome  \\\n",
       "Start Date                                    \n",
       "2014-09-01 03:16:00                     NaN   \n",
       "2014-09-01 09:41:00                     NaN   \n",
       "2014-09-01 09:42:00                     NaN   \n",
       "2014-09-01 10:34:00                   414.0   \n",
       "2014-09-01 10:37:00                   949.0   \n",
       "\n",
       "Start Station        Harry Bridges Plaza (Ferry Building)  \\\n",
       "Start Date                                                  \n",
       "2014-09-01 03:16:00                                6712.0   \n",
       "2014-09-01 09:41:00                                   NaN   \n",
       "2014-09-01 09:42:00                                   NaN   \n",
       "2014-09-01 10:34:00                                   NaN   \n",
       "2014-09-01 10:37:00                                   NaN   \n",
       "\n",
       "Start Station        San Francisco Caltrain (Townsend at 4th)  \\\n",
       "Start Date                                                      \n",
       "2014-09-01 03:16:00                                       NaN   \n",
       "2014-09-01 09:41:00                                     715.0   \n",
       "2014-09-01 09:42:00                                       NaN   \n",
       "2014-09-01 10:34:00                                       NaN   \n",
       "2014-09-01 10:37:00                                       NaN   \n",
       "\n",
       "Start Station        San Francisco Caltrain 2 (330 Townsend)  \\\n",
       "Start Date                                                     \n",
       "2014-09-01 03:16:00                                      NaN   \n",
       "2014-09-01 09:41:00                                      NaN   \n",
       "2014-09-01 09:42:00                                    601.0   \n",
       "2014-09-01 10:34:00                                      NaN   \n",
       "2014-09-01 10:37:00                                      NaN   \n",
       "\n",
       "Start Station        Temporary Transbay Terminal (Howard at Beale)  \n",
       "Start Date                                                          \n",
       "2014-09-01 03:16:00                                            NaN  \n",
       "2014-09-01 09:41:00                                            NaN  \n",
       "2014-09-01 09:42:00                                            NaN  \n",
       "2014-09-01 10:34:00                                            NaN  \n",
       "2014-09-01 10:37:00                                            NaN  "
      ]
     },
     "execution_count": 80,
     "metadata": {},
     "output_type": "execute_result"
    }
   ],
   "source": [
    "pivoted.head()"
   ]
  },
  {
   "cell_type": "markdown",
   "metadata": {},
   "source": [
    "## Time Series"
   ]
  },
  {
   "cell_type": "code",
   "execution_count": 81,
   "metadata": {
    "collapsed": false
   },
   "outputs": [],
   "source": [
    "daily_averages = pivoted.resample('1d').mean()"
   ]
  },
  {
   "cell_type": "code",
   "execution_count": 82,
   "metadata": {
    "collapsed": false
   },
   "outputs": [
    {
     "data": {
      "text/html": [
       "<div>\n",
       "<table border=\"1\" class=\"dataframe\">\n",
       "  <thead>\n",
       "    <tr style=\"text-align: right;\">\n",
       "      <th>Start Station</th>\n",
       "      <th>Embarcadero at Sansome</th>\n",
       "      <th>Harry Bridges Plaza (Ferry Building)</th>\n",
       "      <th>San Francisco Caltrain (Townsend at 4th)</th>\n",
       "      <th>San Francisco Caltrain 2 (330 Townsend)</th>\n",
       "      <th>Temporary Transbay Terminal (Howard at Beale)</th>\n",
       "    </tr>\n",
       "    <tr>\n",
       "      <th>Start Date</th>\n",
       "      <th></th>\n",
       "      <th></th>\n",
       "      <th></th>\n",
       "      <th></th>\n",
       "      <th></th>\n",
       "    </tr>\n",
       "  </thead>\n",
       "  <tbody>\n",
       "    <tr>\n",
       "      <th>2014-09-01</th>\n",
       "      <td>4214.900000</td>\n",
       "      <td>2034.325000</td>\n",
       "      <td>3898.300000</td>\n",
       "      <td>5697.166667</td>\n",
       "      <td>527.333333</td>\n",
       "    </tr>\n",
       "    <tr>\n",
       "      <th>2014-09-02</th>\n",
       "      <td>776.712644</td>\n",
       "      <td>584.875000</td>\n",
       "      <td>602.343750</td>\n",
       "      <td>523.166667</td>\n",
       "      <td>515.843137</td>\n",
       "    </tr>\n",
       "    <tr>\n",
       "      <th>2014-09-03</th>\n",
       "      <td>848.012195</td>\n",
       "      <td>738.458333</td>\n",
       "      <td>611.924330</td>\n",
       "      <td>558.970270</td>\n",
       "      <td>523.452830</td>\n",
       "    </tr>\n",
       "    <tr>\n",
       "      <th>2014-09-04</th>\n",
       "      <td>737.666667</td>\n",
       "      <td>826.290000</td>\n",
       "      <td>1008.146474</td>\n",
       "      <td>628.082051</td>\n",
       "      <td>598.083333</td>\n",
       "    </tr>\n",
       "    <tr>\n",
       "      <th>2014-09-05</th>\n",
       "      <td>1005.341463</td>\n",
       "      <td>1040.880435</td>\n",
       "      <td>760.353554</td>\n",
       "      <td>602.419497</td>\n",
       "      <td>580.854167</td>\n",
       "    </tr>\n",
       "  </tbody>\n",
       "</table>\n",
       "</div>"
      ],
      "text/plain": [
       "Start Station  Embarcadero at Sansome  Harry Bridges Plaza (Ferry Building)  \\\n",
       "Start Date                                                                    \n",
       "2014-09-01                4214.900000                           2034.325000   \n",
       "2014-09-02                 776.712644                            584.875000   \n",
       "2014-09-03                 848.012195                            738.458333   \n",
       "2014-09-04                 737.666667                            826.290000   \n",
       "2014-09-05                1005.341463                           1040.880435   \n",
       "\n",
       "Start Station  San Francisco Caltrain (Townsend at 4th)  \\\n",
       "Start Date                                                \n",
       "2014-09-01                                  3898.300000   \n",
       "2014-09-02                                   602.343750   \n",
       "2014-09-03                                   611.924330   \n",
       "2014-09-04                                  1008.146474   \n",
       "2014-09-05                                   760.353554   \n",
       "\n",
       "Start Station  San Francisco Caltrain 2 (330 Townsend)  \\\n",
       "Start Date                                               \n",
       "2014-09-01                                 5697.166667   \n",
       "2014-09-02                                  523.166667   \n",
       "2014-09-03                                  558.970270   \n",
       "2014-09-04                                  628.082051   \n",
       "2014-09-05                                  602.419497   \n",
       "\n",
       "Start Station  Temporary Transbay Terminal (Howard at Beale)  \n",
       "Start Date                                                    \n",
       "2014-09-01                                        527.333333  \n",
       "2014-09-02                                        515.843137  \n",
       "2014-09-03                                        523.452830  \n",
       "2014-09-04                                        598.083333  \n",
       "2014-09-05                                        580.854167  "
      ]
     },
     "execution_count": 82,
     "metadata": {},
     "output_type": "execute_result"
    }
   ],
   "source": [
    "daily_averages.head()"
   ]
  },
  {
   "cell_type": "code",
   "execution_count": 224,
   "metadata": {
    "collapsed": false
   },
   "outputs": [
    {
     "data": {
      "text/html": [
       "<div>\n",
       "<table border=\"1\" class=\"dataframe\">\n",
       "  <thead>\n",
       "    <tr style=\"text-align: right;\">\n",
       "      <th>Start Station</th>\n",
       "      <th>Embarcadero at Sansome</th>\n",
       "      <th>Harry Bridges Plaza (Ferry Building)</th>\n",
       "      <th>San Francisco Caltrain (Townsend at 4th)</th>\n",
       "      <th>San Francisco Caltrain 2 (330 Townsend)</th>\n",
       "      <th>Temporary Transbay Terminal (Howard at Beale)</th>\n",
       "      <th>Weekday</th>\n",
       "      <th>Month</th>\n",
       "    </tr>\n",
       "    <tr>\n",
       "      <th>Start Date</th>\n",
       "      <th></th>\n",
       "      <th></th>\n",
       "      <th></th>\n",
       "      <th></th>\n",
       "      <th></th>\n",
       "      <th></th>\n",
       "      <th></th>\n",
       "    </tr>\n",
       "  </thead>\n",
       "  <tbody>\n",
       "    <tr>\n",
       "      <th>2014-09-01</th>\n",
       "      <td>4214.900000</td>\n",
       "      <td>2034.325000</td>\n",
       "      <td>3898.300000</td>\n",
       "      <td>5697.166667</td>\n",
       "      <td>527.333333</td>\n",
       "      <td>Mon</td>\n",
       "      <td>9</td>\n",
       "    </tr>\n",
       "    <tr>\n",
       "      <th>2014-09-02</th>\n",
       "      <td>776.712644</td>\n",
       "      <td>584.875000</td>\n",
       "      <td>602.343750</td>\n",
       "      <td>523.166667</td>\n",
       "      <td>515.843137</td>\n",
       "      <td>Tue</td>\n",
       "      <td>9</td>\n",
       "    </tr>\n",
       "    <tr>\n",
       "      <th>2014-09-03</th>\n",
       "      <td>848.012195</td>\n",
       "      <td>738.458333</td>\n",
       "      <td>611.924330</td>\n",
       "      <td>558.970270</td>\n",
       "      <td>523.452830</td>\n",
       "      <td>Wed</td>\n",
       "      <td>9</td>\n",
       "    </tr>\n",
       "    <tr>\n",
       "      <th>2014-09-04</th>\n",
       "      <td>737.666667</td>\n",
       "      <td>826.290000</td>\n",
       "      <td>1008.146474</td>\n",
       "      <td>628.082051</td>\n",
       "      <td>598.083333</td>\n",
       "      <td>Thu</td>\n",
       "      <td>9</td>\n",
       "    </tr>\n",
       "    <tr>\n",
       "      <th>2014-09-05</th>\n",
       "      <td>1005.341463</td>\n",
       "      <td>1040.880435</td>\n",
       "      <td>760.353554</td>\n",
       "      <td>602.419497</td>\n",
       "      <td>580.854167</td>\n",
       "      <td>Fri</td>\n",
       "      <td>9</td>\n",
       "    </tr>\n",
       "  </tbody>\n",
       "</table>\n",
       "</div>"
      ],
      "text/plain": [
       "Start Station  Embarcadero at Sansome  Harry Bridges Plaza (Ferry Building)  \\\n",
       "Start Date                                                                    \n",
       "2014-09-01                4214.900000                           2034.325000   \n",
       "2014-09-02                 776.712644                            584.875000   \n",
       "2014-09-03                 848.012195                            738.458333   \n",
       "2014-09-04                 737.666667                            826.290000   \n",
       "2014-09-05                1005.341463                           1040.880435   \n",
       "\n",
       "Start Station  San Francisco Caltrain (Townsend at 4th)  \\\n",
       "Start Date                                                \n",
       "2014-09-01                                  3898.300000   \n",
       "2014-09-02                                   602.343750   \n",
       "2014-09-03                                   611.924330   \n",
       "2014-09-04                                  1008.146474   \n",
       "2014-09-05                                   760.353554   \n",
       "\n",
       "Start Station  San Francisco Caltrain 2 (330 Townsend)  \\\n",
       "Start Date                                               \n",
       "2014-09-01                                 5697.166667   \n",
       "2014-09-02                                  523.166667   \n",
       "2014-09-03                                  558.970270   \n",
       "2014-09-04                                  628.082051   \n",
       "2014-09-05                                  602.419497   \n",
       "\n",
       "Start Station  Temporary Transbay Terminal (Howard at Beale) Weekday  Month  \n",
       "Start Date                                                                   \n",
       "2014-09-01                                        527.333333     Mon      9  \n",
       "2014-09-02                                        515.843137     Tue      9  \n",
       "2014-09-03                                        523.452830     Wed      9  \n",
       "2014-09-04                                        598.083333     Thu      9  \n",
       "2014-09-05                                        580.854167     Fri      9  "
      ]
     },
     "execution_count": 224,
     "metadata": {},
     "output_type": "execute_result"
    }
   ],
   "source": [
    "daily_averages['2014'].head()"
   ]
  },
  {
   "cell_type": "code",
   "execution_count": 226,
   "metadata": {
    "collapsed": false
   },
   "outputs": [
    {
     "data": {
      "text/html": [
       "<div>\n",
       "<table border=\"1\" class=\"dataframe\">\n",
       "  <thead>\n",
       "    <tr style=\"text-align: right;\">\n",
       "      <th>Start Station</th>\n",
       "      <th>Embarcadero at Sansome</th>\n",
       "      <th>Harry Bridges Plaza (Ferry Building)</th>\n",
       "      <th>San Francisco Caltrain (Townsend at 4th)</th>\n",
       "      <th>San Francisco Caltrain 2 (330 Townsend)</th>\n",
       "      <th>Temporary Transbay Terminal (Howard at Beale)</th>\n",
       "      <th>Weekday</th>\n",
       "      <th>Month</th>\n",
       "    </tr>\n",
       "    <tr>\n",
       "      <th>Start Date</th>\n",
       "      <th></th>\n",
       "      <th></th>\n",
       "      <th></th>\n",
       "      <th></th>\n",
       "      <th></th>\n",
       "      <th></th>\n",
       "      <th></th>\n",
       "    </tr>\n",
       "  </thead>\n",
       "  <tbody>\n",
       "    <tr>\n",
       "      <th>2014-10-01</th>\n",
       "      <td>2017.562500</td>\n",
       "      <td>1729.528846</td>\n",
       "      <td>747.191213</td>\n",
       "      <td>566.573837</td>\n",
       "      <td>501.398693</td>\n",
       "      <td>Wed</td>\n",
       "      <td>10</td>\n",
       "    </tr>\n",
       "    <tr>\n",
       "      <th>2014-10-02</th>\n",
       "      <td>1492.860000</td>\n",
       "      <td>1199.160000</td>\n",
       "      <td>653.659722</td>\n",
       "      <td>555.023663</td>\n",
       "      <td>716.618644</td>\n",
       "      <td>Thu</td>\n",
       "      <td>10</td>\n",
       "    </tr>\n",
       "    <tr>\n",
       "      <th>2014-10-03</th>\n",
       "      <td>816.750000</td>\n",
       "      <td>679.900000</td>\n",
       "      <td>696.092342</td>\n",
       "      <td>559.867150</td>\n",
       "      <td>493.988095</td>\n",
       "      <td>Fri</td>\n",
       "      <td>10</td>\n",
       "    </tr>\n",
       "    <tr>\n",
       "      <th>2014-10-04</th>\n",
       "      <td>2209.200000</td>\n",
       "      <td>2226.096774</td>\n",
       "      <td>940.470588</td>\n",
       "      <td>610.000000</td>\n",
       "      <td>637.250000</td>\n",
       "      <td>Sat</td>\n",
       "      <td>10</td>\n",
       "    </tr>\n",
       "    <tr>\n",
       "      <th>2014-10-05</th>\n",
       "      <td>2741.527778</td>\n",
       "      <td>5852.772727</td>\n",
       "      <td>623.083333</td>\n",
       "      <td>1455.153846</td>\n",
       "      <td>3377.000000</td>\n",
       "      <td>Sun</td>\n",
       "      <td>10</td>\n",
       "    </tr>\n",
       "  </tbody>\n",
       "</table>\n",
       "</div>"
      ],
      "text/plain": [
       "Start Station  Embarcadero at Sansome  Harry Bridges Plaza (Ferry Building)  \\\n",
       "Start Date                                                                    \n",
       "2014-10-01                2017.562500                           1729.528846   \n",
       "2014-10-02                1492.860000                           1199.160000   \n",
       "2014-10-03                 816.750000                            679.900000   \n",
       "2014-10-04                2209.200000                           2226.096774   \n",
       "2014-10-05                2741.527778                           5852.772727   \n",
       "\n",
       "Start Station  San Francisco Caltrain (Townsend at 4th)  \\\n",
       "Start Date                                                \n",
       "2014-10-01                                   747.191213   \n",
       "2014-10-02                                   653.659722   \n",
       "2014-10-03                                   696.092342   \n",
       "2014-10-04                                   940.470588   \n",
       "2014-10-05                                   623.083333   \n",
       "\n",
       "Start Station  San Francisco Caltrain 2 (330 Townsend)  \\\n",
       "Start Date                                               \n",
       "2014-10-01                                  566.573837   \n",
       "2014-10-02                                  555.023663   \n",
       "2014-10-03                                  559.867150   \n",
       "2014-10-04                                  610.000000   \n",
       "2014-10-05                                 1455.153846   \n",
       "\n",
       "Start Station  Temporary Transbay Terminal (Howard at Beale) Weekday  Month  \n",
       "Start Date                                                                   \n",
       "2014-10-01                                        501.398693     Wed     10  \n",
       "2014-10-02                                        716.618644     Thu     10  \n",
       "2014-10-03                                        493.988095     Fri     10  \n",
       "2014-10-04                                        637.250000     Sat     10  \n",
       "2014-10-05                                       3377.000000     Sun     10  "
      ]
     },
     "execution_count": 226,
     "metadata": {},
     "output_type": "execute_result"
    }
   ],
   "source": [
    "daily_averages['2014-10'].head()"
   ]
  },
  {
   "cell_type": "code",
   "execution_count": 227,
   "metadata": {
    "collapsed": false
   },
   "outputs": [
    {
     "data": {
      "text/html": [
       "<div>\n",
       "<table border=\"1\" class=\"dataframe\">\n",
       "  <thead>\n",
       "    <tr style=\"text-align: right;\">\n",
       "      <th>Start Station</th>\n",
       "      <th>Embarcadero at Sansome</th>\n",
       "      <th>Harry Bridges Plaza (Ferry Building)</th>\n",
       "      <th>San Francisco Caltrain (Townsend at 4th)</th>\n",
       "      <th>San Francisco Caltrain 2 (330 Townsend)</th>\n",
       "      <th>Temporary Transbay Terminal (Howard at Beale)</th>\n",
       "      <th>Weekday</th>\n",
       "      <th>Month</th>\n",
       "    </tr>\n",
       "    <tr>\n",
       "      <th>Start Date</th>\n",
       "      <th></th>\n",
       "      <th></th>\n",
       "      <th></th>\n",
       "      <th></th>\n",
       "      <th></th>\n",
       "      <th></th>\n",
       "      <th></th>\n",
       "    </tr>\n",
       "  </thead>\n",
       "  <tbody>\n",
       "    <tr>\n",
       "      <th>2014-10-15</th>\n",
       "      <td>609.283333</td>\n",
       "      <td>1299.451923</td>\n",
       "      <td>1433.136275</td>\n",
       "      <td>548.640845</td>\n",
       "      <td>519.727564</td>\n",
       "      <td>Wed</td>\n",
       "      <td>10</td>\n",
       "    </tr>\n",
       "    <tr>\n",
       "      <th>2014-10-16</th>\n",
       "      <td>858.304878</td>\n",
       "      <td>1237.673333</td>\n",
       "      <td>654.744309</td>\n",
       "      <td>565.372549</td>\n",
       "      <td>585.225000</td>\n",
       "      <td>Thu</td>\n",
       "      <td>10</td>\n",
       "    </tr>\n",
       "    <tr>\n",
       "      <th>2014-10-17</th>\n",
       "      <td>1074.593496</td>\n",
       "      <td>1016.199275</td>\n",
       "      <td>661.732906</td>\n",
       "      <td>603.558333</td>\n",
       "      <td>520.447917</td>\n",
       "      <td>Fri</td>\n",
       "      <td>10</td>\n",
       "    </tr>\n",
       "    <tr>\n",
       "      <th>2014-10-18</th>\n",
       "      <td>2888.658537</td>\n",
       "      <td>3395.312500</td>\n",
       "      <td>10690.700000</td>\n",
       "      <td>1519.500000</td>\n",
       "      <td>536.250000</td>\n",
       "      <td>Sat</td>\n",
       "      <td>10</td>\n",
       "    </tr>\n",
       "    <tr>\n",
       "      <th>2014-10-19</th>\n",
       "      <td>1358.304348</td>\n",
       "      <td>2596.423077</td>\n",
       "      <td>1256.631579</td>\n",
       "      <td>1348.705882</td>\n",
       "      <td>800.600000</td>\n",
       "      <td>Sun</td>\n",
       "      <td>10</td>\n",
       "    </tr>\n",
       "    <tr>\n",
       "      <th>2014-10-20</th>\n",
       "      <td>697.872807</td>\n",
       "      <td>1357.539007</td>\n",
       "      <td>654.409420</td>\n",
       "      <td>525.996324</td>\n",
       "      <td>599.636364</td>\n",
       "      <td>Mon</td>\n",
       "      <td>10</td>\n",
       "    </tr>\n",
       "  </tbody>\n",
       "</table>\n",
       "</div>"
      ],
      "text/plain": [
       "Start Station  Embarcadero at Sansome  Harry Bridges Plaza (Ferry Building)  \\\n",
       "Start Date                                                                    \n",
       "2014-10-15                 609.283333                           1299.451923   \n",
       "2014-10-16                 858.304878                           1237.673333   \n",
       "2014-10-17                1074.593496                           1016.199275   \n",
       "2014-10-18                2888.658537                           3395.312500   \n",
       "2014-10-19                1358.304348                           2596.423077   \n",
       "2014-10-20                 697.872807                           1357.539007   \n",
       "\n",
       "Start Station  San Francisco Caltrain (Townsend at 4th)  \\\n",
       "Start Date                                                \n",
       "2014-10-15                                  1433.136275   \n",
       "2014-10-16                                   654.744309   \n",
       "2014-10-17                                   661.732906   \n",
       "2014-10-18                                 10690.700000   \n",
       "2014-10-19                                  1256.631579   \n",
       "2014-10-20                                   654.409420   \n",
       "\n",
       "Start Station  San Francisco Caltrain 2 (330 Townsend)  \\\n",
       "Start Date                                               \n",
       "2014-10-15                                  548.640845   \n",
       "2014-10-16                                  565.372549   \n",
       "2014-10-17                                  603.558333   \n",
       "2014-10-18                                 1519.500000   \n",
       "2014-10-19                                 1348.705882   \n",
       "2014-10-20                                  525.996324   \n",
       "\n",
       "Start Station  Temporary Transbay Terminal (Howard at Beale) Weekday  Month  \n",
       "Start Date                                                                   \n",
       "2014-10-15                                        519.727564     Wed     10  \n",
       "2014-10-16                                        585.225000     Thu     10  \n",
       "2014-10-17                                        520.447917     Fri     10  \n",
       "2014-10-18                                        536.250000     Sat     10  \n",
       "2014-10-19                                        800.600000     Sun     10  \n",
       "2014-10-20                                        599.636364     Mon     10  "
      ]
     },
     "execution_count": 227,
     "metadata": {},
     "output_type": "execute_result"
    }
   ],
   "source": [
    "daily_averages['2014-10-15':'2014-10-20']"
   ]
  },
  {
   "cell_type": "markdown",
   "metadata": {},
   "source": [
    "## Groupby"
   ]
  },
  {
   "cell_type": "code",
   "execution_count": 228,
   "metadata": {
    "collapsed": true
   },
   "outputs": [],
   "source": [
    "groupby_example = pandas.DataFrame({'key': ['a', 'b', 'a', 'b'], 'value': [1,2,1,2]})"
   ]
  },
  {
   "cell_type": "code",
   "execution_count": 229,
   "metadata": {
    "collapsed": false
   },
   "outputs": [
    {
     "data": {
      "text/html": [
       "<div>\n",
       "<table border=\"1\" class=\"dataframe\">\n",
       "  <thead>\n",
       "    <tr style=\"text-align: right;\">\n",
       "      <th></th>\n",
       "      <th>key</th>\n",
       "      <th>value</th>\n",
       "    </tr>\n",
       "  </thead>\n",
       "  <tbody>\n",
       "    <tr>\n",
       "      <th>0</th>\n",
       "      <td>a</td>\n",
       "      <td>1</td>\n",
       "    </tr>\n",
       "    <tr>\n",
       "      <th>1</th>\n",
       "      <td>b</td>\n",
       "      <td>2</td>\n",
       "    </tr>\n",
       "    <tr>\n",
       "      <th>2</th>\n",
       "      <td>a</td>\n",
       "      <td>1</td>\n",
       "    </tr>\n",
       "    <tr>\n",
       "      <th>3</th>\n",
       "      <td>b</td>\n",
       "      <td>2</td>\n",
       "    </tr>\n",
       "  </tbody>\n",
       "</table>\n",
       "</div>"
      ],
      "text/plain": [
       "  key  value\n",
       "0   a      1\n",
       "1   b      2\n",
       "2   a      1\n",
       "3   b      2"
      ]
     },
     "execution_count": 229,
     "metadata": {},
     "output_type": "execute_result"
    }
   ],
   "source": [
    "groupby_example"
   ]
  },
  {
   "cell_type": "code",
   "execution_count": 230,
   "metadata": {
    "collapsed": false
   },
   "outputs": [
    {
     "data": {
      "text/html": [
       "<div>\n",
       "<table border=\"1\" class=\"dataframe\">\n",
       "  <thead>\n",
       "    <tr style=\"text-align: right;\">\n",
       "      <th></th>\n",
       "      <th>value</th>\n",
       "    </tr>\n",
       "    <tr>\n",
       "      <th>key</th>\n",
       "      <th></th>\n",
       "    </tr>\n",
       "  </thead>\n",
       "  <tbody>\n",
       "    <tr>\n",
       "      <th>a</th>\n",
       "      <td>1</td>\n",
       "    </tr>\n",
       "    <tr>\n",
       "      <th>b</th>\n",
       "      <td>2</td>\n",
       "    </tr>\n",
       "  </tbody>\n",
       "</table>\n",
       "</div>"
      ],
      "text/plain": [
       "     value\n",
       "key       \n",
       "a        1\n",
       "b        2"
      ]
     },
     "execution_count": 230,
     "metadata": {},
     "output_type": "execute_result"
    }
   ],
   "source": [
    "groupby_example.groupby('key').mean()"
   ]
  },
  {
   "cell_type": "code",
   "execution_count": 231,
   "metadata": {
    "collapsed": false
   },
   "outputs": [
    {
     "data": {
      "text/html": [
       "<div>\n",
       "<table border=\"1\" class=\"dataframe\">\n",
       "  <thead>\n",
       "    <tr style=\"text-align: right;\">\n",
       "      <th></th>\n",
       "      <th>value</th>\n",
       "    </tr>\n",
       "    <tr>\n",
       "      <th>key</th>\n",
       "      <th></th>\n",
       "    </tr>\n",
       "  </thead>\n",
       "  <tbody>\n",
       "    <tr>\n",
       "      <th>a</th>\n",
       "      <td>2</td>\n",
       "    </tr>\n",
       "    <tr>\n",
       "      <th>b</th>\n",
       "      <td>4</td>\n",
       "    </tr>\n",
       "  </tbody>\n",
       "</table>\n",
       "</div>"
      ],
      "text/plain": [
       "     value\n",
       "key       \n",
       "a        2\n",
       "b        4"
      ]
     },
     "execution_count": 231,
     "metadata": {},
     "output_type": "execute_result"
    }
   ],
   "source": [
    "groupby_example.groupby('key').sum()"
   ]
  },
  {
   "cell_type": "code",
   "execution_count": 83,
   "metadata": {
    "collapsed": false
   },
   "outputs": [
    {
     "data": {
      "text/plain": [
       "DatetimeIndex(['2014-09-01', '2014-09-02', '2014-09-03', '2014-09-04',\n",
       "               '2014-09-05', '2014-09-06', '2014-09-07', '2014-09-08',\n",
       "               '2014-09-09', '2014-09-10',\n",
       "               ...\n",
       "               '2015-08-22', '2015-08-23', '2015-08-24', '2015-08-25',\n",
       "               '2015-08-26', '2015-08-27', '2015-08-28', '2015-08-29',\n",
       "               '2015-08-30', '2015-08-31'],\n",
       "              dtype='datetime64[ns]', name=u'Start Date', length=365, freq='D')"
      ]
     },
     "execution_count": 83,
     "metadata": {},
     "output_type": "execute_result"
    }
   ],
   "source": [
    "daily_averages.index"
   ]
  },
  {
   "cell_type": "code",
   "execution_count": 84,
   "metadata": {
    "collapsed": false
   },
   "outputs": [],
   "source": [
    "daily_averages['Weekday'] = daily_averages.index.weekday"
   ]
  },
  {
   "cell_type": "code",
   "execution_count": 124,
   "metadata": {
    "collapsed": false
   },
   "outputs": [],
   "source": [
    "mean_weekday = daily_averages.groupby('Weekday').mean()"
   ]
  },
  {
   "cell_type": "code",
   "execution_count": 125,
   "metadata": {
    "collapsed": false
   },
   "outputs": [
    {
     "data": {
      "text/plain": [
       "<matplotlib.axes._subplots.AxesSubplot at 0x120c8c810>"
      ]
     },
     "execution_count": 125,
     "metadata": {},
     "output_type": "execute_result"
    },
    {
     "data": {
      "image/png": "[encoded data removed]",
      "text/plain": [
       "<matplotlib.figure.Figure at 0x11b6b4b10>"
      ]
     },
     "metadata": {},
     "output_type": "display_data"
    }
   ],
   "source": [
    "mean_weekday.plot(kind='bar')"
   ]
  },
  {
   "cell_type": "code",
   "execution_count": 89,
   "metadata": {
    "collapsed": true
   },
   "outputs": [],
   "source": [
    "import calendar"
   ]
  },
  {
   "cell_type": "code",
   "execution_count": 126,
   "metadata": {
    "collapsed": false
   },
   "outputs": [],
   "source": [
    "daily_averages['Weekday'] = daily_averages['Weekday'].apply(lambda x: calendar.day_abbr[x])"
   ]
  },
  {
   "cell_type": "code",
   "execution_count": 127,
   "metadata": {
    "collapsed": false
   },
   "outputs": [
    {
     "data": {
      "text/plain": [
       "<matplotlib.axes._subplots.AxesSubplot at 0x1213c7550>"
      ]
     },
     "execution_count": 127,
     "metadata": {},
     "output_type": "execute_result"
    },
    {
     "data": {
      "image/png": "[encoded data removed]",
      "text/plain": [
       "<matplotlib.figure.Figure at 0x120bc1710>"
      ]
     },
     "metadata": {},
     "output_type": "display_data"
    }
   ],
   "source": [
    "daily_averages.groupby('Weekday').mean().plot.bar()"
   ]
  },
  {
   "cell_type": "code",
   "execution_count": 130,
   "metadata": {
    "collapsed": true
   },
   "outputs": [],
   "source": [
    "means = daily_averages.groupby('Weekday').mean()"
   ]
  },
  {
   "cell_type": "code",
   "execution_count": 131,
   "metadata": {
    "collapsed": false
   },
   "outputs": [
    {
     "data": {
      "text/plain": [
       "Index([u'Fri', u'Mon', u'Sat', u'Sun', u'Thu', u'Tue', u'Wed'], dtype='object', name=u'Weekday')"
      ]
     },
     "execution_count": 131,
     "metadata": {},
     "output_type": "execute_result"
    }
   ],
   "source": [
    "means.index"
   ]
  },
  {
   "cell_type": "code",
   "execution_count": 133,
   "metadata": {
    "collapsed": true
   },
   "outputs": [],
   "source": [
    "reverse_days = {calendar.day_abbr[i]: i for i in range(7)}"
   ]
  },
  {
   "cell_type": "code",
   "execution_count": 134,
   "metadata": {
    "collapsed": false
   },
   "outputs": [],
   "source": [
    "daynums = [reverse_days[i] for i in means.index]"
   ]
  },
  {
   "cell_type": "code",
   "execution_count": 135,
   "metadata": {
    "collapsed": true
   },
   "outputs": [],
   "source": [
    "import numpy as np"
   ]
  },
  {
   "cell_type": "code",
   "execution_count": 138,
   "metadata": {
    "collapsed": false
   },
   "outputs": [
    {
     "data": {
      "text/plain": [
       "array([1, 5, 6, 4, 0, 2, 3])"
      ]
     },
     "execution_count": 138,
     "metadata": {},
     "output_type": "execute_result"
    }
   ],
   "source": [
    "np.argsort(daynums)"
   ]
  },
  {
   "cell_type": "code",
   "execution_count": 137,
   "metadata": {
    "collapsed": false
   },
   "outputs": [
    {
     "data": {
      "text/plain": [
       "<matplotlib.axes._subplots.AxesSubplot at 0x120c7c0d0>"
      ]
     },
     "execution_count": 137,
     "metadata": {},
     "output_type": "execute_result"
    },
    {
     "data": {
      "image/png": "[encoded data removed]",
      "text/plain": [
       "<matplotlib.figure.Figure at 0x120c991d0>"
      ]
     },
     "metadata": {},
     "output_type": "display_data"
    }
   ],
   "source": [
    "means.iloc[np.argsort(daynums)].plot.bar()"
   ]
  },
  {
   "cell_type": "code",
   "execution_count": 139,
   "metadata": {
    "collapsed": true
   },
   "outputs": [],
   "source": [
    "daily_averages['Month'] = daily_averages.index.month"
   ]
  },
  {
   "cell_type": "code",
   "execution_count": 143,
   "metadata": {
    "collapsed": true
   },
   "outputs": [],
   "source": [
    "import matplotlib.pyplot as plt"
   ]
  },
  {
   "cell_type": "code",
   "execution_count": 148,
   "metadata": {
    "collapsed": false
   },
   "outputs": [
    {
     "data": {
      "text/plain": [
       "<matplotlib.axes._subplots.AxesSubplot at 0x1235d2dd0>"
      ]
     },
     "execution_count": 148,
     "metadata": {},
     "output_type": "execute_result"
    },
    {
     "data": {
      "image/png": "[encoded data removed]",
      "text/plain": [
       "<matplotlib.figure.Figure at 0x12376ee90>"
      ]
     },
     "metadata": {},
     "output_type": "display_data"
    }
   ],
   "source": [
    "daily_averages.groupby('Month').mean().plot.bar()"
   ]
  },
  {
   "cell_type": "code",
   "execution_count": 152,
   "metadata": {
    "collapsed": false
   },
   "outputs": [
    {
     "data": {
      "text/plain": [
       "<matplotlib.axes._subplots.AxesSubplot at 0x1244cd290>"
      ]
     },
     "execution_count": 152,
     "metadata": {},
     "output_type": "execute_result"
    },
    {
     "data": {
      "image/png": "[encoded data removed]",
      "text/plain": [
       "<matplotlib.figure.Figure at 0x123bbf2d0>"
      ]
     },
     "metadata": {},
     "output_type": "display_data"
    }
   ],
   "source": [
    "daily_averages.groupby('Month').mean().plot.bar(ylim=(0, 3000), figsize=(12,10))"
   ]
  },
  {
   "cell_type": "code",
   "execution_count": 10,
   "metadata": {
    "collapsed": false
   },
   "outputs": [
    {
     "data": {
      "text/plain": [
       "<matplotlib.axes._subplots.AxesSubplot at 0x7f86bd6fe710>"
      ]
     },
     "execution_count": 10,
     "metadata": {},
     "output_type": "execute_result"
    },
    {
     "data": {
      "image/png": "[encoded data removed]",
      "text/plain": [
       "<matplotlib.figure.Figure at 0x7f86bf8d89d0>"
      ]
     },
     "metadata": {},
     "output_type": "display_data"
    }
   ],
   "source": [
    "df.Duration.hist()"
   ]
  },
  {
   "cell_type": "code",
   "execution_count": 19,
   "metadata": {
    "collapsed": false
   },
   "outputs": [
    {
     "data": {
      "text/html": [
       "<div>\n",
       "<table border=\"1\" class=\"dataframe\">\n",
       "  <thead>\n",
       "    <tr style=\"text-align: right;\">\n",
       "      <th></th>\n",
       "      <th>Trip ID</th>\n",
       "      <th>Duration</th>\n",
       "      <th>Start Date</th>\n",
       "      <th>Start Station</th>\n",
       "      <th>Start Terminal</th>\n",
       "      <th>End Date</th>\n",
       "      <th>End Station</th>\n",
       "      <th>End Terminal</th>\n",
       "      <th>Bike #</th>\n",
       "      <th>Subscriber Type</th>\n",
       "      <th>Zip Code</th>\n",
       "    </tr>\n",
       "  </thead>\n",
       "  <tbody>\n",
       "    <tr>\n",
       "      <th>55259</th>\n",
       "      <td>841176</td>\n",
       "      <td>1133540</td>\n",
       "      <td>7/10/2015 10:35</td>\n",
       "      <td>University and Emerson</td>\n",
       "      <td>35</td>\n",
       "      <td>7/23/2015 13:27</td>\n",
       "      <td>University and Emerson</td>\n",
       "      <td>35</td>\n",
       "      <td>262</td>\n",
       "      <td>Customer</td>\n",
       "      <td>94306</td>\n",
       "    </tr>\n",
       "    <tr>\n",
       "      <th>66911</th>\n",
       "      <td>825850</td>\n",
       "      <td>2137000</td>\n",
       "      <td>6/28/2015 21:50</td>\n",
       "      <td>Market at Sansome</td>\n",
       "      <td>77</td>\n",
       "      <td>7/23/2015 15:27</td>\n",
       "      <td>Yerba Buena Center of the Arts (3rd @ Howard)</td>\n",
       "      <td>68</td>\n",
       "      <td>466</td>\n",
       "      <td>Customer</td>\n",
       "      <td>97213</td>\n",
       "    </tr>\n",
       "    <tr>\n",
       "      <th>124532</th>\n",
       "      <td>750192</td>\n",
       "      <td>1852590</td>\n",
       "      <td>5/2/2015 6:17</td>\n",
       "      <td>San Antonio Shopping Center</td>\n",
       "      <td>31</td>\n",
       "      <td>5/23/2015 16:53</td>\n",
       "      <td>Castro Street and El Camino Real</td>\n",
       "      <td>32</td>\n",
       "      <td>680</td>\n",
       "      <td>Subscriber</td>\n",
       "      <td>94024</td>\n",
       "    </tr>\n",
       "    <tr>\n",
       "      <th>257759</th>\n",
       "      <td>568474</td>\n",
       "      <td>17270400</td>\n",
       "      <td>12/6/2014 21:59</td>\n",
       "      <td>South Van Ness at Market</td>\n",
       "      <td>66</td>\n",
       "      <td>6/24/2015 20:18</td>\n",
       "      <td>2nd at Folsom</td>\n",
       "      <td>62</td>\n",
       "      <td>535</td>\n",
       "      <td>Customer</td>\n",
       "      <td>95531</td>\n",
       "    </tr>\n",
       "  </tbody>\n",
       "</table>\n",
       "</div>"
      ],
      "text/plain": [
       "        Trip ID  Duration       Start Date                Start Station  \\\n",
       "55259    841176   1133540  7/10/2015 10:35       University and Emerson   \n",
       "66911    825850   2137000  6/28/2015 21:50            Market at Sansome   \n",
       "124532   750192   1852590    5/2/2015 6:17  San Antonio Shopping Center   \n",
       "257759   568474  17270400  12/6/2014 21:59     South Van Ness at Market   \n",
       "\n",
       "        Start Terminal         End Date  \\\n",
       "55259               35  7/23/2015 13:27   \n",
       "66911               77  7/23/2015 15:27   \n",
       "124532              31  5/23/2015 16:53   \n",
       "257759              66  6/24/2015 20:18   \n",
       "\n",
       "                                          End Station  End Terminal  Bike #  \\\n",
       "55259                          University and Emerson            35     262   \n",
       "66911   Yerba Buena Center of the Arts (3rd @ Howard)            68     466   \n",
       "124532               Castro Street and El Camino Real            32     680   \n",
       "257759                                  2nd at Folsom            62     535   \n",
       "\n",
       "       Subscriber Type Zip Code  \n",
       "55259         Customer    94306  \n",
       "66911         Customer    97213  \n",
       "124532      Subscriber    94024  \n",
       "257759        Customer    95531  "
      ]
     },
     "execution_count": 19,
     "metadata": {},
     "output_type": "execute_result"
    }
   ],
   "source": [
    "df[df.Duration > 1e6]"
   ]
  },
  {
   "cell_type": "code",
   "execution_count": 20,
   "metadata": {
    "collapsed": false
   },
   "outputs": [
    {
     "data": {
      "text/plain": [
       "257759"
      ]
     },
     "execution_count": 20,
     "metadata": {},
     "output_type": "execute_result"
    }
   ],
   "source": [
    "df.Duration.idxmax()"
   ]
  },
  {
   "cell_type": "code",
   "execution_count": 21,
   "metadata": {
    "collapsed": false
   },
   "outputs": [
    {
     "data": {
      "text/plain": [
       "Trip ID                              568474\n",
       "Duration                           17270400\n",
       "Start Date                  12/6/2014 21:59\n",
       "Start Station      South Van Ness at Market\n",
       "Start Terminal                           66\n",
       "End Date                    6/24/2015 20:18\n",
       "End Station                   2nd at Folsom\n",
       "End Terminal                             62\n",
       "Bike #                                  535\n",
       "Subscriber Type                    Customer\n",
       "Zip Code                              95531\n",
       "Name: 257759, dtype: object"
      ]
     },
     "execution_count": 21,
     "metadata": {},
     "output_type": "execute_result"
    }
   ],
   "source": [
    "df.loc[df.Duration.idxmax()]"
   ]
  },
  {
   "cell_type": "code",
   "execution_count": 11,
   "metadata": {
    "collapsed": false,
    "scrolled": true
   },
   "outputs": [
    {
     "data": {
      "text/plain": [
       "<matplotlib.axes._subplots.AxesSubplot at 0x7f86bf015290>"
      ]
     },
     "execution_count": 11,
     "metadata": {},
     "output_type": "execute_result"
    },
    {
     "data": {
      "image/png": "[encoded data removed]",
      "text/plain": [
       "<matplotlib.figure.Figure at 0x7f86bd68a2d0>"
      ]
     },
     "metadata": {},
     "output_type": "display_data"
    }
   ],
   "source": [
    "df.Duration[df.Duration < 60*30].hist(bins = 30)"
   ]
  },
  {
   "cell_type": "code",
   "execution_count": 15,
   "metadata": {
    "collapsed": false
   },
   "outputs": [
    {
     "data": {
      "text/plain": [
       "<matplotlib.axes._subplots.AxesSubplot at 0x7f86c0e9cad0>"
      ]
     },
     "execution_count": 15,
     "metadata": {},
     "output_type": "execute_result"
    },
    {
     "data": {
      "image/png": "[encoded data removed]",
      "text/plain": [
       "<matplotlib.figure.Figure at 0x7f86bb35d490>"
      ]
     },
     "metadata": {},
     "output_type": "display_data"
    }
   ],
   "source": [
    "df['Start Date'].apply(lambda x: x.hour).hist(bins=24)"
   ]
  },
  {
   "cell_type": "code",
   "execution_count": 23,
   "metadata": {
    "collapsed": false
   },
   "outputs": [],
   "source": [
    "import numpy as np"
   ]
  },
  {
   "cell_type": "code",
   "execution_count": 37,
   "metadata": {
    "collapsed": true
   },
   "outputs": [],
   "source": [
    "import matplotlib.pyplot as plt\n",
    "plt.rcParams['figure.figsize'] = 14, 10"
   ]
  },
  {
   "cell_type": "code",
   "execution_count": 41,
   "metadata": {
    "collapsed": false
   },
   "outputs": [
    {
     "data": {
      "text/plain": [
       "<matplotlib.axes._subplots.AxesSubplot at 0x10991da10>"
      ]
     },
     "execution_count": 41,
     "metadata": {},
     "output_type": "execute_result"
    },
    {
     "data": {
      "image/png": "[encoded data removed]",
      "text/plain": [
       "<matplotlib.figure.Figure at 0x10967ae10>"
      ]
     },
     "metadata": {},
     "output_type": "display_data"
    }
   ],
   "source": [
    "(df\n",
    " .groupby('Start Station', as_index=False)['Duration']\n",
    " .median()\n",
    " .plot\n",
    " .bar(x = 'Start Station', y = 'Duration'))"
   ]
  },
  {
   "cell_type": "code",
   "execution_count": 18,
   "metadata": {
    "collapsed": false
   },
   "outputs": [],
   "source": [
    "subs_fraction = df\\\n",
    "    .groupby(\"Start Station\")\\\n",
    "    .apply(lambda x: sum(x[\"Subscriber Type\"] == \"Subscriber\") / float(len(x)))"
   ]
  },
  {
   "cell_type": "code",
   "execution_count": 19,
   "metadata": {
    "collapsed": false
   },
   "outputs": [
    {
     "data": {
      "text/plain": [
       "Start Station\n",
       "2nd at Folsom        0.928691\n",
       "2nd at South Park    0.901510\n",
       "2nd at Townsend      0.862984\n",
       "5th at Howard        0.845743\n",
       "Adobe on Almaden     0.791667\n",
       "dtype: float64"
      ]
     },
     "execution_count": 19,
     "metadata": {},
     "output_type": "execute_result"
    }
   ],
   "source": [
    "subs_fraction.head()"
   ]
  },
  {
   "cell_type": "code",
   "execution_count": 17,
   "metadata": {
    "collapsed": false
   },
   "outputs": [
    {
     "data": {
      "text/plain": [
       "<matplotlib.axes._subplots.AxesSubplot at 0x7f86bb3b40d0>"
      ]
     },
     "execution_count": 17,
     "metadata": {},
     "output_type": "execute_result"
    },
    {
     "data": {
      "image/png": "[encoded data removed]",
      "text/plain": [
       "<matplotlib.figure.Figure at 0x7f86bb3b4650>"
      ]
     },
     "metadata": {},
     "output_type": "display_data"
    }
   ],
   "source": [
    "subs_fraction.hist(bins=30)"
   ]
  },
  {
   "cell_type": "code",
   "execution_count": 20,
   "metadata": {
    "collapsed": false
   },
   "outputs": [
    {
     "data": {
      "text/plain": [
       "'University and Emerson'"
      ]
     },
     "execution_count": 20,
     "metadata": {},
     "output_type": "execute_result"
    }
   ],
   "source": [
    "subs_fraction.idxmin()"
   ]
  },
  {
   "cell_type": "code",
   "execution_count": 21,
   "metadata": {
    "collapsed": false
   },
   "outputs": [
    {
     "data": {
      "text/plain": [
       "'Temporary Transbay Terminal (Howard at Beale)'"
      ]
     },
     "execution_count": 21,
     "metadata": {},
     "output_type": "execute_result"
    }
   ],
   "source": [
    "subs_fraction.idxmax()"
   ]
  },
  {
   "cell_type": "code",
   "execution_count": null,
   "metadata": {
    "collapsed": true
   },
   "outputs": [],
   "source": []
  }
 ],
 "metadata": {
  "kernelspec": {
   "display_name": "Python 2",
   "language": "python",
   "name": "python2"
  },
  "language_info": {
   "codemirror_mode": {
    "name": "ipython",
    "version": 2
   },
   "file_extension": ".py",
   "mimetype": "text/x-python",
   "name": "python",
   "nbconvert_exporter": "python",
   "pygments_lexer": "ipython2",
   "version": "2.7.10"
  }
 },
 "nbformat": 4,
 "nbformat_minor": 1
}
