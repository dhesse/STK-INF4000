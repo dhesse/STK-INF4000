{
 "cells": [
  {
   "cell_type": "code",
   "execution_count": 1,
   "metadata": {
    "collapsed": true
   },
   "outputs": [],
   "source": [
    "import pandas\n",
    "import numpy as np\n",
    "%matplotlib inline"
   ]
  },
  {
   "cell_type": "markdown",
   "metadata": {},
   "source": [
    "## Series"
   ]
  },
  {
   "cell_type": "code",
   "execution_count": 2,
   "metadata": {
    "collapsed": true
   },
   "outputs": [],
   "source": [
    "series = pandas.Series(np.random.standard_normal(10))"
   ]
  },
  {
   "cell_type": "code",
   "execution_count": 3,
   "metadata": {
    "collapsed": false
   },
   "outputs": [
    {
     "data": {
      "text/plain": [
       "0   -0.147897\n",
       "1   -0.024298\n",
       "2    1.146852\n",
       "3   -1.451087\n",
       "4    0.769449\n",
       "5    0.868837\n",
       "6    0.436505\n",
       "7   -0.862551\n",
       "8   -0.608355\n",
       "9    1.115322\n",
       "dtype: float64"
      ]
     },
     "execution_count": 3,
     "metadata": {},
     "output_type": "execute_result"
    }
   ],
   "source": [
    "series"
   ]
  },
  {
   "cell_type": "code",
   "execution_count": 4,
   "metadata": {
    "collapsed": false
   },
   "outputs": [
    {
     "data": {
      "text/plain": [
       "0.76944864698286897"
      ]
     },
     "execution_count": 4,
     "metadata": {},
     "output_type": "execute_result"
    }
   ],
   "source": [
    "series[4]"
   ]
  },
  {
   "cell_type": "code",
   "execution_count": 5,
   "metadata": {
    "collapsed": false
   },
   "outputs": [
    {
     "data": {
      "text/plain": [
       "1   -0.024298\n",
       "2    1.146852\n",
       "3   -1.451087\n",
       "dtype: float64"
      ]
     },
     "execution_count": 5,
     "metadata": {},
     "output_type": "execute_result"
    }
   ],
   "source": [
    "series[1:4]"
   ]
  },
  {
   "cell_type": "code",
   "execution_count": 7,
   "metadata": {
    "collapsed": false
   },
   "outputs": [
    {
     "data": {
      "text/plain": [
       "RangeIndex(start=0, stop=10, step=1)"
      ]
     },
     "execution_count": 7,
     "metadata": {},
     "output_type": "execute_result"
    }
   ],
   "source": [
    "series.index"
   ]
  },
  {
   "cell_type": "code",
   "execution_count": 9,
   "metadata": {
    "collapsed": false
   },
   "outputs": [],
   "source": [
    "series.index = list('abcdefghij')"
   ]
  },
  {
   "cell_type": "code",
   "execution_count": 10,
   "metadata": {
    "collapsed": false
   },
   "outputs": [
    {
     "data": {
      "text/plain": [
       "['a', 'b', 'c', 'd', 'e', 'f', 'g', 'h', 'i', 'j']"
      ]
     },
     "execution_count": 10,
     "metadata": {},
     "output_type": "execute_result"
    }
   ],
   "source": [
    "list('abcdefghij')"
   ]
  },
  {
   "cell_type": "code",
   "execution_count": 11,
   "metadata": {
    "collapsed": false
   },
   "outputs": [
    {
     "data": {
      "text/plain": [
       "0.76944864698286897"
      ]
     },
     "execution_count": 11,
     "metadata": {},
     "output_type": "execute_result"
    }
   ],
   "source": [
    "series['e']"
   ]
  },
  {
   "cell_type": "code",
   "execution_count": 12,
   "metadata": {
    "collapsed": false
   },
   "outputs": [
    {
     "data": {
      "text/plain": [
       "a   -0.147897\n",
       "b   -0.024298\n",
       "c    1.146852\n",
       "d   -1.451087\n",
       "e    0.769449\n",
       "f    0.868837\n",
       "dtype: float64"
      ]
     },
     "execution_count": 12,
     "metadata": {},
     "output_type": "execute_result"
    }
   ],
   "source": [
    "series['a' : 'f']"
   ]
  },
  {
   "cell_type": "code",
   "execution_count": 15,
   "metadata": {
    "collapsed": false
   },
   "outputs": [
    {
     "data": {
      "text/plain": [
       "1"
      ]
     },
     "execution_count": 15,
     "metadata": {},
     "output_type": "execute_result"
    }
   ],
   "source": [
    "pandas.Series([1,2,3], index=['foo', 'bar', 'baz'])['foo']"
   ]
  },
  {
   "cell_type": "code",
   "execution_count": 16,
   "metadata": {
    "collapsed": false
   },
   "outputs": [
    {
     "data": {
      "text/plain": [
       "a    12\n",
       "b    42\n",
       "dtype: int64"
      ]
     },
     "execution_count": 16,
     "metadata": {},
     "output_type": "execute_result"
    }
   ],
   "source": [
    "pandas.Series({'a': 12, 'b': 42})"
   ]
  },
  {
   "cell_type": "code",
   "execution_count": 17,
   "metadata": {
    "collapsed": false
   },
   "outputs": [
    {
     "data": {
      "text/plain": [
       "a   -0.147897\n",
       "b   -0.024298\n",
       "c    1.146852\n",
       "d   -1.451087\n",
       "e    0.769449\n",
       "f    0.868837\n",
       "g    0.436505\n",
       "h   -0.862551\n",
       "i   -0.608355\n",
       "j    1.115322\n",
       "dtype: float64"
      ]
     },
     "execution_count": 17,
     "metadata": {},
     "output_type": "execute_result"
    }
   ],
   "source": [
    "series"
   ]
  },
  {
   "cell_type": "code",
   "execution_count": 18,
   "metadata": {
    "collapsed": false
   },
   "outputs": [
    {
     "data": {
      "text/plain": [
       "a    4.852103\n",
       "b    4.975702\n",
       "c    6.146852\n",
       "d    3.548913\n",
       "e    5.769449\n",
       "f    5.868837\n",
       "g    5.436505\n",
       "h    4.137449\n",
       "i    4.391645\n",
       "j    6.115322\n",
       "dtype: float64"
      ]
     },
     "execution_count": 18,
     "metadata": {},
     "output_type": "execute_result"
    }
   ],
   "source": [
    "series + 5"
   ]
  },
  {
   "cell_type": "code",
   "execution_count": 19,
   "metadata": {
    "collapsed": false
   },
   "outputs": [
    {
     "data": {
      "text/plain": [
       "a    0.021873\n",
       "b    0.000590\n",
       "c    1.315269\n",
       "d    2.105654\n",
       "e    0.592051\n",
       "f    0.754878\n",
       "g    0.190536\n",
       "h    0.743994\n",
       "i    0.370096\n",
       "j    1.243944\n",
       "dtype: float64"
      ]
     },
     "execution_count": 19,
     "metadata": {},
     "output_type": "execute_result"
    }
   ],
   "source": [
    "series**2"
   ]
  },
  {
   "cell_type": "code",
   "execution_count": 20,
   "metadata": {
    "collapsed": false
   },
   "outputs": [
    {
     "data": {
      "text/plain": [
       "a   -0.295793\n",
       "b   -0.048596\n",
       "c    2.293703\n",
       "d   -2.902174\n",
       "e    1.538897\n",
       "f    1.737675\n",
       "g    0.873009\n",
       "h   -1.725102\n",
       "i   -1.216711\n",
       "j    2.230644\n",
       "dtype: float64"
      ]
     },
     "execution_count": 20,
     "metadata": {},
     "output_type": "execute_result"
    }
   ],
   "source": [
    "series + series"
   ]
  },
  {
   "cell_type": "code",
   "execution_count": 21,
   "metadata": {
    "collapsed": false
   },
   "outputs": [
    {
     "data": {
      "text/plain": [
       "7.338886577859447"
      ]
     },
     "execution_count": 21,
     "metadata": {},
     "output_type": "execute_result"
    }
   ],
   "source": [
    "sum(series**2)"
   ]
  },
  {
   "cell_type": "code",
   "execution_count": 22,
   "metadata": {
    "collapsed": false
   },
   "outputs": [
    {
     "data": {
      "text/plain": [
       "a    1.852103\n",
       "b         NaN\n",
       "c         NaN\n",
       "d         NaN\n",
       "e         NaN\n",
       "f         NaN\n",
       "g         NaN\n",
       "h         NaN\n",
       "i         NaN\n",
       "j         NaN\n",
       "dtype: float64"
      ]
     },
     "execution_count": 22,
     "metadata": {},
     "output_type": "execute_result"
    }
   ],
   "source": [
    "series + pandas.Series({'a': 2})"
   ]
  },
  {
   "cell_type": "code",
   "execution_count": 23,
   "metadata": {
    "collapsed": false
   },
   "outputs": [
    {
     "data": {
      "text/plain": [
       "a    1.852103\n",
       "b         NaN\n",
       "c    3.146852\n",
       "d         NaN\n",
       "e         NaN\n",
       "f         NaN\n",
       "g         NaN\n",
       "h         NaN\n",
       "i         NaN\n",
       "j         NaN\n",
       "dtype: float64"
      ]
     },
     "execution_count": 23,
     "metadata": {},
     "output_type": "execute_result"
    }
   ],
   "source": [
    "series + pandas.Series({'a': 2, 'c': 2})"
   ]
  },
  {
   "cell_type": "code",
   "execution_count": 25,
   "metadata": {
    "collapsed": false
   },
   "outputs": [
    {
     "data": {
      "text/plain": [
       "a    1.852103\n",
       "c    3.146852\n",
       "dtype: float64"
      ]
     },
     "execution_count": 25,
     "metadata": {},
     "output_type": "execute_result"
    }
   ],
   "source": [
    "(series + pandas.Series({'a': 2, 'c': 2})).dropna()"
   ]
  },
  {
   "cell_type": "markdown",
   "metadata": {},
   "source": [
    "## Data Frames"
   ]
  },
  {
   "cell_type": "code",
   "execution_count": 26,
   "metadata": {
    "collapsed": true
   },
   "outputs": [],
   "source": [
    "fish = pandas.DataFrame({'size': [100, 120, 70],\n",
    "                         'weight': [20, 30, 25]},\n",
    "                        index = ['Brown Trout', 'Atlantic Salmon', 'Chinook Salmon'])"
   ]
  },
  {
   "cell_type": "code",
   "execution_count": 27,
   "metadata": {
    "collapsed": false
   },
   "outputs": [
    {
     "data": {
      "text/html": [
       "<div>\n",
       "<table border=\"1\" class=\"dataframe\">\n",
       "  <thead>\n",
       "    <tr style=\"text-align: right;\">\n",
       "      <th></th>\n",
       "      <th>size</th>\n",
       "      <th>weight</th>\n",
       "    </tr>\n",
       "  </thead>\n",
       "  <tbody>\n",
       "    <tr>\n",
       "      <th>Brown Trout</th>\n",
       "      <td>100</td>\n",
       "      <td>20</td>\n",
       "    </tr>\n",
       "    <tr>\n",
       "      <th>Atlantic Salmon</th>\n",
       "      <td>120</td>\n",
       "      <td>30</td>\n",
       "    </tr>\n",
       "    <tr>\n",
       "      <th>Chinook Salmon</th>\n",
       "      <td>70</td>\n",
       "      <td>25</td>\n",
       "    </tr>\n",
       "  </tbody>\n",
       "</table>\n",
       "</div>"
      ],
      "text/plain": [
       "                 size  weight\n",
       "Brown Trout       100      20\n",
       "Atlantic Salmon   120      30\n",
       "Chinook Salmon     70      25"
      ]
     },
     "execution_count": 27,
     "metadata": {},
     "output_type": "execute_result"
    }
   ],
   "source": [
    "fish"
   ]
  },
  {
   "cell_type": "code",
   "execution_count": 28,
   "metadata": {
    "collapsed": false
   },
   "outputs": [
    {
     "data": {
      "text/plain": [
       "Index([u'Brown Trout', u'Atlantic Salmon', u'Chinook Salmon'], dtype='object')"
      ]
     },
     "execution_count": 28,
     "metadata": {},
     "output_type": "execute_result"
    }
   ],
   "source": [
    "fish.index"
   ]
  },
  {
   "cell_type": "code",
   "execution_count": 30,
   "metadata": {
    "collapsed": false
   },
   "outputs": [
    {
     "data": {
      "text/plain": [
       "Brown Trout        20\n",
       "Atlantic Salmon    30\n",
       "Chinook Salmon     25\n",
       "Name: weight, dtype: int64"
      ]
     },
     "execution_count": 30,
     "metadata": {},
     "output_type": "execute_result"
    }
   ],
   "source": [
    "fish.weight"
   ]
  },
  {
   "cell_type": "code",
   "execution_count": 31,
   "metadata": {
    "collapsed": false
   },
   "outputs": [
    {
     "data": {
      "text/plain": [
       "Brown Trout        100\n",
       "Atlantic Salmon    120\n",
       "Chinook Salmon      70\n",
       "Name: size, dtype: int64"
      ]
     },
     "execution_count": 31,
     "metadata": {},
     "output_type": "execute_result"
    }
   ],
   "source": [
    "fish['size']"
   ]
  },
  {
   "cell_type": "code",
   "execution_count": 32,
   "metadata": {
    "collapsed": false
   },
   "outputs": [
    {
     "data": {
      "text/plain": [
       "Brown Trout        False\n",
       "Atlantic Salmon     True\n",
       "Chinook Salmon     False\n",
       "Name: size, dtype: bool"
      ]
     },
     "execution_count": 32,
     "metadata": {},
     "output_type": "execute_result"
    }
   ],
   "source": [
    "fish['size'] > 100"
   ]
  },
  {
   "cell_type": "code",
   "execution_count": 33,
   "metadata": {
    "collapsed": false
   },
   "outputs": [
    {
     "data": {
      "text/html": [
       "<div>\n",
       "<table border=\"1\" class=\"dataframe\">\n",
       "  <thead>\n",
       "    <tr style=\"text-align: right;\">\n",
       "      <th></th>\n",
       "      <th>size</th>\n",
       "      <th>weight</th>\n",
       "    </tr>\n",
       "  </thead>\n",
       "  <tbody>\n",
       "    <tr>\n",
       "      <th>Atlantic Salmon</th>\n",
       "      <td>120</td>\n",
       "      <td>30</td>\n",
       "    </tr>\n",
       "  </tbody>\n",
       "</table>\n",
       "</div>"
      ],
      "text/plain": [
       "                 size  weight\n",
       "Atlantic Salmon   120      30"
      ]
     },
     "execution_count": 33,
     "metadata": {},
     "output_type": "execute_result"
    }
   ],
   "source": [
    "fish[fish['size'] > 100]"
   ]
  },
  {
   "cell_type": "code",
   "execution_count": 34,
   "metadata": {
    "collapsed": false
   },
   "outputs": [
    {
     "data": {
      "text/plain": [
       "Atlantic Salmon    30\n",
       "Name: weight, dtype: int64"
      ]
     },
     "execution_count": 34,
     "metadata": {},
     "output_type": "execute_result"
    }
   ],
   "source": [
    "fish[fish['size'] > 100]['weight']"
   ]
  },
  {
   "cell_type": "markdown",
   "metadata": {},
   "source": [
    "## Reading"
   ]
  },
  {
   "cell_type": "code",
   "execution_count": 36,
   "metadata": {
    "collapsed": false
   },
   "outputs": [
    {
     "name": "stdout",
     "output_type": "stream",
     "text": [
      "read_clipboard\n",
      "read_csv\n",
      "read_excel\n",
      "read_fwf\n",
      "read_gbq\n",
      "read_hdf\n",
      "read_html\n",
      "read_json\n",
      "read_msgpack\n",
      "read_pickle\n",
      "read_sas\n",
      "read_sql\n",
      "read_sql_query\n",
      "read_sql_table\n",
      "read_stata\n",
      "read_table\n"
     ]
    }
   ],
   "source": [
    "for i in dir(pandas):\n",
    "    if i.startswith(\"read\"):\n",
    "        print i"
   ]
  },
  {
   "cell_type": "code",
   "execution_count": 37,
   "metadata": {
    "collapsed": true
   },
   "outputs": [],
   "source": [
    "df = pandas.read_csv('data/201508_trip_data.csv.gz')"
   ]
  },
  {
   "cell_type": "code",
   "execution_count": 38,
   "metadata": {
    "collapsed": false
   },
   "outputs": [
    {
     "name": "stdout",
     "output_type": "stream",
     "text": [
      "<class 'pandas.core.frame.DataFrame'>\n",
      "RangeIndex: 354152 entries, 0 to 354151\n",
      "Data columns (total 11 columns):\n",
      "Trip ID            354152 non-null int64\n",
      "Duration           354152 non-null int64\n",
      "Start Date         354152 non-null object\n",
      "Start Station      354152 non-null object\n",
      "Start Terminal     354152 non-null int64\n",
      "End Date           354152 non-null object\n",
      "End Station        354152 non-null object\n",
      "End Terminal       354152 non-null int64\n",
      "Bike #             354152 non-null int64\n",
      "Subscriber Type    354152 non-null object\n",
      "Zip Code           353874 non-null object\n",
      "dtypes: int64(5), object(6)\n",
      "memory usage: 29.7+ MB\n"
     ]
    }
   ],
   "source": [
    "df.info()"
   ]
  },
  {
   "cell_type": "code",
   "execution_count": 39,
   "metadata": {
    "collapsed": false
   },
   "outputs": [
    {
     "data": {
      "text/html": [
       "<div>\n",
       "<table border=\"1\" class=\"dataframe\">\n",
       "  <thead>\n",
       "    <tr style=\"text-align: right;\">\n",
       "      <th></th>\n",
       "      <th>Trip ID</th>\n",
       "      <th>Duration</th>\n",
       "      <th>Start Terminal</th>\n",
       "      <th>End Terminal</th>\n",
       "      <th>Bike #</th>\n",
       "    </tr>\n",
       "  </thead>\n",
       "  <tbody>\n",
       "    <tr>\n",
       "      <th>count</th>\n",
       "      <td>354152.000000</td>\n",
       "      <td>3.541520e+05</td>\n",
       "      <td>354152.000000</td>\n",
       "      <td>354152.000000</td>\n",
       "      <td>354152.000000</td>\n",
       "    </tr>\n",
       "    <tr>\n",
       "      <th>mean</th>\n",
       "      <td>676962.274416</td>\n",
       "      <td>1.046033e+03</td>\n",
       "      <td>58.446018</td>\n",
       "      <td>58.421816</td>\n",
       "      <td>422.957911</td>\n",
       "    </tr>\n",
       "    <tr>\n",
       "      <th>std</th>\n",
       "      <td>138874.153513</td>\n",
       "      <td>3.001694e+04</td>\n",
       "      <td>16.738860</td>\n",
       "      <td>16.876792</td>\n",
       "      <td>159.841550</td>\n",
       "    </tr>\n",
       "    <tr>\n",
       "      <th>min</th>\n",
       "      <td>432947.000000</td>\n",
       "      <td>6.000000e+01</td>\n",
       "      <td>2.000000</td>\n",
       "      <td>2.000000</td>\n",
       "      <td>9.000000</td>\n",
       "    </tr>\n",
       "    <tr>\n",
       "      <th>25%</th>\n",
       "      <td>557009.750000</td>\n",
       "      <td>3.420000e+02</td>\n",
       "      <td>50.000000</td>\n",
       "      <td>50.000000</td>\n",
       "      <td>327.000000</td>\n",
       "    </tr>\n",
       "    <tr>\n",
       "      <th>50%</th>\n",
       "      <td>679451.500000</td>\n",
       "      <td>5.110000e+02</td>\n",
       "      <td>62.000000</td>\n",
       "      <td>63.000000</td>\n",
       "      <td>437.000000</td>\n",
       "    </tr>\n",
       "    <tr>\n",
       "      <th>75%</th>\n",
       "      <td>798026.250000</td>\n",
       "      <td>7.390000e+02</td>\n",
       "      <td>70.000000</td>\n",
       "      <td>70.000000</td>\n",
       "      <td>546.000000</td>\n",
       "    </tr>\n",
       "    <tr>\n",
       "      <th>max</th>\n",
       "      <td>913460.000000</td>\n",
       "      <td>1.727040e+07</td>\n",
       "      <td>84.000000</td>\n",
       "      <td>84.000000</td>\n",
       "      <td>878.000000</td>\n",
       "    </tr>\n",
       "  </tbody>\n",
       "</table>\n",
       "</div>"
      ],
      "text/plain": [
       "             Trip ID      Duration  Start Terminal   End Terminal  \\\n",
       "count  354152.000000  3.541520e+05   354152.000000  354152.000000   \n",
       "mean   676962.274416  1.046033e+03       58.446018      58.421816   \n",
       "std    138874.153513  3.001694e+04       16.738860      16.876792   \n",
       "min    432947.000000  6.000000e+01        2.000000       2.000000   \n",
       "25%    557009.750000  3.420000e+02       50.000000      50.000000   \n",
       "50%    679451.500000  5.110000e+02       62.000000      63.000000   \n",
       "75%    798026.250000  7.390000e+02       70.000000      70.000000   \n",
       "max    913460.000000  1.727040e+07       84.000000      84.000000   \n",
       "\n",
       "              Bike #  \n",
       "count  354152.000000  \n",
       "mean      422.957911  \n",
       "std       159.841550  \n",
       "min         9.000000  \n",
       "25%       327.000000  \n",
       "50%       437.000000  \n",
       "75%       546.000000  \n",
       "max       878.000000  "
      ]
     },
     "execution_count": 39,
     "metadata": {},
     "output_type": "execute_result"
    }
   ],
   "source": [
    "df.describe()"
   ]
  },
  {
   "cell_type": "code",
   "execution_count": 40,
   "metadata": {
    "collapsed": false
   },
   "outputs": [
    {
     "data": {
      "text/plain": [
       "<matplotlib.axes._subplots.AxesSubplot at 0x11a47d450>"
      ]
     },
     "execution_count": 40,
     "metadata": {},
     "output_type": "execute_result"
    },
    {
     "data": {
      "image/png": "[encoded data removed]",
      "text/plain": [
       "<matplotlib.figure.Figure at 0x115254e90>"
      ]
     },
     "metadata": {},
     "output_type": "display_data"
    }
   ],
   "source": [
    "df['Duration'].plot.hist()"
   ]
  },
  {
   "cell_type": "code",
   "execution_count": 41,
   "metadata": {
    "collapsed": false
   },
   "outputs": [
    {
     "data": {
      "text/plain": [
       "<matplotlib.axes._subplots.AxesSubplot at 0x11587b390>"
      ]
     },
     "execution_count": 41,
     "metadata": {},
     "output_type": "execute_result"
    },
    {
     "data": {
      "image/png": "[encoded data removed]",
      "text/plain": [
       "<matplotlib.figure.Figure at 0x1158997d0>"
      ]
     },
     "metadata": {},
     "output_type": "display_data"
    }
   ],
   "source": [
    "df['Duration'].plot.hist(xlim=(0,100))"
   ]
  },
  {
   "cell_type": "code",
   "execution_count": 43,
   "metadata": {
    "collapsed": false
   },
   "outputs": [
    {
     "data": {
      "text/plain": [
       "<matplotlib.axes._subplots.AxesSubplot at 0x1161fa050>"
      ]
     },
     "execution_count": 43,
     "metadata": {},
     "output_type": "execute_result"
    },
    {
     "data": {
      "image/png": "[encoded data removed]",
      "text/plain": [
       "<matplotlib.figure.Figure at 0x11566a2d0>"
      ]
     },
     "metadata": {},
     "output_type": "display_data"
    }
   ],
   "source": [
    "df[df['Duration'] < 60*45]['Duration'].plot.hist(bins=30)"
   ]
  },
  {
   "cell_type": "code",
   "execution_count": 44,
   "metadata": {
    "collapsed": false
   },
   "outputs": [
    {
     "data": {
      "text/plain": [
       "0    8/31/2015 23:26\n",
       "1    8/31/2015 23:11\n",
       "2    8/31/2015 23:13\n",
       "3    8/31/2015 23:10\n",
       "4    8/31/2015 23:09\n",
       "Name: Start Date, dtype: object"
      ]
     },
     "execution_count": 44,
     "metadata": {},
     "output_type": "execute_result"
    }
   ],
   "source": [
    "df['Start Date'].head()"
   ]
  },
  {
   "cell_type": "code",
   "execution_count": 47,
   "metadata": {
    "collapsed": false
   },
   "outputs": [],
   "source": [
    "import datetime\n",
    "def mdy_hm(datetimestring):\n",
    "    return datetime.datetime.strptime(datetimestring,\n",
    "                            '%m/%d/%Y %H:%M')\n",
    "df['Start Date'] = df['Start Date'].apply(mdy_hm) # element-wise"
   ]
  },
  {
   "cell_type": "markdown",
   "metadata": {},
   "source": [
    "## Pivot / Stack"
   ]
  },
  {
   "cell_type": "code",
   "execution_count": 48,
   "metadata": {
    "collapsed": false
   },
   "outputs": [
    {
     "data": {
      "text/html": [
       "<div>\n",
       "<table border=\"1\" class=\"dataframe\">\n",
       "  <thead>\n",
       "    <tr style=\"text-align: right;\">\n",
       "      <th></th>\n",
       "      <th>size</th>\n",
       "      <th>weight</th>\n",
       "    </tr>\n",
       "  </thead>\n",
       "  <tbody>\n",
       "    <tr>\n",
       "      <th>Brown Trout</th>\n",
       "      <td>100</td>\n",
       "      <td>20</td>\n",
       "    </tr>\n",
       "    <tr>\n",
       "      <th>Atlantic Salmon</th>\n",
       "      <td>120</td>\n",
       "      <td>30</td>\n",
       "    </tr>\n",
       "    <tr>\n",
       "      <th>Chinook Salmon</th>\n",
       "      <td>70</td>\n",
       "      <td>25</td>\n",
       "    </tr>\n",
       "  </tbody>\n",
       "</table>\n",
       "</div>"
      ],
      "text/plain": [
       "                 size  weight\n",
       "Brown Trout       100      20\n",
       "Atlantic Salmon   120      30\n",
       "Chinook Salmon     70      25"
      ]
     },
     "execution_count": 48,
     "metadata": {},
     "output_type": "execute_result"
    }
   ],
   "source": [
    "fish"
   ]
  },
  {
   "cell_type": "code",
   "execution_count": 49,
   "metadata": {
    "collapsed": false
   },
   "outputs": [
    {
     "data": {
      "text/plain": [
       "Brown Trout      size      100\n",
       "                 weight     20\n",
       "Atlantic Salmon  size      120\n",
       "                 weight     30\n",
       "Chinook Salmon   size       70\n",
       "                 weight     25\n",
       "dtype: int64"
      ]
     },
     "execution_count": 49,
     "metadata": {},
     "output_type": "execute_result"
    }
   ],
   "source": [
    "fish.stack()"
   ]
  },
  {
   "cell_type": "code",
   "execution_count": 50,
   "metadata": {
    "collapsed": false
   },
   "outputs": [
    {
     "data": {
      "text/plain": [
       "pandas.core.series.Series"
      ]
     },
     "execution_count": 50,
     "metadata": {},
     "output_type": "execute_result"
    }
   ],
   "source": [
    "type(fish.stack())"
   ]
  },
  {
   "cell_type": "code",
   "execution_count": 51,
   "metadata": {
    "collapsed": true
   },
   "outputs": [],
   "source": [
    "stacked = fish.stack().reset_index()"
   ]
  },
  {
   "cell_type": "code",
   "execution_count": 52,
   "metadata": {
    "collapsed": false
   },
   "outputs": [
    {
     "data": {
      "text/html": [
       "<div>\n",
       "<table border=\"1\" class=\"dataframe\">\n",
       "  <thead>\n",
       "    <tr style=\"text-align: right;\">\n",
       "      <th></th>\n",
       "      <th>level_0</th>\n",
       "      <th>level_1</th>\n",
       "      <th>0</th>\n",
       "    </tr>\n",
       "  </thead>\n",
       "  <tbody>\n",
       "    <tr>\n",
       "      <th>0</th>\n",
       "      <td>Brown Trout</td>\n",
       "      <td>size</td>\n",
       "      <td>100</td>\n",
       "    </tr>\n",
       "    <tr>\n",
       "      <th>1</th>\n",
       "      <td>Brown Trout</td>\n",
       "      <td>weight</td>\n",
       "      <td>20</td>\n",
       "    </tr>\n",
       "    <tr>\n",
       "      <th>2</th>\n",
       "      <td>Atlantic Salmon</td>\n",
       "      <td>size</td>\n",
       "      <td>120</td>\n",
       "    </tr>\n",
       "    <tr>\n",
       "      <th>3</th>\n",
       "      <td>Atlantic Salmon</td>\n",
       "      <td>weight</td>\n",
       "      <td>30</td>\n",
       "    </tr>\n",
       "    <tr>\n",
       "      <th>4</th>\n",
       "      <td>Chinook Salmon</td>\n",
       "      <td>size</td>\n",
       "      <td>70</td>\n",
       "    </tr>\n",
       "    <tr>\n",
       "      <th>5</th>\n",
       "      <td>Chinook Salmon</td>\n",
       "      <td>weight</td>\n",
       "      <td>25</td>\n",
       "    </tr>\n",
       "  </tbody>\n",
       "</table>\n",
       "</div>"
      ],
      "text/plain": [
       "           level_0 level_1    0\n",
       "0      Brown Trout    size  100\n",
       "1      Brown Trout  weight   20\n",
       "2  Atlantic Salmon    size  120\n",
       "3  Atlantic Salmon  weight   30\n",
       "4   Chinook Salmon    size   70\n",
       "5   Chinook Salmon  weight   25"
      ]
     },
     "execution_count": 52,
     "metadata": {},
     "output_type": "execute_result"
    }
   ],
   "source": [
    "stacked"
   ]
  },
  {
   "cell_type": "code",
   "execution_count": 53,
   "metadata": {
    "collapsed": true
   },
   "outputs": [],
   "source": [
    "stacked.columns = ['name', 'info', 'value']"
   ]
  },
  {
   "cell_type": "code",
   "execution_count": 54,
   "metadata": {
    "collapsed": false
   },
   "outputs": [
    {
     "data": {
      "text/html": [
       "<div>\n",
       "<table border=\"1\" class=\"dataframe\">\n",
       "  <thead>\n",
       "    <tr style=\"text-align: right;\">\n",
       "      <th></th>\n",
       "      <th>name</th>\n",
       "      <th>info</th>\n",
       "      <th>value</th>\n",
       "    </tr>\n",
       "  </thead>\n",
       "  <tbody>\n",
       "    <tr>\n",
       "      <th>0</th>\n",
       "      <td>Brown Trout</td>\n",
       "      <td>size</td>\n",
       "      <td>100</td>\n",
       "    </tr>\n",
       "    <tr>\n",
       "      <th>1</th>\n",
       "      <td>Brown Trout</td>\n",
       "      <td>weight</td>\n",
       "      <td>20</td>\n",
       "    </tr>\n",
       "    <tr>\n",
       "      <th>2</th>\n",
       "      <td>Atlantic Salmon</td>\n",
       "      <td>size</td>\n",
       "      <td>120</td>\n",
       "    </tr>\n",
       "    <tr>\n",
       "      <th>3</th>\n",
       "      <td>Atlantic Salmon</td>\n",
       "      <td>weight</td>\n",
       "      <td>30</td>\n",
       "    </tr>\n",
       "    <tr>\n",
       "      <th>4</th>\n",
       "      <td>Chinook Salmon</td>\n",
       "      <td>size</td>\n",
       "      <td>70</td>\n",
       "    </tr>\n",
       "    <tr>\n",
       "      <th>5</th>\n",
       "      <td>Chinook Salmon</td>\n",
       "      <td>weight</td>\n",
       "      <td>25</td>\n",
       "    </tr>\n",
       "  </tbody>\n",
       "</table>\n",
       "</div>"
      ],
      "text/plain": [
       "              name    info  value\n",
       "0      Brown Trout    size    100\n",
       "1      Brown Trout  weight     20\n",
       "2  Atlantic Salmon    size    120\n",
       "3  Atlantic Salmon  weight     30\n",
       "4   Chinook Salmon    size     70\n",
       "5   Chinook Salmon  weight     25"
      ]
     },
     "execution_count": 54,
     "metadata": {},
     "output_type": "execute_result"
    }
   ],
   "source": [
    "stacked"
   ]
  },
  {
   "cell_type": "code",
   "execution_count": 55,
   "metadata": {
    "collapsed": false
   },
   "outputs": [
    {
     "data": {
      "text/html": [
       "<div>\n",
       "<table border=\"1\" class=\"dataframe\">\n",
       "  <thead>\n",
       "    <tr style=\"text-align: right;\">\n",
       "      <th>info</th>\n",
       "      <th>size</th>\n",
       "      <th>weight</th>\n",
       "    </tr>\n",
       "    <tr>\n",
       "      <th>name</th>\n",
       "      <th></th>\n",
       "      <th></th>\n",
       "    </tr>\n",
       "  </thead>\n",
       "  <tbody>\n",
       "    <tr>\n",
       "      <th>Atlantic Salmon</th>\n",
       "      <td>120</td>\n",
       "      <td>30</td>\n",
       "    </tr>\n",
       "    <tr>\n",
       "      <th>Brown Trout</th>\n",
       "      <td>100</td>\n",
       "      <td>20</td>\n",
       "    </tr>\n",
       "    <tr>\n",
       "      <th>Chinook Salmon</th>\n",
       "      <td>70</td>\n",
       "      <td>25</td>\n",
       "    </tr>\n",
       "  </tbody>\n",
       "</table>\n",
       "</div>"
      ],
      "text/plain": [
       "info             size  weight\n",
       "name                         \n",
       "Atlantic Salmon   120      30\n",
       "Brown Trout       100      20\n",
       "Chinook Salmon     70      25"
      ]
     },
     "execution_count": 55,
     "metadata": {},
     "output_type": "execute_result"
    }
   ],
   "source": [
    "stacked.pivot(index='name', columns='info', values='value')"
   ]
  },
  {
   "cell_type": "code",
   "execution_count": 56,
   "metadata": {
    "collapsed": false
   },
   "outputs": [
    {
     "data": {
      "text/html": [
       "<div>\n",
       "<table border=\"1\" class=\"dataframe\">\n",
       "  <thead>\n",
       "    <tr style=\"text-align: right;\">\n",
       "      <th></th>\n",
       "      <th>Trip ID</th>\n",
       "      <th>Duration</th>\n",
       "      <th>Start Date</th>\n",
       "      <th>Start Station</th>\n",
       "      <th>Start Terminal</th>\n",
       "      <th>End Date</th>\n",
       "      <th>End Station</th>\n",
       "      <th>End Terminal</th>\n",
       "      <th>Bike #</th>\n",
       "      <th>Subscriber Type</th>\n",
       "      <th>Zip Code</th>\n",
       "    </tr>\n",
       "  </thead>\n",
       "  <tbody>\n",
       "    <tr>\n",
       "      <th>0</th>\n",
       "      <td>913460</td>\n",
       "      <td>765</td>\n",
       "      <td>2015-08-31 23:26:00</td>\n",
       "      <td>Harry Bridges Plaza (Ferry Building)</td>\n",
       "      <td>50</td>\n",
       "      <td>8/31/2015 23:39</td>\n",
       "      <td>San Francisco Caltrain (Townsend at 4th)</td>\n",
       "      <td>70</td>\n",
       "      <td>288</td>\n",
       "      <td>Subscriber</td>\n",
       "      <td>2139</td>\n",
       "    </tr>\n",
       "    <tr>\n",
       "      <th>1</th>\n",
       "      <td>913459</td>\n",
       "      <td>1036</td>\n",
       "      <td>2015-08-31 23:11:00</td>\n",
       "      <td>San Antonio Shopping Center</td>\n",
       "      <td>31</td>\n",
       "      <td>8/31/2015 23:28</td>\n",
       "      <td>Mountain View City Hall</td>\n",
       "      <td>27</td>\n",
       "      <td>35</td>\n",
       "      <td>Subscriber</td>\n",
       "      <td>95032</td>\n",
       "    </tr>\n",
       "    <tr>\n",
       "      <th>2</th>\n",
       "      <td>913455</td>\n",
       "      <td>307</td>\n",
       "      <td>2015-08-31 23:13:00</td>\n",
       "      <td>Post at Kearny</td>\n",
       "      <td>47</td>\n",
       "      <td>8/31/2015 23:18</td>\n",
       "      <td>2nd at South Park</td>\n",
       "      <td>64</td>\n",
       "      <td>468</td>\n",
       "      <td>Subscriber</td>\n",
       "      <td>94107</td>\n",
       "    </tr>\n",
       "    <tr>\n",
       "      <th>3</th>\n",
       "      <td>913454</td>\n",
       "      <td>409</td>\n",
       "      <td>2015-08-31 23:10:00</td>\n",
       "      <td>San Jose City Hall</td>\n",
       "      <td>10</td>\n",
       "      <td>8/31/2015 23:17</td>\n",
       "      <td>San Salvador at 1st</td>\n",
       "      <td>8</td>\n",
       "      <td>68</td>\n",
       "      <td>Subscriber</td>\n",
       "      <td>95113</td>\n",
       "    </tr>\n",
       "    <tr>\n",
       "      <th>4</th>\n",
       "      <td>913453</td>\n",
       "      <td>789</td>\n",
       "      <td>2015-08-31 23:09:00</td>\n",
       "      <td>Embarcadero at Folsom</td>\n",
       "      <td>51</td>\n",
       "      <td>8/31/2015 23:22</td>\n",
       "      <td>Embarcadero at Sansome</td>\n",
       "      <td>60</td>\n",
       "      <td>487</td>\n",
       "      <td>Customer</td>\n",
       "      <td>9069</td>\n",
       "    </tr>\n",
       "  </tbody>\n",
       "</table>\n",
       "</div>"
      ],
      "text/plain": [
       "   Trip ID  Duration          Start Date  \\\n",
       "0   913460       765 2015-08-31 23:26:00   \n",
       "1   913459      1036 2015-08-31 23:11:00   \n",
       "2   913455       307 2015-08-31 23:13:00   \n",
       "3   913454       409 2015-08-31 23:10:00   \n",
       "4   913453       789 2015-08-31 23:09:00   \n",
       "\n",
       "                          Start Station  Start Terminal         End Date  \\\n",
       "0  Harry Bridges Plaza (Ferry Building)              50  8/31/2015 23:39   \n",
       "1           San Antonio Shopping Center              31  8/31/2015 23:28   \n",
       "2                        Post at Kearny              47  8/31/2015 23:18   \n",
       "3                    San Jose City Hall              10  8/31/2015 23:17   \n",
       "4                 Embarcadero at Folsom              51  8/31/2015 23:22   \n",
       "\n",
       "                                End Station  End Terminal  Bike #  \\\n",
       "0  San Francisco Caltrain (Townsend at 4th)            70     288   \n",
       "1                   Mountain View City Hall            27      35   \n",
       "2                         2nd at South Park            64     468   \n",
       "3                       San Salvador at 1st             8      68   \n",
       "4                    Embarcadero at Sansome            60     487   \n",
       "\n",
       "  Subscriber Type Zip Code  \n",
       "0      Subscriber     2139  \n",
       "1      Subscriber    95032  \n",
       "2      Subscriber    94107  \n",
       "3      Subscriber    95113  \n",
       "4        Customer     9069  "
      ]
     },
     "execution_count": 56,
     "metadata": {},
     "output_type": "execute_result"
    }
   ],
   "source": [
    "df.head()"
   ]
  },
  {
   "cell_type": "code",
   "execution_count": 57,
   "metadata": {
    "collapsed": true
   },
   "outputs": [],
   "source": [
    "stations = ['Embarcadero at Sansome',\n",
    " 'Temporary Transbay Terminal (Howard at Beale)',\n",
    " 'Harry Bridges Plaza (Ferry Building)',\n",
    " 'San Francisco Caltrain 2 (330 Townsend)',\n",
    " 'San Francisco Caltrain (Townsend at 4th)']\n",
    "df = df[df['Start Station'].apply(lambda x: x in stations)]"
   ]
  },
  {
   "cell_type": "code",
   "execution_count": 58,
   "metadata": {
    "collapsed": false
   },
   "outputs": [
    {
     "data": {
      "text/html": [
       "<div>\n",
       "<table border=\"1\" class=\"dataframe\">\n",
       "  <thead>\n",
       "    <tr style=\"text-align: right;\">\n",
       "      <th></th>\n",
       "      <th>Trip ID</th>\n",
       "      <th>Duration</th>\n",
       "      <th>Start Date</th>\n",
       "      <th>Start Station</th>\n",
       "      <th>Start Terminal</th>\n",
       "      <th>End Date</th>\n",
       "      <th>End Station</th>\n",
       "      <th>End Terminal</th>\n",
       "      <th>Bike #</th>\n",
       "      <th>Subscriber Type</th>\n",
       "      <th>Zip Code</th>\n",
       "    </tr>\n",
       "  </thead>\n",
       "  <tbody>\n",
       "    <tr>\n",
       "      <th>0</th>\n",
       "      <td>913460</td>\n",
       "      <td>765</td>\n",
       "      <td>2015-08-31 23:26:00</td>\n",
       "      <td>Harry Bridges Plaza (Ferry Building)</td>\n",
       "      <td>50</td>\n",
       "      <td>8/31/2015 23:39</td>\n",
       "      <td>San Francisco Caltrain (Townsend at 4th)</td>\n",
       "      <td>70</td>\n",
       "      <td>288</td>\n",
       "      <td>Subscriber</td>\n",
       "      <td>2139</td>\n",
       "    </tr>\n",
       "    <tr>\n",
       "      <th>7</th>\n",
       "      <td>913450</td>\n",
       "      <td>255</td>\n",
       "      <td>2015-08-31 22:16:00</td>\n",
       "      <td>Embarcadero at Sansome</td>\n",
       "      <td>60</td>\n",
       "      <td>8/31/2015 22:20</td>\n",
       "      <td>Steuart at Market</td>\n",
       "      <td>74</td>\n",
       "      <td>470</td>\n",
       "      <td>Subscriber</td>\n",
       "      <td>94111</td>\n",
       "    </tr>\n",
       "    <tr>\n",
       "      <th>10</th>\n",
       "      <td>913443</td>\n",
       "      <td>691</td>\n",
       "      <td>2015-08-31 21:49:00</td>\n",
       "      <td>Embarcadero at Sansome</td>\n",
       "      <td>60</td>\n",
       "      <td>8/31/2015 22:01</td>\n",
       "      <td>Market at Sansome</td>\n",
       "      <td>77</td>\n",
       "      <td>434</td>\n",
       "      <td>Subscriber</td>\n",
       "      <td>94109</td>\n",
       "    </tr>\n",
       "    <tr>\n",
       "      <th>14</th>\n",
       "      <td>913435</td>\n",
       "      <td>424</td>\n",
       "      <td>2015-08-31 21:25:00</td>\n",
       "      <td>Temporary Transbay Terminal (Howard at Beale)</td>\n",
       "      <td>55</td>\n",
       "      <td>8/31/2015 21:33</td>\n",
       "      <td>San Francisco Caltrain 2 (330 Townsend)</td>\n",
       "      <td>69</td>\n",
       "      <td>602</td>\n",
       "      <td>Subscriber</td>\n",
       "      <td>94401</td>\n",
       "    </tr>\n",
       "    <tr>\n",
       "      <th>15</th>\n",
       "      <td>913434</td>\n",
       "      <td>283</td>\n",
       "      <td>2015-08-31 21:19:00</td>\n",
       "      <td>San Francisco Caltrain 2 (330 Townsend)</td>\n",
       "      <td>69</td>\n",
       "      <td>8/31/2015 21:24</td>\n",
       "      <td>Townsend at 7th</td>\n",
       "      <td>65</td>\n",
       "      <td>521</td>\n",
       "      <td>Subscriber</td>\n",
       "      <td>94107</td>\n",
       "    </tr>\n",
       "  </tbody>\n",
       "</table>\n",
       "</div>"
      ],
      "text/plain": [
       "    Trip ID  Duration          Start Date  \\\n",
       "0    913460       765 2015-08-31 23:26:00   \n",
       "7    913450       255 2015-08-31 22:16:00   \n",
       "10   913443       691 2015-08-31 21:49:00   \n",
       "14   913435       424 2015-08-31 21:25:00   \n",
       "15   913434       283 2015-08-31 21:19:00   \n",
       "\n",
       "                                    Start Station  Start Terminal  \\\n",
       "0            Harry Bridges Plaza (Ferry Building)              50   \n",
       "7                          Embarcadero at Sansome              60   \n",
       "10                         Embarcadero at Sansome              60   \n",
       "14  Temporary Transbay Terminal (Howard at Beale)              55   \n",
       "15        San Francisco Caltrain 2 (330 Townsend)              69   \n",
       "\n",
       "           End Date                               End Station  End Terminal  \\\n",
       "0   8/31/2015 23:39  San Francisco Caltrain (Townsend at 4th)            70   \n",
       "7   8/31/2015 22:20                         Steuart at Market            74   \n",
       "10  8/31/2015 22:01                         Market at Sansome            77   \n",
       "14  8/31/2015 21:33   San Francisco Caltrain 2 (330 Townsend)            69   \n",
       "15  8/31/2015 21:24                           Townsend at 7th            65   \n",
       "\n",
       "    Bike # Subscriber Type Zip Code  \n",
       "0      288      Subscriber     2139  \n",
       "7      470      Subscriber    94111  \n",
       "10     434      Subscriber    94109  \n",
       "14     602      Subscriber    94401  \n",
       "15     521      Subscriber    94107  "
      ]
     },
     "execution_count": 58,
     "metadata": {},
     "output_type": "execute_result"
    }
   ],
   "source": [
    "df.head()"
   ]
  },
  {
   "cell_type": "code",
   "execution_count": 59,
   "metadata": {
    "collapsed": true
   },
   "outputs": [],
   "source": [
    "departures = df[['Start Station', 'Start Date', 'Duration']]"
   ]
  },
  {
   "cell_type": "code",
   "execution_count": 60,
   "metadata": {
    "collapsed": false
   },
   "outputs": [
    {
     "data": {
      "text/html": [
       "<div>\n",
       "<table border=\"1\" class=\"dataframe\">\n",
       "  <thead>\n",
       "    <tr style=\"text-align: right;\">\n",
       "      <th></th>\n",
       "      <th>Start Station</th>\n",
       "      <th>Start Date</th>\n",
       "      <th>Duration</th>\n",
       "    </tr>\n",
       "  </thead>\n",
       "  <tbody>\n",
       "    <tr>\n",
       "      <th>0</th>\n",
       "      <td>Harry Bridges Plaza (Ferry Building)</td>\n",
       "      <td>2015-08-31 23:26:00</td>\n",
       "      <td>765</td>\n",
       "    </tr>\n",
       "    <tr>\n",
       "      <th>7</th>\n",
       "      <td>Embarcadero at Sansome</td>\n",
       "      <td>2015-08-31 22:16:00</td>\n",
       "      <td>255</td>\n",
       "    </tr>\n",
       "    <tr>\n",
       "      <th>10</th>\n",
       "      <td>Embarcadero at Sansome</td>\n",
       "      <td>2015-08-31 21:49:00</td>\n",
       "      <td>691</td>\n",
       "    </tr>\n",
       "    <tr>\n",
       "      <th>14</th>\n",
       "      <td>Temporary Transbay Terminal (Howard at Beale)</td>\n",
       "      <td>2015-08-31 21:25:00</td>\n",
       "      <td>424</td>\n",
       "    </tr>\n",
       "    <tr>\n",
       "      <th>15</th>\n",
       "      <td>San Francisco Caltrain 2 (330 Townsend)</td>\n",
       "      <td>2015-08-31 21:19:00</td>\n",
       "      <td>283</td>\n",
       "    </tr>\n",
       "  </tbody>\n",
       "</table>\n",
       "</div>"
      ],
      "text/plain": [
       "                                    Start Station          Start Date  \\\n",
       "0            Harry Bridges Plaza (Ferry Building) 2015-08-31 23:26:00   \n",
       "7                          Embarcadero at Sansome 2015-08-31 22:16:00   \n",
       "10                         Embarcadero at Sansome 2015-08-31 21:49:00   \n",
       "14  Temporary Transbay Terminal (Howard at Beale) 2015-08-31 21:25:00   \n",
       "15        San Francisco Caltrain 2 (330 Townsend) 2015-08-31 21:19:00   \n",
       "\n",
       "    Duration  \n",
       "0        765  \n",
       "7        255  \n",
       "10       691  \n",
       "14       424  \n",
       "15       283  "
      ]
     },
     "execution_count": 60,
     "metadata": {},
     "output_type": "execute_result"
    }
   ],
   "source": [
    "departures.head()"
   ]
  },
  {
   "cell_type": "code",
   "execution_count": 61,
   "metadata": {
    "collapsed": true
   },
   "outputs": [],
   "source": [
    "pivoted = departures.pivot_table(index='Start Date', columns='Start Station', values='Duration')"
   ]
  },
  {
   "cell_type": "code",
   "execution_count": 62,
   "metadata": {
    "collapsed": false
   },
   "outputs": [
    {
     "data": {
      "text/html": [
       "<div>\n",
       "<table border=\"1\" class=\"dataframe\">\n",
       "  <thead>\n",
       "    <tr style=\"text-align: right;\">\n",
       "      <th>Start Station</th>\n",
       "      <th>Embarcadero at Sansome</th>\n",
       "      <th>Harry Bridges Plaza (Ferry Building)</th>\n",
       "      <th>San Francisco Caltrain (Townsend at 4th)</th>\n",
       "      <th>San Francisco Caltrain 2 (330 Townsend)</th>\n",
       "      <th>Temporary Transbay Terminal (Howard at Beale)</th>\n",
       "    </tr>\n",
       "    <tr>\n",
       "      <th>Start Date</th>\n",
       "      <th></th>\n",
       "      <th></th>\n",
       "      <th></th>\n",
       "      <th></th>\n",
       "      <th></th>\n",
       "    </tr>\n",
       "  </thead>\n",
       "  <tbody>\n",
       "    <tr>\n",
       "      <th>2014-09-01 03:16:00</th>\n",
       "      <td>NaN</td>\n",
       "      <td>6712.0</td>\n",
       "      <td>NaN</td>\n",
       "      <td>NaN</td>\n",
       "      <td>NaN</td>\n",
       "    </tr>\n",
       "    <tr>\n",
       "      <th>2014-09-01 09:41:00</th>\n",
       "      <td>NaN</td>\n",
       "      <td>NaN</td>\n",
       "      <td>715.0</td>\n",
       "      <td>NaN</td>\n",
       "      <td>NaN</td>\n",
       "    </tr>\n",
       "    <tr>\n",
       "      <th>2014-09-01 09:42:00</th>\n",
       "      <td>NaN</td>\n",
       "      <td>NaN</td>\n",
       "      <td>NaN</td>\n",
       "      <td>601.0</td>\n",
       "      <td>NaN</td>\n",
       "    </tr>\n",
       "    <tr>\n",
       "      <th>2014-09-01 10:34:00</th>\n",
       "      <td>414.0</td>\n",
       "      <td>NaN</td>\n",
       "      <td>NaN</td>\n",
       "      <td>NaN</td>\n",
       "      <td>NaN</td>\n",
       "    </tr>\n",
       "    <tr>\n",
       "      <th>2014-09-01 10:37:00</th>\n",
       "      <td>949.0</td>\n",
       "      <td>NaN</td>\n",
       "      <td>NaN</td>\n",
       "      <td>NaN</td>\n",
       "      <td>NaN</td>\n",
       "    </tr>\n",
       "  </tbody>\n",
       "</table>\n",
       "</div>"
      ],
      "text/plain": [
       "Start Station        Embarcadero at Sansome  \\\n",
       "Start Date                                    \n",
       "2014-09-01 03:16:00                     NaN   \n",
       "2014-09-01 09:41:00                     NaN   \n",
       "2014-09-01 09:42:00                     NaN   \n",
       "2014-09-01 10:34:00                   414.0   \n",
       "2014-09-01 10:37:00                   949.0   \n",
       "\n",
       "Start Station        Harry Bridges Plaza (Ferry Building)  \\\n",
       "Start Date                                                  \n",
       "2014-09-01 03:16:00                                6712.0   \n",
       "2014-09-01 09:41:00                                   NaN   \n",
       "2014-09-01 09:42:00                                   NaN   \n",
       "2014-09-01 10:34:00                                   NaN   \n",
       "2014-09-01 10:37:00                                   NaN   \n",
       "\n",
       "Start Station        San Francisco Caltrain (Townsend at 4th)  \\\n",
       "Start Date                                                      \n",
       "2014-09-01 03:16:00                                       NaN   \n",
       "2014-09-01 09:41:00                                     715.0   \n",
       "2014-09-01 09:42:00                                       NaN   \n",
       "2014-09-01 10:34:00                                       NaN   \n",
       "2014-09-01 10:37:00                                       NaN   \n",
       "\n",
       "Start Station        San Francisco Caltrain 2 (330 Townsend)  \\\n",
       "Start Date                                                     \n",
       "2014-09-01 03:16:00                                      NaN   \n",
       "2014-09-01 09:41:00                                      NaN   \n",
       "2014-09-01 09:42:00                                    601.0   \n",
       "2014-09-01 10:34:00                                      NaN   \n",
       "2014-09-01 10:37:00                                      NaN   \n",
       "\n",
       "Start Station        Temporary Transbay Terminal (Howard at Beale)  \n",
       "Start Date                                                          \n",
       "2014-09-01 03:16:00                                            NaN  \n",
       "2014-09-01 09:41:00                                            NaN  \n",
       "2014-09-01 09:42:00                                            NaN  \n",
       "2014-09-01 10:34:00                                            NaN  \n",
       "2014-09-01 10:37:00                                            NaN  "
      ]
     },
     "execution_count": 62,
     "metadata": {},
     "output_type": "execute_result"
    }
   ],
   "source": [
    "pivoted.head()"
   ]
  },
  {
   "cell_type": "markdown",
   "metadata": {},
   "source": [
    "## Time Series"
   ]
  },
  {
   "cell_type": "code",
   "execution_count": 64,
   "metadata": {
    "collapsed": false
   },
   "outputs": [],
   "source": [
    "daily_averages = pivoted.resample('1d').mean()"
   ]
  },
  {
   "cell_type": "code",
   "execution_count": 65,
   "metadata": {
    "collapsed": false
   },
   "outputs": [
    {
     "data": {
      "text/html": [
       "<div>\n",
       "<table border=\"1\" class=\"dataframe\">\n",
       "  <thead>\n",
       "    <tr style=\"text-align: right;\">\n",
       "      <th>Start Station</th>\n",
       "      <th>Embarcadero at Sansome</th>\n",
       "      <th>Harry Bridges Plaza (Ferry Building)</th>\n",
       "      <th>San Francisco Caltrain (Townsend at 4th)</th>\n",
       "      <th>San Francisco Caltrain 2 (330 Townsend)</th>\n",
       "      <th>Temporary Transbay Terminal (Howard at Beale)</th>\n",
       "    </tr>\n",
       "    <tr>\n",
       "      <th>Start Date</th>\n",
       "      <th></th>\n",
       "      <th></th>\n",
       "      <th></th>\n",
       "      <th></th>\n",
       "      <th></th>\n",
       "    </tr>\n",
       "  </thead>\n",
       "  <tbody>\n",
       "    <tr>\n",
       "      <th>2014-09-01</th>\n",
       "      <td>4214.900000</td>\n",
       "      <td>2034.325000</td>\n",
       "      <td>3898.300000</td>\n",
       "      <td>5697.166667</td>\n",
       "      <td>527.333333</td>\n",
       "    </tr>\n",
       "    <tr>\n",
       "      <th>2014-09-02</th>\n",
       "      <td>776.712644</td>\n",
       "      <td>584.875000</td>\n",
       "      <td>602.343750</td>\n",
       "      <td>523.166667</td>\n",
       "      <td>515.843137</td>\n",
       "    </tr>\n",
       "    <tr>\n",
       "      <th>2014-09-03</th>\n",
       "      <td>848.012195</td>\n",
       "      <td>738.458333</td>\n",
       "      <td>611.924330</td>\n",
       "      <td>558.970270</td>\n",
       "      <td>523.452830</td>\n",
       "    </tr>\n",
       "    <tr>\n",
       "      <th>2014-09-04</th>\n",
       "      <td>737.666667</td>\n",
       "      <td>826.290000</td>\n",
       "      <td>1008.146474</td>\n",
       "      <td>628.082051</td>\n",
       "      <td>598.083333</td>\n",
       "    </tr>\n",
       "    <tr>\n",
       "      <th>2014-09-05</th>\n",
       "      <td>1005.341463</td>\n",
       "      <td>1040.880435</td>\n",
       "      <td>760.353554</td>\n",
       "      <td>602.419497</td>\n",
       "      <td>580.854167</td>\n",
       "    </tr>\n",
       "  </tbody>\n",
       "</table>\n",
       "</div>"
      ],
      "text/plain": [
       "Start Station  Embarcadero at Sansome  Harry Bridges Plaza (Ferry Building)  \\\n",
       "Start Date                                                                    \n",
       "2014-09-01                4214.900000                           2034.325000   \n",
       "2014-09-02                 776.712644                            584.875000   \n",
       "2014-09-03                 848.012195                            738.458333   \n",
       "2014-09-04                 737.666667                            826.290000   \n",
       "2014-09-05                1005.341463                           1040.880435   \n",
       "\n",
       "Start Station  San Francisco Caltrain (Townsend at 4th)  \\\n",
       "Start Date                                                \n",
       "2014-09-01                                  3898.300000   \n",
       "2014-09-02                                   602.343750   \n",
       "2014-09-03                                   611.924330   \n",
       "2014-09-04                                  1008.146474   \n",
       "2014-09-05                                   760.353554   \n",
       "\n",
       "Start Station  San Francisco Caltrain 2 (330 Townsend)  \\\n",
       "Start Date                                               \n",
       "2014-09-01                                 5697.166667   \n",
       "2014-09-02                                  523.166667   \n",
       "2014-09-03                                  558.970270   \n",
       "2014-09-04                                  628.082051   \n",
       "2014-09-05                                  602.419497   \n",
       "\n",
       "Start Station  Temporary Transbay Terminal (Howard at Beale)  \n",
       "Start Date                                                    \n",
       "2014-09-01                                        527.333333  \n",
       "2014-09-02                                        515.843137  \n",
       "2014-09-03                                        523.452830  \n",
       "2014-09-04                                        598.083333  \n",
       "2014-09-05                                        580.854167  "
      ]
     },
     "execution_count": 65,
     "metadata": {},
     "output_type": "execute_result"
    }
   ],
   "source": [
    "daily_averages.head()"
   ]
  },
  {
   "cell_type": "code",
   "execution_count": 67,
   "metadata": {
    "collapsed": false
   },
   "outputs": [
    {
     "data": {
      "text/html": [
       "<div>\n",
       "<table border=\"1\" class=\"dataframe\">\n",
       "  <thead>\n",
       "    <tr style=\"text-align: right;\">\n",
       "      <th>Start Station</th>\n",
       "      <th>Embarcadero at Sansome</th>\n",
       "      <th>Harry Bridges Plaza (Ferry Building)</th>\n",
       "      <th>San Francisco Caltrain (Townsend at 4th)</th>\n",
       "      <th>San Francisco Caltrain 2 (330 Townsend)</th>\n",
       "      <th>Temporary Transbay Terminal (Howard at Beale)</th>\n",
       "    </tr>\n",
       "    <tr>\n",
       "      <th>Start Date</th>\n",
       "      <th></th>\n",
       "      <th></th>\n",
       "      <th></th>\n",
       "      <th></th>\n",
       "      <th></th>\n",
       "    </tr>\n",
       "  </thead>\n",
       "  <tbody>\n",
       "    <tr>\n",
       "      <th>2014-09-01</th>\n",
       "      <td>4214.900000</td>\n",
       "      <td>2034.325000</td>\n",
       "      <td>3898.300000</td>\n",
       "      <td>5697.166667</td>\n",
       "      <td>527.333333</td>\n",
       "    </tr>\n",
       "    <tr>\n",
       "      <th>2014-09-02</th>\n",
       "      <td>776.712644</td>\n",
       "      <td>584.875000</td>\n",
       "      <td>602.343750</td>\n",
       "      <td>523.166667</td>\n",
       "      <td>515.843137</td>\n",
       "    </tr>\n",
       "    <tr>\n",
       "      <th>2014-09-03</th>\n",
       "      <td>848.012195</td>\n",
       "      <td>738.458333</td>\n",
       "      <td>611.924330</td>\n",
       "      <td>558.970270</td>\n",
       "      <td>523.452830</td>\n",
       "    </tr>\n",
       "    <tr>\n",
       "      <th>2014-09-04</th>\n",
       "      <td>737.666667</td>\n",
       "      <td>826.290000</td>\n",
       "      <td>1008.146474</td>\n",
       "      <td>628.082051</td>\n",
       "      <td>598.083333</td>\n",
       "    </tr>\n",
       "    <tr>\n",
       "      <th>2014-09-05</th>\n",
       "      <td>1005.341463</td>\n",
       "      <td>1040.880435</td>\n",
       "      <td>760.353554</td>\n",
       "      <td>602.419497</td>\n",
       "      <td>580.854167</td>\n",
       "    </tr>\n",
       "  </tbody>\n",
       "</table>\n",
       "</div>"
      ],
      "text/plain": [
       "Start Station  Embarcadero at Sansome  Harry Bridges Plaza (Ferry Building)  \\\n",
       "Start Date                                                                    \n",
       "2014-09-01                4214.900000                           2034.325000   \n",
       "2014-09-02                 776.712644                            584.875000   \n",
       "2014-09-03                 848.012195                            738.458333   \n",
       "2014-09-04                 737.666667                            826.290000   \n",
       "2014-09-05                1005.341463                           1040.880435   \n",
       "\n",
       "Start Station  San Francisco Caltrain (Townsend at 4th)  \\\n",
       "Start Date                                                \n",
       "2014-09-01                                  3898.300000   \n",
       "2014-09-02                                   602.343750   \n",
       "2014-09-03                                   611.924330   \n",
       "2014-09-04                                  1008.146474   \n",
       "2014-09-05                                   760.353554   \n",
       "\n",
       "Start Station  San Francisco Caltrain 2 (330 Townsend)  \\\n",
       "Start Date                                               \n",
       "2014-09-01                                 5697.166667   \n",
       "2014-09-02                                  523.166667   \n",
       "2014-09-03                                  558.970270   \n",
       "2014-09-04                                  628.082051   \n",
       "2014-09-05                                  602.419497   \n",
       "\n",
       "Start Station  Temporary Transbay Terminal (Howard at Beale)  \n",
       "Start Date                                                    \n",
       "2014-09-01                                        527.333333  \n",
       "2014-09-02                                        515.843137  \n",
       "2014-09-03                                        523.452830  \n",
       "2014-09-04                                        598.083333  \n",
       "2014-09-05                                        580.854167  "
      ]
     },
     "execution_count": 67,
     "metadata": {},
     "output_type": "execute_result"
    }
   ],
   "source": [
    "daily_averages['2014'].head()"
   ]
  },
  {
   "cell_type": "code",
   "execution_count": 68,
   "metadata": {
    "collapsed": false
   },
   "outputs": [
    {
     "data": {
      "text/html": [
       "<div>\n",
       "<table border=\"1\" class=\"dataframe\">\n",
       "  <thead>\n",
       "    <tr style=\"text-align: right;\">\n",
       "      <th>Start Station</th>\n",
       "      <th>Embarcadero at Sansome</th>\n",
       "      <th>Harry Bridges Plaza (Ferry Building)</th>\n",
       "      <th>San Francisco Caltrain (Townsend at 4th)</th>\n",
       "      <th>San Francisco Caltrain 2 (330 Townsend)</th>\n",
       "      <th>Temporary Transbay Terminal (Howard at Beale)</th>\n",
       "    </tr>\n",
       "    <tr>\n",
       "      <th>Start Date</th>\n",
       "      <th></th>\n",
       "      <th></th>\n",
       "      <th></th>\n",
       "      <th></th>\n",
       "      <th></th>\n",
       "    </tr>\n",
       "  </thead>\n",
       "  <tbody>\n",
       "    <tr>\n",
       "      <th>2014-10-01</th>\n",
       "      <td>2017.562500</td>\n",
       "      <td>1729.528846</td>\n",
       "      <td>747.191213</td>\n",
       "      <td>566.573837</td>\n",
       "      <td>501.398693</td>\n",
       "    </tr>\n",
       "    <tr>\n",
       "      <th>2014-10-02</th>\n",
       "      <td>1492.860000</td>\n",
       "      <td>1199.160000</td>\n",
       "      <td>653.659722</td>\n",
       "      <td>555.023663</td>\n",
       "      <td>716.618644</td>\n",
       "    </tr>\n",
       "    <tr>\n",
       "      <th>2014-10-03</th>\n",
       "      <td>816.750000</td>\n",
       "      <td>679.900000</td>\n",
       "      <td>696.092342</td>\n",
       "      <td>559.867150</td>\n",
       "      <td>493.988095</td>\n",
       "    </tr>\n",
       "    <tr>\n",
       "      <th>2014-10-04</th>\n",
       "      <td>2209.200000</td>\n",
       "      <td>2226.096774</td>\n",
       "      <td>940.470588</td>\n",
       "      <td>610.000000</td>\n",
       "      <td>637.250000</td>\n",
       "    </tr>\n",
       "    <tr>\n",
       "      <th>2014-10-05</th>\n",
       "      <td>2741.527778</td>\n",
       "      <td>5852.772727</td>\n",
       "      <td>623.083333</td>\n",
       "      <td>1455.153846</td>\n",
       "      <td>3377.000000</td>\n",
       "    </tr>\n",
       "  </tbody>\n",
       "</table>\n",
       "</div>"
      ],
      "text/plain": [
       "Start Station  Embarcadero at Sansome  Harry Bridges Plaza (Ferry Building)  \\\n",
       "Start Date                                                                    \n",
       "2014-10-01                2017.562500                           1729.528846   \n",
       "2014-10-02                1492.860000                           1199.160000   \n",
       "2014-10-03                 816.750000                            679.900000   \n",
       "2014-10-04                2209.200000                           2226.096774   \n",
       "2014-10-05                2741.527778                           5852.772727   \n",
       "\n",
       "Start Station  San Francisco Caltrain (Townsend at 4th)  \\\n",
       "Start Date                                                \n",
       "2014-10-01                                   747.191213   \n",
       "2014-10-02                                   653.659722   \n",
       "2014-10-03                                   696.092342   \n",
       "2014-10-04                                   940.470588   \n",
       "2014-10-05                                   623.083333   \n",
       "\n",
       "Start Station  San Francisco Caltrain 2 (330 Townsend)  \\\n",
       "Start Date                                               \n",
       "2014-10-01                                  566.573837   \n",
       "2014-10-02                                  555.023663   \n",
       "2014-10-03                                  559.867150   \n",
       "2014-10-04                                  610.000000   \n",
       "2014-10-05                                 1455.153846   \n",
       "\n",
       "Start Station  Temporary Transbay Terminal (Howard at Beale)  \n",
       "Start Date                                                    \n",
       "2014-10-01                                        501.398693  \n",
       "2014-10-02                                        716.618644  \n",
       "2014-10-03                                        493.988095  \n",
       "2014-10-04                                        637.250000  \n",
       "2014-10-05                                       3377.000000  "
      ]
     },
     "execution_count": 68,
     "metadata": {},
     "output_type": "execute_result"
    }
   ],
   "source": [
    "daily_averages['2014-10'].head()"
   ]
  },
  {
   "cell_type": "code",
   "execution_count": 69,
   "metadata": {
    "collapsed": false
   },
   "outputs": [
    {
     "data": {
      "text/html": [
       "<div>\n",
       "<table border=\"1\" class=\"dataframe\">\n",
       "  <thead>\n",
       "    <tr style=\"text-align: right;\">\n",
       "      <th>Start Station</th>\n",
       "      <th>Embarcadero at Sansome</th>\n",
       "      <th>Harry Bridges Plaza (Ferry Building)</th>\n",
       "      <th>San Francisco Caltrain (Townsend at 4th)</th>\n",
       "      <th>San Francisco Caltrain 2 (330 Townsend)</th>\n",
       "      <th>Temporary Transbay Terminal (Howard at Beale)</th>\n",
       "    </tr>\n",
       "    <tr>\n",
       "      <th>Start Date</th>\n",
       "      <th></th>\n",
       "      <th></th>\n",
       "      <th></th>\n",
       "      <th></th>\n",
       "      <th></th>\n",
       "    </tr>\n",
       "  </thead>\n",
       "  <tbody>\n",
       "    <tr>\n",
       "      <th>2014-10-02</th>\n",
       "      <td>1492.860000</td>\n",
       "      <td>1199.160000</td>\n",
       "      <td>653.659722</td>\n",
       "      <td>555.023663</td>\n",
       "      <td>716.618644</td>\n",
       "    </tr>\n",
       "    <tr>\n",
       "      <th>2014-10-03</th>\n",
       "      <td>816.750000</td>\n",
       "      <td>679.900000</td>\n",
       "      <td>696.092342</td>\n",
       "      <td>559.867150</td>\n",
       "      <td>493.988095</td>\n",
       "    </tr>\n",
       "    <tr>\n",
       "      <th>2014-10-04</th>\n",
       "      <td>2209.200000</td>\n",
       "      <td>2226.096774</td>\n",
       "      <td>940.470588</td>\n",
       "      <td>610.000000</td>\n",
       "      <td>637.250000</td>\n",
       "    </tr>\n",
       "    <tr>\n",
       "      <th>2014-10-05</th>\n",
       "      <td>2741.527778</td>\n",
       "      <td>5852.772727</td>\n",
       "      <td>623.083333</td>\n",
       "      <td>1455.153846</td>\n",
       "      <td>3377.000000</td>\n",
       "    </tr>\n",
       "    <tr>\n",
       "      <th>2014-10-06</th>\n",
       "      <td>926.086957</td>\n",
       "      <td>659.940476</td>\n",
       "      <td>633.525974</td>\n",
       "      <td>683.711812</td>\n",
       "      <td>546.141304</td>\n",
       "    </tr>\n",
       "  </tbody>\n",
       "</table>\n",
       "</div>"
      ],
      "text/plain": [
       "Start Station  Embarcadero at Sansome  Harry Bridges Plaza (Ferry Building)  \\\n",
       "Start Date                                                                    \n",
       "2014-10-02                1492.860000                           1199.160000   \n",
       "2014-10-03                 816.750000                            679.900000   \n",
       "2014-10-04                2209.200000                           2226.096774   \n",
       "2014-10-05                2741.527778                           5852.772727   \n",
       "2014-10-06                 926.086957                            659.940476   \n",
       "\n",
       "Start Station  San Francisco Caltrain (Townsend at 4th)  \\\n",
       "Start Date                                                \n",
       "2014-10-02                                   653.659722   \n",
       "2014-10-03                                   696.092342   \n",
       "2014-10-04                                   940.470588   \n",
       "2014-10-05                                   623.083333   \n",
       "2014-10-06                                   633.525974   \n",
       "\n",
       "Start Station  San Francisco Caltrain 2 (330 Townsend)  \\\n",
       "Start Date                                               \n",
       "2014-10-02                                  555.023663   \n",
       "2014-10-03                                  559.867150   \n",
       "2014-10-04                                  610.000000   \n",
       "2014-10-05                                 1455.153846   \n",
       "2014-10-06                                  683.711812   \n",
       "\n",
       "Start Station  Temporary Transbay Terminal (Howard at Beale)  \n",
       "Start Date                                                    \n",
       "2014-10-02                                        716.618644  \n",
       "2014-10-03                                        493.988095  \n",
       "2014-10-04                                        637.250000  \n",
       "2014-10-05                                       3377.000000  \n",
       "2014-10-06                                        546.141304  "
      ]
     },
     "execution_count": 69,
     "metadata": {},
     "output_type": "execute_result"
    }
   ],
   "source": [
    "daily_averages['2014-10-2':'2014-10-7'].head()"
   ]
  },
  {
   "cell_type": "markdown",
   "metadata": {},
   "source": [
    "## Groupby"
   ]
  },
  {
   "cell_type": "code",
   "execution_count": 70,
   "metadata": {
    "collapsed": true
   },
   "outputs": [],
   "source": [
    "groupby_example = pandas.DataFrame({'key': ['a', 'b', 'a', 'b'],\n",
    "                                    'value': [1,2,1,2]})"
   ]
  },
  {
   "cell_type": "code",
   "execution_count": 71,
   "metadata": {
    "collapsed": false
   },
   "outputs": [
    {
     "data": {
      "text/html": [
       "<div>\n",
       "<table border=\"1\" class=\"dataframe\">\n",
       "  <thead>\n",
       "    <tr style=\"text-align: right;\">\n",
       "      <th></th>\n",
       "      <th>key</th>\n",
       "      <th>value</th>\n",
       "    </tr>\n",
       "  </thead>\n",
       "  <tbody>\n",
       "    <tr>\n",
       "      <th>0</th>\n",
       "      <td>a</td>\n",
       "      <td>1</td>\n",
       "    </tr>\n",
       "    <tr>\n",
       "      <th>1</th>\n",
       "      <td>b</td>\n",
       "      <td>2</td>\n",
       "    </tr>\n",
       "    <tr>\n",
       "      <th>2</th>\n",
       "      <td>a</td>\n",
       "      <td>1</td>\n",
       "    </tr>\n",
       "    <tr>\n",
       "      <th>3</th>\n",
       "      <td>b</td>\n",
       "      <td>2</td>\n",
       "    </tr>\n",
       "  </tbody>\n",
       "</table>\n",
       "</div>"
      ],
      "text/plain": [
       "  key  value\n",
       "0   a      1\n",
       "1   b      2\n",
       "2   a      1\n",
       "3   b      2"
      ]
     },
     "execution_count": 71,
     "metadata": {},
     "output_type": "execute_result"
    }
   ],
   "source": [
    "groupby_example"
   ]
  },
  {
   "cell_type": "code",
   "execution_count": 72,
   "metadata": {
    "collapsed": false
   },
   "outputs": [
    {
     "data": {
      "text/html": [
       "<div>\n",
       "<table border=\"1\" class=\"dataframe\">\n",
       "  <thead>\n",
       "    <tr style=\"text-align: right;\">\n",
       "      <th></th>\n",
       "      <th>value</th>\n",
       "    </tr>\n",
       "    <tr>\n",
       "      <th>key</th>\n",
       "      <th></th>\n",
       "    </tr>\n",
       "  </thead>\n",
       "  <tbody>\n",
       "    <tr>\n",
       "      <th>a</th>\n",
       "      <td>2</td>\n",
       "    </tr>\n",
       "    <tr>\n",
       "      <th>b</th>\n",
       "      <td>4</td>\n",
       "    </tr>\n",
       "  </tbody>\n",
       "</table>\n",
       "</div>"
      ],
      "text/plain": [
       "     value\n",
       "key       \n",
       "a        2\n",
       "b        4"
      ]
     },
     "execution_count": 72,
     "metadata": {},
     "output_type": "execute_result"
    }
   ],
   "source": [
    "groupby_example.groupby('key').sum()"
   ]
  },
  {
   "cell_type": "code",
   "execution_count": 75,
   "metadata": {
    "collapsed": false
   },
   "outputs": [],
   "source": [
    "daily_averages['Weekday'] = daily_averages.index.weekday"
   ]
  },
  {
   "cell_type": "code",
   "execution_count": 76,
   "metadata": {
    "collapsed": true
   },
   "outputs": [],
   "source": [
    "mean_weekday = daily_averages.groupby('Weekday').mean()"
   ]
  },
  {
   "cell_type": "code",
   "execution_count": 80,
   "metadata": {
    "collapsed": false
   },
   "outputs": [
    {
     "data": {
      "text/plain": [
       "<matplotlib.axes._subplots.AxesSubplot at 0x116dbad10>"
      ]
     },
     "execution_count": 80,
     "metadata": {},
     "output_type": "execute_result"
    },
    {
     "data": {
      "image/png": "[encoded data removed]",
      "text/plain": [
       "<matplotlib.figure.Figure at 0x116c7cd90>"
      ]
     },
     "metadata": {},
     "output_type": "display_data"
    }
   ],
   "source": [
    "mean_weekday.plot(kind='bar', ylim=(0, 5000))"
   ]
  },
  {
   "cell_type": "code",
   "execution_count": 81,
   "metadata": {
    "collapsed": true
   },
   "outputs": [],
   "source": [
    "import calendar"
   ]
  },
  {
   "cell_type": "code",
   "execution_count": 82,
   "metadata": {
    "collapsed": true
   },
   "outputs": [],
   "source": [
    "daily_averages['Weekday'] = daily_averages['Weekday'].apply(lambda x: calendar.day_abbr[x])"
   ]
  },
  {
   "cell_type": "code",
   "execution_count": 84,
   "metadata": {
    "collapsed": false
   },
   "outputs": [
    {
     "data": {
      "text/plain": [
       "<matplotlib.axes._subplots.AxesSubplot at 0x117132cd0>"
      ]
     },
     "execution_count": 84,
     "metadata": {},
     "output_type": "execute_result"
    },
    {
     "data": {
      "image/png": "[encoded data removed]",
      "text/plain": [
       "<matplotlib.figure.Figure at 0x115816750>"
      ]
     },
     "metadata": {},
     "output_type": "display_data"
    }
   ],
   "source": [
    "mean_weekday = daily_averages.groupby('Weekday').mean()\n",
    "mean_weekday.plot(kind='bar', ylim=(0, 5000))"
   ]
  },
  {
   "cell_type": "code",
   "execution_count": 87,
   "metadata": {
    "collapsed": false
   },
   "outputs": [
    {
     "data": {
      "text/plain": [
       "Weekday\n",
       "Fri    1117.825299\n",
       "Mon    1028.033459\n",
       "Sat    1818.528534\n",
       "Sun    2112.678439\n",
       "Thu     922.983051\n",
       "Tue     988.094777\n",
       "Wed    1036.419716\n",
       "Name: Embarcadero at Sansome, dtype: float64"
      ]
     },
     "execution_count": 87,
     "metadata": {},
     "output_type": "execute_result"
    }
   ],
   "source": [
    "mean_weekday['Embarcadero at Sansome']"
   ]
  },
  {
   "cell_type": "code",
   "execution_count": 91,
   "metadata": {
    "collapsed": false
   },
   "outputs": [
    {
     "data": {
      "text/html": [
       "<div>\n",
       "<table border=\"1\" class=\"dataframe\">\n",
       "  <thead>\n",
       "    <tr style=\"text-align: right;\">\n",
       "      <th>Start Station</th>\n",
       "      <th>Embarcadero at Sansome</th>\n",
       "      <th>Harry Bridges Plaza (Ferry Building)</th>\n",
       "      <th>San Francisco Caltrain (Townsend at 4th)</th>\n",
       "      <th>San Francisco Caltrain 2 (330 Townsend)</th>\n",
       "      <th>Temporary Transbay Terminal (Howard at Beale)</th>\n",
       "    </tr>\n",
       "    <tr>\n",
       "      <th>Weekday</th>\n",
       "      <th></th>\n",
       "      <th></th>\n",
       "      <th></th>\n",
       "      <th></th>\n",
       "      <th></th>\n",
       "    </tr>\n",
       "  </thead>\n",
       "  <tbody>\n",
       "    <tr>\n",
       "      <th>Mon</th>\n",
       "      <td>1028.033459</td>\n",
       "      <td>1073.037941</td>\n",
       "      <td>827.645853</td>\n",
       "      <td>730.183865</td>\n",
       "      <td>578.462879</td>\n",
       "    </tr>\n",
       "    <tr>\n",
       "      <th>Sun</th>\n",
       "      <td>2112.678439</td>\n",
       "      <td>2591.564937</td>\n",
       "      <td>1838.451324</td>\n",
       "      <td>924.354415</td>\n",
       "      <td>1269.035737</td>\n",
       "    </tr>\n",
       "  </tbody>\n",
       "</table>\n",
       "</div>"
      ],
      "text/plain": [
       "Start Station  Embarcadero at Sansome  Harry Bridges Plaza (Ferry Building)  \\\n",
       "Weekday                                                                       \n",
       "Mon                       1028.033459                           1073.037941   \n",
       "Sun                       2112.678439                           2591.564937   \n",
       "\n",
       "Start Station  San Francisco Caltrain (Townsend at 4th)  \\\n",
       "Weekday                                                   \n",
       "Mon                                          827.645853   \n",
       "Sun                                         1838.451324   \n",
       "\n",
       "Start Station  San Francisco Caltrain 2 (330 Townsend)  \\\n",
       "Weekday                                                  \n",
       "Mon                                         730.183865   \n",
       "Sun                                         924.354415   \n",
       "\n",
       "Start Station  Temporary Transbay Terminal (Howard at Beale)  \n",
       "Weekday                                                       \n",
       "Mon                                               578.462879  \n",
       "Sun                                              1269.035737  "
      ]
     },
     "execution_count": 91,
     "metadata": {},
     "output_type": "execute_result"
    }
   ],
   "source": [
    "mean_weekday.iloc[[1,3]]"
   ]
  },
  {
   "cell_type": "code",
   "execution_count": 92,
   "metadata": {
    "collapsed": true
   },
   "outputs": [],
   "source": [
    "daily_averages['Month'] = daily_averages.index.month"
   ]
  },
  {
   "cell_type": "code",
   "execution_count": 95,
   "metadata": {
    "collapsed": false
   },
   "outputs": [
    {
     "data": {
      "text/plain": [
       "<matplotlib.axes._subplots.AxesSubplot at 0x1185cb4d0>"
      ]
     },
     "execution_count": 95,
     "metadata": {},
     "output_type": "execute_result"
    },
    {
     "data": {
      "image/png": "[encoded data removed]",
      "text/plain": [
       "<matplotlib.figure.Figure at 0x11854fe10>"
      ]
     },
     "metadata": {},
     "output_type": "display_data"
    }
   ],
   "source": [
    "daily_averages.groupby('Month').mean().plot.bar(ylim=(0, 4000))"
   ]
  },
  {
   "cell_type": "code",
   "execution_count": null,
   "metadata": {
    "collapsed": true
   },
   "outputs": [],
   "source": []
  }
 ],
 "metadata": {
  "kernelspec": {
   "display_name": "Python 2",
   "language": "python",
   "name": "python2"
  },
  "language_info": {
   "codemirror_mode": {
    "name": "ipython",
    "version": 2
   },
   "file_extension": ".py",
   "mimetype": "text/x-python",
   "name": "python",
   "nbconvert_exporter": "python",
   "pygments_lexer": "ipython2",
   "version": "2.7.12"
  }
 },
 "nbformat": 4,
 "nbformat_minor": 2
}
