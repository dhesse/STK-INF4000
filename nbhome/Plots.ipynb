{
 "cells": [
  {
   "cell_type": "code",
   "execution_count": null,
   "metadata": {},
   "outputs": [],
   "source": [
    "import matplotlib.pyplot as plt\n",
    "import numpy as np\n",
    "%matplotlib inline"
   ]
  },
  {
   "cell_type": "markdown",
   "metadata": {},
   "source": [
    "# Lecture 6"
   ]
  },
  {
   "cell_type": "code",
   "execution_count": null,
   "metadata": {},
   "outputs": [],
   "source": [
    "rs = np.arange(0,1,0.001)\n",
    "def e(p, r):\n",
    "    return r**(1./p)\n",
    "for p in (1, 2, 4, 10):\n",
    "    plt.plot(rs, e(p, rs), label=r'$p = {}$'.format(p))\n",
    "plt.xlabel('sampled fraction of observations $r$')\n",
    "plt.ylabel('edge length $e_p(r)$')\n",
    "plt.legend()\n",
    "plt.savefig('../05-linreg/img/ep.png', dpi=300)"
   ]
  },
  {
   "cell_type": "code",
   "execution_count": null,
   "metadata": {},
   "outputs": [],
   "source": [
    "from scipy.stats import t, norm"
   ]
  },
  {
   "cell_type": "code",
   "execution_count": null,
   "metadata": {},
   "outputs": [],
   "source": [
    "norm.pdf(2, 0, 1)"
   ]
  },
  {
   "cell_type": "code",
   "execution_count": null,
   "metadata": {},
   "outputs": [],
   "source": [
    "t.pdf(1, 100)"
   ]
  },
  {
   "cell_type": "code",
   "execution_count": null,
   "metadata": {},
   "outputs": [],
   "source": [
    "zs = np.arange(3,6,.01)\n",
    "dofs = (30, 50, 100)\n",
    "for d in dofs:\n",
    "    plt.plot(zs, t.pdf(zs, d), label=\"$t_{{{}}}$\".format(d))\n",
    "plt.plot(zs, norm.pdf(zs, 0, 1), label=\"normal\")\n",
    "plt.legend()\n",
    "plt.xlabel(\"Z\")\n",
    "plt.ylabel(\"P(Z)\")\n",
    "plt.savefig(\"../05-linreg/img/tails.png\", dpi=300)"
   ]
  },
  {
   "cell_type": "code",
   "execution_count": null,
   "metadata": {},
   "outputs": [],
   "source": [
    "fig_size = plt.rcParams['figure.figsize']"
   ]
  },
  {
   "cell_type": "code",
   "execution_count": null,
   "metadata": {},
   "outputs": [],
   "source": [
    "plt.rcParams['figure.figsize'] = [5,5]"
   ]
  },
  {
   "cell_type": "code",
   "execution_count": null,
   "metadata": {},
   "outputs": [],
   "source": [
    "delta = 0.025\n",
    "x = np.arange(-1.5, 1.5, delta)\n",
    "y = np.arange(-1.5, 1.5, delta)\n",
    "X, Y = np.meshgrid(x, y)\n",
    "z_ridge = [i**2 + j**2 for i,j in zip(X,Y)]\n",
    "cs = plt.contour(X, Y, z_ridge)\n",
    "plt.clabel(cs)\n",
    "plt.xlabel(r'$\\theta_1$')\n",
    "plt.ylabel(r'$\\theta_2$')\n",
    "plt.title('Ridge penalty contour lines.')\n",
    "plt.savefig('../05-linreg/img/ridge.png', dpi=300)"
   ]
  },
  {
   "cell_type": "code",
   "execution_count": null,
   "metadata": {},
   "outputs": [],
   "source": [
    "z_lasso = [abs(i) + abs(j) for i,j in zip(X,Y)]\n",
    "cs = plt.contour(X, Y, z_lasso)\n",
    "plt.clabel(cs)\n",
    "plt.xlabel(r'$\\theta_1$')\n",
    "plt.ylabel(r'$\\theta_2$')\n",
    "plt.title('Lasso penalty contour lines.')\n",
    "plt.savefig('../05-linreg/img/lasso.png', dpi=300)"
   ]
  },
  {
   "cell_type": "code",
   "execution_count": null,
   "metadata": {},
   "outputs": [],
   "source": [
    "alpha = 0.5\n",
    "z_elnet = [alpha*(i**2 + j**2) + (1-alpha)*(abs(i) + abs(j)) for i,j in zip(X,Y)]\n",
    "cs = plt.contour(X, Y, z_elnet)\n",
    "plt.clabel(cs)\n",
    "plt.xlabel(r'$\\theta_1$')\n",
    "plt.ylabel(r'$\\theta_2$')\n",
    "plt.title(r'Elastic net penalty contour lines, $\\alpha = 0.5$.')\n",
    "plt.savefig('../05-linreg/img/elnet.png', dpi=300)"
   ]
  },
  {
   "cell_type": "markdown",
   "metadata": {},
   "source": [
    "# Classification"
   ]
  },
  {
   "cell_type": "code",
   "execution_count": null,
   "metadata": {},
   "outputs": [],
   "source": [
    "sigma = np.array([[0.5,0.2], [0.2,0.5]])*1.1\n",
    "means = np.array([[2,1],[-1,1], [0,-2]])"
   ]
  },
  {
   "cell_type": "code",
   "execution_count": null,
   "metadata": {},
   "outputs": [],
   "source": [
    "from scipy.optimize import minimize_scalar"
   ]
  },
  {
   "cell_type": "code",
   "execution_count": null,
   "metadata": {},
   "outputs": [],
   "source": [
    "Sinv = np.linalg.inv(sigma)\n",
    "def ne(X, mu):\n",
    "    delta = X - mu\n",
    "    return np.dot(np.dot(delta.T, Sinv), delta)"
   ]
  },
  {
   "cell_type": "code",
   "execution_count": null,
   "metadata": {},
   "outputs": [],
   "source": [
    "def b(x, i, j):\n",
    "    def f(y):\n",
    "        X = np.array([x, y])\n",
    "        return (ne(X, means[i]) - ne(X, means[j]))**2\n",
    "    return minimize_scalar(f).x"
   ]
  },
  {
   "cell_type": "code",
   "execution_count": null,
   "metadata": {},
   "outputs": [],
   "source": [
    "from itertools import combinations"
   ]
  },
  {
   "cell_type": "code",
   "execution_count": null,
   "metadata": {},
   "outputs": [],
   "source": [
    "N = 50\n",
    "labels = ['s', 'o', 'd']\n",
    "for mu, label in zip(means, labels):\n",
    "    x, y = np.random.multivariate_normal(mu, sigma, N).T\n",
    "    plt.plot(x, y, label)\n",
    "xs = np.arange(0.01, -3, -0.5)\n",
    "plt.plot(xs, [b(x,1,2) for x in xs], color = 'black')\n",
    "xs = np.arange(0.05, 1.7, 0.2)\n",
    "plt.plot(xs, [b(x, 0, 1) for x in xs], color = 'black')\n",
    "xs = np.arange(0.05, 3, 0.5)\n",
    "plt.plot(xs, [b(x, 0, 2) for x in xs], color = 'black')\n",
    "plt.xlabel('$x_1$')\n",
    "plt.ylabel('$x_2$')\n",
    "plt.title('class labels and decision boundaries')"
   ]
  },
  {
   "cell_type": "code",
   "execution_count": null,
   "metadata": {},
   "outputs": [],
   "source": [
    "from scipy.stats import multivariate_normal"
   ]
  },
  {
   "cell_type": "code",
   "execution_count": null,
   "metadata": {},
   "outputs": [],
   "source": [
    "delta = 0.05\n",
    "x = np.arange(-3, 4, delta)\n",
    "y = np.arange(-4, 3, delta)\n",
    "X, Y = np.meshgrid(x, y)\n",
    "pos = np.empty(X.shape + (2,))\n",
    "pos[:, :, 0] = X; pos[:, :, 1] = Y\n",
    "for i in range(3):\n",
    "    p = multivariate_normal(means[i], sigma)\n",
    "    z = p.pdf(np.array(pos))\n",
    "    cs = plt.contour(X, Y ,z)\n",
    "    plt.clabel(cs)\n",
    "plt.xlabel('$x_1$')\n",
    "plt.ylabel('$x_2$')\n",
    "plt.title('probability density contour lines')"
   ]
  },
  {
   "cell_type": "code",
   "execution_count": null,
   "metadata": {},
   "outputs": [],
   "source": []
  }
 ],
 "metadata": {
  "kernelspec": {
   "display_name": "Python 2",
   "language": "python",
   "name": "python2"
  },
  "language_info": {
   "codemirror_mode": {
    "name": "ipython",
    "version": 2
   },
   "file_extension": ".py",
   "mimetype": "text/x-python",
   "name": "python",
   "nbconvert_exporter": "python",
   "pygments_lexer": "ipython2",
   "version": "2.7.10"
  }
 },
 "nbformat": 4,
 "nbformat_minor": 2
}
