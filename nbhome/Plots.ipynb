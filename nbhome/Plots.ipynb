{
 "cells": [
  {
   "cell_type": "code",
   "execution_count": null,
   "metadata": {},
   "outputs": [],
   "source": [
    "import matplotlib.pyplot as plt\n",
    "import numpy as np\n",
    "%matplotlib inline"
   ]
  },
  {
   "cell_type": "markdown",
   "metadata": {},
   "source": [
    "# Lecture 6"
   ]
  },
  {
   "cell_type": "code",
   "execution_count": null,
   "metadata": {},
   "outputs": [],
   "source": [
    "rs = np.arange(0,1,0.001)\n",
    "def e(p, r):\n",
    "    return r**(1./p)\n",
    "for p in (1, 2, 4, 10):\n",
    "    plt.plot(rs, e(p, rs), label=r'$p = {}$'.format(p))\n",
    "plt.xlabel('sampled fraction of observations $r$')\n",
    "plt.ylabel('edge length $e_p(r)$')\n",
    "plt.legend()\n",
    "plt.savefig('../05-linreg/img/ep.png', dpi=300)"
   ]
  },
  {
   "cell_type": "code",
   "execution_count": null,
   "metadata": {},
   "outputs": [],
   "source": [
    "from scipy.stats import t, norm"
   ]
  },
  {
   "cell_type": "code",
   "execution_count": null,
   "metadata": {},
   "outputs": [],
   "source": [
    "norm.pdf(2, 0, 1)"
   ]
  },
  {
   "cell_type": "code",
   "execution_count": null,
   "metadata": {},
   "outputs": [],
   "source": [
    "t.pdf(1, 100)"
   ]
  },
  {
   "cell_type": "code",
   "execution_count": null,
   "metadata": {},
   "outputs": [],
   "source": [
    "zs = np.arange(3,6,.01)\n",
    "dofs = (30, 50, 100)\n",
    "for d in dofs:\n",
    "    plt.plot(zs, t.pdf(zs, d), label=\"$t_{{{}}}$\".format(d))\n",
    "plt.plot(zs, norm.pdf(zs, 0, 1), label=\"normal\")\n",
    "plt.legend()\n",
    "plt.xlabel(\"Z\")\n",
    "plt.ylabel(\"P(Z)\")\n",
    "plt.savefig(\"../05-linreg/img/tails.png\", dpi=300)"
   ]
  },
  {
   "cell_type": "code",
   "execution_count": null,
   "metadata": {},
   "outputs": [],
   "source": [
    "fig_size = plt.rcParams['figure.figsize']"
   ]
  },
  {
   "cell_type": "code",
   "execution_count": null,
   "metadata": {},
   "outputs": [],
   "source": [
    "plt.rcParams['figure.figsize'] = [5,5]"
   ]
  },
  {
   "cell_type": "code",
   "execution_count": null,
   "metadata": {},
   "outputs": [],
   "source": [
    "delta = 0.025\n",
    "x = np.arange(-1.5, 1.5, delta)\n",
    "y = np.arange(-1.5, 1.5, delta)\n",
    "X, Y = np.meshgrid(x, y)\n",
    "z_ridge = [i**2 + j**2 for i,j in zip(X,Y)]\n",
    "cs = plt.contour(X, Y, z_ridge)\n",
    "plt.clabel(cs)\n",
    "plt.xlabel(r'$\\theta_1$')\n",
    "plt.ylabel(r'$\\theta_2$')\n",
    "plt.title('Ridge penalty contour lines.')\n",
    "plt.savefig('../05-linreg/img/ridge.png', dpi=300)"
   ]
  },
  {
   "cell_type": "code",
   "execution_count": null,
   "metadata": {},
   "outputs": [],
   "source": [
    "z_lasso = [abs(i) + abs(j) for i,j in zip(X,Y)]\n",
    "cs = plt.contour(X, Y, z_lasso)\n",
    "plt.clabel(cs)\n",
    "plt.xlabel(r'$\\theta_1$')\n",
    "plt.ylabel(r'$\\theta_2$')\n",
    "plt.title('Lasso penalty contour lines.')\n",
    "plt.savefig('../05-linreg/img/lasso.png', dpi=300)"
   ]
  },
  {
   "cell_type": "code",
   "execution_count": null,
   "metadata": {},
   "outputs": [],
   "source": [
    "alpha = 0.5\n",
    "z_elnet = [alpha*(i**2 + j**2) + (1-alpha)*(abs(i) + abs(j)) for i,j in zip(X,Y)]\n",
    "cs = plt.contour(X, Y, z_elnet)\n",
    "plt.clabel(cs)\n",
    "plt.xlabel(r'$\\theta_1$')\n",
    "plt.ylabel(r'$\\theta_2$')\n",
    "plt.title(r'Elastic net penalty contour lines, $\\alpha = 0.5$.')\n",
    "plt.savefig('../05-linreg/img/elnet.png', dpi=300)"
   ]
  },
  {
   "cell_type": "markdown",
   "metadata": {},
   "source": [
    "# Classification"
   ]
  },
  {
   "cell_type": "code",
   "execution_count": null,
   "metadata": {},
   "outputs": [],
   "source": [
    "sigma = np.array([[0.5,0.2], [0.2,0.5]])*1.1\n",
    "means = np.array([[2,1],[-1,1], [0,-2]])"
   ]
  },
  {
   "cell_type": "code",
   "execution_count": null,
   "metadata": {},
   "outputs": [],
   "source": [
    "from scipy.optimize import minimize_scalar"
   ]
  },
  {
   "cell_type": "code",
   "execution_count": null,
   "metadata": {},
   "outputs": [],
   "source": [
    "Sinv = np.linalg.inv(sigma)\n",
    "def ne(X, mu):\n",
    "    delta = X - mu\n",
    "    return np.dot(np.dot(delta.T, Sinv), delta)"
   ]
  },
  {
   "cell_type": "code",
   "execution_count": null,
   "metadata": {},
   "outputs": [],
   "source": [
    "def b(x, i, j):\n",
    "    def f(y):\n",
    "        X = np.array([x, y])\n",
    "        return (ne(X, means[i]) - ne(X, means[j]))**2\n",
    "    return minimize_scalar(f).x"
   ]
  },
  {
   "cell_type": "code",
   "execution_count": null,
   "metadata": {},
   "outputs": [],
   "source": [
    "from itertools import combinations"
   ]
  },
  {
   "cell_type": "code",
   "execution_count": null,
   "metadata": {},
   "outputs": [],
   "source": [
    "N = 50\n",
    "for n, mu in enumerate(means):\n",
    "    x, y = np.random.multivariate_normal(mu, sigma, N).T\n",
    "    plt.scatter(x, y, marker='${}$'.format(n))\n",
    "xs = np.arange(0.01, -3, -0.5)\n",
    "plt.plot(xs, [b(x,1,2) for x in xs], color = 'black')\n",
    "xs = np.arange(0.05, 1.7, 0.2)\n",
    "plt.plot(xs, [b(x, 0, 1) for x in xs], color = 'black')\n",
    "xs = np.arange(0.05, 3, 0.5)\n",
    "plt.plot(xs, [b(x, 0, 2) for x in xs], color = 'black')\n",
    "plt.xlabel('$x_1$')\n",
    "plt.ylabel('$x_2$')\n",
    "plt.title('class labels and decision boundaries')\n",
    "plt.savefig('../08-classification/img/linear_boundaries.png', dpi=300)"
   ]
  },
  {
   "cell_type": "code",
   "execution_count": null,
   "metadata": {},
   "outputs": [],
   "source": [
    "from scipy.stats import multivariate_normal"
   ]
  },
  {
   "cell_type": "code",
   "execution_count": null,
   "metadata": {},
   "outputs": [],
   "source": [
    "delta = 0.05\n",
    "x = np.arange(-3, 4, delta)\n",
    "y = np.arange(-4, 3, delta)\n",
    "X, Y = np.meshgrid(x, y)\n",
    "pos = np.empty(X.shape + (2,))\n",
    "pos[:, :, 0] = X; pos[:, :, 1] = Y\n",
    "for i in range(3):\n",
    "    p = multivariate_normal(means[i], sigma)\n",
    "    z = p.pdf(np.array(pos))\n",
    "    cs = plt.contour(X, Y ,z)\n",
    "    plt.clabel(cs)\n",
    "plt.xlabel('$x_1$')\n",
    "plt.ylabel('$x_2$')\n",
    "plt.title('probability density contour lines')\n",
    "plt.savefig('../08-classification/img/countour_lines.png', dpi=300)"
   ]
  },
  {
   "cell_type": "code",
   "execution_count": null,
   "metadata": {},
   "outputs": [],
   "source": [
    "sigma = np.array([[1, 0], [0, 1]])*0.05\n",
    "means = [[-2, -1], [0, 0], [2, 1]]\n",
    "N = 200\n",
    "X = [np.random.multivariate_normal(mean, sigma, N) for mean in means]"
   ]
  },
  {
   "cell_type": "code",
   "execution_count": null,
   "metadata": {},
   "outputs": [],
   "source": [
    "from sklearn.linear_model import LinearRegression"
   ]
  },
  {
   "cell_type": "code",
   "execution_count": null,
   "metadata": {},
   "outputs": [],
   "source": [
    "models = []\n",
    "for k in range(len(means)):\n",
    "    y = []\n",
    "    for l in range(len(means)):\n",
    "        y += [l == k and 1 or 0]*N\n",
    "    models.append(LinearRegression().fit(np.vstack(X), y))"
   ]
  },
  {
   "cell_type": "code",
   "execution_count": null,
   "metadata": {},
   "outputs": [],
   "source": [
    "def bl(x, i, j):\n",
    "    def f(y):\n",
    "        X = np.array([[x, y]])\n",
    "        return (models[i].predict(X) - models[j].predict(X))**2\n",
    "    return minimize_scalar(f).x"
   ]
  },
  {
   "cell_type": "code",
   "execution_count": null,
   "metadata": {},
   "outputs": [],
   "source": [
    "def classify(x):\n",
    "    return np.argmax([model.predict(x) for model in models])"
   ]
  },
  {
   "cell_type": "code",
   "execution_count": null,
   "metadata": {},
   "outputs": [],
   "source": [
    "from matplotlib.markers import MarkerStyle"
   ]
  },
  {
   "cell_type": "code",
   "execution_count": null,
   "metadata": {},
   "outputs": [],
   "source": [
    "for n, vals in enumerate(X):\n",
    "    x, y = vals.T\n",
    "    plt.scatter(x, y, marker='${}$'.format(n))\n",
    "n = 20\n",
    "xs, ys = np.meshgrid(np.linspace(-2, 2, n), np.linspace(-1.5, 1.5, n))\n",
    "xs, ys = xs.ravel(), ys.ravel()\n",
    "labels = np.array([classify([[x ,y]]) for x,y in zip(xs, ys)])\n",
    "for label in range(len(means)):\n",
    "    plt.scatter(xs[labels == label], ys[labels == label], marker='${}$'.format(label), alpha=0.6)\n",
    "#xs = np.arange(-0.35, 0.35, 0.01)\n",
    "#plt.plot(xs, [bl(x, 0, 1) for x in xs], color='black')\n",
    "#xs = np.arange(-1, 1.0, 0.01)\n",
    "#plt.plot(xs, [bl(x, 1, 2) for x in xs], color='black')\n",
    "#xs = np.arange(-0.65, 0.65, 0.01)\n",
    "#plt.plot(xs, [bl(x, 0, 2) for x in xs], color='black')\n",
    "plt.xlabel('$X_1$')\n",
    "plt.ylabel('$X_2$')\n",
    "plt.savefig('../08-classification/img/linear_model.png', dpi=300)"
   ]
  },
  {
   "cell_type": "code",
   "execution_count": null,
   "metadata": {},
   "outputs": [],
   "source": [
    "import pandas as pd"
   ]
  },
  {
   "cell_type": "code",
   "execution_count": null,
   "metadata": {},
   "outputs": [],
   "source": [
    "wine = pd.read_csv('data/winequality-red.csv', sep=';')"
   ]
  },
  {
   "cell_type": "code",
   "execution_count": null,
   "metadata": {},
   "outputs": [],
   "source": [
    "wine.plot.scatter('alcohol', 'quality')\n",
    "plt.title('red wine quality vs. alcohol content')\n",
    "plt.savefig('../08-classification/img/winequal.png', dpi=300)"
   ]
  },
  {
   "cell_type": "code",
   "execution_count": null,
   "metadata": {},
   "outputs": [],
   "source": [
    "from sklearn.linear_model import LogisticRegression\n",
    "from sklearn.linear_model import LinearRegression"
   ]
  },
  {
   "cell_type": "code",
   "execution_count": null,
   "metadata": {},
   "outputs": [],
   "source": [
    "import numpy as np"
   ]
  },
  {
   "cell_type": "code",
   "execution_count": null,
   "metadata": {},
   "outputs": [],
   "source": [
    "X1, X2 = np.random.standard_normal(10), np.random.standard_normal(10) + 5"
   ]
  },
  {
   "cell_type": "code",
   "execution_count": null,
   "metadata": {},
   "outputs": [],
   "source": [
    "y1, y2 = np.zeros(10), np.zeros(10) + 1"
   ]
  },
  {
   "cell_type": "code",
   "execution_count": null,
   "metadata": {},
   "outputs": [],
   "source": [
    "lin_model = LinearRegression().fit(np.hstack((X1, X2)).reshape(-1,1), np.hstack((y1, y2)))"
   ]
  },
  {
   "cell_type": "code",
   "execution_count": null,
   "metadata": {},
   "outputs": [],
   "source": [
    "plt.plot(X1, y1, 'o')\n",
    "plt.plot(X2, y2, 'o')\n",
    "plt.plot(np.arange(-2, 8, 1), lin_model.predict(np.arange(-2, 8, 1).reshape(-1, 1)),\n",
    "         label=r'$f(x) = \\theta_0 + \\theta_1x$')\n",
    "plt.plot([-2, 8], [0.5, 0.5], label='decision threshold')\n",
    "plt.xlabel('$X$')\n",
    "plt.ylabel('$g$')\n",
    "plt.legend(loc='lower right')\n",
    "plt.savefig('../08-classification/img/lin_reg_class.png', dpi=300)"
   ]
  },
  {
   "cell_type": "code",
   "execution_count": null,
   "metadata": {},
   "outputs": [],
   "source": [
    "X2[-1] = 16"
   ]
  },
  {
   "cell_type": "code",
   "execution_count": null,
   "metadata": {},
   "outputs": [],
   "source": [
    "lin_model = LinearRegression().fit(np.hstack((X1, X2)).reshape(-1,1), np.hstack((y1, y2)))"
   ]
  },
  {
   "cell_type": "code",
   "execution_count": null,
   "metadata": {},
   "outputs": [],
   "source": [
    "plt.plot(X1, y1, 'o')\n",
    "plt.plot(X2, y2, 'o')\n",
    "plt.plot(np.arange(-2, 8, 1), lin_model.predict(np.arange(-2, 8, 1).reshape(-1, 1)),\n",
    "        label=r'$f(x) = \\theta_0 + \\theta_1x$')\n",
    "plt.plot([-2, 8], [0.5, 0.5], label='decision threshold')\n",
    "plt.xlabel('$X$')\n",
    "plt.ylabel('$g$')\n",
    "plt.legend(loc='lower right')\n",
    "plt.savefig('../08-classification/img/lin_reg_class_outlier.png', dpi=300)"
   ]
  },
  {
   "cell_type": "code",
   "execution_count": null,
   "metadata": {},
   "outputs": [],
   "source": [
    "lr_model = LogisticRegression().fit(np.hstack((X1, X2)).reshape(-1,1), np.hstack((y1, y2)))"
   ]
  },
  {
   "cell_type": "code",
   "execution_count": null,
   "metadata": {},
   "outputs": [],
   "source": [
    "lr_model.coef_, lr_model.intercept_"
   ]
  },
  {
   "cell_type": "code",
   "execution_count": null,
   "metadata": {},
   "outputs": [],
   "source": [
    "plt.plot(X1, y1, 'o')\n",
    "plt.plot(X2, y2, 'o')\n",
    "xs = np.arange(-2.5, 15, 0.02)\n",
    "plt.plot(xs, lr_model.predict_proba(xs.reshape(-1, 1)).T[1],\n",
    "        label=r'$f(x) = \\frac{1}{1 + exp(\\theta_0 + \\theta_1 x)}$')\n",
    "plt.plot([-2, 8], [0.5, 0.5], label='decision threshold')\n",
    "plt.xlabel('$X$')\n",
    "plt.ylabel('$g$')\n",
    "plt.legend(loc='lower right')\n",
    "plt.savefig('../08-classification/img/log_reg_class_outlier.png', dpi=300)"
   ]
  },
  {
   "cell_type": "markdown",
   "metadata": {},
   "source": [
    "# Trees"
   ]
  },
  {
   "cell_type": "code",
   "execution_count": null,
   "metadata": {},
   "outputs": [],
   "source": [
    "import pandas as pd"
   ]
  },
  {
   "cell_type": "code",
   "execution_count": null,
   "metadata": {},
   "outputs": [],
   "source": [
    "data = pd.read_excel('data/CCPP/Folds5x2_pp.xlsx')"
   ]
  },
  {
   "cell_type": "code",
   "execution_count": null,
   "metadata": {},
   "outputs": [],
   "source": [
    "smoothed = data.groupby('V', as_index=False).mean()\n",
    "smoothed = smoothed[smoothed.V > 30]"
   ]
  },
  {
   "cell_type": "code",
   "execution_count": null,
   "metadata": {},
   "outputs": [],
   "source": [
    "plt.plot(smoothed.V, smoothed.PE, '.')\n",
    "plt.xlabel('Vacuum Pressure')\n",
    "plt.ylabel('Power Output')"
   ]
  },
  {
   "cell_type": "code",
   "execution_count": null,
   "metadata": {},
   "outputs": [],
   "source": [
    "from sklearn.linear_model import LinearRegression\n",
    "from sklearn.tree import DecisionTreeRegressor"
   ]
  },
  {
   "cell_type": "code",
   "execution_count": null,
   "metadata": {},
   "outputs": [],
   "source": [
    "smoothed['Vsq'] = smoothed.V**2"
   ]
  },
  {
   "cell_type": "code",
   "execution_count": null,
   "metadata": {},
   "outputs": [],
   "source": [
    "lreg = LinearRegression().fit(smoothed[['V', 'Vsq']], smoothed.PE)"
   ]
  },
  {
   "cell_type": "code",
   "execution_count": null,
   "metadata": {},
   "outputs": [],
   "source": [
    "plt.plot(smoothed.V, smoothed.PE, '.', label='data', alpha=0.5)\n",
    "xs = np.arange(35,80,.1)\n",
    "plt.plot(xs, lreg.predict([(x, x**2) for x in xs]), label='linear regression')\n",
    "#plt.plot(xs, tree.predict(xs.reshape(-1,1)), label='decision tree')\n",
    "plt.xlabel('Vacuum Pressure')\n",
    "plt.ylabel('Power Output')\n",
    "plt.legend()\n",
    "plt.savefig('../../Sparebank/talks/img/lr.png', dpi=300)"
   ]
  },
  {
   "cell_type": "code",
   "execution_count": null,
   "metadata": {},
   "outputs": [],
   "source": [
    "tree = DecisionTreeRegressor(max_depth=2).fit(smoothed[['V']], smoothed.PE)"
   ]
  },
  {
   "cell_type": "code",
   "execution_count": null,
   "metadata": {},
   "outputs": [],
   "source": [
    "from sklearn.tree import export_graphviz\n",
    "import pydotplus\n",
    "from IPython.display import Image"
   ]
  },
  {
   "cell_type": "code",
   "execution_count": null,
   "metadata": {},
   "outputs": [],
   "source": [
    "dot = export_graphviz(tree, out_file=None, feature_names=['V'], rounded=True, filled=True, class_names=['PE'])"
   ]
  },
  {
   "cell_type": "code",
   "execution_count": null,
   "metadata": {},
   "outputs": [],
   "source": [
    "graph = pydotplus.graph_from_dot_data(dot)\n",
    "Image(graph.create_png())"
   ]
  },
  {
   "cell_type": "code",
   "execution_count": null,
   "metadata": {},
   "outputs": [],
   "source": [
    "graph.write_png('../../Sparebank/talks/img/reg_tree.png')"
   ]
  },
  {
   "cell_type": "code",
   "execution_count": null,
   "metadata": {},
   "outputs": [],
   "source": [
    "plt.plot(smoothed.V, smoothed.PE, '.', label='data', alpha=0.5)\n",
    "xs = np.arange(35,80,.1)\n",
    "plt.plot(xs, lreg.predict([(x, x**2) for x in xs]), label='linear regression')\n",
    "plt.plot(xs, tree.predict(xs.reshape(-1,1)), label='decision tree')\n",
    "plt.xlabel('Vacuum Pressure')\n",
    "plt.ylabel('Power Output')\n",
    "plt.legend()\n",
    "plt.savefig('../../Sparebank/talks/img/lr_vs_tree.png', dpi=300)"
   ]
  },
  {
   "cell_type": "code",
   "execution_count": null,
   "metadata": {},
   "outputs": [],
   "source": [
    "deep_tree = DecisionTreeRegressor(max_depth=5).fit(smoothed[['V']], smoothed.PE)"
   ]
  },
  {
   "cell_type": "code",
   "execution_count": null,
   "metadata": {},
   "outputs": [],
   "source": [
    "shallow_tree = DecisionTreeRegressor(max_depth=1).fit(smoothed[['V']], smoothed.PE)"
   ]
  },
  {
   "cell_type": "code",
   "execution_count": null,
   "metadata": {},
   "outputs": [],
   "source": [
    "plt.plot(smoothed.V, smoothed.PE, '.', label='data', alpha=0.5)\n",
    "xs = np.arange(35,80,.1)\n",
    "plt.plot(xs, deep_tree.predict(xs.reshape(-1,1)), label='deep tree')\n",
    "plt.plot(xs, shallow_tree.predict(xs.reshape(-1,1)), label='shallow tree')\n",
    "plt.xlabel('Vacuum Pressure')\n",
    "plt.ylabel('Power Output')\n",
    "plt.legend()\n",
    "plt.savefig('../../Sparebank/talks/img/tree_depth.png', dpi=300)"
   ]
  },
  {
   "cell_type": "code",
   "execution_count": null,
   "metadata": {},
   "outputs": [],
   "source": [
    "from sklearn.model_selection import train_test_split\n",
    "train, test = train_test_split(smoothed, test_size=0.2)\n",
    "MSE_train, MSE_test = [], []\n",
    "ds = range(1, 11)\n",
    "for d in ds:\n",
    "    model_d = DecisionTreeRegressor(max_depth=d).fit(train[['V']], train.PE)\n",
    "    MSE_train.append(np.mean((model_d.predict(train[['V']]) - train.PE)**2))\n",
    "    MSE_test.append(np.mean((model_d.predict(test[['V']]) - test.PE)**2))"
   ]
  },
  {
   "cell_type": "code",
   "execution_count": null,
   "metadata": {},
   "outputs": [],
   "source": [
    "plt.plot(ds, MSE_test, label='test error')\n",
    "plt.plot(ds, MSE_train, label='train error')\n",
    "plt.legend()\n",
    "plt.xlabel('tree depth')\n",
    "plt.ylabel('mean squared error')\n",
    "plt.savefig('../../Sparebank/talks/img/tree_depth_train_test.png', dpi=300)"
   ]
  },
  {
   "cell_type": "code",
   "execution_count": null,
   "metadata": {},
   "outputs": [],
   "source": [
    "plt.plot(smoothed.V, smoothed.PE, '.', label='data', alpha=0.5)\n",
    "xs = np.arange(35,80,.1)\n",
    "plt.plot(xs, DecisionTreeRegressor(max_depth=3).fit(smoothed[['V']], smoothed.PE).predict(xs.reshape(-1,1)), label='ideal depth')\n",
    "plt.xlabel('Vacuum Pressure')\n",
    "plt.ylabel('Power Output')\n",
    "plt.legend()\n",
    "plt.savefig('../../Sparebank/talks/img/best_tree.png', dpi=300)"
   ]
  },
  {
   "cell_type": "code",
   "execution_count": null,
   "metadata": {},
   "outputs": [],
   "source": [
    "red_wine = pd.read_csv('data/winequality-red.csv', sep=';')"
   ]
  },
  {
   "cell_type": "code",
   "execution_count": null,
   "metadata": {},
   "outputs": [],
   "source": [
    "red_wine.groupby('quality').quality.count().plot.bar()\n",
    "plt.savefig('../../Sparebank/talks/img/winequals_bar.png')"
   ]
  },
  {
   "cell_type": "code",
   "execution_count": null,
   "metadata": {},
   "outputs": [],
   "source": [
    "red_wine.corr()"
   ]
  },
  {
   "cell_type": "code",
   "execution_count": null,
   "metadata": {},
   "outputs": [],
   "source": [
    "for qual, data in red_wine.groupby('quality'):\n",
    "    if qual in [5,7]:\n",
    "        plt.plot(data.alcohol, data.sulphates, '.')"
   ]
  },
  {
   "cell_type": "code",
   "execution_count": null,
   "metadata": {},
   "outputs": [],
   "source": [
    "wine_tree = DecisionTreeRegressor(max_depth=3).fit(red_wine[['alcohol','sulphates']], red_wine.quality)\n",
    "xx, yy = np.meshgrid(np.arange(8,15,.05), np.arange(0.4,2,0.01))\n",
    "X, Y = xx.ravel(), yy.ravel()\n",
    "Z = wine_tree.predict(np.c_[X,Y]).reshape(xx.shape)"
   ]
  },
  {
   "cell_type": "code",
   "execution_count": null,
   "metadata": {},
   "outputs": [],
   "source": [
    "from pylab import get_cmap"
   ]
  },
  {
   "cell_type": "code",
   "execution_count": null,
   "metadata": {},
   "outputs": [],
   "source": [
    "for qual, data in red_wine.groupby('quality'):\n",
    "    if qual in [5,7]:\n",
    "        plt.plot(data.alcohol, data.sulphates, '.', alpha=0.5, label={5: 'low quality',\n",
    "                                                                      6: 'medium quality',\n",
    "                                                                      7: 'high quality'}[qual])\n",
    "#plt.contourf(xx, yy, Z, cmap=get_cmap('BuGn'), alpha=0.6)\n",
    "plt.xlabel('alcohol content')\n",
    "plt.ylabel('sulphates')\n",
    "plt.legend()\n",
    "plt.savefig('../../Sparebank/talks/img/winequal.png', dpi=300)"
   ]
  },
  {
   "cell_type": "code",
   "execution_count": null,
   "metadata": {},
   "outputs": [],
   "source": [
    "wine_dot = export_graphviz(wine_tree, out_file=None, rounded=True, filled=True, feature_names=['alcohol', 'sulphates'])"
   ]
  },
  {
   "cell_type": "code",
   "execution_count": null,
   "metadata": {},
   "outputs": [],
   "source": [
    "wine_graph = pydotplus.graph_from_dot_data(wine_dot)\n",
    "Image(wine_graph.create_png())"
   ]
  },
  {
   "cell_type": "code",
   "execution_count": null,
   "metadata": {},
   "outputs": [],
   "source": [
    "wine_graph.write_png('../../Sparebank/talks/img/wine_tree.png')"
   ]
  },
  {
   "cell_type": "code",
   "execution_count": null,
   "metadata": {},
   "outputs": [],
   "source": [
    "for qual, data in red_wine.groupby('quality'):\n",
    "    if qual in [5,7]:\n",
    "        plt.plot(data.alcohol, data.sulphates, '.', alpha=0.5, label={5: 'low quality', 7: 'high quality'}[qual])\n",
    "plt.contourf(xx, yy, Z, cmap=get_cmap('BuGn'), alpha=0.6)\n",
    "plt.xlabel('alcohol content')\n",
    "plt.ylabel('sulphates')\n",
    "plt.legend()\n",
    "plt.savefig('../../Sparebank/talks/img/winequal_tree.png', dpi=300)"
   ]
  },
  {
   "cell_type": "code",
   "execution_count": null,
   "metadata": {},
   "outputs": [],
   "source": [
    "wine_vars = list(red_wine.columns)"
   ]
  },
  {
   "cell_type": "code",
   "execution_count": null,
   "metadata": {},
   "outputs": [],
   "source": [
    "wine_vars.remove('quality')"
   ]
  },
  {
   "cell_type": "code",
   "execution_count": null,
   "metadata": {},
   "outputs": [],
   "source": [
    "from sklearn.tree import DecisionTreeClassifier"
   ]
  },
  {
   "cell_type": "code",
   "execution_count": null,
   "metadata": {},
   "outputs": [],
   "source": [
    "Xtr, Xte, ytr, yte = train_test_split(red_wine[wine_vars], red_wine.quality > 4, test_size=0.3)\n",
    "hr_train, hr_test = [], []\n",
    "ds = range(1, 15)\n",
    "for d in ds:\n",
    "    model_d = DecisionTreeClassifier(max_depth=d).fit(Xtr, ytr)\n",
    "    hr_train.append(np.mean(model_d.predict(Xtr) == ytr))\n",
    "    hr_test.append(np.mean(model_d.predict(Xte) == yte))\n",
    "plt.plot(ds, hr_test, label='test accuracy')\n",
    "plt.plot(ds, hr_train, label='train accuracy')\n",
    "plt.legend()\n",
    "plt.xlabel('tree depth')\n",
    "plt.ylabel('accuracy')\n",
    "plt.title('Quality 4 or higher?')\n",
    "plt.savefig('../../Sparebank/talks/img/tree_depth_train_test_wine_bad.png', dpi=300)"
   ]
  },
  {
   "cell_type": "code",
   "execution_count": null,
   "metadata": {},
   "outputs": [],
   "source": [
    "Xtr, Xte, ytr, yte = train_test_split(red_wine[wine_vars], red_wine.quality > 6, test_size=0.33)\n",
    "hr_train, hr_test = [], []\n",
    "ds = range(1, 15)\n",
    "for d in ds:\n",
    "    model_d = DecisionTreeClassifier(max_depth=d).fit(Xtr, ytr)\n",
    "    hr_train.append(np.mean(model_d.predict(Xtr) == ytr))\n",
    "    hr_test.append(np.mean(model_d.predict(Xte) == yte))\n",
    "plt.plot(ds, hr_test, label='test accuracy')\n",
    "plt.plot(ds, hr_train, label='train accuracy')\n",
    "plt.legend()\n",
    "plt.xlabel('tree depth')\n",
    "plt.ylabel('accuracy')\n",
    "plt.title('Quality 6 or higher?')\n",
    "plt.savefig('../../Sparebank/talks/img/tree_depth_train_test_wine_great.png', dpi=300)"
   ]
  },
  {
   "cell_type": "code",
   "execution_count": null,
   "metadata": {},
   "outputs": [],
   "source": [
    "dt = DecisionTreeClassifier(max_depth=3).fit(Xtr, ytr)\n",
    "relevant = dt.feature_importances_ > 0\n",
    "labels = np.array(wine_vars)[relevant]\n",
    "plt.bar(range(len(labels)), dt.feature_importances_[relevant])\n",
    "plt.xticks(range(len(labels)), labels, rotation='vertical')\n",
    "plt.ylabel('importance')\n",
    "plt.title('What makes a great wine?')\n",
    "plt.savefig('../../Sparebank/talks/img/wine_importance.png', dpi=300, bbox_inches='tight')"
   ]
  },
  {
   "cell_type": "code",
   "execution_count": null,
   "metadata": {},
   "outputs": [],
   "source": [
    "wine_vars, dt.feature_importances_"
   ]
  },
  {
   "cell_type": "code",
   "execution_count": null,
   "metadata": {},
   "outputs": [],
   "source": [
    "dtm = DecisionTreeClassifier(max_depth=2).fit(Xtr, ytr)"
   ]
  },
  {
   "cell_type": "code",
   "execution_count": null,
   "metadata": {},
   "outputs": [],
   "source": [
    "for qual in sorted(yte.unique()):\n",
    "    hr = np.mean(dtm.predict(Xte[yte == qual]) == yte[yte==qual])\n",
    "    perc = sum(yte==qual) / float(len(yte))\n",
    "    print qual, \" \".join(\"{:4.2f}\".format(i) for i in (hr, perc))"
   ]
  },
  {
   "cell_type": "code",
   "execution_count": null,
   "metadata": {},
   "outputs": [],
   "source": [
    "dtm = DecisionTreeClassifier(max_depth=6).fit(Xtr, ytr)\n",
    "for qual in sorted(yte.unique()):\n",
    "    hr = np.mean(dtm.predict(Xte[yte == qual]) == yte[yte==qual])\n",
    "    perc = sum(yte==qual) / float(len(yte))\n",
    "    print qual, \" \".join(\"{:4.2f}\".format(i) for i in (hr, perc))"
   ]
  },
  {
   "cell_type": "code",
   "execution_count": null,
   "metadata": {},
   "outputs": [],
   "source": [
    "from sklearn.ensemble import RandomForestClassifier"
   ]
  },
  {
   "cell_type": "code",
   "execution_count": null,
   "metadata": {},
   "outputs": [],
   "source": [
    "rf = RandomForestClassifier().fit(Xtr, ytr > 5)"
   ]
  },
  {
   "cell_type": "code",
   "execution_count": null,
   "metadata": {},
   "outputs": [],
   "source": [
    "from sklearn.metrics import roc_curve"
   ]
  },
  {
   "cell_type": "code",
   "execution_count": null,
   "metadata": {},
   "outputs": [],
   "source": [
    "fpr, tpr, thresholds = roc_curve(yte > 5, rf.predict_proba(Xte)[:,1], drop_intermediate=False)"
   ]
  },
  {
   "cell_type": "code",
   "execution_count": null,
   "metadata": {},
   "outputs": [],
   "source": [
    "plt.plot(fpr, tpr)\n",
    "plt.plot([0, 1], [0, 1])\n",
    "plt.xlabel('false positive rate')\n",
    "plt.ylabel('true positive rate')\n",
    "plt.title('ROC curve')\n",
    "plt.savefig('../../Sparebank/talks/img/ROC.png', dpi=300)"
   ]
  },
  {
   "cell_type": "code",
   "execution_count": null,
   "metadata": {},
   "outputs": [],
   "source": [
    "Xtr, Xte, ytr, yte = train_test_split(red_wine[wine_vars], red_wine.quality > 5, test_size=0.3)\n",
    "hr_train, hr_test = [], []\n",
    "ds = range(1, 11)\n",
    "for d in ds:\n",
    "    model_d = RandomForestClassifier(max_depth=d,n_estimators=50).fit(Xtr, ytr)\n",
    "    hr_train.append(np.mean(model_d.predict(Xtr) == ytr))\n",
    "    hr_test.append(np.mean(model_d.predict(Xte) == yte))\n",
    "plt.plot(ds, hr_test, label='test hit rate')\n",
    "plt.plot(ds, hr_train, label='train hit rate')\n",
    "plt.legend()\n",
    "plt.xlabel('tree depth')\n",
    "plt.ylabel('hit rate')\n",
    "#plt.savefig('../../Sparebank/talks/img/forest_depth_train_test_wine.png', dpi=300)"
   ]
  },
  {
   "cell_type": "markdown",
   "metadata": {},
   "source": [
    "# Anomalies"
   ]
  },
  {
   "cell_type": "code",
   "execution_count": null,
   "metadata": {},
   "outputs": [],
   "source": [
    "xs = np.random.standard_normal(10)"
   ]
  },
  {
   "cell_type": "code",
   "execution_count": null,
   "metadata": {},
   "outputs": [],
   "source": [
    "xs[5] = 4.2"
   ]
  },
  {
   "cell_type": "code",
   "execution_count": null,
   "metadata": {},
   "outputs": [],
   "source": [
    "plt.plot((xs+2)*10, 'o')\n",
    "plt.ylabel('noise level')\n",
    "plt.xlabel('time')\n",
    "plt.savefig('../../Sparebank/talks/img/noise_anomaly.png', dpi=300)"
   ]
  },
  {
   "cell_type": "code",
   "execution_count": null,
   "metadata": {},
   "outputs": [],
   "source": [
    "plt.plot(xs, 'o')\n",
    "plt.ylabel('z')\n",
    "plt.xlabel('time')\n",
    "plt.savefig('../../Sparebank/talks/img/noise_anomaly_z.png', dpi=300)"
   ]
  },
  {
   "cell_type": "code",
   "execution_count": null,
   "metadata": {},
   "outputs": [],
   "source": [
    "from scipy.stats import norm"
   ]
  },
  {
   "cell_type": "code",
   "execution_count": null,
   "metadata": {},
   "outputs": [],
   "source": [
    "norm().pdf(0.5)"
   ]
  },
  {
   "cell_type": "code",
   "execution_count": null,
   "metadata": {},
   "outputs": [],
   "source": [
    "?plt.xlabel"
   ]
  },
  {
   "cell_type": "code",
   "execution_count": null,
   "metadata": {},
   "outputs": [],
   "source": [
    "xs = np.arange(0,1,0.05)\n",
    "plt.fill_between(xs, np.zeros_like(xs), norm().pdf(xs))\n",
    "xs = np.arange(1,2,0.05)\n",
    "plt.fill_between(xs, np.zeros_like(xs), norm().pdf(xs))\n",
    "xs = np.arange(2,3,0.05)\n",
    "plt.fill_between(xs, np.zeros_like(xs), norm().pdf(xs))\n",
    "xs = np.arange(3,4,0.05)\n",
    "plt.fill_between(xs, np.zeros_like(xs), norm().pdf(xs))\n",
    "plt.xticks(range(5), [r'${}\\sigma$'.format(i) for i in range(5)])\n",
    "plt.text(0.5, 0.05, '34.1%',  horizontalalignment='center', verticalalignment='center', color='white')\n",
    "plt.text(1.5, 0.05, '13.6%',  horizontalalignment='center', verticalalignment='center', color='white')\n",
    "plt.text(2.5, 0.05, '2.1%',  horizontalalignment='center', verticalalignment='center')\n",
    "plt.text(3.5, 0.05, '0.1%',  horizontalalignment='center', verticalalignment='center')\n",
    "#plt.text(1,1, u'\\u00A9 Dirk Hesse, iKnow Solutions',\n",
    "#         size=8,\n",
    "#         horizontalalignment='right',\n",
    "#         verticalalignment='bottom',\n",
    "#         transform=plt.gca().transAxes)\n",
    "plt.ylabel('probability density')\n",
    "plt.xlabel('random variable')\n",
    "plt.savefig('../../Sparebank/talks/img/normal_dist.png', dpi=300)"
   ]
  },
  {
   "cell_type": "markdown",
   "metadata": {},
   "source": [
    "# Clustering"
   ]
  },
  {
   "cell_type": "code",
   "execution_count": null,
   "metadata": {},
   "outputs": [],
   "source": [
    "from sklearn.cluster import AgglomerativeClustering\n",
    "from scipy.cluster.hierarchy import dendrogram, linkage, fcluster"
   ]
  },
  {
   "cell_type": "code",
   "execution_count": null,
   "metadata": {},
   "outputs": [],
   "source": [
    "data_sample = red_wine.sample(20)\n",
    "Z = linkage(data_sample[wine_vars])\n",
    "data_sample.quality.hist()"
   ]
  },
  {
   "cell_type": "code",
   "execution_count": null,
   "metadata": {},
   "outputs": [],
   "source": [
    "dendrogram(Z)\n",
    "plt.xlabel('cluster number')\n",
    "plt.ylabel('distance')\n",
    "plt.title('dendrogram')\n",
    "plt.savefig('../../Sparebank/talks/img/dendrogram.png', dpi=300)"
   ]
  },
  {
   "cell_type": "code",
   "execution_count": null,
   "metadata": {},
   "outputs": [],
   "source": [
    "data_sample['labels'] = fcluster(Z, 4, criterion='maxclust')"
   ]
  },
  {
   "cell_type": "code",
   "execution_count": null,
   "metadata": {},
   "outputs": [],
   "source": [
    "data_sample.groupby('labels').quality.mean()"
   ]
  },
  {
   "cell_type": "code",
   "execution_count": null,
   "metadata": {},
   "outputs": [],
   "source": [
    "from sklearn.cluster import KMeans"
   ]
  },
  {
   "cell_type": "code",
   "execution_count": null,
   "metadata": {},
   "outputs": [],
   "source": [
    "model = KMeans(3).fit(red_wine[wine_vars])"
   ]
  },
  {
   "cell_type": "code",
   "execution_count": null,
   "metadata": {},
   "outputs": [],
   "source": [
    "?model.score"
   ]
  },
  {
   "cell_type": "code",
   "execution_count": null,
   "metadata": {},
   "outputs": [],
   "source": [
    "ks = range(2, 11)\n",
    "ds = [-KMeans(k).fit(red_wine[wine_vars]).score(red_wine[wine_vars]) for k in ks]"
   ]
  },
  {
   "cell_type": "code",
   "execution_count": null,
   "metadata": {},
   "outputs": [],
   "source": [
    "ks.insert(0, 1)"
   ]
  },
  {
   "cell_type": "code",
   "execution_count": null,
   "metadata": {},
   "outputs": [],
   "source": [
    "X = red_wine[wine_vars].values"
   ]
  },
  {
   "cell_type": "code",
   "execution_count": null,
   "metadata": {},
   "outputs": [],
   "source": [
    "mu = np.mean(X, axis=0).shape"
   ]
  },
  {
   "cell_type": "code",
   "execution_count": null,
   "metadata": {},
   "outputs": [],
   "source": [
    "ds.insert(0, np.sum((X - mu)**2))"
   ]
  },
  {
   "cell_type": "code",
   "execution_count": null,
   "metadata": {},
   "outputs": [],
   "source": [
    "plt.plot(ks, ds)"
   ]
  },
  {
   "cell_type": "code",
   "execution_count": null,
   "metadata": {},
   "outputs": [],
   "source": [
    "from sklearn.datasets import load_iris"
   ]
  },
  {
   "cell_type": "code",
   "execution_count": null,
   "metadata": {},
   "outputs": [],
   "source": [
    "iris = load_iris()"
   ]
  },
  {
   "cell_type": "code",
   "execution_count": null,
   "metadata": {},
   "outputs": [],
   "source": [
    "X = iris['data']"
   ]
  },
  {
   "cell_type": "code",
   "execution_count": null,
   "metadata": {},
   "outputs": [],
   "source": [
    "ks = range(2,10)\n",
    "costs = [-KMeans(k).fit(X).score(X) for k in ks]"
   ]
  },
  {
   "cell_type": "code",
   "execution_count": null,
   "metadata": {},
   "outputs": [],
   "source": [
    "iris.keys()"
   ]
  },
  {
   "cell_type": "code",
   "execution_count": null,
   "metadata": {},
   "outputs": [],
   "source": [
    "plt.plot(ks, costs)\n",
    "plt.xlabel('$k$')\n",
    "plt.ylabel('within-cluster RSS')\n",
    "plt.title('Iris data clustering')\n",
    "plt.savefig('../../Sparebank/talks/img/choosing_k.png', dpi=300)"
   ]
  },
  {
   "cell_type": "code",
   "execution_count": null,
   "metadata": {},
   "outputs": [],
   "source": [
    "labels = KMeans(3).fit(X).predict(X)"
   ]
  },
  {
   "cell_type": "code",
   "execution_count": null,
   "metadata": {},
   "outputs": [],
   "source": [
    "actuals = iris['target']"
   ]
  },
  {
   "cell_type": "code",
   "execution_count": null,
   "metadata": {},
   "outputs": [],
   "source": [
    "pred = pd.DataFrame({'prediction': labels, 'actual': actuals})"
   ]
  },
  {
   "cell_type": "code",
   "execution_count": null,
   "metadata": {},
   "outputs": [],
   "source": [
    "d = pred.groupby(['prediction', 'actual']).count().reset_index()"
   ]
  },
  {
   "cell_type": "code",
   "execution_count": null,
   "metadata": {},
   "outputs": [],
   "source": [
    "d.pivot_table(columns='actual', values='count', index='prediction').plot.bar()\n",
    "plt.ylabel('count')\n",
    "plt.title('Iris data clustering')\n",
    "plt.savefig('../../Sparebank/talks/img/iris_bars.png', dpi=300)"
   ]
  },
  {
   "cell_type": "code",
   "execution_count": null,
   "metadata": {},
   "outputs": [],
   "source": []
  }
 ],
 "metadata": {
  "language_info": {
   "name": "python",
   "pygments_lexer": "ipython3"
  }
 },
 "nbformat": 4,
 "nbformat_minor": 2
}
