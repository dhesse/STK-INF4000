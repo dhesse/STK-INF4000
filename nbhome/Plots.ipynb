{
 "cells": [
  {
   "cell_type": "code",
   "execution_count": null,
   "metadata": {
    "collapsed": false
   },
   "outputs": [],
   "source": [
    "import matplotlib.pyplot as plt\n",
    "import numpy as np\n",
    "%matplotlib inline"
   ]
  },
  {
   "cell_type": "markdown",
   "metadata": {},
   "source": [
    "# Lecture 6"
   ]
  },
  {
   "cell_type": "code",
   "execution_count": null,
   "metadata": {
    "collapsed": false
   },
   "outputs": [],
   "source": [
    "rs = np.arange(0,1,0.001)\n",
    "def e(p, r):\n",
    "    return r**(1./p)\n",
    "for p in (1, 2, 4, 10):\n",
    "    plt.plot(rs, e(p, rs), label=r'$p = {}$'.format(p))\n",
    "plt.xlabel('sampled fraction of observations $r$')\n",
    "plt.ylabel('edge length $e_p(r)$')\n",
    "plt.legend()\n",
    "plt.savefig('../05-linreg/img/ep.png', dpi=300)"
   ]
  },
  {
   "cell_type": "code",
   "execution_count": null,
   "metadata": {
    "collapsed": false
   },
   "outputs": [],
   "source": [
    "from scipy.stats import t, norm"
   ]
  },
  {
   "cell_type": "code",
   "execution_count": null,
   "metadata": {
    "collapsed": false
   },
   "outputs": [],
   "source": [
    "norm.pdf(2, 0, 1)"
   ]
  },
  {
   "cell_type": "code",
   "execution_count": null,
   "metadata": {
    "collapsed": false
   },
   "outputs": [],
   "source": [
    "t.pdf(1, 100)"
   ]
  },
  {
   "cell_type": "code",
   "execution_count": null,
   "metadata": {
    "collapsed": false
   },
   "outputs": [],
   "source": [
    "zs = np.arange(3,6,.01)\n",
    "dofs = (30, 50, 100)\n",
    "for d in dofs:\n",
    "    plt.plot(zs, t.pdf(zs, d), label=\"$t_{{{}}}$\".format(d))\n",
    "plt.plot(zs, norm.pdf(zs, 0, 1), label=\"normal\")\n",
    "plt.legend()\n",
    "plt.xlabel(\"Z\")\n",
    "plt.ylabel(\"P(Z)\")\n",
    "plt.savefig(\"../05-linreg/img/tails.png\", dpi=300)"
   ]
  },
  {
   "cell_type": "code",
   "execution_count": null,
   "metadata": {
    "collapsed": false
   },
   "outputs": [],
   "source": []
  }
 ],
 "metadata": {
  "kernelspec": {
   "display_name": "Python 2",
   "language": "python",
   "name": "python2"
  },
  "language_info": {
   "codemirror_mode": {
    "name": "ipython",
    "version": 2
   },
   "file_extension": ".py",
   "mimetype": "text/x-python",
   "name": "python",
   "nbconvert_exporter": "python",
   "pygments_lexer": "ipython2",
   "version": "2.7.10"
  }
 },
 "nbformat": 4,
 "nbformat_minor": 2
}
