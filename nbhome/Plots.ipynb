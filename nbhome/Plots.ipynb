{
 "cells": [
  {
   "cell_type": "code",
   "execution_count": null,
   "metadata": {
    "collapsed": false
   },
   "outputs": [],
   "source": [
    "import matplotlib.pyplot as plt\n",
    "import numpy as np\n",
    "%matplotlib inline"
   ]
  },
  {
   "cell_type": "markdown",
   "metadata": {},
   "source": [
    "# Lecture 6"
   ]
  },
  {
   "cell_type": "code",
   "execution_count": null,
   "metadata": {
    "collapsed": false
   },
   "outputs": [],
   "source": [
    "rs = np.arange(0,1,0.001)\n",
    "def e(p, r):\n",
    "    return r**(1./p)\n",
    "for p in (1, 2, 4, 10):\n",
    "    plt.plot(rs, e(p, rs), label=r'$p = {}$'.format(p))\n",
    "plt.xlabel('sampled fraction of observations $r$')\n",
    "plt.ylabel('edge length $e_p(r)$')\n",
    "plt.legend()\n",
    "plt.savefig('../05-linreg/img/ep.png', dpi=300)"
   ]
  },
  {
   "cell_type": "code",
   "execution_count": null,
   "metadata": {
    "collapsed": false
   },
   "outputs": [],
   "source": [
    "from scipy.stats import t, norm"
   ]
  },
  {
   "cell_type": "code",
   "execution_count": null,
   "metadata": {
    "collapsed": false
   },
   "outputs": [],
   "source": [
    "norm.pdf(2, 0, 1)"
   ]
  },
  {
   "cell_type": "code",
   "execution_count": null,
   "metadata": {
    "collapsed": false
   },
   "outputs": [],
   "source": [
    "t.pdf(1, 100)"
   ]
  },
  {
   "cell_type": "code",
   "execution_count": null,
   "metadata": {
    "collapsed": false
   },
   "outputs": [],
   "source": [
    "zs = np.arange(3,6,.01)\n",
    "dofs = (30, 50, 100)\n",
    "for d in dofs:\n",
    "    plt.plot(zs, t.pdf(zs, d), label=\"$t_{{{}}}$\".format(d))\n",
    "plt.plot(zs, norm.pdf(zs, 0, 1), label=\"normal\")\n",
    "plt.legend()\n",
    "plt.xlabel(\"Z\")\n",
    "plt.ylabel(\"P(Z)\")\n",
    "plt.savefig(\"../05-linreg/img/tails.png\", dpi=300)"
   ]
  },
  {
   "cell_type": "code",
   "execution_count": null,
   "metadata": {
    "collapsed": false
   },
   "outputs": [],
   "source": [
    "fig_size = plt.rcParams['figure.figsize']"
   ]
  },
  {
   "cell_type": "code",
   "execution_count": null,
   "metadata": {
    "collapsed": false
   },
   "outputs": [],
   "source": [
    "plt.rcParams['figure.figsize'] = [5,5]"
   ]
  },
  {
   "cell_type": "code",
   "execution_count": null,
   "metadata": {
    "collapsed": false
   },
   "outputs": [],
   "source": [
    "delta = 0.025\n",
    "x = np.arange(-1.5, 1.5, delta)\n",
    "y = np.arange(-1.5, 1.5, delta)\n",
    "X, Y = np.meshgrid(x, y)\n",
    "z_ridge = [i**2 + j**2 for i,j in zip(X,Y)]\n",
    "cs = plt.contour(X, Y, z_ridge)\n",
    "plt.clabel(cs)\n",
    "plt.xlabel(r'$\\theta_1$')\n",
    "plt.ylabel(r'$\\theta_2$')\n",
    "plt.title('Ridge penalty contour lines.')\n",
    "plt.savefig('../05-linreg/img/ridge.png', dpi=300)"
   ]
  },
  {
   "cell_type": "code",
   "execution_count": null,
   "metadata": {
    "collapsed": false
   },
   "outputs": [],
   "source": [
    "z_lasso = [abs(i) + abs(j) for i,j in zip(X,Y)]\n",
    "cs = plt.contour(X, Y, z_lasso)\n",
    "plt.clabel(cs)\n",
    "plt.xlabel(r'$\\theta_1$')\n",
    "plt.ylabel(r'$\\theta_2$')\n",
    "plt.title('Lasso penalty contour lines.')\n",
    "plt.savefig('../05-linreg/img/lasso.png', dpi=300)"
   ]
  },
  {
   "cell_type": "code",
   "execution_count": null,
   "metadata": {
    "collapsed": false
   },
   "outputs": [],
   "source": [
    "alpha = 0.5\n",
    "z_elnet = [alpha*(i**2 + j**2) + (1-alpha)*(abs(i) + abs(j)) for i,j in zip(X,Y)]\n",
    "cs = plt.contour(X, Y, z_elnet)\n",
    "plt.clabel(cs)\n",
    "plt.xlabel(r'$\\theta_1$')\n",
    "plt.ylabel(r'$\\theta_2$')\n",
    "plt.title(r'Elastic net penalty contour lines, $\\alpha = 0.5$.')\n",
    "plt.savefig('../05-linreg/img/elnet.png', dpi=300)"
   ]
  },
  {
   "cell_type": "code",
   "execution_count": null,
   "metadata": {
    "collapsed": false
   },
   "outputs": [],
   "source": []
  }
 ],
 "metadata": {
  "kernelspec": {
   "display_name": "Python 2",
   "language": "python",
   "name": "python2"
  },
  "language_info": {
   "codemirror_mode": {
    "name": "ipython",
    "version": 2
   },
   "file_extension": ".py",
   "mimetype": "text/x-python",
   "name": "python",
   "nbconvert_exporter": "python",
   "pygments_lexer": "ipython2",
   "version": "2.7.10"
  }
 },
 "nbformat": 4,
 "nbformat_minor": 2
}
