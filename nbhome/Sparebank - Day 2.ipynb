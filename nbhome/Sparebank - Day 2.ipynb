{
 "cells": [
  {
   "cell_type": "code",
   "execution_count": null,
   "metadata": {},
   "outputs": [],
   "source": [
    "import matplotlib.pyplot as plt\n",
    "import numpy as np\n",
    "%matplotlib inline"
   ]
  },
  {
   "cell_type": "code",
   "execution_count": null,
   "metadata": {},
   "outputs": [],
   "source": [
    "from sklearn.linear_model import LogisticRegression\n",
    "from sklearn.linear_model import LinearRegression"
   ]
  },
  {
   "cell_type": "code",
   "execution_count": null,
   "metadata": {},
   "outputs": [],
   "source": [
    "import numpy as np"
   ]
  },
  {
   "cell_type": "markdown",
   "metadata": {},
   "source": [
    "# Trees"
   ]
  },
  {
   "cell_type": "code",
   "execution_count": null,
   "metadata": {},
   "outputs": [],
   "source": [
    "import pandas as pd"
   ]
  },
  {
   "cell_type": "code",
   "execution_count": null,
   "metadata": {},
   "outputs": [],
   "source": [
    "data = pd.read_excel('data/CCPP/Folds5x2_pp.xlsx')"
   ]
  },
  {
   "cell_type": "code",
   "execution_count": null,
   "metadata": {},
   "outputs": [],
   "source": [
    "smoothed = data.groupby('V', as_index=False).mean()\n",
    "smoothed = smoothed[smoothed.V > 30]"
   ]
  },
  {
   "cell_type": "code",
   "execution_count": null,
   "metadata": {},
   "outputs": [],
   "source": [
    "plt.plot(smoothed.V, smoothed.PE, '.')\n",
    "plt.xlabel('Vacuum Pressure')\n",
    "plt.ylabel('Power Output')"
   ]
  },
  {
   "cell_type": "code",
   "execution_count": null,
   "metadata": {},
   "outputs": [],
   "source": [
    "from sklearn.linear_model import LinearRegression\n",
    "from sklearn.tree import DecisionTreeRegressor"
   ]
  },
  {
   "cell_type": "code",
   "execution_count": null,
   "metadata": {},
   "outputs": [],
   "source": [
    "smoothed['Vsq'] = smoothed.V**2"
   ]
  },
  {
   "cell_type": "code",
   "execution_count": null,
   "metadata": {},
   "outputs": [],
   "source": [
    "lreg = LinearRegression().fit(smoothed[['V', 'Vsq']], smoothed.PE)"
   ]
  },
  {
   "cell_type": "code",
   "execution_count": null,
   "metadata": {},
   "outputs": [],
   "source": [
    "plt.plot(smoothed.V, smoothed.PE, '.', label='data', alpha=0.5)\n",
    "xs = np.arange(35,80,.1)\n",
    "plt.plot(xs, lreg.predict([(x, x**2) for x in xs]), label='linear regression')\n",
    "#plt.plot(xs, tree.predict(xs.reshape(-1,1)), label='decision tree')\n",
    "plt.xlabel('Vacuum Pressure')\n",
    "plt.ylabel('Power Output')\n",
    "plt.legend()\n",
    "plt.savefig('../../Sparebank/talks/img/lr.png', dpi=300)"
   ]
  },
  {
   "cell_type": "code",
   "execution_count": null,
   "metadata": {},
   "outputs": [],
   "source": [
    "tree = DecisionTreeRegressor(max_depth=2).fit(smoothed[['V']], smoothed.PE)"
   ]
  },
  {
   "cell_type": "code",
   "execution_count": null,
   "metadata": {},
   "outputs": [],
   "source": [
    "from sklearn.tree import export_graphviz\n",
    "import pydotplus\n",
    "from IPython.display import Image"
   ]
  },
  {
   "cell_type": "code",
   "execution_count": null,
   "metadata": {},
   "outputs": [],
   "source": [
    "dot = export_graphviz(tree, out_file=None, feature_names=['V'], rounded=True, filled=True, class_names=['PE'])"
   ]
  },
  {
   "cell_type": "code",
   "execution_count": null,
   "metadata": {},
   "outputs": [],
   "source": [
    "graph = pydotplus.graph_from_dot_data(dot)\n",
    "Image(graph.create_png())"
   ]
  },
  {
   "cell_type": "code",
   "execution_count": null,
   "metadata": {},
   "outputs": [],
   "source": [
    "graph.write_png('../../Sparebank/talks/img/reg_tree.png')"
   ]
  },
  {
   "cell_type": "code",
   "execution_count": null,
   "metadata": {},
   "outputs": [],
   "source": [
    "plt.plot(smoothed.V, smoothed.PE, '.', label='data', alpha=0.5)\n",
    "xs = np.arange(35,80,.1)\n",
    "plt.plot(xs, lreg.predict([(x, x**2) for x in xs]), label='linear regression')\n",
    "plt.plot(xs, tree.predict(xs.reshape(-1,1)), label='decision tree')\n",
    "plt.xlabel('Vacuum Pressure')\n",
    "plt.ylabel('Power Output')\n",
    "plt.legend()\n",
    "plt.savefig('../../Sparebank/talks/img/lr_vs_tree.png', dpi=300)"
   ]
  },
  {
   "cell_type": "code",
   "execution_count": null,
   "metadata": {},
   "outputs": [],
   "source": [
    "deep_tree = DecisionTreeRegressor(max_depth=5).fit(smoothed[['V']], smoothed.PE)"
   ]
  },
  {
   "cell_type": "code",
   "execution_count": null,
   "metadata": {},
   "outputs": [],
   "source": [
    "shallow_tree = DecisionTreeRegressor(max_depth=1).fit(smoothed[['V']], smoothed.PE)"
   ]
  },
  {
   "cell_type": "code",
   "execution_count": null,
   "metadata": {},
   "outputs": [],
   "source": [
    "plt.plot(smoothed.V, smoothed.PE, '.', label='data', alpha=0.5)\n",
    "xs = np.arange(35,80,.1)\n",
    "plt.plot(xs, deep_tree.predict(xs.reshape(-1,1)), label='deep tree')\n",
    "plt.plot(xs, shallow_tree.predict(xs.reshape(-1,1)), label='shallow tree')\n",
    "plt.xlabel('Vacuum Pressure')\n",
    "plt.ylabel('Power Output')\n",
    "plt.legend()\n",
    "plt.savefig('../../Sparebank/talks/img/tree_depth.png', dpi=300)"
   ]
  },
  {
   "cell_type": "code",
   "execution_count": null,
   "metadata": {},
   "outputs": [],
   "source": [
    "from sklearn.model_selection import train_test_split\n",
    "train, test = train_test_split(smoothed, test_size=0.2)\n",
    "MSE_train, MSE_test = [], []\n",
    "ds = range(1, 11)\n",
    "for d in ds:\n",
    "    model_d = DecisionTreeRegressor(max_depth=d).fit(train[['V']], train.PE)\n",
    "    MSE_train.append(np.mean((model_d.predict(train[['V']]) - train.PE)**2))\n",
    "    MSE_test.append(np.mean((model_d.predict(test[['V']]) - test.PE)**2))"
   ]
  },
  {
   "cell_type": "code",
   "execution_count": null,
   "metadata": {},
   "outputs": [],
   "source": [
    "plt.plot(ds, MSE_test, label='test error')\n",
    "plt.plot(ds, MSE_train, label='train error')\n",
    "plt.legend()\n",
    "plt.xlabel('tree depth')\n",
    "plt.ylabel('mean squared error')\n",
    "plt.savefig('../../Sparebank/talks/img/tree_depth_train_test.png', dpi=300)"
   ]
  },
  {
   "cell_type": "code",
   "execution_count": null,
   "metadata": {},
   "outputs": [],
   "source": [
    "plt.plot(smoothed.V, smoothed.PE, '.', label='data', alpha=0.5)\n",
    "xs = np.arange(35,80,.1)\n",
    "plt.plot(xs, DecisionTreeRegressor(max_depth=3).fit(smoothed[['V']], smoothed.PE).predict(xs.reshape(-1,1)), label='ideal depth')\n",
    "plt.xlabel('Vacuum Pressure')\n",
    "plt.ylabel('Power Output')\n",
    "plt.legend()"
   ]
  },
  {
   "cell_type": "code",
   "execution_count": null,
   "metadata": {},
   "outputs": [],
   "source": [
    "red_wine = pd.read_csv('data/winequality-red.csv', sep=';')"
   ]
  },
  {
   "cell_type": "code",
   "execution_count": null,
   "metadata": {},
   "outputs": [],
   "source": [
    "red_wine.plot.scatter('alcohol', 'quality')\n",
    "plt.title('red wine quality vs. alcohol content')"
   ]
  },
  {
   "cell_type": "code",
   "execution_count": null,
   "metadata": {},
   "outputs": [],
   "source": [
    "red_wine.groupby('quality').quality.count().plot.bar()\n",
    "plt.savefig('../../Sparebank/talks/img/winequals_bar.png')"
   ]
  },
  {
   "cell_type": "code",
   "execution_count": null,
   "metadata": {},
   "outputs": [],
   "source": [
    "red_wine.corr()"
   ]
  },
  {
   "cell_type": "code",
   "execution_count": null,
   "metadata": {},
   "outputs": [],
   "source": [
    "wine_tree = DecisionTreeRegressor(max_depth=3).fit(red_wine[['alcohol','sulphates']], red_wine.quality)\n",
    "xx, yy = np.meshgrid(np.arange(8,15,.05), np.arange(0.4,2,0.01))\n",
    "X, Y = xx.ravel(), yy.ravel()\n",
    "Z = wine_tree.predict(np.c_[X,Y]).reshape(xx.shape)"
   ]
  },
  {
   "cell_type": "code",
   "execution_count": null,
   "metadata": {},
   "outputs": [],
   "source": [
    "from pylab import get_cmap"
   ]
  },
  {
   "cell_type": "code",
   "execution_count": null,
   "metadata": {},
   "outputs": [],
   "source": [
    "for qual, data in red_wine.groupby('quality'):\n",
    "    if qual in [5,7]:\n",
    "        plt.plot(data.alcohol, data.sulphates, '.', alpha=0.5, label={5: 'low quality',\n",
    "                                                                      6: 'medium quality',\n",
    "                                                                      7: 'high quality'}[qual])\n",
    "#plt.contourf(xx, yy, Z, cmap=get_cmap('BuGn'), alpha=0.6)\n",
    "plt.xlabel('alcohol content')\n",
    "plt.ylabel('sulphates')\n",
    "plt.legend()\n",
    "plt.savefig('../../Sparebank/talks/img/winequal.png', dpi=300)"
   ]
  },
  {
   "cell_type": "code",
   "execution_count": null,
   "metadata": {},
   "outputs": [],
   "source": [
    "wine_dot = export_graphviz(wine_tree, out_file=None, rounded=True, filled=True, feature_names=['alcohol', 'sulphates'])"
   ]
  },
  {
   "cell_type": "code",
   "execution_count": null,
   "metadata": {},
   "outputs": [],
   "source": [
    "wine_graph = pydotplus.graph_from_dot_data(wine_dot)\n",
    "Image(wine_graph.create_png())"
   ]
  },
  {
   "cell_type": "code",
   "execution_count": null,
   "metadata": {},
   "outputs": [],
   "source": [
    "wine_vars = list(red_wine.columns)"
   ]
  },
  {
   "cell_type": "code",
   "execution_count": null,
   "metadata": {},
   "outputs": [],
   "source": [
    "wine_vars.remove('quality')"
   ]
  },
  {
   "cell_type": "code",
   "execution_count": null,
   "metadata": {},
   "outputs": [],
   "source": [
    "from sklearn.tree import DecisionTreeClassifier"
   ]
  },
  {
   "cell_type": "code",
   "execution_count": null,
   "metadata": {},
   "outputs": [],
   "source": [
    "Xtr, Xte, ytr, yte = train_test_split(red_wine[wine_vars], red_wine.quality > 4, test_size=0.3)\n",
    "hr_train, hr_test = [], []\n",
    "ds = range(1, 15)\n",
    "for d in ds:\n",
    "    model_d = DecisionTreeClassifier(max_depth=d).fit(Xtr, ytr)\n",
    "    hr_train.append(np.mean(model_d.predict(Xtr) == ytr))\n",
    "    hr_test.append(np.mean(model_d.predict(Xte) == yte))\n",
    "plt.plot(ds, hr_test, label='test accuracy')\n",
    "plt.plot(ds, hr_train, label='train accuracy')\n",
    "plt.legend()\n",
    "plt.xlabel('tree depth')\n",
    "plt.ylabel('accuracy')\n",
    "plt.title('Quality 4 or higher?')\n",
    "plt.savefig('../../Sparebank/talks/img/tree_depth_train_test_wine_bad.png', dpi=300)"
   ]
  },
  {
   "cell_type": "code",
   "execution_count": null,
   "metadata": {},
   "outputs": [],
   "source": [
    "Xtr, Xte, ytr, yte = train_test_split(red_wine[wine_vars], red_wine.quality > 6, test_size=0.33)\n",
    "hr_train, hr_test = [], []\n",
    "ds = range(1, 15)\n",
    "for d in ds:\n",
    "    model_d = DecisionTreeClassifier(max_depth=d).fit(Xtr, ytr)\n",
    "    hr_train.append(np.mean(model_d.predict(Xtr) == ytr))\n",
    "    hr_test.append(np.mean(model_d.predict(Xte) == yte))\n",
    "plt.plot(ds, hr_test, label='test accuracy')\n",
    "plt.plot(ds, hr_train, label='train accuracy')\n",
    "plt.legend()\n",
    "plt.xlabel('tree depth')\n",
    "plt.ylabel('accuracy')\n",
    "plt.title('Quality 6 or higher?')\n",
    "plt.savefig('../../Sparebank/talks/img/tree_depth_train_test_wine_great.png', dpi=300)"
   ]
  },
  {
   "cell_type": "code",
   "execution_count": null,
   "metadata": {},
   "outputs": [],
   "source": [
    "dt = DecisionTreeClassifier(max_depth=3).fit(Xtr, ytr)\n",
    "relevant = dt.feature_importances_ > 0\n",
    "labels = np.array(wine_vars)[relevant]\n",
    "plt.bar(range(len(labels)), dt.feature_importances_[relevant])\n",
    "plt.xticks(range(len(labels)), labels, rotation='vertical')\n",
    "plt.ylabel('importance')\n",
    "plt.title('What makes a great wine?')\n",
    "plt.savefig('../../Sparebank/talks/img/wine_importance.png', dpi=300, bbox_inches='tight')"
   ]
  },
  {
   "cell_type": "code",
   "execution_count": null,
   "metadata": {},
   "outputs": [],
   "source": [
    "wine_vars, dt.feature_importances_"
   ]
  },
  {
   "cell_type": "code",
   "execution_count": null,
   "metadata": {},
   "outputs": [],
   "source": [
    "dtm = DecisionTreeClassifier(max_depth=2).fit(Xtr, ytr)"
   ]
  },
  {
   "cell_type": "code",
   "execution_count": null,
   "metadata": {},
   "outputs": [],
   "source": [
    "for qual in sorted(yte.unique()):\n",
    "    hr = np.mean(dtm.predict(Xte[yte == qual]) == yte[yte==qual])\n",
    "    perc = sum(yte==qual) / float(len(yte))\n",
    "    print qual, \" \".join(\"{:4.2f}\".format(i) for i in (hr, perc))"
   ]
  },
  {
   "cell_type": "code",
   "execution_count": null,
   "metadata": {},
   "outputs": [],
   "source": [
    "dtm = DecisionTreeClassifier(max_depth=6).fit(Xtr, ytr)\n",
    "for qual in sorted(yte.unique()):\n",
    "    hr = np.mean(dtm.predict(Xte[yte == qual]) == yte[yte==qual])\n",
    "    perc = sum(yte==qual) / float(len(yte))\n",
    "    print qual, \" \".join(\"{:4.2f}\".format(i) for i in (hr, perc))"
   ]
  },
  {
   "cell_type": "code",
   "execution_count": null,
   "metadata": {},
   "outputs": [],
   "source": [
    "from sklearn.ensemble import RandomForestClassifier"
   ]
  },
  {
   "cell_type": "code",
   "execution_count": null,
   "metadata": {},
   "outputs": [],
   "source": [
    "rf = RandomForestClassifier().fit(Xtr, ytr > 5)"
   ]
  },
  {
   "cell_type": "code",
   "execution_count": null,
   "metadata": {},
   "outputs": [],
   "source": [
    "from sklearn.metrics import roc_curve"
   ]
  },
  {
   "cell_type": "code",
   "execution_count": null,
   "metadata": {},
   "outputs": [],
   "source": [
    "fpr, tpr, thresholds = roc_curve(yte > 5, rf.predict_proba(Xte)[:,1], drop_intermediate=False)"
   ]
  },
  {
   "cell_type": "code",
   "execution_count": null,
   "metadata": {},
   "outputs": [],
   "source": [
    "plt.plot(fpr, tpr)\n",
    "plt.plot([0, 1], [0, 1])\n",
    "plt.xlabel('false positive rate')\n",
    "plt.ylabel('true positive rate')\n",
    "plt.title('ROC curve')\n",
    "plt.savefig('../../Sparebank/talks/img/ROC.png', dpi=300)"
   ]
  }
 ],
 "metadata": {
  "language_info": {
   "name": "python",
   "pygments_lexer": "ipython3"
  }
 },
 "nbformat": 4,
 "nbformat_minor": 2
}
