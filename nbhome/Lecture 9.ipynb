{
 "cells": [
  {
   "cell_type": "code",
   "execution_count": 1,
   "metadata": {
    "collapsed": true
   },
   "outputs": [],
   "source": [
    "import pandas as pd"
   ]
  },
  {
   "cell_type": "code",
   "execution_count": 5,
   "metadata": {
    "collapsed": true
   },
   "outputs": [],
   "source": [
    "# Column names for the data, c.f. the description for details.\n",
    "# One important thing to note is that some of the variables\n",
    "# (e.g. the soil type) are indicator variables. One could have\n",
    "# a discussion about how sensible it is to use LDA with these,\n",
    "# but we'll just proceed for educational value.\n",
    "column_names = (\n",
    "[\"Elevation\",\n",
    "\"Aspect\",\n",
    "\"Slope\",\n",
    "\"Horizontal_Distance_To_Hydrology\",\n",
    "\"Vertical_Distance_To_Hydrology\",\n",
    "\"Horizontal_Distance_To_Roadways\",\n",
    "\"Hillshade_9am\",\n",
    "\"Hillshade_Noon\",\n",
    "\"Hillshade_3pm\",\n",
    "\"Horizontal_Distance_To_Fire_Points\"]\n",
    "    + ['WE{}'.format(i) for i in range(4)]\n",
    "    + ['ST{}'.format(i) for i in range(40)]\n",
    "    + ['Cover'])"
   ]
  },
  {
   "cell_type": "code",
   "execution_count": 3,
   "metadata": {
    "collapsed": true
   },
   "outputs": [],
   "source": [
    "cover_data = pd.read_csv('data/covtype.data.gz', names=column_names)"
   ]
  },
  {
   "cell_type": "code",
   "execution_count": 4,
   "metadata": {
    "collapsed": true
   },
   "outputs": [],
   "source": [
    "from sklearn.discriminant_analysis import LinearDiscriminantAnalysis"
   ]
  },
  {
   "cell_type": "code",
   "execution_count": 5,
   "metadata": {
    "collapsed": true
   },
   "outputs": [],
   "source": [
    "X = cover_data[column_names[:-1]]\n",
    "y = cover_data.Cover"
   ]
  },
  {
   "cell_type": "code",
   "execution_count": 6,
   "metadata": {
    "collapsed": true
   },
   "outputs": [],
   "source": [
    "from sklearn.model_selection import train_test_split"
   ]
  },
  {
   "cell_type": "code",
   "execution_count": 7,
   "metadata": {
    "collapsed": true
   },
   "outputs": [],
   "source": [
    "Xtr, Xte, ytr, yte = train_test_split(X,y,test_size=0.3)"
   ]
  },
  {
   "cell_type": "code",
   "execution_count": 9,
   "metadata": {
    "collapsed": false
   },
   "outputs": [],
   "source": [
    "sk_model = LinearDiscriminantAnalysis().fit(Xtr, ytr)"
   ]
  },
  {
   "cell_type": "code",
   "execution_count": 10,
   "metadata": {
    "collapsed": true
   },
   "outputs": [],
   "source": [
    "sk_hits = sk_model.predict(Xte) == yte"
   ]
  },
  {
   "cell_type": "code",
   "execution_count": 11,
   "metadata": {
    "collapsed": false
   },
   "outputs": [
    {
     "data": {
      "text/plain": [
       "0.67955984945841752"
      ]
     },
     "execution_count": 11,
     "metadata": {},
     "output_type": "execute_result"
    }
   ],
   "source": [
    "sk_hits.mean()"
   ]
  },
  {
   "cell_type": "code",
   "execution_count": 12,
   "metadata": {
    "collapsed": true
   },
   "outputs": [],
   "source": [
    "from sklearn.linear_model import LogisticRegression"
   ]
  },
  {
   "cell_type": "code",
   "execution_count": 13,
   "metadata": {
    "collapsed": true
   },
   "outputs": [],
   "source": [
    "import time"
   ]
  },
  {
   "cell_type": "code",
   "execution_count": 14,
   "metadata": {
    "collapsed": true
   },
   "outputs": [],
   "source": [
    "import numpy as np"
   ]
  },
  {
   "cell_type": "code",
   "execution_count": 15,
   "metadata": {
    "collapsed": false
   },
   "outputs": [
    {
     "data": {
      "text/plain": [
       "(406708, 54)"
      ]
     },
     "execution_count": 15,
     "metadata": {},
     "output_type": "execute_result"
    }
   ],
   "source": [
    "Xtr.shape"
   ]
  },
  {
   "cell_type": "code",
   "execution_count": 16,
   "metadata": {
    "collapsed": true
   },
   "outputs": [],
   "source": [
    "deltas = []\n",
    "NS = np.arange(1e4, 6e4, 1e4)\n",
    "for N in NS:\n",
    "    X, y = Xtr[:int(N)], ytr[:int(N)]\n",
    "    start = time.time()\n",
    "    lr = LogisticRegression().fit(X, y)\n",
    "    deltas.append(time.time() - start)"
   ]
  },
  {
   "cell_type": "code",
   "execution_count": 19,
   "metadata": {
    "collapsed": false
   },
   "outputs": [
    {
     "name": "stderr",
     "output_type": "stream",
     "text": [
      "/Users/dirk/Virtualenvs/std/lib/python2.7/site-packages/sklearn/discriminant_analysis.py:455: UserWarning: The priors do not sum to 1. Renormalizing\n",
      "  UserWarning)\n"
     ]
    }
   ],
   "source": [
    "deltas_lda = []\n",
    "for N in NS:\n",
    "    X, y = Xtr[:int(N)], ytr[:int(N)]\n",
    "    start = time.time()\n",
    "    lr = LinearDiscriminantAnalysis().fit(X, y)\n",
    "    deltas_lda.append(time.time() - start)"
   ]
  },
  {
   "cell_type": "code",
   "execution_count": 18,
   "metadata": {
    "collapsed": false
   },
   "outputs": [],
   "source": [
    "import matplotlib.pyplot as plt\n",
    "%matplotlib inline"
   ]
  },
  {
   "cell_type": "code",
   "execution_count": 20,
   "metadata": {
    "collapsed": false
   },
   "outputs": [
    {
     "data": {
      "text/plain": [
       "[<matplotlib.lines.Line2D at 0x10bd98910>]"
      ]
     },
     "execution_count": 20,
     "metadata": {},
     "output_type": "execute_result"
    },
    {
     "data": {
      "image/png": "[encoded data removed]",
      "text/plain": [
       "<matplotlib.figure.Figure at 0x10db254d0>"
      ]
     },
     "metadata": {},
     "output_type": "display_data"
    }
   ],
   "source": [
    "plt.plot(NS, deltas)\n",
    "plt.plot(NS, deltas_lda)"
   ]
  },
  {
   "cell_type": "code",
   "execution_count": 21,
   "metadata": {
    "collapsed": false
   },
   "outputs": [
    {
     "data": {
      "text/plain": [
       "[<matplotlib.lines.Line2D at 0x10ca0ab50>]"
      ]
     },
     "execution_count": 21,
     "metadata": {},
     "output_type": "execute_result"
    },
    {
     "data": {
      "image/png": "[encoded data removed]",
      "text/plain": [
       "<matplotlib.figure.Figure at 0x10c947150>"
      ]
     },
     "metadata": {},
     "output_type": "display_data"
    }
   ],
   "source": [
    "plt.plot(NS, deltas_lda)"
   ]
  },
  {
   "cell_type": "code",
   "execution_count": 23,
   "metadata": {
    "collapsed": false
   },
   "outputs": [],
   "source": [
    "from statsmodels.discrete.discrete_model import Logit"
   ]
  },
  {
   "cell_type": "code",
   "execution_count": 40,
   "metadata": {
    "collapsed": true
   },
   "outputs": [],
   "source": [
    "X, y = Xtr[Xtr.columns[:10]][:50000].copy(), (ytr[:50000] == 2) + 0.0"
   ]
  },
  {
   "cell_type": "code",
   "execution_count": 44,
   "metadata": {
    "collapsed": false
   },
   "outputs": [],
   "source": [
    "X['const'] = 1"
   ]
  },
  {
   "cell_type": "code",
   "execution_count": 45,
   "metadata": {
    "collapsed": true
   },
   "outputs": [],
   "source": [
    "model = Logit(y, X)"
   ]
  },
  {
   "cell_type": "code",
   "execution_count": 46,
   "metadata": {
    "collapsed": false
   },
   "outputs": [
    {
     "name": "stdout",
     "output_type": "stream",
     "text": [
      "Optimization terminated successfully.\n",
      "         Current function value: 0.653371\n",
      "         Iterations 5\n"
     ]
    }
   ],
   "source": [
    "result = model.fit()"
   ]
  },
  {
   "cell_type": "code",
   "execution_count": 47,
   "metadata": {
    "collapsed": false
   },
   "outputs": [
    {
     "data": {
      "text/html": [
       "<table class=\"simpletable\">\n",
       "<caption>Logit Regression Results</caption>\n",
       "<tr>\n",
       "  <th>Dep. Variable:</th>       <td>Cover</td>      <th>  No. Observations:  </th>  <td> 50000</td> \n",
       "</tr>\n",
       "<tr>\n",
       "  <th>Model:</th>               <td>Logit</td>      <th>  Df Residuals:      </th>  <td> 49989</td> \n",
       "</tr>\n",
       "<tr>\n",
       "  <th>Method:</th>               <td>MLE</td>       <th>  Df Model:          </th>  <td>    10</td> \n",
       "</tr>\n",
       "<tr>\n",
       "  <th>Date:</th>          <td>Mon, 13 Mar 2017</td> <th>  Pseudo R-squ.:     </th>  <td>0.05677</td>\n",
       "</tr>\n",
       "<tr>\n",
       "  <th>Time:</th>              <td>10:55:16</td>     <th>  Log-Likelihood:    </th> <td> -32669.</td>\n",
       "</tr>\n",
       "<tr>\n",
       "  <th>converged:</th>           <td>True</td>       <th>  LL-Null:           </th> <td> -34635.</td>\n",
       "</tr>\n",
       "<tr>\n",
       "  <th> </th>                      <td> </td>        <th>  LLR p-value:       </th>  <td> 0.000</td> \n",
       "</tr>\n",
       "</table>\n",
       "<table class=\"simpletable\">\n",
       "<tr>\n",
       "                   <td></td>                     <th>coef</th>     <th>std err</th>      <th>z</th>      <th>P>|z|</th>  <th>[0.025</th>    <th>0.975]</th>  \n",
       "</tr>\n",
       "<tr>\n",
       "  <th>Elevation</th>                          <td>   -0.0019</td> <td> 3.98e-05</td> <td>  -47.083</td> <td> 0.000</td> <td>   -0.002</td> <td>   -0.002</td>\n",
       "</tr>\n",
       "<tr>\n",
       "  <th>Aspect</th>                             <td>   -0.0006</td> <td>    0.000</td> <td>   -5.544</td> <td> 0.000</td> <td>   -0.001</td> <td>   -0.000</td>\n",
       "</tr>\n",
       "<tr>\n",
       "  <th>Slope</th>                              <td>    0.0044</td> <td>    0.003</td> <td>    1.334</td> <td> 0.182</td> <td>   -0.002</td> <td>    0.011</td>\n",
       "</tr>\n",
       "<tr>\n",
       "  <th>Horizontal_Distance_To_Hydrology</th>   <td>    0.0013</td> <td> 5.97e-05</td> <td>   20.949</td> <td> 0.000</td> <td>    0.001</td> <td>    0.001</td>\n",
       "</tr>\n",
       "<tr>\n",
       "  <th>Vertical_Distance_To_Hydrology</th>     <td>   -0.0010</td> <td>    0.000</td> <td>   -4.418</td> <td> 0.000</td> <td>   -0.001</td> <td>   -0.001</td>\n",
       "</tr>\n",
       "<tr>\n",
       "  <th>Horizontal_Distance_To_Roadways</th>    <td> 8.272e-05</td> <td> 6.83e-06</td> <td>   12.106</td> <td> 0.000</td> <td> 6.93e-05</td> <td> 9.61e-05</td>\n",
       "</tr>\n",
       "<tr>\n",
       "  <th>Hillshade_9am</th>                      <td>    0.0090</td> <td>    0.004</td> <td>    2.488</td> <td> 0.013</td> <td>    0.002</td> <td>    0.016</td>\n",
       "</tr>\n",
       "<tr>\n",
       "  <th>Hillshade_Noon</th>                     <td>    0.0103</td> <td>    0.003</td> <td>    3.479</td> <td> 0.001</td> <td>    0.004</td> <td>    0.016</td>\n",
       "</tr>\n",
       "<tr>\n",
       "  <th>Hillshade_3pm</th>                      <td>    0.0043</td> <td>    0.003</td> <td>    1.441</td> <td> 0.149</td> <td>   -0.002</td> <td>    0.010</td>\n",
       "</tr>\n",
       "<tr>\n",
       "  <th>Horizontal_Distance_To_Fire_Points</th> <td>    0.0002</td> <td> 7.88e-06</td> <td>   26.738</td> <td> 0.000</td> <td>    0.000</td> <td>    0.000</td>\n",
       "</tr>\n",
       "<tr>\n",
       "  <th>const</th>                              <td>   -0.2005</td> <td>    0.612</td> <td>   -0.328</td> <td> 0.743</td> <td>   -1.399</td> <td>    0.998</td>\n",
       "</tr>\n",
       "</table>"
      ],
      "text/plain": [
       "<class 'statsmodels.iolib.summary.Summary'>\n",
       "\"\"\"\n",
       "                           Logit Regression Results                           \n",
       "==============================================================================\n",
       "Dep. Variable:                  Cover   No. Observations:                50000\n",
       "Model:                          Logit   Df Residuals:                    49989\n",
       "Method:                           MLE   Df Model:                           10\n",
       "Date:                Mon, 13 Mar 2017   Pseudo R-squ.:                 0.05677\n",
       "Time:                        10:55:16   Log-Likelihood:                -32669.\n",
       "converged:                       True   LL-Null:                       -34635.\n",
       "                                        LLR p-value:                     0.000\n",
       "======================================================================================================\n",
       "                                         coef    std err          z      P>|z|      [0.025      0.975]\n",
       "------------------------------------------------------------------------------------------------------\n",
       "Elevation                             -0.0019   3.98e-05    -47.083      0.000      -0.002      -0.002\n",
       "Aspect                                -0.0006      0.000     -5.544      0.000      -0.001      -0.000\n",
       "Slope                                  0.0044      0.003      1.334      0.182      -0.002       0.011\n",
       "Horizontal_Distance_To_Hydrology       0.0013   5.97e-05     20.949      0.000       0.001       0.001\n",
       "Vertical_Distance_To_Hydrology        -0.0010      0.000     -4.418      0.000      -0.001      -0.001\n",
       "Horizontal_Distance_To_Roadways     8.272e-05   6.83e-06     12.106      0.000    6.93e-05    9.61e-05\n",
       "Hillshade_9am                          0.0090      0.004      2.488      0.013       0.002       0.016\n",
       "Hillshade_Noon                         0.0103      0.003      3.479      0.001       0.004       0.016\n",
       "Hillshade_3pm                          0.0043      0.003      1.441      0.149      -0.002       0.010\n",
       "Horizontal_Distance_To_Fire_Points     0.0002   7.88e-06     26.738      0.000       0.000       0.000\n",
       "const                                 -0.2005      0.612     -0.328      0.743      -1.399       0.998\n",
       "======================================================================================================\n",
       "\"\"\""
      ]
     },
     "execution_count": 47,
     "metadata": {},
     "output_type": "execute_result"
    }
   ],
   "source": [
    "result.summary()"
   ]
  },
  {
   "cell_type": "code",
   "execution_count": 48,
   "metadata": {
    "collapsed": false
   },
   "outputs": [
    {
     "data": {
      "text/plain": [
       "1.0103532275910965"
      ]
     },
     "execution_count": 48,
     "metadata": {},
     "output_type": "execute_result"
    }
   ],
   "source": [
    "np.exp(0.0103)"
   ]
  },
  {
   "cell_type": "markdown",
   "metadata": {
    "collapsed": true
   },
   "source": [
    "# Spark"
   ]
  },
  {
   "cell_type": "code",
   "execution_count": 1,
   "metadata": {
    "collapsed": false
   },
   "outputs": [
    {
     "data": {
      "text/plain": [
       "<pyspark.context.SparkContext at 0x10466cb10>"
      ]
     },
     "execution_count": 1,
     "metadata": {},
     "output_type": "execute_result"
    }
   ],
   "source": [
    "sc"
   ]
  },
  {
   "cell_type": "code",
   "execution_count": 3,
   "metadata": {
    "collapsed": false
   },
   "outputs": [
    {
     "data": {
      "text/plain": [
       "['a', 1.2, [], ('foo', 1)]"
      ]
     },
     "execution_count": 3,
     "metadata": {},
     "output_type": "execute_result"
    }
   ],
   "source": [
    "sc.parallelize(['a', 1.2, [], ('foo', 1)]).collect()"
   ]
  },
  {
   "cell_type": "code",
   "execution_count": 4,
   "metadata": {
    "collapsed": false
   },
   "outputs": [
    {
     "data": {
      "text/plain": [
       "<pyspark.sql.session.SparkSession at 0x104713ad0>"
      ]
     },
     "execution_count": 4,
     "metadata": {},
     "output_type": "execute_result"
    }
   ],
   "source": [
    "spark"
   ]
  },
  {
   "cell_type": "code",
   "execution_count": 6,
   "metadata": {
    "collapsed": true
   },
   "outputs": [],
   "source": [
    "rawRDD = sc.textFile('data/covtype.data.gz')"
   ]
  },
  {
   "cell_type": "code",
   "execution_count": 8,
   "metadata": {
    "collapsed": false
   },
   "outputs": [
    {
     "data": {
      "text/plain": [
       "[u'2596,51,3,258,0,510,221,232,148,6279,1,0,0,0,0,0,0,0,0,0,0,0,0,0,0,0,0,0,0,0,0,0,0,0,0,0,0,0,0,0,0,0,1,0,0,0,0,0,0,0,0,0,0,0,5',\n",
       " u'2590,56,2,212,-6,390,220,235,151,6225,1,0,0,0,0,0,0,0,0,0,0,0,0,0,0,0,0,0,0,0,0,0,0,0,0,0,0,0,0,0,0,0,1,0,0,0,0,0,0,0,0,0,0,0,5',\n",
       " u'2804,139,9,268,65,3180,234,238,135,6121,1,0,0,0,0,0,0,0,0,0,0,0,0,0,0,1,0,0,0,0,0,0,0,0,0,0,0,0,0,0,0,0,0,0,0,0,0,0,0,0,0,0,0,0,2',\n",
       " u'2785,155,18,242,118,3090,238,238,122,6211,1,0,0,0,0,0,0,0,0,0,0,0,0,0,0,0,0,0,0,0,0,0,0,0,0,0,0,0,0,0,0,0,0,1,0,0,0,0,0,0,0,0,0,0,2',\n",
       " u'2595,45,2,153,-1,391,220,234,150,6172,1,0,0,0,0,0,0,0,0,0,0,0,0,0,0,0,0,0,0,0,0,0,0,0,0,0,0,0,0,0,0,0,1,0,0,0,0,0,0,0,0,0,0,0,5']"
      ]
     },
     "execution_count": 8,
     "metadata": {},
     "output_type": "execute_result"
    }
   ],
   "source": [
    "rawRDD.take(5)"
   ]
  },
  {
   "cell_type": "code",
   "execution_count": 9,
   "metadata": {
    "collapsed": true
   },
   "outputs": [],
   "source": [
    "from pyspark.sql import Row"
   ]
  },
  {
   "cell_type": "code",
   "execution_count": 10,
   "metadata": {
    "collapsed": false
   },
   "outputs": [
    {
     "data": {
      "text/plain": [
       "Row(name='Kirk', rank=5)"
      ]
     },
     "execution_count": 10,
     "metadata": {},
     "output_type": "execute_result"
    }
   ],
   "source": [
    "Row(name='Kirk', rank=5)"
   ]
  },
  {
   "cell_type": "code",
   "execution_count": 11,
   "metadata": {
    "collapsed": false
   },
   "outputs": [
    {
     "data": {
      "text/plain": [
       "Row(name='Kirk', rank=5)"
      ]
     },
     "execution_count": 11,
     "metadata": {},
     "output_type": "execute_result"
    }
   ],
   "source": [
    "Row(**{'name': 'Kirk', 'rank':5})"
   ]
  },
  {
   "cell_type": "code",
   "execution_count": 13,
   "metadata": {
    "collapsed": false
   },
   "outputs": [],
   "source": [
    "cover = spark.createDataFrame(\n",
    "    rawRDD\n",
    "    .map(lambda x: [float(i) for i in x.split(',')])\n",
    "    .map(lambda x: Row(**{name: value for name, value in zip(column_names, x)}))\n",
    ")"
   ]
  },
  {
   "cell_type": "code",
   "execution_count": 14,
   "metadata": {
    "collapsed": false
   },
   "outputs": [
    {
     "data": {
      "text/plain": [
       "DataFrame[Aspect: double, Cover: double, Elevation: double, Hillshade_3pm: double, Hillshade_9am: double, Hillshade_Noon: double, Horizontal_Distance_To_Fire_Points: double, Horizontal_Distance_To_Hydrology: double, Horizontal_Distance_To_Roadways: double, ST0: double, ST1: double, ST10: double, ST11: double, ST12: double, ST13: double, ST14: double, ST15: double, ST16: double, ST17: double, ST18: double, ST19: double, ST2: double, ST20: double, ST21: double, ST22: double, ST23: double, ST24: double, ST25: double, ST26: double, ST27: double, ST28: double, ST29: double, ST3: double, ST30: double, ST31: double, ST32: double, ST33: double, ST34: double, ST35: double, ST36: double, ST37: double, ST38: double, ST39: double, ST4: double, ST5: double, ST6: double, ST7: double, ST8: double, ST9: double, Slope: double, Vertical_Distance_To_Hydrology: double, WE0: double, WE1: double, WE2: double, WE3: double]"
      ]
     },
     "execution_count": 14,
     "metadata": {},
     "output_type": "execute_result"
    }
   ],
   "source": [
    "cover"
   ]
  },
  {
   "cell_type": "code",
   "execution_count": 15,
   "metadata": {
    "collapsed": false
   },
   "outputs": [
    {
     "name": "stdout",
     "output_type": "stream",
     "text": [
      "root\n",
      " |-- Aspect: double (nullable = true)\n",
      " |-- Cover: double (nullable = true)\n",
      " |-- Elevation: double (nullable = true)\n",
      " |-- Hillshade_3pm: double (nullable = true)\n",
      " |-- Hillshade_9am: double (nullable = true)\n",
      " |-- Hillshade_Noon: double (nullable = true)\n",
      " |-- Horizontal_Distance_To_Fire_Points: double (nullable = true)\n",
      " |-- Horizontal_Distance_To_Hydrology: double (nullable = true)\n",
      " |-- Horizontal_Distance_To_Roadways: double (nullable = true)\n",
      " |-- ST0: double (nullable = true)\n",
      " |-- ST1: double (nullable = true)\n",
      " |-- ST10: double (nullable = true)\n",
      " |-- ST11: double (nullable = true)\n",
      " |-- ST12: double (nullable = true)\n",
      " |-- ST13: double (nullable = true)\n",
      " |-- ST14: double (nullable = true)\n",
      " |-- ST15: double (nullable = true)\n",
      " |-- ST16: double (nullable = true)\n",
      " |-- ST17: double (nullable = true)\n",
      " |-- ST18: double (nullable = true)\n",
      " |-- ST19: double (nullable = true)\n",
      " |-- ST2: double (nullable = true)\n",
      " |-- ST20: double (nullable = true)\n",
      " |-- ST21: double (nullable = true)\n",
      " |-- ST22: double (nullable = true)\n",
      " |-- ST23: double (nullable = true)\n",
      " |-- ST24: double (nullable = true)\n",
      " |-- ST25: double (nullable = true)\n",
      " |-- ST26: double (nullable = true)\n",
      " |-- ST27: double (nullable = true)\n",
      " |-- ST28: double (nullable = true)\n",
      " |-- ST29: double (nullable = true)\n",
      " |-- ST3: double (nullable = true)\n",
      " |-- ST30: double (nullable = true)\n",
      " |-- ST31: double (nullable = true)\n",
      " |-- ST32: double (nullable = true)\n",
      " |-- ST33: double (nullable = true)\n",
      " |-- ST34: double (nullable = true)\n",
      " |-- ST35: double (nullable = true)\n",
      " |-- ST36: double (nullable = true)\n",
      " |-- ST37: double (nullable = true)\n",
      " |-- ST38: double (nullable = true)\n",
      " |-- ST39: double (nullable = true)\n",
      " |-- ST4: double (nullable = true)\n",
      " |-- ST5: double (nullable = true)\n",
      " |-- ST6: double (nullable = true)\n",
      " |-- ST7: double (nullable = true)\n",
      " |-- ST8: double (nullable = true)\n",
      " |-- ST9: double (nullable = true)\n",
      " |-- Slope: double (nullable = true)\n",
      " |-- Vertical_Distance_To_Hydrology: double (nullable = true)\n",
      " |-- WE0: double (nullable = true)\n",
      " |-- WE1: double (nullable = true)\n",
      " |-- WE2: double (nullable = true)\n",
      " |-- WE3: double (nullable = true)\n",
      "\n"
     ]
    }
   ],
   "source": [
    "cover.printSchema()"
   ]
  },
  {
   "cell_type": "code",
   "execution_count": 16,
   "metadata": {
    "collapsed": false
   },
   "outputs": [
    {
     "name": "stdout",
     "output_type": "stream",
     "text": [
      "+---------+------+-----+\n",
      "|elevation|aspect|slope|\n",
      "+---------+------+-----+\n",
      "|   2596.0|  51.0|  3.0|\n",
      "|   2590.0|  56.0|  2.0|\n",
      "|   2804.0| 139.0|  9.0|\n",
      "|   2785.0| 155.0| 18.0|\n",
      "|   2595.0|  45.0|  2.0|\n",
      "+---------+------+-----+\n",
      "only showing top 5 rows\n",
      "\n"
     ]
    }
   ],
   "source": [
    "cover['elevation', 'aspect', 'slope'].show(5)"
   ]
  },
  {
   "cell_type": "code",
   "execution_count": 17,
   "metadata": {
    "collapsed": false
   },
   "outputs": [
    {
     "data": {
      "text/plain": [
       "Column<elevation>"
      ]
     },
     "execution_count": 17,
     "metadata": {},
     "output_type": "execute_result"
    }
   ],
   "source": [
    "cover['elevation']"
   ]
  },
  {
   "cell_type": "code",
   "execution_count": 21,
   "metadata": {
    "collapsed": false
   },
   "outputs": [
    {
     "data": {
      "text/plain": [
       "Column<Elevation>"
      ]
     },
     "execution_count": 21,
     "metadata": {},
     "output_type": "execute_result"
    }
   ],
   "source": [
    "cover.Elevation"
   ]
  },
  {
   "cell_type": "code",
   "execution_count": 22,
   "metadata": {
    "collapsed": false
   },
   "outputs": [
    {
     "name": "stdout",
     "output_type": "stream",
     "text": [
      "+---------+-----+\n",
      "|Elevation|Slope|\n",
      "+---------+-----+\n",
      "|   2596.0|  3.0|\n",
      "|   2590.0|  2.0|\n",
      "|   2804.0|  9.0|\n",
      "|   2785.0| 18.0|\n",
      "|   2595.0|  2.0|\n",
      "+---------+-----+\n",
      "only showing top 5 rows\n",
      "\n"
     ]
    }
   ],
   "source": [
    "cover.select(cover.Elevation, cover.Slope).show(5)"
   ]
  },
  {
   "cell_type": "code",
   "execution_count": 23,
   "metadata": {
    "collapsed": false
   },
   "outputs": [
    {
     "name": "stdout",
     "output_type": "stream",
     "text": [
      "+---------+------------+\n",
      "|Elevation|(Slope / 10)|\n",
      "+---------+------------+\n",
      "|   2596.0|         0.3|\n",
      "|   2590.0|         0.2|\n",
      "|   2804.0|         0.9|\n",
      "|   2785.0|         1.8|\n",
      "|   2595.0|         0.2|\n",
      "+---------+------------+\n",
      "only showing top 5 rows\n",
      "\n"
     ]
    }
   ],
   "source": [
    "cover.select(cover.Elevation, cover.Slope/10).show(5)"
   ]
  },
  {
   "cell_type": "code",
   "execution_count": 26,
   "metadata": {
    "collapsed": false
   },
   "outputs": [
    {
     "name": "stdout",
     "output_type": "stream",
     "text": [
      "+---------+\n",
      "|Elevation|\n",
      "+---------+\n",
      "|   2785.0|\n",
      "|   2886.0|\n",
      "|   2742.0|\n",
      "|   2880.0|\n",
      "|   2768.0|\n",
      "+---------+\n",
      "only showing top 5 rows\n",
      "\n"
     ]
    }
   ],
   "source": [
    "(cover\n",
    " .filter(cover.Slope > 10)\n",
    " .select(cover.Elevation)\n",
    " .show(5))"
   ]
  },
  {
   "cell_type": "code",
   "execution_count": 27,
   "metadata": {
    "collapsed": true
   },
   "outputs": [],
   "source": [
    "d = cover.sample(True, 0.05)"
   ]
  },
  {
   "cell_type": "code",
   "execution_count": 28,
   "metadata": {
    "collapsed": false
   },
   "outputs": [
    {
     "data": {
      "text/plain": [
       "DataFrame[Aspect: double, Cover: double, Elevation: double, Hillshade_3pm: double, Hillshade_9am: double, Hillshade_Noon: double, Horizontal_Distance_To_Fire_Points: double, Horizontal_Distance_To_Hydrology: double, Horizontal_Distance_To_Roadways: double, ST0: double, ST1: double, ST10: double, ST11: double, ST12: double, ST13: double, ST14: double, ST15: double, ST16: double, ST17: double, ST18: double, ST19: double, ST2: double, ST20: double, ST21: double, ST22: double, ST23: double, ST24: double, ST25: double, ST26: double, ST27: double, ST28: double, ST29: double, ST3: double, ST30: double, ST31: double, ST32: double, ST33: double, ST34: double, ST35: double, ST36: double, ST37: double, ST38: double, ST39: double, ST4: double, ST5: double, ST6: double, ST7: double, ST8: double, ST9: double, Slope: double, Vertical_Distance_To_Hydrology: double, WE0: double, WE1: double, WE2: double, WE3: double]"
      ]
     },
     "execution_count": 28,
     "metadata": {},
     "output_type": "execute_result"
    }
   ],
   "source": [
    "d.cache()"
   ]
  },
  {
   "cell_type": "code",
   "execution_count": 29,
   "metadata": {
    "collapsed": false
   },
   "outputs": [
    {
     "name": "stdout",
     "output_type": "stream",
     "text": [
      "+-----+------------------+\n",
      "|Cover|        avg(Slope)|\n",
      "+-----+------------------+\n",
      "|  7.0|14.408221797323137|\n",
      "|  1.0|13.146202711671565|\n",
      "|  4.0| 18.65972222222222|\n",
      "|  3.0|20.850795392210642|\n",
      "|  2.0|13.514805084144003|\n",
      "|  6.0| 19.14864864864865|\n",
      "|  5.0|17.290249433106577|\n",
      "+-----+------------------+\n",
      "\n"
     ]
    }
   ],
   "source": [
    "d.groupBy('Cover').agg({'Slope': 'avg'}).show()"
   ]
  },
  {
   "cell_type": "code",
   "execution_count": 31,
   "metadata": {
    "collapsed": false
   },
   "outputs": [
    {
     "name": "stdout",
     "output_type": "stream",
     "text": [
      "+-----+-----------+----------+\n",
      "|Cover|max(aspect)|min(slope)|\n",
      "+-----+-----------+----------+\n",
      "|  7.0|      359.0|       1.0|\n",
      "|  1.0|      359.0|       0.0|\n",
      "|  4.0|      351.0|       2.0|\n",
      "|  3.0|      360.0|       1.0|\n",
      "|  2.0|      360.0|       0.0|\n",
      "|  6.0|      359.0|       1.0|\n",
      "|  5.0|      359.0|       0.0|\n",
      "+-----+-----------+----------+\n",
      "\n"
     ]
    }
   ],
   "source": [
    "d.groupBy('Cover').agg({'slope': 'avg', 'aspect': 'max'}).show()"
   ]
  },
  {
   "cell_type": "code",
   "execution_count": 32,
   "metadata": {
    "collapsed": false
   },
   "outputs": [
    {
     "data": {
      "text/html": [
       "<div>\n",
       "<table border=\"1\" class=\"dataframe\">\n",
       "  <thead>\n",
       "    <tr style=\"text-align: right;\">\n",
       "      <th></th>\n",
       "      <th>Cover</th>\n",
       "      <th>max(aspect)</th>\n",
       "      <th>avg(slope)</th>\n",
       "    </tr>\n",
       "  </thead>\n",
       "  <tbody>\n",
       "    <tr>\n",
       "      <th>0</th>\n",
       "      <td>7.0</td>\n",
       "      <td>359.0</td>\n",
       "      <td>14.408222</td>\n",
       "    </tr>\n",
       "    <tr>\n",
       "      <th>1</th>\n",
       "      <td>1.0</td>\n",
       "      <td>359.0</td>\n",
       "      <td>13.146203</td>\n",
       "    </tr>\n",
       "    <tr>\n",
       "      <th>2</th>\n",
       "      <td>4.0</td>\n",
       "      <td>351.0</td>\n",
       "      <td>18.659722</td>\n",
       "    </tr>\n",
       "    <tr>\n",
       "      <th>3</th>\n",
       "      <td>3.0</td>\n",
       "      <td>360.0</td>\n",
       "      <td>20.850795</td>\n",
       "    </tr>\n",
       "    <tr>\n",
       "      <th>4</th>\n",
       "      <td>2.0</td>\n",
       "      <td>360.0</td>\n",
       "      <td>13.514805</td>\n",
       "    </tr>\n",
       "    <tr>\n",
       "      <th>5</th>\n",
       "      <td>6.0</td>\n",
       "      <td>359.0</td>\n",
       "      <td>19.148649</td>\n",
       "    </tr>\n",
       "    <tr>\n",
       "      <th>6</th>\n",
       "      <td>5.0</td>\n",
       "      <td>359.0</td>\n",
       "      <td>17.290249</td>\n",
       "    </tr>\n",
       "  </tbody>\n",
       "</table>\n",
       "</div>"
      ],
      "text/plain": [
       "   Cover  max(aspect)  avg(slope)\n",
       "0    7.0        359.0   14.408222\n",
       "1    1.0        359.0   13.146203\n",
       "2    4.0        351.0   18.659722\n",
       "3    3.0        360.0   20.850795\n",
       "4    2.0        360.0   13.514805\n",
       "5    6.0        359.0   19.148649\n",
       "6    5.0        359.0   17.290249"
      ]
     },
     "execution_count": 32,
     "metadata": {},
     "output_type": "execute_result"
    }
   ],
   "source": [
    "d.groupBy('Cover').agg({'slope': 'avg', 'aspect': 'max'}).toPandas()"
   ]
  },
  {
   "cell_type": "code",
   "execution_count": 34,
   "metadata": {
    "collapsed": false
   },
   "outputs": [
    {
     "data": {
      "text/plain": [
       "[u'{\"Cover\":7.0,\"max(aspect)\":359.0,\"avg(slope)\":14.408221797323137}',\n",
       " u'{\"Cover\":1.0,\"max(aspect)\":359.0,\"avg(slope)\":13.146202711671565}',\n",
       " u'{\"Cover\":4.0,\"max(aspect)\":351.0,\"avg(slope)\":18.65972222222222}',\n",
       " u'{\"Cover\":3.0,\"max(aspect)\":360.0,\"avg(slope)\":20.850795392210642}',\n",
       " u'{\"Cover\":2.0,\"max(aspect)\":360.0,\"avg(slope)\":13.514805084144003}',\n",
       " u'{\"Cover\":6.0,\"max(aspect)\":359.0,\"avg(slope)\":19.14864864864865}',\n",
       " u'{\"Cover\":5.0,\"max(aspect)\":359.0,\"avg(slope)\":17.290249433106577}']"
      ]
     },
     "execution_count": 34,
     "metadata": {},
     "output_type": "execute_result"
    }
   ],
   "source": [
    "d.groupBy('Cover').agg({'slope': 'avg', 'aspect': 'max'}).toJSON().collect()"
   ]
  },
  {
   "cell_type": "code",
   "execution_count": 36,
   "metadata": {
    "collapsed": false
   },
   "outputs": [
    {
     "data": {
      "text/plain": [
       "-523.0451897526334"
      ]
     },
     "execution_count": 36,
     "metadata": {},
     "output_type": "execute_result"
    }
   ],
   "source": [
    "d.cov('Slope', 'Elevation')"
   ]
  },
  {
   "cell_type": "code",
   "execution_count": 37,
   "metadata": {
    "collapsed": false
   },
   "outputs": [
    {
     "data": {
      "text/plain": [
       "-0.2503905729540995"
      ]
     },
     "execution_count": 37,
     "metadata": {},
     "output_type": "execute_result"
    }
   ],
   "source": [
    "d.corr('Slope', 'Elevation')"
   ]
  },
  {
   "cell_type": "code",
   "execution_count": 38,
   "metadata": {
    "collapsed": false
   },
   "outputs": [
    {
     "name": "stdout",
     "output_type": "stream",
     "text": [
      "+-------+------------------+\n",
      "|summary|             Slope|\n",
      "+-------+------------------+\n",
      "|  count|             28972|\n",
      "|   mean|14.130194670716554|\n",
      "| stddev| 7.452001219402018|\n",
      "|    min|               0.0|\n",
      "|    max|              61.0|\n",
      "+-------+------------------+\n",
      "\n"
     ]
    }
   ],
   "source": [
    "d.describe('Slope').show()"
   ]
  },
  {
   "cell_type": "code",
   "execution_count": 39,
   "metadata": {
    "collapsed": true
   },
   "outputs": [],
   "source": [
    "dna = spark.createDataFrame(\n",
    "    sc.parallelize([Row(name=\"john\", age=None),\n",
    "                    Row(name=None, age=99)])\n",
    ")"
   ]
  },
  {
   "cell_type": "code",
   "execution_count": 41,
   "metadata": {
    "collapsed": false
   },
   "outputs": [
    {
     "name": "stdout",
     "output_type": "stream",
     "text": [
      "+----+----+\n",
      "| age|name|\n",
      "+----+----+\n",
      "|null|john|\n",
      "|  99|null|\n",
      "+----+----+\n",
      "\n"
     ]
    }
   ],
   "source": [
    "dna.show()"
   ]
  },
  {
   "cell_type": "code",
   "execution_count": 42,
   "metadata": {
    "collapsed": false
   },
   "outputs": [
    {
     "name": "stdout",
     "output_type": "stream",
     "text": [
      "+---+----+\n",
      "|age|name|\n",
      "+---+----+\n",
      "+---+----+\n",
      "\n"
     ]
    }
   ],
   "source": [
    "dna.dropna().show()"
   ]
  },
  {
   "cell_type": "code",
   "execution_count": 44,
   "metadata": {
    "collapsed": false
   },
   "outputs": [
    {
     "name": "stdout",
     "output_type": "stream",
     "text": [
      "+---+------+\n",
      "|age|  name|\n",
      "+---+------+\n",
      "|-99|  john|\n",
      "| 99|unkown|\n",
      "+---+------+\n",
      "\n"
     ]
    }
   ],
   "source": [
    "dna.na.fill({'name': 'unkown', 'age': -99}).show()"
   ]
  },
  {
   "cell_type": "code",
   "execution_count": 45,
   "metadata": {
    "collapsed": true
   },
   "outputs": [],
   "source": [
    "from pyspark.sql import functions as fn"
   ]
  },
  {
   "cell_type": "code",
   "execution_count": 48,
   "metadata": {
    "collapsed": false
   },
   "outputs": [
    {
     "name": "stdout",
     "output_type": "stream",
     "text": [
      "+---------+\n",
      "|something|\n",
      "+---------+\n",
      "|       48|\n",
      "+---------+\n",
      "\n"
     ]
    }
   ],
   "source": [
    "d.agg(fn.approxCountDistinct(d.Slope).alias('something')).show()"
   ]
  },
  {
   "cell_type": "code",
   "execution_count": 49,
   "metadata": {
    "collapsed": true
   },
   "outputs": [],
   "source": [
    "from pyspark.ml.classification import LogisticRegression"
   ]
  },
  {
   "cell_type": "code",
   "execution_count": 50,
   "metadata": {
    "collapsed": true
   },
   "outputs": [],
   "source": [
    "from pyspark.ml.feature import VectorAssembler"
   ]
  },
  {
   "cell_type": "code",
   "execution_count": 52,
   "metadata": {
    "collapsed": false
   },
   "outputs": [],
   "source": [
    "feature_maker = VectorAssembler(inputCols=column_names[:-1], outputCol='features')"
   ]
  },
  {
   "cell_type": "code",
   "execution_count": 53,
   "metadata": {
    "collapsed": true
   },
   "outputs": [],
   "source": [
    "data = feature_maker.transform(cover)"
   ]
  },
  {
   "cell_type": "code",
   "execution_count": 57,
   "metadata": {
    "collapsed": false
   },
   "outputs": [
    {
     "name": "stdout",
     "output_type": "stream",
     "text": [
      "+--------------------+-----+-----+\n",
      "|            features|Slope|Cover|\n",
      "+--------------------+-----+-----+\n",
      "|(54,[0,1,2,3,5,6,...|  3.0|  5.0|\n",
      "|(54,[0,1,2,3,4,5,...|  2.0|  5.0|\n",
      "|(54,[0,1,2,3,4,5,...|  9.0|  2.0|\n",
      "|(54,[0,1,2,3,4,5,...| 18.0|  2.0|\n",
      "|(54,[0,1,2,3,4,5,...|  2.0|  5.0|\n",
      "+--------------------+-----+-----+\n",
      "only showing top 5 rows\n",
      "\n"
     ]
    }
   ],
   "source": [
    "data.select(data.features, data.Slope, data.Cover).show(5)"
   ]
  },
  {
   "cell_type": "code",
   "execution_count": 56,
   "metadata": {
    "collapsed": true
   },
   "outputs": [],
   "source": [
    "train, test = data.randomSplit([0.7, 0.3])"
   ]
  },
  {
   "cell_type": "code",
   "execution_count": 58,
   "metadata": {
    "collapsed": true
   },
   "outputs": [],
   "source": [
    "model = LogisticRegression(labelCol='Cover').fit(train)"
   ]
  },
  {
   "cell_type": "code",
   "execution_count": 59,
   "metadata": {
    "collapsed": true
   },
   "outputs": [],
   "source": [
    "coefs = model.coefficientMatrix.toArray()"
   ]
  },
  {
   "cell_type": "code",
   "execution_count": 61,
   "metadata": {
    "collapsed": false
   },
   "outputs": [
    {
     "data": {
      "text/plain": [
       "(8, 54)"
      ]
     },
     "execution_count": 61,
     "metadata": {},
     "output_type": "execute_result"
    }
   ],
   "source": [
    "coefs.shape"
   ]
  },
  {
   "cell_type": "code",
   "execution_count": 62,
   "metadata": {
    "collapsed": true
   },
   "outputs": [],
   "source": [
    "result = model.evaluate(test.sample(False, 0.05))"
   ]
  },
  {
   "cell_type": "code",
   "execution_count": 64,
   "metadata": {
    "collapsed": false
   },
   "outputs": [
    {
     "data": {
      "text/plain": [
       "<pyspark.ml.classification.BinaryLogisticRegressionSummary at 0x1064c0e90>"
      ]
     },
     "execution_count": 64,
     "metadata": {},
     "output_type": "execute_result"
    }
   ],
   "source": [
    "result"
   ]
  },
  {
   "cell_type": "code",
   "execution_count": 66,
   "metadata": {
    "collapsed": false
   },
   "outputs": [
    {
     "data": {
      "text/plain": [
       "[Row(avg(hit)=0.7086649478757987)]"
      ]
     },
     "execution_count": 66,
     "metadata": {},
     "output_type": "execute_result"
    }
   ],
   "source": [
    "result.predictions.select((result.predictions.Cover == result.predictions.prediction)\n",
    "                          .cast('float')\n",
    "                         .alias('hit')).groupBy().avg('hit').collect()"
   ]
  },
  {
   "cell_type": "code",
   "execution_count": 69,
   "metadata": {
    "collapsed": false
   },
   "outputs": [
    {
     "name": "stdout",
     "output_type": "stream",
     "text": [
      "\n"
     ]
    }
   ],
   "source": [
    "import numpy as np"
   ]
  },
  {
   "cell_type": "code",
   "execution_count": 71,
   "metadata": {
    "collapsed": false
   },
   "outputs": [
    {
     "name": "stdout",
     "output_type": "stream",
     "text": [
      "Elevation 0.998739748413\n",
      "Aspect 0.998182311193\n",
      "Slope 1.02920048515\n",
      "Horizontal_Distance_To_Hydrology 1.00208448584\n",
      "Vertical_Distance_To_Hydrology 0.998001498166\n",
      "Horizontal_Distance_To_Roadways 1.00030684315\n",
      "Hillshade_9am 1.02035298941\n",
      "Hillshade_Noon 0.984295792007\n",
      "Hillshade_3pm 1.0271114252\n",
      "Horizontal_Distance_To_Fire_Points 1.0001157526\n",
      "WE0 6.13674205711\n",
      "WE1 11.4434102778\n",
      "WE2 0.824356857213\n",
      "WE3 0.155403612971\n",
      "ST0 0.00518709308815\n",
      "ST1 0.179522099546\n",
      "ST2 1.28841677742\n",
      "ST3 0.159033823322\n",
      "ST4 0.00614101704753\n",
      "ST5 0.981202195547\n",
      "ST6 137.625303867\n",
      "ST7 5.46674578273\n",
      "ST8 5.73466556291\n",
      "ST9 0.590531743108\n",
      "ST10 0.863037455641\n",
      "ST11 7.82342394636\n",
      "ST12 2.98653763648\n",
      "ST13 0.000357413052072\n",
      "ST14 0.0232091350345\n",
      "ST15 0.30166210055\n",
      "ST16 0.17585337187\n",
      "ST17 1.19147513859\n",
      "ST18 2.10281120579\n",
      "ST19 1.97626422507\n",
      "ST20 0.586171600041\n",
      "ST21 4.1156065864\n",
      "ST22 1.85514385024\n",
      "ST23 2.89629321994\n",
      "ST24 20.3524799919\n",
      "ST25 6.73890141643\n",
      "ST26 6.30867092648\n",
      "ST27 6.71003985812\n",
      "ST28 1.47701839421\n",
      "ST29 1.17018664863\n",
      "ST30 3.3405290204\n",
      "ST31 2.75756618158\n",
      "ST32 2.4121955919\n",
      "ST33 3.49487346736\n",
      "ST34 0.0255169398678\n",
      "ST35 3.15511868633\n",
      "ST36 0.0116269538367\n",
      "ST37 0.656812085492\n",
      "ST38 0.570617040451\n",
      "ST39 0.606693615776\n"
     ]
    }
   ],
   "source": [
    "for name, c in zip(column_names, coefs[2,:]):\n",
    "    print name, np.exp(c)"
   ]
  },
  {
   "cell_type": "code",
   "execution_count": null,
   "metadata": {
    "collapsed": true
   },
   "outputs": [],
   "source": []
  }
 ],
 "metadata": {
  "kernelspec": {
   "display_name": "Python 2",
   "language": "python",
   "name": "python2"
  },
  "language_info": {
   "codemirror_mode": {
    "name": "ipython",
    "version": 2
   },
   "file_extension": ".py",
   "mimetype": "text/x-python",
   "name": "python",
   "nbconvert_exporter": "python",
   "pygments_lexer": "ipython2",
   "version": "2.7.10"
  }
 },
 "nbformat": 4,
 "nbformat_minor": 2
}
