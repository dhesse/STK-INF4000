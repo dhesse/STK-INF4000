{
 "cells": [
  {
   "cell_type": "code",
   "execution_count": 4,
   "metadata": {
    "collapsed": false
   },
   "outputs": [],
   "source": [
    "import requests"
   ]
  },
  {
   "cell_type": "code",
   "execution_count": 5,
   "metadata": {
    "collapsed": false
   },
   "outputs": [],
   "source": [
    "url = ('https://en.wikipedia.org/w/api.php?'\n",
    "       'action=query&titles=Main%20Page&prop=revisions'\n",
    "       '&rvprop=content&format=json')\n",
    "result = requests.get(url)"
   ]
  },
  {
   "cell_type": "code",
   "execution_count": 6,
   "metadata": {
    "collapsed": false
   },
   "outputs": [
    {
     "data": {
      "text/plain": [
       "<Response [200]>"
      ]
     },
     "execution_count": 6,
     "metadata": {},
     "output_type": "execute_result"
    }
   ],
   "source": [
    "result"
   ]
  },
  {
   "cell_type": "code",
   "execution_count": 7,
   "metadata": {
    "collapsed": true
   },
   "outputs": [
    {
     "data": {
      "text/plain": [
       "u'{\"batchcomplete\":\"\",\"query\":{\"pages\":{\"15580374\":{\"pageid\":15580374,\"ns\":0,\"title\":\"Main Page\",\"revisions\":[{\"contentformat\":\"text/x-wiki\",\"contentmodel\":\"wikitext\",\"*\":\"<!--        BANNER ACROSS TOP OF PAGE        -->\\\\n{| id=\\\\\"mp-topbanner\\\\\" style=\\\\\"width:100%; background:#f9f9f9; margin:1.2em 0 6px 0; border:1px solid #ddd;\\\\\"\\\\n| style=\\\\\"width:61%; color:#000;\\\\\" |\\\\n<!--        \\\\\"WELCOME TO WIKIPEDIA\\\\\" AND ARTICLE COUNT        -->\\\\n{| style=\\\\\"width:280px; border:none; background:none;\\\\\"\\\\n| style=\\\\\"width:280px; text-align:center; white-space:nowrap; color:#000;\\\\\" |\\\\n<div style=\\\\\"font-size:162%; border:none; margin:0; padding:.1em; color:#000;\\\\\">Welcome to [[Wikipedia]],</div>\\\\n<div style=\\\\\"top:+0.2em; font-size:95%;\\\\\">the [[free content|free]] [[encyclopedia]] that [[Wikipedia:Introduction|anyone can edit]].</div>\\\\n<div id=\\\\\"articlecount\\\\\" style=\\\\\"font-size:85%;\\\\\">[[Special:Statistics|{{NUMBEROFARTICLES}}]] articles in [[English language|English]]</div>\\\\n|}\\\\n<!--        PORTAL LIST ON RIGHT-HAND SIDE        -->\\\\n| style=\\\\\"width:13%; font-size:95%;\\\\\" |\\\\n* [[Portal:Arts|Arts]]\\\\n* [[Portal:Biography|Biography]]\\\\n* [[Portal:Geography|Geography]]\\\\n| style=\\\\\"width:13%; font-size:95%;\\\\\" |\\\\n* [[Portal:History|History]]\\\\n* [[Portal:Mathematics|Mathematics]]\\\\n* [[Portal:Science|Science]]\\\\n| style=\\\\\"width:13%; font-size:95%;\\\\\" |\\\\n* [[Portal:Society|Society]]\\\\n* [[Portal:Technology|Technology]]\\\\n* \\'\\'\\'[[Portal:Contents/Portals|All portals]]\\'\\'\\'\\\\n|}\\\\n<!--        MAIN PAGE BANNER        -->\\\\n{{#if:{{Main Page banner}}|\\\\n<table id=\\\\\"mp-banner\\\\\" style=\\\\\"width: 100%; margin:4px 0 0 0; background:none; border-spacing: 0px;\\\\\">\\\\n<tr><td class=\\\\\"MainPageBG\\\\\" style=\\\\\"padding:8px; background-color:#fffaf5; border:1px solid #f2e0ce; color:#000; font-size:100%;\\\\\">{{Main Page banner}}\\\\n</td></tr>\\\\n</table>\\\\n}}\\\\n<!--        TODAY\\'S FEATURED CONTENT        -->\\\\n{| id=\\\\\"mp-upper\\\\\" style=\\\\\"width: 100%; margin:4px 0 0 0; background:none; border-spacing: 0px;\\\\\"\\\\n<!--        TODAY\\'S FEATURED ARTICLE; DID YOU KNOW        -->\\\\n| class=\\\\\"MainPageBG\\\\\" style=\\\\\"width:55%; border:1px solid #cef2e0; background:#f5fffa; vertical-align:top; color:#000;\\\\\" |\\\\n{| id=\\\\\"mp-left\\\\\" style=\\\\\"width:100%; vertical-align:top; background:#f5fffa;\\\\\"\\\\n| style=\\\\\"padding:2px;\\\\\" | <h2 id=\\\\\"mp-tfa-h2\\\\\" style=\\\\\"margin:3px; background:#cef2e0; font-family:inherit; font-size:120%; font-weight:bold; border:1px solid #a3bfb1; text-align:left; color:#000; padding:0.2em 0.4em;\\\\\">{{#ifexpr:{{formatnum:{{PAGESIZE:Wikipedia:Today\\'s featured article/{{#time:F j, Y}}}}|R}}>150|From today\\'s featured article|Featured article <span style=\\\\\"font-size:85%; font-weight:normal;\\\\\">(Check back later for today\\'s.)</span>}}</h2>\\\\n|-\\\\n| style=\\\\\"color:#000;\\\\\" | <div id=\\\\\"mp-tfa\\\\\" style=\\\\\"padding:2px 5px\\\\\">{{#ifexpr:{{formatnum:{{PAGESIZE:Wikipedia:Today\\'s featured article/{{#time:F j, Y}}}}|R}}>150|{{Wikipedia:Today\\'s featured article/{{#time:F j, Y}}}}|{{Wikipedia:Today\\'s featured article/{{#time:F j, Y|-1 day}}}}}}</div>\\\\n|-\\\\n| style=\\\\\"padding:2px;\\\\\" | <h2 id=\\\\\"mp-dyk-h2\\\\\" style=\\\\\"margin:3px; background:#cef2e0; font-family:inherit; font-size:120%; font-weight:bold; border:1px solid #a3bfb1; text-align:left; color:#000; padding:0.2em 0.4em;\\\\\">Did you know...</h2>\\\\n|-\\\\n| style=\\\\\"color:#000; padding:2px 5px 5px;\\\\\" | <div id=\\\\\"mp-dyk\\\\\">{{Did you know}}</div>\\\\n|}\\\\n| style=\\\\\"border:1px solid transparent;\\\\\" |\\\\n<!--        IN THE NEWS and ON THIS DAY        -->\\\\n| class=\\\\\"MainPageBG\\\\\" style=\\\\\"width:45%; border:1px solid #cedff2; background:#f5faff; vertical-align:top;\\\\\"|\\\\n{| id=\\\\\"mp-right\\\\\" style=\\\\\"width:100%; vertical-align:top; background:#f5faff;\\\\\"\\\\n| style=\\\\\"padding:2px;\\\\\" | <h2 id=\\\\\"mp-itn-h2\\\\\" style=\\\\\"margin:3px; background:#cedff2; font-family:inherit; font-size:120%; font-weight:bold; border:1px solid #a3b0bf; text-align:left; color:#000; padding:0.2em 0.4em;\\\\\">In the news</h2>\\\\n|-\\\\n| style=\\\\\"color:#000; padding:2px 5px;\\\\\" | <div id=\\\\\"mp-itn\\\\\">{{In the news}}</div>\\\\n|-\\\\n| style=\\\\\"padding:2px;\\\\\" | <h2 id=\\\\\"mp-otd-h2\\\\\" style=\\\\\"margin:3px; background:#cedff2; font-family:inherit; font-size:120%; font-weight:bold; border:1px solid #a3b0bf; text-align:left; color:#000; padding:0.2em 0.4em;\\\\\">On this day...</h2>\\\\n|-\\\\n| style=\\\\\"color:#000; padding:2px 5px 5px;\\\\\" | <div id=\\\\\"mp-otd\\\\\">{{Wikipedia:Selected anniversaries/{{#time:F j}}}}</div>\\\\n|}\\\\n|}\\\\n<!--        TODAY\\'S FEATURED LIST        --><!-- CONDITIONAL SHOW -->{{#switch:{{CURRENTDAYNAME}}|Monday|Friday=\\\\n<table id=\\\\\"mp-middle\\\\\" style=\\\\\"width:100%; margin:4px 0 0 0; background:none; border-spacing: 0px;\\\\\">\\\\n<tr>\\\\n<td class=\\\\\"MainPageBG\\\\\" style=\\\\\"width:100%; border:1px solid #f2cedd; background:#fff5fa; vertical-align:top; color:#000;\\\\\">\\\\n<table id=\\\\\"mp-center\\\\\" style=\\\\\"width:100%; vertical-align:top; background:#fff5fa; color:#000;\\\\\">\\\\n<tr>\\\\n<td style=\\\\\"padding:2px;\\\\\"><h2 id=\\\\\"mp-tfl-h2\\\\\" style=\\\\\"margin:3px; background:#f2cedd; font-family:inherit; font-size:120%; font-weight:bold; border:1px solid #bfa3af; text-align:left; color:#000; padding:0.2em 0.4em\\\\\">From today\\'s featured list</h2></td>\\\\n</tr><tr>\\\\n<td style=\\\\\"color:#000;\\\\\"><div id=\\\\\"mp-tfl\\\\\" style=\\\\\"padding:2px 5px;\\\\\">{{#ifexist:Wikipedia:Today\\'s featured list/{{#time:F j, Y}}|{{Wikipedia:Today\\'s featured list/{{#time:F j, Y}}}}|{{TFLempty}}}}</div></td>\\\\n</tr>\\\\n</table>\\\\n</td>\\\\n</tr>\\\\n</table>|}}<!-- END CONDITIONAL SHOW -->\\\\n<!--        TODAY\\'S FEATURED PICTURE        -->\\\\n{| id=\\\\\"mp-lower\\\\\" style=\\\\\"margin:4px 0 0 0; width:100%; background:none; border-spacing: 0px;\\\\\"\\\\n| class=\\\\\"MainPageBG\\\\\" style=\\\\\"width:100%; border:1px solid #ddcef2; background:#faf5ff; vertical-align:top; color:#000;\\\\\" |\\\\n{| id=\\\\\"mp-bottom\\\\\" style=\\\\\"width:100%; vertical-align:top; background:#faf5ff; color:#000;\\\\\"\\\\n| style=\\\\\"padding:2px;\\\\\" | <h2 id=\\\\\"mp-tfp-h2\\\\\" style=\\\\\"margin:3px; background:#ddcef2; font-family:inherit; font-size:120%; font-weight:bold; border:1px solid #afa3bf; text-align:left; color:#000; padding:0.2em 0.4em\\\\\">{{#ifexist:Template:POTD protected/{{#time:Y-m-d}}|Today\\'s featured picture | Featured picture&ensp;<span style=\\\\\"font-size:85%; font-weight:normal;\\\\\">(Check back later for today\\'s.)</span>}}</h2>\\\\n|-\\\\n| style=\\\\\"color:#000; padding:2px;\\\\\" | <div id=\\\\\"mp-tfp\\\\\">{{#ifexist:Template:POTD protected/{{#time:Y-m-d}}|{{POTD protected/{{#time:Y-m-d}}}}|{{POTD protected/{{#time:Y-m-d|-1 day}}}}}}</div>\\\\n|}\\\\n|}\\\\n<!--        SECTIONS AT BOTTOM OF PAGE        -->\\\\n<div id=\\\\\"mp-other\\\\\" style=\\\\\"padding-top:4px; padding-bottom:2px;\\\\\">\\\\n== Other areas of Wikipedia ==\\\\n{{Other areas of Wikipedia}}\\\\n</div><div id=\\\\\"mp-sister\\\\\">\\\\n== Wikipedia\\'s sister projects ==\\\\n{{Wikipedia\\'s sister projects}}\\\\n</div><div id=\\\\\"mp-lang\\\\\">\\\\n== Wikipedia languages ==\\\\n{{Wikipedia languages}}\\\\n</div>\\\\n<!--        INTERWIKI STRAPLINE        -->\\\\n<noinclude>{{Main Page interwikis}}{{noexternallanglinks}}{{#if:{{Wikipedia:Main_Page/Tomorrow}}||}}</noinclude>__NOTOC____NOEDITSECTION__\"}]}}}}'"
      ]
     },
     "execution_count": 7,
     "metadata": {},
     "output_type": "execute_result"
    }
   ],
   "source": [
    "result.text"
   ]
  },
  {
   "cell_type": "code",
   "execution_count": null,
   "metadata": {
    "collapsed": true
   },
   "outputs": [],
   "source": [
    "result.json()"
   ]
  },
  {
   "cell_type": "code",
   "execution_count": null,
   "metadata": {
    "collapsed": false
   },
   "outputs": [],
   "source": [
    "base_url = 'https://en.wikipedia.org/w/api.php'\n",
    "parameters = dict(action = 'query',\n",
    "                  titles = 'Main Page',\n",
    "                  prop = 'revisions',\n",
    "                  rvprop = 'content')\n",
    "parameters['format'] = 'json' # annoying"
   ]
  },
  {
   "cell_type": "code",
   "execution_count": null,
   "metadata": {
    "collapsed": false,
    "scrolled": true
   },
   "outputs": [],
   "source": [
    "requests.get(base_url, params=parameters).json()"
   ]
  },
  {
   "cell_type": "code",
   "execution_count": null,
   "metadata": {
    "collapsed": true
   },
   "outputs": [],
   "source": [
    "parameters = {'action': 'query',\n",
    "              'list': 'categorymembers',\n",
    "              'cmtitle': 'Category:Death-related_lists',\n",
    "              'cmtype': 'page',\n",
    "              'format': 'json'}\n",
    "result = requests.get(base_url, params=parameters)"
   ]
  },
  {
   "cell_type": "code",
   "execution_count": null,
   "metadata": {
    "collapsed": false
   },
   "outputs": [],
   "source": [
    "result.status_code"
   ]
  },
  {
   "cell_type": "markdown",
   "metadata": {},
   "source": [
    "# Status codes:\n",
    "\n",
    "- 1xx: Info\n",
    "- 2xx: Success (200: OK)\n",
    "- 3xx: Redirect\n",
    "- 4xx: Client Error\n",
    "- 5xx: Server Error"
   ]
  },
  {
   "cell_type": "code",
   "execution_count": null,
   "metadata": {
    "collapsed": false
   },
   "outputs": [],
   "source": [
    "result_json = result.json()\n",
    "print result_json"
   ]
  },
  {
   "cell_type": "code",
   "execution_count": null,
   "metadata": {
    "collapsed": true
   },
   "outputs": [],
   "source": [
    "import json"
   ]
  },
  {
   "cell_type": "code",
   "execution_count": null,
   "metadata": {
    "collapsed": false
   },
   "outputs": [],
   "source": [
    "print json.dumps(result_json, indent=2)"
   ]
  },
  {
   "cell_type": "markdown",
   "metadata": {},
   "source": [
    "# Pagination"
   ]
  },
  {
   "cell_type": "code",
   "execution_count": null,
   "metadata": {
    "collapsed": true
   },
   "outputs": [],
   "source": [
    "parameter_copy = parameters.copy()\n",
    "parameter_copy['cmcontinue'] = result_json['continue']['cmcontinue']"
   ]
  },
  {
   "cell_type": "code",
   "execution_count": null,
   "metadata": {
    "collapsed": false
   },
   "outputs": [],
   "source": [
    "print json.dumps(requests.get(base_url, params=parameter_copy).json(), indent=2)"
   ]
  },
  {
   "cell_type": "markdown",
   "metadata": {},
   "source": [
    "# Beyond JSON\n",
    "\n",
    "- Prefer JSON\n",
    "    - Plays nicely with python.\n",
    "    - Easy to stash e.g. in MongoDB.\n",
    "    - Easy to pass on.\n",
    "- But Python has libraries for nearly everything..."
   ]
  },
  {
   "cell_type": "code",
   "execution_count": null,
   "metadata": {
    "collapsed": false
   },
   "outputs": [],
   "source": [
    "parameter_copy['format'] = 'xml'\n",
    "requests.get(base_url, params=parameter_copy).text"
   ]
  },
  {
   "cell_type": "code",
   "execution_count": null,
   "metadata": {
    "collapsed": true
   },
   "outputs": [],
   "source": [
    "import xml.etree.ElementTree as eltree"
   ]
  },
  {
   "cell_type": "code",
   "execution_count": null,
   "metadata": {
    "collapsed": false
   },
   "outputs": [],
   "source": [
    "xmltree = eltree.fromstring(requests.get(base_url, params=parameter_copy).text)"
   ]
  },
  {
   "cell_type": "code",
   "execution_count": null,
   "metadata": {
    "collapsed": false
   },
   "outputs": [],
   "source": [
    "for cm in xmltree.find('query').find('categorymembers').findall('cm'):\n",
    "    print cm.get('title'), cm.get('pageid')"
   ]
  }
 ],
 "metadata": {
  "kernelspec": {
   "display_name": "Python 2",
   "language": "python",
   "name": "python2"
  },
  "language_info": {
   "codemirror_mode": {
    "name": "ipython",
    "version": 2
   },
   "file_extension": ".py",
   "mimetype": "text/x-python",
   "name": "python",
   "nbconvert_exporter": "python",
   "pygments_lexer": "ipython2",
   "version": "2.7.10"
  }
 },
 "nbformat": 4,
 "nbformat_minor": 2
}
