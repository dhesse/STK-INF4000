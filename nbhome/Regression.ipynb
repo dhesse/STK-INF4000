{
 "cells": [
  {
   "cell_type": "code",
   "execution_count": null,
   "metadata": {
    "collapsed": false
   },
   "outputs": [],
   "source": [
    "from scipy.optimize import curve_fit\n",
    "import pandas"
   ]
  },
  {
   "cell_type": "code",
   "execution_count": null,
   "metadata": {
    "collapsed": false
   },
   "outputs": [],
   "source": [
    "data = pandas.read_csv('data/winequality-red.csv', sep=';')"
   ]
  },
  {
   "cell_type": "code",
   "execution_count": null,
   "metadata": {
    "collapsed": false
   },
   "outputs": [],
   "source": [
    "data.head()"
   ]
  },
  {
   "cell_type": "code",
   "execution_count": null,
   "metadata": {
    "collapsed": false
   },
   "outputs": [],
   "source": [
    "data.cov()"
   ]
  },
  {
   "cell_type": "code",
   "execution_count": null,
   "metadata": {
    "collapsed": false
   },
   "outputs": [],
   "source": [
    "data.columns"
   ]
  },
  {
   "cell_type": "code",
   "execution_count": null,
   "metadata": {
    "collapsed": false
   },
   "outputs": [],
   "source": [
    "variables = [u'fixed acidity', u'volatile acidity', u'citric acid',\n",
    "       u'residual sugar', u'chlorides', u'free sulfur dioxide',\n",
    "       u'total sulfur dioxide', u'density', u'pH', u'sulphates', u'alcohol']"
   ]
  },
  {
   "cell_type": "markdown",
   "metadata": {},
   "source": [
    "## The Numpy Way"
   ]
  },
  {
   "cell_type": "code",
   "execution_count": null,
   "metadata": {
    "collapsed": false
   },
   "outputs": [],
   "source": [
    "import numpy as np"
   ]
  },
  {
   "cell_type": "code",
   "execution_count": null,
   "metadata": {
    "collapsed": false
   },
   "outputs": [],
   "source": [
    "X = data[variables].values\n",
    "N, p = X.shape\n",
    "X = np.hstack((np.repeat(1, N).reshape(-1,1), X))\n",
    "XTXi = np.linalg.inv(np.dot(X.transpose(), X))\n",
    "theta = np.dot(np.dot(XTXi, X.transpose()), data['quality'])"
   ]
  },
  {
   "cell_type": "code",
   "execution_count": null,
   "metadata": {
    "collapsed": false
   },
   "outputs": [],
   "source": [
    "theta"
   ]
  },
  {
   "cell_type": "code",
   "execution_count": null,
   "metadata": {
    "collapsed": false
   },
   "outputs": [],
   "source": [
    "sigma = 1. / (N - p - 1) * sum((f(data, *theta) - data['quality'])**2)\n",
    "var_theta = np.dot(XTXi, sigma)"
   ]
  },
  {
   "cell_type": "code",
   "execution_count": null,
   "metadata": {
    "collapsed": false
   },
   "outputs": [],
   "source": [
    "d_theta = np.sqrt(var_theta.diagonal())"
   ]
  },
  {
   "cell_type": "code",
   "execution_count": null,
   "metadata": {
    "collapsed": false
   },
   "outputs": [],
   "source": [
    "from scipy.stats import t"
   ]
  },
  {
   "cell_type": "code",
   "execution_count": null,
   "metadata": {
    "collapsed": false
   },
   "outputs": [],
   "source": [
    "print \" \".join([\"{:>12}\".format(i) for i in ('name', 'coef', 'std', 't value', 'Pr(>|t|)')])\n",
    "for c, dc, name in zip(theta, d_theta, ['const.'] + variables):\n",
    "    print \"{:>12}\".format(name[:10]),\n",
    "    print \" \".join([\"{:>12f}\".format(i) for i in (c, dc, c/dc)]),\n",
    "    Pz = 2*t.sf(abs(c/dc), len(data) - 5)\n",
    "    if Pz < 1e-16:\n",
    "        print \" {:>10}\".format(\"< 1e-16\"),\n",
    "    else:\n",
    "        print \" {:>10.2e}\".format(Pz),\n",
    "    if Pz < 0.05:\n",
    "        print \"***\"\n",
    "    else:\n",
    "        print"
   ]
  },
  {
   "cell_type": "markdown",
   "metadata": {},
   "source": [
    "## The Scipy Way"
   ]
  },
  {
   "cell_type": "code",
   "execution_count": null,
   "metadata": {
    "collapsed": false
   },
   "outputs": [],
   "source": [
    "def f(x, t0, *thetas):\n",
    "    return t0 + sum(theta*x[var] for theta, var in zip(thetas, variables))"
   ]
  },
  {
   "cell_type": "code",
   "execution_count": null,
   "metadata": {
    "collapsed": false
   },
   "outputs": [],
   "source": [
    "res = curve_fit(f, data, data['quality'], [0]*(1 + len(variables)))"
   ]
  },
  {
   "cell_type": "code",
   "execution_count": null,
   "metadata": {
    "collapsed": false
   },
   "outputs": [],
   "source": [
    "beta, pcov = res"
   ]
  },
  {
   "cell_type": "code",
   "execution_count": null,
   "metadata": {
    "collapsed": false
   },
   "outputs": [],
   "source": [
    "beta"
   ]
  },
  {
   "cell_type": "code",
   "execution_count": null,
   "metadata": {
    "collapsed": false
   },
   "outputs": [],
   "source": [
    "pcov.diagonal()"
   ]
  },
  {
   "cell_type": "code",
   "execution_count": null,
   "metadata": {
    "collapsed": false
   },
   "outputs": [],
   "source": [
    "sigmab = np.sqrt(pcov.diagonal())"
   ]
  },
  {
   "cell_type": "markdown",
   "metadata": {},
   "source": [
    "# Subset Selection and Shrinkage\n",
    "\n",
    "## Best Subsets"
   ]
  },
  {
   "cell_type": "code",
   "execution_count": null,
   "metadata": {
    "collapsed": false
   },
   "outputs": [],
   "source": [
    "from itertools import combinations\n",
    "from sklearn.linear_model import LinearRegression"
   ]
  },
  {
   "cell_type": "code",
   "execution_count": null,
   "metadata": {
    "collapsed": false
   },
   "outputs": [],
   "source": [
    "from sklearn.model_selection import train_test_split"
   ]
  },
  {
   "cell_type": "code",
   "execution_count": null,
   "metadata": {
    "collapsed": false
   },
   "outputs": [],
   "source": [
    "train, test = train_test_split(data, test_size=0.2)"
   ]
  },
  {
   "cell_type": "code",
   "execution_count": null,
   "metadata": {
    "collapsed": false
   },
   "outputs": [],
   "source": [
    "def LinRSS(X, y):\n",
    "    f = LinearRegression().fit(X, y)\n",
    "    return sum((f.predict(X) - y)**2)"
   ]
  },
  {
   "cell_type": "code",
   "execution_count": null,
   "metadata": {
    "collapsed": false
   },
   "outputs": [],
   "source": [
    "RSS = {}\n",
    "for i in range(1, len(variables) + 1):\n",
    "    RSS[i] = {}\n",
    "    for subset in combinations(variables, i):\n",
    "        RSS[i][subset] = LinRSS(data[list(subset)], data['quality'])"
   ]
  },
  {
   "cell_type": "code",
   "execution_count": null,
   "metadata": {
    "collapsed": false
   },
   "outputs": [],
   "source": [
    "for i in RSS:\n",
    "    plt.plot([i]*len(RSS[i]), RSS[i].values(), 'o', color='grey')\n",
    "    plt.plot([i], min(RSS[i].values()), 'o')"
   ]
  },
  {
   "cell_type": "markdown",
   "metadata": {},
   "source": [
    "## Forward stepwise"
   ]
  },
  {
   "cell_type": "code",
   "execution_count": null,
   "metadata": {
    "collapsed": false
   },
   "outputs": [],
   "source": [
    "RSS_fwd = []\n",
    "current = []\n",
    "while len(current) != len(variables):\n",
    "    candidates = [v for v in variables if v not in current]\n",
    "    RSS_new = pandas.Series([LinRSS(data[current + [c]], data.quality)\n",
    "                             for c in candidates], index=candidates)\n",
    "    RSS_fwd.append(RSS_new.min())\n",
    "    current.append(RSS_new.idxmin())"
   ]
  },
  {
   "cell_type": "code",
   "execution_count": null,
   "metadata": {
    "collapsed": false
   },
   "outputs": [],
   "source": [
    "current, RSS_fwd"
   ]
  },
  {
   "cell_type": "code",
   "execution_count": null,
   "metadata": {
    "collapsed": false
   },
   "outputs": [],
   "source": [
    "plt.plot(RSS_fwd, '.')\n",
    "plt.plot([min(RSS[i].values()) for i in RSS], '.')"
   ]
  },
  {
   "cell_type": "markdown",
   "metadata": {},
   "source": [
    "## Backward Stepwise"
   ]
  },
  {
   "cell_type": "code",
   "execution_count": null,
   "metadata": {
    "collapsed": false
   },
   "outputs": [],
   "source": [
    "current = list(variables)\n",
    "RSS_bwd = []\n",
    "while len(current) > 1:\n",
    "    RSS_current = pandas.Series([LinRSS(data[[i for i in current if i != c]], data.quality) for c in current],\n",
    "                               index=current)\n",
    "    current.remove(RSS_current.idxmin())\n",
    "    RSS_bwd.append(RSS_current.min())"
   ]
  },
  {
   "cell_type": "code",
   "execution_count": null,
   "metadata": {
    "collapsed": false
   },
   "outputs": [],
   "source": [
    "plt.plot(RSS_bwd[::-1])\n",
    "plt.plot(RSS_fwd)"
   ]
  },
  {
   "cell_type": "markdown",
   "metadata": {},
   "source": [
    "## Ignore This"
   ]
  },
  {
   "cell_type": "code",
   "execution_count": null,
   "metadata": {
    "collapsed": false
   },
   "outputs": [],
   "source": [
    "def D(theta):\n",
    "    return f(data, *theta) - data.quality"
   ]
  },
  {
   "cell_type": "code",
   "execution_count": null,
   "metadata": {
    "collapsed": false
   },
   "outputs": [],
   "source": [
    "from scipy.optimize import leastsq"
   ]
  },
  {
   "cell_type": "code",
   "execution_count": null,
   "metadata": {
    "collapsed": false
   },
   "outputs": [],
   "source": [
    "res = leastsq(D, [0]*(1 + len(variables)), full_output=True)"
   ]
  },
  {
   "cell_type": "code",
   "execution_count": null,
   "metadata": {
    "collapsed": false
   },
   "outputs": [],
   "source": [
    "(res[1] * np.sum((res[2]['fvec'])**2)/len(data.quality)).diagonal()"
   ]
  },
  {
   "cell_type": "code",
   "execution_count": null,
   "metadata": {
    "collapsed": false
   },
   "outputs": [],
   "source": [
    "beta, pcov.diagonal()"
   ]
  },
  {
   "cell_type": "markdown",
   "metadata": {},
   "source": [
    "## Ridge\n",
    "\n",
    "### Center data points"
   ]
  },
  {
   "cell_type": "markdown",
   "metadata": {},
   "source": [
    " name         coef          std      t value     Pr(>|t|)\n",
    "      const.    21.965208    21.194575     1.036360    3.00e-01\n",
    "  fixed acid     0.024991     0.025949     0.963083    3.36e-01\n",
    "  volatile a    -1.083590     0.121101    -8.947802     < 1e-16 ***\n",
    "  citric aci    -0.182564     0.147176    -1.240445    2.15e-01\n",
    "  residual s     0.016331     0.015002     1.088599    2.76e-01\n",
    "   chlorides    -1.874225     0.419283    -4.470070    8.37e-06 ***\n",
    "  free sulfu     0.004361     0.002171     2.008635    4.47e-02 ***\n",
    "  total sulf    -0.003265     0.000729    -4.479830    8.00e-06 ***\n",
    "     density   -17.881164    21.633100    -0.826565    4.09e-01\n",
    "          pH    -0.413653     0.191597    -2.158971    3.10e-02 ***\n",
    "   sulphates     0.916334     0.114337     8.014297    2.12e-15 ***\n",
    "     alcohol     0.276198     0.026484    10.429014     < 1e-16 ***\n"
   ]
  },
  {
   "cell_type": "code",
   "execution_count": null,
   "metadata": {
    "collapsed": false
   },
   "outputs": [],
   "source": [
    "variables"
   ]
  },
  {
   "cell_type": "code",
   "execution_count": null,
   "metadata": {
    "collapsed": false
   },
   "outputs": [],
   "source": [
    "variables = [u'volatile acidity',\n",
    "             u'chlorides',\n",
    "             u'free sulfur dioxide',\n",
    " u'total sulfur dioxide',\n",
    "             u'pH',\n",
    " u'sulphates',\n",
    " u'alcohol']"
   ]
  },
  {
   "cell_type": "code",
   "execution_count": null,
   "metadata": {
    "collapsed": false
   },
   "outputs": [],
   "source": [
    "data = pandas.read_csv('data/winequality-red.csv', sep=';')\n",
    "for column in variables:\n",
    "    mean, sigma = data[column].mean(), data[column].std()\n",
    "    data[column] = (data[column] - mean) / sigma"
   ]
  },
  {
   "cell_type": "code",
   "execution_count": null,
   "metadata": {
    "collapsed": false
   },
   "outputs": [],
   "source": [
    "theta0 = np.mean(data['quality'])"
   ]
  },
  {
   "cell_type": "code",
   "execution_count": null,
   "metadata": {
    "collapsed": false
   },
   "outputs": [],
   "source": [
    "train, test = train_test_split(data, test_size=0.2)"
   ]
  },
  {
   "cell_type": "code",
   "execution_count": null,
   "metadata": {
    "collapsed": false
   },
   "outputs": [],
   "source": [
    "def f_ridge(x, *thetas):\n",
    "    return theta0 + sum(theta*x[var] for theta, var in zip(thetas, variables))"
   ]
  },
  {
   "cell_type": "code",
   "execution_count": null,
   "metadata": {
    "collapsed": false
   },
   "outputs": [],
   "source": [
    "def ridge(l):\n",
    "    def D_ridge(theta):\n",
    "        fev = f_ridge(data, *theta) - data['quality']\n",
    "        return np.concatenate((fev, [l*(t**2) for t in theta]))\n",
    "    return D_ridge"
   ]
  },
  {
   "cell_type": "code",
   "execution_count": null,
   "metadata": {
    "collapsed": false
   },
   "outputs": [],
   "source": [
    "leastsq(ridge(1e-2), [0]*len(variables))"
   ]
  },
  {
   "cell_type": "code",
   "execution_count": null,
   "metadata": {
    "collapsed": false
   },
   "outputs": [],
   "source": [
    "def dof_eff(l):\n",
    "    X = train[variables].values\n",
    "    N, p = X.shape\n",
    "    XTXi = np.linalg.inv(np.dot(X.transpose(), X) + np.identity(p) * l)\n",
    "    return np.dot(np.dot(X, XTXi), X.transpose()).trace()"
   ]
  },
  {
   "cell_type": "code",
   "execution_count": null,
   "metadata": {
    "collapsed": false
   },
   "outputs": [],
   "source": [
    "from scipy.optimize import minimize_scalar"
   ]
  },
  {
   "cell_type": "code",
   "execution_count": null,
   "metadata": {
    "collapsed": false
   },
   "outputs": [],
   "source": [
    "dof = np.arange(2, 10, 0.5)\n",
    "lambdas = [minimize_scalar(lambda l: (dof_eff(l) - d)**2).x for d in dof]"
   ]
  },
  {
   "cell_type": "code",
   "execution_count": null,
   "metadata": {
    "collapsed": false
   },
   "outputs": [],
   "source": [
    "plt.plot(dof, lambdas, 'o')\n",
    "plt.yscale('log')"
   ]
  },
  {
   "cell_type": "code",
   "execution_count": null,
   "metadata": {
    "collapsed": false
   },
   "outputs": [],
   "source": [
    "MSE = []\n",
    "thetas = []\n",
    "for l in lambdas:\n",
    "    theta, jac, d, msg, ok = leastsq(ridge(l), [0]*len(variables), full_output=True)\n",
    "    thetas.append(theta)\n",
    "    MSE.append(np.mean((data['quality'] - f_ridge(data, *theta))**2))"
   ]
  },
  {
   "cell_type": "code",
   "execution_count": null,
   "metadata": {
    "collapsed": false
   },
   "outputs": [],
   "source": [
    "import matplotlib.pyplot as plt\n",
    "%matplotlib inline"
   ]
  },
  {
   "cell_type": "code",
   "execution_count": null,
   "metadata": {
    "collapsed": false
   },
   "outputs": [],
   "source": [
    "for i in range(len(variables)):\n",
    "    plt.plot(dof, [theta[i] for theta in thetas], '.', label=variables[i])\n",
    "#plt.legend(loc='lower left')"
   ]
  },
  {
   "cell_type": "code",
   "execution_count": null,
   "metadata": {
    "collapsed": false
   },
   "outputs": [],
   "source": [
    "plt.plot(dof, MSE, 'o')\n",
    "plt.plot(RSS.keys(), [min(RSS[i].values())/len(data.quality) for i in RSS.keys()], 'o')"
   ]
  },
  {
   "cell_type": "code",
   "execution_count": null,
   "metadata": {
    "collapsed": false
   },
   "outputs": [],
   "source": [
    "from scipy.optimize import minimize"
   ]
  },
  {
   "cell_type": "code",
   "execution_count": null,
   "metadata": {
    "collapsed": false
   },
   "outputs": [],
   "source": []
  }
 ],
 "metadata": {
  "kernelspec": {
   "display_name": "Python 2",
   "language": "python",
   "name": "python2"
  },
  "language_info": {
   "codemirror_mode": {
    "name": "ipython",
    "version": 2
   },
   "file_extension": ".py",
   "mimetype": "text/x-python",
   "name": "python",
   "nbconvert_exporter": "python",
   "pygments_lexer": "ipython2",
   "version": "2.7.10"
  }
 },
 "nbformat": 4,
 "nbformat_minor": 2
}
