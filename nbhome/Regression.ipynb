{
 "cells": [
  {
   "cell_type": "code",
   "execution_count": 761,
   "metadata": {
    "collapsed": true
   },
   "outputs": [],
   "source": [
    "from scipy.optimize import curve_fit\n",
    "import pandas"
   ]
  },
  {
   "cell_type": "code",
   "execution_count": 762,
   "metadata": {
    "collapsed": false
   },
   "outputs": [],
   "source": [
    "data = pandas.read_csv('data/winequality-red.csv', sep=';')"
   ]
  },
  {
   "cell_type": "code",
   "execution_count": 562,
   "metadata": {
    "collapsed": false
   },
   "outputs": [
    {
     "data": {
      "text/html": [
       "<div>\n",
       "<table border=\"1\" class=\"dataframe\">\n",
       "  <thead>\n",
       "    <tr style=\"text-align: right;\">\n",
       "      <th></th>\n",
       "      <th>fixed acidity</th>\n",
       "      <th>volatile acidity</th>\n",
       "      <th>citric acid</th>\n",
       "      <th>residual sugar</th>\n",
       "      <th>chlorides</th>\n",
       "      <th>free sulfur dioxide</th>\n",
       "      <th>total sulfur dioxide</th>\n",
       "      <th>density</th>\n",
       "      <th>pH</th>\n",
       "      <th>sulphates</th>\n",
       "      <th>alcohol</th>\n",
       "      <th>quality</th>\n",
       "    </tr>\n",
       "  </thead>\n",
       "  <tbody>\n",
       "    <tr>\n",
       "      <th>0</th>\n",
       "      <td>7.4</td>\n",
       "      <td>0.70</td>\n",
       "      <td>0.00</td>\n",
       "      <td>1.9</td>\n",
       "      <td>0.076</td>\n",
       "      <td>11.0</td>\n",
       "      <td>34.0</td>\n",
       "      <td>0.9978</td>\n",
       "      <td>3.51</td>\n",
       "      <td>0.56</td>\n",
       "      <td>9.4</td>\n",
       "      <td>5</td>\n",
       "    </tr>\n",
       "    <tr>\n",
       "      <th>1</th>\n",
       "      <td>7.8</td>\n",
       "      <td>0.88</td>\n",
       "      <td>0.00</td>\n",
       "      <td>2.6</td>\n",
       "      <td>0.098</td>\n",
       "      <td>25.0</td>\n",
       "      <td>67.0</td>\n",
       "      <td>0.9968</td>\n",
       "      <td>3.20</td>\n",
       "      <td>0.68</td>\n",
       "      <td>9.8</td>\n",
       "      <td>5</td>\n",
       "    </tr>\n",
       "    <tr>\n",
       "      <th>2</th>\n",
       "      <td>7.8</td>\n",
       "      <td>0.76</td>\n",
       "      <td>0.04</td>\n",
       "      <td>2.3</td>\n",
       "      <td>0.092</td>\n",
       "      <td>15.0</td>\n",
       "      <td>54.0</td>\n",
       "      <td>0.9970</td>\n",
       "      <td>3.26</td>\n",
       "      <td>0.65</td>\n",
       "      <td>9.8</td>\n",
       "      <td>5</td>\n",
       "    </tr>\n",
       "    <tr>\n",
       "      <th>3</th>\n",
       "      <td>11.2</td>\n",
       "      <td>0.28</td>\n",
       "      <td>0.56</td>\n",
       "      <td>1.9</td>\n",
       "      <td>0.075</td>\n",
       "      <td>17.0</td>\n",
       "      <td>60.0</td>\n",
       "      <td>0.9980</td>\n",
       "      <td>3.16</td>\n",
       "      <td>0.58</td>\n",
       "      <td>9.8</td>\n",
       "      <td>6</td>\n",
       "    </tr>\n",
       "    <tr>\n",
       "      <th>4</th>\n",
       "      <td>7.4</td>\n",
       "      <td>0.70</td>\n",
       "      <td>0.00</td>\n",
       "      <td>1.9</td>\n",
       "      <td>0.076</td>\n",
       "      <td>11.0</td>\n",
       "      <td>34.0</td>\n",
       "      <td>0.9978</td>\n",
       "      <td>3.51</td>\n",
       "      <td>0.56</td>\n",
       "      <td>9.4</td>\n",
       "      <td>5</td>\n",
       "    </tr>\n",
       "  </tbody>\n",
       "</table>\n",
       "</div>"
      ],
      "text/plain": [
       "   fixed acidity  volatile acidity  citric acid  residual sugar  chlorides  \\\n",
       "0            7.4              0.70         0.00             1.9      0.076   \n",
       "1            7.8              0.88         0.00             2.6      0.098   \n",
       "2            7.8              0.76         0.04             2.3      0.092   \n",
       "3           11.2              0.28         0.56             1.9      0.075   \n",
       "4            7.4              0.70         0.00             1.9      0.076   \n",
       "\n",
       "   free sulfur dioxide  total sulfur dioxide  density    pH  sulphates  \\\n",
       "0                 11.0                  34.0   0.9978  3.51       0.56   \n",
       "1                 25.0                  67.0   0.9968  3.20       0.68   \n",
       "2                 15.0                  54.0   0.9970  3.26       0.65   \n",
       "3                 17.0                  60.0   0.9980  3.16       0.58   \n",
       "4                 11.0                  34.0   0.9978  3.51       0.56   \n",
       "\n",
       "   alcohol  quality  \n",
       "0      9.4        5  \n",
       "1      9.8        5  \n",
       "2      9.8        5  \n",
       "3      9.8        6  \n",
       "4      9.4        5  "
      ]
     },
     "execution_count": 562,
     "metadata": {},
     "output_type": "execute_result"
    }
   ],
   "source": [
    "data.head()"
   ]
  },
  {
   "cell_type": "code",
   "execution_count": 709,
   "metadata": {
    "collapsed": false
   },
   "outputs": [
    {
     "data": {
      "text/html": [
       "<div>\n",
       "<table border=\"1\" class=\"dataframe\">\n",
       "  <thead>\n",
       "    <tr style=\"text-align: right;\">\n",
       "      <th></th>\n",
       "      <th>fixed acidity</th>\n",
       "      <th>volatile acidity</th>\n",
       "      <th>citric acid</th>\n",
       "      <th>residual sugar</th>\n",
       "      <th>chlorides</th>\n",
       "      <th>free sulfur dioxide</th>\n",
       "      <th>total sulfur dioxide</th>\n",
       "      <th>density</th>\n",
       "      <th>pH</th>\n",
       "      <th>sulphates</th>\n",
       "      <th>alcohol</th>\n",
       "      <th>quality</th>\n",
       "    </tr>\n",
       "  </thead>\n",
       "  <tbody>\n",
       "    <tr>\n",
       "      <th>fixed acidity</th>\n",
       "      <td>3.031416</td>\n",
       "      <td>-0.079851</td>\n",
       "      <td>0.227820</td>\n",
       "      <td>0.281756</td>\n",
       "      <td>0.007679</td>\n",
       "      <td>-2.800921</td>\n",
       "      <td>-6.482346</td>\n",
       "      <td>0.002195</td>\n",
       "      <td>-0.183586</td>\n",
       "      <td>0.054010</td>\n",
       "      <td>-0.114421</td>\n",
       "      <td>0.174424</td>\n",
       "    </tr>\n",
       "    <tr>\n",
       "      <th>volatile acidity</th>\n",
       "      <td>-0.079851</td>\n",
       "      <td>0.032062</td>\n",
       "      <td>-0.019272</td>\n",
       "      <td>0.000484</td>\n",
       "      <td>0.000517</td>\n",
       "      <td>-0.019674</td>\n",
       "      <td>0.450426</td>\n",
       "      <td>0.000007</td>\n",
       "      <td>0.006495</td>\n",
       "      <td>-0.007921</td>\n",
       "      <td>-0.038600</td>\n",
       "      <td>-0.056476</td>\n",
       "    </tr>\n",
       "    <tr>\n",
       "      <th>citric acid</th>\n",
       "      <td>0.227820</td>\n",
       "      <td>-0.019272</td>\n",
       "      <td>0.037947</td>\n",
       "      <td>0.039434</td>\n",
       "      <td>0.001869</td>\n",
       "      <td>-0.124252</td>\n",
       "      <td>0.227697</td>\n",
       "      <td>0.000134</td>\n",
       "      <td>-0.016298</td>\n",
       "      <td>0.010328</td>\n",
       "      <td>0.022815</td>\n",
       "      <td>0.035612</td>\n",
       "    </tr>\n",
       "    <tr>\n",
       "      <th>residual sugar</th>\n",
       "      <td>0.281756</td>\n",
       "      <td>0.000484</td>\n",
       "      <td>0.039434</td>\n",
       "      <td>1.987897</td>\n",
       "      <td>0.003690</td>\n",
       "      <td>2.758611</td>\n",
       "      <td>9.416441</td>\n",
       "      <td>0.000945</td>\n",
       "      <td>-0.018644</td>\n",
       "      <td>0.001321</td>\n",
       "      <td>0.063219</td>\n",
       "      <td>0.015635</td>\n",
       "    </tr>\n",
       "    <tr>\n",
       "      <th>chlorides</th>\n",
       "      <td>0.007679</td>\n",
       "      <td>0.000517</td>\n",
       "      <td>0.001869</td>\n",
       "      <td>0.003690</td>\n",
       "      <td>0.002215</td>\n",
       "      <td>0.002738</td>\n",
       "      <td>0.073387</td>\n",
       "      <td>0.000018</td>\n",
       "      <td>-0.001926</td>\n",
       "      <td>0.002962</td>\n",
       "      <td>-0.011092</td>\n",
       "      <td>-0.004900</td>\n",
       "    </tr>\n",
       "    <tr>\n",
       "      <th>free sulfur dioxide</th>\n",
       "      <td>-2.800921</td>\n",
       "      <td>-0.019674</td>\n",
       "      <td>-0.124252</td>\n",
       "      <td>2.758611</td>\n",
       "      <td>0.002738</td>\n",
       "      <td>109.414884</td>\n",
       "      <td>229.737521</td>\n",
       "      <td>-0.000433</td>\n",
       "      <td>0.113653</td>\n",
       "      <td>0.091592</td>\n",
       "      <td>-0.773698</td>\n",
       "      <td>-0.427907</td>\n",
       "    </tr>\n",
       "    <tr>\n",
       "      <th>total sulfur dioxide</th>\n",
       "      <td>-6.482346</td>\n",
       "      <td>0.450426</td>\n",
       "      <td>0.227697</td>\n",
       "      <td>9.416441</td>\n",
       "      <td>0.073387</td>\n",
       "      <td>229.737521</td>\n",
       "      <td>1082.102373</td>\n",
       "      <td>0.004425</td>\n",
       "      <td>-0.337699</td>\n",
       "      <td>0.239471</td>\n",
       "      <td>-7.209298</td>\n",
       "      <td>-4.917237</td>\n",
       "    </tr>\n",
       "    <tr>\n",
       "      <th>density</th>\n",
       "      <td>0.002195</td>\n",
       "      <td>0.000007</td>\n",
       "      <td>0.000134</td>\n",
       "      <td>0.000945</td>\n",
       "      <td>0.000018</td>\n",
       "      <td>-0.000433</td>\n",
       "      <td>0.004425</td>\n",
       "      <td>0.000004</td>\n",
       "      <td>-0.000100</td>\n",
       "      <td>0.000048</td>\n",
       "      <td>-0.000998</td>\n",
       "      <td>-0.000267</td>\n",
       "    </tr>\n",
       "    <tr>\n",
       "      <th>pH</th>\n",
       "      <td>-0.183586</td>\n",
       "      <td>0.006495</td>\n",
       "      <td>-0.016298</td>\n",
       "      <td>-0.018644</td>\n",
       "      <td>-0.001926</td>\n",
       "      <td>0.113653</td>\n",
       "      <td>-0.337699</td>\n",
       "      <td>-0.000100</td>\n",
       "      <td>0.023835</td>\n",
       "      <td>-0.005146</td>\n",
       "      <td>0.033832</td>\n",
       "      <td>-0.007198</td>\n",
       "    </tr>\n",
       "    <tr>\n",
       "      <th>sulphates</th>\n",
       "      <td>0.054010</td>\n",
       "      <td>-0.007921</td>\n",
       "      <td>0.010328</td>\n",
       "      <td>0.001321</td>\n",
       "      <td>0.002962</td>\n",
       "      <td>0.091592</td>\n",
       "      <td>0.239471</td>\n",
       "      <td>0.000048</td>\n",
       "      <td>-0.005146</td>\n",
       "      <td>0.028733</td>\n",
       "      <td>0.016907</td>\n",
       "      <td>0.034413</td>\n",
       "    </tr>\n",
       "    <tr>\n",
       "      <th>alcohol</th>\n",
       "      <td>-0.114421</td>\n",
       "      <td>-0.038600</td>\n",
       "      <td>0.022815</td>\n",
       "      <td>0.063219</td>\n",
       "      <td>-0.011092</td>\n",
       "      <td>-0.773698</td>\n",
       "      <td>-7.209298</td>\n",
       "      <td>-0.000998</td>\n",
       "      <td>0.033832</td>\n",
       "      <td>0.016907</td>\n",
       "      <td>1.135647</td>\n",
       "      <td>0.409789</td>\n",
       "    </tr>\n",
       "    <tr>\n",
       "      <th>quality</th>\n",
       "      <td>0.174424</td>\n",
       "      <td>-0.056476</td>\n",
       "      <td>0.035612</td>\n",
       "      <td>0.015635</td>\n",
       "      <td>-0.004900</td>\n",
       "      <td>-0.427907</td>\n",
       "      <td>-4.917237</td>\n",
       "      <td>-0.000267</td>\n",
       "      <td>-0.007198</td>\n",
       "      <td>0.034413</td>\n",
       "      <td>0.409789</td>\n",
       "      <td>0.652168</td>\n",
       "    </tr>\n",
       "  </tbody>\n",
       "</table>\n",
       "</div>"
      ],
      "text/plain": [
       "                      fixed acidity  volatile acidity  citric acid  \\\n",
       "fixed acidity              3.031416         -0.079851     0.227820   \n",
       "volatile acidity          -0.079851          0.032062    -0.019272   \n",
       "citric acid                0.227820         -0.019272     0.037947   \n",
       "residual sugar             0.281756          0.000484     0.039434   \n",
       "chlorides                  0.007679          0.000517     0.001869   \n",
       "free sulfur dioxide       -2.800921         -0.019674    -0.124252   \n",
       "total sulfur dioxide      -6.482346          0.450426     0.227697   \n",
       "density                    0.002195          0.000007     0.000134   \n",
       "pH                        -0.183586          0.006495    -0.016298   \n",
       "sulphates                  0.054010         -0.007921     0.010328   \n",
       "alcohol                   -0.114421         -0.038600     0.022815   \n",
       "quality                    0.174424         -0.056476     0.035612   \n",
       "\n",
       "                      residual sugar  chlorides  free sulfur dioxide  \\\n",
       "fixed acidity               0.281756   0.007679            -2.800921   \n",
       "volatile acidity            0.000484   0.000517            -0.019674   \n",
       "citric acid                 0.039434   0.001869            -0.124252   \n",
       "residual sugar              1.987897   0.003690             2.758611   \n",
       "chlorides                   0.003690   0.002215             0.002738   \n",
       "free sulfur dioxide         2.758611   0.002738           109.414884   \n",
       "total sulfur dioxide        9.416441   0.073387           229.737521   \n",
       "density                     0.000945   0.000018            -0.000433   \n",
       "pH                         -0.018644  -0.001926             0.113653   \n",
       "sulphates                   0.001321   0.002962             0.091592   \n",
       "alcohol                     0.063219  -0.011092            -0.773698   \n",
       "quality                     0.015635  -0.004900            -0.427907   \n",
       "\n",
       "                      total sulfur dioxide   density        pH  sulphates  \\\n",
       "fixed acidity                    -6.482346  0.002195 -0.183586   0.054010   \n",
       "volatile acidity                  0.450426  0.000007  0.006495  -0.007921   \n",
       "citric acid                       0.227697  0.000134 -0.016298   0.010328   \n",
       "residual sugar                    9.416441  0.000945 -0.018644   0.001321   \n",
       "chlorides                         0.073387  0.000018 -0.001926   0.002962   \n",
       "free sulfur dioxide             229.737521 -0.000433  0.113653   0.091592   \n",
       "total sulfur dioxide           1082.102373  0.004425 -0.337699   0.239471   \n",
       "density                           0.004425  0.000004 -0.000100   0.000048   \n",
       "pH                               -0.337699 -0.000100  0.023835  -0.005146   \n",
       "sulphates                         0.239471  0.000048 -0.005146   0.028733   \n",
       "alcohol                          -7.209298 -0.000998  0.033832   0.016907   \n",
       "quality                          -4.917237 -0.000267 -0.007198   0.034413   \n",
       "\n",
       "                       alcohol   quality  \n",
       "fixed acidity        -0.114421  0.174424  \n",
       "volatile acidity     -0.038600 -0.056476  \n",
       "citric acid           0.022815  0.035612  \n",
       "residual sugar        0.063219  0.015635  \n",
       "chlorides            -0.011092 -0.004900  \n",
       "free sulfur dioxide  -0.773698 -0.427907  \n",
       "total sulfur dioxide -7.209298 -4.917237  \n",
       "density              -0.000998 -0.000267  \n",
       "pH                    0.033832 -0.007198  \n",
       "sulphates             0.016907  0.034413  \n",
       "alcohol               1.135647  0.409789  \n",
       "quality               0.409789  0.652168  "
      ]
     },
     "execution_count": 709,
     "metadata": {},
     "output_type": "execute_result"
    }
   ],
   "source": [
    "data.cov()"
   ]
  },
  {
   "cell_type": "code",
   "execution_count": 220,
   "metadata": {
    "collapsed": false
   },
   "outputs": [
    {
     "data": {
      "text/plain": [
       "Index([u'fixed acidity', u'volatile acidity', u'citric acid',\n",
       "       u'residual sugar', u'chlorides', u'free sulfur dioxide',\n",
       "       u'total sulfur dioxide', u'density', u'pH', u'sulphates', u'alcohol',\n",
       "       u'quality'],\n",
       "      dtype='object')"
      ]
     },
     "execution_count": 220,
     "metadata": {},
     "output_type": "execute_result"
    }
   ],
   "source": [
    "data.columns"
   ]
  },
  {
   "cell_type": "code",
   "execution_count": 826,
   "metadata": {
    "collapsed": true
   },
   "outputs": [],
   "source": [
    "variables = [u'fixed acidity', u'volatile acidity', u'citric acid',\n",
    "       u'residual sugar', u'chlorides', u'free sulfur dioxide',\n",
    "       u'total sulfur dioxide', u'density', u'pH', u'sulphates', u'alcohol']"
   ]
  },
  {
   "cell_type": "markdown",
   "metadata": {},
   "source": [
    "## The Numpy Way"
   ]
  },
  {
   "cell_type": "code",
   "execution_count": 567,
   "metadata": {
    "collapsed": true
   },
   "outputs": [],
   "source": [
    "import numpy as np"
   ]
  },
  {
   "cell_type": "code",
   "execution_count": 763,
   "metadata": {
    "collapsed": false
   },
   "outputs": [],
   "source": [
    "X = data[variables].values\n",
    "N, p = X.shape\n",
    "X = np.hstack((np.repeat(1, N).reshape(-1,1), X))\n",
    "XTXi = np.linalg.inv(np.dot(X.transpose(), X))\n",
    "theta = np.dot(np.dot(XTXi, X.transpose()), data['quality'])"
   ]
  },
  {
   "cell_type": "code",
   "execution_count": 764,
   "metadata": {
    "collapsed": false
   },
   "outputs": [
    {
     "data": {
      "text/plain": [
       "array([  2.19652084e+01,   2.49905527e-02,  -1.08359026e+00,\n",
       "        -1.82563948e-01,   1.63312698e-02,  -1.87422516e+00,\n",
       "         4.36133331e-03,  -3.26457970e-03,  -1.78811638e+01,\n",
       "        -4.13653144e-01,   9.16334413e-01,   2.76197699e-01])"
      ]
     },
     "execution_count": 764,
     "metadata": {},
     "output_type": "execute_result"
    }
   ],
   "source": [
    "theta"
   ]
  },
  {
   "cell_type": "code",
   "execution_count": 765,
   "metadata": {
    "collapsed": true
   },
   "outputs": [],
   "source": [
    "sigma = 1. / (N - p - 1) * sum((f(data, *theta) - data['quality'])**2)\n",
    "var_theta = np.dot(XTXi, sigma)"
   ]
  },
  {
   "cell_type": "code",
   "execution_count": 778,
   "metadata": {
    "collapsed": false
   },
   "outputs": [],
   "source": [
    "d_theta = np.sqrt(var_theta.diagonal())"
   ]
  },
  {
   "cell_type": "code",
   "execution_count": 779,
   "metadata": {
    "collapsed": true
   },
   "outputs": [],
   "source": [
    "from scipy.stats import t"
   ]
  },
  {
   "cell_type": "code",
   "execution_count": 780,
   "metadata": {
    "collapsed": false
   },
   "outputs": [
    {
     "name": "stdout",
     "output_type": "stream",
     "text": [
      "        name         coef          std      t value     Pr(>|t|)\n",
      "      const.    21.965208    21.194575     1.036360    3.00e-01\n",
      "  fixed acid     0.024991     0.025949     0.963083    3.36e-01\n",
      "  volatile a    -1.083590     0.121101    -8.947802     < 1e-16 ***\n",
      "  citric aci    -0.182564     0.147176    -1.240445    2.15e-01\n",
      "  residual s     0.016331     0.015002     1.088599    2.76e-01\n",
      "   chlorides    -1.874225     0.419283    -4.470070    8.37e-06 ***\n",
      "  free sulfu     0.004361     0.002171     2.008635    4.47e-02 ***\n",
      "  total sulf    -0.003265     0.000729    -4.479830    8.00e-06 ***\n",
      "     density   -17.881164    21.633100    -0.826565    4.09e-01\n",
      "          pH    -0.413653     0.191597    -2.158971    3.10e-02 ***\n",
      "   sulphates     0.916334     0.114337     8.014297    2.12e-15 ***\n",
      "     alcohol     0.276198     0.026484    10.429014     < 1e-16 ***\n"
     ]
    }
   ],
   "source": [
    "print \" \".join([\"{:>12}\".format(i) for i in ('name', 'coef', 'std', 't value', 'Pr(>|t|)')])\n",
    "for c, dc, name in zip(theta, d_theta, ['const.'] + variables):\n",
    "    print \"{:>12}\".format(name[:10]),\n",
    "    print \" \".join([\"{:>12f}\".format(i) for i in (c, dc, c/dc)]),\n",
    "    Pz = 2*t.sf(abs(c/dc), len(data) - 5)\n",
    "    if Pz < 1e-16:\n",
    "        print \" {:>10}\".format(\"< 1e-16\"),\n",
    "    else:\n",
    "        print \" {:>10.2e}\".format(Pz),\n",
    "    if Pz < 0.05:\n",
    "        print \"***\"\n",
    "    else:\n",
    "        print"
   ]
  },
  {
   "cell_type": "markdown",
   "metadata": {},
   "source": [
    "## The Scipy Way"
   ]
  },
  {
   "cell_type": "code",
   "execution_count": 782,
   "metadata": {
    "collapsed": false
   },
   "outputs": [],
   "source": [
    "def f(x, t0, *thetas):\n",
    "    return t0 + sum(theta*x[var] for theta, var in zip(thetas, variables))"
   ]
  },
  {
   "cell_type": "code",
   "execution_count": 783,
   "metadata": {
    "collapsed": false
   },
   "outputs": [],
   "source": [
    "res = curve_fit(f, data, data['quality'], [0]*(1 + len(variables)))"
   ]
  },
  {
   "cell_type": "code",
   "execution_count": 784,
   "metadata": {
    "collapsed": true
   },
   "outputs": [],
   "source": [
    "beta, pcov = res"
   ]
  },
  {
   "cell_type": "code",
   "execution_count": 785,
   "metadata": {
    "collapsed": false
   },
   "outputs": [
    {
     "data": {
      "text/plain": [
       "array([  2.19653301e+01,   2.49906306e-02,  -1.08359008e+00,\n",
       "        -1.82563521e-01,   1.63314268e-02,  -1.87422509e+00,\n",
       "         4.36132687e-03,  -3.26457963e-03,  -1.78812884e+01,\n",
       "        -4.13652342e-01,   9.16334599e-01,   2.76197562e-01])"
      ]
     },
     "execution_count": 785,
     "metadata": {},
     "output_type": "execute_result"
    }
   ],
   "source": [
    "beta"
   ]
  },
  {
   "cell_type": "code",
   "execution_count": 786,
   "metadata": {
    "collapsed": false
   },
   "outputs": [
    {
     "data": {
      "text/plain": [
       "array([  4.49209945e+02,   6.73324475e-04,   1.46655176e-02,\n",
       "         2.16608296e-02,   2.25062886e-04,   1.75798399e-01,\n",
       "         4.71450769e-06,   5.31045264e-07,   4.67990950e+02,\n",
       "         3.67095651e-02,   1.30730555e-02,   7.01380731e-04])"
      ]
     },
     "execution_count": 786,
     "metadata": {},
     "output_type": "execute_result"
    }
   ],
   "source": [
    "pcov.diagonal()"
   ]
  },
  {
   "cell_type": "code",
   "execution_count": 787,
   "metadata": {
    "collapsed": false
   },
   "outputs": [],
   "source": [
    "sigmab = np.sqrt(pcov.diagonal())"
   ]
  },
  {
   "cell_type": "markdown",
   "metadata": {},
   "source": [
    "# Subset Selection and Shrinkage\n",
    "\n",
    "## Best Subsets"
   ]
  },
  {
   "cell_type": "code",
   "execution_count": 308,
   "metadata": {
    "collapsed": true
   },
   "outputs": [],
   "source": [
    "from itertools import combinations\n",
    "from sklearn.linear_model import LinearRegression"
   ]
  },
  {
   "cell_type": "code",
   "execution_count": 666,
   "metadata": {
    "collapsed": true
   },
   "outputs": [],
   "source": [
    "from sklearn.model_selection import train_test_split"
   ]
  },
  {
   "cell_type": "code",
   "execution_count": 716,
   "metadata": {
    "collapsed": true
   },
   "outputs": [],
   "source": [
    "train, test = train_test_split(data, test_size=0.2)"
   ]
  },
  {
   "cell_type": "code",
   "execution_count": 319,
   "metadata": {
    "collapsed": true
   },
   "outputs": [],
   "source": [
    "def LinRSS(X, y):\n",
    "    f = LinearRegression().fit(X, y)\n",
    "    return sum((f.predict(X) - y)**2)"
   ]
  },
  {
   "cell_type": "code",
   "execution_count": 320,
   "metadata": {
    "collapsed": false
   },
   "outputs": [],
   "source": [
    "RSS = {}\n",
    "for i in range(1, len(variables) + 1):\n",
    "    RSS[i] = {}\n",
    "    for subset in combinations(variables, i):\n",
    "        RSS[i][subset] = LinRSS(data[list(subset)], data['quality'])"
   ]
  },
  {
   "cell_type": "code",
   "execution_count": 791,
   "metadata": {
    "collapsed": false
   },
   "outputs": [
    {
     "data": {
      "image/png": "[encoded data removed]",
      "text/plain": [
       "<matplotlib.figure.Figure at 0x11520c550>"
      ]
     },
     "metadata": {},
     "output_type": "display_data"
    }
   ],
   "source": [
    "for i in RSS:\n",
    "    plt.plot([i]*len(RSS[i]), RSS[i].values(), 'o', color='grey')\n",
    "    plt.plot([i], min(RSS[i].values()), 'o')"
   ]
  },
  {
   "cell_type": "markdown",
   "metadata": {},
   "source": [
    "## Forward stepwise"
   ]
  },
  {
   "cell_type": "code",
   "execution_count": 347,
   "metadata": {
    "collapsed": false
   },
   "outputs": [],
   "source": [
    "RSS_fwd = []\n",
    "current = []\n",
    "while len(current) != len(variables):\n",
    "    candidates = [v for v in variables if v not in current]\n",
    "    RSS_new = pandas.Series([LinRSS(data[current + [c]], data.quality)\n",
    "                             for c in candidates], index=candidates)\n",
    "    RSS_fwd.append(RSS_new.min())\n",
    "    current.append(RSS_new.idxmin())"
   ]
  },
  {
   "cell_type": "code",
   "execution_count": 335,
   "metadata": {
    "collapsed": false
   },
   "outputs": [
    {
     "data": {
      "text/plain": [
       "([u'alcohol',\n",
       "  u'volatile acidity',\n",
       "  u'sulphates',\n",
       "  u'total sulfur dioxide',\n",
       "  u'chlorides',\n",
       "  u'pH',\n",
       "  u'free sulfur dioxide',\n",
       "  u'citric acid',\n",
       "  u'residual sugar',\n",
       "  u'fixed acidity',\n",
       "  u'density'],\n",
       " [805.87045704866068,\n",
       "  711.79623010230307,\n",
       "  692.10464256122589,\n",
       "  683.8870559473952,\n",
       "  675.8500738507106,\n",
       "  669.93119145569938,\n",
       "  667.53705905577419,\n",
       "  667.06225570453614,\n",
       "  666.80557525141273,\n",
       "  666.69759281696395,\n",
       "  666.41070038703242])"
      ]
     },
     "execution_count": 335,
     "metadata": {},
     "output_type": "execute_result"
    }
   ],
   "source": [
    "current, RSS_fwd"
   ]
  },
  {
   "cell_type": "code",
   "execution_count": 338,
   "metadata": {
    "collapsed": false
   },
   "outputs": [
    {
     "data": {
      "text/plain": [
       "[<matplotlib.lines.Line2D at 0x10da01b90>]"
      ]
     },
     "execution_count": 338,
     "metadata": {},
     "output_type": "execute_result"
    },
    {
     "data": {
      "image/png": "[encoded data removed]",
      "text/plain": [
       "<matplotlib.figure.Figure at 0x10dbddcd0>"
      ]
     },
     "metadata": {},
     "output_type": "display_data"
    }
   ],
   "source": [
    "plt.plot(RSS_fwd, '.')\n",
    "plt.plot([min(RSS[i].values()) for i in RSS], '.')"
   ]
  },
  {
   "cell_type": "markdown",
   "metadata": {},
   "source": [
    "## Backward Stepwise"
   ]
  },
  {
   "cell_type": "code",
   "execution_count": 349,
   "metadata": {
    "collapsed": false
   },
   "outputs": [],
   "source": [
    "current = list(variables)\n",
    "RSS_bwd = []\n",
    "while len(current) > 1:\n",
    "    RSS_current = pandas.Series([LinRSS(data[[i for i in current if i != c]], data.quality) for c in current],\n",
    "                               index=current)\n",
    "    current.remove(RSS_current.idxmin())\n",
    "    RSS_bwd.append(RSS_current.min())"
   ]
  },
  {
   "cell_type": "code",
   "execution_count": 350,
   "metadata": {
    "collapsed": false
   },
   "outputs": [
    {
     "data": {
      "text/plain": [
       "[<matplotlib.lines.Line2D at 0x10e66f150>]"
      ]
     },
     "execution_count": 350,
     "metadata": {},
     "output_type": "execute_result"
    },
    {
     "data": {
      "image/png": "[encoded data removed]",
      "text/plain": [
       "<matplotlib.figure.Figure at 0x10e66f350>"
      ]
     },
     "metadata": {},
     "output_type": "display_data"
    }
   ],
   "source": [
    "plt.plot(RSS_bwd[::-1])\n",
    "plt.plot(RSS_fwd)"
   ]
  },
  {
   "cell_type": "markdown",
   "metadata": {},
   "source": [
    "## Ignore This"
   ]
  },
  {
   "cell_type": "code",
   "execution_count": 295,
   "metadata": {
    "collapsed": true
   },
   "outputs": [],
   "source": [
    "def D(theta):\n",
    "    return f(data, *theta) - data.quality"
   ]
  },
  {
   "cell_type": "code",
   "execution_count": 296,
   "metadata": {
    "collapsed": true
   },
   "outputs": [],
   "source": [
    "from scipy.optimize import leastsq"
   ]
  },
  {
   "cell_type": "code",
   "execution_count": 790,
   "metadata": {
    "collapsed": false
   },
   "outputs": [],
   "source": [
    "res = leastsq(D, [0]*(1 + len(variables)), full_output=True)"
   ]
  },
  {
   "cell_type": "code",
   "execution_count": 305,
   "metadata": {
    "collapsed": false
   },
   "outputs": [
    {
     "data": {
      "text/plain": [
       "array([  4.45838763e+02,   6.68271383e-04,   1.45554574e-02,\n",
       "         2.14982718e-02,   2.23373859e-04,   1.74479086e-01,\n",
       "         4.67912677e-06,   5.27059934e-07,   4.64478823e+02,\n",
       "         3.64340712e-02,   1.29749463e-02,   6.96117086e-04])"
      ]
     },
     "execution_count": 305,
     "metadata": {},
     "output_type": "execute_result"
    }
   ],
   "source": [
    "(res[1] * np.sum((res[2]['fvec'])**2)/len(data.quality)).diagonal()"
   ]
  },
  {
   "cell_type": "code",
   "execution_count": 306,
   "metadata": {
    "collapsed": false
   },
   "outputs": [
    {
     "data": {
      "text/plain": [
       "(array([  2.19653301e+01,   2.49906306e-02,  -1.08359008e+00,\n",
       "         -1.82563521e-01,   1.63314268e-02,  -1.87422509e+00,\n",
       "          4.36132687e-03,  -3.26457963e-03,  -1.78812884e+01,\n",
       "         -4.13652342e-01,   9.16334599e-01,   2.76197562e-01]),\n",
       " array([  4.49209945e+02,   6.73324475e-04,   1.46655176e-02,\n",
       "          2.16608296e-02,   2.25062886e-04,   1.75798399e-01,\n",
       "          4.71450769e-06,   5.31045264e-07,   4.67990950e+02,\n",
       "          3.67095651e-02,   1.30730555e-02,   7.01380731e-04]))"
      ]
     },
     "execution_count": 306,
     "metadata": {},
     "output_type": "execute_result"
    }
   ],
   "source": [
    "beta, pcov.diagonal()"
   ]
  },
  {
   "cell_type": "markdown",
   "metadata": {},
   "source": [
    "## Ridge\n",
    "\n",
    "### Center data points"
   ]
  },
  {
   "cell_type": "markdown",
   "metadata": {},
   "source": [
    " name         coef          std      t value     Pr(>|t|)\n",
    "      const.    21.965208    21.194575     1.036360    3.00e-01\n",
    "  fixed acid     0.024991     0.025949     0.963083    3.36e-01\n",
    "  volatile a    -1.083590     0.121101    -8.947802     < 1e-16 ***\n",
    "  citric aci    -0.182564     0.147176    -1.240445    2.15e-01\n",
    "  residual s     0.016331     0.015002     1.088599    2.76e-01\n",
    "   chlorides    -1.874225     0.419283    -4.470070    8.37e-06 ***\n",
    "  free sulfu     0.004361     0.002171     2.008635    4.47e-02 ***\n",
    "  total sulf    -0.003265     0.000729    -4.479830    8.00e-06 ***\n",
    "     density   -17.881164    21.633100    -0.826565    4.09e-01\n",
    "          pH    -0.413653     0.191597    -2.158971    3.10e-02 ***\n",
    "   sulphates     0.916334     0.114337     8.014297    2.12e-15 ***\n",
    "     alcohol     0.276198     0.026484    10.429014     < 1e-16 ***\n"
   ]
  },
  {
   "cell_type": "code",
   "execution_count": 810,
   "metadata": {
    "collapsed": false
   },
   "outputs": [
    {
     "data": {
      "text/plain": [
       "[u'fixed acidity',\n",
       " u'volatile acidity',\n",
       " u'citric acid',\n",
       " u'residual sugar',\n",
       " u'chlorides',\n",
       " u'free sulfur dioxide',\n",
       " u'total sulfur dioxide',\n",
       " u'density',\n",
       " u'pH',\n",
       " u'sulphates',\n",
       " u'alcohol']"
      ]
     },
     "execution_count": 810,
     "metadata": {},
     "output_type": "execute_result"
    }
   ],
   "source": [
    "variables"
   ]
  },
  {
   "cell_type": "code",
   "execution_count": 811,
   "metadata": {
    "collapsed": true
   },
   "outputs": [],
   "source": [
    "variables = [u'volatile acidity',\n",
    "             u'chlorides',\n",
    "             u'free sulfur dioxide',\n",
    " u'total sulfur dioxide',\n",
    "             u'pH',\n",
    " u'sulphates',\n",
    " u'alcohol']"
   ]
  },
  {
   "cell_type": "code",
   "execution_count": 827,
   "metadata": {
    "collapsed": false
   },
   "outputs": [],
   "source": [
    "data = pandas.read_csv('data/winequality-red.csv', sep=';')\n",
    "for column in variables:\n",
    "    mean, sigma = data[column].mean(), data[column].std()\n",
    "    data[column] = (data[column] - mean) / sigma"
   ]
  },
  {
   "cell_type": "code",
   "execution_count": 828,
   "metadata": {
    "collapsed": true
   },
   "outputs": [],
   "source": [
    "theta0 = np.mean(data['quality'])"
   ]
  },
  {
   "cell_type": "code",
   "execution_count": 686,
   "metadata": {
    "collapsed": true
   },
   "outputs": [],
   "source": [
    "train, test = train_test_split(data, test_size=0.2)"
   ]
  },
  {
   "cell_type": "code",
   "execution_count": 829,
   "metadata": {
    "collapsed": true
   },
   "outputs": [],
   "source": [
    "def f_ridge(x, *thetas):\n",
    "    return theta0 + sum(theta*x[var] for theta, var in zip(thetas, variables))"
   ]
  },
  {
   "cell_type": "code",
   "execution_count": 830,
   "metadata": {
    "collapsed": false
   },
   "outputs": [],
   "source": [
    "def ridge(l):\n",
    "    def D_ridge(theta):\n",
    "        fev = f_ridge(data, *theta) - data['quality']\n",
    "        return np.concatenate((fev, [l*(t**2) for t in theta]))\n",
    "    return D_ridge"
   ]
  },
  {
   "cell_type": "code",
   "execution_count": 687,
   "metadata": {
    "collapsed": false
   },
   "outputs": [
    {
     "data": {
      "text/plain": [
       "(array([  1.28879117e-02,  -1.04734088e+00,  -1.97029505e-01,\n",
       "          2.33632187e-02,  -2.24399901e+00,   2.46455968e-03,\n",
       "         -2.84826241e-03,  -5.00294619e+00,  -5.05641627e-01,\n",
       "          9.58810022e-01,   3.05804337e-01]), 1)"
      ]
     },
     "execution_count": 687,
     "metadata": {},
     "output_type": "execute_result"
    }
   ],
   "source": [
    "leastsq(ridge(1e-2), [0]*len(variables))"
   ]
  },
  {
   "cell_type": "code",
   "execution_count": 831,
   "metadata": {
    "collapsed": false
   },
   "outputs": [],
   "source": [
    "def dof_eff(l):\n",
    "    X = train[variables].values\n",
    "    N, p = X.shape\n",
    "    XTXi = np.linalg.inv(np.dot(X.transpose(), X) + np.identity(p) * l)\n",
    "    return np.dot(np.dot(X, XTXi), X.transpose()).trace()"
   ]
  },
  {
   "cell_type": "code",
   "execution_count": 645,
   "metadata": {
    "collapsed": true
   },
   "outputs": [],
   "source": [
    "from scipy.optimize import minimize_scalar"
   ]
  },
  {
   "cell_type": "code",
   "execution_count": 832,
   "metadata": {
    "collapsed": false
   },
   "outputs": [],
   "source": [
    "dof = np.arange(2, 10, 0.5)\n",
    "lambdas = [minimize_scalar(lambda l: (dof_eff(l) - d)**2).x for d in dof]"
   ]
  },
  {
   "cell_type": "code",
   "execution_count": 840,
   "metadata": {
    "collapsed": false
   },
   "outputs": [
    {
     "data": {
      "image/png": "[encoded data removed]",
      "text/plain": [
       "<matplotlib.figure.Figure at 0x1146a8b50>"
      ]
     },
     "metadata": {},
     "output_type": "display_data"
    }
   ],
   "source": [
    "plt.plot(dof, lambdas, 'o')\n",
    "plt.yscale('log')"
   ]
  },
  {
   "cell_type": "code",
   "execution_count": 834,
   "metadata": {
    "collapsed": false
   },
   "outputs": [],
   "source": [
    "MSE = []\n",
    "thetas = []\n",
    "for l in lambdas:\n",
    "    theta, jac, d, msg, ok = leastsq(ridge(l), [0]*len(variables), full_output=True)\n",
    "    thetas.append(theta)\n",
    "    MSE.append(np.mean((data['quality'] - f_ridge(data, *theta))**2))"
   ]
  },
  {
   "cell_type": "code",
   "execution_count": 239,
   "metadata": {
    "collapsed": true
   },
   "outputs": [],
   "source": [
    "import matplotlib.pyplot as plt\n",
    "%matplotlib inline"
   ]
  },
  {
   "cell_type": "code",
   "execution_count": 843,
   "metadata": {
    "collapsed": false
   },
   "outputs": [
    {
     "data": {
      "image/png": "[encoded data removed]",
      "text/plain": [
       "<matplotlib.figure.Figure at 0x114057a90>"
      ]
     },
     "metadata": {},
     "output_type": "display_data"
    }
   ],
   "source": [
    "for i in range(len(variables)):\n",
    "    plt.plot(dof, [theta[i] for theta in thetas], '.', label=variables[i])\n",
    "#plt.legend(loc='lower left')"
   ]
  },
  {
   "cell_type": "code",
   "execution_count": 842,
   "metadata": {
    "collapsed": false
   },
   "outputs": [
    {
     "data": {
      "text/plain": [
       "[<matplotlib.lines.Line2D at 0x113d03ad0>]"
      ]
     },
     "execution_count": 842,
     "metadata": {},
     "output_type": "execute_result"
    },
    {
     "data": {
      "image/png": "[encoded data removed]",
      "text/plain": [
       "<matplotlib.figure.Figure at 0x113d03c50>"
      ]
     },
     "metadata": {},
     "output_type": "display_data"
    }
   ],
   "source": [
    "plt.plot(dof, MSE, 'o')\n",
    "plt.plot(RSS.keys(), [min(RSS[i].values())/len(data.quality) for i in RSS.keys()], 'o')"
   ]
  },
  {
   "cell_type": "code",
   "execution_count": 511,
   "metadata": {
    "collapsed": true
   },
   "outputs": [],
   "source": [
    "from scipy.optimize import minimize"
   ]
  },
  {
   "cell_type": "code",
   "execution_count": null,
   "metadata": {
    "collapsed": true
   },
   "outputs": [],
   "source": []
  }
 ],
 "metadata": {
  "kernelspec": {
   "display_name": "Python 2",
   "language": "python",
   "name": "python2"
  },
  "language_info": {
   "codemirror_mode": {
    "name": "ipython",
    "version": 2
   },
   "file_extension": ".py",
   "mimetype": "text/x-python",
   "name": "python",
   "nbconvert_exporter": "python",
   "pygments_lexer": "ipython2",
   "version": "2.7.12"
  }
 },
 "nbformat": 4,
 "nbformat_minor": 2
}
