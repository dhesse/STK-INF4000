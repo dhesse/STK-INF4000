{
 "cells": [
  {
   "cell_type": "code",
   "execution_count": null,
   "metadata": {
    "collapsed": true
   },
   "outputs": [],
   "source": [
    "from sklearn.model_selection import cross_val_score"
   ]
  },
  {
   "cell_type": "code",
   "execution_count": 3,
   "metadata": {
    "collapsed": true
   },
   "outputs": [],
   "source": [
    "?cross_val_score"
   ]
  },
  {
   "cell_type": "code",
   "execution_count": 7,
   "metadata": {
    "collapsed": true
   },
   "outputs": [],
   "source": [
    "import numpy as np"
   ]
  },
  {
   "cell_type": "code",
   "execution_count": 8,
   "metadata": {
    "collapsed": true
   },
   "outputs": [],
   "source": [
    "X = np.random.standard_normal(30*500).reshape(30, 500)"
   ]
  },
  {
   "cell_type": "code",
   "execution_count": 9,
   "metadata": {
    "collapsed": true
   },
   "outputs": [],
   "source": [
    "y = np.random.standard_normal(30) >= 0"
   ]
  },
  {
   "cell_type": "code",
   "execution_count": 10,
   "metadata": {
    "collapsed": true
   },
   "outputs": [],
   "source": [
    "from sklearn.feature_selection import SelectKBest, mutual_info_classif"
   ]
  },
  {
   "cell_type": "code",
   "execution_count": 11,
   "metadata": {
    "collapsed": true
   },
   "outputs": [],
   "source": [
    "Xp = SelectKBest(mutual_info_classif, k=5).fit_transform(X, y)"
   ]
  },
  {
   "cell_type": "code",
   "execution_count": 267,
   "metadata": {
    "collapsed": true
   },
   "outputs": [],
   "source": [
    "from sklearn.tree import DecisionTreeClassifier"
   ]
  },
  {
   "cell_type": "code",
   "execution_count": 13,
   "metadata": {},
   "outputs": [
    {
     "data": {
      "text/plain": [
       "0.59999999999999998"
      ]
     },
     "execution_count": 13,
     "metadata": {},
     "output_type": "execute_result"
    }
   ],
   "source": [
    "cross_val_score(DecisionTreeClassifier(max_depth=5), Xp, y, cv=10).mean()"
   ]
  },
  {
   "cell_type": "code",
   "execution_count": 14,
   "metadata": {
    "collapsed": true
   },
   "outputs": [],
   "source": [
    "depths = range(1, 10)"
   ]
  },
  {
   "cell_type": "code",
   "execution_count": 15,
   "metadata": {
    "collapsed": true
   },
   "outputs": [],
   "source": [
    "scores = [cross_val_score(DecisionTreeClassifier(max_depth=i), Xp, y, cv=5) for i in depths]"
   ]
  },
  {
   "cell_type": "code",
   "execution_count": 16,
   "metadata": {
    "collapsed": true
   },
   "outputs": [],
   "source": [
    "import matplotlib.pyplot as plt"
   ]
  },
  {
   "cell_type": "code",
   "execution_count": 17,
   "metadata": {
    "collapsed": true
   },
   "outputs": [],
   "source": [
    "%matplotlib inline"
   ]
  },
  {
   "cell_type": "code",
   "execution_count": 18,
   "metadata": {},
   "outputs": [
    {
     "data": {
      "text/plain": [
       "<Container object of 3 artists>"
      ]
     },
     "execution_count": 18,
     "metadata": {},
     "output_type": "execute_result"
    },
    {
     "data": {
      "image/png": "[encoded data removed]",
      "text/plain": [
       "<matplotlib.figure.Figure at 0x10978e2d0>"
      ]
     },
     "metadata": {},
     "output_type": "display_data"
    }
   ],
   "source": [
    "plt.errorbar(depths, [s.mean() for s in scores], yerr=[s.std() for s in scores], fmt='o')"
   ]
  },
  {
   "cell_type": "code",
   "execution_count": 19,
   "metadata": {
    "collapsed": true
   },
   "outputs": [],
   "source": [
    "from sklearn.pipeline import Pipeline"
   ]
  },
  {
   "cell_type": "code",
   "execution_count": 20,
   "metadata": {
    "collapsed": true
   },
   "outputs": [],
   "source": [
    "right_scores = []\n",
    "feature_selector = SelectKBest(mutual_info_classif, k=5)\n",
    "model = DecisionTreeClassifier()\n",
    "pipeline = Pipeline([('f_select', feature_selector),\n",
    "                     ('tree', model)])\n",
    "for d in depths:\n",
    "    pipeline.set_params(tree__max_depth=d)\n",
    "    right_scores.append(cross_val_score(pipeline, X, y, cv=5))"
   ]
  },
  {
   "cell_type": "code",
   "execution_count": 21,
   "metadata": {},
   "outputs": [
    {
     "data": {
      "text/plain": [
       "<Container object of 3 artists>"
      ]
     },
     "execution_count": 21,
     "metadata": {},
     "output_type": "execute_result"
    },
    {
     "data": {
      "image/png": "[encoded data removed]",
      "text/plain": [
       "<matplotlib.figure.Figure at 0x1097cb710>"
      ]
     },
     "metadata": {},
     "output_type": "display_data"
    }
   ],
   "source": [
    "plt.errorbar(depths, [s.mean() for s in right_scores], yerr=[s.std() for s in right_scores], fmt='o')"
   ]
  },
  {
   "cell_type": "code",
   "execution_count": 22,
   "metadata": {
    "collapsed": true
   },
   "outputs": [],
   "source": [
    "import pandas as pd"
   ]
  },
  {
   "cell_type": "code",
   "execution_count": 23,
   "metadata": {
    "collapsed": true
   },
   "outputs": [],
   "source": [
    "import re"
   ]
  },
  {
   "cell_type": "code",
   "execution_count": 139,
   "metadata": {
    "collapsed": true
   },
   "outputs": [
    {
     "name": "stdout",
     "output_type": "stream",
     "text": [
      "| SPAM E-MAIL DATABASE ATTRIBUTES (in .names format)\r\n",
      "|\r\n",
      "| 48 continuous real [0,100] attributes of type word_freq_WORD \r\n",
      "| = percentage of words in the e-mail that match WORD,\r\n",
      "| i.e. 100 * (number of times the WORD appears in the e-mail) / \r\n",
      "| total number of words in e-mail.  A \"word\" in this case is any \r\n",
      "| string of alphanumeric characters bounded by non-alphanumeric \r\n",
      "| characters or end-of-string.\r\n",
      "|\r\n",
      "| 6 continuous real [0,100] attributes of type char_freq_CHAR\r\n",
      "| = percentage of characters in the e-mail that match CHAR,\r\n",
      "| i.e. 100 * (number of CHAR occurences) / total characters in e-mail\r\n",
      "|\r\n",
      "| 1 continuous real [1,...] attribute of type capital_run_length_average\r\n",
      "| = average length of uninterrupted sequences of capital letters\r\n",
      "|\r\n",
      "| 1 continuous integer [1,...] attribute of type capital_run_length_longest\r\n",
      "| = length of longest uninterrupted sequence of capital letters\r\n",
      "|\r\n",
      "| 1 continuous integer [1,...] attribute of type capital_run_length_total\r\n",
      "| = sum of length of uninterrupted sequences of capital letters\r\n",
      "| = total number of capital letters in the e-mail\r\n",
      "|\r\n",
      "| 1 nominal {0,1} class attribute of type spam\r\n",
      "| = denotes whether the e-mail was considered spam (1) or not (0), \r\n",
      "| i.e. unsolicited commercial e-mail.  \r\n",
      "|\r\n",
      "| For more information, see file 'spambase.DOCUMENTATION' at the\r\n",
      "| UCI Machine Learning Repository: http://www.ics.uci.edu/~mlearn/MLRepository.html\r\n",
      "\r\n",
      "\r\n",
      "1, 0.    | spam, non-spam classes\r\n",
      "\r\n",
      "word_freq_make:         continuous.\r\n",
      "word_freq_address:      continuous.\r\n",
      "word_freq_all:          continuous.\r\n",
      "word_freq_3d:           continuous.\r\n",
      "word_freq_our:          continuous.\r\n",
      "word_freq_over:         continuous.\r\n",
      "word_freq_remove:       continuous.\r\n",
      "word_freq_internet:     continuous.\r\n",
      "word_freq_order:        continuous.\r\n",
      "word_freq_mail:         continuous.\r\n",
      "word_freq_receive:      continuous.\r\n",
      "word_freq_will:         continuous.\r\n",
      "word_freq_people:       continuous.\r\n",
      "word_freq_report:       continuous.\r\n",
      "word_freq_addresses:    continuous.\r\n",
      "word_freq_free:         continuous.\r\n",
      "word_freq_business:     continuous.\r\n",
      "word_freq_email:        continuous.\r\n",
      "word_freq_you:          continuous.\r\n",
      "word_freq_credit:       continuous.\r\n",
      "word_freq_your:         continuous.\r\n",
      "word_freq_font:         continuous.\r\n",
      "word_freq_000:          continuous.\r\n",
      "word_freq_money:        continuous.\r\n",
      "word_freq_hp:           continuous.\r\n",
      "word_freq_hpl:          continuous.\r\n",
      "word_freq_george:       continuous.\r\n",
      "word_freq_650:          continuous.\r\n",
      "word_freq_lab:          continuous.\r\n",
      "word_freq_labs:         continuous.\r\n",
      "word_freq_telnet:       continuous.\r\n",
      "word_freq_857:          continuous.\r\n",
      "word_freq_data:         continuous.\r\n",
      "word_freq_415:          continuous.\r\n",
      "word_freq_85:           continuous.\r\n",
      "word_freq_technology:   continuous.\r\n",
      "word_freq_1999:         continuous.\r\n",
      "word_freq_parts:        continuous.\r\n",
      "word_freq_pm:           continuous.\r\n",
      "word_freq_direct:       continuous.\r\n",
      "word_freq_cs:           continuous.\r\n",
      "word_freq_meeting:      continuous.\r\n",
      "word_freq_original:     continuous.\r\n",
      "word_freq_project:      continuous.\r\n",
      "word_freq_re:           continuous.\r\n",
      "word_freq_edu:          continuous.\r\n",
      "word_freq_table:        continuous.\r\n",
      "word_freq_conference:   continuous.\r\n",
      "char_freq_;:            continuous.\r\n",
      "char_freq_(:            continuous.\r\n",
      "char_freq_[:            continuous.\r\n",
      "char_freq_!:            continuous.\r\n",
      "char_freq_$:            continuous.\r\n",
      "char_freq_#:            continuous.\r\n",
      "capital_run_length_average: continuous.\r\n",
      "capital_run_length_longest: continuous.\r\n",
      "capital_run_length_total:   continuous.\r\n",
      "\n"
     ]
    }
   ],
   "source": [
    "print open('data/spambase/spambase.names').read()"
   ]
  },
  {
   "cell_type": "code",
   "execution_count": 105,
   "metadata": {
    "collapsed": true
   },
   "outputs": [],
   "source": [
    "names = re.findall('^(.+):', open('data/spambase/spambase.names').read(), re.MULTILINE)"
   ]
  },
  {
   "cell_type": "code",
   "execution_count": 106,
   "metadata": {
    "collapsed": true
   },
   "outputs": [],
   "source": [
    "del names[0]\n",
    "names.append('label')"
   ]
  },
  {
   "cell_type": "code",
   "execution_count": 26,
   "metadata": {
    "collapsed": true
   },
   "outputs": [],
   "source": [
    "spam_data = pd.read_csv('data/spambase/spambase.data', names=names)"
   ]
  },
  {
   "cell_type": "code",
   "execution_count": 151,
   "metadata": {
    "collapsed": true
   },
   "outputs": [
    {
     "data": {
      "text/html": [
       "<div>\n",
       "<table border=\"1\" class=\"dataframe\">\n",
       "  <thead>\n",
       "    <tr style=\"text-align: right;\">\n",
       "      <th></th>\n",
       "      <th>word_freq_make</th>\n",
       "      <th>word_freq_address</th>\n",
       "      <th>word_freq_all</th>\n",
       "      <th>word_freq_3d</th>\n",
       "      <th>word_freq_our</th>\n",
       "      <th>word_freq_over</th>\n",
       "      <th>word_freq_remove</th>\n",
       "      <th>word_freq_internet</th>\n",
       "      <th>word_freq_order</th>\n",
       "      <th>word_freq_mail</th>\n",
       "      <th>...</th>\n",
       "      <th>char_freq_;</th>\n",
       "      <th>char_freq_(</th>\n",
       "      <th>char_freq_[</th>\n",
       "      <th>char_freq_!</th>\n",
       "      <th>char_freq_$</th>\n",
       "      <th>char_freq_#</th>\n",
       "      <th>capital_run_length_average</th>\n",
       "      <th>capital_run_length_longest</th>\n",
       "      <th>capital_run_length_total</th>\n",
       "      <th>label</th>\n",
       "    </tr>\n",
       "  </thead>\n",
       "  <tbody>\n",
       "    <tr>\n",
       "      <th>0</th>\n",
       "      <td>0.00</td>\n",
       "      <td>0.64</td>\n",
       "      <td>0.64</td>\n",
       "      <td>0.0</td>\n",
       "      <td>0.32</td>\n",
       "      <td>0.00</td>\n",
       "      <td>0.00</td>\n",
       "      <td>0.00</td>\n",
       "      <td>0.00</td>\n",
       "      <td>0.00</td>\n",
       "      <td>...</td>\n",
       "      <td>0.000</td>\n",
       "      <td>0.000</td>\n",
       "      <td>0.000</td>\n",
       "      <td>0.778</td>\n",
       "      <td>0.000</td>\n",
       "      <td>0.000</td>\n",
       "      <td>3.756</td>\n",
       "      <td>61</td>\n",
       "      <td>278</td>\n",
       "      <td>1</td>\n",
       "    </tr>\n",
       "    <tr>\n",
       "      <th>1</th>\n",
       "      <td>0.21</td>\n",
       "      <td>0.28</td>\n",
       "      <td>0.50</td>\n",
       "      <td>0.0</td>\n",
       "      <td>0.14</td>\n",
       "      <td>0.28</td>\n",
       "      <td>0.21</td>\n",
       "      <td>0.07</td>\n",
       "      <td>0.00</td>\n",
       "      <td>0.94</td>\n",
       "      <td>...</td>\n",
       "      <td>0.000</td>\n",
       "      <td>0.132</td>\n",
       "      <td>0.000</td>\n",
       "      <td>0.372</td>\n",
       "      <td>0.180</td>\n",
       "      <td>0.048</td>\n",
       "      <td>5.114</td>\n",
       "      <td>101</td>\n",
       "      <td>1028</td>\n",
       "      <td>1</td>\n",
       "    </tr>\n",
       "    <tr>\n",
       "      <th>2</th>\n",
       "      <td>0.06</td>\n",
       "      <td>0.00</td>\n",
       "      <td>0.71</td>\n",
       "      <td>0.0</td>\n",
       "      <td>1.23</td>\n",
       "      <td>0.19</td>\n",
       "      <td>0.19</td>\n",
       "      <td>0.12</td>\n",
       "      <td>0.64</td>\n",
       "      <td>0.25</td>\n",
       "      <td>...</td>\n",
       "      <td>0.010</td>\n",
       "      <td>0.143</td>\n",
       "      <td>0.000</td>\n",
       "      <td>0.276</td>\n",
       "      <td>0.184</td>\n",
       "      <td>0.010</td>\n",
       "      <td>9.821</td>\n",
       "      <td>485</td>\n",
       "      <td>2259</td>\n",
       "      <td>1</td>\n",
       "    </tr>\n",
       "    <tr>\n",
       "      <th>3</th>\n",
       "      <td>0.00</td>\n",
       "      <td>0.00</td>\n",
       "      <td>0.00</td>\n",
       "      <td>0.0</td>\n",
       "      <td>0.63</td>\n",
       "      <td>0.00</td>\n",
       "      <td>0.31</td>\n",
       "      <td>0.63</td>\n",
       "      <td>0.31</td>\n",
       "      <td>0.63</td>\n",
       "      <td>...</td>\n",
       "      <td>0.000</td>\n",
       "      <td>0.137</td>\n",
       "      <td>0.000</td>\n",
       "      <td>0.137</td>\n",
       "      <td>0.000</td>\n",
       "      <td>0.000</td>\n",
       "      <td>3.537</td>\n",
       "      <td>40</td>\n",
       "      <td>191</td>\n",
       "      <td>1</td>\n",
       "    </tr>\n",
       "    <tr>\n",
       "      <th>4</th>\n",
       "      <td>0.00</td>\n",
       "      <td>0.00</td>\n",
       "      <td>0.00</td>\n",
       "      <td>0.0</td>\n",
       "      <td>0.63</td>\n",
       "      <td>0.00</td>\n",
       "      <td>0.31</td>\n",
       "      <td>0.63</td>\n",
       "      <td>0.31</td>\n",
       "      <td>0.63</td>\n",
       "      <td>...</td>\n",
       "      <td>0.000</td>\n",
       "      <td>0.135</td>\n",
       "      <td>0.000</td>\n",
       "      <td>0.135</td>\n",
       "      <td>0.000</td>\n",
       "      <td>0.000</td>\n",
       "      <td>3.537</td>\n",
       "      <td>40</td>\n",
       "      <td>191</td>\n",
       "      <td>1</td>\n",
       "    </tr>\n",
       "    <tr>\n",
       "      <th>5</th>\n",
       "      <td>0.00</td>\n",
       "      <td>0.00</td>\n",
       "      <td>0.00</td>\n",
       "      <td>0.0</td>\n",
       "      <td>1.85</td>\n",
       "      <td>0.00</td>\n",
       "      <td>0.00</td>\n",
       "      <td>1.85</td>\n",
       "      <td>0.00</td>\n",
       "      <td>0.00</td>\n",
       "      <td>...</td>\n",
       "      <td>0.000</td>\n",
       "      <td>0.223</td>\n",
       "      <td>0.000</td>\n",
       "      <td>0.000</td>\n",
       "      <td>0.000</td>\n",
       "      <td>0.000</td>\n",
       "      <td>3.000</td>\n",
       "      <td>15</td>\n",
       "      <td>54</td>\n",
       "      <td>1</td>\n",
       "    </tr>\n",
       "    <tr>\n",
       "      <th>6</th>\n",
       "      <td>0.00</td>\n",
       "      <td>0.00</td>\n",
       "      <td>0.00</td>\n",
       "      <td>0.0</td>\n",
       "      <td>1.92</td>\n",
       "      <td>0.00</td>\n",
       "      <td>0.00</td>\n",
       "      <td>0.00</td>\n",
       "      <td>0.00</td>\n",
       "      <td>0.64</td>\n",
       "      <td>...</td>\n",
       "      <td>0.000</td>\n",
       "      <td>0.054</td>\n",
       "      <td>0.000</td>\n",
       "      <td>0.164</td>\n",
       "      <td>0.054</td>\n",
       "      <td>0.000</td>\n",
       "      <td>1.671</td>\n",
       "      <td>4</td>\n",
       "      <td>112</td>\n",
       "      <td>1</td>\n",
       "    </tr>\n",
       "    <tr>\n",
       "      <th>7</th>\n",
       "      <td>0.00</td>\n",
       "      <td>0.00</td>\n",
       "      <td>0.00</td>\n",
       "      <td>0.0</td>\n",
       "      <td>1.88</td>\n",
       "      <td>0.00</td>\n",
       "      <td>0.00</td>\n",
       "      <td>1.88</td>\n",
       "      <td>0.00</td>\n",
       "      <td>0.00</td>\n",
       "      <td>...</td>\n",
       "      <td>0.000</td>\n",
       "      <td>0.206</td>\n",
       "      <td>0.000</td>\n",
       "      <td>0.000</td>\n",
       "      <td>0.000</td>\n",
       "      <td>0.000</td>\n",
       "      <td>2.450</td>\n",
       "      <td>11</td>\n",
       "      <td>49</td>\n",
       "      <td>1</td>\n",
       "    </tr>\n",
       "    <tr>\n",
       "      <th>8</th>\n",
       "      <td>0.15</td>\n",
       "      <td>0.00</td>\n",
       "      <td>0.46</td>\n",
       "      <td>0.0</td>\n",
       "      <td>0.61</td>\n",
       "      <td>0.00</td>\n",
       "      <td>0.30</td>\n",
       "      <td>0.00</td>\n",
       "      <td>0.92</td>\n",
       "      <td>0.76</td>\n",
       "      <td>...</td>\n",
       "      <td>0.000</td>\n",
       "      <td>0.271</td>\n",
       "      <td>0.000</td>\n",
       "      <td>0.181</td>\n",
       "      <td>0.203</td>\n",
       "      <td>0.022</td>\n",
       "      <td>9.744</td>\n",
       "      <td>445</td>\n",
       "      <td>1257</td>\n",
       "      <td>1</td>\n",
       "    </tr>\n",
       "    <tr>\n",
       "      <th>9</th>\n",
       "      <td>0.06</td>\n",
       "      <td>0.12</td>\n",
       "      <td>0.77</td>\n",
       "      <td>0.0</td>\n",
       "      <td>0.19</td>\n",
       "      <td>0.32</td>\n",
       "      <td>0.38</td>\n",
       "      <td>0.00</td>\n",
       "      <td>0.06</td>\n",
       "      <td>0.00</td>\n",
       "      <td>...</td>\n",
       "      <td>0.040</td>\n",
       "      <td>0.030</td>\n",
       "      <td>0.000</td>\n",
       "      <td>0.244</td>\n",
       "      <td>0.081</td>\n",
       "      <td>0.000</td>\n",
       "      <td>1.729</td>\n",
       "      <td>43</td>\n",
       "      <td>749</td>\n",
       "      <td>1</td>\n",
       "    </tr>\n",
       "    <tr>\n",
       "      <th>10</th>\n",
       "      <td>0.00</td>\n",
       "      <td>0.00</td>\n",
       "      <td>0.00</td>\n",
       "      <td>0.0</td>\n",
       "      <td>0.00</td>\n",
       "      <td>0.00</td>\n",
       "      <td>0.96</td>\n",
       "      <td>0.00</td>\n",
       "      <td>0.00</td>\n",
       "      <td>1.92</td>\n",
       "      <td>...</td>\n",
       "      <td>0.000</td>\n",
       "      <td>0.000</td>\n",
       "      <td>0.000</td>\n",
       "      <td>0.462</td>\n",
       "      <td>0.000</td>\n",
       "      <td>0.000</td>\n",
       "      <td>1.312</td>\n",
       "      <td>6</td>\n",
       "      <td>21</td>\n",
       "      <td>1</td>\n",
       "    </tr>\n",
       "    <tr>\n",
       "      <th>11</th>\n",
       "      <td>0.00</td>\n",
       "      <td>0.00</td>\n",
       "      <td>0.25</td>\n",
       "      <td>0.0</td>\n",
       "      <td>0.38</td>\n",
       "      <td>0.25</td>\n",
       "      <td>0.25</td>\n",
       "      <td>0.00</td>\n",
       "      <td>0.00</td>\n",
       "      <td>0.00</td>\n",
       "      <td>...</td>\n",
       "      <td>0.022</td>\n",
       "      <td>0.044</td>\n",
       "      <td>0.000</td>\n",
       "      <td>0.663</td>\n",
       "      <td>0.000</td>\n",
       "      <td>0.000</td>\n",
       "      <td>1.243</td>\n",
       "      <td>11</td>\n",
       "      <td>184</td>\n",
       "      <td>1</td>\n",
       "    </tr>\n",
       "    <tr>\n",
       "      <th>12</th>\n",
       "      <td>0.00</td>\n",
       "      <td>0.69</td>\n",
       "      <td>0.34</td>\n",
       "      <td>0.0</td>\n",
       "      <td>0.34</td>\n",
       "      <td>0.00</td>\n",
       "      <td>0.00</td>\n",
       "      <td>0.00</td>\n",
       "      <td>0.00</td>\n",
       "      <td>0.00</td>\n",
       "      <td>...</td>\n",
       "      <td>0.000</td>\n",
       "      <td>0.056</td>\n",
       "      <td>0.000</td>\n",
       "      <td>0.786</td>\n",
       "      <td>0.000</td>\n",
       "      <td>0.000</td>\n",
       "      <td>3.728</td>\n",
       "      <td>61</td>\n",
       "      <td>261</td>\n",
       "      <td>1</td>\n",
       "    </tr>\n",
       "    <tr>\n",
       "      <th>13</th>\n",
       "      <td>0.00</td>\n",
       "      <td>0.00</td>\n",
       "      <td>0.00</td>\n",
       "      <td>0.0</td>\n",
       "      <td>0.90</td>\n",
       "      <td>0.00</td>\n",
       "      <td>0.90</td>\n",
       "      <td>0.00</td>\n",
       "      <td>0.00</td>\n",
       "      <td>0.90</td>\n",
       "      <td>...</td>\n",
       "      <td>0.000</td>\n",
       "      <td>0.000</td>\n",
       "      <td>0.000</td>\n",
       "      <td>0.000</td>\n",
       "      <td>0.000</td>\n",
       "      <td>0.000</td>\n",
       "      <td>2.083</td>\n",
       "      <td>7</td>\n",
       "      <td>25</td>\n",
       "      <td>1</td>\n",
       "    </tr>\n",
       "    <tr>\n",
       "      <th>14</th>\n",
       "      <td>0.00</td>\n",
       "      <td>0.00</td>\n",
       "      <td>1.42</td>\n",
       "      <td>0.0</td>\n",
       "      <td>0.71</td>\n",
       "      <td>0.35</td>\n",
       "      <td>0.00</td>\n",
       "      <td>0.35</td>\n",
       "      <td>0.00</td>\n",
       "      <td>0.71</td>\n",
       "      <td>...</td>\n",
       "      <td>0.000</td>\n",
       "      <td>0.102</td>\n",
       "      <td>0.000</td>\n",
       "      <td>0.357</td>\n",
       "      <td>0.000</td>\n",
       "      <td>0.000</td>\n",
       "      <td>1.971</td>\n",
       "      <td>24</td>\n",
       "      <td>205</td>\n",
       "      <td>1</td>\n",
       "    </tr>\n",
       "    <tr>\n",
       "      <th>15</th>\n",
       "      <td>0.00</td>\n",
       "      <td>0.42</td>\n",
       "      <td>0.42</td>\n",
       "      <td>0.0</td>\n",
       "      <td>1.27</td>\n",
       "      <td>0.00</td>\n",
       "      <td>0.42</td>\n",
       "      <td>0.00</td>\n",
       "      <td>0.00</td>\n",
       "      <td>1.27</td>\n",
       "      <td>...</td>\n",
       "      <td>0.000</td>\n",
       "      <td>0.063</td>\n",
       "      <td>0.000</td>\n",
       "      <td>0.572</td>\n",
       "      <td>0.063</td>\n",
       "      <td>0.000</td>\n",
       "      <td>5.659</td>\n",
       "      <td>55</td>\n",
       "      <td>249</td>\n",
       "      <td>1</td>\n",
       "    </tr>\n",
       "    <tr>\n",
       "      <th>16</th>\n",
       "      <td>0.00</td>\n",
       "      <td>0.00</td>\n",
       "      <td>0.00</td>\n",
       "      <td>0.0</td>\n",
       "      <td>0.94</td>\n",
       "      <td>0.00</td>\n",
       "      <td>0.00</td>\n",
       "      <td>0.00</td>\n",
       "      <td>0.00</td>\n",
       "      <td>0.00</td>\n",
       "      <td>...</td>\n",
       "      <td>0.000</td>\n",
       "      <td>0.000</td>\n",
       "      <td>0.000</td>\n",
       "      <td>0.428</td>\n",
       "      <td>0.000</td>\n",
       "      <td>0.000</td>\n",
       "      <td>4.652</td>\n",
       "      <td>31</td>\n",
       "      <td>107</td>\n",
       "      <td>1</td>\n",
       "    </tr>\n",
       "    <tr>\n",
       "      <th>17</th>\n",
       "      <td>0.00</td>\n",
       "      <td>0.00</td>\n",
       "      <td>0.00</td>\n",
       "      <td>0.0</td>\n",
       "      <td>0.00</td>\n",
       "      <td>0.00</td>\n",
       "      <td>0.00</td>\n",
       "      <td>0.00</td>\n",
       "      <td>0.00</td>\n",
       "      <td>0.00</td>\n",
       "      <td>...</td>\n",
       "      <td>0.000</td>\n",
       "      <td>0.000</td>\n",
       "      <td>0.000</td>\n",
       "      <td>1.975</td>\n",
       "      <td>0.370</td>\n",
       "      <td>0.000</td>\n",
       "      <td>35.461</td>\n",
       "      <td>95</td>\n",
       "      <td>461</td>\n",
       "      <td>1</td>\n",
       "    </tr>\n",
       "    <tr>\n",
       "      <th>18</th>\n",
       "      <td>0.00</td>\n",
       "      <td>0.00</td>\n",
       "      <td>0.55</td>\n",
       "      <td>0.0</td>\n",
       "      <td>1.11</td>\n",
       "      <td>0.00</td>\n",
       "      <td>0.18</td>\n",
       "      <td>0.00</td>\n",
       "      <td>0.00</td>\n",
       "      <td>0.00</td>\n",
       "      <td>...</td>\n",
       "      <td>0.000</td>\n",
       "      <td>0.182</td>\n",
       "      <td>0.000</td>\n",
       "      <td>0.455</td>\n",
       "      <td>0.000</td>\n",
       "      <td>0.000</td>\n",
       "      <td>1.320</td>\n",
       "      <td>4</td>\n",
       "      <td>70</td>\n",
       "      <td>1</td>\n",
       "    </tr>\n",
       "    <tr>\n",
       "      <th>19</th>\n",
       "      <td>0.00</td>\n",
       "      <td>0.63</td>\n",
       "      <td>0.00</td>\n",
       "      <td>0.0</td>\n",
       "      <td>1.59</td>\n",
       "      <td>0.31</td>\n",
       "      <td>0.00</td>\n",
       "      <td>0.00</td>\n",
       "      <td>0.31</td>\n",
       "      <td>0.00</td>\n",
       "      <td>...</td>\n",
       "      <td>0.000</td>\n",
       "      <td>0.275</td>\n",
       "      <td>0.000</td>\n",
       "      <td>0.055</td>\n",
       "      <td>0.496</td>\n",
       "      <td>0.000</td>\n",
       "      <td>3.509</td>\n",
       "      <td>91</td>\n",
       "      <td>186</td>\n",
       "      <td>1</td>\n",
       "    </tr>\n",
       "    <tr>\n",
       "      <th>20</th>\n",
       "      <td>0.00</td>\n",
       "      <td>0.00</td>\n",
       "      <td>0.00</td>\n",
       "      <td>0.0</td>\n",
       "      <td>0.00</td>\n",
       "      <td>0.00</td>\n",
       "      <td>0.00</td>\n",
       "      <td>0.00</td>\n",
       "      <td>0.00</td>\n",
       "      <td>0.00</td>\n",
       "      <td>...</td>\n",
       "      <td>0.000</td>\n",
       "      <td>0.729</td>\n",
       "      <td>0.000</td>\n",
       "      <td>0.729</td>\n",
       "      <td>0.000</td>\n",
       "      <td>0.000</td>\n",
       "      <td>3.833</td>\n",
       "      <td>9</td>\n",
       "      <td>23</td>\n",
       "      <td>1</td>\n",
       "    </tr>\n",
       "    <tr>\n",
       "      <th>21</th>\n",
       "      <td>0.05</td>\n",
       "      <td>0.07</td>\n",
       "      <td>0.10</td>\n",
       "      <td>0.0</td>\n",
       "      <td>0.76</td>\n",
       "      <td>0.05</td>\n",
       "      <td>0.15</td>\n",
       "      <td>0.02</td>\n",
       "      <td>0.55</td>\n",
       "      <td>0.00</td>\n",
       "      <td>...</td>\n",
       "      <td>0.042</td>\n",
       "      <td>0.101</td>\n",
       "      <td>0.016</td>\n",
       "      <td>0.250</td>\n",
       "      <td>0.046</td>\n",
       "      <td>0.059</td>\n",
       "      <td>2.569</td>\n",
       "      <td>66</td>\n",
       "      <td>2259</td>\n",
       "      <td>1</td>\n",
       "    </tr>\n",
       "    <tr>\n",
       "      <th>22</th>\n",
       "      <td>0.00</td>\n",
       "      <td>0.00</td>\n",
       "      <td>0.00</td>\n",
       "      <td>0.0</td>\n",
       "      <td>2.94</td>\n",
       "      <td>0.00</td>\n",
       "      <td>0.00</td>\n",
       "      <td>0.00</td>\n",
       "      <td>0.00</td>\n",
       "      <td>0.00</td>\n",
       "      <td>...</td>\n",
       "      <td>0.404</td>\n",
       "      <td>0.404</td>\n",
       "      <td>0.000</td>\n",
       "      <td>0.809</td>\n",
       "      <td>0.000</td>\n",
       "      <td>0.000</td>\n",
       "      <td>4.857</td>\n",
       "      <td>12</td>\n",
       "      <td>34</td>\n",
       "      <td>1</td>\n",
       "    </tr>\n",
       "    <tr>\n",
       "      <th>23</th>\n",
       "      <td>0.00</td>\n",
       "      <td>0.00</td>\n",
       "      <td>0.00</td>\n",
       "      <td>0.0</td>\n",
       "      <td>1.16</td>\n",
       "      <td>0.00</td>\n",
       "      <td>0.00</td>\n",
       "      <td>0.00</td>\n",
       "      <td>0.00</td>\n",
       "      <td>0.00</td>\n",
       "      <td>...</td>\n",
       "      <td>0.000</td>\n",
       "      <td>0.133</td>\n",
       "      <td>0.000</td>\n",
       "      <td>0.667</td>\n",
       "      <td>0.000</td>\n",
       "      <td>0.000</td>\n",
       "      <td>1.131</td>\n",
       "      <td>5</td>\n",
       "      <td>69</td>\n",
       "      <td>1</td>\n",
       "    </tr>\n",
       "    <tr>\n",
       "      <th>24</th>\n",
       "      <td>0.00</td>\n",
       "      <td>0.00</td>\n",
       "      <td>0.00</td>\n",
       "      <td>0.0</td>\n",
       "      <td>0.00</td>\n",
       "      <td>0.00</td>\n",
       "      <td>0.00</td>\n",
       "      <td>0.00</td>\n",
       "      <td>0.00</td>\n",
       "      <td>0.00</td>\n",
       "      <td>...</td>\n",
       "      <td>0.000</td>\n",
       "      <td>0.196</td>\n",
       "      <td>0.000</td>\n",
       "      <td>0.392</td>\n",
       "      <td>0.196</td>\n",
       "      <td>0.000</td>\n",
       "      <td>5.466</td>\n",
       "      <td>22</td>\n",
       "      <td>82</td>\n",
       "      <td>1</td>\n",
       "    </tr>\n",
       "    <tr>\n",
       "      <th>25</th>\n",
       "      <td>0.05</td>\n",
       "      <td>0.07</td>\n",
       "      <td>0.10</td>\n",
       "      <td>0.0</td>\n",
       "      <td>0.76</td>\n",
       "      <td>0.05</td>\n",
       "      <td>0.15</td>\n",
       "      <td>0.02</td>\n",
       "      <td>0.55</td>\n",
       "      <td>0.00</td>\n",
       "      <td>...</td>\n",
       "      <td>0.042</td>\n",
       "      <td>0.101</td>\n",
       "      <td>0.016</td>\n",
       "      <td>0.250</td>\n",
       "      <td>0.046</td>\n",
       "      <td>0.059</td>\n",
       "      <td>2.565</td>\n",
       "      <td>66</td>\n",
       "      <td>2258</td>\n",
       "      <td>1</td>\n",
       "    </tr>\n",
       "    <tr>\n",
       "      <th>26</th>\n",
       "      <td>0.00</td>\n",
       "      <td>0.00</td>\n",
       "      <td>0.00</td>\n",
       "      <td>0.0</td>\n",
       "      <td>0.00</td>\n",
       "      <td>0.00</td>\n",
       "      <td>0.00</td>\n",
       "      <td>0.00</td>\n",
       "      <td>0.00</td>\n",
       "      <td>0.00</td>\n",
       "      <td>...</td>\n",
       "      <td>0.000</td>\n",
       "      <td>0.196</td>\n",
       "      <td>0.000</td>\n",
       "      <td>0.392</td>\n",
       "      <td>0.196</td>\n",
       "      <td>0.000</td>\n",
       "      <td>5.466</td>\n",
       "      <td>22</td>\n",
       "      <td>82</td>\n",
       "      <td>1</td>\n",
       "    </tr>\n",
       "    <tr>\n",
       "      <th>27</th>\n",
       "      <td>0.00</td>\n",
       "      <td>0.00</td>\n",
       "      <td>0.00</td>\n",
       "      <td>0.0</td>\n",
       "      <td>0.00</td>\n",
       "      <td>0.00</td>\n",
       "      <td>1.66</td>\n",
       "      <td>0.00</td>\n",
       "      <td>0.00</td>\n",
       "      <td>0.00</td>\n",
       "      <td>...</td>\n",
       "      <td>0.000</td>\n",
       "      <td>0.000</td>\n",
       "      <td>0.000</td>\n",
       "      <td>0.368</td>\n",
       "      <td>0.000</td>\n",
       "      <td>0.000</td>\n",
       "      <td>2.611</td>\n",
       "      <td>12</td>\n",
       "      <td>47</td>\n",
       "      <td>1</td>\n",
       "    </tr>\n",
       "    <tr>\n",
       "      <th>28</th>\n",
       "      <td>0.00</td>\n",
       "      <td>0.00</td>\n",
       "      <td>0.00</td>\n",
       "      <td>0.0</td>\n",
       "      <td>0.00</td>\n",
       "      <td>0.00</td>\n",
       "      <td>0.00</td>\n",
       "      <td>0.00</td>\n",
       "      <td>0.00</td>\n",
       "      <td>0.00</td>\n",
       "      <td>...</td>\n",
       "      <td>0.000</td>\n",
       "      <td>0.352</td>\n",
       "      <td>0.000</td>\n",
       "      <td>0.352</td>\n",
       "      <td>0.000</td>\n",
       "      <td>0.000</td>\n",
       "      <td>4.000</td>\n",
       "      <td>11</td>\n",
       "      <td>36</td>\n",
       "      <td>1</td>\n",
       "    </tr>\n",
       "    <tr>\n",
       "      <th>29</th>\n",
       "      <td>0.00</td>\n",
       "      <td>0.00</td>\n",
       "      <td>0.00</td>\n",
       "      <td>0.0</td>\n",
       "      <td>0.65</td>\n",
       "      <td>0.00</td>\n",
       "      <td>0.65</td>\n",
       "      <td>0.00</td>\n",
       "      <td>0.00</td>\n",
       "      <td>0.00</td>\n",
       "      <td>...</td>\n",
       "      <td>0.000</td>\n",
       "      <td>0.459</td>\n",
       "      <td>0.000</td>\n",
       "      <td>0.091</td>\n",
       "      <td>0.000</td>\n",
       "      <td>0.000</td>\n",
       "      <td>2.687</td>\n",
       "      <td>66</td>\n",
       "      <td>129</td>\n",
       "      <td>1</td>\n",
       "    </tr>\n",
       "    <tr>\n",
       "      <th>...</th>\n",
       "      <td>...</td>\n",
       "      <td>...</td>\n",
       "      <td>...</td>\n",
       "      <td>...</td>\n",
       "      <td>...</td>\n",
       "      <td>...</td>\n",
       "      <td>...</td>\n",
       "      <td>...</td>\n",
       "      <td>...</td>\n",
       "      <td>...</td>\n",
       "      <td>...</td>\n",
       "      <td>...</td>\n",
       "      <td>...</td>\n",
       "      <td>...</td>\n",
       "      <td>...</td>\n",
       "      <td>...</td>\n",
       "      <td>...</td>\n",
       "      <td>...</td>\n",
       "      <td>...</td>\n",
       "      <td>...</td>\n",
       "      <td>...</td>\n",
       "    </tr>\n",
       "    <tr>\n",
       "      <th>4571</th>\n",
       "      <td>0.00</td>\n",
       "      <td>0.00</td>\n",
       "      <td>0.46</td>\n",
       "      <td>0.0</td>\n",
       "      <td>0.23</td>\n",
       "      <td>0.23</td>\n",
       "      <td>0.00</td>\n",
       "      <td>0.00</td>\n",
       "      <td>0.00</td>\n",
       "      <td>0.00</td>\n",
       "      <td>...</td>\n",
       "      <td>0.000</td>\n",
       "      <td>0.082</td>\n",
       "      <td>0.000</td>\n",
       "      <td>0.082</td>\n",
       "      <td>0.000</td>\n",
       "      <td>0.000</td>\n",
       "      <td>1.256</td>\n",
       "      <td>5</td>\n",
       "      <td>98</td>\n",
       "      <td>0</td>\n",
       "    </tr>\n",
       "    <tr>\n",
       "      <th>4572</th>\n",
       "      <td>0.00</td>\n",
       "      <td>0.00</td>\n",
       "      <td>0.00</td>\n",
       "      <td>0.0</td>\n",
       "      <td>0.00</td>\n",
       "      <td>0.00</td>\n",
       "      <td>0.00</td>\n",
       "      <td>0.00</td>\n",
       "      <td>0.00</td>\n",
       "      <td>0.00</td>\n",
       "      <td>...</td>\n",
       "      <td>0.000</td>\n",
       "      <td>0.254</td>\n",
       "      <td>0.000</td>\n",
       "      <td>0.000</td>\n",
       "      <td>0.000</td>\n",
       "      <td>0.000</td>\n",
       "      <td>1.000</td>\n",
       "      <td>1</td>\n",
       "      <td>13</td>\n",
       "      <td>0</td>\n",
       "    </tr>\n",
       "    <tr>\n",
       "      <th>4573</th>\n",
       "      <td>0.00</td>\n",
       "      <td>0.00</td>\n",
       "      <td>0.18</td>\n",
       "      <td>0.0</td>\n",
       "      <td>0.18</td>\n",
       "      <td>0.18</td>\n",
       "      <td>0.00</td>\n",
       "      <td>0.00</td>\n",
       "      <td>0.00</td>\n",
       "      <td>0.00</td>\n",
       "      <td>...</td>\n",
       "      <td>0.033</td>\n",
       "      <td>0.033</td>\n",
       "      <td>0.000</td>\n",
       "      <td>0.099</td>\n",
       "      <td>0.000</td>\n",
       "      <td>0.000</td>\n",
       "      <td>1.489</td>\n",
       "      <td>11</td>\n",
       "      <td>137</td>\n",
       "      <td>0</td>\n",
       "    </tr>\n",
       "    <tr>\n",
       "      <th>4574</th>\n",
       "      <td>0.29</td>\n",
       "      <td>0.00</td>\n",
       "      <td>0.29</td>\n",
       "      <td>0.0</td>\n",
       "      <td>0.00</td>\n",
       "      <td>0.00</td>\n",
       "      <td>0.00</td>\n",
       "      <td>0.00</td>\n",
       "      <td>0.00</td>\n",
       "      <td>0.29</td>\n",
       "      <td>...</td>\n",
       "      <td>0.000</td>\n",
       "      <td>0.107</td>\n",
       "      <td>0.000</td>\n",
       "      <td>0.000</td>\n",
       "      <td>0.000</td>\n",
       "      <td>0.000</td>\n",
       "      <td>1.220</td>\n",
       "      <td>6</td>\n",
       "      <td>61</td>\n",
       "      <td>0</td>\n",
       "    </tr>\n",
       "    <tr>\n",
       "      <th>4575</th>\n",
       "      <td>0.00</td>\n",
       "      <td>0.00</td>\n",
       "      <td>0.00</td>\n",
       "      <td>0.0</td>\n",
       "      <td>0.00</td>\n",
       "      <td>0.00</td>\n",
       "      <td>0.00</td>\n",
       "      <td>0.00</td>\n",
       "      <td>0.00</td>\n",
       "      <td>1.38</td>\n",
       "      <td>...</td>\n",
       "      <td>0.000</td>\n",
       "      <td>0.213</td>\n",
       "      <td>0.000</td>\n",
       "      <td>0.000</td>\n",
       "      <td>0.000</td>\n",
       "      <td>0.000</td>\n",
       "      <td>1.720</td>\n",
       "      <td>11</td>\n",
       "      <td>43</td>\n",
       "      <td>0</td>\n",
       "    </tr>\n",
       "    <tr>\n",
       "      <th>4576</th>\n",
       "      <td>0.00</td>\n",
       "      <td>0.00</td>\n",
       "      <td>0.00</td>\n",
       "      <td>0.0</td>\n",
       "      <td>0.00</td>\n",
       "      <td>0.00</td>\n",
       "      <td>0.00</td>\n",
       "      <td>0.00</td>\n",
       "      <td>0.00</td>\n",
       "      <td>0.00</td>\n",
       "      <td>...</td>\n",
       "      <td>0.000</td>\n",
       "      <td>0.131</td>\n",
       "      <td>0.000</td>\n",
       "      <td>0.000</td>\n",
       "      <td>0.000</td>\n",
       "      <td>0.000</td>\n",
       "      <td>1.488</td>\n",
       "      <td>5</td>\n",
       "      <td>64</td>\n",
       "      <td>0</td>\n",
       "    </tr>\n",
       "    <tr>\n",
       "      <th>4577</th>\n",
       "      <td>0.00</td>\n",
       "      <td>0.00</td>\n",
       "      <td>1.20</td>\n",
       "      <td>0.0</td>\n",
       "      <td>0.00</td>\n",
       "      <td>0.00</td>\n",
       "      <td>0.00</td>\n",
       "      <td>0.00</td>\n",
       "      <td>0.00</td>\n",
       "      <td>0.00</td>\n",
       "      <td>...</td>\n",
       "      <td>0.000</td>\n",
       "      <td>0.000</td>\n",
       "      <td>0.000</td>\n",
       "      <td>0.000</td>\n",
       "      <td>0.000</td>\n",
       "      <td>0.000</td>\n",
       "      <td>1.200</td>\n",
       "      <td>3</td>\n",
       "      <td>24</td>\n",
       "      <td>0</td>\n",
       "    </tr>\n",
       "    <tr>\n",
       "      <th>4578</th>\n",
       "      <td>0.00</td>\n",
       "      <td>0.00</td>\n",
       "      <td>0.40</td>\n",
       "      <td>0.0</td>\n",
       "      <td>0.00</td>\n",
       "      <td>0.00</td>\n",
       "      <td>0.00</td>\n",
       "      <td>0.00</td>\n",
       "      <td>0.00</td>\n",
       "      <td>0.00</td>\n",
       "      <td>...</td>\n",
       "      <td>0.000</td>\n",
       "      <td>0.000</td>\n",
       "      <td>0.145</td>\n",
       "      <td>0.000</td>\n",
       "      <td>0.000</td>\n",
       "      <td>0.000</td>\n",
       "      <td>1.372</td>\n",
       "      <td>5</td>\n",
       "      <td>70</td>\n",
       "      <td>0</td>\n",
       "    </tr>\n",
       "    <tr>\n",
       "      <th>4579</th>\n",
       "      <td>0.27</td>\n",
       "      <td>0.05</td>\n",
       "      <td>0.10</td>\n",
       "      <td>0.0</td>\n",
       "      <td>0.00</td>\n",
       "      <td>0.00</td>\n",
       "      <td>0.00</td>\n",
       "      <td>0.00</td>\n",
       "      <td>0.00</td>\n",
       "      <td>0.00</td>\n",
       "      <td>...</td>\n",
       "      <td>0.607</td>\n",
       "      <td>0.064</td>\n",
       "      <td>0.036</td>\n",
       "      <td>0.055</td>\n",
       "      <td>0.000</td>\n",
       "      <td>0.202</td>\n",
       "      <td>3.766</td>\n",
       "      <td>43</td>\n",
       "      <td>1789</td>\n",
       "      <td>0</td>\n",
       "    </tr>\n",
       "    <tr>\n",
       "      <th>4580</th>\n",
       "      <td>0.00</td>\n",
       "      <td>0.00</td>\n",
       "      <td>0.00</td>\n",
       "      <td>0.0</td>\n",
       "      <td>0.00</td>\n",
       "      <td>0.00</td>\n",
       "      <td>0.00</td>\n",
       "      <td>0.00</td>\n",
       "      <td>0.00</td>\n",
       "      <td>0.00</td>\n",
       "      <td>...</td>\n",
       "      <td>0.000</td>\n",
       "      <td>0.000</td>\n",
       "      <td>0.000</td>\n",
       "      <td>0.000</td>\n",
       "      <td>0.000</td>\n",
       "      <td>0.000</td>\n",
       "      <td>1.571</td>\n",
       "      <td>5</td>\n",
       "      <td>11</td>\n",
       "      <td>0</td>\n",
       "    </tr>\n",
       "    <tr>\n",
       "      <th>4581</th>\n",
       "      <td>0.00</td>\n",
       "      <td>0.00</td>\n",
       "      <td>0.00</td>\n",
       "      <td>0.0</td>\n",
       "      <td>0.00</td>\n",
       "      <td>0.51</td>\n",
       "      <td>0.00</td>\n",
       "      <td>0.00</td>\n",
       "      <td>0.00</td>\n",
       "      <td>0.00</td>\n",
       "      <td>...</td>\n",
       "      <td>0.000</td>\n",
       "      <td>0.091</td>\n",
       "      <td>0.000</td>\n",
       "      <td>0.091</td>\n",
       "      <td>0.000</td>\n",
       "      <td>0.000</td>\n",
       "      <td>1.586</td>\n",
       "      <td>4</td>\n",
       "      <td>46</td>\n",
       "      <td>0</td>\n",
       "    </tr>\n",
       "    <tr>\n",
       "      <th>4582</th>\n",
       "      <td>0.00</td>\n",
       "      <td>0.00</td>\n",
       "      <td>0.00</td>\n",
       "      <td>0.0</td>\n",
       "      <td>0.00</td>\n",
       "      <td>0.00</td>\n",
       "      <td>0.00</td>\n",
       "      <td>0.00</td>\n",
       "      <td>0.00</td>\n",
       "      <td>0.00</td>\n",
       "      <td>...</td>\n",
       "      <td>0.000</td>\n",
       "      <td>0.000</td>\n",
       "      <td>0.000</td>\n",
       "      <td>0.000</td>\n",
       "      <td>0.000</td>\n",
       "      <td>0.000</td>\n",
       "      <td>1.266</td>\n",
       "      <td>3</td>\n",
       "      <td>19</td>\n",
       "      <td>0</td>\n",
       "    </tr>\n",
       "    <tr>\n",
       "      <th>4583</th>\n",
       "      <td>0.00</td>\n",
       "      <td>0.00</td>\n",
       "      <td>1.23</td>\n",
       "      <td>0.0</td>\n",
       "      <td>0.00</td>\n",
       "      <td>0.00</td>\n",
       "      <td>0.00</td>\n",
       "      <td>0.00</td>\n",
       "      <td>0.00</td>\n",
       "      <td>0.00</td>\n",
       "      <td>...</td>\n",
       "      <td>0.000</td>\n",
       "      <td>0.000</td>\n",
       "      <td>0.406</td>\n",
       "      <td>0.000</td>\n",
       "      <td>0.000</td>\n",
       "      <td>0.000</td>\n",
       "      <td>1.666</td>\n",
       "      <td>13</td>\n",
       "      <td>70</td>\n",
       "      <td>0</td>\n",
       "    </tr>\n",
       "    <tr>\n",
       "      <th>4584</th>\n",
       "      <td>0.00</td>\n",
       "      <td>0.00</td>\n",
       "      <td>0.45</td>\n",
       "      <td>0.0</td>\n",
       "      <td>0.00</td>\n",
       "      <td>0.22</td>\n",
       "      <td>0.00</td>\n",
       "      <td>0.00</td>\n",
       "      <td>0.00</td>\n",
       "      <td>0.00</td>\n",
       "      <td>...</td>\n",
       "      <td>0.000</td>\n",
       "      <td>0.082</td>\n",
       "      <td>0.000</td>\n",
       "      <td>0.041</td>\n",
       "      <td>0.000</td>\n",
       "      <td>0.000</td>\n",
       "      <td>1.500</td>\n",
       "      <td>7</td>\n",
       "      <td>123</td>\n",
       "      <td>0</td>\n",
       "    </tr>\n",
       "    <tr>\n",
       "      <th>4585</th>\n",
       "      <td>0.00</td>\n",
       "      <td>0.00</td>\n",
       "      <td>0.00</td>\n",
       "      <td>0.0</td>\n",
       "      <td>0.00</td>\n",
       "      <td>0.00</td>\n",
       "      <td>0.00</td>\n",
       "      <td>0.00</td>\n",
       "      <td>0.00</td>\n",
       "      <td>0.00</td>\n",
       "      <td>...</td>\n",
       "      <td>0.000</td>\n",
       "      <td>0.625</td>\n",
       "      <td>0.000</td>\n",
       "      <td>0.000</td>\n",
       "      <td>0.000</td>\n",
       "      <td>0.000</td>\n",
       "      <td>1.375</td>\n",
       "      <td>4</td>\n",
       "      <td>11</td>\n",
       "      <td>0</td>\n",
       "    </tr>\n",
       "    <tr>\n",
       "      <th>4586</th>\n",
       "      <td>0.00</td>\n",
       "      <td>0.00</td>\n",
       "      <td>0.00</td>\n",
       "      <td>0.0</td>\n",
       "      <td>0.36</td>\n",
       "      <td>0.00</td>\n",
       "      <td>0.00</td>\n",
       "      <td>0.00</td>\n",
       "      <td>0.00</td>\n",
       "      <td>0.00</td>\n",
       "      <td>...</td>\n",
       "      <td>0.000</td>\n",
       "      <td>0.112</td>\n",
       "      <td>0.000</td>\n",
       "      <td>0.000</td>\n",
       "      <td>0.000</td>\n",
       "      <td>0.056</td>\n",
       "      <td>1.793</td>\n",
       "      <td>21</td>\n",
       "      <td>174</td>\n",
       "      <td>0</td>\n",
       "    </tr>\n",
       "    <tr>\n",
       "      <th>4587</th>\n",
       "      <td>0.00</td>\n",
       "      <td>0.00</td>\n",
       "      <td>0.00</td>\n",
       "      <td>0.0</td>\n",
       "      <td>0.00</td>\n",
       "      <td>0.00</td>\n",
       "      <td>0.00</td>\n",
       "      <td>0.00</td>\n",
       "      <td>0.00</td>\n",
       "      <td>0.00</td>\n",
       "      <td>...</td>\n",
       "      <td>0.000</td>\n",
       "      <td>0.125</td>\n",
       "      <td>0.000</td>\n",
       "      <td>0.000</td>\n",
       "      <td>0.125</td>\n",
       "      <td>0.000</td>\n",
       "      <td>1.272</td>\n",
       "      <td>4</td>\n",
       "      <td>28</td>\n",
       "      <td>0</td>\n",
       "    </tr>\n",
       "    <tr>\n",
       "      <th>4588</th>\n",
       "      <td>0.00</td>\n",
       "      <td>0.00</td>\n",
       "      <td>3.03</td>\n",
       "      <td>0.0</td>\n",
       "      <td>0.00</td>\n",
       "      <td>0.00</td>\n",
       "      <td>0.00</td>\n",
       "      <td>0.00</td>\n",
       "      <td>0.00</td>\n",
       "      <td>0.00</td>\n",
       "      <td>...</td>\n",
       "      <td>0.000</td>\n",
       "      <td>0.000</td>\n",
       "      <td>0.000</td>\n",
       "      <td>0.000</td>\n",
       "      <td>0.000</td>\n",
       "      <td>0.000</td>\n",
       "      <td>1.111</td>\n",
       "      <td>2</td>\n",
       "      <td>10</td>\n",
       "      <td>0</td>\n",
       "    </tr>\n",
       "    <tr>\n",
       "      <th>4589</th>\n",
       "      <td>0.00</td>\n",
       "      <td>0.00</td>\n",
       "      <td>0.00</td>\n",
       "      <td>0.0</td>\n",
       "      <td>0.54</td>\n",
       "      <td>0.00</td>\n",
       "      <td>0.00</td>\n",
       "      <td>0.00</td>\n",
       "      <td>0.00</td>\n",
       "      <td>0.00</td>\n",
       "      <td>...</td>\n",
       "      <td>0.000</td>\n",
       "      <td>0.000</td>\n",
       "      <td>0.000</td>\n",
       "      <td>0.000</td>\n",
       "      <td>0.000</td>\n",
       "      <td>0.000</td>\n",
       "      <td>1.000</td>\n",
       "      <td>1</td>\n",
       "      <td>22</td>\n",
       "      <td>0</td>\n",
       "    </tr>\n",
       "    <tr>\n",
       "      <th>4590</th>\n",
       "      <td>0.00</td>\n",
       "      <td>0.00</td>\n",
       "      <td>0.00</td>\n",
       "      <td>0.0</td>\n",
       "      <td>0.00</td>\n",
       "      <td>0.00</td>\n",
       "      <td>0.00</td>\n",
       "      <td>0.00</td>\n",
       "      <td>0.00</td>\n",
       "      <td>0.00</td>\n",
       "      <td>...</td>\n",
       "      <td>0.000</td>\n",
       "      <td>0.185</td>\n",
       "      <td>0.000</td>\n",
       "      <td>0.000</td>\n",
       "      <td>0.000</td>\n",
       "      <td>0.092</td>\n",
       "      <td>2.468</td>\n",
       "      <td>11</td>\n",
       "      <td>79</td>\n",
       "      <td>0</td>\n",
       "    </tr>\n",
       "    <tr>\n",
       "      <th>4591</th>\n",
       "      <td>0.00</td>\n",
       "      <td>0.00</td>\n",
       "      <td>0.00</td>\n",
       "      <td>0.0</td>\n",
       "      <td>0.00</td>\n",
       "      <td>0.00</td>\n",
       "      <td>0.00</td>\n",
       "      <td>0.00</td>\n",
       "      <td>0.00</td>\n",
       "      <td>0.00</td>\n",
       "      <td>...</td>\n",
       "      <td>0.000</td>\n",
       "      <td>0.000</td>\n",
       "      <td>0.000</td>\n",
       "      <td>0.000</td>\n",
       "      <td>0.000</td>\n",
       "      <td>0.000</td>\n",
       "      <td>1.000</td>\n",
       "      <td>1</td>\n",
       "      <td>8</td>\n",
       "      <td>0</td>\n",
       "    </tr>\n",
       "    <tr>\n",
       "      <th>4592</th>\n",
       "      <td>0.00</td>\n",
       "      <td>0.00</td>\n",
       "      <td>1.25</td>\n",
       "      <td>0.0</td>\n",
       "      <td>2.50</td>\n",
       "      <td>0.00</td>\n",
       "      <td>0.00</td>\n",
       "      <td>0.00</td>\n",
       "      <td>0.00</td>\n",
       "      <td>0.00</td>\n",
       "      <td>...</td>\n",
       "      <td>0.000</td>\n",
       "      <td>0.111</td>\n",
       "      <td>0.000</td>\n",
       "      <td>0.000</td>\n",
       "      <td>0.000</td>\n",
       "      <td>0.000</td>\n",
       "      <td>1.285</td>\n",
       "      <td>4</td>\n",
       "      <td>27</td>\n",
       "      <td>0</td>\n",
       "    </tr>\n",
       "    <tr>\n",
       "      <th>4593</th>\n",
       "      <td>0.00</td>\n",
       "      <td>0.00</td>\n",
       "      <td>0.00</td>\n",
       "      <td>0.0</td>\n",
       "      <td>0.00</td>\n",
       "      <td>0.00</td>\n",
       "      <td>0.00</td>\n",
       "      <td>0.00</td>\n",
       "      <td>0.00</td>\n",
       "      <td>0.00</td>\n",
       "      <td>...</td>\n",
       "      <td>0.000</td>\n",
       "      <td>0.000</td>\n",
       "      <td>0.000</td>\n",
       "      <td>1.052</td>\n",
       "      <td>0.000</td>\n",
       "      <td>0.000</td>\n",
       "      <td>1.000</td>\n",
       "      <td>1</td>\n",
       "      <td>6</td>\n",
       "      <td>0</td>\n",
       "    </tr>\n",
       "    <tr>\n",
       "      <th>4594</th>\n",
       "      <td>0.00</td>\n",
       "      <td>0.00</td>\n",
       "      <td>0.00</td>\n",
       "      <td>0.0</td>\n",
       "      <td>0.00</td>\n",
       "      <td>0.00</td>\n",
       "      <td>0.00</td>\n",
       "      <td>0.00</td>\n",
       "      <td>0.00</td>\n",
       "      <td>0.00</td>\n",
       "      <td>...</td>\n",
       "      <td>0.000</td>\n",
       "      <td>0.630</td>\n",
       "      <td>0.000</td>\n",
       "      <td>0.000</td>\n",
       "      <td>0.000</td>\n",
       "      <td>0.000</td>\n",
       "      <td>1.727</td>\n",
       "      <td>5</td>\n",
       "      <td>19</td>\n",
       "      <td>0</td>\n",
       "    </tr>\n",
       "    <tr>\n",
       "      <th>4595</th>\n",
       "      <td>0.00</td>\n",
       "      <td>0.00</td>\n",
       "      <td>1.19</td>\n",
       "      <td>0.0</td>\n",
       "      <td>0.00</td>\n",
       "      <td>0.00</td>\n",
       "      <td>0.00</td>\n",
       "      <td>0.00</td>\n",
       "      <td>0.00</td>\n",
       "      <td>0.00</td>\n",
       "      <td>...</td>\n",
       "      <td>0.000</td>\n",
       "      <td>0.000</td>\n",
       "      <td>0.000</td>\n",
       "      <td>0.000</td>\n",
       "      <td>0.000</td>\n",
       "      <td>0.000</td>\n",
       "      <td>1.000</td>\n",
       "      <td>1</td>\n",
       "      <td>24</td>\n",
       "      <td>0</td>\n",
       "    </tr>\n",
       "    <tr>\n",
       "      <th>4596</th>\n",
       "      <td>0.31</td>\n",
       "      <td>0.00</td>\n",
       "      <td>0.62</td>\n",
       "      <td>0.0</td>\n",
       "      <td>0.00</td>\n",
       "      <td>0.31</td>\n",
       "      <td>0.00</td>\n",
       "      <td>0.00</td>\n",
       "      <td>0.00</td>\n",
       "      <td>0.00</td>\n",
       "      <td>...</td>\n",
       "      <td>0.000</td>\n",
       "      <td>0.232</td>\n",
       "      <td>0.000</td>\n",
       "      <td>0.000</td>\n",
       "      <td>0.000</td>\n",
       "      <td>0.000</td>\n",
       "      <td>1.142</td>\n",
       "      <td>3</td>\n",
       "      <td>88</td>\n",
       "      <td>0</td>\n",
       "    </tr>\n",
       "    <tr>\n",
       "      <th>4597</th>\n",
       "      <td>0.00</td>\n",
       "      <td>0.00</td>\n",
       "      <td>0.00</td>\n",
       "      <td>0.0</td>\n",
       "      <td>0.00</td>\n",
       "      <td>0.00</td>\n",
       "      <td>0.00</td>\n",
       "      <td>0.00</td>\n",
       "      <td>0.00</td>\n",
       "      <td>0.00</td>\n",
       "      <td>...</td>\n",
       "      <td>0.000</td>\n",
       "      <td>0.000</td>\n",
       "      <td>0.000</td>\n",
       "      <td>0.353</td>\n",
       "      <td>0.000</td>\n",
       "      <td>0.000</td>\n",
       "      <td>1.555</td>\n",
       "      <td>4</td>\n",
       "      <td>14</td>\n",
       "      <td>0</td>\n",
       "    </tr>\n",
       "    <tr>\n",
       "      <th>4598</th>\n",
       "      <td>0.30</td>\n",
       "      <td>0.00</td>\n",
       "      <td>0.30</td>\n",
       "      <td>0.0</td>\n",
       "      <td>0.00</td>\n",
       "      <td>0.00</td>\n",
       "      <td>0.00</td>\n",
       "      <td>0.00</td>\n",
       "      <td>0.00</td>\n",
       "      <td>0.00</td>\n",
       "      <td>...</td>\n",
       "      <td>0.102</td>\n",
       "      <td>0.718</td>\n",
       "      <td>0.000</td>\n",
       "      <td>0.000</td>\n",
       "      <td>0.000</td>\n",
       "      <td>0.000</td>\n",
       "      <td>1.404</td>\n",
       "      <td>6</td>\n",
       "      <td>118</td>\n",
       "      <td>0</td>\n",
       "    </tr>\n",
       "    <tr>\n",
       "      <th>4599</th>\n",
       "      <td>0.96</td>\n",
       "      <td>0.00</td>\n",
       "      <td>0.00</td>\n",
       "      <td>0.0</td>\n",
       "      <td>0.32</td>\n",
       "      <td>0.00</td>\n",
       "      <td>0.00</td>\n",
       "      <td>0.00</td>\n",
       "      <td>0.00</td>\n",
       "      <td>0.00</td>\n",
       "      <td>...</td>\n",
       "      <td>0.000</td>\n",
       "      <td>0.057</td>\n",
       "      <td>0.000</td>\n",
       "      <td>0.000</td>\n",
       "      <td>0.000</td>\n",
       "      <td>0.000</td>\n",
       "      <td>1.147</td>\n",
       "      <td>5</td>\n",
       "      <td>78</td>\n",
       "      <td>0</td>\n",
       "    </tr>\n",
       "    <tr>\n",
       "      <th>4600</th>\n",
       "      <td>0.00</td>\n",
       "      <td>0.00</td>\n",
       "      <td>0.65</td>\n",
       "      <td>0.0</td>\n",
       "      <td>0.00</td>\n",
       "      <td>0.00</td>\n",
       "      <td>0.00</td>\n",
       "      <td>0.00</td>\n",
       "      <td>0.00</td>\n",
       "      <td>0.00</td>\n",
       "      <td>...</td>\n",
       "      <td>0.000</td>\n",
       "      <td>0.000</td>\n",
       "      <td>0.000</td>\n",
       "      <td>0.125</td>\n",
       "      <td>0.000</td>\n",
       "      <td>0.000</td>\n",
       "      <td>1.250</td>\n",
       "      <td>5</td>\n",
       "      <td>40</td>\n",
       "      <td>0</td>\n",
       "    </tr>\n",
       "  </tbody>\n",
       "</table>\n",
       "<p>4601 rows × 58 columns</p>\n",
       "</div>"
      ],
      "text/plain": [
       "      word_freq_make  word_freq_address  word_freq_all  word_freq_3d  \\\n",
       "0               0.00               0.64           0.64           0.0   \n",
       "1               0.21               0.28           0.50           0.0   \n",
       "2               0.06               0.00           0.71           0.0   \n",
       "3               0.00               0.00           0.00           0.0   \n",
       "4               0.00               0.00           0.00           0.0   \n",
       "5               0.00               0.00           0.00           0.0   \n",
       "6               0.00               0.00           0.00           0.0   \n",
       "7               0.00               0.00           0.00           0.0   \n",
       "8               0.15               0.00           0.46           0.0   \n",
       "9               0.06               0.12           0.77           0.0   \n",
       "10              0.00               0.00           0.00           0.0   \n",
       "11              0.00               0.00           0.25           0.0   \n",
       "12              0.00               0.69           0.34           0.0   \n",
       "13              0.00               0.00           0.00           0.0   \n",
       "14              0.00               0.00           1.42           0.0   \n",
       "15              0.00               0.42           0.42           0.0   \n",
       "16              0.00               0.00           0.00           0.0   \n",
       "17              0.00               0.00           0.00           0.0   \n",
       "18              0.00               0.00           0.55           0.0   \n",
       "19              0.00               0.63           0.00           0.0   \n",
       "20              0.00               0.00           0.00           0.0   \n",
       "21              0.05               0.07           0.10           0.0   \n",
       "22              0.00               0.00           0.00           0.0   \n",
       "23              0.00               0.00           0.00           0.0   \n",
       "24              0.00               0.00           0.00           0.0   \n",
       "25              0.05               0.07           0.10           0.0   \n",
       "26              0.00               0.00           0.00           0.0   \n",
       "27              0.00               0.00           0.00           0.0   \n",
       "28              0.00               0.00           0.00           0.0   \n",
       "29              0.00               0.00           0.00           0.0   \n",
       "...              ...                ...            ...           ...   \n",
       "4571            0.00               0.00           0.46           0.0   \n",
       "4572            0.00               0.00           0.00           0.0   \n",
       "4573            0.00               0.00           0.18           0.0   \n",
       "4574            0.29               0.00           0.29           0.0   \n",
       "4575            0.00               0.00           0.00           0.0   \n",
       "4576            0.00               0.00           0.00           0.0   \n",
       "4577            0.00               0.00           1.20           0.0   \n",
       "4578            0.00               0.00           0.40           0.0   \n",
       "4579            0.27               0.05           0.10           0.0   \n",
       "4580            0.00               0.00           0.00           0.0   \n",
       "4581            0.00               0.00           0.00           0.0   \n",
       "4582            0.00               0.00           0.00           0.0   \n",
       "4583            0.00               0.00           1.23           0.0   \n",
       "4584            0.00               0.00           0.45           0.0   \n",
       "4585            0.00               0.00           0.00           0.0   \n",
       "4586            0.00               0.00           0.00           0.0   \n",
       "4587            0.00               0.00           0.00           0.0   \n",
       "4588            0.00               0.00           3.03           0.0   \n",
       "4589            0.00               0.00           0.00           0.0   \n",
       "4590            0.00               0.00           0.00           0.0   \n",
       "4591            0.00               0.00           0.00           0.0   \n",
       "4592            0.00               0.00           1.25           0.0   \n",
       "4593            0.00               0.00           0.00           0.0   \n",
       "4594            0.00               0.00           0.00           0.0   \n",
       "4595            0.00               0.00           1.19           0.0   \n",
       "4596            0.31               0.00           0.62           0.0   \n",
       "4597            0.00               0.00           0.00           0.0   \n",
       "4598            0.30               0.00           0.30           0.0   \n",
       "4599            0.96               0.00           0.00           0.0   \n",
       "4600            0.00               0.00           0.65           0.0   \n",
       "\n",
       "      word_freq_our  word_freq_over  word_freq_remove  word_freq_internet  \\\n",
       "0              0.32            0.00              0.00                0.00   \n",
       "1              0.14            0.28              0.21                0.07   \n",
       "2              1.23            0.19              0.19                0.12   \n",
       "3              0.63            0.00              0.31                0.63   \n",
       "4              0.63            0.00              0.31                0.63   \n",
       "5              1.85            0.00              0.00                1.85   \n",
       "6              1.92            0.00              0.00                0.00   \n",
       "7              1.88            0.00              0.00                1.88   \n",
       "8              0.61            0.00              0.30                0.00   \n",
       "9              0.19            0.32              0.38                0.00   \n",
       "10             0.00            0.00              0.96                0.00   \n",
       "11             0.38            0.25              0.25                0.00   \n",
       "12             0.34            0.00              0.00                0.00   \n",
       "13             0.90            0.00              0.90                0.00   \n",
       "14             0.71            0.35              0.00                0.35   \n",
       "15             1.27            0.00              0.42                0.00   \n",
       "16             0.94            0.00              0.00                0.00   \n",
       "17             0.00            0.00              0.00                0.00   \n",
       "18             1.11            0.00              0.18                0.00   \n",
       "19             1.59            0.31              0.00                0.00   \n",
       "20             0.00            0.00              0.00                0.00   \n",
       "21             0.76            0.05              0.15                0.02   \n",
       "22             2.94            0.00              0.00                0.00   \n",
       "23             1.16            0.00              0.00                0.00   \n",
       "24             0.00            0.00              0.00                0.00   \n",
       "25             0.76            0.05              0.15                0.02   \n",
       "26             0.00            0.00              0.00                0.00   \n",
       "27             0.00            0.00              1.66                0.00   \n",
       "28             0.00            0.00              0.00                0.00   \n",
       "29             0.65            0.00              0.65                0.00   \n",
       "...             ...             ...               ...                 ...   \n",
       "4571           0.23            0.23              0.00                0.00   \n",
       "4572           0.00            0.00              0.00                0.00   \n",
       "4573           0.18            0.18              0.00                0.00   \n",
       "4574           0.00            0.00              0.00                0.00   \n",
       "4575           0.00            0.00              0.00                0.00   \n",
       "4576           0.00            0.00              0.00                0.00   \n",
       "4577           0.00            0.00              0.00                0.00   \n",
       "4578           0.00            0.00              0.00                0.00   \n",
       "4579           0.00            0.00              0.00                0.00   \n",
       "4580           0.00            0.00              0.00                0.00   \n",
       "4581           0.00            0.51              0.00                0.00   \n",
       "4582           0.00            0.00              0.00                0.00   \n",
       "4583           0.00            0.00              0.00                0.00   \n",
       "4584           0.00            0.22              0.00                0.00   \n",
       "4585           0.00            0.00              0.00                0.00   \n",
       "4586           0.36            0.00              0.00                0.00   \n",
       "4587           0.00            0.00              0.00                0.00   \n",
       "4588           0.00            0.00              0.00                0.00   \n",
       "4589           0.54            0.00              0.00                0.00   \n",
       "4590           0.00            0.00              0.00                0.00   \n",
       "4591           0.00            0.00              0.00                0.00   \n",
       "4592           2.50            0.00              0.00                0.00   \n",
       "4593           0.00            0.00              0.00                0.00   \n",
       "4594           0.00            0.00              0.00                0.00   \n",
       "4595           0.00            0.00              0.00                0.00   \n",
       "4596           0.00            0.31              0.00                0.00   \n",
       "4597           0.00            0.00              0.00                0.00   \n",
       "4598           0.00            0.00              0.00                0.00   \n",
       "4599           0.32            0.00              0.00                0.00   \n",
       "4600           0.00            0.00              0.00                0.00   \n",
       "\n",
       "      word_freq_order  word_freq_mail  ...    char_freq_;  char_freq_(  \\\n",
       "0                0.00            0.00  ...          0.000        0.000   \n",
       "1                0.00            0.94  ...          0.000        0.132   \n",
       "2                0.64            0.25  ...          0.010        0.143   \n",
       "3                0.31            0.63  ...          0.000        0.137   \n",
       "4                0.31            0.63  ...          0.000        0.135   \n",
       "5                0.00            0.00  ...          0.000        0.223   \n",
       "6                0.00            0.64  ...          0.000        0.054   \n",
       "7                0.00            0.00  ...          0.000        0.206   \n",
       "8                0.92            0.76  ...          0.000        0.271   \n",
       "9                0.06            0.00  ...          0.040        0.030   \n",
       "10               0.00            1.92  ...          0.000        0.000   \n",
       "11               0.00            0.00  ...          0.022        0.044   \n",
       "12               0.00            0.00  ...          0.000        0.056   \n",
       "13               0.00            0.90  ...          0.000        0.000   \n",
       "14               0.00            0.71  ...          0.000        0.102   \n",
       "15               0.00            1.27  ...          0.000        0.063   \n",
       "16               0.00            0.00  ...          0.000        0.000   \n",
       "17               0.00            0.00  ...          0.000        0.000   \n",
       "18               0.00            0.00  ...          0.000        0.182   \n",
       "19               0.31            0.00  ...          0.000        0.275   \n",
       "20               0.00            0.00  ...          0.000        0.729   \n",
       "21               0.55            0.00  ...          0.042        0.101   \n",
       "22               0.00            0.00  ...          0.404        0.404   \n",
       "23               0.00            0.00  ...          0.000        0.133   \n",
       "24               0.00            0.00  ...          0.000        0.196   \n",
       "25               0.55            0.00  ...          0.042        0.101   \n",
       "26               0.00            0.00  ...          0.000        0.196   \n",
       "27               0.00            0.00  ...          0.000        0.000   \n",
       "28               0.00            0.00  ...          0.000        0.352   \n",
       "29               0.00            0.00  ...          0.000        0.459   \n",
       "...               ...             ...  ...            ...          ...   \n",
       "4571             0.00            0.00  ...          0.000        0.082   \n",
       "4572             0.00            0.00  ...          0.000        0.254   \n",
       "4573             0.00            0.00  ...          0.033        0.033   \n",
       "4574             0.00            0.29  ...          0.000        0.107   \n",
       "4575             0.00            1.38  ...          0.000        0.213   \n",
       "4576             0.00            0.00  ...          0.000        0.131   \n",
       "4577             0.00            0.00  ...          0.000        0.000   \n",
       "4578             0.00            0.00  ...          0.000        0.000   \n",
       "4579             0.00            0.00  ...          0.607        0.064   \n",
       "4580             0.00            0.00  ...          0.000        0.000   \n",
       "4581             0.00            0.00  ...          0.000        0.091   \n",
       "4582             0.00            0.00  ...          0.000        0.000   \n",
       "4583             0.00            0.00  ...          0.000        0.000   \n",
       "4584             0.00            0.00  ...          0.000        0.082   \n",
       "4585             0.00            0.00  ...          0.000        0.625   \n",
       "4586             0.00            0.00  ...          0.000        0.112   \n",
       "4587             0.00            0.00  ...          0.000        0.125   \n",
       "4588             0.00            0.00  ...          0.000        0.000   \n",
       "4589             0.00            0.00  ...          0.000        0.000   \n",
       "4590             0.00            0.00  ...          0.000        0.185   \n",
       "4591             0.00            0.00  ...          0.000        0.000   \n",
       "4592             0.00            0.00  ...          0.000        0.111   \n",
       "4593             0.00            0.00  ...          0.000        0.000   \n",
       "4594             0.00            0.00  ...          0.000        0.630   \n",
       "4595             0.00            0.00  ...          0.000        0.000   \n",
       "4596             0.00            0.00  ...          0.000        0.232   \n",
       "4597             0.00            0.00  ...          0.000        0.000   \n",
       "4598             0.00            0.00  ...          0.102        0.718   \n",
       "4599             0.00            0.00  ...          0.000        0.057   \n",
       "4600             0.00            0.00  ...          0.000        0.000   \n",
       "\n",
       "      char_freq_[  char_freq_!  char_freq_$  char_freq_#  \\\n",
       "0           0.000        0.778        0.000        0.000   \n",
       "1           0.000        0.372        0.180        0.048   \n",
       "2           0.000        0.276        0.184        0.010   \n",
       "3           0.000        0.137        0.000        0.000   \n",
       "4           0.000        0.135        0.000        0.000   \n",
       "5           0.000        0.000        0.000        0.000   \n",
       "6           0.000        0.164        0.054        0.000   \n",
       "7           0.000        0.000        0.000        0.000   \n",
       "8           0.000        0.181        0.203        0.022   \n",
       "9           0.000        0.244        0.081        0.000   \n",
       "10          0.000        0.462        0.000        0.000   \n",
       "11          0.000        0.663        0.000        0.000   \n",
       "12          0.000        0.786        0.000        0.000   \n",
       "13          0.000        0.000        0.000        0.000   \n",
       "14          0.000        0.357        0.000        0.000   \n",
       "15          0.000        0.572        0.063        0.000   \n",
       "16          0.000        0.428        0.000        0.000   \n",
       "17          0.000        1.975        0.370        0.000   \n",
       "18          0.000        0.455        0.000        0.000   \n",
       "19          0.000        0.055        0.496        0.000   \n",
       "20          0.000        0.729        0.000        0.000   \n",
       "21          0.016        0.250        0.046        0.059   \n",
       "22          0.000        0.809        0.000        0.000   \n",
       "23          0.000        0.667        0.000        0.000   \n",
       "24          0.000        0.392        0.196        0.000   \n",
       "25          0.016        0.250        0.046        0.059   \n",
       "26          0.000        0.392        0.196        0.000   \n",
       "27          0.000        0.368        0.000        0.000   \n",
       "28          0.000        0.352        0.000        0.000   \n",
       "29          0.000        0.091        0.000        0.000   \n",
       "...           ...          ...          ...          ...   \n",
       "4571        0.000        0.082        0.000        0.000   \n",
       "4572        0.000        0.000        0.000        0.000   \n",
       "4573        0.000        0.099        0.000        0.000   \n",
       "4574        0.000        0.000        0.000        0.000   \n",
       "4575        0.000        0.000        0.000        0.000   \n",
       "4576        0.000        0.000        0.000        0.000   \n",
       "4577        0.000        0.000        0.000        0.000   \n",
       "4578        0.145        0.000        0.000        0.000   \n",
       "4579        0.036        0.055        0.000        0.202   \n",
       "4580        0.000        0.000        0.000        0.000   \n",
       "4581        0.000        0.091        0.000        0.000   \n",
       "4582        0.000        0.000        0.000        0.000   \n",
       "4583        0.406        0.000        0.000        0.000   \n",
       "4584        0.000        0.041        0.000        0.000   \n",
       "4585        0.000        0.000        0.000        0.000   \n",
       "4586        0.000        0.000        0.000        0.056   \n",
       "4587        0.000        0.000        0.125        0.000   \n",
       "4588        0.000        0.000        0.000        0.000   \n",
       "4589        0.000        0.000        0.000        0.000   \n",
       "4590        0.000        0.000        0.000        0.092   \n",
       "4591        0.000        0.000        0.000        0.000   \n",
       "4592        0.000        0.000        0.000        0.000   \n",
       "4593        0.000        1.052        0.000        0.000   \n",
       "4594        0.000        0.000        0.000        0.000   \n",
       "4595        0.000        0.000        0.000        0.000   \n",
       "4596        0.000        0.000        0.000        0.000   \n",
       "4597        0.000        0.353        0.000        0.000   \n",
       "4598        0.000        0.000        0.000        0.000   \n",
       "4599        0.000        0.000        0.000        0.000   \n",
       "4600        0.000        0.125        0.000        0.000   \n",
       "\n",
       "      capital_run_length_average  capital_run_length_longest  \\\n",
       "0                          3.756                          61   \n",
       "1                          5.114                         101   \n",
       "2                          9.821                         485   \n",
       "3                          3.537                          40   \n",
       "4                          3.537                          40   \n",
       "5                          3.000                          15   \n",
       "6                          1.671                           4   \n",
       "7                          2.450                          11   \n",
       "8                          9.744                         445   \n",
       "9                          1.729                          43   \n",
       "10                         1.312                           6   \n",
       "11                         1.243                          11   \n",
       "12                         3.728                          61   \n",
       "13                         2.083                           7   \n",
       "14                         1.971                          24   \n",
       "15                         5.659                          55   \n",
       "16                         4.652                          31   \n",
       "17                        35.461                          95   \n",
       "18                         1.320                           4   \n",
       "19                         3.509                          91   \n",
       "20                         3.833                           9   \n",
       "21                         2.569                          66   \n",
       "22                         4.857                          12   \n",
       "23                         1.131                           5   \n",
       "24                         5.466                          22   \n",
       "25                         2.565                          66   \n",
       "26                         5.466                          22   \n",
       "27                         2.611                          12   \n",
       "28                         4.000                          11   \n",
       "29                         2.687                          66   \n",
       "...                          ...                         ...   \n",
       "4571                       1.256                           5   \n",
       "4572                       1.000                           1   \n",
       "4573                       1.489                          11   \n",
       "4574                       1.220                           6   \n",
       "4575                       1.720                          11   \n",
       "4576                       1.488                           5   \n",
       "4577                       1.200                           3   \n",
       "4578                       1.372                           5   \n",
       "4579                       3.766                          43   \n",
       "4580                       1.571                           5   \n",
       "4581                       1.586                           4   \n",
       "4582                       1.266                           3   \n",
       "4583                       1.666                          13   \n",
       "4584                       1.500                           7   \n",
       "4585                       1.375                           4   \n",
       "4586                       1.793                          21   \n",
       "4587                       1.272                           4   \n",
       "4588                       1.111                           2   \n",
       "4589                       1.000                           1   \n",
       "4590                       2.468                          11   \n",
       "4591                       1.000                           1   \n",
       "4592                       1.285                           4   \n",
       "4593                       1.000                           1   \n",
       "4594                       1.727                           5   \n",
       "4595                       1.000                           1   \n",
       "4596                       1.142                           3   \n",
       "4597                       1.555                           4   \n",
       "4598                       1.404                           6   \n",
       "4599                       1.147                           5   \n",
       "4600                       1.250                           5   \n",
       "\n",
       "      capital_run_length_total  label  \n",
       "0                          278      1  \n",
       "1                         1028      1  \n",
       "2                         2259      1  \n",
       "3                          191      1  \n",
       "4                          191      1  \n",
       "5                           54      1  \n",
       "6                          112      1  \n",
       "7                           49      1  \n",
       "8                         1257      1  \n",
       "9                          749      1  \n",
       "10                          21      1  \n",
       "11                         184      1  \n",
       "12                         261      1  \n",
       "13                          25      1  \n",
       "14                         205      1  \n",
       "15                         249      1  \n",
       "16                         107      1  \n",
       "17                         461      1  \n",
       "18                          70      1  \n",
       "19                         186      1  \n",
       "20                          23      1  \n",
       "21                        2259      1  \n",
       "22                          34      1  \n",
       "23                          69      1  \n",
       "24                          82      1  \n",
       "25                        2258      1  \n",
       "26                          82      1  \n",
       "27                          47      1  \n",
       "28                          36      1  \n",
       "29                         129      1  \n",
       "...                        ...    ...  \n",
       "4571                        98      0  \n",
       "4572                        13      0  \n",
       "4573                       137      0  \n",
       "4574                        61      0  \n",
       "4575                        43      0  \n",
       "4576                        64      0  \n",
       "4577                        24      0  \n",
       "4578                        70      0  \n",
       "4579                      1789      0  \n",
       "4580                        11      0  \n",
       "4581                        46      0  \n",
       "4582                        19      0  \n",
       "4583                        70      0  \n",
       "4584                       123      0  \n",
       "4585                        11      0  \n",
       "4586                       174      0  \n",
       "4587                        28      0  \n",
       "4588                        10      0  \n",
       "4589                        22      0  \n",
       "4590                        79      0  \n",
       "4591                         8      0  \n",
       "4592                        27      0  \n",
       "4593                         6      0  \n",
       "4594                        19      0  \n",
       "4595                        24      0  \n",
       "4596                        88      0  \n",
       "4597                        14      0  \n",
       "4598                       118      0  \n",
       "4599                        78      0  \n",
       "4600                        40      0  \n",
       "\n",
       "[4601 rows x 58 columns]"
      ]
     },
     "execution_count": 151,
     "metadata": {},
     "output_type": "execute_result"
    }
   ],
   "source": [
    "spam_data"
   ]
  },
  {
   "cell_type": "code",
   "execution_count": 27,
   "metadata": {
    "collapsed": true
   },
   "outputs": [],
   "source": [
    "depths = range(2, 22, 2)"
   ]
  },
  {
   "cell_type": "code",
   "execution_count": 271,
   "metadata": {
    "collapsed": true
   },
   "outputs": [],
   "source": [
    "X, y = spam_data.drop('label', axis=1), spam_data['label']"
   ]
  },
  {
   "cell_type": "code",
   "execution_count": 259,
   "metadata": {
    "collapsed": true
   },
   "outputs": [],
   "source": [
    "from sklearn.model_selection import train_test_split\n",
    "from sklearn.metrics import accuracy_score"
   ]
  },
  {
   "cell_type": "code",
   "execution_count": 285,
   "metadata": {
    "collapsed": true
   },
   "outputs": [],
   "source": [
    "Xtr, Xte, ytr, yte = train_test_split(X, y, test_size=0.3)"
   ]
  },
  {
   "cell_type": "code",
   "execution_count": 286,
   "metadata": {
    "collapsed": true
   },
   "outputs": [],
   "source": [
    "model = "
   ]
  },
  {
   "cell_type": "code",
   "execution_count": 296,
   "metadata": {
    "collapsed": true
   },
   "outputs": [],
   "source": [
    "ds = range(1, 50)\n",
    "accs_tr = [accuracy_score(y_pred=(DecisionTreeClassifier(max_depth=d)\n",
    "                              .fit(Xtr, ytr)\n",
    "                              .predict(Xtr)),\n",
    "               y_true=ytr) for d in ds]\n",
    "accs_te = [accuracy_score(y_pred=(DecisionTreeClassifier(max_depth=d)\n",
    "                              .fit(Xtr, ytr)\n",
    "                              .predict(Xte)),\n",
    "               y_true=yte) for d in ds]"
   ]
  },
  {
   "cell_type": "code",
   "execution_count": 297,
   "metadata": {},
   "outputs": [
    {
     "data": {
      "image/png": "[encoded data removed]",
      "text/plain": [
       "<matplotlib.figure.Figure at 0x10ebb6f50>"
      ]
     },
     "metadata": {},
     "output_type": "display_data"
    }
   ],
   "source": [
    "plt.plot(ds, accs_tr, label='training')\n",
    "plt.plot(ds, accs_te, label='test')\n",
    "plt.xlabel('tree depth')\n",
    "plt.ylabel('accuracy score')\n",
    "plt.legend()\n",
    "plt.savefig('../12-evaluation/img/train_test_acc.png', dpi=300)"
   ]
  },
  {
   "cell_type": "code",
   "execution_count": 341,
   "metadata": {
    "collapsed": true
   },
   "outputs": [],
   "source": [
    "from sklearn.linear_model import LogisticRegression"
   ]
  },
  {
   "cell_type": "code",
   "execution_count": 364,
   "metadata": {
    "collapsed": true
   },
   "outputs": [],
   "source": [
    "Xf, yf = make_classification(1000, n_features=10, n_informative=10, n_redundant=0, class_sep=1)\n",
    "fit_scores = []\n",
    "n_trains = range(10, 200, 5)\n",
    "for i in n_trains:\n",
    "    s_tmp = []\n",
    "    for _ in range(40):\n",
    "        X_ftr, X_fte, y_ftr, y_fte = train_test_split(X, y, train_size=i)\n",
    "        s_tmp.append(accuracy_score(y_pred=(LogisticRegression()\n",
    "                                             .fit(X_ftr, y_ftr)\n",
    "                                             .predict(X_fte)), y_true=y_fte))\n",
    "    fit_scores.append(np.mean(s_tmp))"
   ]
  },
  {
   "cell_type": "code",
   "execution_count": 366,
   "metadata": {},
   "outputs": [
    {
     "data": {
      "image/png": "[encoded data removed]",
      "text/plain": [
       "<matplotlib.figure.Figure at 0x10f5d9490>"
      ]
     },
     "metadata": {},
     "output_type": "display_data"
    }
   ],
   "source": [
    "plt.plot(n_trains, fit_scores)\n",
    "plt.xlabel('training size')\n",
    "plt.ylabel('average test accuracy')\n",
    "plt.savefig('../12-evaluation/img/train_size_acc.png', dpi=300)"
   ]
  },
  {
   "cell_type": "code",
   "execution_count": 29,
   "metadata": {
    "collapsed": true
   },
   "outputs": [],
   "source": [
    "scores = [cross_val_score(DecisionTreeClassifier(max_depth=d), X, y) for d in depths]"
   ]
  },
  {
   "cell_type": "code",
   "execution_count": 30,
   "metadata": {
    "collapsed": true
   },
   "outputs": [],
   "source": [
    "means, sds = [[f(s) for s in scores] for f in (np.mean, np.std)]"
   ]
  },
  {
   "cell_type": "code",
   "execution_count": 31,
   "metadata": {},
   "outputs": [
    {
     "data": {
      "text/plain": [
       "<Container object of 3 artists>"
      ]
     },
     "execution_count": 31,
     "metadata": {},
     "output_type": "execute_result"
    },
    {
     "data": {
      "image/png": "[encoded data removed]",
      "text/plain": [
       "<matplotlib.figure.Figure at 0x10b1e5310>"
      ]
     },
     "metadata": {},
     "output_type": "display_data"
    }
   ],
   "source": [
    "plt.errorbar(depths, means, yerr=sds, fmt='o')"
   ]
  },
  {
   "cell_type": "code",
   "execution_count": 32,
   "metadata": {
    "collapsed": true
   },
   "outputs": [],
   "source": [
    "?DecisionTreeClassifier"
   ]
  },
  {
   "cell_type": "code",
   "execution_count": 33,
   "metadata": {
    "collapsed": true
   },
   "outputs": [],
   "source": [
    "from sklearn.ensemble import BaggingClassifier"
   ]
  },
  {
   "cell_type": "code",
   "execution_count": 34,
   "metadata": {
    "collapsed": true
   },
   "outputs": [],
   "source": [
    "def cv_spam(models):\n",
    "    scores = [cross_val_score(model, X, y) for model in models]\n",
    "    means, sds = [[f(s) for s in scores] for f in (np.mean, np.std)]\n",
    "    return means, sds"
   ]
  },
  {
   "cell_type": "code",
   "execution_count": 35,
   "metadata": {
    "collapsed": true
   },
   "outputs": [],
   "source": [
    "mean_tree, sd_tree = cv_spam([DecisionTreeClassifier(max_depth=d) for d in depths])"
   ]
  },
  {
   "cell_type": "code",
   "execution_count": 36,
   "metadata": {
    "collapsed": true
   },
   "outputs": [],
   "source": [
    "mean_bag, sd_bag = cv_spam([BaggingClassifier(DecisionTreeClassifier(max_depth = d),\n",
    "                                              n_estimators=10, n_jobs=4) for d in depths])"
   ]
  },
  {
   "cell_type": "code",
   "execution_count": 37,
   "metadata": {},
   "outputs": [
    {
     "data": {
      "text/plain": [
       "<Container object of 3 artists>"
      ]
     },
     "execution_count": 37,
     "metadata": {},
     "output_type": "execute_result"
    },
    {
     "data": {
      "image/png": "[encoded data removed]",
      "text/plain": [
       "<matplotlib.figure.Figure at 0x10b7d44d0>"
      ]
     },
     "metadata": {},
     "output_type": "display_data"
    }
   ],
   "source": [
    "plt.errorbar(depths, mean_tree, yerr=sd_tree, fmt='o', )\n",
    "plt.errorbar(depths, mean_bag, yerr=sd_bag, fmt='o')"
   ]
  },
  {
   "cell_type": "code",
   "execution_count": 41,
   "metadata": {
    "collapsed": true
   },
   "outputs": [],
   "source": [
    "from sklearn.model_selection import GridSearchCV"
   ]
  },
  {
   "cell_type": "code",
   "execution_count": 45,
   "metadata": {
    "collapsed": true
   },
   "outputs": [],
   "source": [
    "gs_model = GridSearchCV(DecisionTreeClassifier(), {'max_depth': depths})"
   ]
  },
  {
   "cell_type": "code",
   "execution_count": 47,
   "metadata": {
    "collapsed": true
   },
   "outputs": [],
   "source": [
    "gs_fit = gs_model.fit(X, y)"
   ]
  },
  {
   "cell_type": "code",
   "execution_count": 48,
   "metadata": {
    "collapsed": true
   },
   "outputs": [
    {
     "data": {
      "text/plain": [
       "{'mean_fit_time': array([ 0.01514967,  0.02091726,  0.02797699,  0.02989435,  0.03457936,\n",
       "         0.0383153 ,  0.05305068,  0.05134892,  0.04594072,  0.04605595]),\n",
       " 'mean_score_time': array([ 0.00100207,  0.00085394,  0.00079075,  0.0007236 ,  0.00074402,\n",
       "         0.000741  ,  0.00106692,  0.00073171,  0.00065001,  0.00064174]),\n",
       " 'mean_test_score': array([ 0.8426429 ,  0.88437296,  0.89219735,  0.88459031,  0.89480548,\n",
       "         0.88937188,  0.89263204,  0.88437296,  0.87980874,  0.86959357]),\n",
       " 'mean_train_score': array([ 0.86991985,  0.91512723,  0.94099073,  0.95881283,  0.96902804,\n",
       "         0.97826571,  0.98348282,  0.98782989,  0.99141578,  0.99337188]),\n",
       " 'param_max_depth': masked_array(data = [2 4 6 8 10 12 14 16 18 20],\n",
       "              mask = [False False False False False False False False False False],\n",
       "        fill_value = ?),\n",
       " 'params': ({'max_depth': 2},\n",
       "  {'max_depth': 4},\n",
       "  {'max_depth': 6},\n",
       "  {'max_depth': 8},\n",
       "  {'max_depth': 10},\n",
       "  {'max_depth': 12},\n",
       "  {'max_depth': 14},\n",
       "  {'max_depth': 16},\n",
       "  {'max_depth': 18},\n",
       "  {'max_depth': 20}),\n",
       " 'rank_test_score': array([10,  6,  3,  5,  1,  4,  2,  6,  8,  9], dtype=int32),\n",
       " 'split0_test_score': array([ 0.85667752,  0.89120521,  0.90684039,  0.89120521,  0.90032573,\n",
       "         0.89315961,  0.9009772 ,  0.9009772 ,  0.88664495,  0.88273616]),\n",
       " 'split0_train_score': array([ 0.87116765,  0.91552511,  0.93933464,  0.956621  ,  0.96705806,\n",
       "         0.97879974,  0.98793216,  0.99315068,  0.99543379,  0.99739074]),\n",
       " 'split1_test_score': array([ 0.88584475,  0.90998043,  0.92367906,  0.9210698 ,  0.92628832,\n",
       "         0.92237443,  0.91976517,  0.91389432,  0.91128506,  0.89171559]),\n",
       " 'split1_train_score': array([ 0.85625815,  0.9041721 ,  0.93057366,  0.95306389,  0.96740548,\n",
       "         0.97588005,  0.98044329,  0.98402868,  0.98761408,  0.98956975]),\n",
       " 'split2_test_score': array([ 0.78538813,  0.85192433,  0.84605349,  0.84148728,  0.85779517,\n",
       "         0.85257665,  0.85714286,  0.8382257 ,  0.84148728,  0.83431181]),\n",
       " 'split2_train_score': array([ 0.88233377,  0.92568449,  0.95306389,  0.96675359,  0.9726206 ,\n",
       "         0.98011734,  0.98207301,  0.9863103 ,  0.99119948,  0.99315515]),\n",
       " 'std_fit_time': array([ 0.00062995,  0.00060427,  0.00081877,  0.00245135,  0.00102055,\n",
       "         0.00417716,  0.00131674,  0.00378886,  0.00399727,  0.00275115]),\n",
       " 'std_score_time': array([  1.49188826e-04,   2.17134048e-05,   6.66038515e-05,\n",
       "          1.05320221e-04,   1.35914809e-04,   1.39810221e-04,\n",
       "          1.31185404e-04,   1.13466372e-04,   3.56918975e-05,\n",
       "          4.11161271e-05]),\n",
       " 'std_test_score': array([ 0.04218773,  0.02418425,  0.03333468,  0.03281785,  0.02822768,\n",
       "         0.02861442,  0.02623308,  0.03304399,  0.02889636,  0.02520787]),\n",
       " 'std_train_score': array([ 0.01068183,  0.0087869 ,  0.00925597,  0.00579971,  0.00254428,\n",
       "         0.0017706 ,  0.00321574,  0.00387596,  0.00319604,  0.00319658])}"
      ]
     },
     "execution_count": 48,
     "metadata": {},
     "output_type": "execute_result"
    }
   ],
   "source": [
    "gs_fit.cv_results_"
   ]
  },
  {
   "cell_type": "code",
   "execution_count": 49,
   "metadata": {},
   "outputs": [
    {
     "data": {
      "text/plain": [
       "{'max_depth': 10}"
      ]
     },
     "execution_count": 49,
     "metadata": {},
     "output_type": "execute_result"
    }
   ],
   "source": [
    "gs_fit.best_params_"
   ]
  },
  {
   "cell_type": "code",
   "execution_count": 50,
   "metadata": {},
   "outputs": [
    {
     "data": {
      "text/plain": [
       "0.89480547707020208"
      ]
     },
     "execution_count": 50,
     "metadata": {},
     "output_type": "execute_result"
    }
   ],
   "source": [
    "gs_fit.best_score_"
   ]
  },
  {
   "cell_type": "code",
   "execution_count": 53,
   "metadata": {},
   "outputs": [
    {
     "data": {
      "text/plain": [
       "(masked_array(data = [2 4 6 8 10 12 14 16 18 20],\n",
       "              mask = [False False False False False False False False False False],\n",
       "        fill_value = ?),\n",
       " array([ 0.8426429 ,  0.88437296,  0.89219735,  0.88459031,  0.89480548,\n",
       "         0.88937188,  0.89263204,  0.88437296,  0.87980874,  0.86959357]))"
      ]
     },
     "execution_count": 53,
     "metadata": {},
     "output_type": "execute_result"
    }
   ],
   "source": [
    "gs_fit.cv_results_['param_max_depth'], gs_fit.cv_results_['mean_test_score']"
   ]
  },
  {
   "cell_type": "code",
   "execution_count": 56,
   "metadata": {},
   "outputs": [
    {
     "data": {
      "text/plain": [
       "<Container object of 3 artists>"
      ]
     },
     "execution_count": 56,
     "metadata": {},
     "output_type": "execute_result"
    },
    {
     "data": {
      "image/png": "[encoded data removed]",
      "text/plain": [
       "<matplotlib.figure.Figure at 0x10c1661d0>"
      ]
     },
     "metadata": {},
     "output_type": "display_data"
    }
   ],
   "source": [
    "plt.errorbar(depths, gs_fit.cv_results_['mean_test_score'], gs_fit.cv_results_['std_test_score'], fmt='o')"
   ]
  },
  {
   "cell_type": "code",
   "execution_count": 73,
   "metadata": {},
   "outputs": [
    {
     "data": {
      "text/plain": [
       "DecisionTreeClassifier(class_weight=None, criterion='gini', max_depth=10,\n",
       "            max_features=None, max_leaf_nodes=None,\n",
       "            min_impurity_split=1e-07, min_samples_leaf=1,\n",
       "            min_samples_split=2, min_weight_fraction_leaf=0.0,\n",
       "            presort=False, random_state=None, splitter='best')"
      ]
     },
     "execution_count": 73,
     "metadata": {},
     "output_type": "execute_result"
    }
   ],
   "source": [
    "gs_fit.best_estimator_"
   ]
  },
  {
   "cell_type": "code",
   "execution_count": 83,
   "metadata": {},
   "outputs": [
    {
     "data": {
      "text/plain": [
       "(array([ 28.,   8.,   2.,   2.,   1.,   2.,   3.,   0.,   1.,   0.,   1.,\n",
       "          0.,   2.,   0.,   0.,   1.,   0.,   0.,   0.,   0.,   0.,   1.,\n",
       "          0.,   0.,   1.,   0.,   0.,   0.,   0.,   0.]),\n",
       " array([ 0.        ,  0.00166667,  0.00333333,  0.005     ,  0.00666667,\n",
       "         0.00833333,  0.01      ,  0.01166667,  0.01333333,  0.015     ,\n",
       "         0.01666667,  0.01833333,  0.02      ,  0.02166667,  0.02333333,\n",
       "         0.025     ,  0.02666667,  0.02833333,  0.03      ,  0.03166667,\n",
       "         0.03333333,  0.035     ,  0.03666667,  0.03833333,  0.04      ,\n",
       "         0.04166667,  0.04333333,  0.045     ,  0.04666667,  0.04833333,\n",
       "         0.05      ]),\n",
       " <a list of 30 Patch objects>)"
      ]
     },
     "execution_count": 83,
     "metadata": {},
     "output_type": "execute_result"
    },
    {
     "data": {
      "image/png": "[encoded data removed]",
      "text/plain": [
       "<matplotlib.figure.Figure at 0x10cc94710>"
      ]
     },
     "metadata": {},
     "output_type": "display_data"
    }
   ],
   "source": [
    "plt.hist(gs_fit.best_estimator_.feature_importances_, bins=30, range=(0, 0.05))"
   ]
  },
  {
   "cell_type": "code",
   "execution_count": 311,
   "metadata": {
    "collapsed": true
   },
   "outputs": [],
   "source": [
    "from sklearn.feature_selection import SelectFromModel"
   ]
  },
  {
   "cell_type": "code",
   "execution_count": 312,
   "metadata": {
    "collapsed": true
   },
   "outputs": [],
   "source": [
    "feature_selection = SelectFromModel(gs_fit.best_estimator_, prefit=True, threshold=0.01)"
   ]
  },
  {
   "cell_type": "code",
   "execution_count": 313,
   "metadata": {},
   "outputs": [
    {
     "data": {
      "text/plain": [
       "(4601, 14)"
      ]
     },
     "execution_count": 313,
     "metadata": {},
     "output_type": "execute_result"
    }
   ],
   "source": [
    "feature_selection.transform(X).shape"
   ]
  },
  {
   "cell_type": "code",
   "execution_count": 314,
   "metadata": {},
   "outputs": [
    {
     "data": {
      "text/plain": [
       "Index([u'word_freq_our', u'word_freq_remove', u'word_freq_free',\n",
       "       u'word_freq_email', u'word_freq_you', u'word_freq_money',\n",
       "       u'word_freq_hp', u'word_freq_george', u'word_freq_edu', u'char_freq_!',\n",
       "       u'char_freq_$', u'capital_run_length_average',\n",
       "       u'capital_run_length_longest', u'capital_run_length_total'],\n",
       "      dtype='object')"
      ]
     },
     "execution_count": 314,
     "metadata": {},
     "output_type": "execute_result"
    }
   ],
   "source": [
    "X.columns[feature_selection.get_support()]"
   ]
  },
  {
   "cell_type": "code",
   "execution_count": 315,
   "metadata": {
    "collapsed": true
   },
   "outputs": [],
   "source": [
    "importances = list(gs_fit.best_estimator_.feature_importances_[feature_selection.get_support()])"
   ]
  },
  {
   "cell_type": "code",
   "execution_count": 316,
   "metadata": {
    "collapsed": true
   },
   "outputs": [],
   "source": [
    "fnames = list(X.columns[feature_selection.get_support()])"
   ]
  },
  {
   "cell_type": "code",
   "execution_count": 317,
   "metadata": {},
   "outputs": [
    {
     "data": {
      "image/png": "[encoded data removed]",
      "text/plain": [
       "<matplotlib.figure.Figure at 0x10e28e450>"
      ]
     },
     "metadata": {},
     "output_type": "display_data"
    }
   ],
   "source": [
    "plt.bar(range(len(fnames)), sorted(importances, key=lambda i: -i))\n",
    "plt.xticks(range(len(fnames)),\n",
    "           sorted(fnames, key=lambda i: -importances[fnames.index(i)]), rotation=90)\n",
    "None"
   ]
  },
  {
   "cell_type": "code",
   "execution_count": 60,
   "metadata": {
    "collapsed": true
   },
   "outputs": [],
   "source": [
    "bag_model = BaggingClassifier(DecisionTreeClassifier())"
   ]
  },
  {
   "cell_type": "code",
   "execution_count": 66,
   "metadata": {},
   "outputs": [
    {
     "data": {
      "text/plain": [
       "['base_estimator__min_samples_split',\n",
       " 'n_jobs',\n",
       " 'verbose',\n",
       " 'base_estimator',\n",
       " 'max_features',\n",
       " 'base_estimator__min_samples_leaf',\n",
       " 'max_samples',\n",
       " 'base_estimator__max_depth',\n",
       " 'base_estimator__max_features',\n",
       " 'base_estimator__min_weight_fraction_leaf',\n",
       " 'random_state',\n",
       " 'base_estimator__class_weight',\n",
       " 'oob_score',\n",
       " 'base_estimator__splitter',\n",
       " 'base_estimator__random_state',\n",
       " 'base_estimator__presort',\n",
       " 'base_estimator__criterion',\n",
       " 'n_estimators',\n",
       " 'base_estimator__max_leaf_nodes',\n",
       " 'bootstrap_features',\n",
       " 'warm_start',\n",
       " 'bootstrap',\n",
       " 'base_estimator__min_impurity_split']"
      ]
     },
     "execution_count": 66,
     "metadata": {},
     "output_type": "execute_result"
    }
   ],
   "source": [
    "bag_model.get_params().keys()"
   ]
  },
  {
   "cell_type": "code",
   "execution_count": 68,
   "metadata": {
    "collapsed": true
   },
   "outputs": [],
   "source": [
    "bag_model = GridSearchCV(bag_model, {'base_estimator__max_depth': depths}).fit(X, y)"
   ]
  },
  {
   "cell_type": "code",
   "execution_count": 71,
   "metadata": {},
   "outputs": [
    {
     "data": {
      "text/plain": [
       "({'base_estimator__max_depth': 2},\n",
       " {'base_estimator__max_depth': 4},\n",
       " {'base_estimator__max_depth': 6},\n",
       " {'base_estimator__max_depth': 8},\n",
       " {'base_estimator__max_depth': 10},\n",
       " {'base_estimator__max_depth': 12},\n",
       " {'base_estimator__max_depth': 14},\n",
       " {'base_estimator__max_depth': 16},\n",
       " {'base_estimator__max_depth': 18},\n",
       " {'base_estimator__max_depth': 20})"
      ]
     },
     "execution_count": 71,
     "metadata": {},
     "output_type": "execute_result"
    }
   ],
   "source": [
    "bag_model.cv_results_['params']"
   ]
  },
  {
   "cell_type": "code",
   "execution_count": 72,
   "metadata": {},
   "outputs": [
    {
     "data": {
      "text/plain": [
       "<Container object of 3 artists>"
      ]
     },
     "execution_count": 72,
     "metadata": {},
     "output_type": "execute_result"
    },
    {
     "data": {
      "image/png": "[encoded data removed]",
      "text/plain": [
       "<matplotlib.figure.Figure at 0x10b3da5d0>"
      ]
     },
     "metadata": {},
     "output_type": "display_data"
    }
   ],
   "source": [
    "plt.errorbar(depths, bag_model.cv_results_['mean_test_score'], bag_model.cv_results_['std_test_score'], fmt='o')"
   ]
  },
  {
   "cell_type": "code",
   "execution_count": 240,
   "metadata": {
    "collapsed": true
   },
   "outputs": [],
   "source": [
    "from sklearn.ensemble import RandomForestClassifier, GradientBoostingClassifier"
   ]
  },
  {
   "cell_type": "code",
   "execution_count": 253,
   "metadata": {
    "collapsed": true
   },
   "outputs": [],
   "source": [
    "Ns = [i*20 for i in range(1, 11)]"
   ]
  },
  {
   "cell_type": "code",
   "execution_count": 254,
   "metadata": {
    "collapsed": true
   },
   "outputs": [],
   "source": [
    "rf_gs = GridSearchCV(RandomForestClassifier(), {'n_estimators': Ns}).fit(X, y)"
   ]
  },
  {
   "cell_type": "code",
   "execution_count": 255,
   "metadata": {
    "collapsed": true
   },
   "outputs": [],
   "source": [
    "gb_gs = GridSearchCV(GradientBoostingClassifier(), {'n_estimators': Ns}).fit(X, y)"
   ]
  },
  {
   "cell_type": "code",
   "execution_count": 256,
   "metadata": {},
   "outputs": [
    {
     "data": {
      "text/plain": [
       "<matplotlib.legend.Legend at 0x10d84c4d0>"
      ]
     },
     "execution_count": 256,
     "metadata": {},
     "output_type": "execute_result"
    },
    {
     "data": {
      "image/png": "[encoded data removed]",
      "text/plain": [
       "<matplotlib.figure.Figure at 0x10d51a7d0>"
      ]
     },
     "metadata": {},
     "output_type": "display_data"
    }
   ],
   "source": [
    "plt.errorbar(Ns,\n",
    "             rf_gs.cv_results_['mean_test_score'],\n",
    "             rf_gs.cv_results_['std_test_score'], fmt='o', label='random forest')\n",
    "plt.errorbar(Ns,\n",
    "             gb_gs.cv_results_['mean_test_score'],\n",
    "             gb_gs.cv_results_['std_test_score'], fmt='o', label='gradient boosted trees')\n",
    "plt.legend()"
   ]
  },
  {
   "cell_type": "code",
   "execution_count": 102,
   "metadata": {
    "collapsed": true
   },
   "outputs": [],
   "source": [
    "spark_spam = sc.textFile('data/spambase/spambase.data')"
   ]
  },
  {
   "cell_type": "code",
   "execution_count": 103,
   "metadata": {},
   "outputs": [
    {
     "data": {
      "text/plain": [
       "[u'0,0.64,0.64,0,0.32,0,0,0,0,0,0,0.64,0,0,0,0.32,0,1.29,1.93,0,0.96,0,0,0,0,0,0,0,0,0,0,0,0,0,0,0,0,0,0,0,0,0,0,0,0,0,0,0,0,0,0,0.778,0,0,3.756,61,278,1',\n",
       " u'0.21,0.28,0.5,0,0.14,0.28,0.21,0.07,0,0.94,0.21,0.79,0.65,0.21,0.14,0.14,0.07,0.28,3.47,0,1.59,0,0.43,0.43,0,0,0,0,0,0,0,0,0,0,0,0,0.07,0,0,0,0,0,0,0,0,0,0,0,0,0.132,0,0.372,0.18,0.048,5.114,101,1028,1',\n",
       " u'0.06,0,0.71,0,1.23,0.19,0.19,0.12,0.64,0.25,0.38,0.45,0.12,0,1.75,0.06,0.06,1.03,1.36,0.32,0.51,0,1.16,0.06,0,0,0,0,0,0,0,0,0,0,0,0,0,0,0,0.06,0,0,0.12,0,0.06,0.06,0,0,0.01,0.143,0,0.276,0.184,0.01,9.821,485,2259,1',\n",
       " u'0,0,0,0,0.63,0,0.31,0.63,0.31,0.63,0.31,0.31,0.31,0,0,0.31,0,0,3.18,0,0.31,0,0,0,0,0,0,0,0,0,0,0,0,0,0,0,0,0,0,0,0,0,0,0,0,0,0,0,0,0.137,0,0.137,0,0,3.537,40,191,1',\n",
       " u'0,0,0,0,0.63,0,0.31,0.63,0.31,0.63,0.31,0.31,0.31,0,0,0.31,0,0,3.18,0,0.31,0,0,0,0,0,0,0,0,0,0,0,0,0,0,0,0,0,0,0,0,0,0,0,0,0,0,0,0,0.135,0,0.135,0,0,3.537,40,191,1']"
      ]
     },
     "execution_count": 103,
     "metadata": {},
     "output_type": "execute_result"
    }
   ],
   "source": [
    "spark_spam.take(5)"
   ]
  },
  {
   "cell_type": "code",
   "execution_count": 121,
   "metadata": {
    "collapsed": true
   },
   "outputs": [],
   "source": [
    "from pyspark.sql import Row"
   ]
  },
  {
   "cell_type": "code",
   "execution_count": 141,
   "metadata": {},
   "outputs": [
    {
     "data": {
      "text/plain": [
       "['word_freq_make',\n",
       " 'word_freq_address',\n",
       " 'word_freq_all',\n",
       " 'word_freq_3d',\n",
       " 'word_freq_our',\n",
       " 'word_freq_over',\n",
       " 'word_freq_remove',\n",
       " 'word_freq_internet',\n",
       " 'word_freq_order',\n",
       " 'word_freq_mail',\n",
       " 'word_freq_receive',\n",
       " 'word_freq_will',\n",
       " 'word_freq_people',\n",
       " 'word_freq_report',\n",
       " 'word_freq_addresses',\n",
       " 'word_freq_free',\n",
       " 'word_freq_business',\n",
       " 'word_freq_email',\n",
       " 'word_freq_you',\n",
       " 'word_freq_credit',\n",
       " 'word_freq_your',\n",
       " 'word_freq_font',\n",
       " 'word_freq_000',\n",
       " 'word_freq_money',\n",
       " 'word_freq_hp',\n",
       " 'word_freq_hpl',\n",
       " 'word_freq_george',\n",
       " 'word_freq_650',\n",
       " 'word_freq_lab',\n",
       " 'word_freq_labs',\n",
       " 'word_freq_telnet',\n",
       " 'word_freq_857',\n",
       " 'word_freq_data',\n",
       " 'word_freq_415',\n",
       " 'word_freq_85',\n",
       " 'word_freq_technology',\n",
       " 'word_freq_1999',\n",
       " 'word_freq_parts',\n",
       " 'word_freq_pm',\n",
       " 'word_freq_direct',\n",
       " 'word_freq_cs',\n",
       " 'word_freq_meeting',\n",
       " 'word_freq_original',\n",
       " 'word_freq_project',\n",
       " 'word_freq_re',\n",
       " 'word_freq_edu',\n",
       " 'word_freq_table',\n",
       " 'word_freq_conference',\n",
       " 'char_freq_;',\n",
       " 'char_freq_(',\n",
       " 'char_freq_[',\n",
       " 'char_freq_!',\n",
       " 'char_freq_$',\n",
       " 'char_freq_#',\n",
       " 'capital_run_length_average',\n",
       " 'capital_run_length_longest',\n",
       " 'capital_run_length_total',\n",
       " 'label']"
      ]
     },
     "execution_count": 141,
     "metadata": {},
     "output_type": "execute_result"
    }
   ],
   "source": [
    "names"
   ]
  },
  {
   "cell_type": "code",
   "execution_count": 144,
   "metadata": {},
   "outputs": [
    {
     "data": {
      "text/plain": [
       "59"
      ]
     },
     "execution_count": 144,
     "metadata": {},
     "output_type": "execute_result"
    }
   ],
   "source": [
    "ord(';')"
   ]
  },
  {
   "cell_type": "code",
   "execution_count": 154,
   "metadata": {
    "collapsed": true
   },
   "outputs": [],
   "source": [
    "def sub_fun(match):\n",
    "    return 'a' + str(ord(match.group(0)))"
   ]
  },
  {
   "cell_type": "code",
   "execution_count": 155,
   "metadata": {},
   "outputs": [
    {
     "data": {
      "text/plain": [
       "'char_freq_a35'"
      ]
     },
     "execution_count": 155,
     "metadata": {},
     "output_type": "execute_result"
    }
   ],
   "source": [
    "re.sub('[^a-z_0-9]', sub_fun, 'char_freq_#')"
   ]
  },
  {
   "cell_type": "code",
   "execution_count": 156,
   "metadata": {
    "collapsed": true
   },
   "outputs": [],
   "source": [
    "spark_names = [re.sub('[^a-z_0-9]', sub_fun, name) for name in names]"
   ]
  },
  {
   "cell_type": "code",
   "execution_count": 157,
   "metadata": {
    "collapsed": true
   },
   "outputs": [],
   "source": [
    "def line_to_row(line):\n",
    "    vals = line.split(',')\n",
    "    argdict = {name: float(val) for name, val in zip(spark_names, vals)}\n",
    "    return Row(**argdict)"
   ]
  },
  {
   "cell_type": "code",
   "execution_count": 158,
   "metadata": {
    "collapsed": true
   },
   "outputs": [],
   "source": [
    "df = spark.createDataFrame(spark_spam.map(line_to_row))"
   ]
  },
  {
   "cell_type": "code",
   "execution_count": 159,
   "metadata": {},
   "outputs": [
    {
     "name": "stdout",
     "output_type": "stream",
     "text": [
      "+--------------------------+--------------------------+------------------------+-------------+-------------+\n",
      "|capital_run_length_average|capital_run_length_longest|capital_run_length_total|char_freq_a33|char_freq_a35|\n",
      "+--------------------------+--------------------------+------------------------+-------------+-------------+\n",
      "|                     3.756|                      61.0|                   278.0|        0.778|          0.0|\n",
      "|                     5.114|                     101.0|                  1028.0|        0.372|        0.048|\n",
      "|                     9.821|                     485.0|                  2259.0|        0.276|         0.01|\n",
      "|                     3.537|                      40.0|                   191.0|        0.137|          0.0|\n",
      "|                     3.537|                      40.0|                   191.0|        0.135|          0.0|\n",
      "+--------------------------+--------------------------+------------------------+-------------+-------------+\n",
      "only showing top 5 rows\n",
      "\n"
     ]
    }
   ],
   "source": [
    "df.select(df.columns[:5]).show(5)"
   ]
  },
  {
   "cell_type": "code",
   "execution_count": 131,
   "metadata": {
    "collapsed": true
   },
   "outputs": [],
   "source": [
    "from pyspark.ml.feature import RFormula"
   ]
  },
  {
   "cell_type": "code",
   "execution_count": 160,
   "metadata": {
    "collapsed": true
   },
   "outputs": [],
   "source": [
    "features = ['char_freq_$', 'word_freq_remove', 'char_freq_!']\n",
    "spark_features = [spark_names[names.index(i)] for i in features]"
   ]
  },
  {
   "cell_type": "code",
   "execution_count": 161,
   "metadata": {},
   "outputs": [
    {
     "data": {
      "text/plain": [
       "['char_freq_a36', 'word_freq_remove', 'char_freq_a33']"
      ]
     },
     "execution_count": 161,
     "metadata": {},
     "output_type": "execute_result"
    }
   ],
   "source": [
    "spark_features"
   ]
  },
  {
   "cell_type": "code",
   "execution_count": 162,
   "metadata": {},
   "outputs": [
    {
     "name": "stdout",
     "output_type": "stream",
     "text": [
      "+-------------+----------------+-------------+\n",
      "|char_freq_a36|word_freq_remove|char_freq_a33|\n",
      "+-------------+----------------+-------------+\n",
      "|          0.0|             0.0|        0.778|\n",
      "|         0.18|            0.21|        0.372|\n",
      "|        0.184|            0.19|        0.276|\n",
      "|          0.0|            0.31|        0.137|\n",
      "|          0.0|            0.31|        0.135|\n",
      "|          0.0|             0.0|          0.0|\n",
      "|        0.054|             0.0|        0.164|\n",
      "|          0.0|             0.0|          0.0|\n",
      "|        0.203|             0.3|        0.181|\n",
      "|        0.081|            0.38|        0.244|\n",
      "|          0.0|            0.96|        0.462|\n",
      "|          0.0|            0.25|        0.663|\n",
      "|          0.0|             0.0|        0.786|\n",
      "|          0.0|             0.9|          0.0|\n",
      "|          0.0|             0.0|        0.357|\n",
      "|        0.063|            0.42|        0.572|\n",
      "|          0.0|             0.0|        0.428|\n",
      "|         0.37|             0.0|        1.975|\n",
      "|          0.0|            0.18|        0.455|\n",
      "|        0.496|             0.0|        0.055|\n",
      "+-------------+----------------+-------------+\n",
      "only showing top 20 rows\n",
      "\n"
     ]
    }
   ],
   "source": [
    "df.select(spark_features).show()"
   ]
  },
  {
   "cell_type": "code",
   "execution_count": 163,
   "metadata": {
    "collapsed": true
   },
   "outputs": [],
   "source": [
    "formula = 'label ~ ' + ' + '.join(spark_features)"
   ]
  },
  {
   "cell_type": "code",
   "execution_count": 164,
   "metadata": {
    "collapsed": true
   },
   "outputs": [],
   "source": [
    "selector = RFormula(formula=formula)"
   ]
  },
  {
   "cell_type": "code",
   "execution_count": 165,
   "metadata": {
    "collapsed": true
   },
   "outputs": [],
   "source": [
    "X_formula = selector.fit(df).transform(df)"
   ]
  },
  {
   "cell_type": "code",
   "execution_count": 167,
   "metadata": {},
   "outputs": [
    {
     "name": "stdout",
     "output_type": "stream",
     "text": [
      "+------------------+-----+\n",
      "|          features|label|\n",
      "+------------------+-----+\n",
      "|   [0.0,0.0,0.778]|  1.0|\n",
      "| [0.18,0.21,0.372]|  1.0|\n",
      "|[0.184,0.19,0.276]|  1.0|\n",
      "|  [0.0,0.31,0.137]|  1.0|\n",
      "|  [0.0,0.31,0.135]|  1.0|\n",
      "+------------------+-----+\n",
      "only showing top 5 rows\n",
      "\n"
     ]
    }
   ],
   "source": [
    "X_formula.select('features', 'label').show(5)"
   ]
  },
  {
   "cell_type": "code",
   "execution_count": 193,
   "metadata": {
    "collapsed": true
   },
   "outputs": [],
   "source": [
    "from pyspark.ml.feature import VectorAssembler"
   ]
  },
  {
   "cell_type": "code",
   "execution_count": 194,
   "metadata": {
    "collapsed": true
   },
   "outputs": [],
   "source": [
    "input_features = spark_names\n",
    "input_features.remove('label')"
   ]
  },
  {
   "cell_type": "code",
   "execution_count": 202,
   "metadata": {
    "collapsed": true
   },
   "outputs": [],
   "source": [
    "X_all = (VectorAssembler(inputCols=input_features, outputCol='features')\n",
    "         .transform(df).select('features', 'label'))"
   ]
  },
  {
   "cell_type": "code",
   "execution_count": 203,
   "metadata": {
    "collapsed": true
   },
   "outputs": [],
   "source": [
    "from pyspark.ml.feature import ChiSqSelector"
   ]
  },
  {
   "cell_type": "code",
   "execution_count": 204,
   "metadata": {
    "collapsed": true
   },
   "outputs": [],
   "source": [
    "cs_selector = ChiSqSelector(numTopFeatures=10, outputCol='selected_features',featuresCol='features').fit(X_all)\n",
    "X_chisq = cs_selector.transform(X_all)"
   ]
  },
  {
   "cell_type": "code",
   "execution_count": 205,
   "metadata": {},
   "outputs": [
    {
     "name": "stdout",
     "output_type": "stream",
     "text": [
      "+--------------------+-----+--------------------+\n",
      "|            features|label|   selected_features|\n",
      "+--------------------+-----+--------------------+\n",
      "|(57,[1,2,4,11,15,...|  1.0|(10,[1,2,3],[0.64...|\n",
      "|(57,[0,1,2,4,5,6,...|  1.0|(10,[0,1,2,3,4,5,...|\n",
      "|(57,[0,2,4,5,6,7,...|  1.0|(10,[0,2,3,4,5,6,...|\n",
      "|(57,[4,6,7,8,9,10...|  1.0|(10,[3,5,6,7,8,9]...|\n",
      "|(57,[4,6,7,8,9,10...|  1.0|(10,[3,5,6,7,8,9]...|\n",
      "+--------------------+-----+--------------------+\n",
      "only showing top 5 rows\n",
      "\n"
     ]
    }
   ],
   "source": [
    "X_chisq.show(5)"
   ]
  },
  {
   "cell_type": "code",
   "execution_count": 206,
   "metadata": {},
   "outputs": [
    {
     "data": {
      "text/plain": [
       "['word_freq_make',\n",
       " 'word_freq_address',\n",
       " 'word_freq_all',\n",
       " 'word_freq_our',\n",
       " 'word_freq_over',\n",
       " 'word_freq_remove',\n",
       " 'word_freq_internet',\n",
       " 'word_freq_order',\n",
       " 'word_freq_mail',\n",
       " 'word_freq_receive']"
      ]
     },
     "execution_count": 206,
     "metadata": {},
     "output_type": "execute_result"
    }
   ],
   "source": [
    "[input_features[i] for i in cs_selector.selectedFeatures]"
   ]
  },
  {
   "cell_type": "code",
   "execution_count": 168,
   "metadata": {
    "collapsed": true
   },
   "outputs": [],
   "source": [
    "from pyspark.ml.classification import DecisionTreeClassifier"
   ]
  },
  {
   "cell_type": "code",
   "execution_count": 207,
   "metadata": {},
   "outputs": [
    {
     "name": "stdout",
     "output_type": "stream",
     "text": [
      "+--------------------+-----+\n",
      "|            features|label|\n",
      "+--------------------+-----+\n",
      "|(57,[1,2,4,11,15,...|  1.0|\n",
      "|(57,[0,1,2,4,5,6,...|  1.0|\n",
      "|(57,[0,2,4,5,6,7,...|  1.0|\n",
      "|(57,[4,6,7,8,9,10...|  1.0|\n",
      "|(57,[4,6,7,8,9,10...|  1.0|\n",
      "+--------------------+-----+\n",
      "only showing top 5 rows\n",
      "\n"
     ]
    }
   ],
   "source": [
    "X_all.show(5)"
   ]
  },
  {
   "cell_type": "code",
   "execution_count": 208,
   "metadata": {
    "collapsed": true
   },
   "outputs": [],
   "source": [
    "assembler = VectorAssembler(inputCols=input_features, outputCol='features')"
   ]
  },
  {
   "cell_type": "code",
   "execution_count": 209,
   "metadata": {
    "collapsed": true
   },
   "outputs": [],
   "source": [
    "model = DecisionTreeClassifier(maxDepth=5)"
   ]
  },
  {
   "cell_type": "code",
   "execution_count": 211,
   "metadata": {
    "collapsed": true
   },
   "outputs": [],
   "source": [
    "from pyspark.ml import Pipeline as SparkPipeline"
   ]
  },
  {
   "cell_type": "code",
   "execution_count": 214,
   "metadata": {
    "collapsed": true
   },
   "outputs": [],
   "source": [
    "pipe = SparkPipeline(stages=[assembler, model])"
   ]
  },
  {
   "cell_type": "code",
   "execution_count": 222,
   "metadata": {
    "collapsed": true
   },
   "outputs": [],
   "source": [
    "train, test = df.randomSplit([0.8, 0.2])"
   ]
  },
  {
   "cell_type": "code",
   "execution_count": 223,
   "metadata": {
    "collapsed": true
   },
   "outputs": [],
   "source": [
    "model = pipe.fit(train)"
   ]
  },
  {
   "cell_type": "code",
   "execution_count": 224,
   "metadata": {
    "collapsed": true
   },
   "outputs": [],
   "source": [
    "from pyspark.ml.evaluation import BinaryClassificationEvaluator"
   ]
  },
  {
   "cell_type": "code",
   "execution_count": 226,
   "metadata": {},
   "outputs": [
    {
     "data": {
      "text/plain": [
       "0.7823220474540123"
      ]
     },
     "execution_count": 226,
     "metadata": {},
     "output_type": "execute_result"
    }
   ],
   "source": [
    "BinaryClassificationEvaluator().evaluate(model.transform(test)) #AUC"
   ]
  },
  {
   "cell_type": "code",
   "execution_count": 227,
   "metadata": {
    "collapsed": true
   },
   "outputs": [],
   "source": [
    "from pyspark.ml.tuning import CrossValidator, ParamGridBuilder"
   ]
  },
  {
   "cell_type": "code",
   "execution_count": 228,
   "metadata": {
    "collapsed": true
   },
   "outputs": [],
   "source": [
    "spark_tree_model = DecisionTreeClassifier()"
   ]
  },
  {
   "cell_type": "code",
   "execution_count": 230,
   "metadata": {
    "collapsed": true
   },
   "outputs": [],
   "source": [
    "param_grid = ParamGridBuilder().addGrid(spark_tree_model.maxDepth, range(2, 22, 2)).build()"
   ]
  },
  {
   "cell_type": "code",
   "execution_count": 231,
   "metadata": {
    "collapsed": true
   },
   "outputs": [],
   "source": [
    "cv_pipe = SparkPipeline(stages=[assembler, spark_tree_model])"
   ]
  },
  {
   "cell_type": "code",
   "execution_count": 235,
   "metadata": {
    "collapsed": true
   },
   "outputs": [],
   "source": [
    "cross_validation = CrossValidator(estimator=cv_pipe,\n",
    "                                  estimatorParamMaps=param_grid,\n",
    "                                  evaluator=BinaryClassificationEvaluator(),\n",
    "                                  numFolds=3)"
   ]
  },
  {
   "cell_type": "code",
   "execution_count": 237,
   "metadata": {
    "collapsed": true
   },
   "outputs": [],
   "source": [
    "vc_model = cross_validation.fit(df)"
   ]
  },
  {
   "cell_type": "code",
   "execution_count": 238,
   "metadata": {},
   "outputs": [
    {
     "data": {
      "text/plain": [
       "[0.7120176876429138,\n",
       " 0.7874188298619624,\n",
       " 0.8180913336381239,\n",
       " 0.8141895559596227,\n",
       " 0.8374464724445045,\n",
       " 0.8634555940608011,\n",
       " 0.8774869295429887,\n",
       " 0.8923755230536281,\n",
       " 0.9060822853490376,\n",
       " 0.9201519876823183]"
      ]
     },
     "execution_count": 238,
     "metadata": {},
     "output_type": "execute_result"
    }
   ],
   "source": [
    "vc_model.avgMetrics"
   ]
  },
  {
   "cell_type": "code",
   "execution_count": null,
   "metadata": {
    "collapsed": true
   },
   "outputs": [],
   "source": []
  }
 ],
 "metadata": {
  "kernelspec": {
   "display_name": "Python 3",
   "language": "python",
   "name": "python3"
  },
  "language_info": {
   "codemirror_mode": {
    "name": "ipython",
    "version": 3
   },
   "file_extension": ".py",
   "mimetype": "text/x-python",
   "name": "python",
   "nbconvert_exporter": "python",
   "pygments_lexer": "ipython3",
   "version": "3.6.1"
  }
 },
 "nbformat": 4,
 "nbformat_minor": 2
}
