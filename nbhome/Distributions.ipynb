{
 "cells": [
  {
   "cell_type": "code",
   "execution_count": null,
   "metadata": {
    "collapsed": false
   },
   "outputs": [],
   "source": [
    "import numpy\n",
    "import matplotlib.pyplot as plt\n",
    "%matplotlib inline"
   ]
  },
  {
   "cell_type": "code",
   "execution_count": null,
   "metadata": {
    "collapsed": false
   },
   "outputs": [],
   "source": [
    "from scipy.stats import binom\n",
    "N = 10\n",
    "x = range(N+1)\n",
    "p05 = binom.pmf(x, N, 0.5)\n",
    "p08 = binom.pmf(x, N, 0.8)\n",
    "plt.scatter(x, p05, label=r'$\\theta = 0.5$')\n",
    "plt.scatter(x, p08, label=r'$\\theta = 0.8$')\n",
    "plt.xlabel('$k$')\n",
    "plt.ylabel('$P_{{binom, N = {}}}[X = k| \\\\theta]$'.format(N))\n",
    "plt.legend()\n",
    "plt.savefig('../04-ml/img/binom.png', dpi=300)"
   ]
  },
  {
   "cell_type": "code",
   "execution_count": null,
   "metadata": {
    "collapsed": false
   },
   "outputs": [],
   "source": [
    "from scipy.stats import poisson\n",
    "x = range(15)\n",
    "lambdas = [2, 4, 6]\n",
    "for l in lambdas:\n",
    "    label = r'$\\lambda = {}$'.format(l)\n",
    "    plt.scatter(x, poisson.pmf(x, l), label=label)\n",
    "plt.legend()\n",
    "plt.xlabel('$k$')\n",
    "plt.ylabel(r'$\\mathrm{P}_{\\mathrm{Poisson}}[X = k| \\lambda]$')\n",
    "plt.savefig('../04-ml/img/poisson.png', dpi=300)"
   ]
  },
  {
   "cell_type": "code",
   "execution_count": null,
   "metadata": {
    "collapsed": false
   },
   "outputs": [],
   "source": [
    "import numpy as np"
   ]
  },
  {
   "cell_type": "code",
   "execution_count": null,
   "metadata": {
    "collapsed": false
   },
   "outputs": [],
   "source": [
    "from scipy.stats import expon\n",
    "x = np.arange(0, 5, 0.1)\n",
    "ls = [1, 2, 5]\n",
    "for l in ls:\n",
    "    plt.plot(x, expon.pdf(x, 0, l), label=r'$\\lambda = {}$'.format(l))\n",
    "plt.legend()\n",
    "plt.xlabel('$x$')\n",
    "plt.ylabel('$p_{\\mathrm{exp}, \\lambda}(x)$')\n",
    "plt.savefig('../04-ml/img/exp.png', dpi=300)"
   ]
  },
  {
   "cell_type": "code",
   "execution_count": null,
   "metadata": {
    "collapsed": false
   },
   "outputs": [],
   "source": [
    "from scipy.stats import norm\n",
    "x = np.arange(-1, 8, 0.02)\n",
    "ps = [(2,1), (3,2), (4, 0.5)]\n",
    "for mu, sigma in ps:\n",
    "    plt.plot(x, norm.pdf(x, mu, sigma), label=r'$\\mu = {}, \\sigma = {}$'.format(mu, sigma))\n",
    "plt.xlabel('$x$')\n",
    "plt.ylabel(r'$p_{\\mathrm{Norm}, \\mu, \\sigma}(x)$')\n",
    "plt.legend()\n",
    "plt.savefig('../04-ml/img/norm.png', dpi=300)"
   ]
  },
  {
   "cell_type": "code",
   "execution_count": null,
   "metadata": {
    "collapsed": false
   },
   "outputs": [],
   "source": []
  }
 ],
 "metadata": {
  "kernelspec": {
   "display_name": "Python 2",
   "language": "python",
   "name": "python2"
  },
  "language_info": {
   "codemirror_mode": {
    "name": "ipython",
    "version": 2
   },
   "file_extension": ".py",
   "mimetype": "text/x-python",
   "name": "python",
   "nbconvert_exporter": "python",
   "pygments_lexer": "ipython2",
   "version": "2.7.12"
  }
 },
 "nbformat": 4,
 "nbformat_minor": 2
}
