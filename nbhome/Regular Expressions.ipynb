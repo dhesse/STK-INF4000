{
 "cells": [
  {
   "cell_type": "markdown",
   "metadata": {},
   "source": [
    "# Regular Expressions\n",
    "\n",
    "Regular expressions are a fundamental tool used (among other things) for extracting information from text."
   ]
  },
  {
   "cell_type": "code",
   "execution_count": 1,
   "metadata": {
    "collapsed": true
   },
   "outputs": [],
   "source": [
    "import re"
   ]
  },
  {
   "cell_type": "code",
   "execution_count": 2,
   "metadata": {
    "collapsed": true
   },
   "outputs": [],
   "source": [
    "?re.search"
   ]
  },
  {
   "cell_type": "code",
   "execution_count": 3,
   "metadata": {
    "collapsed": false
   },
   "outputs": [
    {
     "data": {
      "text/plain": [
       "<_sre.SRE_Match at 0x7f1a8027b168>"
      ]
     },
     "execution_count": 3,
     "metadata": {},
     "output_type": "execute_result"
    }
   ],
   "source": [
    "re.search(\"abc\", \"abc123\")"
   ]
  },
  {
   "cell_type": "code",
   "execution_count": 5,
   "metadata": {
    "collapsed": false
   },
   "outputs": [
    {
     "data": {
      "text/plain": [
       "True"
      ]
     },
     "execution_count": 5,
     "metadata": {},
     "output_type": "execute_result"
    }
   ],
   "source": [
    "re.search(\"acb\", \"abc123\") == None"
   ]
  },
  {
   "cell_type": "markdown",
   "metadata": {},
   "source": [
    "# Character groups\n",
    "\n",
    "- User defined, e.g. '[abc]'\n",
    "- Pre-defined\n",
    "     - `\\d`    Matches any decimal digit; equivalent to the set [0-9].\n",
    "     - `\\D`    Matches any non-digit character; equivalent to the set [^0-9].\n",
    "     - `\\s`    Matches any whitespace character; equivalent to [ \\t\\n\\r\\f\\v].\n",
    "     - `\\S`    Matches any non-whitespace character; equiv. to [^ \\t\\n\\r\\f\\v].\n",
    "     - `\\w`    Matches any alphanumeric character; equivalent to [a-zA-Z0-9_].\n",
    "             With LOCALE, it will match the set [0-9_] plus characters defined\n",
    "             as letters for the current locale.\n",
    "     - `\\W`    Matches the complement of \\w.\n",
    "     - `\\\\`    Matches a literal backslash."
   ]
  },
  {
   "cell_type": "code",
   "execution_count": 11,
   "metadata": {
    "collapsed": false
   },
   "outputs": [
    {
     "name": "stdout",
     "output_type": "stream",
     "text": [
      "Help on SRE_Match object:\n",
      "\n",
      "class SRE_Match(__builtin__.object)\n",
      " |  The result of re.match() and re.search().\n",
      " |  Match objects always have a boolean value of True.\n",
      " |  \n",
      " |  Methods defined here:\n",
      " |  \n",
      " |  __copy__(...)\n",
      " |  \n",
      " |  __deepcopy__(...)\n",
      " |  \n",
      " |  end(...)\n",
      " |      end([group=0]) -> int.\n",
      " |      Return index of the end of the substring matched by group.\n",
      " |  \n",
      " |  expand(...)\n",
      " |      expand(template) -> str.\n",
      " |      Return the string obtained by doing backslash substitution\n",
      " |      on the string template, as done by the sub() method.\n",
      " |  \n",
      " |  group(...)\n",
      " |      group([group1, ...]) -> str or tuple.\n",
      " |      Return subgroup(s) of the match by indices or names.\n",
      " |      For 0 returns the entire match.\n",
      " |  \n",
      " |  groupdict(...)\n",
      " |      groupdict([default=None]) -> dict.\n",
      " |      Return a dictionary containing all the named subgroups of the match,\n",
      " |      keyed by the subgroup name. The default argument is used for groups\n",
      " |      that did not participate in the match\n",
      " |  \n",
      " |  groups(...)\n",
      " |      groups([default=None]) -> tuple.\n",
      " |      Return a tuple containing all the subgroups of the match, from 1.\n",
      " |      The default argument is used for groups\n",
      " |      that did not participate in the match\n",
      " |  \n",
      " |  span(...)\n",
      " |      span([group]) -> tuple.\n",
      " |      For MatchObject m, return the 2-tuple (m.start(group), m.end(group)).\n",
      " |  \n",
      " |  start(...)\n",
      " |      start([group=0]) -> int.\n",
      " |      Return index of the start of the substring matched by group.\n",
      " |  \n",
      " |  ----------------------------------------------------------------------\n",
      " |  Data descriptors defined here:\n",
      " |  \n",
      " |  endpos\n",
      " |  \n",
      " |  lastgroup\n",
      " |  \n",
      " |  lastindex\n",
      " |  \n",
      " |  pos\n",
      " |  \n",
      " |  re\n",
      " |  \n",
      " |  regs\n",
      " |  \n",
      " |  string\n",
      "\n"
     ]
    }
   ],
   "source": [
    "text = \"The date is 2017-01-16.\"\n",
    "match = re.search(\"\\d\\d\\d\\d-\\d\\d-\\d\\d\", text)\n",
    "help(match)"
   ]
  },
  {
   "cell_type": "code",
   "execution_count": 13,
   "metadata": {
    "collapsed": false
   },
   "outputs": [
    {
     "data": {
      "text/plain": [
       "'2017-01-16'"
      ]
     },
     "execution_count": 13,
     "metadata": {},
     "output_type": "execute_result"
    }
   ],
   "source": [
    "text[match.start():match.end()]"
   ]
  },
  {
   "cell_type": "code",
   "execution_count": 16,
   "metadata": {
    "collapsed": false
   },
   "outputs": [],
   "source": [
    "text = \"[...] the dates between 2017-01-16 and 2017-04-30.\"\n",
    "match = re.search(\"\\d\\d\\d\\d-\\d\\d-\\d\\d\", text)"
   ]
  },
  {
   "cell_type": "code",
   "execution_count": 22,
   "metadata": {
    "collapsed": false
   },
   "outputs": [
    {
     "data": {
      "text/plain": [
       "['2017-01-16', '2017-04-30']"
      ]
     },
     "execution_count": 22,
     "metadata": {},
     "output_type": "execute_result"
    }
   ],
   "source": [
    "re.findall(\"\\d\\d\\d\\d-\\d\\d-\\d\\d\", text)"
   ]
  },
  {
   "cell_type": "code",
   "execution_count": 23,
   "metadata": {
    "collapsed": true
   },
   "outputs": [],
   "source": [
    "?re"
   ]
  },
  {
   "cell_type": "markdown",
   "metadata": {},
   "source": [
    "# Special characters\n",
    "\n",
    "    \".\"      Matches any character except a newline.\n",
    "    \"^\"      Matches the start of the string.\n",
    "    \"$\"      Matches the end of the string or just before the newline at\n",
    "             the end of the string.\n",
    "    \"*\"      Matches 0 or more (greedy) repetitions of the preceding RE.\n",
    "             Greedy means that it will match as many repetitions as possible.\n",
    "    \"+\"      Matches 1 or more (greedy) repetitions of the preceding RE.\n",
    "    \"?\"      Matches 0 or 1 (greedy) of the preceding RE.\n",
    "    *?,+?,?? Non-greedy versions of the previous three special characters.\n",
    "    {m,n}    Matches from m to n repetitions of the preceding RE.\n",
    "    {m,n}?   Non-greedy version of the above."
   ]
  },
  {
   "cell_type": "code",
   "execution_count": 25,
   "metadata": {
    "collapsed": true
   },
   "outputs": [],
   "source": [
    "re.search('\\d\\d\\d\\d-\\d\\d-\\d\\d', 'meeting on 2016-1-5, 2:15pm.')"
   ]
  },
  {
   "cell_type": "code",
   "execution_count": 26,
   "metadata": {
    "collapsed": false
   },
   "outputs": [
    {
     "data": {
      "text/plain": [
       "<_sre.SRE_Match at 0x7f1a802238b8>"
      ]
     },
     "execution_count": 26,
     "metadata": {},
     "output_type": "execute_result"
    }
   ],
   "source": [
    "re.search('\\d{2,4}-\\d{1,2}-\\d{1,2}', 'meeting on 2016-1-5, 2:15pm.')"
   ]
  },
  {
   "cell_type": "code",
   "execution_count": 29,
   "metadata": {
    "collapsed": false
   },
   "outputs": [
    {
     "data": {
      "text/plain": [
       "['6-7, or 8-9']"
      ]
     },
     "execution_count": 29,
     "metadata": {},
     "output_type": "execute_result"
    }
   ],
   "source": [
    "re.findall('\\d.*\\d', '6-7, or 8-9') # pairs of numbers, greedy"
   ]
  },
  {
   "cell_type": "code",
   "execution_count": 30,
   "metadata": {
    "collapsed": false
   },
   "outputs": [
    {
     "data": {
      "text/plain": [
       "['6-7', '8-9']"
      ]
     },
     "execution_count": 30,
     "metadata": {},
     "output_type": "execute_result"
    }
   ],
   "source": [
    "re.findall('\\d.*?\\d', '6-7, or 8-9') # pairs of numbers, non-greedy"
   ]
  },
  {
   "cell_type": "markdown",
   "metadata": {},
   "source": [
    "# Capture Groups"
   ]
  },
  {
   "cell_type": "code",
   "execution_count": 35,
   "metadata": {
    "collapsed": false
   },
   "outputs": [],
   "source": [
    "log_line = '[2016-12-02 22:01:45] localhost INFO: System rebooted.'\n",
    "log_re = re.compile('\\[(\\d{4}-\\d{2}-\\d{2}) (\\d{2}:\\d{2}:\\d{2})\\]')"
   ]
  },
  {
   "cell_type": "code",
   "execution_count": 36,
   "metadata": {
    "collapsed": true
   },
   "outputs": [],
   "source": [
    "match = re.search(log_re, log_line)"
   ]
  },
  {
   "cell_type": "code",
   "execution_count": 40,
   "metadata": {
    "collapsed": false
   },
   "outputs": [
    {
     "data": {
      "text/plain": [
       "(('2016-12-02', '22:01:45'), '2016-12-02')"
      ]
     },
     "execution_count": 40,
     "metadata": {},
     "output_type": "execute_result"
    }
   ],
   "source": [
    "match.groups(), match.group(1)"
   ]
  },
  {
   "cell_type": "code",
   "execution_count": 41,
   "metadata": {
    "collapsed": false
   },
   "outputs": [
    {
     "data": {
      "text/plain": [
       "(1, 11)"
      ]
     },
     "execution_count": 41,
     "metadata": {},
     "output_type": "execute_result"
    }
   ],
   "source": [
    "match.start(1), match.end(1)"
   ]
  },
  {
   "cell_type": "code",
   "execution_count": 44,
   "metadata": {
    "collapsed": false
   },
   "outputs": [
    {
     "data": {
      "text/plain": [
       "(0, 21)"
      ]
     },
     "execution_count": 44,
     "metadata": {},
     "output_type": "execute_result"
    }
   ],
   "source": [
    "match.start(0), match.end(0) # careful, gotcha"
   ]
  },
  {
   "cell_type": "code",
   "execution_count": 45,
   "metadata": {
    "collapsed": false
   },
   "outputs": [
    {
     "data": {
      "text/plain": [
       "(12, 20)"
      ]
     },
     "execution_count": 45,
     "metadata": {},
     "output_type": "execute_result"
    }
   ],
   "source": [
    "match.start(2), match.end(2)"
   ]
  },
  {
   "cell_type": "markdown",
   "metadata": {},
   "source": [
    "## Named groups"
   ]
  },
  {
   "cell_type": "code",
   "execution_count": 50,
   "metadata": {
    "collapsed": false
   },
   "outputs": [],
   "source": [
    "log_re = re.compile(('\\[(?P<date>\\d{4}-\\d{2}-\\d{2}) (?P<time>\\d{2}:\\d{2}:\\d{2})\\]'\n",
    "                     '.+? (?P<level>[A-Z]+): (?P<message>.+)'))"
   ]
  },
  {
   "cell_type": "code",
   "execution_count": 51,
   "metadata": {
    "collapsed": false
   },
   "outputs": [
    {
     "data": {
      "text/plain": [
       "{'date': '2016-12-02',\n",
       " 'level': 'INFO',\n",
       " 'message': 'System rebooted.',\n",
       " 'time': '22:01:45'}"
      ]
     },
     "execution_count": 51,
     "metadata": {},
     "output_type": "execute_result"
    }
   ],
   "source": [
    "re.search(log_re, log_line).groupdict()"
   ]
  },
  {
   "cell_type": "code",
   "execution_count": 53,
   "metadata": {
    "collapsed": false
   },
   "outputs": [],
   "source": [
    "def process_log(date, level, message, time, **kwargs):\n",
    "    if level == 'INFO':\n",
    "        print \"At {0}, {1}: {2}\".format(date, time, message)"
   ]
  },
  {
   "cell_type": "code",
   "execution_count": 54,
   "metadata": {
    "collapsed": false
   },
   "outputs": [
    {
     "name": "stdout",
     "output_type": "stream",
     "text": [
      "At 2016-12-02, 22:01:45: System rebooted.\n"
     ]
    }
   ],
   "source": [
    "process_log(**(re.search(log_re, log_line).groupdict()))"
   ]
  },
  {
   "cell_type": "markdown",
   "metadata": {},
   "source": [
    "## Search vs. Match"
   ]
  },
  {
   "cell_type": "code",
   "execution_count": 56,
   "metadata": {
    "collapsed": false
   },
   "outputs": [
    {
     "data": {
      "text/plain": [
       "(<_sre.SRE_Match at 0x7f1a8015d120>, None)"
      ]
     },
     "execution_count": 56,
     "metadata": {},
     "output_type": "execute_result"
    }
   ],
   "source": [
    "text = 'The time is 12:45pm.'\n",
    "pattern = '(\\d{1,2}:\\d{1,2})'\n",
    "re.search(pattern, text), re.match(pattern, text)"
   ]
  },
  {
   "cell_type": "code",
   "execution_count": 57,
   "metadata": {
    "collapsed": false
   },
   "outputs": [
    {
     "data": {
      "text/plain": [
       "<_sre.SRE_Match at 0x7f1a8015d7b0>"
      ]
     },
     "execution_count": 57,
     "metadata": {},
     "output_type": "execute_result"
    }
   ],
   "source": [
    "re.match(pattern, '12:12')"
   ]
  }
 ],
 "metadata": {
  "kernelspec": {
   "display_name": "Python 2",
   "language": "python",
   "name": "python2"
  },
  "language_info": {
   "codemirror_mode": {
    "name": "ipython",
    "version": 2
   },
   "file_extension": ".py",
   "mimetype": "text/x-python",
   "name": "python",
   "nbconvert_exporter": "python",
   "pygments_lexer": "ipython2",
   "version": "2.7.10"
  }
 },
 "nbformat": 4,
 "nbformat_minor": 1
}
