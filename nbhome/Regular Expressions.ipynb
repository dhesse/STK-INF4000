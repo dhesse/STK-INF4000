{
 "cells": [
  {
   "cell_type": "markdown",
   "metadata": {},
   "source": [
    "# Regular Expressions\n",
    "\n",
    "Regular expressions are a fundamental tool used (among other things) for extracting information from text."
   ]
  },
  {
   "cell_type": "code",
   "execution_count": null,
   "metadata": {
    "collapsed": false
   },
   "outputs": [],
   "source": [
    "import re"
   ]
  },
  {
   "cell_type": "code",
   "execution_count": null,
   "metadata": {
    "collapsed": false
   },
   "outputs": [],
   "source": [
    "?re.search"
   ]
  },
  {
   "cell_type": "code",
   "execution_count": null,
   "metadata": {
    "collapsed": false
   },
   "outputs": [],
   "source": [
    "re.search(\"abc\", \"abc123\")"
   ]
  },
  {
   "cell_type": "code",
   "execution_count": null,
   "metadata": {
    "collapsed": false
   },
   "outputs": [],
   "source": [
    "re.search(\"acb\", \"abc123\") == None"
   ]
  },
  {
   "cell_type": "markdown",
   "metadata": {},
   "source": [
    "# Character groups\n",
    "\n",
    "- User defined, e.g. '[abc]'\n",
    "- Pre-defined\n",
    "     - `\\d`    Matches any decimal digit; equivalent to the set [0-9].\n",
    "     - `\\D`    Matches any non-digit character; equivalent to the set [^0-9].\n",
    "     - `\\s`    Matches any whitespace character; equivalent to [ \\t\\n\\r\\f\\v].\n",
    "     - `\\S`    Matches any non-whitespace character; equiv. to [^ \\t\\n\\r\\f\\v].\n",
    "     - `\\w`    Matches any alphanumeric character; equivalent to [a-zA-Z0-9_].\n",
    "             With LOCALE, it will match the set [0-9_] plus characters defined\n",
    "             as letters for the current locale.\n",
    "     - `\\W`    Matches the complement of \\w.\n",
    "     - `\\\\`    Matches a literal backslash."
   ]
  },
  {
   "cell_type": "code",
   "execution_count": null,
   "metadata": {
    "collapsed": false
   },
   "outputs": [],
   "source": [
    "text = \"The date is 2017-01-16.\"\n",
    "match = re.search(\"\\d\\d\\d\\d-\\d\\d-\\d\\d\", text)\n",
    "help(match)"
   ]
  },
  {
   "cell_type": "code",
   "execution_count": null,
   "metadata": {
    "collapsed": false
   },
   "outputs": [],
   "source": [
    "text[match.start():match.end()]"
   ]
  },
  {
   "cell_type": "code",
   "execution_count": null,
   "metadata": {
    "collapsed": false
   },
   "outputs": [],
   "source": [
    "text = \"[...] the dates between 2017-01-16 and 2017-04-30.\"\n",
    "match = re.search(\"\\d\\d\\d\\d-\\d\\d-\\d\\d\", text)"
   ]
  },
  {
   "cell_type": "code",
   "execution_count": null,
   "metadata": {
    "collapsed": false
   },
   "outputs": [],
   "source": [
    "re.findall(\"\\d\\d\\d\\d-\\d\\d-\\d\\d\", text)"
   ]
  },
  {
   "cell_type": "code",
   "execution_count": null,
   "metadata": {
    "collapsed": false
   },
   "outputs": [],
   "source": [
    "?re"
   ]
  },
  {
   "cell_type": "markdown",
   "metadata": {},
   "source": [
    "# Special characters\n",
    "\n",
    "    \".\"      Matches any character except a newline.\n",
    "    \"^\"      Matches the start of the string.\n",
    "    \"$\"      Matches the end of the string or just before the newline at\n",
    "             the end of the string.\n",
    "    \"*\"      Matches 0 or more (greedy) repetitions of the preceding RE.\n",
    "             Greedy means that it will match as many repetitions as possible.\n",
    "    \"+\"      Matches 1 or more (greedy) repetitions of the preceding RE.\n",
    "    \"?\"      Matches 0 or 1 (greedy) of the preceding RE.\n",
    "    *?,+?,?? Non-greedy versions of the previous three special characters.\n",
    "    {m,n}    Matches from m to n repetitions of the preceding RE.\n",
    "    {m,n}?   Non-greedy version of the above."
   ]
  },
  {
   "cell_type": "code",
   "execution_count": null,
   "metadata": {
    "collapsed": false
   },
   "outputs": [],
   "source": [
    "re.search('\\d\\d\\d\\d-\\d\\d-\\d\\d', 'meeting on 2016-1-5, 2:15pm.')"
   ]
  },
  {
   "cell_type": "code",
   "execution_count": null,
   "metadata": {
    "collapsed": false
   },
   "outputs": [],
   "source": [
    "re.search('\\d{2,4}-\\d{1,2}-\\d{1,2}', 'meeting on 2016-1-5, 2:15pm.')"
   ]
  },
  {
   "cell_type": "code",
   "execution_count": null,
   "metadata": {
    "collapsed": false
   },
   "outputs": [],
   "source": [
    "re.findall('\\d.*\\d', '6-7, or 8-9') # pairs of numbers, greedy"
   ]
  },
  {
   "cell_type": "code",
   "execution_count": null,
   "metadata": {
    "collapsed": false
   },
   "outputs": [],
   "source": [
    "re.findall('\\d.*?\\d', '6-7, or 8-9') # pairs of numbers, non-greedy"
   ]
  },
  {
   "cell_type": "markdown",
   "metadata": {},
   "source": [
    "# Capture Groups"
   ]
  },
  {
   "cell_type": "code",
   "execution_count": null,
   "metadata": {
    "collapsed": false
   },
   "outputs": [],
   "source": [
    "log_line = '[2016-12-02 22:01:45] localhost INFO: System rebooted.'\n",
    "log_re = re.compile('\\[(\\d{4}-\\d{2}-\\d{2}) (\\d{2}:\\d{2}:\\d{2})\\]')"
   ]
  },
  {
   "cell_type": "code",
   "execution_count": null,
   "metadata": {
    "collapsed": false
   },
   "outputs": [],
   "source": [
    "match = re.search(log_re, log_line)"
   ]
  },
  {
   "cell_type": "code",
   "execution_count": null,
   "metadata": {
    "collapsed": false
   },
   "outputs": [],
   "source": [
    "match.groups(), match.group(1)"
   ]
  },
  {
   "cell_type": "code",
   "execution_count": null,
   "metadata": {
    "collapsed": false
   },
   "outputs": [],
   "source": [
    "match.start(1), match.end(1)"
   ]
  },
  {
   "cell_type": "code",
   "execution_count": null,
   "metadata": {
    "collapsed": false
   },
   "outputs": [],
   "source": [
    "match.start(0), match.end(0) # careful, gotcha"
   ]
  },
  {
   "cell_type": "code",
   "execution_count": null,
   "metadata": {
    "collapsed": false
   },
   "outputs": [],
   "source": [
    "match.start(2), match.end(2)"
   ]
  },
  {
   "cell_type": "markdown",
   "metadata": {},
   "source": [
    "## Named groups"
   ]
  },
  {
   "cell_type": "code",
   "execution_count": null,
   "metadata": {
    "collapsed": false
   },
   "outputs": [],
   "source": [
    "log_re = re.compile(('\\[(?P<date>\\d{4}-\\d{2}-\\d{2}) (?P<time>\\d{2}:\\d{2}:\\d{2})\\]'\n",
    "                     '.+? (?P<level>[A-Z]+): (?P<message>.+)'))"
   ]
  },
  {
   "cell_type": "code",
   "execution_count": null,
   "metadata": {
    "collapsed": false
   },
   "outputs": [],
   "source": [
    "re.search(log_re, log_line).groupdict()"
   ]
  },
  {
   "cell_type": "code",
   "execution_count": null,
   "metadata": {
    "collapsed": false
   },
   "outputs": [],
   "source": [
    "def process_log(date, level, message, time, **kwargs):\n",
    "    if level == 'INFO':\n",
    "        print \"At {0}, {1}: {2}\".format(date, time, message)"
   ]
  },
  {
   "cell_type": "code",
   "execution_count": null,
   "metadata": {
    "collapsed": false
   },
   "outputs": [],
   "source": [
    "process_log(**(re.search(log_re, log_line).groupdict()))"
   ]
  },
  {
   "cell_type": "markdown",
   "metadata": {},
   "source": [
    "## Search vs. Match"
   ]
  },
  {
   "cell_type": "code",
   "execution_count": null,
   "metadata": {
    "collapsed": false
   },
   "outputs": [],
   "source": [
    "text = 'The time is 12:45pm.'\n",
    "pattern = '(\\d{1,2}:\\d{1,2})'\n",
    "re.search(pattern, text), re.match(pattern, text)"
   ]
  },
  {
   "cell_type": "code",
   "execution_count": null,
   "metadata": {
    "collapsed": false
   },
   "outputs": [],
   "source": [
    "re.match(pattern, '12:12')"
   ]
  }
 ],
 "metadata": {
  "kernelspec": {
   "display_name": "Python 2",
   "language": "python",
   "name": "python2"
  },
  "language_info": {
   "codemirror_mode": {
    "name": "ipython",
    "version": 2
   },
   "file_extension": ".py",
   "mimetype": "text/x-python",
   "name": "python",
   "nbconvert_exporter": "python",
   "pygments_lexer": "ipython2",
   "version": "2.7.11+"
  }
 },
 "nbformat": 4,
 "nbformat_minor": 1
}
