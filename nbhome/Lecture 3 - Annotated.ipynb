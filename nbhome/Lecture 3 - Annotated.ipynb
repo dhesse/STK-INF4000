{
 "cells": [
  {
   "cell_type": "markdown",
   "metadata": {},
   "source": [
    "# Testing\n",
    "\n",
    "## Why?\n",
    "\n",
    "- Prove that your code works.\n",
    "- Make modifying it easy and save.\n",
    "- Document expected behaviour.\n",
    "- It's easy to do.\n",
    "- There's a whole [software development methodology][tdd] behind it.\n",
    "\n",
    "[tdd]: http://butunclebob.com/ArticleS.UncleBob.TheThreeRulesOfTdd"
   ]
  },
  {
   "cell_type": "code",
   "execution_count": 4,
   "metadata": {
    "collapsed": true
   },
   "outputs": [],
   "source": [
    "from datetime import datetime\n",
    "def ymd(date_string):\n",
    "    \"\"\"Convert date string to datetime object.\n",
    "    \n",
    "    Example:\n",
    "    \n",
    "    >>> ymd('2016 01 30')\n",
    "    datetime.datetime(2016, 1, 30, 0, 0)\n",
    "    \"\"\"\n",
    "    format_string = '%Y %m %d'\n",
    "    return datetime.strptime(date_string, format_string)"
   ]
  },
  {
   "cell_type": "code",
   "execution_count": 4,
   "metadata": {
    "collapsed": false
   },
   "outputs": [
    {
     "data": {
      "text/plain": [
       "datetime.datetime(2016, 1, 30, 0, 0)"
      ]
     },
     "execution_count": 4,
     "metadata": {},
     "output_type": "execute_result"
    }
   ],
   "source": [
    "ymd('2016 01 30') # expected behavior"
   ]
  },
  {
   "cell_type": "markdown",
   "metadata": {},
   "source": [
    "# Unittest\n",
    "\n",
    "The python [unittest module][utest] makes it really easy to set the expected behavior in stone.\n",
    "\n",
    "[utest]: https://docs.python.org/2/library/unittest.html"
   ]
  },
  {
   "cell_type": "code",
   "execution_count": 5,
   "metadata": {
    "collapsed": true
   },
   "outputs": [],
   "source": [
    "import unittest"
   ]
  },
  {
   "cell_type": "code",
   "execution_count": 24,
   "metadata": {
    "collapsed": true
   },
   "outputs": [],
   "source": [
    "# make a TestCase with a test for expected behavior\n",
    "class YMDTest(unittest.TestCase):\n",
    "    def test_with_known_values(self):\n",
    "        \"\"\"Test ymd with known values.\"\"\"\n",
    "        ymd_result = ymd('2016 01 30')\n",
    "        known = datetime(2016, 1, 30, 0, 0)\n",
    "        self.assertEqual(ymd_result, known)\n",
    "# a collection of these is a great documentation for the code"
   ]
  },
  {
   "cell_type": "markdown",
   "metadata": {},
   "source": [
    "# Running\n",
    "\n",
    "Test can be run from the command line like so:\n",
    "\n",
    "    python -m unittest YMDTest\n",
    "    python -m unittest my_modle.YMDTest"
   ]
  },
  {
   "cell_type": "code",
   "execution_count": 23,
   "metadata": {
    "collapsed": false
   },
   "outputs": [
    {
     "data": {
      "text/plain": [
       "<unittest.result.TestResult run=1 errors=1 failures=0>"
      ]
     },
     "execution_count": 23,
     "metadata": {},
     "output_type": "execute_result"
    }
   ],
   "source": [
    "# This is an easy way to run tests in a notebook\n",
    "result = unittest.TestResult()\n",
    "test = YMDTest('test_with_known_values')\n",
    "test.run(result)\n",
    "result"
   ]
  },
  {
   "cell_type": "code",
   "execution_count": 14,
   "metadata": {
    "collapsed": true
   },
   "outputs": [],
   "source": [
    "# Let's write a function to save typing:\n",
    "def run_test(cls, method_name):\n",
    "    result = unittest.TestResult()\n",
    "    test = cls(method_name)\n",
    "    test.run(result)\n",
    "    return result"
   ]
  },
  {
   "cell_type": "code",
   "execution_count": 15,
   "metadata": {
    "collapsed": false
   },
   "outputs": [
    {
     "data": {
      "text/plain": [
       "<unittest.result.TestResult run=1 errors=0 failures=1>"
      ]
     },
     "execution_count": 15,
     "metadata": {},
     "output_type": "execute_result"
    }
   ],
   "source": [
    "run_test(YMDTest, 'test_with_known_values')"
   ]
  },
  {
   "cell_type": "markdown",
   "metadata": {},
   "source": [
    "## What about exceptions?"
   ]
  },
  {
   "cell_type": "code",
   "execution_count": 20,
   "metadata": {
    "collapsed": false
   },
   "outputs": [],
   "source": [
    "class YMDError(YMDTest):\n",
    "    def test_throws_on_invalid_string(self):\n",
    "        with self.assertRaises(ValueError):\n",
    "            ymd('')\n",
    "        with self.assertRaises(ValueError):\n",
    "            # day out of range\n",
    "            ymd_result = ymd('2016 02 30')\n",
    "# again, this nicely documents the behavior of ymd!"
   ]
  },
  {
   "cell_type": "code",
   "execution_count": 21,
   "metadata": {
    "collapsed": false
   },
   "outputs": [
    {
     "data": {
      "text/plain": [
       "<unittest.result.TestResult run=1 errors=0 failures=0>"
      ]
     },
     "execution_count": 21,
     "metadata": {},
     "output_type": "execute_result"
    }
   ],
   "source": [
    "run_test(YMDError, 'test_throws_on_invalid_string')"
   ]
  },
  {
   "cell_type": "markdown",
   "metadata": {},
   "source": [
    "# What you can test\n",
    "\n",
    "- Pipelines\n",
    "- Data prep & transformation\n",
    "- Data ingestion\n",
    "- ...\n",
    "\n",
    "# What you can't test\n",
    "\n",
    "- Prediction accuracy (within limits)\n",
    "    - Disaster prevention is possible\n",
    "- 'Statistical stuff'"
   ]
  },
  {
   "cell_type": "code",
   "execution_count": 40,
   "metadata": {
    "collapsed": false
   },
   "outputs": [],
   "source": [
    "# TestCase has a lot of assertXXX methods ...\n",
    "# ... let's demo some of those!\n",
    "class MyTests(unittest.TestCase):\n",
    "    def test_stuff(self):\n",
    "        self.assertAlmostEqual(0.00000000001, 0)\n",
    "        self.assertEqual(1, 1)\n",
    "        self.assertEqual([1,2], [1,2])\n",
    "        self.assertEqual({1: 1}, {1: 1})\n",
    "        \n",
    "        self.assertTrue(1 == 1) # avoid\n",
    "        self.assertTrue(1 in range(2)) # avoid\n",
    "        self.assertIn(1, range(2)) # better\n",
    "        \n",
    "        self.assertTrue(1 < 2) # avoid\n",
    "        self.assertLess(1, 2) # better"
   ]
  },
  {
   "cell_type": "code",
   "execution_count": 41,
   "metadata": {
    "collapsed": false
   },
   "outputs": [
    {
     "data": {
      "text/plain": [
       "<unittest.result.TestResult run=1 errors=0 failures=0>"
      ]
     },
     "execution_count": 41,
     "metadata": {},
     "output_type": "execute_result"
    }
   ],
   "source": [
    "run_test(MyTests, 'test_stuff')"
   ]
  },
  {
   "cell_type": "code",
   "execution_count": 25,
   "metadata": {
    "collapsed": false,
    "scrolled": true
   },
   "outputs": [
    {
     "name": "stdout",
     "output_type": "stream",
     "text": [
      "assertAlmostEqual\n",
      "assertAlmostEquals\n",
      "assertDictContainsSubset\n",
      "assertDictEqual\n",
      "assertEqual\n",
      "assertEquals\n",
      "assertFalse\n",
      "assertGreater\n",
      "assertGreaterEqual\n",
      "assertIn\n",
      "assertIs\n",
      "assertIsInstance\n",
      "assertIsNone\n",
      "assertIsNot\n",
      "assertIsNotNone\n",
      "assertItemsEqual\n",
      "assertLess\n",
      "assertLessEqual\n",
      "assertListEqual\n",
      "assertMultiLineEqual\n",
      "assertNotAlmostEqual\n",
      "assertNotAlmostEquals\n",
      "assertNotEqual\n",
      "assertNotEquals\n",
      "assertNotIn\n",
      "assertNotIsInstance\n",
      "assertNotRegexpMatches\n",
      "assertRaises\n",
      "assertRaisesRegexp\n",
      "assertRegexpMatches\n",
      "assertSequenceEqual\n",
      "assertSetEqual\n",
      "assertTrue\n",
      "assertTupleEqual\n",
      "assert_\n"
     ]
    }
   ],
   "source": [
    "# neat way for listing all assert functions\n",
    "for i in dir(unittest.TestCase):\n",
    "    if i.startswith('assert'):\n",
    "        print i"
   ]
  },
  {
   "cell_type": "markdown",
   "metadata": {},
   "source": [
    "## What about docstrings?\n",
    "\n",
    "Some docstrings contain examples. The [doctest module][dt] finds and runs them automatically, making sure the output is replicated.\n",
    "\n",
    "[dt]: https://docs.python.org/2/library/doctest.html"
   ]
  },
  {
   "cell_type": "code",
   "execution_count": 5,
   "metadata": {
    "collapsed": false
   },
   "outputs": [
    {
     "name": "stdout",
     "output_type": "stream",
     "text": [
      "Convert date string to datetime object.\n",
      "    \n",
      "    Example:\n",
      "    \n",
      "    >>> ymd('2016 01 30')\n",
      "    datetime.datetime(2016, 1, 30, 0, 0)\n",
      "    \n"
     ]
    }
   ],
   "source": [
    "print ymd.__doc__"
   ]
  },
  {
   "cell_type": "code",
   "execution_count": 43,
   "metadata": {
    "collapsed": true
   },
   "outputs": [],
   "source": [
    "import doctest"
   ]
  },
  {
   "cell_type": "code",
   "execution_count": 196,
   "metadata": {
    "collapsed": false
   },
   "outputs": [
    {
     "name": "stdout",
     "output_type": "stream",
     "text": [
      "Finding tests in NoName\n",
      "Trying:\n",
      "    ymd('2016 01 30')\n",
      "Expecting:\n",
      "    datetime.datetime(2016, 1, 30, 0, 0)\n",
      "ok\n"
     ]
    }
   ],
   "source": [
    "doctest.run_docstring_examples(ymd, globals(), True)"
   ]
  },
  {
   "cell_type": "markdown",
   "metadata": {},
   "source": [
    "# Twitter\n",
    "\n",
    "The [Twitter api][tapi] is a gold mine for data. People talk about all kinds of topics, all the time. It's a great place to find opinions on almost anything. Make sure you understand the terms and conditions if you plan bigger projects.\n",
    "\n",
    "We will interact with it in a very strainghtforward way using the [requests][req] library.\n",
    "\n",
    "[tapi]: https://dev.twitter.com/overview/api\n",
    "[req]: http://docs.python-requests.org/en/master/"
   ]
  },
  {
   "cell_type": "code",
   "execution_count": 48,
   "metadata": {
    "collapsed": false
   },
   "outputs": [],
   "source": [
    "import requests\n",
    "from requests_oauthlib import OAuth1"
   ]
  },
  {
   "cell_type": "code",
   "execution_count": 49,
   "metadata": {
    "collapsed": true
   },
   "outputs": [],
   "source": [
    "# use your own here\n",
    "# you get them at apps.twitter.com\n",
    "from donthackme import CONSUMER_KEY, CONSUMER_SECRET, TOKEN, TOKEN_SECRET"
   ]
  },
  {
   "cell_type": "code",
   "execution_count": 54,
   "metadata": {
    "collapsed": true
   },
   "outputs": [],
   "source": [
    "# api url\n",
    "url = 'https://api.twitter.com/1.1/account/verify_credentials.json'"
   ]
  },
  {
   "cell_type": "code",
   "execution_count": 55,
   "metadata": {
    "collapsed": true
   },
   "outputs": [],
   "source": [
    "# this is needed to authenticate our requests with Twitter\n",
    "auth = OAuth1(CONSUMER_KEY, CONSUMER_SECRET, TOKEN, TOKEN_SECRET)"
   ]
  },
  {
   "cell_type": "code",
   "execution_count": 56,
   "metadata": {
    "collapsed": true
   },
   "outputs": [],
   "source": [
    "# let's verify that we're authenticated\n",
    "verify_response = requests.get(url, auth=auth)"
   ]
  },
  {
   "cell_type": "code",
   "execution_count": 57,
   "metadata": {
    "collapsed": false
   },
   "outputs": [
    {
     "data": {
      "text/plain": [
       "<Response [200]>"
      ]
     },
     "execution_count": 57,
     "metadata": {},
     "output_type": "execute_result"
    }
   ],
   "source": [
    "# 200 is great!\n",
    "verify_response"
   ]
  },
  {
   "cell_type": "code",
   "execution_count": 58,
   "metadata": {
    "collapsed": false
   },
   "outputs": [
    {
     "data": {
      "text/plain": [
       "{'content-length': '1091', 'x-rate-limit-reset': '1485773301', 'x-rate-limit-remaining': '74', 'x-xss-protection': '1; mode=block', 'x-content-type-options': 'nosniff', 'x-connection-hash': '998c867bafed9d100ec8aaa1f50e026e', 'x-twitter-response-tags': 'BouncerExempt, BouncerCompliant', 'cache-control': 'no-cache, no-store, must-revalidate, pre-check=0, post-check=0', 'status': '200 OK', 'content-disposition': 'attachment; filename=json.json', 'set-cookie': 'lang=en; Path=/, guest_id=v1%3A148577240112998617; Domain=.twitter.com; Path=/; Expires=Wed, 30-Jan-2019 10:33:21 UTC', 'expires': 'Tue, 31 Mar 1981 05:00:00 GMT', 'x-access-level': 'read-write', 'last-modified': 'Mon, 30 Jan 2017 10:33:21 GMT', 'pragma': 'no-cache', 'date': 'Mon, 30 Jan 2017 10:33:21 GMT', 'x-rate-limit-limit': '75', 'x-response-time': '137', 'x-transaction': '000081590003dddc', 'content-encoding': 'gzip', 'strict-transport-security': 'max-age=631138519', 'server': 'tsa_f', 'x-frame-options': 'SAMEORIGIN', 'content-type': 'application/json;charset=utf-8'}"
      ]
     },
     "execution_count": 58,
     "metadata": {},
     "output_type": "execute_result"
    }
   ],
   "source": [
    "# this tells us that we got a JSON response\n",
    "# which is not surprising given the URL\n",
    "verify_response.headers"
   ]
  },
  {
   "cell_type": "code",
   "execution_count": 60,
   "metadata": {
    "collapsed": false
   },
   "outputs": [
    {
     "data": {
      "text/plain": [
       "[u'follow_request_sent',\n",
       " u'has_extended_profile',\n",
       " u'profile_use_background_image',\n",
       " u'default_profile_image',\n",
       " u'id',\n",
       " u'profile_background_image_url_https',\n",
       " u'verified',\n",
       " u'translator_type',\n",
       " u'profile_text_color',\n",
       " u'profile_image_url_https',\n",
       " u'profile_sidebar_fill_color',\n",
       " u'entities',\n",
       " u'followers_count',\n",
       " u'profile_sidebar_border_color',\n",
       " u'id_str',\n",
       " u'profile_background_color',\n",
       " u'listed_count',\n",
       " u'status',\n",
       " u'is_translation_enabled',\n",
       " u'utc_offset',\n",
       " u'statuses_count',\n",
       " u'description',\n",
       " u'friends_count',\n",
       " u'location',\n",
       " u'profile_link_color',\n",
       " u'profile_image_url',\n",
       " u'following',\n",
       " u'geo_enabled',\n",
       " u'profile_banner_url',\n",
       " u'profile_background_image_url',\n",
       " u'screen_name',\n",
       " u'lang',\n",
       " u'profile_background_tile',\n",
       " u'favourites_count',\n",
       " u'name',\n",
       " u'notifications',\n",
       " u'url',\n",
       " u'created_at',\n",
       " u'contributors_enabled',\n",
       " u'time_zone',\n",
       " u'protected',\n",
       " u'default_profile',\n",
       " u'is_translator']"
      ]
     },
     "execution_count": 60,
     "metadata": {},
     "output_type": "execute_result"
    }
   ],
   "source": [
    "# let's look at the JSON\n",
    "# there's a lot of information\n",
    "verify_response.json().keys()"
   ]
  },
  {
   "cell_type": "code",
   "execution_count": 61,
   "metadata": {
    "collapsed": false
   },
   "outputs": [
    {
     "data": {
      "text/plain": [
       "u'Dirk Hesse'"
      ]
     },
     "execution_count": 61,
     "metadata": {},
     "output_type": "execute_result"
    }
   ],
   "source": [
    "verify_response.json()['name']"
   ]
  },
  {
   "cell_type": "code",
   "execution_count": 62,
   "metadata": {
    "collapsed": false
   },
   "outputs": [
    {
     "data": {
      "text/plain": [
       "u'NotDirkHesse'"
      ]
     },
     "execution_count": 62,
     "metadata": {},
     "output_type": "execute_result"
    }
   ],
   "source": [
    "verify_response.json()['screen_name']"
   ]
  },
  {
   "cell_type": "markdown",
   "metadata": {},
   "source": [
    "## What data is available?\n",
    "\n",
    "The statuses (aka Tweets) in a response from the Twitter API contains *a lot* of information. You can explore it through Twitter's [documentation][tdoc].\n",
    "\n",
    "[tdoc]: https://dev.twitter.com/overview/api/tweets"
   ]
  },
  {
   "cell_type": "markdown",
   "metadata": {},
   "source": [
    "# Search\n",
    "\n",
    "Use the Twitter search function to construct the queries. Just type in something and see how the URL that's being opened looks like. Also check the [documentation](https://dev.twitter.com/rest/public/search)."
   ]
  },
  {
   "cell_type": "code",
   "execution_count": 65,
   "metadata": {
    "collapsed": true
   },
   "outputs": [],
   "source": [
    "search_url = 'https://api.twitter.com/1.1/search/tweets.json'"
   ]
  },
  {
   "cell_type": "code",
   "execution_count": 66,
   "metadata": {
    "collapsed": true
   },
   "outputs": [],
   "source": [
    "params = {'q': 'data science',\n",
    "          'result_type': 'recent'} # popular also possible"
   ]
  },
  {
   "cell_type": "code",
   "execution_count": 72,
   "metadata": {
    "collapsed": true
   },
   "outputs": [],
   "source": [
    "# same procedure as before\n",
    "search_response = requests.get(search_url, params=params, auth=auth)"
   ]
  },
  {
   "cell_type": "code",
   "execution_count": 73,
   "metadata": {
    "collapsed": false
   },
   "outputs": [
    {
     "data": {
      "text/plain": [
       "<Response [200]>"
      ]
     },
     "execution_count": 73,
     "metadata": {},
     "output_type": "execute_result"
    }
   ],
   "source": [
    "# 200 again, that's good\n",
    "search_response"
   ]
  },
  {
   "cell_type": "code",
   "execution_count": 75,
   "metadata": {
    "collapsed": true
   },
   "outputs": [],
   "source": [
    "re_json = search_response.json()\n",
    "# this contains a lot of information\n",
    "# I'd encourage you to play around with it!"
   ]
  },
  {
   "cell_type": "code",
   "execution_count": 80,
   "metadata": {
    "collapsed": false
   },
   "outputs": [
    {
     "name": "stdout",
     "output_type": "stream",
     "text": [
      "#bigdata\n",
      "#BigDataAnalytics \n",
      "Watch the video to see how  data science is  to influence voter behaviour. Is this how… https://t.co/F5X3C6fejg\n"
     ]
    }
   ],
   "source": [
    "first_status = re_json.get('statuses', [{}])[0]\n",
    "print first_status['text']"
   ]
  },
  {
   "cell_type": "code",
   "execution_count": 82,
   "metadata": {
    "collapsed": false
   },
   "outputs": [
    {
     "data": {
      "text/plain": [
       "[u'contributors',\n",
       " u'coordinates',\n",
       " u'created_at',\n",
       " u'entities',\n",
       " u'favorite_count',\n",
       " u'favorited',\n",
       " u'geo',\n",
       " u'id',\n",
       " u'id_str',\n",
       " u'in_reply_to_screen_name',\n",
       " u'in_reply_to_status_id',\n",
       " u'in_reply_to_status_id_str',\n",
       " u'in_reply_to_user_id',\n",
       " u'in_reply_to_user_id_str',\n",
       " u'is_quote_status',\n",
       " u'lang',\n",
       " u'metadata',\n",
       " u'place',\n",
       " u'possibly_sensitive',\n",
       " u'quoted_status',\n",
       " u'quoted_status_id',\n",
       " u'quoted_status_id_str',\n",
       " u'retweet_count',\n",
       " u'retweeted',\n",
       " u'source',\n",
       " u'text',\n",
       " u'truncated',\n",
       " u'user']"
      ]
     },
     "execution_count": 82,
     "metadata": {},
     "output_type": "execute_result"
    }
   ],
   "source": [
    "sorted(first_status.keys())"
   ]
  },
  {
   "cell_type": "code",
   "execution_count": 83,
   "metadata": {
    "collapsed": false
   },
   "outputs": [
    {
     "data": {
      "text/plain": [
       "[u'follow_request_sent',\n",
       " u'has_extended_profile',\n",
       " u'profile_use_background_image',\n",
       " u'default_profile_image',\n",
       " u'id',\n",
       " u'profile_background_image_url_https',\n",
       " u'verified',\n",
       " u'translator_type',\n",
       " u'profile_text_color',\n",
       " u'profile_image_url_https',\n",
       " u'profile_sidebar_fill_color',\n",
       " u'entities',\n",
       " u'followers_count',\n",
       " u'profile_sidebar_border_color',\n",
       " u'id_str',\n",
       " u'profile_background_color',\n",
       " u'listed_count',\n",
       " u'is_translation_enabled',\n",
       " u'utc_offset',\n",
       " u'statuses_count',\n",
       " u'description',\n",
       " u'friends_count',\n",
       " u'location',\n",
       " u'profile_link_color',\n",
       " u'profile_image_url',\n",
       " u'following',\n",
       " u'geo_enabled',\n",
       " u'profile_banner_url',\n",
       " u'profile_background_image_url',\n",
       " u'screen_name',\n",
       " u'lang',\n",
       " u'profile_background_tile',\n",
       " u'favourites_count',\n",
       " u'name',\n",
       " u'notifications',\n",
       " u'url',\n",
       " u'created_at',\n",
       " u'contributors_enabled',\n",
       " u'time_zone',\n",
       " u'protected',\n",
       " u'default_profile',\n",
       " u'is_translator']"
      ]
     },
     "execution_count": 83,
     "metadata": {},
     "output_type": "execute_result"
    }
   ],
   "source": [
    "first_status['user'].keys()"
   ]
  },
  {
   "cell_type": "code",
   "execution_count": null,
   "metadata": {
    "collapsed": false
   },
   "outputs": [],
   "source": [
    "# the first status\n",
    "re_json['statuses'][0]"
   ]
  },
  {
   "cell_type": "markdown",
   "metadata": {},
   "source": [
    "## Streaming API\n",
    "\n",
    "While the search API gives you a static batch of statuses, the *streaming* API will send you statuses until interrupted."
   ]
  },
  {
   "cell_type": "code",
   "execution_count": 84,
   "metadata": {
    "collapsed": true
   },
   "outputs": [],
   "source": [
    "from itertools import islice"
   ]
  },
  {
   "cell_type": "code",
   "execution_count": 105,
   "metadata": {
    "collapsed": false
   },
   "outputs": [],
   "source": [
    "# for this to work, we need POST instead of GET\n",
    "r = requests.post('https://stream.twitter.com/1.1/statuses/filter.json',\n",
    "                 params = {'track': '#data'},\n",
    "                 auth=auth,\n",
    "                 stream=True) # important"
   ]
  },
  {
   "cell_type": "code",
   "execution_count": 106,
   "metadata": {
    "collapsed": false
   },
   "outputs": [],
   "source": [
    "tweets = r.iter_lines()"
   ]
  },
  {
   "cell_type": "code",
   "execution_count": 93,
   "metadata": {
    "collapsed": true
   },
   "outputs": [],
   "source": [
    "import json"
   ]
  },
  {
   "cell_type": "code",
   "execution_count": 107,
   "metadata": {
    "collapsed": false
   },
   "outputs": [
    {
     "name": "stdout",
     "output_type": "stream",
     "text": [
      "Join us on 2nd Febru\n",
      "#Secure your #inform\n",
      "Be Remarkable The Fo\n",
      "RT @MediaNetwerk: [#\n",
      "Timeout.\n",
      "RT @BPTeC_Kenya: An \n",
      "Timeout.\n",
      "[H-NYC] RT ygaudry: \n",
      "How To Build A Great\n",
      "8 #big #data predict\n",
      "Timeout.\n",
      "Timeout.\n",
      "RT BPTeC_Kenya: An i\n",
      "Timeout.\n",
      "RT @DeepLearn007: Ma\n",
      "RT @Seb_Marchipont: \n",
      "Timeout.\n",
      "@DeadMasterMusic Ala\n",
      "Timeout.\n",
      "RT @Seb_Marchipont: \n"
     ]
    }
   ],
   "source": [
    "# this would work without islice as well, but it \n",
    "# would go on forever (for tweet in tweets: ...)\n",
    "for tweet in islice(tweets, 20):\n",
    "    if tweet != None:\n",
    "        print json.loads(tweet)['text'][:20]\n",
    "    else:\n",
    "        print 'Timeout.'"
   ]
  },
  {
   "cell_type": "code",
   "execution_count": 108,
   "metadata": {
    "collapsed": true
   },
   "outputs": [],
   "source": [
    "r.close() # always do this"
   ]
  },
  {
   "cell_type": "code",
   "execution_count": 116,
   "metadata": {
    "collapsed": false
   },
   "outputs": [
    {
     "name": "stdout",
     "output_type": "stream",
     "text": [
      "Hi, Håvard!\n"
     ]
    }
   ],
   "source": [
    "# student question: What about the u in u'string'?\n",
    "print u'Hi, Håvard!'"
   ]
  },
  {
   "cell_type": "code",
   "execution_count": 117,
   "metadata": {
    "collapsed": false
   },
   "outputs": [
    {
     "data": {
      "text/plain": [
       "u'Hi, H\\xe5vard!'"
      ]
     },
     "execution_count": 117,
     "metadata": {},
     "output_type": "execute_result"
    }
   ],
   "source": [
    "u'Hi, Håvard!' # good"
   ]
  },
  {
   "cell_type": "code",
   "execution_count": 119,
   "metadata": {
    "collapsed": false
   },
   "outputs": [
    {
     "data": {
      "text/plain": [
       "'Hi, H\\xc3\\xa5vard!'"
      ]
     },
     "execution_count": 119,
     "metadata": {},
     "output_type": "execute_result"
    }
   ],
   "source": [
    "'Hi, Håvard!' # less good!"
   ]
  },
  {
   "cell_type": "code",
   "execution_count": 197,
   "metadata": {
    "collapsed": false
   },
   "outputs": [
    {
     "data": {
      "text/plain": [
       "unicode"
      ]
     },
     "execution_count": 197,
     "metadata": {},
     "output_type": "execute_result"
    }
   ],
   "source": [
    "type(u'')\n",
    "# unicode can deal with almost any character"
   ]
  },
  {
   "cell_type": "code",
   "execution_count": 198,
   "metadata": {
    "collapsed": false
   },
   "outputs": [
    {
     "data": {
      "text/plain": [
       "str"
      ]
     },
     "execution_count": 198,
     "metadata": {},
     "output_type": "execute_result"
    }
   ],
   "source": [
    "type('')"
   ]
  },
  {
   "cell_type": "markdown",
   "metadata": {},
   "source": [
    "# Storing things\n",
    "\n",
    "## Files (e.g. .csv)\n",
    "\n",
    "- Don't scale (could use HDFS)\n",
    "- What about JSON?\n",
    "\n",
    "## Databases\n",
    "\n",
    "- SQL\n",
    "- NoSQL"
   ]
  },
  {
   "cell_type": "markdown",
   "metadata": {},
   "source": [
    "# MongoDB\n",
    "\n",
    "- Windows: Download 'Community edition'\n",
    "- MAC\n",
    "    brew update\n",
    "    brew install mongodb\n",
    "    brew services start mongobd\n",
    "- Linux\n",
    "    sudo apt install mongodb\n",
    "    \n",
    "Plus:\n",
    "\n",
    "    pip install pymongo\n",
    "    \n",
    "You can get great documentation at the [MongoDB website][mgs].\n",
    "\n",
    "[mgs]: https://docs.mongodb.com/getting-started/python/"
   ]
  },
  {
   "cell_type": "markdown",
   "metadata": {},
   "source": [
    "Mongobdb stores BSON, a binary version of JSON."
   ]
  },
  {
   "cell_type": "code",
   "execution_count": 120,
   "metadata": {
    "collapsed": true
   },
   "outputs": [],
   "source": [
    "from pymongo import MongoClient # our window into MongoDB"
   ]
  },
  {
   "cell_type": "code",
   "execution_count": 121,
   "metadata": {
    "collapsed": false
   },
   "outputs": [
    {
     "data": {
      "text/plain": [
       "MongoClient(host=['localhost:27017'], document_class=dict, tz_aware=False, connect=True)"
      ]
     },
     "execution_count": 121,
     "metadata": {},
     "output_type": "execute_result"
    }
   ],
   "source": [
    "MongoClient('localhost', 27017)"
   ]
  },
  {
   "cell_type": "code",
   "execution_count": 123,
   "metadata": {
    "collapsed": false
   },
   "outputs": [
    {
     "data": {
      "text/plain": [
       "MongoClient(host=['localhost:27017'], document_class=dict, tz_aware=False, connect=True)"
      ]
     },
     "execution_count": 123,
     "metadata": {},
     "output_type": "execute_result"
    }
   ],
   "source": [
    "MongoClient()"
   ]
  },
  {
   "cell_type": "code",
   "execution_count": 129,
   "metadata": {
    "collapsed": true
   },
   "outputs": [],
   "source": [
    "# stkinf - Database\n",
    "# music - Collection\n",
    "c = MongoClient().stkinf.music"
   ]
  },
  {
   "cell_type": "code",
   "execution_count": 130,
   "metadata": {
    "collapsed": false
   },
   "outputs": [
    {
     "data": {
      "text/plain": [
       "Collection(Database(MongoClient(host=['localhost:27017'], document_class=dict, tz_aware=False, connect=True), u'stkinf'), u'music')"
      ]
     },
     "execution_count": 130,
     "metadata": {},
     "output_type": "execute_result"
    }
   ],
   "source": [
    "c"
   ]
  },
  {
   "cell_type": "code",
   "execution_count": 131,
   "metadata": {
    "collapsed": true
   },
   "outputs": [],
   "source": [
    "# Now the neat thing with MongoDB is that we can store\n",
    "# basic python objects like dicts, lists, basic types,\n",
    "# dates, etc.. The main object needs to be a dictionary.\n",
    "jackson = {'name': {'first': 'Michael',\n",
    "                    'last': 'Jackson',\n",
    "                    'middle': 'Joseph'},\n",
    "           'born': datetime(1958, 8, 29),\n",
    "           'died': datetime(2009, 6, 25),\n",
    "           'albums': [{'name': 'Thriller',\n",
    "                       'released': 1982},\n",
    "                      {'name': 'Bad',\n",
    "                       'released': 1987}]}"
   ]
  },
  {
   "cell_type": "code",
   "execution_count": 132,
   "metadata": {
    "collapsed": true
   },
   "outputs": [],
   "source": [
    "# let's insert this into our MongoDB collection\n",
    "result = c.insert_one(jackson)"
   ]
  },
  {
   "cell_type": "code",
   "execution_count": 133,
   "metadata": {
    "collapsed": false
   },
   "outputs": [
    {
     "data": {
      "text/plain": [
       "<pymongo.results.InsertOneResult at 0x1065c05a0>"
      ]
     },
     "execution_count": 133,
     "metadata": {},
     "output_type": "execute_result"
    }
   ],
   "source": [
    "result"
   ]
  },
  {
   "cell_type": "code",
   "execution_count": 134,
   "metadata": {
    "collapsed": false
   },
   "outputs": [
    {
     "data": {
      "text/plain": [
       "True"
      ]
     },
     "execution_count": 134,
     "metadata": {},
     "output_type": "execute_result"
    }
   ],
   "source": [
    "result.acknowledged"
   ]
  },
  {
   "cell_type": "code",
   "execution_count": 135,
   "metadata": {
    "collapsed": false
   },
   "outputs": [
    {
     "data": {
      "text/plain": [
       "ObjectId('588f24817d12fa00c0dc8f1e')"
      ]
     },
     "execution_count": 135,
     "metadata": {},
     "output_type": "execute_result"
    }
   ],
   "source": [
    "result.inserted_id"
   ]
  },
  {
   "cell_type": "code",
   "execution_count": 137,
   "metadata": {
    "collapsed": false
   },
   "outputs": [
    {
     "data": {
      "text/plain": [
       "{u'_id': ObjectId('588f24817d12fa00c0dc8f1e'),\n",
       " u'albums': [{u'name': u'Thriller', u'released': 1982},\n",
       "  {u'name': u'Bad', u'released': 1987}],\n",
       " u'born': datetime.datetime(1958, 8, 29, 0, 0),\n",
       " u'died': datetime.datetime(2009, 6, 25, 0, 0),\n",
       " u'name': {u'first': u'Michael', u'last': u'Jackson', u'middle': u'Joseph'}}"
      ]
     },
     "execution_count": 137,
     "metadata": {},
     "output_type": "execute_result"
    }
   ],
   "source": [
    "# let's get it back\n",
    "c.find_one(result.inserted_id)"
   ]
  },
  {
   "cell_type": "code",
   "execution_count": 139,
   "metadata": {
    "collapsed": false
   },
   "outputs": [
    {
     "data": {
      "text/plain": [
       "{u'_id': ObjectId('588f24817d12fa00c0dc8f1e'),\n",
       " u'albums': [{u'name': u'Thriller', u'released': 1982},\n",
       "  {u'name': u'Bad', u'released': 1987}],\n",
       " u'born': datetime.datetime(1958, 8, 29, 0, 0),\n",
       " u'died': datetime.datetime(2009, 6, 25, 0, 0),\n",
       " u'name': {u'first': u'Michael', u'last': u'Jackson', u'middle': u'Joseph'}}"
      ]
     },
     "execution_count": 139,
     "metadata": {},
     "output_type": "execute_result"
    }
   ],
   "source": [
    "# getting one random object\n",
    "c.find_one() # any object"
   ]
  },
  {
   "cell_type": "code",
   "execution_count": 141,
   "metadata": {
    "collapsed": false
   },
   "outputs": [
    {
     "data": {
      "text/plain": [
       "[{u'_id': ObjectId('588f24817d12fa00c0dc8f1e'),\n",
       "  u'albums': [{u'name': u'Thriller', u'released': 1982},\n",
       "   {u'name': u'Bad', u'released': 1987}],\n",
       "  u'born': datetime.datetime(1958, 8, 29, 0, 0),\n",
       "  u'died': datetime.datetime(2009, 6, 25, 0, 0),\n",
       "  u'name': {u'first': u'Michael', u'last': u'Jackson', u'middle': u'Joseph'}}]"
      ]
     },
     "execution_count": 141,
     "metadata": {},
     "output_type": "execute_result"
    }
   ],
   "source": [
    "# getting many objects\n",
    "list(c.find())"
   ]
  },
  {
   "cell_type": "code",
   "execution_count": 142,
   "metadata": {
    "collapsed": false
   },
   "outputs": [
    {
     "name": "stdout",
     "output_type": "stream",
     "text": [
      "{u'born': datetime.datetime(1958, 8, 29, 0, 0), u'albums': [{u'released': 1982, u'name': u'Thriller'}, {u'released': 1987, u'name': u'Bad'}], u'_id': ObjectId('588f24817d12fa00c0dc8f1e'), u'name': {u'middle': u'Joseph', u'last': u'Jackson', u'first': u'Michael'}, u'died': datetime.datetime(2009, 6, 25, 0, 0)}\n"
     ]
    }
   ],
   "source": [
    "for i in c.find():\n",
    "    print i"
   ]
  },
  {
   "cell_type": "code",
   "execution_count": 143,
   "metadata": {
    "collapsed": false
   },
   "outputs": [
    {
     "name": "stdout",
     "output_type": "stream",
     "text": [
      "{u'born': datetime.datetime(1958, 8, 29, 0, 0), u'albums': [{u'released': 1982, u'name': u'Thriller'}, {u'released': 1987, u'name': u'Bad'}], u'_id': ObjectId('588f24817d12fa00c0dc8f1e'), u'name': {u'middle': u'Joseph', u'last': u'Jackson', u'first': u'Michael'}, u'died': datetime.datetime(2009, 6, 25, 0, 0)}\n"
     ]
    }
   ],
   "source": [
    "# getting max. 10 objects\n",
    "for i in c.find().limit(10):\n",
    "    print i"
   ]
  },
  {
   "cell_type": "code",
   "execution_count": 144,
   "metadata": {
    "collapsed": false
   },
   "outputs": [
    {
     "data": {
      "text/plain": [
       "{u'_id': ObjectId('588f24817d12fa00c0dc8f1e'),\n",
       " u'albums': [{u'name': u'Thriller', u'released': 1982},\n",
       "  {u'name': u'Bad', u'released': 1987}],\n",
       " u'born': datetime.datetime(1958, 8, 29, 0, 0),\n",
       " u'died': datetime.datetime(2009, 6, 25, 0, 0),\n",
       " u'name': {u'first': u'Michael', u'last': u'Jackson', u'middle': u'Joseph'}}"
      ]
     },
     "execution_count": 144,
     "metadata": {},
     "output_type": "execute_result"
    }
   ],
   "source": [
    "# search by field\n",
    "c.find_one({'born': datetime(1958, 8, 29)})"
   ]
  },
  {
   "cell_type": "code",
   "execution_count": 145,
   "metadata": {
    "collapsed": false
   },
   "outputs": [
    {
     "data": {
      "text/plain": [
       "{u'_id': ObjectId('588f24817d12fa00c0dc8f1e'),\n",
       " u'albums': [{u'name': u'Thriller', u'released': 1982},\n",
       "  {u'name': u'Bad', u'released': 1987}],\n",
       " u'born': datetime.datetime(1958, 8, 29, 0, 0),\n",
       " u'died': datetime.datetime(2009, 6, 25, 0, 0),\n",
       " u'name': {u'first': u'Michael', u'last': u'Jackson', u'middle': u'Joseph'}}"
      ]
     },
     "execution_count": 145,
     "metadata": {},
     "output_type": "execute_result"
    }
   ],
   "source": [
    "# search by nested field\n",
    "c.find_one({'name.middle': 'Joseph'})"
   ]
  },
  {
   "cell_type": "code",
   "execution_count": 146,
   "metadata": {
    "collapsed": false
   },
   "outputs": [
    {
     "data": {
      "text/plain": [
       "{u'_id': ObjectId('588f24817d12fa00c0dc8f1e'),\n",
       " u'albums': [{u'name': u'Thriller', u'released': 1982},\n",
       "  {u'name': u'Bad', u'released': 1987}],\n",
       " u'born': datetime.datetime(1958, 8, 29, 0, 0),\n",
       " u'died': datetime.datetime(2009, 6, 25, 0, 0),\n",
       " u'name': {u'first': u'Michael', u'last': u'Jackson', u'middle': u'Joseph'}}"
      ]
     },
     "execution_count": 146,
     "metadata": {},
     "output_type": "execute_result"
    }
   ],
   "source": [
    "# another example of nested field search\n",
    "c.find_one({'albums.released': 1982})"
   ]
  },
  {
   "cell_type": "code",
   "execution_count": 149,
   "metadata": {
    "collapsed": false
   },
   "outputs": [
    {
     "data": {
      "text/plain": [
       "{u'_id': ObjectId('588f24817d12fa00c0dc8f1e'),\n",
       " u'albums': [{u'name': u'Thriller', u'released': 1982},\n",
       "  {u'name': u'Bad', u'released': 1987}],\n",
       " u'born': datetime.datetime(1958, 8, 29, 0, 0),\n",
       " u'died': datetime.datetime(2009, 6, 25, 0, 0),\n",
       " u'name': {u'first': u'Michael', u'last': u'Jackson', u'middle': u'Joseph'}}"
      ]
     },
     "execution_count": 149,
     "metadata": {},
     "output_type": "execute_result"
    }
   ],
   "source": [
    "# comparison operator\n",
    "# we want albums.released > 1980\n",
    "c.find_one({'albums.released': {'$gt': 1980}})"
   ]
  },
  {
   "cell_type": "code",
   "execution_count": 150,
   "metadata": {
    "collapsed": true
   },
   "outputs": [],
   "source": [
    "# AND\n",
    "c.find_one({'name.first': 'Michael',\n",
    "             'name.last': 'Bowie'})"
   ]
  },
  {
   "cell_type": "code",
   "execution_count": 152,
   "metadata": {
    "collapsed": false
   },
   "outputs": [
    {
     "data": {
      "text/plain": [
       "{u'_id': ObjectId('588f24817d12fa00c0dc8f1e'),\n",
       " u'albums': [{u'name': u'Thriller', u'released': 1982},\n",
       "  {u'name': u'Bad', u'released': 1987}],\n",
       " u'born': datetime.datetime(1958, 8, 29, 0, 0),\n",
       " u'died': datetime.datetime(2009, 6, 25, 0, 0),\n",
       " u'name': {u'first': u'Michael', u'last': u'Jackson', u'middle': u'Joseph'}}"
      ]
     },
     "execution_count": 152,
     "metadata": {},
     "output_type": "execute_result"
    }
   ],
   "source": [
    "# OR\n",
    "c.find_one({'$or': [{'name.first': 'Michael'},\n",
    "                     {'name.last': 'Bowie'}]})"
   ]
  },
  {
   "cell_type": "code",
   "execution_count": 153,
   "metadata": {
    "collapsed": true
   },
   "outputs": [],
   "source": [
    "# Let's make another object\n",
    "# It doesn't need to have the same fields.\n",
    "bowie = {'name': {'first': 'David',\n",
    "                  'last': 'Bowie',\n",
    "                  'middle': 'Robert'},\n",
    "         'born': datetime(1049, 1, 8)}"
   ]
  },
  {
   "cell_type": "code",
   "execution_count": 154,
   "metadata": {
    "collapsed": false
   },
   "outputs": [
    {
     "data": {
      "text/plain": [
       "<pymongo.results.InsertOneResult at 0x1065a94b0>"
      ]
     },
     "execution_count": 154,
     "metadata": {},
     "output_type": "execute_result"
    }
   ],
   "source": [
    "# insert it\n",
    "c.insert_one(bowie)"
   ]
  },
  {
   "cell_type": "code",
   "execution_count": 157,
   "metadata": {
    "collapsed": false
   },
   "outputs": [
    {
     "data": {
      "text/plain": [
       "[{u'_id': ObjectId('588f24817d12fa00c0dc8f1e'),\n",
       "  u'born': datetime.datetime(1958, 8, 29, 0, 0),\n",
       "  u'name': {u'first': u'Michael'}},\n",
       " {u'_id': ObjectId('588f269e7d12fa00c0dc8f1f'),\n",
       "  u'born': datetime.datetime(1049, 1, 8, 0, 0),\n",
       "  u'name': {u'first': u'David'}}]"
      ]
     },
     "execution_count": 157,
     "metadata": {},
     "output_type": "execute_result"
    }
   ],
   "source": [
    "# let's return only first name and birth date\n",
    "list(c.find({}, {'name.first': 1,\n",
    "                 'born': 1}))"
   ]
  },
  {
   "cell_type": "code",
   "execution_count": 161,
   "metadata": {
    "collapsed": false
   },
   "outputs": [
    {
     "data": {
      "text/plain": [
       "[{u'born': datetime.datetime(1958, 8, 29, 0, 0),\n",
       "  u'name': {u'first': u'Michael'}},\n",
       " {u'born': datetime.datetime(1049, 1, 8, 0, 0), u'name': {u'first': u'David'}}]"
      ]
     },
     "execution_count": 161,
     "metadata": {},
     "output_type": "execute_result"
    }
   ],
   "source": [
    "# suppress the id\n",
    "list(c.find({}, {'name.first': 1,\n",
    "                 'born': 1,\n",
    "                 '_id': 0}))"
   ]
  },
  {
   "cell_type": "code",
   "execution_count": 163,
   "metadata": {
    "collapsed": false
   },
   "outputs": [
    {
     "data": {
      "text/plain": [
       "[{u'albums': [{u'name': u'Thriller', u'released': 1982},\n",
       "   {u'name': u'Bad', u'released': 1987}],\n",
       "  u'born': datetime.datetime(1958, 8, 29, 0, 0),\n",
       "  u'died': datetime.datetime(2009, 6, 25, 0, 0),\n",
       "  u'name': {u'first': u'Michael', u'last': u'Jackson', u'middle': u'Joseph'}},\n",
       " {u'born': datetime.datetime(1049, 1, 8, 0, 0),\n",
       "  u'name': {u'first': u'David', u'last': u'Bowie', u'middle': u'Robert'}}]"
      ]
     },
     "execution_count": 163,
     "metadata": {},
     "output_type": "execute_result"
    }
   ],
   "source": [
    "# ditto\n",
    "list(c.find({}, {'_id': 0}))"
   ]
  },
  {
   "cell_type": "code",
   "execution_count": 167,
   "metadata": {
    "collapsed": false
   },
   "outputs": [
    {
     "data": {
      "text/plain": [
       "{u'_id': ObjectId('588f24817d12fa00c0dc8f1e'),\n",
       " u'albums': [{u'name': u'Thriller', u'released': 1982},\n",
       "  {u'name': u'Bad', u'released': 1987}],\n",
       " u'born': datetime.datetime(1958, 8, 29, 0, 0),\n",
       " u'died': datetime.datetime(2009, 6, 25, 0, 0),\n",
       " u'name': {u'first': u'Michael', u'last': u'Jackson', u'middle': u'Joseph'}}"
      ]
     },
     "execution_count": 167,
     "metadata": {},
     "output_type": "execute_result"
    }
   ],
   "source": [
    "# another example for AND: 1900 < born < 2000\n",
    "c.find_one({'born': {'$lt': datetime(2000, 1, 1)}, # AND\n",
    "            'born': {'$gt': datetime(1900, 1, 1)}})"
   ]
  },
  {
   "cell_type": "markdown",
   "metadata": {},
   "source": [
    "# Modifying things"
   ]
  },
  {
   "cell_type": "code",
   "execution_count": 168,
   "metadata": {
    "collapsed": true
   },
   "outputs": [],
   "source": [
    "# add albums field\n",
    "result = c.update_one({'name.last': 'Bowie'},\n",
    "                      {'$set': {'albums': []}})"
   ]
  },
  {
   "cell_type": "code",
   "execution_count": 170,
   "metadata": {
    "collapsed": false
   },
   "outputs": [
    {
     "data": {
      "text/plain": [
       "True"
      ]
     },
     "execution_count": 170,
     "metadata": {},
     "output_type": "execute_result"
    }
   ],
   "source": [
    "result.acknowledged"
   ]
  },
  {
   "cell_type": "code",
   "execution_count": 174,
   "metadata": {
    "collapsed": false
   },
   "outputs": [
    {
     "data": {
      "text/plain": [
       "{u'_id': ObjectId('588f269e7d12fa00c0dc8f1f'),\n",
       " u'albums': [],\n",
       " u'born': datetime.datetime(1049, 1, 8, 0, 0),\n",
       " u'name': {u'first': u'David', u'last': u'Bowie', u'middle': u'Robert'}}"
      ]
     },
     "execution_count": 174,
     "metadata": {},
     "output_type": "execute_result"
    }
   ],
   "source": [
    "# worked\n",
    "c.find_one({'name.last': 'Bowie'})"
   ]
  },
  {
   "cell_type": "code",
   "execution_count": 175,
   "metadata": {
    "collapsed": false
   },
   "outputs": [
    {
     "data": {
      "text/plain": [
       "<pymongo.results.UpdateResult at 0x1065a9960>"
      ]
     },
     "execution_count": 175,
     "metadata": {},
     "output_type": "execute_result"
    }
   ],
   "source": [
    "# append to a list\n",
    "c.update_one({'name.last': 'Bowie'},\n",
    "             {'$push': {'albums': {'name': \"Let's Dance\",\n",
    "                                   'released': 1983}}})"
   ]
  },
  {
   "cell_type": "code",
   "execution_count": 176,
   "metadata": {
    "collapsed": false
   },
   "outputs": [
    {
     "data": {
      "text/plain": [
       "{u'_id': ObjectId('588f269e7d12fa00c0dc8f1f'),\n",
       " u'albums': [{u'name': u\"Let's Dance\", u'released': 1983}],\n",
       " u'born': datetime.datetime(1049, 1, 8, 0, 0),\n",
       " u'name': {u'first': u'David', u'last': u'Bowie', u'middle': u'Robert'}}"
      ]
     },
     "execution_count": 176,
     "metadata": {},
     "output_type": "execute_result"
    }
   ],
   "source": [
    "c.find_one({'name.last': 'Bowie'})"
   ]
  },
  {
   "cell_type": "code",
   "execution_count": 178,
   "metadata": {
    "collapsed": false
   },
   "outputs": [
    {
     "data": {
      "text/plain": [
       "<pymongo.results.UpdateResult at 0x1065a9dc0>"
      ]
     },
     "execution_count": 178,
     "metadata": {},
     "output_type": "execute_result"
    }
   ],
   "source": [
    "# increment a field\n",
    "c.update_one({'name.last': 'Bowie'},\n",
    "             {'$inc': {'albums.0.released': 1}})"
   ]
  },
  {
   "cell_type": "code",
   "execution_count": 179,
   "metadata": {
    "collapsed": false
   },
   "outputs": [
    {
     "data": {
      "text/plain": [
       "{u'_id': ObjectId('588f269e7d12fa00c0dc8f1f'),\n",
       " u'albums': [{u'name': u\"Let's Dance\", u'released': 1984}],\n",
       " u'born': datetime.datetime(1049, 1, 8, 0, 0),\n",
       " u'name': {u'first': u'David', u'last': u'Bowie', u'middle': u'Robert'}}"
      ]
     },
     "execution_count": 179,
     "metadata": {},
     "output_type": "execute_result"
    }
   ],
   "source": [
    "c.find_one({'name.last': 'Bowie'})"
   ]
  },
  {
   "cell_type": "code",
   "execution_count": 186,
   "metadata": {
    "collapsed": false
   },
   "outputs": [],
   "source": [
    "# decrement a field\n",
    "r = c.update_one({'name.last': 'Bowie'},\n",
    "                 {'$inc': {'albums.0.released': -1}})"
   ]
  },
  {
   "cell_type": "markdown",
   "metadata": {},
   "source": [
    "## Aggregation\n",
    "\n",
    "We'll talk more about this next session."
   ]
  },
  {
   "cell_type": "code",
   "execution_count": 185,
   "metadata": {
    "collapsed": true
   },
   "outputs": [],
   "source": [
    "agg = c.aggregate([{'$group': {'_id': '$born',\n",
    "                               'people_count': {'$sum': 1}}}])"
   ]
  },
  {
   "cell_type": "code",
   "execution_count": 184,
   "metadata": {
    "collapsed": false
   },
   "outputs": [
    {
     "data": {
      "text/plain": [
       "[{u'_id': datetime.datetime(1049, 1, 8, 0, 0), u'cnt': 1},\n",
       " {u'_id': datetime.datetime(1958, 8, 29, 0, 0), u'cnt': 1}]"
      ]
     },
     "execution_count": 184,
     "metadata": {},
     "output_type": "execute_result"
    }
   ],
   "source": [
    "list(agg)"
   ]
  }
 ],
 "metadata": {
  "kernelspec": {
   "display_name": "Python 2",
   "language": "python",
   "name": "python2"
  },
  "language_info": {
   "codemirror_mode": {
    "name": "ipython",
    "version": 2
   },
   "file_extension": ".py",
   "mimetype": "text/x-python",
   "name": "python",
   "nbconvert_exporter": "python",
   "pygments_lexer": "ipython2",
   "version": "2.7.12"
  }
 },
 "nbformat": 4,
 "nbformat_minor": 2
}
