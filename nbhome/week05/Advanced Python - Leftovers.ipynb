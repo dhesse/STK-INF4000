{
 "cells": [
  {
   "cell_type": "markdown",
   "metadata": {},
   "source": [
    "# Sets"
   ]
  },
  {
   "cell_type": "code",
   "execution_count": 25,
   "metadata": {
    "collapsed": false
   },
   "outputs": [
    {
     "data": {
      "text/plain": [
       "{1, 2, 3}"
      ]
     },
     "execution_count": 25,
     "metadata": {},
     "output_type": "execute_result"
    }
   ],
   "source": [
    "{1,2,3}"
   ]
  },
  {
   "cell_type": "code",
   "execution_count": 26,
   "metadata": {
    "collapsed": false
   },
   "outputs": [
    {
     "data": {
      "text/plain": [
       "{1, 2, 3}"
      ]
     },
     "execution_count": 26,
     "metadata": {},
     "output_type": "execute_result"
    }
   ],
   "source": [
    "{1,3,2,3,3}"
   ]
  },
  {
   "cell_type": "code",
   "execution_count": 29,
   "metadata": {
    "collapsed": false
   },
   "outputs": [],
   "source": [
    "my_set = {\"a\", 2, (1,2)}"
   ]
  },
  {
   "cell_type": "code",
   "execution_count": 30,
   "metadata": {
    "collapsed": true
   },
   "outputs": [],
   "source": [
    "my_set.add(\"a\")"
   ]
  },
  {
   "cell_type": "code",
   "execution_count": 31,
   "metadata": {
    "collapsed": false
   },
   "outputs": [
    {
     "data": {
      "text/plain": [
       "{2, 'a', (1, 2)}"
      ]
     },
     "execution_count": 31,
     "metadata": {},
     "output_type": "execute_result"
    }
   ],
   "source": [
    "my_set"
   ]
  },
  {
   "cell_type": "markdown",
   "metadata": {},
   "source": [
    "# Static methods and classmethods"
   ]
  },
  {
   "cell_type": "code",
   "execution_count": 33,
   "metadata": {
    "collapsed": false
   },
   "outputs": [
    {
     "data": {
      "text/plain": [
       "<__main__.Point at 0x1072be910>"
      ]
     },
     "execution_count": 33,
     "metadata": {},
     "output_type": "execute_result"
    }
   ],
   "source": [
    "from math import sin, cos, pi, sqrt\n",
    "class Point(object):\n",
    "    def __init__(self, x, y):\n",
    "        self.x = x\n",
    "        self.y = y\n",
    "    @classmethod\n",
    "    def from_polar(cls, r, phi):\n",
    "        return cls(r * cos(phi),\n",
    "                   r * sin(phi))\n",
    "    @staticmethod\n",
    "    def r(p):\n",
    "        return sqrt(p.x**2 + p.y**2)\n",
    "Point.from_polar(1, pi)"
   ]
  },
  {
   "cell_type": "code",
   "execution_count": 34,
   "metadata": {
    "collapsed": false
   },
   "outputs": [
    {
     "data": {
      "text/plain": [
       "1.5"
      ]
     },
     "execution_count": 34,
     "metadata": {},
     "output_type": "execute_result"
    }
   ],
   "source": [
    "Point.r(Point.from_polar(1.5, pi/2))"
   ]
  },
  {
   "cell_type": "markdown",
   "metadata": {},
   "source": [
    "## More special methods"
   ]
  },
  {
   "cell_type": "code",
   "execution_count": 27,
   "metadata": {
    "collapsed": false
   },
   "outputs": [],
   "source": [
    "class PointWithAccess(Point):\n",
    "    def __init__(self, x, y):\n",
    "        super(PointWithAccess, self).__init__(x, y)\n",
    "    def __getitem__(self, i):\n",
    "        if i == 0:\n",
    "            return self.x\n",
    "        elif i == 1:\n",
    "            return self.y\n",
    "        else:\n",
    "            raise KeyError\n",
    "    def __iter__(self):\n",
    "        yield self.x\n",
    "        yield self.y"
   ]
  },
  {
   "cell_type": "code",
   "execution_count": 28,
   "metadata": {
    "collapsed": false
   },
   "outputs": [
    {
     "name": "stdout",
     "output_type": "stream",
     "text": [
      "Point, x = 1, y = 2\n"
     ]
    }
   ],
   "source": [
    "p = PointWithAccess(1, 2)\n",
    "print p"
   ]
  },
  {
   "cell_type": "code",
   "execution_count": 29,
   "metadata": {
    "collapsed": false
   },
   "outputs": [
    {
     "data": {
      "text/plain": [
       "(1, 2)"
      ]
     },
     "execution_count": 29,
     "metadata": {},
     "output_type": "execute_result"
    }
   ],
   "source": [
    "p[0], p[1]"
   ]
  },
  {
   "cell_type": "code",
   "execution_count": 30,
   "metadata": {
    "collapsed": false
   },
   "outputs": [
    {
     "data": {
      "text/plain": [
       "[1, 2]"
      ]
     },
     "execution_count": 30,
     "metadata": {},
     "output_type": "execute_result"
    }
   ],
   "source": [
    "[i for i in p]"
   ]
  },
  {
   "cell_type": "markdown",
   "metadata": {},
   "source": [
    "# Generators"
   ]
  },
  {
   "cell_type": "code",
   "execution_count": 1,
   "metadata": {
    "collapsed": false
   },
   "outputs": [],
   "source": [
    "def get_messages():\n",
    "    messages = {'One message.', 'Another message.'}\n",
    "    while messages:\n",
    "        yield messages.pop()"
   ]
  },
  {
   "cell_type": "code",
   "execution_count": 2,
   "metadata": {
    "collapsed": false
   },
   "outputs": [
    {
     "data": {
      "text/plain": [
       "<generator object get_messages at 0x7f66e35b9eb0>"
      ]
     },
     "execution_count": 2,
     "metadata": {},
     "output_type": "execute_result"
    }
   ],
   "source": [
    "get_messages()"
   ]
  },
  {
   "cell_type": "code",
   "execution_count": 3,
   "metadata": {
    "collapsed": false
   },
   "outputs": [
    {
     "data": {
      "text/plain": [
       "['One message.', 'Another message.']"
      ]
     },
     "execution_count": 3,
     "metadata": {},
     "output_type": "execute_result"
    }
   ],
   "source": [
    "[i for i in get_messages()]"
   ]
  },
  {
   "cell_type": "code",
   "execution_count": 4,
   "metadata": {
    "collapsed": true
   },
   "outputs": [],
   "source": [
    "i = get_messages()"
   ]
  },
  {
   "cell_type": "code",
   "execution_count": 6,
   "metadata": {
    "collapsed": false
   },
   "outputs": [
    {
     "data": {
      "text/plain": [
       "'One message.'"
      ]
     },
     "execution_count": 6,
     "metadata": {},
     "output_type": "execute_result"
    }
   ],
   "source": [
    "next(i)"
   ]
  },
  {
   "cell_type": "code",
   "execution_count": 7,
   "metadata": {
    "collapsed": false
   },
   "outputs": [
    {
     "data": {
      "text/plain": [
       "'Another message.'"
      ]
     },
     "execution_count": 7,
     "metadata": {},
     "output_type": "execute_result"
    }
   ],
   "source": [
    "i.next()"
   ]
  },
  {
   "cell_type": "code",
   "execution_count": 8,
   "metadata": {
    "collapsed": false
   },
   "outputs": [
    {
     "ename": "StopIteration",
     "evalue": "",
     "output_type": "error",
     "traceback": [
      "\u001b[0;31m---------------------------------------------------------------------------\u001b[0m",
      "\u001b[0;31mStopIteration\u001b[0m                             Traceback (most recent call last)",
      "\u001b[0;32m<ipython-input-8-bed2471d02c1>\u001b[0m in \u001b[0;36m<module>\u001b[0;34m()\u001b[0m\n\u001b[0;32m----> 1\u001b[0;31m \u001b[0mnext\u001b[0m\u001b[0;34m(\u001b[0m\u001b[0mi\u001b[0m\u001b[0;34m)\u001b[0m\u001b[0;34m\u001b[0m\u001b[0m\n\u001b[0m",
      "\u001b[0;31mStopIteration\u001b[0m: "
     ]
    }
   ],
   "source": [
    "next(i)"
   ]
  },
  {
   "cell_type": "markdown",
   "metadata": {},
   "source": [
    "# Error handling"
   ]
  },
  {
   "cell_type": "code",
   "execution_count": 23,
   "metadata": {
    "collapsed": true
   },
   "outputs": [],
   "source": [
    "class MeanValue(object):\n",
    "    n = 0\n",
    "    total = 0\n",
    "    def put(self, x):\n",
    "        n += 1\n",
    "        total += x\n",
    "    def get(self):\n",
    "        if self.n == 0:\n",
    "            raise ValueError('No values stored!')\n",
    "        else:\n",
    "            return self.total / self.n"
   ]
  },
  {
   "cell_type": "code",
   "execution_count": 24,
   "metadata": {
    "collapsed": true
   },
   "outputs": [],
   "source": [
    "m = MeanValue()"
   ]
  },
  {
   "cell_type": "code",
   "execution_count": 25,
   "metadata": {
    "collapsed": false
   },
   "outputs": [
    {
     "ename": "ValueError",
     "evalue": "No values stored!",
     "output_type": "error",
     "traceback": [
      "\u001b[0;31m---------------------------------------------------------------------------\u001b[0m",
      "\u001b[0;31mValueError\u001b[0m                                Traceback (most recent call last)",
      "\u001b[0;32m<ipython-input-25-9ba8e0c7146b>\u001b[0m in \u001b[0;36m<module>\u001b[0;34m()\u001b[0m\n\u001b[0;32m----> 1\u001b[0;31m \u001b[0mm\u001b[0m\u001b[0;34m.\u001b[0m\u001b[0mget\u001b[0m\u001b[0;34m(\u001b[0m\u001b[0;34m)\u001b[0m\u001b[0;34m\u001b[0m\u001b[0m\n\u001b[0m",
      "\u001b[0;32m<ipython-input-23-6ccb0c93a246>\u001b[0m in \u001b[0;36mget\u001b[0;34m(self)\u001b[0m\n\u001b[1;32m      7\u001b[0m     \u001b[0;32mdef\u001b[0m \u001b[0mget\u001b[0m\u001b[0;34m(\u001b[0m\u001b[0mself\u001b[0m\u001b[0;34m)\u001b[0m\u001b[0;34m:\u001b[0m\u001b[0;34m\u001b[0m\u001b[0m\n\u001b[1;32m      8\u001b[0m         \u001b[0;32mif\u001b[0m \u001b[0mself\u001b[0m\u001b[0;34m.\u001b[0m\u001b[0mn\u001b[0m \u001b[0;34m==\u001b[0m \u001b[0;36m0\u001b[0m\u001b[0;34m:\u001b[0m\u001b[0;34m\u001b[0m\u001b[0m\n\u001b[0;32m----> 9\u001b[0;31m             \u001b[0;32mraise\u001b[0m \u001b[0mValueError\u001b[0m\u001b[0;34m(\u001b[0m\u001b[0;34m'No values stored!'\u001b[0m\u001b[0;34m)\u001b[0m\u001b[0;34m\u001b[0m\u001b[0m\n\u001b[0m\u001b[1;32m     10\u001b[0m         \u001b[0;32melse\u001b[0m\u001b[0;34m:\u001b[0m\u001b[0;34m\u001b[0m\u001b[0m\n\u001b[1;32m     11\u001b[0m             \u001b[0;32mreturn\u001b[0m \u001b[0mself\u001b[0m\u001b[0;34m.\u001b[0m\u001b[0mtotal\u001b[0m \u001b[0;34m/\u001b[0m \u001b[0mself\u001b[0m\u001b[0;34m.\u001b[0m\u001b[0mn\u001b[0m\u001b[0;34m\u001b[0m\u001b[0m\n",
      "\u001b[0;31mValueError\u001b[0m: No values stored!"
     ]
    }
   ],
   "source": [
    "m.get()"
   ]
  },
  {
   "cell_type": "code",
   "execution_count": 26,
   "metadata": {
    "collapsed": false
   },
   "outputs": [
    {
     "name": "stdout",
     "output_type": "stream",
     "text": [
      "No values stored!\n"
     ]
    }
   ],
   "source": [
    "mean = None\n",
    "try:\n",
    "    mean = m.get()\n",
    "except ValueError as e:\n",
    "    print e"
   ]
  },
  {
   "cell_type": "markdown",
   "metadata": {
    "collapsed": true
   },
   "source": [
    "# Scipy / Numpy\n",
    "\n",
    "**Numpy** provides:\n",
    "\n",
    "- An `array` class.\n",
    "- Random sampling.\n",
    "- Legacy stuff.\n",
    "\n",
    "**Scipy** provides:\n",
    "\n",
    "- Interpolation.\n",
    "- Optimizaiton.\n",
    "- Numerical integration.\n",
    "- Fourier transformaions.\n",
    "- Signal processing.\n",
    "- Linear algebra."
   ]
  },
  {
   "cell_type": "code",
   "execution_count": 1,
   "metadata": {
    "collapsed": true
   },
   "outputs": [],
   "source": [
    "import numpy as np\n",
    "import scipy as sp"
   ]
  },
  {
   "cell_type": "code",
   "execution_count": 4,
   "metadata": {
    "collapsed": false
   },
   "outputs": [
    {
     "data": {
      "text/plain": [
       "array([0, 1, 2, 3, 4, 5, 6, 7, 8, 9], dtype=int16)"
      ]
     },
     "execution_count": 4,
     "metadata": {},
     "output_type": "execute_result"
    }
   ],
   "source": [
    "np.array(range(10), dtype=np.int16)"
   ]
  },
  {
   "cell_type": "code",
   "execution_count": 5,
   "metadata": {
    "collapsed": false
   },
   "outputs": [
    {
     "data": {
      "text/plain": [
       "array([ 0.,  1.,  2.,  3.,  4.,  5.,  6.,  7.,  8.,  9.], dtype=float32)"
      ]
     },
     "execution_count": 5,
     "metadata": {},
     "output_type": "execute_result"
    }
   ],
   "source": [
    "np.array(range(10), dtype=np.float32)"
   ]
  },
  {
   "cell_type": "code",
   "execution_count": 6,
   "metadata": {
    "collapsed": false
   },
   "outputs": [
    {
     "data": {
      "text/plain": [
       "array([ 0. ,  0.5,  1. ,  1.5,  2. ,  2.5,  3. ,  3.5,  4. ,  4.5,  5. ,\n",
       "        5.5,  6. ,  6.5,  7. ,  7.5,  8. ,  8.5,  9. ,  9.5])"
      ]
     },
     "execution_count": 6,
     "metadata": {},
     "output_type": "execute_result"
    }
   ],
   "source": [
    "np.arange(0, 10, .5)"
   ]
  },
  {
   "cell_type": "code",
   "execution_count": 8,
   "metadata": {
    "collapsed": false
   },
   "outputs": [
    {
     "data": {
      "text/plain": [
       "array([        1,         1,         4,        27,       256,      3125,\n",
       "           46656,    823543,  16777216, 387420489])"
      ]
     },
     "execution_count": 8,
     "metadata": {},
     "output_type": "execute_result"
    }
   ],
   "source": [
    "np.array(range(10)) ** np.array(range(10))"
   ]
  },
  {
   "cell_type": "markdown",
   "metadata": {},
   "source": [
    "## Why arrays?"
   ]
  },
  {
   "cell_type": "code",
   "execution_count": 22,
   "metadata": {
    "collapsed": false
   },
   "outputs": [
    {
     "name": "stdout",
     "output_type": "stream",
     "text": [
      "10000 loops, best of 3: 126 µs per loop\n"
     ]
    }
   ],
   "source": [
    "my_array = np.random.standard_normal(1000)\n",
    "%timeit sum(my_array**2)"
   ]
  },
  {
   "cell_type": "code",
   "execution_count": 23,
   "metadata": {
    "collapsed": false
   },
   "outputs": [
    {
     "name": "stdout",
     "output_type": "stream",
     "text": [
      "1000 loops, best of 3: 469 µs per loop\n"
     ]
    }
   ],
   "source": [
    "my_list = list(my_array)\n",
    "%timeit sum([i**2 for i in my_array])"
   ]
  },
  {
   "cell_type": "code",
   "execution_count": 28,
   "metadata": {
    "collapsed": true
   },
   "outputs": [],
   "source": [
    "y = np.random.standard_normal(10)"
   ]
  },
  {
   "cell_type": "code",
   "execution_count": 29,
   "metadata": {
    "collapsed": false
   },
   "outputs": [],
   "source": [
    "x = np.arange(10)"
   ]
  },
  {
   "cell_type": "code",
   "execution_count": 30,
   "metadata": {
    "collapsed": false
   },
   "outputs": [
    {
     "data": {
      "text/plain": [
       "(array([0, 1, 2, 3, 4, 5, 6, 7, 8, 9]),\n",
       " array([ 0.30534528, -0.13735209, -0.76739274,  0.54162726, -2.39361375,\n",
       "         0.3224624 , -1.77004347, -1.73053663,  0.27928154,  2.02906537]))"
      ]
     },
     "execution_count": 30,
     "metadata": {},
     "output_type": "execute_result"
    }
   ],
   "source": [
    "x,y"
   ]
  },
  {
   "cell_type": "code",
   "execution_count": 35,
   "metadata": {
    "collapsed": true
   },
   "outputs": [],
   "source": [
    "%matplotlib inline"
   ]
  },
  {
   "cell_type": "code",
   "execution_count": 36,
   "metadata": {
    "collapsed": true
   },
   "outputs": [],
   "source": [
    "import matplotlib.pylab as plt"
   ]
  },
  {
   "cell_type": "markdown",
   "metadata": {},
   "source": [
    "# Interpolation\n",
    "\n",
    "## Splines\n",
    "\n",
    "A spline $S$ is a piecewise polynomial function on an interval [a, b], i.e. there exists an $n$ and $x_i \\in [a,b]$ with $a = x_0 < x_2 < \\ldots < x_n = b$, such that\n",
    "\n",
    "$\\left. S\\right|_{[x_{i-1}, x_i)} = P_i, \\quad i = 1,\\ldots, n$\n",
    "\n",
    "with $P_i$ polynomial and $P_i(x_i) = P_{i+1}(x_i)$."
   ]
  },
  {
   "cell_type": "code",
   "execution_count": 32,
   "metadata": {
    "collapsed": false
   },
   "outputs": [],
   "source": [
    "from scipy.interpolate import interp1d"
   ]
  },
  {
   "cell_type": "code",
   "execution_count": 33,
   "metadata": {
    "collapsed": true
   },
   "outputs": [],
   "source": [
    "S = interp1d(x,y,kind='cubic')"
   ]
  },
  {
   "cell_type": "code",
   "execution_count": 39,
   "metadata": {
    "collapsed": false
   },
   "outputs": [
    {
     "data": {
      "text/plain": [
       "array([ 0.30534528, -0.13735209, -0.76739274,  0.54162726, -2.39361375,\n",
       "        0.3224624 , -1.77004347, -1.73053663,  0.27928154,  2.02906537])"
      ]
     },
     "execution_count": 39,
     "metadata": {},
     "output_type": "execute_result"
    }
   ],
   "source": [
    "S(x)"
   ]
  },
  {
   "cell_type": "code",
   "execution_count": 51,
   "metadata": {
    "collapsed": false
   },
   "outputs": [
    {
     "data": {
      "text/plain": [
       "[<matplotlib.lines.Line2D at 0x109680850>,\n",
       " <matplotlib.lines.Line2D at 0x109680950>]"
      ]
     },
     "execution_count": 51,
     "metadata": {},
     "output_type": "execute_result"
    },
    {
     "data": {
      "image/png": "[encoded data removed]",
      "text/plain": [
       "<matplotlib.figure.Figure at 0x1095367d0>"
      ]
     },
     "metadata": {},
     "output_type": "display_data"
    }
   ],
   "source": [
    "plt.plot(x, y, 's', np.arange(0,9.1,.1), S(np.arange(0,9.1,.1)), \"-\")"
   ]
  },
  {
   "cell_type": "markdown",
   "metadata": {},
   "source": [
    "http://www.aavso.org/data-download"
   ]
  },
  {
   "cell_type": "markdown",
   "metadata": {},
   "source": [
    "# Intergration\n",
    "\n",
    "We now numerically approximate\n",
    "\n",
    "$$\\int_2^5 S(x) {\\rm d}x\\,.$$\n"
   ]
  },
  {
   "cell_type": "code",
   "execution_count": 53,
   "metadata": {
    "collapsed": false
   },
   "outputs": [],
   "source": [
    "from scipy.integrate import quad"
   ]
  },
  {
   "cell_type": "code",
   "execution_count": 54,
   "metadata": {
    "collapsed": false
   },
   "outputs": [
    {
     "data": {
      "text/plain": [
       "(-2.0428122646329725, 2.2679772111821845e-15)"
      ]
     },
     "execution_count": 54,
     "metadata": {},
     "output_type": "execute_result"
    }
   ],
   "source": [
    "quad(S, 2, 5)"
   ]
  },
  {
   "cell_type": "markdown",
   "metadata": {},
   "source": [
    "# Differential equations"
   ]
  },
  {
   "cell_type": "code",
   "execution_count": 8,
   "metadata": {
    "collapsed": false
   },
   "outputs": [],
   "source": [
    "from scipy.integrate import odeint"
   ]
  },
  {
   "cell_type": "markdown",
   "metadata": {},
   "source": [
    "$$\\theta''(t) + b\\theta'(t) + c \\sin(\\theta(t)) = 0$$\n",
    "$$\\Leftrightarrow \\theta'(t) = \\omega(t), \\quad \\omega'(t) = -b \\omega(t) - c \\sin(\\theta(t)$$"
   ]
  },
  {
   "cell_type": "code",
   "execution_count": 9,
   "metadata": {
    "collapsed": true
   },
   "outputs": [],
   "source": [
    "def pend(y, t, b, c):\n",
    "    theta, omega = y\n",
    "    dydt = [omega, -b*omega - c*np.sin(theta)]\n",
    "    return dydt"
   ]
  },
  {
   "cell_type": "code",
   "execution_count": 10,
   "metadata": {
    "collapsed": true
   },
   "outputs": [],
   "source": [
    "b,c = 0.25, 5"
   ]
  },
  {
   "cell_type": "code",
   "execution_count": 27,
   "metadata": {
    "collapsed": true
   },
   "outputs": [],
   "source": [
    "y0 = [np.pi - .01, 0.0]"
   ]
  },
  {
   "cell_type": "code",
   "execution_count": 28,
   "metadata": {
    "collapsed": true
   },
   "outputs": [],
   "source": [
    "t = np.arange(0, 10, 0.1)"
   ]
  },
  {
   "cell_type": "code",
   "execution_count": 29,
   "metadata": {
    "collapsed": false
   },
   "outputs": [],
   "source": [
    "solution = odeint(pend, y0, t, args=(b, c))"
   ]
  },
  {
   "cell_type": "code",
   "execution_count": 30,
   "metadata": {
    "collapsed": true
   },
   "outputs": [],
   "source": [
    "import matplotlib.pyplot as plt\n",
    "%matplotlib inline"
   ]
  },
  {
   "cell_type": "code",
   "execution_count": 31,
   "metadata": {
    "collapsed": false
   },
   "outputs": [
    {
     "data": {
      "text/plain": [
       "<matplotlib.text.Text at 0x113c14b10>"
      ]
     },
     "execution_count": 31,
     "metadata": {},
     "output_type": "execute_result"
    },
    {
     "data": {
      "image/png": "[encoded data removed]",
      "text/plain": [
       "<matplotlib.figure.Figure at 0x113f39ed0>"
      ]
     },
     "metadata": {},
     "output_type": "display_data"
    }
   ],
   "source": [
    "plt.plot(t, solution[:, 0], label=r'$\\theta$')\n",
    "plt.plot(t, solution[:, 1], label=r'$\\omega$')\n",
    "plt.legend()\n",
    "plt.xlabel('t')"
   ]
  },
  {
   "cell_type": "markdown",
   "metadata": {},
   "source": [
    "# Optimization\n",
    "\n",
    "## Least-square fitting\n",
    "\n",
    "Let $f_\\theta: \\mathbb{R} \\rightarrow \\mathbb{R}$, $\\theta \\in \\mathbb{R}^k$ be a family of functions, e.g.\n",
    "\n",
    "$$f_\\theta(x) = \\theta_0 + \\theta_1 x + \\theta_2 x^2\\,.$$\n",
    "\n",
    "Let $x_i, y_i, i = 1,\\ldots,n$ be observations of some kind, e.g. temperatures $y$ measuread at times $x$.\n",
    "\n",
    "Our **objective** is to find\n",
    "\n",
    "$$\\theta^* = \\underset{\\theta}{\\rm argmin} \\sum_i \\left(y_i - f_\\theta(x_i)\\right)^2\\,.$$"
   ]
  },
  {
   "cell_type": "code",
   "execution_count": 124,
   "metadata": {
    "collapsed": true
   },
   "outputs": [],
   "source": [
    "import scipy.optimize"
   ]
  },
  {
   "cell_type": "markdown",
   "metadata": {},
   "source": [
    "https://archive.ics.uci.edu/ml/machine-learning-databases/housing/"
   ]
  },
  {
   "cell_type": "code",
   "execution_count": 50,
   "metadata": {
    "collapsed": false
   },
   "outputs": [],
   "source": [
    "boston = np.recfromtxt('../data/housing.tsv', names=True)"
   ]
  },
  {
   "cell_type": "code",
   "execution_count": 42,
   "metadata": {
    "collapsed": false
   },
   "outputs": [
    {
     "data": {
      "text/html": [
       "<div>\n",
       "<table border=\"1\" class=\"dataframe\">\n",
       "  <thead>\n",
       "    <tr style=\"text-align: right;\">\n",
       "      <th></th>\n",
       "      <th>CRIM</th>\n",
       "      <th>ZN</th>\n",
       "      <th>INDUS</th>\n",
       "      <th>CHAS</th>\n",
       "      <th>NOX</th>\n",
       "      <th>RM</th>\n",
       "      <th>AGE</th>\n",
       "      <th>DIS</th>\n",
       "      <th>RAD</th>\n",
       "      <th>TAX</th>\n",
       "      <th>PTRATIO</th>\n",
       "      <th>B</th>\n",
       "      <th>LSTAT</th>\n",
       "      <th>MEDV</th>\n",
       "    </tr>\n",
       "  </thead>\n",
       "  <tbody>\n",
       "    <tr>\n",
       "      <th>CRIM</th>\n",
       "      <td>73.986578</td>\n",
       "      <td>-40.215956</td>\n",
       "      <td>23.992339</td>\n",
       "      <td>-0.122109</td>\n",
       "      <td>0.419594</td>\n",
       "      <td>-1.325038</td>\n",
       "      <td>85.405322</td>\n",
       "      <td>-6.876722</td>\n",
       "      <td>46.847761</td>\n",
       "      <td>844.821538</td>\n",
       "      <td>5.399331</td>\n",
       "      <td>-302.381816</td>\n",
       "      <td>27.986168</td>\n",
       "      <td>-30.718508</td>\n",
       "    </tr>\n",
       "    <tr>\n",
       "      <th>ZN</th>\n",
       "      <td>-40.215956</td>\n",
       "      <td>543.936814</td>\n",
       "      <td>-85.412648</td>\n",
       "      <td>-0.252925</td>\n",
       "      <td>-1.396148</td>\n",
       "      <td>5.112513</td>\n",
       "      <td>-373.901548</td>\n",
       "      <td>32.629304</td>\n",
       "      <td>-63.348695</td>\n",
       "      <td>-1236.453735</td>\n",
       "      <td>-19.776571</td>\n",
       "      <td>373.721402</td>\n",
       "      <td>-68.783037</td>\n",
       "      <td>77.315176</td>\n",
       "    </tr>\n",
       "    <tr>\n",
       "      <th>INDUS</th>\n",
       "      <td>23.992339</td>\n",
       "      <td>-85.412648</td>\n",
       "      <td>47.064442</td>\n",
       "      <td>0.109669</td>\n",
       "      <td>0.607074</td>\n",
       "      <td>-1.887957</td>\n",
       "      <td>124.513903</td>\n",
       "      <td>-10.228097</td>\n",
       "      <td>35.549971</td>\n",
       "      <td>833.360290</td>\n",
       "      <td>5.692104</td>\n",
       "      <td>-223.579756</td>\n",
       "      <td>29.580270</td>\n",
       "      <td>-30.520823</td>\n",
       "    </tr>\n",
       "    <tr>\n",
       "      <th>CHAS</th>\n",
       "      <td>-0.122109</td>\n",
       "      <td>-0.252925</td>\n",
       "      <td>0.109669</td>\n",
       "      <td>0.064513</td>\n",
       "      <td>0.002684</td>\n",
       "      <td>0.016285</td>\n",
       "      <td>0.618571</td>\n",
       "      <td>-0.053043</td>\n",
       "      <td>-0.016296</td>\n",
       "      <td>-1.523367</td>\n",
       "      <td>-0.066819</td>\n",
       "      <td>1.131325</td>\n",
       "      <td>-0.097816</td>\n",
       "      <td>0.409409</td>\n",
       "    </tr>\n",
       "    <tr>\n",
       "      <th>NOX</th>\n",
       "      <td>0.419594</td>\n",
       "      <td>-1.396148</td>\n",
       "      <td>0.607074</td>\n",
       "      <td>0.002684</td>\n",
       "      <td>0.013428</td>\n",
       "      <td>-0.024603</td>\n",
       "      <td>2.385927</td>\n",
       "      <td>-0.187696</td>\n",
       "      <td>0.616929</td>\n",
       "      <td>13.046286</td>\n",
       "      <td>0.047397</td>\n",
       "      <td>-4.020570</td>\n",
       "      <td>0.488946</td>\n",
       "      <td>-0.455412</td>\n",
       "    </tr>\n",
       "    <tr>\n",
       "      <th>RM</th>\n",
       "      <td>-1.325038</td>\n",
       "      <td>5.112513</td>\n",
       "      <td>-1.887957</td>\n",
       "      <td>0.016285</td>\n",
       "      <td>-0.024603</td>\n",
       "      <td>0.493671</td>\n",
       "      <td>-4.751929</td>\n",
       "      <td>0.303663</td>\n",
       "      <td>-1.283815</td>\n",
       "      <td>-34.583448</td>\n",
       "      <td>-0.540763</td>\n",
       "      <td>8.215006</td>\n",
       "      <td>-3.079741</td>\n",
       "      <td>4.493446</td>\n",
       "    </tr>\n",
       "    <tr>\n",
       "      <th>AGE</th>\n",
       "      <td>85.405322</td>\n",
       "      <td>-373.901548</td>\n",
       "      <td>124.513903</td>\n",
       "      <td>0.618571</td>\n",
       "      <td>2.385927</td>\n",
       "      <td>-4.751929</td>\n",
       "      <td>792.358399</td>\n",
       "      <td>-44.329379</td>\n",
       "      <td>111.770846</td>\n",
       "      <td>2402.690122</td>\n",
       "      <td>15.936921</td>\n",
       "      <td>-702.940328</td>\n",
       "      <td>121.077725</td>\n",
       "      <td>-97.589017</td>\n",
       "    </tr>\n",
       "    <tr>\n",
       "      <th>DIS</th>\n",
       "      <td>-6.876722</td>\n",
       "      <td>32.629304</td>\n",
       "      <td>-10.228097</td>\n",
       "      <td>-0.053043</td>\n",
       "      <td>-0.187696</td>\n",
       "      <td>0.303663</td>\n",
       "      <td>-44.329379</td>\n",
       "      <td>4.434015</td>\n",
       "      <td>-9.068252</td>\n",
       "      <td>-189.664592</td>\n",
       "      <td>-1.059775</td>\n",
       "      <td>56.040356</td>\n",
       "      <td>-7.473329</td>\n",
       "      <td>4.840229</td>\n",
       "    </tr>\n",
       "    <tr>\n",
       "      <th>RAD</th>\n",
       "      <td>46.847761</td>\n",
       "      <td>-63.348695</td>\n",
       "      <td>35.549971</td>\n",
       "      <td>-0.016296</td>\n",
       "      <td>0.616929</td>\n",
       "      <td>-1.283815</td>\n",
       "      <td>111.770846</td>\n",
       "      <td>-9.068252</td>\n",
       "      <td>75.816366</td>\n",
       "      <td>1335.756577</td>\n",
       "      <td>8.760716</td>\n",
       "      <td>-353.276219</td>\n",
       "      <td>30.385442</td>\n",
       "      <td>-30.561228</td>\n",
       "    </tr>\n",
       "    <tr>\n",
       "      <th>TAX</th>\n",
       "      <td>844.821538</td>\n",
       "      <td>-1236.453735</td>\n",
       "      <td>833.360290</td>\n",
       "      <td>-1.523367</td>\n",
       "      <td>13.046286</td>\n",
       "      <td>-34.583448</td>\n",
       "      <td>2402.690122</td>\n",
       "      <td>-189.664592</td>\n",
       "      <td>1335.756577</td>\n",
       "      <td>28404.759488</td>\n",
       "      <td>168.153141</td>\n",
       "      <td>-6797.911215</td>\n",
       "      <td>654.714520</td>\n",
       "      <td>-726.255716</td>\n",
       "    </tr>\n",
       "    <tr>\n",
       "      <th>PTRATIO</th>\n",
       "      <td>5.399331</td>\n",
       "      <td>-19.776571</td>\n",
       "      <td>5.692104</td>\n",
       "      <td>-0.066819</td>\n",
       "      <td>0.047397</td>\n",
       "      <td>-0.540763</td>\n",
       "      <td>15.936921</td>\n",
       "      <td>-1.059775</td>\n",
       "      <td>8.760716</td>\n",
       "      <td>168.153141</td>\n",
       "      <td>4.686989</td>\n",
       "      <td>-35.059527</td>\n",
       "      <td>5.782729</td>\n",
       "      <td>-10.110657</td>\n",
       "    </tr>\n",
       "    <tr>\n",
       "      <th>B</th>\n",
       "      <td>-302.381816</td>\n",
       "      <td>373.721402</td>\n",
       "      <td>-223.579756</td>\n",
       "      <td>1.131325</td>\n",
       "      <td>-4.020570</td>\n",
       "      <td>8.215006</td>\n",
       "      <td>-702.940328</td>\n",
       "      <td>56.040356</td>\n",
       "      <td>-353.276219</td>\n",
       "      <td>-6797.911215</td>\n",
       "      <td>-35.059527</td>\n",
       "      <td>8334.752263</td>\n",
       "      <td>-238.667516</td>\n",
       "      <td>279.989834</td>\n",
       "    </tr>\n",
       "    <tr>\n",
       "      <th>LSTAT</th>\n",
       "      <td>27.986168</td>\n",
       "      <td>-68.783037</td>\n",
       "      <td>29.580270</td>\n",
       "      <td>-0.097816</td>\n",
       "      <td>0.488946</td>\n",
       "      <td>-3.079741</td>\n",
       "      <td>121.077725</td>\n",
       "      <td>-7.473329</td>\n",
       "      <td>30.385442</td>\n",
       "      <td>654.714520</td>\n",
       "      <td>5.782729</td>\n",
       "      <td>-238.667516</td>\n",
       "      <td>50.994760</td>\n",
       "      <td>-48.447538</td>\n",
       "    </tr>\n",
       "    <tr>\n",
       "      <th>MEDV</th>\n",
       "      <td>-30.718508</td>\n",
       "      <td>77.315176</td>\n",
       "      <td>-30.520823</td>\n",
       "      <td>0.409409</td>\n",
       "      <td>-0.455412</td>\n",
       "      <td>4.493446</td>\n",
       "      <td>-97.589017</td>\n",
       "      <td>4.840229</td>\n",
       "      <td>-30.561228</td>\n",
       "      <td>-726.255716</td>\n",
       "      <td>-10.110657</td>\n",
       "      <td>279.989834</td>\n",
       "      <td>-48.447538</td>\n",
       "      <td>84.586724</td>\n",
       "    </tr>\n",
       "  </tbody>\n",
       "</table>\n",
       "</div>"
      ],
      "text/plain": [
       "               CRIM           ZN       INDUS      CHAS        NOX         RM  \\\n",
       "CRIM      73.986578   -40.215956   23.992339 -0.122109   0.419594  -1.325038   \n",
       "ZN       -40.215956   543.936814  -85.412648 -0.252925  -1.396148   5.112513   \n",
       "INDUS     23.992339   -85.412648   47.064442  0.109669   0.607074  -1.887957   \n",
       "CHAS      -0.122109    -0.252925    0.109669  0.064513   0.002684   0.016285   \n",
       "NOX        0.419594    -1.396148    0.607074  0.002684   0.013428  -0.024603   \n",
       "RM        -1.325038     5.112513   -1.887957  0.016285  -0.024603   0.493671   \n",
       "AGE       85.405322  -373.901548  124.513903  0.618571   2.385927  -4.751929   \n",
       "DIS       -6.876722    32.629304  -10.228097 -0.053043  -0.187696   0.303663   \n",
       "RAD       46.847761   -63.348695   35.549971 -0.016296   0.616929  -1.283815   \n",
       "TAX      844.821538 -1236.453735  833.360290 -1.523367  13.046286 -34.583448   \n",
       "PTRATIO    5.399331   -19.776571    5.692104 -0.066819   0.047397  -0.540763   \n",
       "B       -302.381816   373.721402 -223.579756  1.131325  -4.020570   8.215006   \n",
       "LSTAT     27.986168   -68.783037   29.580270 -0.097816   0.488946  -3.079741   \n",
       "MEDV     -30.718508    77.315176  -30.520823  0.409409  -0.455412   4.493446   \n",
       "\n",
       "                 AGE         DIS          RAD           TAX     PTRATIO  \\\n",
       "CRIM       85.405322   -6.876722    46.847761    844.821538    5.399331   \n",
       "ZN       -373.901548   32.629304   -63.348695  -1236.453735  -19.776571   \n",
       "INDUS     124.513903  -10.228097    35.549971    833.360290    5.692104   \n",
       "CHAS        0.618571   -0.053043    -0.016296     -1.523367   -0.066819   \n",
       "NOX         2.385927   -0.187696     0.616929     13.046286    0.047397   \n",
       "RM         -4.751929    0.303663    -1.283815    -34.583448   -0.540763   \n",
       "AGE       792.358399  -44.329379   111.770846   2402.690122   15.936921   \n",
       "DIS       -44.329379    4.434015    -9.068252   -189.664592   -1.059775   \n",
       "RAD       111.770846   -9.068252    75.816366   1335.756577    8.760716   \n",
       "TAX      2402.690122 -189.664592  1335.756577  28404.759488  168.153141   \n",
       "PTRATIO    15.936921   -1.059775     8.760716    168.153141    4.686989   \n",
       "B        -702.940328   56.040356  -353.276219  -6797.911215  -35.059527   \n",
       "LSTAT     121.077725   -7.473329    30.385442    654.714520    5.782729   \n",
       "MEDV      -97.589017    4.840229   -30.561228   -726.255716  -10.110657   \n",
       "\n",
       "                   B       LSTAT        MEDV  \n",
       "CRIM     -302.381816   27.986168  -30.718508  \n",
       "ZN        373.721402  -68.783037   77.315176  \n",
       "INDUS    -223.579756   29.580270  -30.520823  \n",
       "CHAS        1.131325   -0.097816    0.409409  \n",
       "NOX        -4.020570    0.488946   -0.455412  \n",
       "RM          8.215006   -3.079741    4.493446  \n",
       "AGE      -702.940328  121.077725  -97.589017  \n",
       "DIS        56.040356   -7.473329    4.840229  \n",
       "RAD      -353.276219   30.385442  -30.561228  \n",
       "TAX     -6797.911215  654.714520 -726.255716  \n",
       "PTRATIO   -35.059527    5.782729  -10.110657  \n",
       "B        8334.752263 -238.667516  279.989834  \n",
       "LSTAT    -238.667516   50.994760  -48.447538  \n",
       "MEDV      279.989834  -48.447538   84.586724  "
      ]
     },
     "execution_count": 42,
     "metadata": {},
     "output_type": "execute_result"
    }
   ],
   "source": [
    "pd.read_csv('../data/housing.tsv', sep='\\s+').cov()"
   ]
  },
  {
   "cell_type": "code",
   "execution_count": 59,
   "metadata": {
    "collapsed": false
   },
   "outputs": [
    {
     "data": {
      "text/plain": [
       "<matplotlib.text.Text at 0x11609a550>"
      ]
     },
     "execution_count": 59,
     "metadata": {},
     "output_type": "execute_result"
    },
    {
     "data": {
      "image/png": "[encoded data removed]",
      "text/plain": [
       "<matplotlib.figure.Figure at 0x115f4f2d0>"
      ]
     },
     "metadata": {},
     "output_type": "display_data"
    }
   ],
   "source": [
    "plt.scatter(boston.TAX, boston.MEDV)\n",
    "plt.xlabel(\"TAX\")\n",
    "plt.ylabel(\"MEDV\")"
   ]
  },
  {
   "cell_type": "code",
   "execution_count": 49,
   "metadata": {
    "collapsed": true
   },
   "outputs": [],
   "source": [
    "f = lambda x, a, b: a*x + b"
   ]
  },
  {
   "cell_type": "code",
   "execution_count": 54,
   "metadata": {
    "collapsed": false
   },
   "outputs": [],
   "source": [
    "(a, b), _ = scipy.optimize.curve_fit(f, boston.TAX, boston.MEDV)"
   ]
  },
  {
   "cell_type": "code",
   "execution_count": 61,
   "metadata": {
    "collapsed": false
   },
   "outputs": [
    {
     "data": {
      "text/plain": [
       "[<matplotlib.lines.Line2D at 0x1162cd6d0>]"
      ]
     },
     "execution_count": 61,
     "metadata": {},
     "output_type": "execute_result"
    },
    {
     "data": {
      "image/png": "[encoded data removed]",
      "text/plain": [
       "<matplotlib.figure.Figure at 0x116151d10>"
      ]
     },
     "metadata": {},
     "output_type": "display_data"
    }
   ],
   "source": [
    "plt.plot(boston.TAX, boston.MEDV, 'o')\n",
    "x = np.linspace(boston.TAX.min(), boston.TAX.max(), 100)\n",
    "plt.plot(x, f(x, a, b))"
   ]
  },
  {
   "cell_type": "code",
   "execution_count": 62,
   "metadata": {
    "collapsed": true
   },
   "outputs": [],
   "source": [
    "g = lambda x, a, b, c: a*x**2 + b*x + c"
   ]
  },
  {
   "cell_type": "code",
   "execution_count": 63,
   "metadata": {
    "collapsed": true
   },
   "outputs": [],
   "source": [
    "(i,j,k), _ = scipy.optimize.curve_fit(g, boston.TAX, boston.MEDV)"
   ]
  },
  {
   "cell_type": "code",
   "execution_count": 64,
   "metadata": {
    "collapsed": false
   },
   "outputs": [
    {
     "data": {
      "text/plain": [
       "[<matplotlib.lines.Line2D at 0x11636c690>]"
      ]
     },
     "execution_count": 64,
     "metadata": {},
     "output_type": "execute_result"
    },
    {
     "data": {
      "image/png": "[encoded data removed]",
      "text/plain": [
       "<matplotlib.figure.Figure at 0x11636c6d0>"
      ]
     },
     "metadata": {},
     "output_type": "display_data"
    }
   ],
   "source": [
    "plt.plot(boston.TAX, boston.MEDV, 'o')\n",
    "x = np.linspace(boston.TAX.min(), boston.TAX.max(), 100)\n",
    "plt.plot(x, f(x, a, b))\n",
    "plt.plot(x, g(x, i, j, k))"
   ]
  },
  {
   "cell_type": "code",
   "execution_count": 67,
   "metadata": {
    "collapsed": false
   },
   "outputs": [],
   "source": [
    "h = lambda theta, x: theta[0] + x*theta[1] + x*x*theta[2]\n",
    "errfn = lambda theta: sum((boston.MEDV - h(theta, boston.TAX))**2)\n",
    "params = scipy.optimize.minimize(errfn, [1,1,1])"
   ]
  },
  {
   "cell_type": "code",
   "execution_count": 68,
   "metadata": {
    "collapsed": false
   },
   "outputs": [
    {
     "data": {
      "text/plain": [
       "      fun: 33115.183508000366\n",
       " hess_inv: array([[  1.21315621e-01,  -5.89356864e-04,   6.18178976e-07],\n",
       "       [ -5.89356864e-04,   2.92357885e-06,  -3.10506530e-09],\n",
       "       [  6.18178976e-07,  -3.10506530e-09,   3.33714504e-12]])\n",
       "      jac: array([ -2.92968750e-03,   1.18652344e-01,   7.22485352e+01])\n",
       "  message: 'Desired error not necessarily achieved due to precision loss.'\n",
       "     nfev: 140\n",
       "      nit: 9\n",
       "     njev: 26\n",
       "   status: 2\n",
       "  success: False\n",
       "        x: array([  3.94579900e+01,  -5.82804329e-02,   3.52145633e-05])"
      ]
     },
     "execution_count": 68,
     "metadata": {},
     "output_type": "execute_result"
    }
   ],
   "source": [
    "params"
   ]
  },
  {
   "cell_type": "code",
   "execution_count": 70,
   "metadata": {
    "collapsed": false
   },
   "outputs": [
    {
     "data": {
      "text/plain": [
       "<matplotlib.text.Text at 0x1163f9a10>"
      ]
     },
     "execution_count": 70,
     "metadata": {},
     "output_type": "execute_result"
    },
    {
     "data": {
      "image/png": "[encoded data removed]",
      "text/plain": [
       "<matplotlib.figure.Figure at 0x1165f2ed0>"
      ]
     },
     "metadata": {},
     "output_type": "display_data"
    }
   ],
   "source": [
    "plt.plot(boston.TAX, boston.MEDV, 'o')\n",
    "plt.plot(x, h(params.x, x))\n",
    "plt.xlabel(\"TAX\")\n",
    "plt.ylabel(\"MEDV\")"
   ]
  },
  {
   "cell_type": "markdown",
   "metadata": {},
   "source": [
    "# Fourier transform\n",
    "\n",
    "$$y_k = \\sum_j e^{-2 \\pi i \\frac {kj} N} x_j$$\n",
    "\n",
    "Heart series data: http://ecg.mit.edu/time-series/\n"
   ]
  },
  {
   "cell_type": "code",
   "execution_count": 55,
   "metadata": {
    "collapsed": true
   },
   "outputs": [],
   "source": [
    "heart_1 = np.genfromtxt('data/hr_series_1.txt')\n",
    "heart_2 = np.genfromtxt('data/hr_series_2.txt')"
   ]
  },
  {
   "cell_type": "code",
   "execution_count": 58,
   "metadata": {
    "collapsed": false
   },
   "outputs": [],
   "source": [
    "from scipy.fftpack import fft"
   ]
  },
  {
   "cell_type": "code",
   "execution_count": 121,
   "metadata": {
    "collapsed": true
   },
   "outputs": [],
   "source": [
    "y_1, y_2 = [abs(fft(i)[1:200])**2 for i in (heart_1, heart_2)]"
   ]
  },
  {
   "cell_type": "code",
   "execution_count": 123,
   "metadata": {
    "collapsed": false
   },
   "outputs": [
    {
     "data": {
      "text/plain": [
       "<matplotlib.text.Text at 0x10c248210>"
      ]
     },
     "execution_count": 123,
     "metadata": {},
     "output_type": "execute_result"
    },
    {
     "data": {
      "image/png": "[encoded data removed]",
      "text/plain": [
       "<matplotlib.figure.Figure at 0x10c29db90>"
      ]
     },
     "metadata": {},
     "output_type": "display_data"
    }
   ],
   "source": [
    "plt.plot(y_1)\n",
    "plt.plot(y_2)\n",
    "plt.xlabel(\"inverse frequency\")\n",
    "plt.ylabel(\"power\")"
   ]
  }
 ],
 "metadata": {
  "kernelspec": {
   "display_name": "Python 2",
   "language": "python",
   "name": "python2"
  },
  "language_info": {
   "codemirror_mode": {
    "name": "ipython",
    "version": 2
   },
   "file_extension": ".py",
   "mimetype": "text/x-python",
   "name": "python",
   "nbconvert_exporter": "python",
   "pygments_lexer": "ipython2",
   "version": "2.7.10"
  }
 },
 "nbformat": 4,
 "nbformat_minor": 2
}
