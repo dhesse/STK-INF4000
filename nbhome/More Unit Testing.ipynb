{
 "cells": [
  {
   "cell_type": "code",
   "execution_count": 1,
   "metadata": {
    "collapsed": true
   },
   "outputs": [],
   "source": [
    "import unittest"
   ]
  },
  {
   "cell_type": "code",
   "execution_count": 2,
   "metadata": {
    "collapsed": true
   },
   "outputs": [],
   "source": [
    "class ATestCase(unittest.TestCase):\n",
    "    def test_membership(self):\n",
    "        self.assertIn('a', 'abc')"
   ]
  },
  {
   "cell_type": "code",
   "execution_count": 10,
   "metadata": {
    "collapsed": true
   },
   "outputs": [],
   "source": [
    "def quick_run(cls, case):\n",
    "    test = cls(case)\n",
    "    result = unittest.TestResult()\n",
    "    test.run(result)\n",
    "    return result"
   ]
  },
  {
   "cell_type": "code",
   "execution_count": 11,
   "metadata": {
    "collapsed": false
   },
   "outputs": [
    {
     "data": {
      "text/plain": [
       "<unittest.result.TestResult run=1 errors=0 failures=0>"
      ]
     },
     "execution_count": 11,
     "metadata": {},
     "output_type": "execute_result"
    }
   ],
   "source": [
    "quick_run(ATestCase, 'test_membership')"
   ]
  },
  {
   "cell_type": "markdown",
   "metadata": {},
   "source": [
    "# Running\n",
    "\n",
    "    python -m unittest test_module1 test_module2\n",
    "    python -m unittest test_module.TestClass\n",
    "    python -m unittest test_module.TestClass.test_method"
   ]
  },
  {
   "cell_type": "markdown",
   "metadata": {},
   "source": [
    "# Asserts\n",
    "\n"
   ]
  },
  {
   "cell_type": "code",
   "execution_count": 15,
   "metadata": {
    "collapsed": false
   },
   "outputs": [
    {
     "name": "stdout",
     "output_type": "stream",
     "text": [
      "assertAlmostEqual\n",
      "assertAlmostEquals\n",
      "assertDictContainsSubset\n",
      "assertDictEqual\n",
      "assertEqual\n",
      "assertEquals\n",
      "assertFalse\n",
      "assertGreater\n",
      "assertGreaterEqual\n",
      "assertIn\n",
      "assertIs\n",
      "assertIsInstance\n",
      "assertIsNone\n",
      "assertIsNot\n",
      "assertIsNotNone\n",
      "assertItemsEqual\n",
      "assertLess\n",
      "assertLessEqual\n",
      "assertListEqual\n",
      "assertMultiLineEqual\n",
      "assertNotAlmostEqual\n",
      "assertNotAlmostEquals\n",
      "assertNotEqual\n",
      "assertNotEquals\n",
      "assertNotIn\n",
      "assertNotIsInstance\n",
      "assertNotRegexpMatches\n",
      "assertRaises\n",
      "assertRaisesRegexp\n",
      "assertRegexpMatches\n",
      "assertSequenceEqual\n",
      "assertSetEqual\n",
      "assertTrue\n",
      "assertTupleEqual\n",
      "assert_\n"
     ]
    }
   ],
   "source": [
    "for i in dir(unittest.TestCase):\n",
    "    if i.startswith('assert'):\n",
    "        print i"
   ]
  },
  {
   "cell_type": "code",
   "execution_count": null,
   "metadata": {
    "collapsed": true
   },
   "outputs": [],
   "source": []
  }
 ],
 "metadata": {
  "kernelspec": {
   "display_name": "Python 2",
   "language": "python",
   "name": "python2"
  },
  "language_info": {
   "codemirror_mode": {
    "name": "ipython",
    "version": 2
   },
   "file_extension": ".py",
   "mimetype": "text/x-python",
   "name": "python",
   "nbconvert_exporter": "python",
   "pygments_lexer": "ipython2",
   "version": "2.7.10"
  }
 },
 "nbformat": 4,
 "nbformat_minor": 2
}
