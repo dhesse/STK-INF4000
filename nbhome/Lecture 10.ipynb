{
 "cells": [
  {
   "cell_type": "markdown",
   "metadata": {},
   "source": [
    "# Anomalies in Spark"
   ]
  },
  {
   "cell_type": "code",
   "execution_count": 1,
   "metadata": {},
   "outputs": [
    {
     "data": {
      "text/plain": [
       "<pyspark.context.SparkContext at 0x10ecabb10>"
      ]
     },
     "execution_count": 1,
     "metadata": {},
     "output_type": "execute_result"
    }
   ],
   "source": [
    "sc"
   ]
  },
  {
   "cell_type": "markdown",
   "metadata": {},
   "source": [
    "## BABS data\n",
    "\n",
    "We'll use the data set found at http://www.bayareabikeshare.com/open-data."
   ]
  },
  {
   "cell_type": "code",
   "execution_count": 1,
   "metadata": {
    "collapsed": true
   },
   "outputs": [],
   "source": [
    "raw_data = sc.textFile('data/201508_trip_data.csv.gz')"
   ]
  },
  {
   "cell_type": "code",
   "execution_count": 4,
   "metadata": {},
   "outputs": [
    {
     "data": {
      "text/plain": [
       "[u'Trip ID,Duration,Start Date,Start Station,Start Terminal,End Date,End Station,End Terminal,Bike #,Subscriber Type,Zip Code',\n",
       " u'913460,765,8/31/2015 23:26,Harry Bridges Plaza (Ferry Building),50,8/31/2015 23:39,San Francisco Caltrain (Townsend at 4th),70,288,Subscriber,2139',\n",
       " u'913459,1036,8/31/2015 23:11,San Antonio Shopping Center,31,8/31/2015 23:28,Mountain View City Hall,27,35,Subscriber,95032',\n",
       " u'913455,307,8/31/2015 23:13,Post at Kearny,47,8/31/2015 23:18,2nd at South Park,64,468,Subscriber,94107',\n",
       " u'913454,409,8/31/2015 23:10,San Jose City Hall,10,8/31/2015 23:17,San Salvador at 1st,8,68,Subscriber,95113']"
      ]
     },
     "execution_count": 4,
     "metadata": {},
     "output_type": "execute_result"
    }
   ],
   "source": [
    "raw_data.take(5)"
   ]
  },
  {
   "cell_type": "markdown",
   "metadata": {},
   "source": [
    "### Let's make a data frame out of the raw data."
   ]
  },
  {
   "cell_type": "code",
   "execution_count": 21,
   "metadata": {
    "collapsed": true
   },
   "outputs": [],
   "source": [
    "from pyspark.sql import Row"
   ]
  },
  {
   "cell_type": "code",
   "execution_count": 88,
   "metadata": {
    "collapsed": true
   },
   "outputs": [],
   "source": [
    "durations = spark.createDataFrame(\n",
    "    raw_data\n",
    "    .filter(lambda x: not x.startswith('Trip'))\n",
    "    .map(lambda x: x.split(','))\n",
    "    .map(lambda x: Row(duration=int(x[1])))\n",
    ")"
   ]
  },
  {
   "cell_type": "code",
   "execution_count": 89,
   "metadata": {},
   "outputs": [
    {
     "name": "stdout",
     "output_type": "stream",
     "text": [
      "+--------+\n",
      "|duration|\n",
      "+--------+\n",
      "|     765|\n",
      "|    1036|\n",
      "|     307|\n",
      "|     409|\n",
      "|     789|\n",
      "+--------+\n",
      "only showing top 5 rows\n",
      "\n"
     ]
    }
   ],
   "source": [
    "durations.show(5)"
   ]
  },
  {
   "cell_type": "code",
   "execution_count": 90,
   "metadata": {},
   "outputs": [],
   "source": [
    "import pyspark.sql.functions as fns\n",
    "from pyspark.sql.types import FloatType"
   ]
  },
  {
   "cell_type": "code",
   "execution_count": 91,
   "metadata": {},
   "outputs": [],
   "source": [
    "# calculate mean and stadard deviation\n",
    "# NOTE: Median and median (absolute) deviation\n",
    "#       from median are a better choice here.\n",
    "stats = durations.select(fns.stddev(durations.duration).alias('sd'),\n",
    "                         fns.mean(durations.duration).alias('mu')).collect()"
   ]
  },
  {
   "cell_type": "code",
   "execution_count": 15,
   "metadata": {},
   "outputs": [
    {
     "data": {
      "text/plain": [
       "[Row(sd=30016.9361569297, mu=1046.0326611172604)]"
      ]
     },
     "execution_count": 15,
     "metadata": {},
     "output_type": "execute_result"
    }
   ],
   "source": [
    "stats"
   ]
  },
  {
   "cell_type": "code",
   "execution_count": 16,
   "metadata": {
    "collapsed": true
   },
   "outputs": [],
   "source": [
    "mu, sd = stats[0].mu, stats[0].sd"
   ]
  },
  {
   "cell_type": "code",
   "execution_count": 20,
   "metadata": {
    "collapsed": true
   },
   "outputs": [],
   "source": [
    "# user defined function (udf) to calculate z values\n",
    "make_z = fns.udf(lambda x: (x - mu) / sd, FloatType())"
   ]
  },
  {
   "cell_type": "code",
   "execution_count": 19,
   "metadata": {},
   "outputs": [
    {
     "name": "stdout",
     "output_type": "stream",
     "text": [
      "+------------------+\n",
      "|     duration_mins|\n",
      "+------------------+\n",
      "|             12.75|\n",
      "|17.266666666666666|\n",
      "| 5.116666666666666|\n",
      "| 6.816666666666666|\n",
      "|             13.15|\n",
      "+------------------+\n",
      "only showing top 5 rows\n",
      "\n"
     ]
    }
   ],
   "source": [
    "durations.select((durations.duration / 60).alias('duration_mins')).show(5)"
   ]
  },
  {
   "cell_type": "code",
   "execution_count": 21,
   "metadata": {},
   "outputs": [],
   "source": [
    "z_vals = durations.select(make_z(durations.duration).alias('z'))"
   ]
  },
  {
   "cell_type": "code",
   "execution_count": 22,
   "metadata": {},
   "outputs": [
    {
     "name": "stdout",
     "output_type": "stream",
     "text": [
      "+-------------+\n",
      "|            z|\n",
      "+-------------+\n",
      "|  -0.00936247|\n",
      "|-3.3423334E-4|\n",
      "| -0.024620524|\n",
      "|  -0.02122244|\n",
      "| -0.008562922|\n",
      "+-------------+\n",
      "only showing top 5 rows\n",
      "\n"
     ]
    }
   ],
   "source": [
    "z_vals.show(5)"
   ]
  },
  {
   "cell_type": "markdown",
   "metadata": {},
   "source": [
    "### Making a plot"
   ]
  },
  {
   "cell_type": "code",
   "execution_count": 24,
   "metadata": {},
   "outputs": [],
   "source": [
    "zf = z_vals.toPandas()"
   ]
  },
  {
   "cell_type": "code",
   "execution_count": 27,
   "metadata": {},
   "outputs": [],
   "source": [
    "%matplotlib inline"
   ]
  },
  {
   "cell_type": "code",
   "execution_count": 28,
   "metadata": {
    "collapsed": true
   },
   "outputs": [],
   "source": [
    "import matplotlib.pyplot as plt"
   ]
  },
  {
   "cell_type": "code",
   "execution_count": 31,
   "metadata": {},
   "outputs": [
    {
     "data": {
      "image/png": "[encoded data removed]",
      "text/plain": [
       "<matplotlib.figure.Figure at 0x1116ac510>"
      ]
     },
     "metadata": {},
     "output_type": "display_data"
    }
   ],
   "source": [
    "zf[zf.z < 6].z.plot.hist(bins=30)\n",
    "plt.yscale('log')"
   ]
  },
  {
   "cell_type": "markdown",
   "metadata": {},
   "source": [
    "## Clustering\n",
    "\n",
    "Now we want to create a RDD of pairs `(date, vec)` where `vec[h]` contains the number of bike trips started at hour `h` on the day `date`."
   ]
  },
  {
   "cell_type": "code",
   "execution_count": 2,
   "metadata": {
    "collapsed": true
   },
   "outputs": [],
   "source": [
    "dates = (raw_data\n",
    "        .map(lambda x: x.split(','))\n",
    "        .map(lambda x: x[2]))"
   ]
  },
  {
   "cell_type": "code",
   "execution_count": 3,
   "metadata": {},
   "outputs": [
    {
     "data": {
      "text/plain": [
       "[u'Start Date',\n",
       " u'8/31/2015 23:26',\n",
       " u'8/31/2015 23:11',\n",
       " u'8/31/2015 23:13',\n",
       " u'8/31/2015 23:10']"
      ]
     },
     "execution_count": 3,
     "metadata": {},
     "output_type": "execute_result"
    }
   ],
   "source": [
    "dates.take(5)"
   ]
  },
  {
   "cell_type": "markdown",
   "metadata": {},
   "source": [
    "### Convert to datetime"
   ]
  },
  {
   "cell_type": "code",
   "execution_count": 4,
   "metadata": {
    "collapsed": true
   },
   "outputs": [],
   "source": [
    "from datetime import datetime, timedelta"
   ]
  },
  {
   "cell_type": "code",
   "execution_count": 5,
   "metadata": {
    "collapsed": true
   },
   "outputs": [],
   "source": [
    "def convert(date_string):\n",
    "    try:\n",
    "        return datetime.strptime(date_string, '%m/%d/%Y %H:%M')\n",
    "    except ValueError:\n",
    "        return None"
   ]
  },
  {
   "cell_type": "code",
   "execution_count": 7,
   "metadata": {},
   "outputs": [],
   "source": [
    "dates = (dates\n",
    "        .map(convert)\n",
    "        .filter(lambda x: x != None))"
   ]
  },
  {
   "cell_type": "code",
   "execution_count": 9,
   "metadata": {},
   "outputs": [
    {
     "data": {
      "text/plain": [
       "[datetime.datetime(2015, 8, 31, 23, 26),\n",
       " datetime.datetime(2015, 8, 31, 23, 11),\n",
       " datetime.datetime(2015, 8, 31, 23, 13),\n",
       " datetime.datetime(2015, 8, 31, 23, 10),\n",
       " datetime.datetime(2015, 8, 31, 23, 9)]"
      ]
     },
     "execution_count": 9,
     "metadata": {},
     "output_type": "execute_result"
    }
   ],
   "source": [
    "dates.take(5)"
   ]
  },
  {
   "cell_type": "code",
   "execution_count": 10,
   "metadata": {
    "collapsed": true
   },
   "outputs": [],
   "source": [
    "from operator import add"
   ]
  },
  {
   "cell_type": "markdown",
   "metadata": {},
   "source": [
    "### Make dictionaries with counts"
   ]
  },
  {
   "cell_type": "code",
   "execution_count": 11,
   "metadata": {
    "collapsed": true
   },
   "outputs": [],
   "source": [
    "def seqOp(d, (h, c)):\n",
    "    d[h] = c\n",
    "    return d\n",
    "def combOp(d1, d2):\n",
    "    d1.update(d2)\n",
    "    return d1"
   ]
  },
  {
   "cell_type": "code",
   "execution_count": 14,
   "metadata": {
    "collapsed": true
   },
   "outputs": [],
   "source": [
    "counts = (dates\n",
    "          .map(lambda x: ((x.year, x.month, x.day, x.hour), 1))\n",
    "          .reduceByKey(add)\n",
    "          .map(lambda ((y, m, d, h), c): ((y, m, d), (h, c)))\n",
    "          .aggregateByKey({}, seqOp, combOp))"
   ]
  },
  {
   "cell_type": "code",
   "execution_count": 15,
   "metadata": {
    "collapsed": true
   },
   "outputs": [
    {
     "data": {
      "text/plain": [
       "[((2014, 10, 25),\n",
       "  {0: 4,\n",
       "   1: 4,\n",
       "   2: 5,\n",
       "   3: 1,\n",
       "   4: 1,\n",
       "   7: 4,\n",
       "   8: 12,\n",
       "   9: 18,\n",
       "   10: 30,\n",
       "   11: 28,\n",
       "   12: 44,\n",
       "   13: 43,\n",
       "   14: 37,\n",
       "   15: 43,\n",
       "   16: 27,\n",
       "   17: 16,\n",
       "   18: 29,\n",
       "   19: 10,\n",
       "   20: 9,\n",
       "   21: 13,\n",
       "   22: 15,\n",
       "   23: 13}),\n",
       " ((2015, 1, 22),\n",
       "  {0: 1,\n",
       "   1: 1,\n",
       "   4: 3,\n",
       "   5: 8,\n",
       "   6: 32,\n",
       "   7: 99,\n",
       "   8: 189,\n",
       "   9: 133,\n",
       "   10: 47,\n",
       "   11: 40,\n",
       "   12: 45,\n",
       "   13: 36,\n",
       "   14: 33,\n",
       "   15: 57,\n",
       "   16: 105,\n",
       "   17: 176,\n",
       "   18: 106,\n",
       "   19: 54,\n",
       "   20: 28,\n",
       "   21: 13,\n",
       "   22: 14,\n",
       "   23: 4}),\n",
       " ((2015, 6, 14),\n",
       "  {0: 2,\n",
       "   1: 5,\n",
       "   2: 2,\n",
       "   3: 3,\n",
       "   6: 3,\n",
       "   7: 4,\n",
       "   8: 6,\n",
       "   9: 7,\n",
       "   10: 13,\n",
       "   11: 21,\n",
       "   12: 22,\n",
       "   13: 25,\n",
       "   14: 22,\n",
       "   15: 35,\n",
       "   16: 30,\n",
       "   17: 15,\n",
       "   18: 13,\n",
       "   19: 22,\n",
       "   20: 6,\n",
       "   21: 8,\n",
       "   22: 3,\n",
       "   23: 2}),\n",
       " ((2014, 12, 5),\n",
       "  {0: 2,\n",
       "   1: 1,\n",
       "   2: 1,\n",
       "   4: 1,\n",
       "   5: 4,\n",
       "   6: 31,\n",
       "   7: 69,\n",
       "   8: 166,\n",
       "   9: 111,\n",
       "   10: 54,\n",
       "   11: 38,\n",
       "   12: 45,\n",
       "   13: 31,\n",
       "   14: 25,\n",
       "   15: 41,\n",
       "   16: 82,\n",
       "   17: 113,\n",
       "   18: 90,\n",
       "   19: 34,\n",
       "   20: 13,\n",
       "   21: 13,\n",
       "   22: 8,\n",
       "   23: 7}),\n",
       " ((2014, 11, 6),\n",
       "  {0: 2,\n",
       "   2: 2,\n",
       "   4: 5,\n",
       "   5: 7,\n",
       "   6: 29,\n",
       "   7: 103,\n",
       "   8: 235,\n",
       "   9: 135,\n",
       "   10: 69,\n",
       "   11: 56,\n",
       "   12: 71,\n",
       "   13: 57,\n",
       "   14: 39,\n",
       "   15: 56,\n",
       "   16: 123,\n",
       "   17: 178,\n",
       "   18: 121,\n",
       "   19: 41,\n",
       "   20: 33,\n",
       "   21: 29,\n",
       "   22: 13,\n",
       "   23: 6})]"
      ]
     },
     "execution_count": 15,
     "metadata": {},
     "output_type": "execute_result"
    }
   ],
   "source": [
    "counts.take(5)"
   ]
  },
  {
   "cell_type": "markdown",
   "metadata": {},
   "source": [
    "### Make the vectors"
   ]
  },
  {
   "cell_type": "code",
   "execution_count": 16,
   "metadata": {
    "collapsed": true
   },
   "outputs": [],
   "source": [
    "from pyspark.ml.linalg import Vectors"
   ]
  },
  {
   "cell_type": "code",
   "execution_count": 17,
   "metadata": {
    "collapsed": true
   },
   "outputs": [],
   "source": [
    "X = (counts\n",
    "     .map(lambda (day, d): (day, Vectors.dense([d.get(i, 0) for i in range(24)]))))"
   ]
  },
  {
   "cell_type": "code",
   "execution_count": 18,
   "metadata": {},
   "outputs": [
    {
     "data": {
      "text/plain": [
       "PythonRDD[18] at RDD at PythonRDD.scala:48"
      ]
     },
     "execution_count": 18,
     "metadata": {},
     "output_type": "execute_result"
    }
   ],
   "source": [
    "X.cache()"
   ]
  },
  {
   "cell_type": "code",
   "execution_count": 19,
   "metadata": {},
   "outputs": [
    {
     "data": {
      "text/plain": [
       "[((2014, 10, 25),\n",
       "  DenseVector([4.0, 4.0, 5.0, 1.0, 1.0, 0.0, 0.0, 4.0, 12.0, 18.0, 30.0, 28.0, 44.0, 43.0, 37.0, 43.0, 27.0, 16.0, 29.0, 10.0, 9.0, 13.0, 15.0, 13.0])),\n",
       " ((2015, 1, 22),\n",
       "  DenseVector([1.0, 1.0, 0.0, 0.0, 3.0, 8.0, 32.0, 99.0, 189.0, 133.0, 47.0, 40.0, 45.0, 36.0, 33.0, 57.0, 105.0, 176.0, 106.0, 54.0, 28.0, 13.0, 14.0, 4.0])),\n",
       " ((2015, 6, 14),\n",
       "  DenseVector([2.0, 5.0, 2.0, 3.0, 0.0, 0.0, 3.0, 4.0, 6.0, 7.0, 13.0, 21.0, 22.0, 25.0, 22.0, 35.0, 30.0, 15.0, 13.0, 22.0, 6.0, 8.0, 3.0, 2.0])),\n",
       " ((2014, 12, 5),\n",
       "  DenseVector([2.0, 1.0, 1.0, 0.0, 1.0, 4.0, 31.0, 69.0, 166.0, 111.0, 54.0, 38.0, 45.0, 31.0, 25.0, 41.0, 82.0, 113.0, 90.0, 34.0, 13.0, 13.0, 8.0, 7.0])),\n",
       " ((2014, 11, 6),\n",
       "  DenseVector([2.0, 0.0, 2.0, 0.0, 5.0, 7.0, 29.0, 103.0, 235.0, 135.0, 69.0, 56.0, 71.0, 57.0, 39.0, 56.0, 123.0, 178.0, 121.0, 41.0, 33.0, 29.0, 13.0, 6.0]))]"
      ]
     },
     "execution_count": 19,
     "metadata": {},
     "output_type": "execute_result"
    }
   ],
   "source": [
    "X.take(5)"
   ]
  },
  {
   "cell_type": "code",
   "execution_count": 22,
   "metadata": {},
   "outputs": [],
   "source": [
    "Xdf = spark.createDataFrame(\n",
    "    X.map(lambda (day, v): Row(day=day, features=v))\n",
    ")"
   ]
  },
  {
   "cell_type": "code",
   "execution_count": 23,
   "metadata": {},
   "outputs": [
    {
     "name": "stdout",
     "output_type": "stream",
     "text": [
      "+------------+--------------------+\n",
      "|         day|            features|\n",
      "+------------+--------------------+\n",
      "|[2014,10,25]|[4.0,4.0,5.0,1.0,...|\n",
      "| [2015,1,22]|[1.0,1.0,0.0,0.0,...|\n",
      "| [2015,6,14]|[2.0,5.0,2.0,3.0,...|\n",
      "| [2014,12,5]|[2.0,1.0,1.0,0.0,...|\n",
      "| [2014,11,6]|[2.0,0.0,2.0,0.0,...|\n",
      "+------------+--------------------+\n",
      "only showing top 5 rows\n",
      "\n"
     ]
    }
   ],
   "source": [
    "Xdf.show(5)"
   ]
  },
  {
   "cell_type": "code",
   "execution_count": 24,
   "metadata": {
    "collapsed": true
   },
   "outputs": [],
   "source": [
    "from pyspark.ml.clustering import KMeans"
   ]
  },
  {
   "cell_type": "code",
   "execution_count": 25,
   "metadata": {},
   "outputs": [
    {
     "data": {
      "text/plain": [
       "DataFrame[day: struct<_1:bigint,_2:bigint,_3:bigint>, features: vector]"
      ]
     },
     "execution_count": 25,
     "metadata": {},
     "output_type": "execute_result"
    }
   ],
   "source": [
    "Xdf.cache()"
   ]
  },
  {
   "cell_type": "markdown",
   "metadata": {},
   "source": [
    "## Elbow Method"
   ]
  },
  {
   "cell_type": "code",
   "execution_count": 26,
   "metadata": {
    "collapsed": true
   },
   "outputs": [],
   "source": [
    "ks = range(2, 10)\n",
    "costs = []\n",
    "for k in ks:\n",
    "    model = KMeans().setK(k).fit(Xdf)\n",
    "    costs.append(model.computeCost(Xdf))"
   ]
  },
  {
   "cell_type": "code",
   "execution_count": 29,
   "metadata": {},
   "outputs": [
    {
     "data": {
      "text/plain": [
       "[<matplotlib.lines.Line2D at 0x1064b7a90>]"
      ]
     },
     "execution_count": 29,
     "metadata": {},
     "output_type": "execute_result"
    },
    {
     "data": {
      "image/png": "[encoded data removed]",
      "text/plain": [
       "<matplotlib.figure.Figure at 0x105c305d0>"
      ]
     },
     "metadata": {},
     "output_type": "display_data"
    }
   ],
   "source": [
    "plt.plot(ks, costs)"
   ]
  },
  {
   "cell_type": "code",
   "execution_count": 30,
   "metadata": {
    "collapsed": true
   },
   "outputs": [],
   "source": [
    "model = KMeans().setK(4).fit(Xdf)"
   ]
  },
  {
   "cell_type": "code",
   "execution_count": 31,
   "metadata": {
    "collapsed": true
   },
   "outputs": [],
   "source": [
    "predictions = model.transform(Xdf)"
   ]
  },
  {
   "cell_type": "code",
   "execution_count": 43,
   "metadata": {},
   "outputs": [
    {
     "name": "stdout",
     "output_type": "stream",
     "text": [
      "+------------+--------------------+----------+\n",
      "|         day|            features|prediction|\n",
      "+------------+--------------------+----------+\n",
      "|[2014,10,25]|[4.0,4.0,5.0,1.0,...|         1|\n",
      "| [2015,1,22]|[1.0,1.0,0.0,0.0,...|         2|\n",
      "| [2015,6,14]|[2.0,5.0,2.0,3.0,...|         1|\n",
      "| [2014,12,5]|[2.0,1.0,1.0,0.0,...|         2|\n",
      "| [2014,11,6]|[2.0,0.0,2.0,0.0,...|         0|\n",
      "+------------+--------------------+----------+\n",
      "only showing top 5 rows\n",
      "\n"
     ]
    }
   ],
   "source": [
    "predictions.show(5)"
   ]
  },
  {
   "cell_type": "markdown",
   "metadata": {},
   "source": [
    "### Visualize cluster centers\n",
    "\n",
    "These will display the typical per-hour counts for each cluster."
   ]
  },
  {
   "cell_type": "code",
   "execution_count": 92,
   "metadata": {},
   "outputs": [
    {
     "data": {
      "text/plain": [
       "<matplotlib.legend.Legend at 0x107738d50>"
      ]
     },
     "execution_count": 92,
     "metadata": {},
     "output_type": "execute_result"
    },
    {
     "data": {
      "image/png": "[encoded data removed]",
      "text/plain": [
       "<matplotlib.figure.Figure at 0x1072c3210>"
      ]
     },
     "metadata": {},
     "output_type": "display_data"
    }
   ],
   "source": [
    "for i, center in enumerate(model.clusterCenters()):\n",
    "    plt.plot(center, label=str(i))\n",
    "plt.legend()"
   ]
  },
  {
   "cell_type": "markdown",
   "metadata": {},
   "source": [
    "## Cluster Quality\n",
    "\n",
    "We'll now investigate which days and months end up typically in our clusters to judge how well our clustering did."
   ]
  },
  {
   "cell_type": "code",
   "execution_count": 36,
   "metadata": {
    "collapsed": true
   },
   "outputs": [],
   "source": [
    "from calendar import day_abbr, month_abbr"
   ]
  },
  {
   "cell_type": "code",
   "execution_count": 37,
   "metadata": {
    "collapsed": true
   },
   "outputs": [],
   "source": [
    "from datetime import date"
   ]
  },
  {
   "cell_type": "code",
   "execution_count": 38,
   "metadata": {
    "collapsed": true
   },
   "outputs": [],
   "source": [
    "def get_weekday(d):\n",
    "    return day_abbr[date(*d).weekday()]"
   ]
  },
  {
   "cell_type": "code",
   "execution_count": 39,
   "metadata": {
    "collapsed": true
   },
   "outputs": [],
   "source": [
    "from pyspark.sql.types import StringType"
   ]
  },
  {
   "cell_type": "code",
   "execution_count": 46,
   "metadata": {
    "collapsed": true
   },
   "outputs": [],
   "source": [
    "weekday = fns.udf(get_weekday, StringType())"
   ]
  },
  {
   "cell_type": "code",
   "execution_count": 47,
   "metadata": {},
   "outputs": [],
   "source": [
    "per_weekday = predictions.select(weekday(predictions.day).alias('weekday'),\n",
    "                                 predictions.prediction.alias('class'))"
   ]
  },
  {
   "cell_type": "code",
   "execution_count": 49,
   "metadata": {},
   "outputs": [
    {
     "name": "stdout",
     "output_type": "stream",
     "text": [
      "+-------+-----+\n",
      "|weekday|class|\n",
      "+-------+-----+\n",
      "|    Sat|    1|\n",
      "|    Thu|    2|\n",
      "|    Sun|    1|\n",
      "|    Fri|    2|\n",
      "|    Thu|    0|\n",
      "+-------+-----+\n",
      "only showing top 5 rows\n",
      "\n"
     ]
    }
   ],
   "source": [
    "per_weekday.show(5)"
   ]
  },
  {
   "cell_type": "markdown",
   "metadata": {},
   "source": [
    "### Visualize"
   ]
  },
  {
   "cell_type": "code",
   "execution_count": 52,
   "metadata": {},
   "outputs": [],
   "source": [
    "day_df = per_weekday.groupBy('class', 'weekday').count().toPandas()"
   ]
  },
  {
   "cell_type": "code",
   "execution_count": 53,
   "metadata": {},
   "outputs": [
    {
     "data": {
      "text/html": [
       "<div>\n",
       "<table border=\"1\" class=\"dataframe\">\n",
       "  <thead>\n",
       "    <tr style=\"text-align: right;\">\n",
       "      <th></th>\n",
       "      <th>class</th>\n",
       "      <th>weekday</th>\n",
       "      <th>count</th>\n",
       "    </tr>\n",
       "  </thead>\n",
       "  <tbody>\n",
       "    <tr>\n",
       "      <th>0</th>\n",
       "      <td>1</td>\n",
       "      <td>Thu</td>\n",
       "      <td>4</td>\n",
       "    </tr>\n",
       "    <tr>\n",
       "      <th>1</th>\n",
       "      <td>0</td>\n",
       "      <td>Wed</td>\n",
       "      <td>39</td>\n",
       "    </tr>\n",
       "    <tr>\n",
       "      <th>2</th>\n",
       "      <td>2</td>\n",
       "      <td>Thu</td>\n",
       "      <td>15</td>\n",
       "    </tr>\n",
       "    <tr>\n",
       "      <th>3</th>\n",
       "      <td>2</td>\n",
       "      <td>Tue</td>\n",
       "      <td>6</td>\n",
       "    </tr>\n",
       "    <tr>\n",
       "      <th>4</th>\n",
       "      <td>2</td>\n",
       "      <td>Mon</td>\n",
       "      <td>7</td>\n",
       "    </tr>\n",
       "  </tbody>\n",
       "</table>\n",
       "</div>"
      ],
      "text/plain": [
       "   class weekday  count\n",
       "0      1     Thu      4\n",
       "1      0     Wed     39\n",
       "2      2     Thu     15\n",
       "3      2     Tue      6\n",
       "4      2     Mon      7"
      ]
     },
     "execution_count": 53,
     "metadata": {},
     "output_type": "execute_result"
    }
   ],
   "source": [
    "day_df.head()"
   ]
  },
  {
   "cell_type": "code",
   "execution_count": 82,
   "metadata": {},
   "outputs": [
    {
     "data": {
      "text/plain": [
       "['Mon', 'Tue', 'Wed', 'Thu', 'Fri', 'Sat', 'Sun']"
      ]
     },
     "execution_count": 82,
     "metadata": {},
     "output_type": "execute_result"
    }
   ],
   "source": [
    "[day_abbr[i] for i in range(7)]"
   ]
  },
  {
   "cell_type": "code",
   "execution_count": 83,
   "metadata": {},
   "outputs": [
    {
     "data": {
      "text/plain": [
       "<matplotlib.axes._subplots.AxesSubplot at 0x106f8d310>"
      ]
     },
     "execution_count": 83,
     "metadata": {},
     "output_type": "execute_result"
    },
    {
     "data": {
      "image/png": "[encoded data removed]",
      "text/plain": [
       "<matplotlib.figure.Figure at 0x1071f26d0>"
      ]
     },
     "metadata": {},
     "output_type": "display_data"
    }
   ],
   "source": [
    "day_df.pivot_table(columns='weekday', values='count', index='class')[[day_abbr[i] for i in range(7)]].plot.bar()"
   ]
  },
  {
   "cell_type": "code",
   "execution_count": 57,
   "metadata": {},
   "outputs": [],
   "source": [
    "per_month = predictions.select(fns.udf(lambda x: month_abbr[x[1]],\n",
    "                                   StringType())(predictions.day).alias('month'),\n",
    "                              predictions.prediction.alias('class'))"
   ]
  },
  {
   "cell_type": "code",
   "execution_count": 58,
   "metadata": {
    "collapsed": true
   },
   "outputs": [],
   "source": [
    "mdf = per_month.groupBy('month', 'class').count().toPandas()"
   ]
  },
  {
   "cell_type": "code",
   "execution_count": 86,
   "metadata": {},
   "outputs": [
    {
     "data": {
      "text/plain": [
       "<matplotlib.legend.Legend at 0x106fb0a10>"
      ]
     },
     "execution_count": 86,
     "metadata": {},
     "output_type": "execute_result"
    },
    {
     "data": {
      "image/png": "[encoded data removed]",
      "text/plain": [
       "<matplotlib.figure.Figure at 0x106fb0d50>"
      ]
     },
     "metadata": {},
     "output_type": "display_data"
    }
   ],
   "source": [
    "mdf.pivot_table(columns='month', index='class', values='count')[[month_abbr[i] for i in range(1, 13)]].plot.bar()\n",
    "plt.legend(bbox_to_anchor=(1,1))"
   ]
  },
  {
   "cell_type": "markdown",
   "metadata": {},
   "source": [
    "## Anomalies\n",
    "\n",
    "We now inspect the distances of each point from the cluster centers to identify anomalous days."
   ]
  },
  {
   "cell_type": "code",
   "execution_count": 62,
   "metadata": {
    "collapsed": true
   },
   "outputs": [],
   "source": [
    "centers = model.clusterCenters()\n",
    "def dist_from_center(x, cluster):\n",
    "    return float((x - centers[cluster]).norm(2))"
   ]
  },
  {
   "cell_type": "code",
   "execution_count": 66,
   "metadata": {},
   "outputs": [],
   "source": [
    "d_udf = fns.udf(dist_from_center, FloatType())"
   ]
  },
  {
   "cell_type": "code",
   "execution_count": 67,
   "metadata": {
    "collapsed": true
   },
   "outputs": [],
   "source": [
    "dists = predictions.select(d_udf(predictions['features'],\n",
    "                                 predictions['prediction']).alias('dist'),\n",
    "                          predictions['day'],\n",
    "                          predictions['prediction'].alias('cluster'))"
   ]
  },
  {
   "cell_type": "code",
   "execution_count": 68,
   "metadata": {},
   "outputs": [
    {
     "name": "stdout",
     "output_type": "stream",
     "text": [
      "+---------+------------+-------+\n",
      "|     dist|         day|cluster|\n",
      "+---------+------------+-------+\n",
      "|27.534004|[2014,10,25]|      1|\n",
      "|29.889078| [2015,1,22]|      2|\n",
      "|32.172504| [2015,6,14]|      1|\n",
      "|   74.816| [2014,12,5]|      2|\n",
      "| 50.23313| [2014,11,6]|      0|\n",
      "+---------+------------+-------+\n",
      "only showing top 5 rows\n",
      "\n"
     ]
    }
   ],
   "source": [
    "dists.show(5)"
   ]
  },
  {
   "cell_type": "markdown",
   "metadata": {},
   "source": [
    "### Collect Stats\n",
    "\n",
    "We'll collect the mean and standard deviation per cluster to compute $z$ values."
   ]
  },
  {
   "cell_type": "code",
   "execution_count": 69,
   "metadata": {
    "collapsed": true
   },
   "outputs": [],
   "source": [
    "dist_stats = dists.groupBy('cluster').agg(fns.stddev_pop('dist').alias('sd'),\n",
    "                                         fns.mean('dist').alias('mu'))"
   ]
  },
  {
   "cell_type": "code",
   "execution_count": 70,
   "metadata": {},
   "outputs": [
    {
     "name": "stdout",
     "output_type": "stream",
     "text": [
      "+-------+------------------+------------------+\n",
      "|cluster|                sd|                mu|\n",
      "+-------+------------------+------------------+\n",
      "|      1|12.128219273447947|33.481062587509804|\n",
      "|      3| 17.12081747981629| 75.04030460781522|\n",
      "|      2|12.379594133162225| 45.19279406620906|\n",
      "|      0| 9.380011877670958| 39.86197157909996|\n",
      "+-------+------------------+------------------+\n",
      "\n"
     ]
    }
   ],
   "source": [
    "dist_stats.show()"
   ]
  },
  {
   "cell_type": "code",
   "execution_count": 73,
   "metadata": {
    "collapsed": true
   },
   "outputs": [],
   "source": [
    "joined = dists.join(dist_stats, dist_stats.cluster == dists.cluster).drop(dists.cluster)"
   ]
  },
  {
   "cell_type": "code",
   "execution_count": 74,
   "metadata": {},
   "outputs": [
    {
     "name": "stdout",
     "output_type": "stream",
     "text": [
      "+---------+------------+-------+------------------+------------------+\n",
      "|     dist|         day|cluster|                sd|                mu|\n",
      "+---------+------------+-------+------------------+------------------+\n",
      "|27.534004|[2014,10,25]|      1|12.128219273447947|33.481062587509804|\n",
      "|29.889078| [2015,1,22]|      2|12.379594133162225| 45.19279406620906|\n",
      "|32.172504| [2015,6,14]|      1|12.128219273447947|33.481062587509804|\n",
      "|   74.816| [2014,12,5]|      2|12.379594133162225| 45.19279406620906|\n",
      "| 50.23313| [2014,11,6]|      0| 9.380011877670958| 39.86197157909996|\n",
      "+---------+------------+-------+------------------+------------------+\n",
      "only showing top 5 rows\n",
      "\n"
     ]
    }
   ],
   "source": [
    "joined.show(5)"
   ]
  },
  {
   "cell_type": "code",
   "execution_count": 76,
   "metadata": {},
   "outputs": [],
   "source": [
    "# calculate z-values\n",
    "z_vals = joined.select(fns.udf(lambda d, mu, sd: (d - mu) / sd, FloatType())(\n",
    "    joined.dist, joined.mu, joined.sd).alias('z'), joined.day, joined.cluster)"
   ]
  },
  {
   "cell_type": "code",
   "execution_count": 77,
   "metadata": {},
   "outputs": [
    {
     "name": "stdout",
     "output_type": "stream",
     "text": [
      "+------------+------------+-------+\n",
      "|           z|         day|cluster|\n",
      "+------------+------------+-------+\n",
      "| -0.49034885|[2014,10,25]|      1|\n",
      "|   -1.236205| [2015,1,22]|      2|\n",
      "|-0.107893676| [2015,6,14]|      1|\n",
      "|   2.3929062| [2014,12,5]|      2|\n",
      "|   1.1056659| [2014,11,6]|      0|\n",
      "+------------+------------+-------+\n",
      "only showing top 5 rows\n",
      "\n"
     ]
    }
   ],
   "source": [
    "z_vals.show(5)"
   ]
  },
  {
   "cell_type": "code",
   "execution_count": 79,
   "metadata": {},
   "outputs": [
    {
     "data": {
      "text/plain": [
       "<matplotlib.axes._subplots.AxesSubplot at 0x106f8da50>"
      ]
     },
     "execution_count": 79,
     "metadata": {},
     "output_type": "execute_result"
    },
    {
     "data": {
      "image/png": "[encoded data removed]",
      "text/plain": [
       "<matplotlib.figure.Figure at 0x106480750>"
      ]
     },
     "metadata": {},
     "output_type": "display_data"
    }
   ],
   "source": [
    "# visualize z-values\n",
    "# Note we don't get any outliers with z > 4\n",
    "z_vals.toPandas().z.plot.hist(bins=30)"
   ]
  },
  {
   "cell_type": "code",
   "execution_count": 80,
   "metadata": {},
   "outputs": [
    {
     "name": "stdout",
     "output_type": "stream",
     "text": [
      "+---------+------------+-------+\n",
      "|        z|         day|cluster|\n",
      "+---------+------------+-------+\n",
      "|3.9503138|  [2015,6,1]|      0|\n",
      "|3.9228203|[2014,10,20]|      0|\n",
      "|3.5701468|[2014,12,11]|      1|\n",
      "|3.2589567|  [2015,3,9]|      2|\n",
      "|3.1451936| [2014,9,25]|      2|\n",
      "+---------+------------+-------+\n",
      "only showing top 5 rows\n",
      "\n"
     ]
    }
   ],
   "source": [
    "# Show the 5 most anomalous days.\n",
    "z_vals.orderBy(z_vals.z.desc()).show(5)"
   ]
  },
  {
   "cell_type": "code",
   "execution_count": null,
   "metadata": {
    "collapsed": true
   },
   "outputs": [],
   "source": []
  }
 ],
 "metadata": {
  "kernelspec": {
   "display_name": "Python 2",
   "language": "python",
   "name": "python2"
  },
  "language_info": {
   "codemirror_mode": {
    "name": "ipython",
    "version": 2
   },
   "file_extension": ".py",
   "mimetype": "text/x-python",
   "name": "python",
   "nbconvert_exporter": "python",
   "pygments_lexer": "ipython2",
   "version": "2.7.13"
  }
 },
 "nbformat": 4,
 "nbformat_minor": 2
}
