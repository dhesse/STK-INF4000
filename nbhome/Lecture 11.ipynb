{
 "cells": [
  {
   "cell_type": "code",
   "execution_count": 1,
   "metadata": {},
   "outputs": [
    {
     "data": {
      "text/plain": [
       "<pyspark.context.SparkContext at 0x109078b10>"
      ]
     },
     "execution_count": 1,
     "metadata": {},
     "output_type": "execute_result"
    }
   ],
   "source": [
    "sc"
   ]
  },
  {
   "cell_type": "markdown",
   "metadata": {},
   "source": [
    "# BABS - Autoregressive Model"
   ]
  },
  {
   "cell_type": "code",
   "execution_count": 2,
   "metadata": {
    "collapsed": true
   },
   "outputs": [],
   "source": [
    "raw_data = sc.textFile('data/201508_trip_data.csv.gz')"
   ]
  },
  {
   "cell_type": "code",
   "execution_count": 3,
   "metadata": {
    "collapsed": true
   },
   "outputs": [],
   "source": [
    "from pyspark.sql import Row"
   ]
  },
  {
   "cell_type": "code",
   "execution_count": 4,
   "metadata": {
    "collapsed": true
   },
   "outputs": [],
   "source": [
    "import numpy as np"
   ]
  },
  {
   "cell_type": "code",
   "execution_count": 5,
   "metadata": {
    "collapsed": true
   },
   "outputs": [],
   "source": [
    "from datetime import datetime, timedelta"
   ]
  },
  {
   "cell_type": "code",
   "execution_count": 6,
   "metadata": {
    "collapsed": true
   },
   "outputs": [],
   "source": [
    "dates = (raw_data\n",
    "         .map(lambda x: x.split(','))\n",
    "         .map(lambda x: x[2]))"
   ]
  },
  {
   "cell_type": "code",
   "execution_count": 7,
   "metadata": {},
   "outputs": [
    {
     "data": {
      "text/plain": [
       "[u'Start Date',\n",
       " u'8/31/2015 23:26',\n",
       " u'8/31/2015 23:11',\n",
       " u'8/31/2015 23:13',\n",
       " u'8/31/2015 23:10']"
      ]
     },
     "execution_count": 7,
     "metadata": {},
     "output_type": "execute_result"
    }
   ],
   "source": [
    "dates.take(5)"
   ]
  },
  {
   "cell_type": "code",
   "execution_count": 8,
   "metadata": {
    "collapsed": true
   },
   "outputs": [],
   "source": [
    "def mdy_hm(datestr):\n",
    "    try:\n",
    "        return datetime.strptime(datestr, '%m/%d/%Y %H:%M')\n",
    "    except ValueError:\n",
    "        return None"
   ]
  },
  {
   "cell_type": "code",
   "execution_count": 11,
   "metadata": {},
   "outputs": [
    {
     "data": {
      "text/plain": [
       "True"
      ]
     },
     "execution_count": 11,
     "metadata": {},
     "output_type": "execute_result"
    }
   ],
   "source": [
    "mdy_hm(u'8/31/201526') == None"
   ]
  },
  {
   "cell_type": "code",
   "execution_count": 12,
   "metadata": {
    "collapsed": true
   },
   "outputs": [],
   "source": [
    "dates = (dates\n",
    "        .map(mdy_hm)\n",
    "        .filter(lambda x: x != None))"
   ]
  },
  {
   "cell_type": "code",
   "execution_count": 13,
   "metadata": {},
   "outputs": [
    {
     "data": {
      "text/plain": [
       "[datetime.datetime(2015, 8, 31, 23, 26),\n",
       " datetime.datetime(2015, 8, 31, 23, 11),\n",
       " datetime.datetime(2015, 8, 31, 23, 13),\n",
       " datetime.datetime(2015, 8, 31, 23, 10),\n",
       " datetime.datetime(2015, 8, 31, 23, 9)]"
      ]
     },
     "execution_count": 13,
     "metadata": {},
     "output_type": "execute_result"
    }
   ],
   "source": [
    "dates.take(5)"
   ]
  },
  {
   "cell_type": "code",
   "execution_count": 15,
   "metadata": {},
   "outputs": [],
   "source": [
    "from operator import add"
   ]
  },
  {
   "cell_type": "code",
   "execution_count": 16,
   "metadata": {
    "collapsed": true
   },
   "outputs": [],
   "source": [
    "whole_hours = dates.map(lambda x: datetime(x.year, x.month, x.day, x.hour))"
   ]
  },
  {
   "cell_type": "code",
   "execution_count": 17,
   "metadata": {},
   "outputs": [
    {
     "data": {
      "text/plain": [
       "[datetime.datetime(2015, 8, 31, 23, 0),\n",
       " datetime.datetime(2015, 8, 31, 23, 0),\n",
       " datetime.datetime(2015, 8, 31, 23, 0),\n",
       " datetime.datetime(2015, 8, 31, 23, 0),\n",
       " datetime.datetime(2015, 8, 31, 23, 0)]"
      ]
     },
     "execution_count": 17,
     "metadata": {},
     "output_type": "execute_result"
    }
   ],
   "source": [
    "whole_hours.take(5)"
   ]
  },
  {
   "cell_type": "code",
   "execution_count": 18,
   "metadata": {
    "collapsed": true
   },
   "outputs": [],
   "source": [
    "hourly_counts = whole_hours.map(lambda x: (x, 1)).reduceByKey(add)"
   ]
  },
  {
   "cell_type": "code",
   "execution_count": 19,
   "metadata": {},
   "outputs": [
    {
     "data": {
      "text/plain": [
       "[(datetime.datetime(2014, 11, 17, 21, 0), 14),\n",
       " (datetime.datetime(2015, 7, 10, 10, 0), 55),\n",
       " (datetime.datetime(2014, 10, 14, 10, 0), 53),\n",
       " (datetime.datetime(2014, 11, 25, 19, 0), 35),\n",
       " (datetime.datetime(2015, 7, 14, 8, 0), 210)]"
      ]
     },
     "execution_count": 19,
     "metadata": {},
     "output_type": "execute_result"
    }
   ],
   "source": [
    "hourly_counts.take(5)"
   ]
  },
  {
   "cell_type": "code",
   "execution_count": 21,
   "metadata": {
    "collapsed": true
   },
   "outputs": [],
   "source": [
    "min_date, max_date = whole_hours.min(), whole_hours.max()"
   ]
  },
  {
   "cell_type": "code",
   "execution_count": 22,
   "metadata": {},
   "outputs": [
    {
     "data": {
      "text/plain": [
       "(datetime.datetime(2014, 9, 1, 0, 0), datetime.datetime(2015, 8, 31, 23, 0))"
      ]
     },
     "execution_count": 22,
     "metadata": {},
     "output_type": "execute_result"
    }
   ],
   "source": [
    "min_date, max_date"
   ]
  },
  {
   "cell_type": "code",
   "execution_count": 23,
   "metadata": {
    "collapsed": true
   },
   "outputs": [],
   "source": [
    "hours = [min_date]\n",
    "while hours[-1] < max_date:\n",
    "    hours.append(hours[-1] + timedelta(hours=1))"
   ]
  },
  {
   "cell_type": "code",
   "execution_count": 24,
   "metadata": {
    "collapsed": true
   },
   "outputs": [],
   "source": [
    "all_hours = sc.parallelize(((d, 0) for d in hours))"
   ]
  },
  {
   "cell_type": "code",
   "execution_count": 25,
   "metadata": {},
   "outputs": [
    {
     "data": {
      "text/plain": [
       "[(datetime.datetime(2014, 9, 1, 0, 0), 0),\n",
       " (datetime.datetime(2014, 9, 1, 1, 0), 0),\n",
       " (datetime.datetime(2014, 9, 1, 2, 0), 0),\n",
       " (datetime.datetime(2014, 9, 1, 3, 0), 0),\n",
       " (datetime.datetime(2014, 9, 1, 4, 0), 0)]"
      ]
     },
     "execution_count": 25,
     "metadata": {},
     "output_type": "execute_result"
    }
   ],
   "source": [
    "all_hours.take(5)"
   ]
  },
  {
   "cell_type": "code",
   "execution_count": 27,
   "metadata": {
    "collapsed": true
   },
   "outputs": [],
   "source": [
    "full_counts = all_hours.leftOuterJoin(hourly_counts)"
   ]
  },
  {
   "cell_type": "code",
   "execution_count": 28,
   "metadata": {},
   "outputs": [
    {
     "data": {
      "text/plain": [
       "[(datetime.datetime(2014, 9, 21, 9, 0), (0, 26)),\n",
       " (datetime.datetime(2015, 3, 30, 21, 0), (0, 22)),\n",
       " (datetime.datetime(2015, 8, 31, 19, 0), (0, 72)),\n",
       " (datetime.datetime(2014, 9, 30, 4, 0), (0, 1)),\n",
       " (datetime.datetime(2015, 3, 12, 0, 0), (0, 5))]"
      ]
     },
     "execution_count": 28,
     "metadata": {},
     "output_type": "execute_result"
    }
   ],
   "source": [
    "full_counts.take(5)"
   ]
  },
  {
   "cell_type": "code",
   "execution_count": 29,
   "metadata": {
    "collapsed": true
   },
   "outputs": [],
   "source": [
    "full_counts = all_hours.leftOuterJoin(hourly_counts).map(lambda (k, v): (k, max(v))).cache()"
   ]
  },
  {
   "cell_type": "code",
   "execution_count": 30,
   "metadata": {},
   "outputs": [
    {
     "data": {
      "text/plain": [
       "[(datetime.datetime(2014, 9, 21, 9, 0), 26),\n",
       " (datetime.datetime(2015, 3, 30, 21, 0), 22),\n",
       " (datetime.datetime(2015, 8, 31, 19, 0), 72),\n",
       " (datetime.datetime(2014, 9, 30, 4, 0), 1),\n",
       " (datetime.datetime(2015, 3, 12, 0, 0), 5)]"
      ]
     },
     "execution_count": 30,
     "metadata": {},
     "output_type": "execute_result"
    }
   ],
   "source": [
    "full_counts.take(5)"
   ]
  },
  {
   "cell_type": "code",
   "execution_count": 31,
   "metadata": {
    "collapsed": true
   },
   "outputs": [],
   "source": [
    "lags = (timedelta(hours=1), timedelta(days=1), timedelta(days=7), timedelta(days=28))"
   ]
  },
  {
   "cell_type": "code",
   "execution_count": 37,
   "metadata": {
    "collapsed": true
   },
   "outputs": [],
   "source": [
    "data = full_counts.map(lambda (d, c): (d, (c,)))"
   ]
  },
  {
   "cell_type": "code",
   "execution_count": 38,
   "metadata": {
    "collapsed": true
   },
   "outputs": [],
   "source": [
    "for lag in lags:\n",
    "    data = (data\n",
    "           .join(full_counts.map(lambda (d, c): (d + lag, c)))\n",
    "           .map(lambda (d, (t, v)): (d, t + (v,))))"
   ]
  },
  {
   "cell_type": "code",
   "execution_count": 39,
   "metadata": {},
   "outputs": [
    {
     "data": {
      "text/plain": [
       "[(datetime.datetime(2015, 5, 11, 7, 0), (88, 35, 8, 107, 99)),\n",
       " (datetime.datetime(2014, 10, 6, 6, 0), (37, 3, 0, 37, 28)),\n",
       " (datetime.datetime(2015, 6, 19, 19, 0), (44, 89, 73, 38, 31)),\n",
       " (datetime.datetime(2015, 2, 8, 20, 0), (10, 5, 10, 12, 3)),\n",
       " (datetime.datetime(2015, 3, 2, 4, 0), (2, 1, 0, 2, 1))]"
      ]
     },
     "execution_count": 39,
     "metadata": {},
     "output_type": "execute_result"
    }
   ],
   "source": [
    "data.take(5)"
   ]
  },
  {
   "cell_type": "code",
   "execution_count": 40,
   "metadata": {
    "collapsed": true
   },
   "outputs": [],
   "source": [
    "from pyspark.ml.linalg import Vectors"
   ]
  },
  {
   "cell_type": "code",
   "execution_count": 41,
   "metadata": {
    "collapsed": true
   },
   "outputs": [],
   "source": [
    "X = spark.createDataFrame(data.map(lambda (d, v): Row(date=d,\n",
    "                                                      features=Vectors.dense(v[1:]),\n",
    "                                                      label=v[0])))"
   ]
  },
  {
   "cell_type": "code",
   "execution_count": 42,
   "metadata": {},
   "outputs": [
    {
     "name": "stdout",
     "output_type": "stream",
     "text": [
      "+--------------------+--------------------+-----+\n",
      "|                date|            features|label|\n",
      "+--------------------+--------------------+-----+\n",
      "|2015-05-11 07:00:...|[35.0,8.0,107.0,9...|   88|\n",
      "|2014-10-06 06:00:...| [3.0,0.0,37.0,28.0]|   37|\n",
      "|2015-06-19 19:00:...|[89.0,73.0,38.0,3...|   44|\n",
      "|2015-02-08 20:00:...| [5.0,10.0,12.0,3.0]|   10|\n",
      "|2015-03-02 04:00:...|   [1.0,0.0,2.0,1.0]|    2|\n",
      "+--------------------+--------------------+-----+\n",
      "only showing top 5 rows\n",
      "\n"
     ]
    }
   ],
   "source": [
    "X.show(5)"
   ]
  },
  {
   "cell_type": "code",
   "execution_count": 43,
   "metadata": {
    "collapsed": true
   },
   "outputs": [],
   "source": [
    "from pyspark.ml.regression import DecisionTreeRegressor"
   ]
  },
  {
   "cell_type": "code",
   "execution_count": 44,
   "metadata": {
    "collapsed": true
   },
   "outputs": [],
   "source": [
    "split_point = datetime(2015, 8, 21)\n",
    "Xtr = X.filter(X.date < split_point)\n",
    "Xte = X.filter(X.date >= split_point)"
   ]
  },
  {
   "cell_type": "code",
   "execution_count": 45,
   "metadata": {
    "collapsed": true
   },
   "outputs": [],
   "source": [
    "depths = range(2, 20, 2)"
   ]
  },
  {
   "cell_type": "code",
   "execution_count": 46,
   "metadata": {
    "collapsed": true
   },
   "outputs": [],
   "source": [
    "models = [DecisionTreeRegressor(maxDepth=d).fit(Xtr) for d in depths]"
   ]
  },
  {
   "cell_type": "code",
   "execution_count": 47,
   "metadata": {
    "collapsed": true
   },
   "outputs": [],
   "source": [
    "p = models[5].transform(Xte)"
   ]
  },
  {
   "cell_type": "code",
   "execution_count": 48,
   "metadata": {},
   "outputs": [
    {
     "name": "stdout",
     "output_type": "stream",
     "text": [
      "+--------------------+--------------------+-----+------------------+\n",
      "|                date|            features|label|        prediction|\n",
      "+--------------------+--------------------+-----+------------------+\n",
      "|2015-08-28 15:00:...|[32.0,73.0,58.0,7...|   63|              59.5|\n",
      "|2015-08-25 06:00:...|[5.0,36.0,28.0,41.0]|   45|              29.5|\n",
      "|2015-08-27 11:00:...|[43.0,51.0,32.0,4...|   67| 40.66086956521739|\n",
      "|2015-08-25 22:00:...|[23.0,14.0,14.0,2...|   15|19.181818181818183|\n",
      "|2015-08-23 09:00:...|[9.0,20.0,28.0,33.0]|   14|           24.0625|\n",
      "+--------------------+--------------------+-----+------------------+\n",
      "only showing top 5 rows\n",
      "\n"
     ]
    }
   ],
   "source": [
    "p.show(5)"
   ]
  },
  {
   "cell_type": "code",
   "execution_count": 49,
   "metadata": {
    "collapsed": true
   },
   "outputs": [],
   "source": [
    "import pyspark.sql.functions as fn"
   ]
  },
  {
   "cell_type": "code",
   "execution_count": 50,
   "metadata": {
    "collapsed": true
   },
   "outputs": [],
   "source": [
    "def get_mse(RDD):\n",
    "    mse_df = RDD.agg(fn.mean((RDD.label - RDD.prediction)**2).alias('mse'))\n",
    "    return mse_df.collect()[0].mse"
   ]
  },
  {
   "cell_type": "code",
   "execution_count": 53,
   "metadata": {
    "collapsed": true
   },
   "outputs": [],
   "source": [
    "mses = [get_mse(model.transform(Xte)) for model in models]"
   ]
  },
  {
   "cell_type": "code",
   "execution_count": 54,
   "metadata": {
    "collapsed": true
   },
   "outputs": [],
   "source": [
    "import matplotlib.pyplot as plt"
   ]
  },
  {
   "cell_type": "code",
   "execution_count": 55,
   "metadata": {
    "collapsed": true
   },
   "outputs": [],
   "source": [
    "%matplotlib inline"
   ]
  },
  {
   "cell_type": "code",
   "execution_count": 56,
   "metadata": {},
   "outputs": [
    {
     "data": {
      "text/plain": [
       "[<matplotlib.lines.Line2D at 0x10b8f4e90>]"
      ]
     },
     "execution_count": 56,
     "metadata": {},
     "output_type": "execute_result"
    },
    {
     "data": {
      "image/png": "[encoded data removed]",
      "text/plain": [
       "<matplotlib.figure.Figure at 0x10b7d5810>"
      ]
     },
     "metadata": {},
     "output_type": "display_data"
    }
   ],
   "source": [
    "plt.plot(depths, mses)"
   ]
  },
  {
   "cell_type": "code",
   "execution_count": 57,
   "metadata": {
    "collapsed": true
   },
   "outputs": [],
   "source": [
    "best_model = models[depths.index(10)]"
   ]
  },
  {
   "cell_type": "code",
   "execution_count": 58,
   "metadata": {
    "collapsed": true
   },
   "outputs": [],
   "source": [
    "df = best_model.transform(Xte).toPandas()"
   ]
  },
  {
   "cell_type": "code",
   "execution_count": 60,
   "metadata": {},
   "outputs": [],
   "source": [
    "df = df.set_index('date').sort_index()"
   ]
  },
  {
   "cell_type": "code",
   "execution_count": 63,
   "metadata": {},
   "outputs": [
    {
     "data": {
      "text/plain": [
       "<matplotlib.axes._subplots.AxesSubplot at 0x10ba36890>"
      ]
     },
     "execution_count": 63,
     "metadata": {},
     "output_type": "execute_result"
    },
    {
     "data": {
      "image/png": "[encoded data removed]",
      "text/plain": [
       "<matplotlib.figure.Figure at 0x10b9da350>"
      ]
     },
     "metadata": {},
     "output_type": "display_data"
    }
   ],
   "source": [
    "df.label.plot()\n",
    "df.prediction.plot()"
   ]
  },
  {
   "cell_type": "code",
   "execution_count": 67,
   "metadata": {
    "collapsed": true
   },
   "outputs": [],
   "source": [
    "df['err'] = df.prediction - df.label"
   ]
  },
  {
   "cell_type": "code",
   "execution_count": 65,
   "metadata": {},
   "outputs": [
    {
     "data": {
      "text/plain": [
       "<matplotlib.axes._subplots.AxesSubplot at 0x10bada910>"
      ]
     },
     "execution_count": 65,
     "metadata": {},
     "output_type": "execute_result"
    },
    {
     "data": {
      "image/png": "[encoded data removed]",
      "text/plain": [
       "<matplotlib.figure.Figure at 0x10bbcd390>"
      ]
     },
     "metadata": {},
     "output_type": "display_data"
    }
   ],
   "source": [
    "df.err.hist()"
   ]
  },
  {
   "cell_type": "code",
   "execution_count": 68,
   "metadata": {
    "collapsed": true
   },
   "outputs": [],
   "source": [
    "df['z'] = df.err / df.err.std()"
   ]
  },
  {
   "cell_type": "code",
   "execution_count": 69,
   "metadata": {},
   "outputs": [
    {
     "data": {
      "text/html": [
       "<div>\n",
       "<table border=\"1\" class=\"dataframe\">\n",
       "  <thead>\n",
       "    <tr style=\"text-align: right;\">\n",
       "      <th></th>\n",
       "      <th>features</th>\n",
       "      <th>label</th>\n",
       "      <th>prediction</th>\n",
       "      <th>err</th>\n",
       "      <th>z</th>\n",
       "    </tr>\n",
       "    <tr>\n",
       "      <th>date</th>\n",
       "      <th></th>\n",
       "      <th></th>\n",
       "      <th></th>\n",
       "      <th></th>\n",
       "      <th></th>\n",
       "    </tr>\n",
       "  </thead>\n",
       "  <tbody>\n",
       "    <tr>\n",
       "      <th>2015-08-21 08:00:00</th>\n",
       "      <td>[99.0, 218.0, 189.0, 166.0]</td>\n",
       "      <td>162</td>\n",
       "      <td>199.714286</td>\n",
       "      <td>37.714286</td>\n",
       "      <td>4.205761</td>\n",
       "    </tr>\n",
       "    <tr>\n",
       "      <th>2015-08-24 16:00:00</th>\n",
       "      <td>[52.0, 17.0, 123.0, 122.0]</td>\n",
       "      <td>124</td>\n",
       "      <td>93.400000</td>\n",
       "      <td>-30.600000</td>\n",
       "      <td>-3.412402</td>\n",
       "    </tr>\n",
       "    <tr>\n",
       "      <th>2015-08-31 17:00:00</th>\n",
       "      <td>[129.0, 19.0, 170.0, 196.0]</td>\n",
       "      <td>194</td>\n",
       "      <td>226.000000</td>\n",
       "      <td>32.000000</td>\n",
       "      <td>3.568524</td>\n",
       "    </tr>\n",
       "  </tbody>\n",
       "</table>\n",
       "</div>"
      ],
      "text/plain": [
       "                                        features  label  prediction  \\\n",
       "date                                                                  \n",
       "2015-08-21 08:00:00  [99.0, 218.0, 189.0, 166.0]    162  199.714286   \n",
       "2015-08-24 16:00:00   [52.0, 17.0, 123.0, 122.0]    124   93.400000   \n",
       "2015-08-31 17:00:00  [129.0, 19.0, 170.0, 196.0]    194  226.000000   \n",
       "\n",
       "                           err         z  \n",
       "date                                      \n",
       "2015-08-21 08:00:00  37.714286  4.205761  \n",
       "2015-08-24 16:00:00 -30.600000 -3.412402  \n",
       "2015-08-31 17:00:00  32.000000  3.568524  "
      ]
     },
     "execution_count": 69,
     "metadata": {},
     "output_type": "execute_result"
    }
   ],
   "source": [
    "df[np.abs(df.z) > 3]"
   ]
  },
  {
   "cell_type": "code",
   "execution_count": 70,
   "metadata": {
    "collapsed": true
   },
   "outputs": [],
   "source": [
    "from pyspark.ml.regression import GBTRegressor"
   ]
  },
  {
   "cell_type": "code",
   "execution_count": null,
   "metadata": {
    "collapsed": true
   },
   "outputs": [],
   "source": [
    ","
   ]
  }
 ],
 "metadata": {
  "kernelspec": {
   "display_name": "Python 2",
   "language": "python",
   "name": "python2"
  },
  "language_info": {
   "codemirror_mode": {
    "name": "ipython",
    "version": 2
   },
   "file_extension": ".py",
   "mimetype": "text/x-python",
   "name": "python",
   "nbconvert_exporter": "python",
   "pygments_lexer": "ipython2",
   "version": "2.7.13"
  }
 },
 "nbformat": 4,
 "nbformat_minor": 2
}
